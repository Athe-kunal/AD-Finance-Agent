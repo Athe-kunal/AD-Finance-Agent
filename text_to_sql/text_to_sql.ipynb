{
 "cells": [
  {
   "cell_type": "code",
   "execution_count": null,
   "metadata": {},
   "outputs": [],
   "source": [
    "#Dependencies\n",
    "!pip install dspy-ai[chromadb] -Uqq\n",
    "!pip install termcolor -Uqq\n",
    "!pip install sqlalchemy -Uqq"
   ]
  },
  {
   "cell_type": "markdown",
   "metadata": {},
   "source": [
    "## AIM OF THE TUTORIAL\n",
    "\n",
    "* Build an end-to-end Text-to-SQL pipeline inspired from this [video](https://www.youtube.com/watch?v=L1o1VPVfbb0&pp=ygUYYWR2YW5jZWQgUkFHIGxsYW1hIGluZGV4) from Llama Index. In Llama Index, they used llama index Query Pipeline to build a Text-to-SQL pipeline. Here, we will build a Text-to-SQL pipeline based on our own dataset and from scratch. We will go from the dataset scraping, to building SQLlite database and using DSPy signatures to implementa a text-to-SQL pipeline\n",
    "\n",
    "## ABOUT THE DATASET\n",
    "* You can find the dataset [here](https://pages.stern.nyu.edu/~adamodar/New_Home_Page/datacurrent.html). The dataset has different industry based different financial metrics like WACC, tax rates, EBITDA, etc. There are multiple regions data `['US', 'Europe', 'Japan', 'AUS_NZ_CANADA', 'Emerging', 'China', 'India', 'Global']` where we have multiple tables for each region. There are nearly 250 tables with multiple columns in each table. We will build a text-to-SQL pipeline based on our own dataset and from scratch, starting from embedding tables schema and rows using ChromDB vector database."
   ]
  },
  {
   "cell_type": "code",
   "execution_count": 1,
   "metadata": {},
   "outputs": [],
   "source": [
    "#imports\n",
    "from bs4 import BeautifulSoup \n",
    "import urllib.request\n",
    "import ssl\n",
    "from dotenv import load_dotenv\n",
    "import openai\n",
    "import os\n",
    "import requests\n",
    "import warnings\n",
    "warnings.filterwarnings(\"ignore\")\n",
    "from tqdm import tqdm\n",
    "import pandas as pd\n",
    "import json\n",
    "from sqlalchemy import (\n",
    "    create_engine,\n",
    "    MetaData,\n",
    "    Table,\n",
    "    Column,\n",
    "    String,\n",
    "    Integer,\n",
    ")\n",
    "import re\n",
    "from sqlalchemy import inspect\n",
    "import sqlalchemy\n",
    "from sqlalchemy import text \n",
    "import dspy\n",
    "from typing import List\n",
    "from termcolor import colored\n",
    "import chromadb"
   ]
  },
  {
   "cell_type": "code",
   "execution_count": 2,
   "metadata": {},
   "outputs": [
    {
     "data": {
      "text/plain": [
       "False"
      ]
     },
     "execution_count": 2,
     "metadata": {},
     "output_type": "execute_result"
    }
   ],
   "source": [
    "from dsp.modules.cache_utils import cache_turn_on\n",
    "\n",
    "cache_turn_on"
   ]
  },
  {
   "cell_type": "markdown",
   "metadata": {},
   "source": [
    "## SCRAPING THE LINKS OF THE EXCEL FILES FROM THE WEBSITE"
   ]
  },
  {
   "cell_type": "code",
   "execution_count": 2,
   "metadata": {},
   "outputs": [],
   "source": [
    "ssl._create_default_https_context = ssl._create_stdlib_context\n",
    "html_link = \"https://pages.stern.nyu.edu/~adamodar/New_Home_Page/datacurrent.html\"\n",
    "\n",
    "with urllib.request.urlopen(html_link) as url:\n",
    "    s = url.read()\n",
    "    # I'm guessing this would output the html source code ?\n",
    "    soup = BeautifulSoup(s,\"lxml\")\n",
    "\n",
    "html_table = soup.find_all(\"table\")\n",
    "req_table = html_table[1]\n",
    "hrefs_list = req_table.find_all('a')"
   ]
  },
  {
   "cell_type": "code",
   "execution_count": 42,
   "metadata": {},
   "outputs": [],
   "source": [
    "req_href = {\"US\":[],\"Europe\":[],\"Japan\":[],\"AUS_NZ_CANADA\":[],\"Emerging\":[],\"China\":[],\"India\":[],\"Global\":[]}\n",
    "\n",
    "for i in hrefs_list:\n",
    "    name = i.get_text().strip()\n",
    "    try:\n",
    "        href_attr = i['href']\n",
    "        # Only get the excel files\n",
    "        if href_attr.endswith('.xls'):\n",
    "            if \"US\" in name:\n",
    "                req_href[\"US\"].append(href_attr)\n",
    "            elif \"Europe\" in name:\n",
    "                req_href[\"Europe\"].append(href_attr)\n",
    "            elif \"Japan\" in name:\n",
    "                req_href[\"Japan\"].append(href_attr)\n",
    "            elif \"Aus\" in name:\n",
    "                req_href['AUS_NZ_CANADA'].append(href_attr)\n",
    "            elif \"Emerging\" in name:\n",
    "                req_href['Emerging'].append(href_attr)\n",
    "            elif \"China\" in name:\n",
    "                req_href['China'].append(href_attr)\n",
    "            elif \"India\" in name:\n",
    "                req_href['India'].append(href_attr)\n",
    "            elif \"Global\" in name: \n",
    "                req_href['Global'].append(href_attr)\n",
    "    except:\n",
    "        pass"
   ]
  },
  {
   "cell_type": "code",
   "execution_count": 93,
   "metadata": {},
   "outputs": [],
   "source": [
    "#Download the excel files from the website and store it in a folder named DATA\n",
    "ssl._create_default_https_context = ssl._create_stdlib_context\n",
    "\n",
    "import os\n",
    "os.makedirs(\"DATA\",exist_ok=True)\n",
    "for country,excel_files in req_href.items():\n",
    "    country_path = os.path.join(\"DATA\",country) \n",
    "    os.makedirs(country_path,exist_ok=True)\n",
    "    for file in excel_files:\n",
    "        file_name = file.split(\"/\")[-1].split(\".\")[0]\n",
    "        full_file_name = os.path.join(country_path,f\"{file_name}.xls\")\n",
    "        resp = requests.get(file,verify=False)\n",
    "        output = open(full_file_name, 'wb')\n",
    "        output.write(resp.content)\n",
    "        output.close()"
   ]
  },
  {
   "cell_type": "code",
   "execution_count": 35,
   "metadata": {},
   "outputs": [
    {
     "name": "stdout",
     "output_type": "stream",
     "text": [
      "FOR Emerging WE HAVE DIRECTORY LEN = 29 and ACTUAL LEN = 29\n",
      "FOR Europe WE HAVE DIRECTORY LEN = 29 and ACTUAL LEN = 29\n",
      "FOR Global WE HAVE DIRECTORY LEN = 29 and ACTUAL LEN = 29\n",
      "FOR AUS_NZ_CANADA WE HAVE DIRECTORY LEN = 29 and ACTUAL LEN = 29\n",
      "FOR China WE HAVE DIRECTORY LEN = 29 and ACTUAL LEN = 29\n",
      "FOR Japan WE HAVE DIRECTORY LEN = 29 and ACTUAL LEN = 29\n",
      "FOR US WE HAVE DIRECTORY LEN = 24 and ACTUAL LEN = 24\n",
      "FOR India WE HAVE DIRECTORY LEN = 29 and ACTUAL LEN = 29\n"
     ]
    }
   ],
   "source": [
    "# Sanity check\n",
    "for country in os.listdir(\"DATA\"):\n",
    "    dir_len = len(os.listdir(os.path.join(\"DATA\",country)))\n",
    "    country_len = len(req_href[country])\n",
    "    print(f'FOR {country} WE HAVE DIRECTORY LEN = {dir_len} and ACTUAL LEN = {country_len}')"
   ]
  },
  {
   "cell_type": "markdown",
   "metadata": {},
   "source": [
    "## CLEANING THE DATASET"
   ]
  },
  {
   "cell_type": "code",
   "execution_count": 73,
   "metadata": {},
   "outputs": [],
   "source": [
    "sample_excel = pd.ExcelFile(\"DATA2/US/capex.xls\")"
   ]
  },
  {
   "cell_type": "code",
   "execution_count": 79,
   "metadata": {},
   "outputs": [
    {
     "data": {
      "text/html": [
       "<div>\n",
       "<style scoped>\n",
       "    .dataframe tbody tr th:only-of-type {\n",
       "        vertical-align: middle;\n",
       "    }\n",
       "\n",
       "    .dataframe tbody tr th {\n",
       "        vertical-align: top;\n",
       "    }\n",
       "\n",
       "    .dataframe thead th {\n",
       "        text-align: right;\n",
       "    }\n",
       "</style>\n",
       "<table border=\"1\" class=\"dataframe\">\n",
       "  <thead>\n",
       "    <tr style=\"text-align: right;\">\n",
       "      <th></th>\n",
       "      <th>End Game</th>\n",
       "      <th>To measure how much companies are reinvesting back into their long term assets, as a prelude to forecasting expected growth.</th>\n",
       "      <th>Unnamed: 2</th>\n",
       "      <th>Unnamed: 3</th>\n",
       "    </tr>\n",
       "  </thead>\n",
       "  <tbody>\n",
       "    <tr>\n",
       "      <th>0</th>\n",
       "      <td>NaN</td>\n",
       "      <td>NaN</td>\n",
       "      <td>NaN</td>\n",
       "      <td>NaN</td>\n",
       "    </tr>\n",
       "    <tr>\n",
       "      <th>1</th>\n",
       "      <td>NaN</td>\n",
       "      <td>NaN</td>\n",
       "      <td>NaN</td>\n",
       "      <td>NaN</td>\n",
       "    </tr>\n",
       "    <tr>\n",
       "      <th>2</th>\n",
       "      <td>Variable</td>\n",
       "      <td>How it is measured</td>\n",
       "      <td>What it measures</td>\n",
       "      <td>Units</td>\n",
       "    </tr>\n",
       "    <tr>\n",
       "      <th>3</th>\n",
       "      <td>Capital Expenditures</td>\n",
       "      <td>Sum of the capital expenditures reported on st...</td>\n",
       "      <td>Gross investment in long term assets, at least...</td>\n",
       "      <td>$ millions</td>\n",
       "    </tr>\n",
       "    <tr>\n",
       "      <th>4</th>\n",
       "      <td>Depreciation</td>\n",
       "      <td>Sum of the depreciation reported on statement ...</td>\n",
       "      <td>Loss in value of assets, from use, as measured...</td>\n",
       "      <td>$ millions</td>\n",
       "    </tr>\n",
       "    <tr>\n",
       "      <th>5</th>\n",
       "      <td>Net Cap Ex</td>\n",
       "      <td>Sum of capital expenditures on statement of ca...</td>\n",
       "      <td>Net investment in long term assets, at least a...</td>\n",
       "      <td>$ millions</td>\n",
       "    </tr>\n",
       "    <tr>\n",
       "      <th>6</th>\n",
       "      <td>Net R&amp;D</td>\n",
       "      <td>Sum of R&amp;D reported as expense in most recent ...</td>\n",
       "      <td>Net investment in long term assets, expanded t...</td>\n",
       "      <td>$ millions</td>\n",
       "    </tr>\n",
       "    <tr>\n",
       "      <th>7</th>\n",
       "      <td>Acquisitions</td>\n",
       "      <td>Sum of acquisitions reported on statement of c...</td>\n",
       "      <td>Augments investment to include acquisition.</td>\n",
       "      <td>$ millions</td>\n",
       "    </tr>\n",
       "  </tbody>\n",
       "</table>\n",
       "</div>"
      ],
      "text/plain": [
       "               End Game  \\\n",
       "0                   NaN   \n",
       "1                   NaN   \n",
       "2              Variable   \n",
       "3  Capital Expenditures   \n",
       "4          Depreciation   \n",
       "5            Net Cap Ex   \n",
       "6               Net R&D   \n",
       "7          Acquisitions   \n",
       "\n",
       "  To measure how much companies are reinvesting back into their long term assets, as a prelude to forecasting expected growth.  \\\n",
       "0                                                NaN                                                                             \n",
       "1                                                NaN                                                                             \n",
       "2                                 How it is measured                                                                             \n",
       "3  Sum of the capital expenditures reported on st...                                                                             \n",
       "4  Sum of the depreciation reported on statement ...                                                                             \n",
       "5  Sum of capital expenditures on statement of ca...                                                                             \n",
       "6  Sum of R&D reported as expense in most recent ...                                                                             \n",
       "7  Sum of acquisitions reported on statement of c...                                                                             \n",
       "\n",
       "                                          Unnamed: 2  Unnamed: 3  \n",
       "0                                                NaN         NaN  \n",
       "1                                                NaN         NaN  \n",
       "2                                   What it measures       Units  \n",
       "3  Gross investment in long term assets, at least...  $ millions  \n",
       "4  Loss in value of assets, from use, as measured...  $ millions  \n",
       "5  Net investment in long term assets, at least a...  $ millions  \n",
       "6  Net investment in long term assets, expanded t...  $ millions  \n",
       "7        Augments investment to include acquisition.  $ millions  "
      ]
     },
     "execution_count": 79,
     "metadata": {},
     "output_type": "execute_result"
    }
   ],
   "source": [
    "sn = 'Variables & FAQ'\n",
    "sample_excel.parse(sn).head(10)"
   ]
  },
  {
   "cell_type": "code",
   "execution_count": 78,
   "metadata": {},
   "outputs": [
    {
     "data": {
      "text/html": [
       "<div>\n",
       "<style scoped>\n",
       "    .dataframe tbody tr th:only-of-type {\n",
       "        vertical-align: middle;\n",
       "    }\n",
       "\n",
       "    .dataframe tbody tr th {\n",
       "        vertical-align: top;\n",
       "    }\n",
       "\n",
       "    .dataframe thead th {\n",
       "        text-align: right;\n",
       "    }\n",
       "</style>\n",
       "<table border=\"1\" class=\"dataframe\">\n",
       "  <thead>\n",
       "    <tr style=\"text-align: right;\">\n",
       "      <th></th>\n",
       "      <th>Date updated:</th>\n",
       "      <th>2024-01-05 00:00:00</th>\n",
       "      <th>Unnamed: 2</th>\n",
       "      <th>Unnamed: 3</th>\n",
       "      <th>Unnamed: 4</th>\n",
       "      <th>Unnamed: 5</th>\n",
       "      <th>Unnamed: 6</th>\n",
       "      <th>Unnamed: 7</th>\n",
       "      <th>Unnamed: 8</th>\n",
       "      <th>Unnamed: 9</th>\n",
       "    </tr>\n",
       "  </thead>\n",
       "  <tbody>\n",
       "    <tr>\n",
       "      <th>0</th>\n",
       "      <td>Created by:</td>\n",
       "      <td>Aswath Damodaran, adamodar@stern.nyu.edu</td>\n",
       "      <td>NaN</td>\n",
       "      <td>NaN</td>\n",
       "      <td>NaN</td>\n",
       "      <td>NaN</td>\n",
       "      <td>NaN</td>\n",
       "      <td>NaN</td>\n",
       "      <td>NaN</td>\n",
       "      <td>NaN</td>\n",
       "    </tr>\n",
       "    <tr>\n",
       "      <th>1</th>\n",
       "      <td>What is this data?</td>\n",
       "      <td>Capital Expenditures, Acquisitions and R&amp;D and...</td>\n",
       "      <td>NaN</td>\n",
       "      <td>NaN</td>\n",
       "      <td>NaN</td>\n",
       "      <td>US companies</td>\n",
       "      <td>NaN</td>\n",
       "      <td>NaN</td>\n",
       "      <td>NaN</td>\n",
       "      <td>NaN</td>\n",
       "    </tr>\n",
       "    <tr>\n",
       "      <th>2</th>\n",
       "      <td>Home Page:</td>\n",
       "      <td>http://www.damodaran.com</td>\n",
       "      <td>NaN</td>\n",
       "      <td>NaN</td>\n",
       "      <td>NaN</td>\n",
       "      <td>NaN</td>\n",
       "      <td>NaN</td>\n",
       "      <td>NaN</td>\n",
       "      <td>NaN</td>\n",
       "      <td>NaN</td>\n",
       "    </tr>\n",
       "    <tr>\n",
       "      <th>3</th>\n",
       "      <td>Data website:</td>\n",
       "      <td>https://pages.stern.nyu.edu/~adamodar/New_Home...</td>\n",
       "      <td>NaN</td>\n",
       "      <td>NaN</td>\n",
       "      <td>NaN</td>\n",
       "      <td>NaN</td>\n",
       "      <td>NaN</td>\n",
       "      <td>NaN</td>\n",
       "      <td>NaN</td>\n",
       "      <td>NaN</td>\n",
       "    </tr>\n",
       "    <tr>\n",
       "      <th>4</th>\n",
       "      <td>Companies in each industry:</td>\n",
       "      <td>https://pages.stern.nyu.edu/~adamodar/pc/datas...</td>\n",
       "      <td>NaN</td>\n",
       "      <td>NaN</td>\n",
       "      <td>NaN</td>\n",
       "      <td>NaN</td>\n",
       "      <td>NaN</td>\n",
       "      <td>NaN</td>\n",
       "      <td>NaN</td>\n",
       "      <td>NaN</td>\n",
       "    </tr>\n",
       "    <tr>\n",
       "      <th>5</th>\n",
       "      <td>Variable definitions:</td>\n",
       "      <td>https://pages.stern.nyu.edu/~adamodar/New_Home...</td>\n",
       "      <td>NaN</td>\n",
       "      <td>NaN</td>\n",
       "      <td>NaN</td>\n",
       "      <td>NaN</td>\n",
       "      <td>NaN</td>\n",
       "      <td>NaN</td>\n",
       "      <td>NaN</td>\n",
       "      <td>NaN</td>\n",
       "    </tr>\n",
       "    <tr>\n",
       "      <th>6</th>\n",
       "      <td>Industry Name</td>\n",
       "      <td>Number of Firms</td>\n",
       "      <td>Capital Expenditures (US $ millions)</td>\n",
       "      <td>Depreciation &amp; Amort ((US $ millions)</td>\n",
       "      <td>Cap Ex/Deprecn</td>\n",
       "      <td>Acquisitions (US $ millions)</td>\n",
       "      <td>Net R&amp;D (US $ millions)</td>\n",
       "      <td>Net Cap Ex/Sales</td>\n",
       "      <td>Net Cap Ex/ EBIT (1-t)</td>\n",
       "      <td>Sales/ Invested Capital (LTM)</td>\n",
       "    </tr>\n",
       "    <tr>\n",
       "      <th>7</th>\n",
       "      <td>Advertising</td>\n",
       "      <td>57</td>\n",
       "      <td>775.729</td>\n",
       "      <td>1887.338</td>\n",
       "      <td>0.411018</td>\n",
       "      <td>322.559</td>\n",
       "      <td>75.08</td>\n",
       "      <td>-0.016886</td>\n",
       "      <td>-0.21812</td>\n",
       "      <td>3.283403</td>\n",
       "    </tr>\n",
       "    <tr>\n",
       "      <th>8</th>\n",
       "      <td>Aerospace/Defense</td>\n",
       "      <td>70</td>\n",
       "      <td>10982.128</td>\n",
       "      <td>13311.598</td>\n",
       "      <td>0.825004</td>\n",
       "      <td>10344.75</td>\n",
       "      <td>830.4634</td>\n",
       "      <td>0.022829</td>\n",
       "      <td>0.318077</td>\n",
       "      <td>1.98434</td>\n",
       "    </tr>\n",
       "    <tr>\n",
       "      <th>9</th>\n",
       "      <td>Air Transport</td>\n",
       "      <td>25</td>\n",
       "      <td>25559.725</td>\n",
       "      <td>10609.948</td>\n",
       "      <td>2.409034</td>\n",
       "      <td>368.21</td>\n",
       "      <td>73.5486</td>\n",
       "      <td>0.067203</td>\n",
       "      <td>1.355173</td>\n",
       "      <td>1.77732</td>\n",
       "    </tr>\n",
       "  </tbody>\n",
       "</table>\n",
       "</div>"
      ],
      "text/plain": [
       "                 Date updated:  \\\n",
       "0                  Created by:   \n",
       "1           What is this data?   \n",
       "2                   Home Page:   \n",
       "3                Data website:   \n",
       "4  Companies in each industry:   \n",
       "5        Variable definitions:   \n",
       "6                Industry Name   \n",
       "7                  Advertising   \n",
       "8            Aerospace/Defense   \n",
       "9                Air Transport   \n",
       "\n",
       "                                 2024-01-05 00:00:00  \\\n",
       "0           Aswath Damodaran, adamodar@stern.nyu.edu   \n",
       "1  Capital Expenditures, Acquisitions and R&D and...   \n",
       "2                           http://www.damodaran.com   \n",
       "3  https://pages.stern.nyu.edu/~adamodar/New_Home...   \n",
       "4  https://pages.stern.nyu.edu/~adamodar/pc/datas...   \n",
       "5  https://pages.stern.nyu.edu/~adamodar/New_Home...   \n",
       "6                                    Number of Firms   \n",
       "7                                                 57   \n",
       "8                                                 70   \n",
       "9                                                 25   \n",
       "\n",
       "                             Unnamed: 2  \\\n",
       "0                                   NaN   \n",
       "1                                   NaN   \n",
       "2                                   NaN   \n",
       "3                                   NaN   \n",
       "4                                   NaN   \n",
       "5                                   NaN   \n",
       "6  Capital Expenditures (US $ millions)   \n",
       "7                               775.729   \n",
       "8                             10982.128   \n",
       "9                             25559.725   \n",
       "\n",
       "                              Unnamed: 3      Unnamed: 4  \\\n",
       "0                                    NaN             NaN   \n",
       "1                                    NaN             NaN   \n",
       "2                                    NaN             NaN   \n",
       "3                                    NaN             NaN   \n",
       "4                                    NaN             NaN   \n",
       "5                                    NaN             NaN   \n",
       "6  Depreciation & Amort ((US $ millions)  Cap Ex/Deprecn   \n",
       "7                               1887.338        0.411018   \n",
       "8                              13311.598        0.825004   \n",
       "9                              10609.948        2.409034   \n",
       "\n",
       "                     Unnamed: 5               Unnamed: 6        Unnamed: 7  \\\n",
       "0                           NaN                      NaN               NaN   \n",
       "1                  US companies                      NaN               NaN   \n",
       "2                           NaN                      NaN               NaN   \n",
       "3                           NaN                      NaN               NaN   \n",
       "4                           NaN                      NaN               NaN   \n",
       "5                           NaN                      NaN               NaN   \n",
       "6  Acquisitions (US $ millions)  Net R&D (US $ millions)  Net Cap Ex/Sales   \n",
       "7                       322.559                    75.08         -0.016886   \n",
       "8                      10344.75                 830.4634          0.022829   \n",
       "9                        368.21                  73.5486          0.067203   \n",
       "\n",
       "               Unnamed: 8                     Unnamed: 9  \n",
       "0                     NaN                            NaN  \n",
       "1                     NaN                            NaN  \n",
       "2                     NaN                            NaN  \n",
       "3                     NaN                            NaN  \n",
       "4                     NaN                            NaN  \n",
       "5                     NaN                            NaN  \n",
       "6  Net Cap Ex/ EBIT (1-t)  Sales/ Invested Capital (LTM)  \n",
       "7                -0.21812                       3.283403  \n",
       "8                0.318077                        1.98434  \n",
       "9                1.355173                        1.77732  "
      ]
     },
     "execution_count": 78,
     "metadata": {},
     "output_type": "execute_result"
    }
   ],
   "source": [
    "sample_excel.parse(sample_excel.sheet_names[1]).head(10)"
   ]
  },
  {
   "cell_type": "markdown",
   "metadata": {},
   "source": [
    "* In the dataset above, there are two sheets. The first sheet is the variables and summary, and the second sheet is the table with the data. \n",
    "* We will clean the first sheet to get the table name and summary"
   ]
  },
  {
   "cell_type": "code",
   "execution_count": 38,
   "metadata": {},
   "outputs": [
    {
     "name": "stdout",
     "output_type": "stream",
     "text": [
      "Emerging\n"
     ]
    },
    {
     "name": "stderr",
     "output_type": "stream",
     "text": [
      "100%|██████████| 29/29 [00:00<00:00, 86.52it/s]\n"
     ]
    },
    {
     "name": "stdout",
     "output_type": "stream",
     "text": [
      "Europe\n"
     ]
    },
    {
     "name": "stderr",
     "output_type": "stream",
     "text": [
      "100%|██████████| 29/29 [00:00<00:00, 94.75it/s]\n"
     ]
    },
    {
     "name": "stdout",
     "output_type": "stream",
     "text": [
      "Global\n"
     ]
    },
    {
     "name": "stderr",
     "output_type": "stream",
     "text": [
      "100%|██████████| 29/29 [00:00<00:00, 102.75it/s]\n"
     ]
    },
    {
     "name": "stdout",
     "output_type": "stream",
     "text": [
      "AUS_NZ_CANADA\n"
     ]
    },
    {
     "name": "stderr",
     "output_type": "stream",
     "text": [
      "100%|██████████| 29/29 [00:00<00:00, 104.23it/s]\n"
     ]
    },
    {
     "name": "stdout",
     "output_type": "stream",
     "text": [
      "China\n"
     ]
    },
    {
     "name": "stderr",
     "output_type": "stream",
     "text": [
      "100%|██████████| 29/29 [00:00<00:00, 103.50it/s]\n"
     ]
    },
    {
     "name": "stdout",
     "output_type": "stream",
     "text": [
      "Japan\n"
     ]
    },
    {
     "name": "stderr",
     "output_type": "stream",
     "text": [
      "100%|██████████| 29/29 [00:00<00:00, 66.34it/s] \n"
     ]
    },
    {
     "name": "stdout",
     "output_type": "stream",
     "text": [
      "US\n"
     ]
    },
    {
     "name": "stderr",
     "output_type": "stream",
     "text": [
      "100%|██████████| 24/24 [00:00<00:00, 102.91it/s]\n"
     ]
    },
    {
     "name": "stdout",
     "output_type": "stream",
     "text": [
      "India\n"
     ]
    },
    {
     "name": "stderr",
     "output_type": "stream",
     "text": [
      "100%|██████████| 29/29 [00:00<00:00, 100.35it/s]\n"
     ]
    }
   ],
   "source": [
    "import pandas as pd\n",
    "from tqdm import tqdm\n",
    "import json\n",
    "pd.set_option('display.max_rows', 50)\n",
    "\n",
    "def sanitize_column_name(col_name):\n",
    "    # Remove special characters and replace spaces with underscores\n",
    "    return re.sub(r\"\\W+\", \"_\", col_name)\n",
    "\n",
    "dir = \"DATA\"\n",
    "processed_dir = \"Processed Data\"\n",
    "all_infos_dict = []\n",
    "os.makedirs(processed_dir,exist_ok=True)\n",
    "for country in os.listdir(dir):\n",
    "    print(country)\n",
    "    file_name = os.path.join(dir,country)\n",
    "    os.makedirs(os.path.join(processed_dir,country),exist_ok=True)\n",
    "    os.makedirs(file_name,exist_ok=True)\n",
    "    for excel_file in tqdm(os.listdir(file_name)):\n",
    "        full_file_name = os.path.join(file_name,excel_file)\n",
    "        xls = pd.ExcelFile(full_file_name)\n",
    "        sns = xls.sheet_names\n",
    "        for sheet_name in sns:\n",
    "            if \"Var\" in sheet_name or \"var\" in sheet_name:\n",
    "                info_df = xls.parse(sheet_name)\n",
    "                info_df.dropna(how=\"all\",inplace=True)\n",
    "                info_dict = {}\n",
    "                for cols in info_df.columns:\n",
    "                    if \"End\" not in cols and 'Unnamed' not in cols:\n",
    "                        info_dict['Summary'] = cols\n",
    "                info_dict['Vars'] = info_df.values[1:].tolist()\n",
    "                all_infos_dict.append(info_dict)\n",
    "            elif \"Industry\" in sheet_name or \"industry\" in sheet_name:\n",
    "                data_df = xls.parse(sheet_name)\n",
    "        try:\n",
    "            data_df.dropna(axis=1,thresh=5,inplace=True)\n",
    "            data_df.dropna(inplace=True)\n",
    "            new_header = data_df.iloc[0] #grab the first row for the header\n",
    "        except:\n",
    "            print(full_file_name)\n",
    "            print(data_df)\n",
    "        data_df = data_df[1:] #take the data less the header row\n",
    "        data_df.reset_index(inplace=True,drop=True)\n",
    "        new_header = [sanitize_column_name(str(col)) for col in new_header]\n",
    "        data_df.columns = new_header #set the header row as the df header\n",
    "        save_name = full_file_name.split(\".\")[0].split(\"/\")[-1]\n",
    "        save_file_path = os.path.join(os.path.join(processed_dir,country),save_name)\n",
    "        data_df.to_csv(save_file_path+\".csv\",index=False)\n",
    "        with open(save_file_path+\".json\", \"w\") as outfile: \n",
    "            json.dump(info_dict, outfile)"
   ]
  },
  {
   "cell_type": "markdown",
   "metadata": {},
   "source": [
    "## A SAMPLE METADATA JSON"
   ]
  },
  {
   "cell_type": "code",
   "execution_count": 196,
   "metadata": {},
   "outputs": [
    {
     "data": {
      "text/plain": [
       "{'Summary': 'Measures of accounting returns, to all claim holders (and from operations)',\n",
       " 'Vars': [['Number of firms',\n",
       "   'Number of firms in the industry grouping.',\n",
       "   'Law of large numbers?'],\n",
       "  ['R&D Capitalized',\n",
       "   'My estimate of R&D capitalization, based upon a 5-year straight line amortization period, aggregated across firms in the group',\n",
       "   'Capitalized value of R&D gets added on to book equity and to invested capital'],\n",
       "  ['Capitalized R&D as percent of invested capital',\n",
       "   'My R&D capitalization estimate, as a percent of invested capital including that number, based upon aggregated values across firms',\n",
       "   'Magnitude of investment in R&D, relative to investment in more traditional capital expenditures.'],\n",
       "  ['R&D -LTM',\n",
       "   'Aggregated R&D expenses across the last twelve months, across companies in the group.',\n",
       "   'Spending on R&D in most recent year'],\n",
       "  ['R&D: Years minus 1 to minus 5',\n",
       "   'Aggregated R&D expenses for each of the previous five years, across companies in the group.',\n",
       "   'Sepnding on R&D over last five years']]}"
      ]
     },
     "execution_count": 196,
     "metadata": {},
     "output_type": "execute_result"
    }
   ],
   "source": [
    "all_infos_dict[0]"
   ]
  },
  {
   "cell_type": "markdown",
   "metadata": {},
   "source": [
    "## DATAFRAME AFTER PREPROCESSING"
   ]
  },
  {
   "cell_type": "code",
   "execution_count": 197,
   "metadata": {},
   "outputs": [
    {
     "data": {
      "text/html": [
       "<div>\n",
       "<style scoped>\n",
       "    .dataframe tbody tr th:only-of-type {\n",
       "        vertical-align: middle;\n",
       "    }\n",
       "\n",
       "    .dataframe tbody tr th {\n",
       "        vertical-align: top;\n",
       "    }\n",
       "\n",
       "    .dataframe thead th {\n",
       "        text-align: right;\n",
       "    }\n",
       "</style>\n",
       "<table border=\"1\" class=\"dataframe\">\n",
       "  <thead>\n",
       "    <tr style=\"text-align: right;\">\n",
       "      <th></th>\n",
       "      <th>Industry_Name</th>\n",
       "      <th>Number_of_Firms</th>\n",
       "      <th>Capital_Expenditures_(US_$_millions)</th>\n",
       "      <th>Depreciation_&amp;_Amort_((US_$_millions)</th>\n",
       "      <th>Cap_Ex/Deprecn</th>\n",
       "      <th>Acquisitions_(US_$_millions)</th>\n",
       "      <th>Net_R&amp;D_(US_$_millions)</th>\n",
       "      <th>Net_Cap_Ex/Sales</th>\n",
       "      <th>Net_Cap_Ex/_EBIT_(1-t)</th>\n",
       "      <th>Sales/_Invested_Capital_(LTM)</th>\n",
       "    </tr>\n",
       "  </thead>\n",
       "  <tbody>\n",
       "    <tr>\n",
       "      <th>0</th>\n",
       "      <td>Advertising</td>\n",
       "      <td>57</td>\n",
       "      <td>775.729</td>\n",
       "      <td>1887.338</td>\n",
       "      <td>0.411018</td>\n",
       "      <td>322.559</td>\n",
       "      <td>75.0800</td>\n",
       "      <td>-0.016886</td>\n",
       "      <td>-0.218120</td>\n",
       "      <td>3.283403</td>\n",
       "    </tr>\n",
       "    <tr>\n",
       "      <th>1</th>\n",
       "      <td>Aerospace/Defense</td>\n",
       "      <td>70</td>\n",
       "      <td>10982.128</td>\n",
       "      <td>13311.598</td>\n",
       "      <td>0.825004</td>\n",
       "      <td>10344.750</td>\n",
       "      <td>830.4634</td>\n",
       "      <td>0.022829</td>\n",
       "      <td>0.318077</td>\n",
       "      <td>1.984340</td>\n",
       "    </tr>\n",
       "    <tr>\n",
       "      <th>2</th>\n",
       "      <td>Air Transport</td>\n",
       "      <td>25</td>\n",
       "      <td>25559.725</td>\n",
       "      <td>10609.948</td>\n",
       "      <td>2.409034</td>\n",
       "      <td>368.210</td>\n",
       "      <td>73.5486</td>\n",
       "      <td>0.067203</td>\n",
       "      <td>1.355173</td>\n",
       "      <td>1.777320</td>\n",
       "    </tr>\n",
       "    <tr>\n",
       "      <th>3</th>\n",
       "      <td>Apparel</td>\n",
       "      <td>38</td>\n",
       "      <td>1730.981</td>\n",
       "      <td>1386.480</td>\n",
       "      <td>1.248472</td>\n",
       "      <td>38.739</td>\n",
       "      <td>0.9474</td>\n",
       "      <td>0.005365</td>\n",
       "      <td>0.072557</td>\n",
       "      <td>1.773076</td>\n",
       "    </tr>\n",
       "    <tr>\n",
       "      <th>4</th>\n",
       "      <td>Auto &amp; Truck</td>\n",
       "      <td>34</td>\n",
       "      <td>29899.486</td>\n",
       "      <td>18677.668</td>\n",
       "      <td>1.600815</td>\n",
       "      <td>193.220</td>\n",
       "      <td>983.0696</td>\n",
       "      <td>0.026577</td>\n",
       "      <td>0.675918</td>\n",
       "      <td>1.048732</td>\n",
       "    </tr>\n",
       "  </tbody>\n",
       "</table>\n",
       "</div>"
      ],
      "text/plain": [
       "       Industry_Name  Number_of_Firms  Capital_Expenditures_(US_$_millions)  \\\n",
       "0        Advertising               57                               775.729   \n",
       "1  Aerospace/Defense               70                             10982.128   \n",
       "2      Air Transport               25                             25559.725   \n",
       "3            Apparel               38                              1730.981   \n",
       "4       Auto & Truck               34                             29899.486   \n",
       "\n",
       "   Depreciation_&_Amort_((US_$_millions)  Cap_Ex/Deprecn  \\\n",
       "0                               1887.338        0.411018   \n",
       "1                              13311.598        0.825004   \n",
       "2                              10609.948        2.409034   \n",
       "3                               1386.480        1.248472   \n",
       "4                              18677.668        1.600815   \n",
       "\n",
       "   Acquisitions_(US_$_millions)  Net_R&D_(US_$_millions)  Net_Cap_Ex/Sales  \\\n",
       "0                       322.559                  75.0800         -0.016886   \n",
       "1                     10344.750                 830.4634          0.022829   \n",
       "2                       368.210                  73.5486          0.067203   \n",
       "3                        38.739                   0.9474          0.005365   \n",
       "4                       193.220                 983.0696          0.026577   \n",
       "\n",
       "   Net_Cap_Ex/_EBIT_(1-t)  Sales/_Invested_Capital_(LTM)  \n",
       "0               -0.218120                       3.283403  \n",
       "1                0.318077                       1.984340  \n",
       "2                1.355173                       1.777320  \n",
       "3                0.072557                       1.773076  \n",
       "4                0.675918                       1.048732  "
      ]
     },
     "execution_count": 197,
     "metadata": {},
     "output_type": "execute_result"
    }
   ],
   "source": [
    "df = pd.read_csv(\"Processed Data/US/capex.csv\")\n",
    "df.head()"
   ]
  },
  {
   "cell_type": "markdown",
   "metadata": {},
   "source": [
    "## BUILD TABLE NAMES AND METADATA\n",
    "\n",
    "* Here we use a DSPy signature given the first 10 rows of the dataframe, we generate the table name and table explanation. It will help us to dynamically select the correct table based on the query."
   ]
  },
  {
   "cell_type": "code",
   "execution_count": 199,
   "metadata": {},
   "outputs": [
    {
     "data": {
      "text/plain": [
       "',Industry_Name,Number_of_Firms,Capital_Expenditures_(US_$_millions),Depreciation_&_Amort_((US_$_millions),Cap_Ex/Deprecn,Acquisitions_(US_$_millions),Net_R&D_(US_$_millions),Net_Cap_Ex/Sales,Net_Cap_Ex/_EBIT_(1-t),Sales/_Invested_Capital_(LTM)\\n0,Advertising,57,775.729,1887.338,0.4110175283918408,322.559,75.07999999999993,-0.0168860862168837,-0.2181203933865563,3.283403041333076\\n1,Aerospace/Defense,70,10982.128,13311.597999999998,0.8250044810547916,10344.749999999998,830.4633999999933,0.0228292321038578,0.318077061754813,1.9843395804666923\\n2,Air Transport,25,25559.725,10609.948,2.4090339556800844,368.21,73.5486000000019,0.0672027546276203,1.3551729988499104,1.7773199625336142\\n3,Apparel,38,1730.9809999999998,1386.4799999999996,1.2484716692631703,38.739,0.9473999999991064,0.0053650838666078,0.0725567415076527,1.7730762352050575\\n4,Auto & Truck,34,29899.486,18677.668,1.6008147269776931,193.22,983.0695999999988,0.0265766732899557,0.6759175844836917,1.048731678622114\\n5,Auto Parts,39,3565.4210000000007,2034.471,1.7525051966825778,1061.7600000000002,454.9352000000008,0.0316936036463534,0.8398185079860373,2.004790963758861\\n6,Beverage (Alcoholic),19,2244.8160000000007,864.0629999999999,2.59797723082692,1370.0,0.0,0.0939030584900288,0.6367443614850201,0.8968231153352131\\n7,Beverage (Soft),29,7926.687000000001,4543.389,1.7446639501922463,674.6669999999999,7.705600000001141,0.0238699281532688,0.1517545513863501,1.6931990505110932\\n8,Broadcasting,22,1837.548,3387.6400000000003,0.5424271764414165,43.856,0.2399999999997817,-0.0206121524427381,-0.2104150803584717,1.1159893806472496\\n9,Brokerage & Investment Banking,27,7783.945999999999,4646.382,1.675270350134793,876.0999999999999,-189.38079999999945,0.0167661627913481,3.4298253908840737,0.2794992243703733\\n'"
      ]
     },
     "execution_count": 199,
     "metadata": {},
     "output_type": "execute_result"
    }
   ],
   "source": [
    "df.head(10).to_csv()"
   ]
  },
  {
   "cell_type": "code",
   "execution_count": 23,
   "metadata": {},
   "outputs": [],
   "source": [
    "load_dotenv(override=True)\n",
    "openai.api_key = os.environ['OPENAI_API_KEY']"
   ]
  },
  {
   "cell_type": "code",
   "execution_count": 24,
   "metadata": {},
   "outputs": [],
   "source": [
    "import dspy\n",
    "turbo = dspy.OpenAI(model='gpt-3.5-turbo-instruct', max_tokens=250)\n",
    "dspy.settings.configure(lm=turbo)\n",
    "\n",
    "class SQLTableMetadata(dspy.Signature):\n",
    "    \"\"\"Give a suitable table name and description about the given table\"\"\"\n",
    "    pandas_dataframe_str = dspy.InputField(desc=\"First 10 rows of a pandas dataframe delimited by newline character\")\n",
    "    table_name = dspy.OutputField(desc=\"suitable table name\")\n",
    "    table_summary = dspy.OutputField(desc=\"a summary about the table\")\n",
    "\n",
    "class CoT(dspy.Module):\n",
    "    def __init__(self):\n",
    "        super().__init__()\n",
    "        self.prog = dspy.ChainOfThought(SQLTableMetadata)\n",
    "    \n",
    "    def forward(self, pandas_dataframe_str):\n",
    "        return self.prog(pandas_dataframe_str=pandas_dataframe_str)\n",
    "\n",
    "cot = CoT()\n",
    "\n",
    "# cot(pandas_dataframe_str = df.head(10).to_csv())\n"
   ]
  },
  {
   "cell_type": "code",
   "execution_count": 40,
   "metadata": {},
   "outputs": [],
   "source": [
    "processed_dir = \"Processed Data\"\n",
    "dfs_str = []\n",
    "for country in os.listdir(processed_dir):\n",
    "    country_folder = os.path.join(processed_dir,country)\n",
    "    # print(f\"{country}\")\n",
    "    for files in tqdm(os.listdir(country_folder),desc=f\"Building the summary and name for {country}\"):\n",
    "        if files.endswith(\".csv\"):\n",
    "            file_name = files.split(\".\")[0]\n",
    "            csv_file_path = os.path.join(country_folder,files)\n",
    "            df = pd.read_csv(csv_file_path,index_col=False)\n",
    "            json_file_path = os.path.join(country_folder,f\"{file_name}.json\")\n",
    "            with open(json_file_path,'r') as f:\n",
    "                data = json.loads(f.read())\n",
    "            if 'table_name' in data and 'table_summary' in data:\n",
    "                # if data['table_name'] == \"\" or data['table_summary'] == \"\":\n",
    "                if data['table_summary'] == \"\":\n",
    "                    pass\n",
    "                else:\n",
    "                    continue\n",
    "            dfs_str.append(df.head(10).to_csv())\n",
    "            table_preds = cot(pandas_dataframe_str = df.head(10).to_csv())\n",
    "            data['table_name'] = table_preds.table_name\n",
    "            data['table_summary'] = table_preds.table_summary\n",
    "            with open(json_file_path,'w') as f:\n",
    "                json.dump(data, f)"
   ]
  },
  {
   "cell_type": "markdown",
   "metadata": {},
   "source": [
    "## NEXT TASKS\n",
    "1. Build database with each region for each table\n",
    "2. Embed the table summary and table SCHEMA. Also, embed the table rows\n",
    "3. Retrieval at table level and embed the rows to retrieve relevant rows from the retrieved schema of table\n",
    "4. Text-to-SQL pipeline"
   ]
  },
  {
   "cell_type": "markdown",
   "metadata": {},
   "source": [
    "## BUILD THE SQLITE DATABASE FROM THE CSV FILES\n",
    "\n",
    "It was taken from the [tutorial](https://docs.llamaindex.ai/en/stable/examples/pipeline/query_pipeline_sql/)"
   ]
  },
  {
   "cell_type": "code",
   "execution_count": 3,
   "metadata": {},
   "outputs": [],
   "source": [
    "# Function to create a sanitized column name\n",
    "def sanitize_column_name(col_name):\n",
    "    # Remove special characters and replace spaces with underscores\n",
    "    return re.sub(r\"\\W+\", \"_\", col_name)\n",
    "\n",
    "\n",
    "# Function to create a table from a DataFrame using SQLAlchemy\n",
    "def create_table_from_dataframe(\n",
    "    df: pd.DataFrame, table_name: str, engine, metadata_obj\n",
    "):\n",
    "    # Sanitize column names\n",
    "    sanitized_columns = {col: sanitize_column_name(col) for col in df.columns}\n",
    "    df = df.rename(columns=sanitized_columns)\n",
    "\n",
    "    # Dynamically create columns based on DataFrame columns and data types\n",
    "    columns = [\n",
    "        Column(col, String if dtype == \"object\" else Integer)\n",
    "        for col, dtype in zip(df.columns, df.dtypes)\n",
    "    ]\n",
    "\n",
    "    # Create a table with the defined columns\n",
    "    table = Table(table_name, metadata_obj, *columns)\n",
    "\n",
    "    # Create the table in the database\n",
    "    metadata_obj.create_all(engine)\n",
    "\n",
    "    # Insert data from DataFrame into the table\n",
    "    with engine.connect() as conn:\n",
    "        for _, row in df.iterrows():\n",
    "            insert_stmt = table.insert().values(**row.to_dict())\n",
    "            conn.execute(insert_stmt)\n",
    "        conn.commit()"
   ]
  },
  {
   "cell_type": "markdown",
   "metadata": {},
   "source": [
    "## DATABASE FOR US"
   ]
  },
  {
   "cell_type": "code",
   "execution_count": 4,
   "metadata": {},
   "outputs": [],
   "source": [
    "processed_dir  = \"Processed Data\"\n",
    "def sqlalchemy_engine(region:str):\n",
    "    \"\"\"Create a SQLAlchemy engine for the given region\"\"\"\n",
    "    assert region in os.listdir(processed_dir), f\"{region} is not a valid region from {os.listdir(processed_dir)}\"\n",
    "    # Create a SQLAlchemy database for each region\n",
    "    engine = create_engine(f\"sqlite:///{region}.db\")\n",
    "    metadata_obj = MetaData()\n",
    "    region_path = os.path.join(processed_dir,region)\n",
    "    dfs = []\n",
    "    for dataframes_path in os.listdir(region_path):\n",
    "        if dataframes_path.endswith(\".csv\"):\n",
    "            df = pd.read_csv(os.path.join(region_path,dataframes_path),index_col=False)\n",
    "            dfs.append((dataframes_path,df))\n",
    "    pbar = tqdm(total=len(dfs),desc=f\"Creating tables for {region}\")\n",
    "    for _, df_table_name in enumerate(dfs):\n",
    "        table_name = df_table_name[0]\n",
    "        table_name = table_name.split(\".\")[0]\n",
    "        df = df_table_name[1]\n",
    "        # print(f\"Creating table: {table_name}\")\n",
    "        create_table_from_dataframe(df,table_name, engine, metadata_obj)\n",
    "        # print(f\"Done creating table for: {table_name}\")\n",
    "        pbar.update(1)\n",
    "    return engine"
   ]
  },
  {
   "cell_type": "code",
   "execution_count": 5,
   "metadata": {},
   "outputs": [
    {
     "name": "stderr",
     "output_type": "stream",
     "text": [
      "Creating tables for US:   0%|          | 0/24 [00:00<?, ?it/s]"
     ]
    },
    {
     "name": "stderr",
     "output_type": "stream",
     "text": [
      "Creating tables for US: 100%|██████████| 24/24 [00:00<00:00, 33.50it/s]\n",
      "Creating tables for India: 100%|██████████| 29/29 [00:00<00:00, 33.09it/s]\n",
      "Creating tables for China: 100%|██████████| 29/29 [00:01<00:00, 28.87it/s]\n",
      "Creating tables for Europe: 100%|██████████| 29/29 [00:00<00:00, 32.34it/s]\n",
      "Creating tables for Global: 100%|██████████| 29/29 [00:00<00:00, 31.53it/s]\n",
      "Creating tables for AUS_NZ_CANADA: 100%|██████████| 29/29 [00:00<00:00, 29.60it/s]\n",
      "Creating tables for Japan: 100%|██████████| 29/29 [00:00<00:00, 34.36it/s]\n",
      "Creating tables for Emerging: 100%|██████████| 29/29 [00:00<00:00, 33.11it/s]\n"
     ]
    }
   ],
   "source": [
    "us_engine = sqlalchemy_engine(\"US\")\n",
    "india_engine = sqlalchemy_engine(\"India\")\n",
    "china_engine = sqlalchemy_engine(\"China\")\n",
    "europe_engine = sqlalchemy_engine(\"Europe\")\n",
    "global_engine = sqlalchemy_engine(\"Global\")\n",
    "aus_nz_canada_engine = sqlalchemy_engine(\"AUS_NZ_CANADA\")\n",
    "japan_engine = sqlalchemy_engine(\"Japan\")\n",
    "emerging_engine = sqlalchemy_engine(\"Emerging\")"
   ]
  },
  {
   "cell_type": "code",
   "execution_count": 6,
   "metadata": {},
   "outputs": [],
   "source": [
    "def get_table_infos(sql_engine:sqlalchemy.engine.base.Engine,region:str):\n",
    "    \"\"\"Get all the tables info in the database based on the given region\"\"\"\n",
    "    inspector = inspect(sql_engine)\n",
    "    table_names = inspector.get_table_names()\n",
    "    table_infos_dict = {tb: [] for tb in table_names}\n",
    "    for tb in table_names:\n",
    "        column_dict = inspector.get_columns(tb)\n",
    "        schema_str = \"\"\n",
    "        primary_keys = []\n",
    "        for col in column_dict:\n",
    "            schema_str += f\"{col['name']} ({col['type']}), \"\n",
    "            if col[\"primary_key\"] not in primary_keys:\n",
    "                primary_keys.append(col[\"name\"])\n",
    "        with open(os.path.join(processed_dir,region,f\"{tb}.json\")) as f:\n",
    "            table_info = json.loads(f.read())\n",
    "        table_infos_dict[tb] = [\n",
    "            {\n",
    "                \"table_info\": f\"Table {tb} has columns: {schema_str[:-2]}\",\n",
    "                \"table_summary\": f'{table_info[\"Summary\"]}. {table_info[\"table_summary\"]}. ',\n",
    "            }\n",
    "        ]\n",
    "    return table_infos_dict"
   ]
  },
  {
   "cell_type": "code",
   "execution_count": 7,
   "metadata": {},
   "outputs": [],
   "source": [
    "us_tb_dict = get_table_infos(us_engine,\"US\")\n",
    "india_tb_dict = get_table_infos(india_engine,\"India\")\n",
    "china_tb_dict = get_table_infos(china_engine,\"China\")\n",
    "europe_tb_dict = get_table_infos(europe_engine,\"Europe\")\n",
    "global_tb_dict = get_table_infos(global_engine,\"Global\")\n",
    "aus_nz_canada_tb_dict = get_table_infos(aus_nz_canada_engine,\"AUS_NZ_CANADA\")\n",
    "japan_tb_dict = get_table_infos(japan_engine,\"Japan\")\n",
    "emerging_tb_dict = get_table_infos(emerging_engine,\"Emerging\")"
   ]
  },
  {
   "cell_type": "code",
   "execution_count": 8,
   "metadata": {},
   "outputs": [
    {
     "data": {
      "text/plain": [
       "[{'table_info': 'Table DollarUS has columns: Industry_Name (VARCHAR), Number_of_firms (INTEGER), Average_Company_Age_years_ (INTEGER), Market_Cap_millions_ (INTEGER), Book_Equity_millions_ (INTEGER), Enteprise_Value_millions_ (INTEGER), Invested_Capital_millions_ (INTEGER), Total_Debt_including_leases_millions_ (INTEGER), Revenues_millions_ (INTEGER), Gross_Profit_millions_ (INTEGER), EBITDA_millions_ (INTEGER), EBIT_Operating_Income_millions_ (INTEGER), Net_Income_millions_ (INTEGER)',\n",
       "  'table_summary': 'To report aggregated dollar value of key operating and marker numbers, by industry group, in millions of US $.. This table contains financial information about various industries such as their names, number of firms, average company age, market cap, book equity, enterprise value, invested capital, total debt, revenues, gross profit, EBITDA, EBIT, and net income. The data is delimited by a newline character and can be used for comparison and analysis of the financial performance of different industries.. '}]"
      ]
     },
     "execution_count": 8,
     "metadata": {},
     "output_type": "execute_result"
    }
   ],
   "source": [
    "us_tb_dict['DollarUS']"
   ]
  },
  {
   "cell_type": "markdown",
   "metadata": {},
   "source": [
    "## EMBEDDINGS\n",
    "\n",
    "1. Embed the table summary and table SCHEMA to get the table that the user is looking for\n",
    "2. Embed the table rows for each table, so as to get relevant rows from the retrieved table "
   ]
  },
  {
   "cell_type": "markdown",
   "metadata": {},
   "source": [
    "## EMBED THE TABLE SUMMARY AND TABLE SCHEMA"
   ]
  },
  {
   "cell_type": "code",
   "execution_count": 9,
   "metadata": {},
   "outputs": [],
   "source": [
    "import chromadb\n",
    "import chromadb.utils.embedding_functions as embedding_functions\n",
    "from chromadb.utils.batch_utils import create_batches\n",
    "\n",
    "load_dotenv(override=True)\n",
    "emb_fn = embedding_functions.OpenAIEmbeddingFunction(\n",
    "                api_key=os.environ['OPENAI_API_KEY'],\n",
    "                model_name=\"text-embedding-3-small\")\n",
    "# EMBEDDING_MODEL = \"mixedbread-ai/mxbai-embed-large-v1\"\n",
    "# emb_fn = embedding_functions.HuggingFaceEmbeddingFunction(model_name=EMBEDDING_MODEL,api_key=os.environ[\"HF_API_KEY\"])\n",
    "def embed_table_info(region:str,tb_dict):\n",
    "    \"\"\"Embed the table summary and table SCHEMA to get the table that the user is looking for\"\"\"\n",
    "    client = chromadb.PersistentClient(path=f\"{region}_TABLE\")\n",
    "\n",
    "    table_collection = client.create_collection(name=\"table\",embedding_function=emb_fn)\n",
    "\n",
    "    table_docs = []\n",
    "    table_metadata = []\n",
    "\n",
    "\n",
    "    for table_name,table_data in tb_dict.items():\n",
    "        table_docs.append(table_data[0]['table_info'] + \". \" + table_data[0]['table_summary'])\n",
    "        table_metadata.append({\"table_name\":table_name,'table_metadata':table_data[0]['table_info']})\n",
    "    table_ids = [f\"id{i}\" for i in range(len(table_docs))]\n",
    "    assert len(table_docs) == len(table_metadata)\n",
    "    print(len(table_docs),len(table_metadata))\n",
    "    # Create a batch of data to be sent to OpenAI Embedding API\n",
    "    batches = create_batches(api=client,ids=table_ids, documents=table_docs, metadatas=table_metadata)\n",
    "    for batch in tqdm(batches,desc=\"Embedding table info\"):\n",
    "        table_collection.add(ids=batch[0],\n",
    "                    documents=batch[3],\n",
    "                    metadatas=batch[2])\n",
    "\n",
    "# embed_table_info(\"US\",us_tb_dict)"
   ]
  },
  {
   "cell_type": "markdown",
   "metadata": {},
   "source": [
    "## For some strange reason, the `create_batches` was not batching the below documents, hence I had to do it manually"
   ]
  },
  {
   "cell_type": "code",
   "execution_count": 10,
   "metadata": {},
   "outputs": [],
   "source": [
    "\n",
    "def embed_rows(region:str,batch_size:int=24):\n",
    "    client = chromadb.PersistentClient(path=f\"{region}_TABLE\")\n",
    "    # client.delete_collection(name=\"rows\")\n",
    "    rows_collection = client.create_collection(name=\"rows\",embedding_function=emb_fn)\n",
    "\n",
    "    rows_docs = []\n",
    "    rows_metadata = []\n",
    "    region_path = os.path.join(processed_dir,region)\n",
    "    for df_path in os.listdir(region_path):\n",
    "        df_full_path = os.path.join(region_path,df_path)\n",
    "        df = pd.read_csv(df_full_path,index_col=False)\n",
    "        for idx,row in df.iterrows():\n",
    "            row_str = \"\"\n",
    "            full_rows = []\n",
    "            for rv in row.values:\n",
    "                if isinstance(rv,str):\n",
    "                    row_str+= rv + \", \"\n",
    "                full_rows.append(str(rv))\n",
    "                row_str = row_str.replace('\"',\"\")\n",
    "                # row_str = row_str.replace(\"'\",'\"')\n",
    "            full_rows_str = \", \".join(full_rows)[:-2]\n",
    "            full_rows_str = full_rows_str.replace('\"',\"\")\n",
    "            rows_docs.append(row_str[:-2])\n",
    "            rows_metadata.append({\"table_name\":df_path.split(\".\")[0],\"region\":region,\"index\":idx,\"full_rows\":full_rows_str})\n",
    "    row_ids = [f\"id{i}\" for i in range(len(rows_docs))]\n",
    "    # print(len(rows_docs),len(rows_metadata))\n",
    "    assert len(rows_docs) == len(rows_metadata) == len(row_ids)\n",
    "    # return rows_docs,rows_metadata,row_ids\n",
    "    for start in tqdm(range(0,len(rows_docs),batch_size),desc=\"Embedding rows\"):\n",
    "        end = min(start+batch_size,len(rows_docs))\n",
    "        batch_ids = row_ids[start:end]\n",
    "        batch_rows = rows_docs[start:end]\n",
    "        batch_metadatas = rows_metadata[start:end]\n",
    "        rows_collection.add(ids=batch_ids,\n",
    "                    documents=batch_rows,\n",
    "                    metadatas=batch_metadatas)\n",
    "    # return batches"
   ]
  },
  {
   "cell_type": "code",
   "execution_count": 40,
   "metadata": {},
   "outputs": [
    {
     "name": "stderr",
     "output_type": "stream",
     "text": [
      "Embedding rows: 100%|██████████| 2/2 [00:04<00:00,  2.44s/it]\n"
     ]
    }
   ],
   "source": [
    "region = \"US\"\n",
    "embed_table_info(region,us_tb_dict)\n",
    "embed_rows(region,2000)"
   ]
  },
  {
   "cell_type": "code",
   "execution_count": 41,
   "metadata": {},
   "outputs": [
    {
     "name": "stderr",
     "output_type": "stream",
     "text": [
      "Embedding rows: 100%|██████████| 2/2 [00:05<00:00,  2.61s/it]\n"
     ]
    }
   ],
   "source": [
    "region = \"India\"\n",
    "embed_table_info(region,india_tb_dict)\n",
    "embed_rows(region,2000)"
   ]
  },
  {
   "cell_type": "code",
   "execution_count": 42,
   "metadata": {},
   "outputs": [
    {
     "name": "stderr",
     "output_type": "stream",
     "text": [
      "Embedding rows: 100%|██████████| 2/2 [00:25<00:00, 12.86s/it]\n"
     ]
    }
   ],
   "source": [
    "region = \"China\"\n",
    "embed_table_info(region,china_tb_dict)\n",
    "embed_rows(region,2000)"
   ]
  },
  {
   "cell_type": "code",
   "execution_count": 43,
   "metadata": {},
   "outputs": [
    {
     "name": "stderr",
     "output_type": "stream",
     "text": [
      "Embedding rows: 100%|██████████| 3/3 [00:26<00:00,  8.89s/it]\n"
     ]
    }
   ],
   "source": [
    "region = \"Europe\"\n",
    "embed_table_info(region,europe_tb_dict)\n",
    "embed_rows(region,1000)"
   ]
  },
  {
   "cell_type": "code",
   "execution_count": 44,
   "metadata": {},
   "outputs": [
    {
     "name": "stderr",
     "output_type": "stream",
     "text": [
      "Embedding rows: 100%|██████████| 2/2 [00:25<00:00, 12.69s/it]\n"
     ]
    }
   ],
   "source": [
    "region = \"Global\"\n",
    "embed_table_info(region,global_tb_dict)\n",
    "embed_rows(region,2000)"
   ]
  },
  {
   "cell_type": "code",
   "execution_count": 45,
   "metadata": {},
   "outputs": [
    {
     "name": "stderr",
     "output_type": "stream",
     "text": [
      "Embedding rows: 100%|██████████| 2/2 [00:25<00:00, 12.61s/it]\n"
     ]
    }
   ],
   "source": [
    "region = \"Emerging\"\n",
    "embed_table_info(region,emerging_tb_dict)\n",
    "embed_rows(region,2000)"
   ]
  },
  {
   "cell_type": "code",
   "execution_count": 46,
   "metadata": {},
   "outputs": [
    {
     "name": "stderr",
     "output_type": "stream",
     "text": [
      "Embedding rows: 100%|██████████| 2/2 [00:45<00:00, 22.99s/it]\n"
     ]
    }
   ],
   "source": [
    "region = \"Japan\"\n",
    "embed_table_info(region,japan_tb_dict)\n",
    "embed_rows(region,2000)"
   ]
  },
  {
   "cell_type": "code",
   "execution_count": 48,
   "metadata": {},
   "outputs": [
    {
     "name": "stderr",
     "output_type": "stream",
     "text": [
      "Embedding rows: 100%|██████████| 2/2 [00:25<00:00, 12.68s/it]\n"
     ]
    }
   ],
   "source": [
    "region = \"AUS_NZ_CANADA\"\n",
    "embed_table_info(region,aus_nz_canada_tb_dict)\n",
    "embed_rows(region,2000)"
   ]
  },
  {
   "cell_type": "markdown",
   "metadata": {},
   "source": [
    "## TEXT-TO-SQL PIPELINE"
   ]
  },
  {
   "cell_type": "markdown",
   "metadata": {},
   "source": [
    "### LOAD DATABASE"
   ]
  },
  {
   "cell_type": "code",
   "execution_count": 11,
   "metadata": {},
   "outputs": [],
   "source": [
    "db_dict = {\n",
    "    \"US\":us_engine,\n",
    "    \"India\":india_engine,\n",
    "    \"China\":china_engine,\n",
    "    \"Europe\":europe_engine,\n",
    "    \"Global\":global_engine,\n",
    "    \"AUS_NZ_CANADA\":aus_nz_canada_engine,\n",
    "    \"Japan\":japan_engine,\n",
    "    \"Emerging\":emerging_engine,\n",
    "}\n",
    "\n",
    "def get_collections_db(region:str):\n",
    "    # Get the database for the given region, table collection and row collection\n",
    "    client = chromadb.PersistentClient(path=f\"{region}_TABLE\")\n",
    "    table_collection = client.get_collection(name=\"table\",embedding_function=emb_fn)\n",
    "    row_collection = client.get_collection(name=\"rows\",embedding_function=emb_fn)\n",
    "    return [db_dict[region],table_collection,row_collection]"
   ]
  },
  {
   "cell_type": "code",
   "execution_count": 12,
   "metadata": {},
   "outputs": [],
   "source": [
    "db_collection_dict = {\n",
    "    \"US\":get_collections_db(\"US\"),\n",
    "    \"India\":get_collections_db(\"India\"),\n",
    "    \"China\":get_collections_db(\"China\"),\n",
    "    \"Europe\":get_collections_db(\"Europe\"),\n",
    "    \"Global\":get_collections_db(\"Global\"),\n",
    "    \"AUS_NZ_CANADA\":get_collections_db(\"AUS_NZ_CANADA\"),\n",
    "    \"Japan\":get_collections_db(\"Japan\"),\n",
    "    \"Emerging\":get_collections_db(\"Emerging\"),\n",
    "}"
   ]
  },
  {
   "cell_type": "code",
   "execution_count": 13,
   "metadata": {},
   "outputs": [],
   "source": [
    "load_dotenv(override=True)\n",
    "text_to_sql = dspy.OpenAI(model='gpt-3.5-turbo', max_tokens=1024)\n",
    "sql_to_answer = dspy.OpenAI(model='gpt-3.5-turbo',max_tokens=1024)\n",
    "\n",
    "# DSPy signature for converting text to SQL query\n",
    "class TextToSQLAnswer(dspy.Signature):\n",
    "    \"\"\"Convert natural language text to SQL using suitable schema(s) from multiple schema choices\"\"\"\n",
    "\n",
    "    question:str = dspy.InputField(desc=\"natural language input which will be converted to SQL\")\n",
    "    relevant_table_schemas_rows:str = dspy.InputField(desc=\"Multiple possible tables which has table name and corresponding columns, along with relevant rows from the table (values in the same order as columns above)\")\n",
    "    sql:str = dspy.OutputField(desc=\"Generate syntactically correct sqlite query with correct column names using suitable tables(s) and its rows.\\n Don't forget to add distinct.\\n Please rename the returned columns into suitable names.\\n DON'T OUTPUT anything else other than the sqlite query\")\n",
    "\n",
    "# DSPy signature for converting SQL query and question to natural language text\n",
    "class SQLReturnToAnswer(dspy.Signature):\n",
    "    \"\"\"Answer the question using the rows from the SQL query\"\"\"\n",
    "    question:str = dspy.InputField()\n",
    "    sql:str = dspy.InputField(desc=\"sqlite query that generated the rows\")\n",
    "    relevant_rows:str = dspy.InputField(desc=\"relevant rows to answer the question\")\n",
    "    answer:str = dspy.OutputField(desc=\"answer to the question using relevant rows and the sql query\")\n",
    "\n",
    "# If there is an SQLError, then rectify the error by trying again\n",
    "class SQLRectifier(dspy.Signature):\n",
    "    \"\"\"Correct the SQL query to resolve the error using the proper table names, columns and rows\"\"\"  \n",
    "    input_sql:str = dspy.InputField(desc=\"sqlite query that needs to be fixed\")\n",
    "    error_str: str = dspy.InputField(desc=\"error that needs to be resolved\")\n",
    "    relevant_table_schemas_rows:str = dspy.InputField(desc=\"Multiple possible tables which has table name and corresponding columns, along with relevant rows from the table (values in the same order as columns above)\")\n",
    "    sql:str = dspy.OutputField(desc=\"corrected sqlite query to resolve the error and remove and any invalid syntax in the query.\\n Don't output anything else other than the sqlite query\")\n",
    "\n",
    "dspy.settings.configure(lm=text_to_sql)\n",
    "\n",
    "# Filter out the SQL Query\n",
    "def process_sql_str(sql_str:str):\n",
    "    sql_str = sql_str.replace(\"```\",\"\")\n",
    "    sql_str = sql_str.replace(\"sql\",\"\")\n",
    "    sql_str = sql_str.strip()\n",
    "    return sql_str"
   ]
  },
  {
   "cell_type": "markdown",
   "metadata": {},
   "source": [
    "<p align=\"center\">\n",
    "  <img src=\"https://raw.githubusercontent.com/Athe-kunal/Text-to-SQL/main/Schema.png\" alt=\"Sublime's custom image\"/>\n",
    "</p>"
   ]
  },
  {
   "cell_type": "code",
   "execution_count": 16,
   "metadata": {},
   "outputs": [
    {
     "name": "stdout",
     "output_type": "stream",
     "text": [
      "['Table vebitdaEurope has columns: Industry_Name (VARCHAR), Number_of_firms (INTEGER), EV_EBITDAR_D (INTEGER), EV_EBITDA (INTEGER), EV_EBIT (INTEGER), EV_EBIT_1_t_ (INTEGER), EV_EBITDAR_D_1 (INTEGER), EV_EBITDA_1 (INTEGER), EV_EBIT_1 (INTEGER), EV_EBIT_1_t__1 (INTEGER). To measure the market value of the operating assets of firms, relative to operating fundamentals.. This table contains information about different industries and their financial metrics, including EV/EBITDAR&D, EV/EBITDA, EV/EBIT, and EV/EBIT_(1-t) ratios for both the current and previous year. It allows for easy comparison and analysis of these metrics across industries.', 'Table EVAEurope has columns: Industry_Name (VARCHAR), Number_of_Firms (INTEGER), Beta (INTEGER), ROE (INTEGER), Cost_of_Equity (INTEGER), _ROE_COE_ (INTEGER), BV_of_Equity (INTEGER), Equity_EVA (INTEGER), ROC (INTEGER), Cost_of_Capital (INTEGER), _ROC_WACC_ (INTEGER), BV_of_Capital (INTEGER), EVA (INTEGER), E_D_E_ (INTEGER), Std_Dev_in_Stock (INTEGER), Cost_of_Debt (INTEGER), Tax_Rate (INTEGER), After_tax_Cost_of_Debt (INTEGER), D_D_E_ (INTEGER). To estimate how much firms earn on their investments, relative to what they need to earn to break even, given the risk.. This table contains financial information for various industries, including industry name, number of firms, beta, return on equity (ROE), cost of equity, book value of equity, equity economic value added (EVA), return on capital (ROC), cost of capital, book value of capital, EVA, debt-to-equity ratio, standard deviation in stock, cost of debt, tax rate, after-tax cost of debt, and debt-to-capital ratio. It can be used to analyze the financial performance of different industries and', 'Table DollarEurope has columns: Industry_Name (VARCHAR), Number_of_firms (INTEGER), Average_Company_Age_years_ (INTEGER), Market_Cap_millions_ (INTEGER), Book_Equity_millions_ (INTEGER), Enteprise_Value_millions_ (INTEGER), Invested_Capital_millions_ (INTEGER), Total_Debt_including_leases_millions_ (INTEGER), Revenues_millions_ (INTEGER), Gross_Profit_millions_ (INTEGER), EBITDA_millions_ (INTEGER), EBIT_Operating_Income_millions_ (INTEGER), Net_Income_millions_ (INTEGER). To report aggregated dollar value of key operating and marker numbers, by industry group, in millions of US $.. This table provides a summary of the financial performance of various industries, including the number of firms, average company age, market cap, book equity, enterprise value, invested capital, total debt, revenues, gross profit, EBITDA, EBIT, and net income. It can be used for comparison and analysis of different industries.', 'Table marginEurope has columns: Industry_Name (VARCHAR), Number_of_firms (INTEGER), Gross_Margin (INTEGER), Net_Margin (INTEGER), Pre_tax_Pre_stock_compensation_Operating_Margin (INTEGER), Pre_tax_Unadjusted_Operating_Margin (INTEGER), After_tax_Unadjusted_Operating_Margin (INTEGER), Pre_tax_Lease_adjusted_Margin (INTEGER), After_tax_Lease_Adjusted_Margin (INTEGER), Pre_tax_Lease_R_D_adj_Margin (INTEGER), After_tax_Lease_R_D_adj_Margin (INTEGER), EBITDA_Sales (INTEGER), EBITDASG_A_Sales (INTEGER), EBITDAR_D_Sales (INTEGER), COGS_Sales (INTEGER), R_D_Sales (INTEGER), SG_A_Sales (INTEGER), Stock_Based_Compensation_Sales (INTEGER), Lease_Expense_Sales (INTEGER). Measures of profitability and costs, by industry. This table contains financial information for various industries, including gross margin, net margin, operating margin, EBITDA/sales, COGS/sales, and more. The data is delimited by a newline character, making it easy to read and analyze. This table can be used to compare the financial performance of different industries and identify trends and patterns.', 'Table dbtfundEurope has columns: Industry_Name (VARCHAR), Number_of_firms (INTEGER), Book_Debt_to_Capital (INTEGER), Market_Debt_to_Capital_Unadjusted_ (INTEGER), Market_D_E_unadjusted_ (INTEGER), Market_Debt_to_Capital_adjusted_for_leases_ (INTEGER), Market_D_E_adjusted_for_leases_ (INTEGER), Interest_Coverage_Ratio (INTEGER), Debt_to_EBITDA (INTEGER), Effective_tax_rate (INTEGER), Institutional_Holdings (INTEGER), Std_dev_in_Stock_Prices (INTEGER), EBITDA_EV (INTEGER), Net_PP_E_Total_Assets (INTEGER), Capital_Spending_Total_Assets (INTEGER). To estimate how much debt companies have used in funding, and some of the fundamentals driving that debt choice. . This table contains financial metrics for various industries, including the number of firms, debt to capital ratios, interest coverage ratios, tax rates, institutional holdings, and other financial metrics. It is organized by industry, making it easy to compare and analyze the financial health of different industries. This table can be used by investors, analysts, and researchers to gain insights into the financial performance of different industries.', 'Table betaEurope has columns: Industry_Name (VARCHAR), Number_of_firms (INTEGER), Beta_ (INTEGER), D_E_Ratio (INTEGER), Effective_Tax_rate (INTEGER), Unlevered_beta (INTEGER), Cash_Firm_value (INTEGER), Unlevered_beta_corrected_for_cash (INTEGER), HiLo_Risk (INTEGER), Standard_deviation_of_equity (INTEGER), Standard_deviation_in_operating_income_last_10_years_ (INTEGER), 2020 (INTEGER), 2021_0 (INTEGER), 2022_0 (INTEGER), 2022_0_1 (INTEGER), Average_2020_24 (INTEGER). To estimate ratios of market values (equity and firm) to book value (equity and firm), with companion variables (ROE and ROC). A summary of financial information for various industries, including industry name, number of firms, and various financial metrics such as beta, debt-to-equity ratio, and effective tax rate. The table also includes projected values for the years 2020-2022, allowing for analysis and comparison of financial performance across industries.', 'Table capexEurope has columns: Industry_Name (VARCHAR), Number_of_Firms (INTEGER), Capital_Expenditures_US_millions_ (INTEGER), Depreciation_Amort_US_millions_ (INTEGER), Cap_Ex_Deprecn (INTEGER), Acquisitions_US_millions_ (INTEGER), Net_R_D_US_millions_ (INTEGER), Net_Cap_Ex_Sales (INTEGER), Net_Cap_Ex_EBIT_1_t_ (INTEGER), Sales_Invested_Capital_LTM_ (INTEGER). To measure how much companies are reinvesting back into their long term assets, as a prelude to forecasting expected growth.. A summary of financial performance metrics for various industries, including capital expenditures, acquisitions, net R&D, and sales to invested capital ratio. This table can be used for comparison and analysis by investors, analysts, and researchers.', \"Table finflowsEurope has columns: Industry_Name (VARCHAR), Number_of_Firms (INTEGER), Dividends_in_millions (INTEGER), Buybacks_in_millions (INTEGER), Equity_Issuance_in_millions (INTEGER), Net_Equity_Change_in_millions (INTEGER), Net_Equity_Change_as_of_Book_Equity (INTEGER), Debt_Repaid_in_millions (INTEGER), Debt_Raised_in_millions (INTEGER), Net_Debt_Change_in_millions (INTEGER), Net_Change_in_Debt_as_of_Total_Debt (INTEGER), Change_in_Lease_Debt_in_millions (INTEGER). To estimate the sustainable growth rate in earnings per share for a firm, if margins and ROE are stable. If margins are changing, these fundamental growth rates don't apply.. A summary of financial activities for various industries, including number of firms, dividends, buybacks, equity issuance, net equity change, debt repayment, debt raised, net debt change, change in debt as a percentage of total debt, and change in lease debt.\", 'Table divfcfeEurope has columns: Industry_name (VARCHAR), Number_of_firms (INTEGER), _Dividends_ (INTEGER), _Net_Income_ (INTEGER), Payout (INTEGER), Dividends_Buybacks (INTEGER), Cash_Return_as_of_Net_Income (INTEGER), Dividends_Buybacks_Stock_Issuances (INTEGER), FCFE_before_debt_cash_flows_ (INTEGER), FCFE_after_debt_cash_flows_ (INTEGER), Net_Cash_Returned_FCFE_pre_debt_ (INTEGER), Net_Cash_Returned_FCFE_post_debt_ (INTEGER), Net_Cash_Returned_Net_Income (INTEGER), Cash_Firm_Value (INTEGER). To estimate how much companies are returning to shareholders, in both dividends and buybacks, relative to potential dividends (FCFE, i.e., cash left over after taxes, reinvestment and net debt cash flows.). This table contains financial data for various industries, including the number of firms, dividends, net income, payout, and cash return. It also includes information on FCFE, net cash returned, and cash/firm value. The data is organized by industry name and can be used for financial analysis and comparison.', 'Table peEurope has columns: Industry_Name (VARCHAR), Number_of_firms (INTEGER), _of_Money_Losing_firms_Trailing_ (INTEGER), Current_PE (INTEGER), Trailing_PE (INTEGER), Forward_PE (INTEGER), Aggregate_Mkt_Cap_Net_Income_all_firms_ (INTEGER), Aggregate_Mkt_Cap_Trailing_Net_Income_only_money_making_firms_ (INTEGER), Expected_growth_next_5_years (INTEGER), PEG_Ratio (INTEGER). To estimate ratios of market value of equity to equity earnings (PE), in all its different forms.. Industry Financial Performance Summary\\n\\nTable Summary: A summary of financial performance metrics for different industries, including number of firms, percentage of money losing firms, price-to-earnings ratios, market capitalization, expected growth, and PEG ratio.']\n"
     ]
    }
   ],
   "source": [
    "rc = db_collection_dict[\"Europe\"][1]\n",
    "rows = rc.query(\n",
    "    query_texts = \"What is the EBITDA of all the software industry and semiconductor?\",\n",
    "    # where = {\"table_name\":\"capex\"}\n",
    ")\n",
    "\n",
    "print(rows['documents'][0])"
   ]
  },
  {
   "cell_type": "code",
   "execution_count": 15,
   "metadata": {},
   "outputs": [],
   "source": [
    "# os.environ[\"DSP_CACHEBOOL\"] = \"false\""
   ]
  },
  {
   "cell_type": "code",
   "execution_count": 59,
   "metadata": {},
   "outputs": [],
   "source": [
    "def get_table_results(table_collection_,question:str):\n",
    "    # question_emb = emb_fn.embed_with_retries(question)[0]\n",
    "    # Get the table results for the given question\n",
    "    table_results = table_collection_.query(\n",
    "        query_texts = question,\n",
    "        n_results = 5\n",
    "    )\n",
    "    # print(table_results['documents'][0])\n",
    "    return table_results\n",
    "\n",
    "def get_row_results(row_collection_,question,table_name:str):\n",
    "    # Get the row results for the given question\n",
    "    row_results = row_collection_.query(\n",
    "        query_texts = question,\n",
    "        where = {\"table_name\":table_name},\n",
    "        n_results = 5\n",
    "    )\n",
    "    print(row_results['documents'][0])\n",
    "    return row_results"
   ]
  },
  {
   "cell_type": "code",
   "execution_count": 57,
   "metadata": {},
   "outputs": [
    {
     "data": {
      "text/plain": [
       "{'ids': [['id26', 'id1', 'id0', 'id18', 'id7']],\n",
       " 'distances': [[0.9323823040761442,\n",
       "   1.0362598319445016,\n",
       "   1.0532724652937528,\n",
       "   1.065641292108098,\n",
       "   1.076379159107579]],\n",
       " 'metadatas': [[{'table_metadata': 'Table vebitdaEurope has columns: Industry_Name (VARCHAR), Number_of_firms (INTEGER), EV_EBITDAR_D (INTEGER), EV_EBITDA (INTEGER), EV_EBIT (INTEGER), EV_EBIT_1_t_ (INTEGER), EV_EBITDAR_D_1 (INTEGER), EV_EBITDA_1 (INTEGER), EV_EBIT_1 (INTEGER), EV_EBIT_1_t__1 (INTEGER)',\n",
       "    'table_name': 'vebitdaEurope'},\n",
       "   {'table_metadata': 'Table EVAEurope has columns: Industry_Name (VARCHAR), Number_of_Firms (INTEGER), Beta (INTEGER), ROE (INTEGER), Cost_of_Equity (INTEGER), _ROE_COE_ (INTEGER), BV_of_Equity (INTEGER), Equity_EVA (INTEGER), ROC (INTEGER), Cost_of_Capital (INTEGER), _ROC_WACC_ (INTEGER), BV_of_Capital (INTEGER), EVA (INTEGER), E_D_E_ (INTEGER), Std_Dev_in_Stock (INTEGER), Cost_of_Debt (INTEGER), Tax_Rate (INTEGER), After_tax_Cost_of_Debt (INTEGER), D_D_E_ (INTEGER)',\n",
       "    'table_name': 'EVAEurope'},\n",
       "   {'table_metadata': 'Table DollarEurope has columns: Industry_Name (VARCHAR), Number_of_firms (INTEGER), Average_Company_Age_years_ (INTEGER), Market_Cap_millions_ (INTEGER), Book_Equity_millions_ (INTEGER), Enteprise_Value_millions_ (INTEGER), Invested_Capital_millions_ (INTEGER), Total_Debt_including_leases_millions_ (INTEGER), Revenues_millions_ (INTEGER), Gross_Profit_millions_ (INTEGER), EBITDA_millions_ (INTEGER), EBIT_Operating_Income_millions_ (INTEGER), Net_Income_millions_ (INTEGER)',\n",
       "    'table_name': 'DollarEurope'},\n",
       "   {'table_metadata': 'Table marginEurope has columns: Industry_Name (VARCHAR), Number_of_firms (INTEGER), Gross_Margin (INTEGER), Net_Margin (INTEGER), Pre_tax_Pre_stock_compensation_Operating_Margin (INTEGER), Pre_tax_Unadjusted_Operating_Margin (INTEGER), After_tax_Unadjusted_Operating_Margin (INTEGER), Pre_tax_Lease_adjusted_Margin (INTEGER), After_tax_Lease_Adjusted_Margin (INTEGER), Pre_tax_Lease_R_D_adj_Margin (INTEGER), After_tax_Lease_R_D_adj_Margin (INTEGER), EBITDA_Sales (INTEGER), EBITDASG_A_Sales (INTEGER), EBITDAR_D_Sales (INTEGER), COGS_Sales (INTEGER), R_D_Sales (INTEGER), SG_A_Sales (INTEGER), Stock_Based_Compensation_Sales (INTEGER), Lease_Expense_Sales (INTEGER)',\n",
       "    'table_name': 'marginEurope'},\n",
       "   {'table_metadata': 'Table dbtfundEurope has columns: Industry_Name (VARCHAR), Number_of_firms (INTEGER), Book_Debt_to_Capital (INTEGER), Market_Debt_to_Capital_Unadjusted_ (INTEGER), Market_D_E_unadjusted_ (INTEGER), Market_Debt_to_Capital_adjusted_for_leases_ (INTEGER), Market_D_E_adjusted_for_leases_ (INTEGER), Interest_Coverage_Ratio (INTEGER), Debt_to_EBITDA (INTEGER), Effective_tax_rate (INTEGER), Institutional_Holdings (INTEGER), Std_dev_in_Stock_Prices (INTEGER), EBITDA_EV (INTEGER), Net_PP_E_Total_Assets (INTEGER), Capital_Spending_Total_Assets (INTEGER)',\n",
       "    'table_name': 'dbtfundEurope'}]],\n",
       " 'embeddings': None,\n",
       " 'documents': [['Table vebitdaEurope has columns: Industry_Name (VARCHAR), Number_of_firms (INTEGER), EV_EBITDAR_D (INTEGER), EV_EBITDA (INTEGER), EV_EBIT (INTEGER), EV_EBIT_1_t_ (INTEGER), EV_EBITDAR_D_1 (INTEGER), EV_EBITDA_1 (INTEGER), EV_EBIT_1 (INTEGER), EV_EBIT_1_t__1 (INTEGER). To measure the market value of the operating assets of firms, relative to operating fundamentals.. This table contains information about different industries and their financial metrics, including EV/EBITDAR&D, EV/EBITDA, EV/EBIT, and EV/EBIT_(1-t) ratios for both the current and previous year. It allows for easy comparison and analysis of these metrics across industries.',\n",
       "   'Table EVAEurope has columns: Industry_Name (VARCHAR), Number_of_Firms (INTEGER), Beta (INTEGER), ROE (INTEGER), Cost_of_Equity (INTEGER), _ROE_COE_ (INTEGER), BV_of_Equity (INTEGER), Equity_EVA (INTEGER), ROC (INTEGER), Cost_of_Capital (INTEGER), _ROC_WACC_ (INTEGER), BV_of_Capital (INTEGER), EVA (INTEGER), E_D_E_ (INTEGER), Std_Dev_in_Stock (INTEGER), Cost_of_Debt (INTEGER), Tax_Rate (INTEGER), After_tax_Cost_of_Debt (INTEGER), D_D_E_ (INTEGER). To estimate how much firms earn on their investments, relative to what they need to earn to break even, given the risk.. This table contains financial information for various industries, including industry name, number of firms, beta, return on equity (ROE), cost of equity, book value of equity, equity economic value added (EVA), return on capital (ROC), cost of capital, book value of capital, EVA, debt-to-equity ratio, standard deviation in stock, cost of debt, tax rate, after-tax cost of debt, and debt-to-capital ratio. It can be used to analyze the financial performance of different industries and',\n",
       "   'Table DollarEurope has columns: Industry_Name (VARCHAR), Number_of_firms (INTEGER), Average_Company_Age_years_ (INTEGER), Market_Cap_millions_ (INTEGER), Book_Equity_millions_ (INTEGER), Enteprise_Value_millions_ (INTEGER), Invested_Capital_millions_ (INTEGER), Total_Debt_including_leases_millions_ (INTEGER), Revenues_millions_ (INTEGER), Gross_Profit_millions_ (INTEGER), EBITDA_millions_ (INTEGER), EBIT_Operating_Income_millions_ (INTEGER), Net_Income_millions_ (INTEGER). To report aggregated dollar value of key operating and marker numbers, by industry group, in millions of US $.. This table provides a summary of the financial performance of various industries, including the number of firms, average company age, market cap, book equity, enterprise value, invested capital, total debt, revenues, gross profit, EBITDA, EBIT, and net income. It can be used for comparison and analysis of different industries.',\n",
       "   'Table marginEurope has columns: Industry_Name (VARCHAR), Number_of_firms (INTEGER), Gross_Margin (INTEGER), Net_Margin (INTEGER), Pre_tax_Pre_stock_compensation_Operating_Margin (INTEGER), Pre_tax_Unadjusted_Operating_Margin (INTEGER), After_tax_Unadjusted_Operating_Margin (INTEGER), Pre_tax_Lease_adjusted_Margin (INTEGER), After_tax_Lease_Adjusted_Margin (INTEGER), Pre_tax_Lease_R_D_adj_Margin (INTEGER), After_tax_Lease_R_D_adj_Margin (INTEGER), EBITDA_Sales (INTEGER), EBITDASG_A_Sales (INTEGER), EBITDAR_D_Sales (INTEGER), COGS_Sales (INTEGER), R_D_Sales (INTEGER), SG_A_Sales (INTEGER), Stock_Based_Compensation_Sales (INTEGER), Lease_Expense_Sales (INTEGER). Measures of profitability and costs, by industry. This table contains financial information for various industries, including gross margin, net margin, operating margin, EBITDA/sales, COGS/sales, and more. The data is delimited by a newline character, making it easy to read and analyze. This table can be used to compare the financial performance of different industries and identify trends and patterns.',\n",
       "   'Table dbtfundEurope has columns: Industry_Name (VARCHAR), Number_of_firms (INTEGER), Book_Debt_to_Capital (INTEGER), Market_Debt_to_Capital_Unadjusted_ (INTEGER), Market_D_E_unadjusted_ (INTEGER), Market_Debt_to_Capital_adjusted_for_leases_ (INTEGER), Market_D_E_adjusted_for_leases_ (INTEGER), Interest_Coverage_Ratio (INTEGER), Debt_to_EBITDA (INTEGER), Effective_tax_rate (INTEGER), Institutional_Holdings (INTEGER), Std_dev_in_Stock_Prices (INTEGER), EBITDA_EV (INTEGER), Net_PP_E_Total_Assets (INTEGER), Capital_Spending_Total_Assets (INTEGER). To estimate how much debt companies have used in funding, and some of the fundamentals driving that debt choice. . This table contains financial metrics for various industries, including the number of firms, debt to capital ratios, interest coverage ratios, tax rates, institutional holdings, and other financial metrics. It is organized by industry, making it easy to compare and analyze the financial health of different industries. This table can be used by investors, analysts, and researchers to gain insights into the financial performance of different industries.']],\n",
       " 'uris': None,\n",
       " 'data': None}"
      ]
     },
     "execution_count": 57,
     "metadata": {},
     "output_type": "execute_result"
    }
   ],
   "source": [
    "question_emb = emb_fn(\"What is the EBITDA of all the software industry and semiconductor?\")[0]\n",
    "get_table_results(db_collection_dict[\"Europe\"][1],\"What is the EBITDA of all the software industry and semiconductor?\")"
   ]
  },
  {
   "cell_type": "code",
   "execution_count": 68,
   "metadata": {},
   "outputs": [
    {
     "data": {
      "text/plain": [
       "list"
      ]
     },
     "execution_count": 68,
     "metadata": {},
     "output_type": "execute_result"
    }
   ],
   "source": [
    "type(question_emb)"
   ]
  },
  {
   "cell_type": "code",
   "execution_count": 74,
   "metadata": {},
   "outputs": [
    {
     "data": {
      "text/plain": [
       "66"
      ]
     },
     "execution_count": 74,
     "metadata": {},
     "output_type": "execute_result"
    }
   ],
   "source": [
    "query_emb = emb_fn(\"What is the EBITDA of all the software industry and semiconductor?\")\n",
    "len(query_emb)"
   ]
  },
  {
   "cell_type": "code",
   "execution_count": 77,
   "metadata": {},
   "outputs": [
    {
     "data": {
      "text/plain": [
       "{'ids': [['id26', 'id1', 'id0', 'id18', 'id7']],\n",
       " 'distances': [[0.9323823040761442,\n",
       "   1.0362598319445016,\n",
       "   1.0532724652937528,\n",
       "   1.065641292108098,\n",
       "   1.076379159107579]],\n",
       " 'metadatas': [[{'table_metadata': 'Table vebitdaEurope has columns: Industry_Name (VARCHAR), Number_of_firms (INTEGER), EV_EBITDAR_D (INTEGER), EV_EBITDA (INTEGER), EV_EBIT (INTEGER), EV_EBIT_1_t_ (INTEGER), EV_EBITDAR_D_1 (INTEGER), EV_EBITDA_1 (INTEGER), EV_EBIT_1 (INTEGER), EV_EBIT_1_t__1 (INTEGER)',\n",
       "    'table_name': 'vebitdaEurope'},\n",
       "   {'table_metadata': 'Table EVAEurope has columns: Industry_Name (VARCHAR), Number_of_Firms (INTEGER), Beta (INTEGER), ROE (INTEGER), Cost_of_Equity (INTEGER), _ROE_COE_ (INTEGER), BV_of_Equity (INTEGER), Equity_EVA (INTEGER), ROC (INTEGER), Cost_of_Capital (INTEGER), _ROC_WACC_ (INTEGER), BV_of_Capital (INTEGER), EVA (INTEGER), E_D_E_ (INTEGER), Std_Dev_in_Stock (INTEGER), Cost_of_Debt (INTEGER), Tax_Rate (INTEGER), After_tax_Cost_of_Debt (INTEGER), D_D_E_ (INTEGER)',\n",
       "    'table_name': 'EVAEurope'},\n",
       "   {'table_metadata': 'Table DollarEurope has columns: Industry_Name (VARCHAR), Number_of_firms (INTEGER), Average_Company_Age_years_ (INTEGER), Market_Cap_millions_ (INTEGER), Book_Equity_millions_ (INTEGER), Enteprise_Value_millions_ (INTEGER), Invested_Capital_millions_ (INTEGER), Total_Debt_including_leases_millions_ (INTEGER), Revenues_millions_ (INTEGER), Gross_Profit_millions_ (INTEGER), EBITDA_millions_ (INTEGER), EBIT_Operating_Income_millions_ (INTEGER), Net_Income_millions_ (INTEGER)',\n",
       "    'table_name': 'DollarEurope'},\n",
       "   {'table_metadata': 'Table marginEurope has columns: Industry_Name (VARCHAR), Number_of_firms (INTEGER), Gross_Margin (INTEGER), Net_Margin (INTEGER), Pre_tax_Pre_stock_compensation_Operating_Margin (INTEGER), Pre_tax_Unadjusted_Operating_Margin (INTEGER), After_tax_Unadjusted_Operating_Margin (INTEGER), Pre_tax_Lease_adjusted_Margin (INTEGER), After_tax_Lease_Adjusted_Margin (INTEGER), Pre_tax_Lease_R_D_adj_Margin (INTEGER), After_tax_Lease_R_D_adj_Margin (INTEGER), EBITDA_Sales (INTEGER), EBITDASG_A_Sales (INTEGER), EBITDAR_D_Sales (INTEGER), COGS_Sales (INTEGER), R_D_Sales (INTEGER), SG_A_Sales (INTEGER), Stock_Based_Compensation_Sales (INTEGER), Lease_Expense_Sales (INTEGER)',\n",
       "    'table_name': 'marginEurope'},\n",
       "   {'table_metadata': 'Table dbtfundEurope has columns: Industry_Name (VARCHAR), Number_of_firms (INTEGER), Book_Debt_to_Capital (INTEGER), Market_Debt_to_Capital_Unadjusted_ (INTEGER), Market_D_E_unadjusted_ (INTEGER), Market_Debt_to_Capital_adjusted_for_leases_ (INTEGER), Market_D_E_adjusted_for_leases_ (INTEGER), Interest_Coverage_Ratio (INTEGER), Debt_to_EBITDA (INTEGER), Effective_tax_rate (INTEGER), Institutional_Holdings (INTEGER), Std_dev_in_Stock_Prices (INTEGER), EBITDA_EV (INTEGER), Net_PP_E_Total_Assets (INTEGER), Capital_Spending_Total_Assets (INTEGER)',\n",
       "    'table_name': 'dbtfundEurope'}]],\n",
       " 'embeddings': None,\n",
       " 'documents': [['Table vebitdaEurope has columns: Industry_Name (VARCHAR), Number_of_firms (INTEGER), EV_EBITDAR_D (INTEGER), EV_EBITDA (INTEGER), EV_EBIT (INTEGER), EV_EBIT_1_t_ (INTEGER), EV_EBITDAR_D_1 (INTEGER), EV_EBITDA_1 (INTEGER), EV_EBIT_1 (INTEGER), EV_EBIT_1_t__1 (INTEGER). To measure the market value of the operating assets of firms, relative to operating fundamentals.. This table contains information about different industries and their financial metrics, including EV/EBITDAR&D, EV/EBITDA, EV/EBIT, and EV/EBIT_(1-t) ratios for both the current and previous year. It allows for easy comparison and analysis of these metrics across industries.',\n",
       "   'Table EVAEurope has columns: Industry_Name (VARCHAR), Number_of_Firms (INTEGER), Beta (INTEGER), ROE (INTEGER), Cost_of_Equity (INTEGER), _ROE_COE_ (INTEGER), BV_of_Equity (INTEGER), Equity_EVA (INTEGER), ROC (INTEGER), Cost_of_Capital (INTEGER), _ROC_WACC_ (INTEGER), BV_of_Capital (INTEGER), EVA (INTEGER), E_D_E_ (INTEGER), Std_Dev_in_Stock (INTEGER), Cost_of_Debt (INTEGER), Tax_Rate (INTEGER), After_tax_Cost_of_Debt (INTEGER), D_D_E_ (INTEGER). To estimate how much firms earn on their investments, relative to what they need to earn to break even, given the risk.. This table contains financial information for various industries, including industry name, number of firms, beta, return on equity (ROE), cost of equity, book value of equity, equity economic value added (EVA), return on capital (ROC), cost of capital, book value of capital, EVA, debt-to-equity ratio, standard deviation in stock, cost of debt, tax rate, after-tax cost of debt, and debt-to-capital ratio. It can be used to analyze the financial performance of different industries and',\n",
       "   'Table DollarEurope has columns: Industry_Name (VARCHAR), Number_of_firms (INTEGER), Average_Company_Age_years_ (INTEGER), Market_Cap_millions_ (INTEGER), Book_Equity_millions_ (INTEGER), Enteprise_Value_millions_ (INTEGER), Invested_Capital_millions_ (INTEGER), Total_Debt_including_leases_millions_ (INTEGER), Revenues_millions_ (INTEGER), Gross_Profit_millions_ (INTEGER), EBITDA_millions_ (INTEGER), EBIT_Operating_Income_millions_ (INTEGER), Net_Income_millions_ (INTEGER). To report aggregated dollar value of key operating and marker numbers, by industry group, in millions of US $.. This table provides a summary of the financial performance of various industries, including the number of firms, average company age, market cap, book equity, enterprise value, invested capital, total debt, revenues, gross profit, EBITDA, EBIT, and net income. It can be used for comparison and analysis of different industries.',\n",
       "   'Table marginEurope has columns: Industry_Name (VARCHAR), Number_of_firms (INTEGER), Gross_Margin (INTEGER), Net_Margin (INTEGER), Pre_tax_Pre_stock_compensation_Operating_Margin (INTEGER), Pre_tax_Unadjusted_Operating_Margin (INTEGER), After_tax_Unadjusted_Operating_Margin (INTEGER), Pre_tax_Lease_adjusted_Margin (INTEGER), After_tax_Lease_Adjusted_Margin (INTEGER), Pre_tax_Lease_R_D_adj_Margin (INTEGER), After_tax_Lease_R_D_adj_Margin (INTEGER), EBITDA_Sales (INTEGER), EBITDASG_A_Sales (INTEGER), EBITDAR_D_Sales (INTEGER), COGS_Sales (INTEGER), R_D_Sales (INTEGER), SG_A_Sales (INTEGER), Stock_Based_Compensation_Sales (INTEGER), Lease_Expense_Sales (INTEGER). Measures of profitability and costs, by industry. This table contains financial information for various industries, including gross margin, net margin, operating margin, EBITDA/sales, COGS/sales, and more. The data is delimited by a newline character, making it easy to read and analyze. This table can be used to compare the financial performance of different industries and identify trends and patterns.',\n",
       "   'Table dbtfundEurope has columns: Industry_Name (VARCHAR), Number_of_firms (INTEGER), Book_Debt_to_Capital (INTEGER), Market_Debt_to_Capital_Unadjusted_ (INTEGER), Market_D_E_unadjusted_ (INTEGER), Market_Debt_to_Capital_adjusted_for_leases_ (INTEGER), Market_D_E_adjusted_for_leases_ (INTEGER), Interest_Coverage_Ratio (INTEGER), Debt_to_EBITDA (INTEGER), Effective_tax_rate (INTEGER), Institutional_Holdings (INTEGER), Std_dev_in_Stock_Prices (INTEGER), EBITDA_EV (INTEGER), Net_PP_E_Total_Assets (INTEGER), Capital_Spending_Total_Assets (INTEGER). To estimate how much debt companies have used in funding, and some of the fundamentals driving that debt choice. . This table contains financial metrics for various industries, including the number of firms, debt to capital ratios, interest coverage ratios, tax rates, institutional holdings, and other financial metrics. It is organized by industry, making it easy to compare and analyze the financial health of different industries. This table can be used by investors, analysts, and researchers to gain insights into the financial performance of different industries.']],\n",
       " 'uris': None,\n",
       " 'data': None}"
      ]
     },
     "execution_count": 77,
     "metadata": {},
     "output_type": "execute_result"
    }
   ],
   "source": [
    "query_emb = emb_fn([\"What is the EBITDA of all the software industry and semiconductor?\"])\n",
    "db_collection_dict[\"Europe\"][1].query(\n",
    "    # query_texts = \"What is the EBITDA of all the software industry and semiconductor?\",\n",
    "    query_embeddings = query_emb,\n",
    "    n_results = 5\n",
    ")"
   ]
  },
  {
   "cell_type": "code",
   "execution_count": 48,
   "metadata": {},
   "outputs": [],
   "source": [
    "question_emb_1 = emb_fn(\"What is the EBITDA of all the software industry and semiconductor?\")\n",
    "question_emb_2 = emb_fn(\"What is the EBITDA of all the software industry\")"
   ]
  },
  {
   "cell_type": "code",
   "execution_count": 86,
   "metadata": {},
   "outputs": [
    {
     "name": "stdout",
     "output_type": "stream",
     "text": [
      "\u001b[33mTable 1: Table debtdetails has columns: Industry_Name (VARCHAR), Number_of_firms (INTEGER), Lease_Debt_My_Estimate_ (INTEGER), Conventional_Debt (INTEGER), Total_Debt_with_leases (INTEGER), Interest_expense (INTEGER), Book_interest_rate (INTEGER), Short_term_Debt_as_of_Total_Debt (INTEGER), Lease_Debt_Accounting_ (INTEGER)\n",
      "\tRow 1 from table debtdetails: Packaging & Container, 22, 4513.239171677531, 76734.40000000001, 81247.63917167754, 3811.04, 0.049665339143852, 0.0217394579923321, 3943.7\n",
      "\tRow 2 from table debtdetails: Total Market (without financials), 5214, 1028354.941815557, 8726573.772000011, 9754928.713815568, 350522.1869999999, 0.040167217530972, 0.0338525639005415, 927150.61799999\n",
      "\tRow 3 from table debtdetails: Paper/Forest Products, 7, 149.48479767923982, 2778.5800000000004, 2928.06479767924, 167.17, 0.0601638246874302, 0.0071989841924145, 131.4\n",
      "\tRow 4 from table debtdetails: Software (Entertainment), 84, 33128.9780517081, 54292.243, 87421.2210517081, 1496.061, 0.0275557044125069, 0.0015186428809402, 34666.726000000\n",
      "\tRow 5 from table debtdetails: Software (System & Application), 351, 33258.193701603275, 294172.4589999999, 327430.6527016032, 10629.420000000006, 0.0361332941776171, 0.1024519653137497, 29909.3220000000\n",
      "\n",
      "\n",
      "Table 2: Table dbtfund has columns: Industry_Name (VARCHAR), Number_of_firms (INTEGER), Book_Debt_to_Capital (INTEGER), Market_Debt_to_Capital_Unadjusted_ (INTEGER), Market_D_E_unadjusted_ (INTEGER), Market_Debt_to_Capital_adjusted_for_leases_ (INTEGER), Market_D_E_adjusted_for_leases_ (INTEGER), Interest_Coverage_Ratio (INTEGER), Debt_to_EBITDA (INTEGER), Effective_tax_rate (INTEGER), Institutional_Holdings (INTEGER), Std_dev_in_Stock_Prices (INTEGER), EBITDA_EV (INTEGER), Net_PP_E_Total_Assets (INTEGER), Capital_Spending_Total_Assets (INTEGER)\n",
      "\tRow 1 from table dbtfund: Packaging & Container, 22, 0.6103387810613522, 0.3782286453204903, 0.6083082510538735, 0.379884104285102, 0.6126017844570075, 3.764310529409295, 3.5181123824560183, 0.1811910443993945, 0.6783750000000001, 0.2624270896574677, 0.1157885651803374, 0.3623114386831347, 0.04952312081083\n",
      "\tRow 2 from table dbtfund: Paper/Forest Products, 7, 0.4734364120284507, 0.2708197637285779, 0.3714030499693507, 0.2720368018915367, 0.3736958167643585, 5.871388407010827, 1.2456404814324722, 0.1291414130001224, 0.7856749999999999, 0.4303648671191303, 0.1409404443833355, 0.5394079227601873, 0.08849164655213\n",
      "\tRow 3 from table dbtfund: Total Market (without financials), 5214, 0.5001187576177913, 0.1827761005242874, 0.2236548645255564, 0.184338591629599, 0.225998912953215, 6.428195471118638, 3.157364796897844, 0.0680489965490159, 0.4702478911478115, 0.4700345950094993, 0.0659794083462176, 0.32642976153906, 0.04335448376240\n",
      "\tRow 4 from table dbtfund: Software (Entertainment), 84, 0.1668568483248547, 0.0310823698127216, 0.0320794759475208, 0.0305614949343675, 0.0315249443617865, 82.70045339060373, 0.6523342120398788, 0.0511174704478853, 0.380174716981132, 0.5278932207822914, 0.0561706386145586, 0.3664219490280888, 0.08632671853148\n",
      "\tRow 5 from table dbtfund: Software (System & Application), 351, 0.4037655070426813, 0.0578505240039251, 0.0614027025199621, 0.0584133801964343, 0.0620371816759891, 12.091079193408472, 2.258772022287284, 0.0418992568246478, 0.4265529149797569, 0.5208648982480728, 0.0312576185298293, 0.1534323819146964, 0.03979088603498\n",
      "\n",
      "\n",
      "Table 3: Table margin has columns: Industry_Name (VARCHAR), Number_of_firms (INTEGER), Gross_Margin (INTEGER), Net_Margin (INTEGER), Pre_tax_Pre_stock_compensation_Operating_Margin (INTEGER), Pre_tax_Unadjusted_Operating_Margin (INTEGER), After_tax_Unadjusted_Operating_Margin (INTEGER), Pre_tax_Lease_adjusted_Margin (INTEGER), After_tax_Lease_Adjusted_Margin (INTEGER), Pre_tax_Lease_R_D_adj_Margin (INTEGER), After_tax_Lease_R_D_adj_Margin (INTEGER), EBITDA_Sales (INTEGER), EBITDASG_A_Sales (INTEGER), EBITDAR_D_Sales (INTEGER), COGS_Sales (INTEGER), R_D_Sales (INTEGER), SG_A_Sales (INTEGER), Stock_Based_Compensation_Sales (INTEGER), Lease_Expense_Sales (INTEGER)\n",
      "\tRow 1 from table margin: Packaging & Container, 22, 0.2171338247779519, 0.0285269723092998, 0.1016364547958028, 0.0975946017284918, 0.0799113339135634, 0.0997355299061771, 0.0816643450787498, 0.0998025797146062, 0.0817313948871789, 0.1571078511407175, 0.2522079768591083, 0.1617111987330198, 0.782866175222048, 0.0046033475923023, 0.0951001257183908, 0.004041853067311, 0.0111359826715\n",
      "\tRow 2 from table margin: Paper/Forest Products, 7, 0.2020217910917367, 0.038642395700649, 0.1049029448929983, 0.099619899214932, 0.0867548446673859, 0.1007603071726035, 0.0877479787300071, 0.1014098786076996, 0.0883975501651032, 0.2385804834232414, 0.3238194800383652, 0.2395954387905791, 0.7979782089082633, 0.0010149553673377, 0.0852389966151238, 0.0052830456780663, 0.0089700740409\n",
      "\tRow 3 from table margin: Total Market (without financials), 5214, 0.3341124303745417, 0.0759000807387551, 0.1349854587183475, 0.1203243079012881, 0.1121363594881506, 0.1193029155861628, 0.1111844718951524, 0.122305912015432, 0.1141874683244217, 0.1649863910103977, 0.308807292459029, 0.2037377626528898, 0.6658875696254583, 0.038751371642492, 0.1438209014486313, 0.0146611508170593, 0.01534583398930\n",
      "\tRow 4 from table margin: Software (Entertainment), 84, 0.6343190737595645, 0.203484453534525, 0.3536120749157563, 0.2680484859792075, 0.2543465254185649, 0.2650138705989933, 0.2514670319003695, 0.2816776939314963, 0.2681308552328725, 0.290337329951565, 0.4724580252979131, 0.4795894540185941, 0.3656809262404354, 0.1892521240670291, 0.182120695346348, 0.0855635889365488, 0.0140141013588\n",
      "\tRow 5 from table margin: Software (System & Application), 351, 0.7152038033402293, 0.1914080753155209, 0.3405275162267305, 0.2529865559329903, 0.2423866072527709, 0.2534208835158065, 0.2428027368326486, 0.2629596189730837, 0.2523414722899257, 0.2853446560160495, 0.5664609609773408, 0.4563813852186625, 0.2847961966597707, 0.171036729202613, 0.2811163049612913, 0.0875409602937401, 0.01484216535122\n",
      "\n",
      "\n",
      "Table 4: Table leaseeffect has columns: Industry_Name (VARCHAR), Number_of_firms (INTEGER), Lease_Expense_Sales (INTEGER), Total_Debt_without_leases (INTEGER), Total_Debt_with_Leases (INTEGER), Lease_Debt_as_of_Total_Debt (INTEGER), Market_Debt_to_Capital_without_leases (INTEGER), Market_Debt_to_Capital_with_leases (INTEGER), Book_Debt_to_Capital_without_leases (INTEGER), Book_Debt_to_Capital_with_leases (INTEGER), Operating_income_before_lease_adj_ (INTEGER), Operating_income_after_lease_adj_ (INTEGER), ROIC_without_leases_ (INTEGER), ROIC_with_leases_ (INTEGER), Pre_tax_Operating_Margin_before_lease_adj_ (INTEGER), Pre_tax_Operating_Margin_after_lease_adj_ (INTEGER), Lease_Debt_My_Estimate_ (INTEGER), Lease_Debt_Accounting_ (INTEGER)\n",
      "\tRow 1 from table leaseeffect: Packaging & Container, 22, 0.011135982671543, 76734.40000000001, 81247.63917167754, 0.055549173092168, 0.3782286453204903, 0.379884104285102, 0.6103387810613522, 0.6120101888654984, 14345.937999999998, 14660.644165664493, 0.1505824623189605, 0.1454694479532388, 0.0975946017284918, 0.0997355299061771, 4513.239171677531, 3943.7\n",
      "\tRow 2 from table leaseeffect: Paper/Forest Products, 7, 0.008970074040994, 2778.5800000000004, 2928.06479767924, 0.0510524213117552, 0.2708197637285779, 0.2720368018915367, 0.4734364120284507, 0.4749708857695535, 981.52, 992.756040464152, 0.1926022053068533, 0.1884591563848643, 0.099619899214932, 0.1007603071726035, 149.48479767923982, 131.4\n",
      "\tRow 3 from table leaseeffect: Total Market (without financials), 5214, 0.0153458339893046, 8726573.772000011, 9754928.713815568, 0.1054190114540902, 0.1827761005242874, 0.184338591629599, 0.5001187576177913, 0.5027252578970086, 2253225.135, 2234098.269636899, 0.1835772566548859, 0.1670050224568192, 0.1203243079012881, 0.1193029155861628, 1028354.941815557, 927150.61799999\n",
      "\tRow 4 from table leaseeffect: Software (Entertainment), 84, 0.014014101358805, 54292.243, 87421.2210517081, 0.3789580796648093, 0.0310823698127216, 0.0305614949343675, 0.1668568483248547, 0.1644468477762955, 123724.923, 122324.21538965842, 0.3529872569154247, 0.3173774693574422, 0.2680484859792075, 0.2650138705989933, 33128.9780517081, 34666.726000000\n",
      "\tRow 5 from table leaseeffect: Software (System & Application), 351, 0.0148421653512225, 294172.4589999999, 327430.6527016032, 0.101573244371572, 0.0578505240039251, 0.0584133801964343, 0.4037655070426813, 0.4062427466562686, 128521.15899999996, 128741.80425967928, 0.4685097794455836, 0.416597431975511, 0.2529865559329903, 0.2534208835158065, 33258.193701603275, 29909.3220000000\n",
      "\n",
      "\n",
      "Table 5: Table finflows has columns: Industry_Name (VARCHAR), Number_of_Firms (INTEGER), Dividends_in_millions (INTEGER), Buybacks_in_millions (INTEGER), Equity_Issuance_in_millions (INTEGER), Net_Equity_Change_in_millions (INTEGER), Net_Equity_Change_as_of_Book_Equity (INTEGER), Debt_Repaid_in_millions (INTEGER), Debt_Raised_in_millions (INTEGER), Net_Debt_Change_in_millions (INTEGER), Net_Change_in_Debt_as_of_Total_Debt (INTEGER), Change_in_Lease_Debt_in_millions (INTEGER)\n",
      "\tRow 1 from table finflows: Packaging & Container, 22, 2944.63, 2233.409, 88.02499999999999, -2145.384, -0.0437079008579089, 21249.516000000007, 23186.13, 1936.6139999999905, 0.0252378854855187, 1078.3980000000\n",
      "\tRow 2 from table finflows: Total Market (without financials), 5214, 586557.7755600002, 751879.1409999981, 155964.39699999997, -595914.7439999981, -0.0695670965035634, 10934509.215999996, 11261815.867999988, 327306.6519999914, 0.0375068910836672, 150391.201999993\n",
      "\tRow 3 from table finflows: Paper/Forest Products, 7, 105.0, 152.9, 0.093, -152.80700000000002, -0.0608669154872914, 1096.244, 874.8399999999999, -221.404, -0.0796824277148759, 146.670000000000\n",
      "\tRow 4 from table finflows: Software (Entertainment), 84, 235.41, 90230.608, 492.176, -89738.43199999999, -0.2221965340647178, 19934.036, 26704.583, 6770.546999999999, 0.1247056048135642, 6193.5280000000\n",
      "\tRow 5 from table finflows: Software (System & Application), 351, 26468.845, 51669.898, 11749.602, -39920.296, -0.1003437022816384, 35002.797, 51147.364, 16144.567000000005, 0.0548813000879868, 3688.94599999997\n",
      "\n",
      "\n",
      "\u001b[0m\n",
      "Prediction(\n",
      "    rationale=\"produce the SQL. We need to calculate the total debt to losses ratio for the software industry. To do this, we need to consider the total debt and losses for the software industry.\\n\\nSQL: \\n\\n```sql\\nSELECT DISTINCT debtdetails.Industry_Name AS Industry, \\n    (debtdetails.Total_Debt_with_leases / margin.Net_Margin) AS Total_Debt_to_Losses\\nFROM debtdetails\\nJOIN margin ON debtdetails.Industry_Name = margin.Industry_Name\\nWHERE debtdetails.Industry_Name LIKE 'Software%'\\n```\",\n",
      "    sql=\"```sql\\nSELECT DISTINCT debtdetails.Industry_Name AS Industry, (debtdetails.Total_Debt_with_leases / margin.Net_Margin) AS Total_Debt_to_Losses\\nFROM debtdetails\\nJOIN margin ON debtdetails.Industry_Name = margin.Industry_Name\\nWHERE debtdetails.Industry_Name LIKE 'Software%'\\n```\"\n",
      ")\n",
      "Extracted rows:  Industry = Software (Entertainment), Total_Debt_to_Losses = 429621.13091787347\n",
      " Industry = Software (Internet), Total_Debt_to_Losses = -184136.30097649732\n",
      " Industry = Software (System & Application), Total_Debt_to_Losses = 1710641.7906447258\n",
      "\n"
     ]
    }
   ],
   "source": [
    "from typing import Any\n",
    "\n",
    "\n",
    "class TextToSQLQueryModule(dspy.Module):\n",
    "    \"\"\"Text to SQL to final module\"\"\"\n",
    "    def __init__(self,region:str,use_cot:bool=True,max_retries:int=3):\n",
    "        \"\"\"Text to Answer init module\n",
    "\n",
    "        Args:\n",
    "            region (str): Region for which the module will be used.\n",
    "            use_cot (bool, optional): Whether to use chain of thought for sql query generation. Defaults to True.\n",
    "            max_retries (int, optional): Number of max retries for SQLError. Defaults to 3.\n",
    "        \"\"\"\n",
    "        super().__init__()\n",
    "        self.region = region\n",
    "        db,table_collection,row_collection = db_collection_dict[region]\n",
    "        # print(db,table_collection,row_collection)\n",
    "        self.table_collection = table_collection\n",
    "        self.use_cot = use_cot\n",
    "        self.db = db\n",
    "        self.row_collection = row_collection\n",
    "        if self.use_cot == True:\n",
    "            self.sqlAnswer = dspy.ChainOfThought(TextToSQLAnswer)\n",
    "        else:\n",
    "            self.sqlAnswer = dspy.Predict(TextToSQLAnswer)\n",
    "        self.final_output = dspy.Predict(SQLReturnToAnswer)\n",
    "        self.max_tries = max_retries\n",
    "        # Initialize the sql rectifier with CoT reasoning\n",
    "        self.sql_rectifier = dspy.ChainOfThought(SQLRectifier,rationale_type=dspy.OutputField(\n",
    "            prefix=\"Reasoning: Let's think step by step in order to\",\n",
    "            desc=\"${produce the answer}. We ...\"\n",
    "        ))\n",
    "    \n",
    "    def __call__(self, *args: Any, **kwargs: Any) -> Any:\n",
    "        return self.forward(*args, **kwargs)\n",
    "        \n",
    "    def forward(self,question):\n",
    "        # Embed the question with embedding function\n",
    "        question_emb = emb_fn([question])[0]\n",
    "        # Retrieve the relevant tables from table schema and table summary\n",
    "        docs = self.table_collection.query(\n",
    "            query_embeddings = question_emb,\n",
    "            n_results = 5\n",
    "        )\n",
    "        # docs = get_table_results(db_collection_dict[self.region][1],question)\n",
    "        relevant_rows_schemas = \"\"\n",
    "    \n",
    "        existing_table_names = []\n",
    "\n",
    "        for table_idx,metadata_name in enumerate(docs['metadatas'][0]):\n",
    "            table_metadata = metadata_name['table_metadata']\n",
    "            table_name = metadata_name['table_name']\n",
    "            # If the table name is already in the list of existing table names, skip it\n",
    "            # if table_name in existing_table_names: \n",
    "            #     continue\n",
    "            existing_table_names.append(table_name)\n",
    "            # Retrieve the relevant rows from the current table\n",
    "            rows = self.row_collection.query(\n",
    "                query_embeddings = question_emb,\n",
    "                n_results = 5,\n",
    "                # where clause to filter the rows\n",
    "                where = {\"table_name\":table_name}\n",
    "            )\n",
    "            # rows = get_row_results(db_collection_dict[self.region][2],question,table_name)\n",
    "            # Retrieve the relevant table with the schema and summary\n",
    "            relevant_rows_schemas += f'Table {table_idx+1}: {table_metadata}\\n'\n",
    "            for row_idx,row in enumerate(rows['metadatas'][0]):\n",
    "                # Get the relevant rows from the current table\n",
    "                relevant_rows_schemas += f'\\tRow {row_idx+1} from table {table_name}: {row[\"full_rows\"]}\\n'\n",
    "            relevant_rows_schemas += '\\n\\n'\n",
    "        print(colored(relevant_rows_schemas,\"yellow\"))\n",
    "        sql_query = self.sqlAnswer(question=question,relevant_table_schemas_rows=relevant_rows_schemas)\n",
    "\n",
    "        num_tries = 0\n",
    "        print(sql_query)\n",
    "        while num_tries <= self.max_tries:\n",
    "            with self.db.connect() as conn:\n",
    "                try:\n",
    "                    # Try executing the sql query for the database\n",
    "                    result = conn.execute(text(process_sql_str(sql_query.sql)))\n",
    "                    num_tries = self.max_tries + 1\n",
    "                except Exception as error:\n",
    "                    # If there is an sql error, then try again with the sql rectifier\n",
    "                    print(colored(str(error),'red'))\n",
    "                    sql_query = self.sql_rectifier(input_sql=sql_query.sql,error_str=str(error),relevant_table_schemas_rows=relevant_rows_schemas)\n",
    "                    print(colored(sql_query.rationale,'green'))\n",
    "                    print()\n",
    "                    print(colored(sql_query.sql,'green'))\n",
    "                    # If all the num_retries are exhausted, then exit the program\n",
    "                    num_tries += 1\n",
    "                    if num_tries == self.max_tries:\n",
    "                        return sql_query,error\n",
    "        # With the retrieved rows from the database, then try to answer the question with dspy context\n",
    "        with dspy.context(lm=sql_to_answer):\n",
    "            row_str = \"\"\n",
    "            key = tuple(result.keys())\n",
    "            for row in result.fetchall():\n",
    "                for r,k in zip(row,key):\n",
    "                    row_str += f\" {k} = {r},\"\n",
    "                row_str = row_str[:-1]\n",
    "                row_str += \"\\n\"\n",
    "            print(f\"Extracted rows: {row_str}\")\n",
    "            final_answer = self.final_output(question=question,sql=sql_query.sql,relevant_rows=row_str)\n",
    "            return final_answer\n",
    "tsql_ = TextToSQLQueryModule(\"US\")\n",
    "question = \"What is the totla debt to losses of the sftware and packaging industry?\"\n",
    "# question_emb = emb_fn.embed_with_retries(question)[0]\n",
    "# print(question_emb)\n",
    "sq = tsql_(question = question)"
   ]
  },
  {
   "cell_type": "code",
   "execution_count": 88,
   "metadata": {},
   "outputs": [
    {
     "ename": "AttributeError",
     "evalue": "'NoneType' object has no attribute 'answer'",
     "output_type": "error",
     "traceback": [
      "\u001b[0;31m---------------------------------------------------------------------------\u001b[0m",
      "\u001b[0;31mAttributeError\u001b[0m                            Traceback (most recent call last)",
      "Cell \u001b[0;32mIn[88], line 1\u001b[0m\n\u001b[0;32m----> 1\u001b[0m \u001b[38;5;28mprint\u001b[39m(\u001b[43msq\u001b[49m\u001b[38;5;241;43m.\u001b[39;49m\u001b[43manswer\u001b[49m)\n",
      "\u001b[0;31mAttributeError\u001b[0m: 'NoneType' object has no attribute 'answer'"
     ]
    }
   ],
   "source": [
    "print(sq.answer)"
   ]
  },
  {
   "cell_type": "code",
   "execution_count": 79,
   "metadata": {},
   "outputs": [
    {
     "name": "stdout",
     "output_type": "stream",
     "text": [
      "\u001b[33mTable 1: Table vebitdaEurope has columns: Industry_Name (VARCHAR), Number_of_firms (INTEGER), EV_EBITDAR_D (INTEGER), EV_EBITDA (INTEGER), EV_EBIT (INTEGER), EV_EBIT_1_t_ (INTEGER), EV_EBITDAR_D_1 (INTEGER), EV_EBITDA_1 (INTEGER), EV_EBIT_1 (INTEGER), EV_EBIT_1_t__1 (INTEGER)\n",
      "\tRow 1 from table vebitdaEurope: Semiconductor Equip, 22, 20.28107862613825, 28.36129950173844, 31.71635247580943, 37.38324667556149, 23.781570123044325, 35.667939227507524, 31.794984945122746, 37.475928739152\n",
      "\tRow 2 from table vebitdaEurope: Software (Entertainment), 56, 17.77241413235683, 20.00708004972688, 28.64367931148324, 36.86489399905724, 24.81277814286558, 29.139687513959103, 30.081103055342503, 38.714882381236\n",
      "\tRow 3 from table vebitdaEurope: Semiconductor, 40, 7.00817592116031, 9.86278743981582, 14.935650351665608, 18.01201491880508, 7.220573698426155, 10.254900192422513, 15.052454298660985, 18.1528775117501\n",
      "\tRow 4 from table vebitdaEurope: Electronics (General), 151, 11.0498649696136, 15.605810109835122, 21.43403622115555, 26.563602892872552, 11.606554388970672, 16.652518539786072, 21.690933011824374, 26.8819799013542\n",
      "\tRow 5 from table vebitdaEurope: Software (Internet), 28, 8.390109051835601, 9.76590458232233, 28.886597582474533, 42.65132685610735, 9.643650705562568, 11.461552726888376, 29.49067133463011, 43.543247303810\n",
      "\n",
      "\n",
      "Table 2: Table EVAEurope has columns: Industry_Name (VARCHAR), Number_of_Firms (INTEGER), Beta (INTEGER), ROE (INTEGER), Cost_of_Equity (INTEGER), _ROE_COE_ (INTEGER), BV_of_Equity (INTEGER), Equity_EVA (INTEGER), ROC (INTEGER), Cost_of_Capital (INTEGER), _ROC_WACC_ (INTEGER), BV_of_Capital (INTEGER), EVA (INTEGER), E_D_E_ (INTEGER), Std_Dev_in_Stock (INTEGER), Cost_of_Debt (INTEGER), Tax_Rate (INTEGER), After_tax_Cost_of_Debt (INTEGER), D_D_E_ (INTEGER)\n",
      "\tRow 1 from table EVAEurope: Semiconductor Equip, 22, 1.7327199822089587, 0.6103817500875819, 0.1408572069521076, 0.4695245431354742, 16381.843, 7691.677350292066, 0.424335979984669, 0.1387284630385463, 0.2856075169461227, 25265.859028722836, 7216.119260704305, 0.9776722290677916, 0.3468616676559136, 0.0604549999999999, 0.1185177770467192, 0.0455165695, 0.02232777093220\n",
      "\tRow 2 from table EVAEurope: Software (Entertainment), 56, 1.2950431993104936, -0.076511680599018, 0.115078044439388, -0.1915897250384061, 14732.377999999995, -2822.572250181863, 0.0963321879426379, 0.1095024490317834, -0.0131702610891454, 17149.81135325596, -225.86749315197125, 0.9198465039382367, 0.4341540233572555, 0.0604549999999999, 0.0787306191955155, 0.0455165695, 0.08015349606176\n",
      "\tRow 3 from table EVAEurope: Semiconductor, 40, 1.4028368020266158, 0.2433630251871602, 0.1214270876393676, 0.1219359375477925, 39663.741, 4836.4354454878185, 0.2149754521950528, 0.112142615139274, 0.1028328370557788, 58412.13293629167, 6006.685348318176, 0.8776918834482479, 0.4451812160577769, 0.0604549999999999, 0.0456567552587724, 0.0455165695, 0.12230811655175\n",
      "\tRow 4 from table EVAEurope: Electronics (General), 151, 1.2131330452408935, 0.1286803463745066, 0.1102535363646886, 0.0184268100098179, 38382.154999999984, 707.260677952385, 0.1239594441263913, 0.1026154657066846, 0.0213439784197067, 51099.49695546622, 1090.6665602753412, 0.8820137700617192, 0.3614719796822816, 0.0604549999999999, 0.1235453554716244, 0.0455165695, 0.11798622993828\n",
      "\tRow 5 from table EVAEurope: Software (Internet), 28, 1.2218335144293462, 0.327709550349403, 0.1107659939998885, 0.2169435563495145, 409.985, 88.94360394995572, 0.3731751557732906, 0.0953270558917536, 0.2778480998815369, 955.5177585407156, 265.48879361360304, 0.763385834795199, 0.4100785743981639, 0.0604549999999999, 0.0837513620061728, 0.0455165695, 0.2366141652048\n",
      "\n",
      "\n",
      "Table 3: Table DollarEurope has columns: Industry_Name (VARCHAR), Number_of_firms (INTEGER), Average_Company_Age_years_ (INTEGER), Market_Cap_millions_ (INTEGER), Book_Equity_millions_ (INTEGER), Enteprise_Value_millions_ (INTEGER), Invested_Capital_millions_ (INTEGER), Total_Debt_including_leases_millions_ (INTEGER), Revenues_millions_ (INTEGER), Gross_Profit_millions_ (INTEGER), EBITDA_millions_ (INTEGER), EBIT_Operating_Income_millions_ (INTEGER), Net_Income_millions_ (INTEGER)\n",
      "\tRow 1 from table DollarEurope: Semiconductor Equip, 22, 35.90909090909091, 359046.77, 16381.843, 358911.02822872275, 17770.12117229162, 8199.797228722835, 39018.405, 18873.849999999995, 12521.379000000004, 11288.290554255433, 9999.1780000000\n",
      "\tRow 2 from table DollarEurope: Software (Entertainment), 56, 17.096153846153847, 50236.968000000015, 14732.377999999995, 53649.370078825246, 14246.253008628151, 4377.544078825238, 7667.148999999998, 4798.518, 2341.423999999999, 1783.490784234953, -1127.19900000000\n",
      "\tRow 3 from table DollarEurope: Semiconductor, 40, 22.81081081081081, 177255.27800000002, 39663.741, 190716.2549362917, 44238.7150047217, 24700.876936291683, 57145.04000000001, 26939.291, 19013.588000000003, 12670.110212741663, 9652.6\n",
      "\tRow 4 from table DollarEurope: Electronics (General), 151, 36.62068965517241, 137610.139, 38382.154999999984, 149686.1919554662, 43150.82195546619, 18407.990955466204, 53792.087000000014, 21727.347, 9267.494000000002, 6900.864608906762, 4939.0289999999\n",
      "\tRow 5 from table DollarEurope: Software (Internet), 28, 19.73076923076923, 6112.747, 409.985, 7840.538758540714, 943.6477585407156, 1894.6677585407149, 3372.895, 1676.9160000000002, 733.2970000000004, 265.8650482918569, 134.3\n",
      "\n",
      "\n",
      "Table 4: Table dbtfundEurope has columns: Industry_Name (VARCHAR), Number_of_firms (INTEGER), Book_Debt_to_Capital (INTEGER), Market_Debt_to_Capital_Unadjusted_ (INTEGER), Market_D_E_unadjusted_ (INTEGER), Market_Debt_to_Capital_adjusted_for_leases_ (INTEGER), Market_D_E_adjusted_for_leases_ (INTEGER), Interest_Coverage_Ratio (INTEGER), Debt_to_EBITDA (INTEGER), Effective_tax_rate (INTEGER), Institutional_Holdings (INTEGER), Std_dev_in_Stock_Prices (INTEGER), EBITDA_EV (INTEGER), Net_PP_E_Total_Assets (INTEGER), Capital_Spending_Total_Assets (INTEGER)\n",
      "\tRow 1 from table dbtfundEurope: Semiconductor Equip, 22, 0.2562453708112032, 0.0218474203373985, 0.0223353910132654, 0.0223277709322085, 0.0228376855436489, 107.29869956779191, 0.8148812553221095, 0.1185177770467192, 0.285422380952381, 0.3468616676559136, 0.0348871391937851, 0.2005438622974292, 0.07227552205313\n",
      "\tRow 2 from table dbtfundEurope: Software (Entertainment), 56, 0.2390690457081535, 0.0789287448797842, 0.085692333183802, 0.0801534960617632, 0.0871379036813136, 8.06373955742619, 2.377665690168017, 0.0787306191955155, 0.25795475, 0.4341540233572555, 0.0436430846542992, 0.0230258977439532, 0.01005919519737\n",
      "\tRow 3 from table dbtfundEurope: Semiconductor, 40, 0.3351104454994911, 0.1210113662912833, 0.1376711389096125, 0.1223081165517521, 0.1393519968206062, 14.570972220940856, 1.3281774420937442, 0.0456567552587724, 0.2568645161290323, 0.4451812160577769, 0.099695686696194, 0.2504310961085823, 0.10814289033663\n",
      "\tRow 4 from table dbtfundEurope: Electronics (General), 151, 0.303835464922381, 0.1170760696937267, 0.1326004038118151, 0.1179862299382807, 0.1337691473116396, 11.676854501639616, 2.0478803466208504, 0.1235453554716244, 0.2426173170731707, 0.3614719796822816, 0.0619128182695516, 0.1633422696090695, 0.03831755740652\n",
      "\tRow 5 from table dbtfundEurope: Software (Internet), 28, 0.7749913012365374, 0.2360498656501905, 0.3089859599947453, 0.236614165204801, 0.3099535705535849, 1.844528175965964, 2.7696865079322155, 0.0837513620061728, 0.1279009523809524, 0.4100785743981639, 0.0935263535558979, 0.2016808223533872, 0.16410327065411\n",
      "\n",
      "\n",
      "Table 5: Table betaEurope has columns: Industry_Name (VARCHAR), Number_of_firms (INTEGER), Beta_ (INTEGER), D_E_Ratio (INTEGER), Effective_Tax_rate (INTEGER), Unlevered_beta (INTEGER), Cash_Firm_value (INTEGER), Unlevered_beta_corrected_for_cash (INTEGER), HiLo_Risk (INTEGER), Standard_deviation_of_equity (INTEGER), Standard_deviation_in_operating_income_last_10_years_ (INTEGER), 2020 (INTEGER), 2021_0 (INTEGER), 2022_0 (INTEGER), 2022_0_1 (INTEGER), Average_2020_24 (INTEGER)\n",
      "\tRow 1 from table betaEurope: Semiconductor Equip, 22, 1.7327199822089587, 0.0228376855436489, 0.1185177770467192, 1.703430360047719, 0.0226973911911573, 1.7429917250746894, 0.4009828928083914, 0.3468616676559136, 0.6710886066796216, 2.08, 1.37, 1.5, 1.827714532677128, 1.70414125155036\n",
      "\tRow 2 from table betaEurope: Software (Entertainment), 56, 1.2950431993104936, 0.0871379036813136, 0.0787306191955155, 1.2153113290817847, 0.0176718964111042, 1.2371745495641366, 0.448602828521969, 0.4341540233572555, 0.182373324399755, 1.28, 1.05, 1.01, 1.2643925029484495, 1.16831341050251\n",
      "\tRow 3 from table betaEurope: Semiconductor, 40, 1.4028368020266158, 0.1393519968206062, 0.0456567552587724, 1.2696296482585585, 0.055655149522656, 1.3444555213244302, 0.5193719674416071, 0.4451812160577769, 0.8815992248366078, 1.81, 1.16, 1.27, 1.4469208038395085, 1.4062752650327\n",
      "\tRow 4 from table betaEurope: Electronics (General), 151, 1.2131330452408935, 0.1337691473116396, 0.1235453554716244, 1.1021320465101696, 0.0405846295030416, 1.148753793614216, 0.3968871510330226, 0.3614719796822816, 0.1943438930536944, 1.2, 0.95, 1.01, 1.1394180405083687, 1.0896343668245\n",
      "\tRow 5 from table betaEurope: Software (Internet), 28, 1.2218335144293462, 0.3099535705535849, 0.0837513620061728, 0.9906511553475492, 0.0208401843831069, 1.0117359184347412, 0.4110628484952367, 0.4100785743981639, 0.8936617948047033, 0.95, 0.7, 0.85, 1.0384541483190144, 0.91003801335075\n",
      "\n",
      "\n",
      "\u001b[0m\n",
      "Prediction(\n",
      "    rationale='produce the SQL. We need to find the EBITDA value for all Software industries and the semiconductor industry. We will need to join the tables vebitdaEurope and DollarEurope on the Industry_Name column to get the EBITDA values for each industry.',\n",
      "    sql=\"```sql\\nSELECT DISTINCT v.Industry_Name AS Industry, v.EV_EBITDA AS EBITDA, v.Number_of_firms AS Number_of_Firms\\nFROM vebitdaEurope v\\nJOIN DollarEurope d ON v.Industry_Name = d.Industry_Name\\nWHERE v.Industry_Name LIKE '%Software%' OR v.Industry_Name LIKE '%Semiconductor%'\\n```\"\n",
      ")\n",
      "Extracted rows:  Industry = Semiconductor, EBITDA = 9.86278743981582, Number_of_Firms = 40\n",
      " Industry = Semiconductor Equip, EBITDA = 28.36129950173844, Number_of_Firms = 22\n",
      " Industry = Software (Entertainment), EBITDA = 20.00708004972688, Number_of_Firms = 56\n",
      " Industry = Software (Internet), EBITDA = 9.76590458232233, Number_of_Firms = 28\n",
      " Industry = Software (System & Application), EBITDA = 27.53292920290033, Number_of_Firms = 339\n",
      "\n"
     ]
    }
   ],
   "source": [
    "# tsql = TextToSQLQueryModule(\"US\")\n",
    "# sq = tsql(question=\"What is the effective tax rate of the healthcare industry?\")\n",
    "sq = tsql_(question=\"What is the EBITDA value and number of firms for all the Software industries and semiconductor industry?\")\n",
    "# sq = tsql(\"What is the debt to EBITDA ratio for software industry?\")"
   ]
  },
  {
   "cell_type": "code",
   "execution_count": 82,
   "metadata": {},
   "outputs": [
    {
     "name": "stdout",
     "output_type": "stream",
     "text": [
      "None\n"
     ]
    }
   ],
   "source": [
    "print(sq)"
   ]
  },
  {
   "cell_type": "code",
   "execution_count": 85,
   "metadata": {},
   "outputs": [
    {
     "name": "stdout",
     "output_type": "stream",
     "text": [
      "\u001b[33mTable 1: Table totalbeta has columns: Industry_Name (VARCHAR), Number_of_firms (INTEGER), Average_Unlevered_Beta (INTEGER), Average_Levered_Beta (INTEGER), Average_correlation_with_the_market (INTEGER), Total_Unlevered_Beta (INTEGER), Total_Levered_Beta (INTEGER)\n",
      "\tRow 1 from table totalbeta: Semiconductor, 63, 1.460244593924559, 1.495241185083536, 0.4684020091420205, 3.1175028403471465, 3.19221770167551\n",
      "\tRow 2 from table totalbeta: Total Market (without financials), 5214, 0.972267805446803, 1.097522642247185, 0.3138518263911181, 3.0978561336621806, 3.49694521413893\n",
      "\tRow 3 from table totalbeta: Semiconductor Equip, 30, 1.5077650793777069, 1.5279822074255314, 0.514541200278443, 2.930309717786997, 2.96960128090552\n",
      "\tRow 4 from table totalbeta: Software (Entertainment), 84, 1.1136804709373258, 1.1083305740238332, 0.269255180589211, 4.136152435397007, 4.1162831912777\n",
      "\tRow 5 from table totalbeta: Software (Internet), 35, 1.5117563379021286, 1.6160843271745926, 0.3555053555262936, 4.252415088555023, 4.5458789918428\n",
      "\n",
      "\n",
      "Table 2: Table wacc has columns: Industry_Name (VARCHAR), Number_of_Firms (INTEGER), Beta (INTEGER), Cost_of_Equity (INTEGER), E_D_E_ (INTEGER), Std_Dev_in_Stock (INTEGER), Cost_of_Debt (INTEGER), Tax_Rate (INTEGER), After_tax_Cost_of_Debt (INTEGER), D_D_E_ (INTEGER), Cost_of_Capital (INTEGER), Cost_of_Capital_Local_Currency_ (INTEGER)\n",
      "\tRow 1 from table wacc: Semiconductor, 63, 1.495241185083536, 0.1075810945138426, 0.9429918970527876, 0.4147143445700453, 0.050855, 0.048865843574454, 0.03814125, 0.0570081029472124, 0.103622460709159, 0.10362246070915\n",
      "\tRow 2 from table wacc: Total Market (without financials), 5214, 1.097522642247185, 0.0892860415433705, 0.815661408370401, 0.4700345950094993, 0.050855, 0.0680489965490159, 0.03814125, 0.1843385916295989, 0.0798580827010761, 0.07985808270107\n",
      "\tRow 3 from table wacc: Semiconductor Equip, 30, 1.5279822074255314, 0.1090871815415744, 0.9278342360745604, 0.3704014298865129, 0.050855, 0.1214195116015062, 0.03814125, 0.0721657639254397, 0.1039673141944747, 0.10396731419447\n",
      "\tRow 4 from table wacc: Software (Entertainment), 84, 1.1083305740238332, 0.0897832064050963, 0.9694385050656324, 0.5278932207822914, 0.053524, 0.0511174704478853, 0.040143, 0.0305614949343675, 0.088266127488506, 0.08826612748850\n",
      "\tRow 5 from table wacc: Software (Internet), 35, 1.6160843271745926, 0.1131398790500312, 0.8930134645020447, 0.65221602599035, 0.060879, 0.0260557605345441, 0.04565925, 0.1069865354979553, 0.1059203603347457, 0.10592036033474\n",
      "\n",
      "\n",
      "Table 3: Table EVA has columns: Industry_Name (VARCHAR), Number_of_Firms (INTEGER), Beta (INTEGER), ROE (INTEGER), Cost_of_Equity (INTEGER), _ROE_COE_ (INTEGER), BV_of_Equity (INTEGER), Equity_EVA_US_millions_ (INTEGER), ROC (INTEGER), Cost_of_Capital (INTEGER), _ROC_WACC_ (INTEGER), BV_of_Capital (INTEGER), EVA_US_millions_ (INTEGER), E_D_E_ (INTEGER), Std_Dev_in_Stock (INTEGER), Cost_of_Debt (INTEGER), Tax_Rate (INTEGER), After_tax_Cost_of_Debt (INTEGER), D_D_E_ (INTEGER)\n",
      "\tRow 1 from table EVA: Semiconductor, 63, 1.495241185083536, 0.1261187631309164, 0.1075810945138426, 0.0185376686170738, 388959.904, 7210.409805680843, 0.113683583917687, 0.103622460709159, 0.010061123208528, 513006.6066332741, 5161.422676126232, 0.9429918970527876, 0.4147143445700453, 0.050855, 0.048865843574454, 0.03814125, 0.05700810294721\n",
      "\tRow 2 from table EVA: Total Market (without financials), 5214, 1.097522642247185, 0.1659255247192018, 0.0892860415433705, 0.0766394831758313, 8566043.05699999, 656497.1127503973, 0.1466884216172786, 0.0798580827010761, 0.0668303389162024, 14577190.305961732, 974198.568593403, 0.815661408370401, 0.4700345950094993, 0.050855, 0.0680489965490159, 0.03814125, 0.1843385916295\n",
      "\tRow 3 from table EVA: Semiconductor Equip, 30, 1.5279822074255314, 0.3289066823779071, 0.1090871815415744, 0.2198195008363326, 44503.16999999999, 9782.664615034451, 0.2568363246651193, 0.1039673141944747, 0.1528690104706445, 70041.38797094872, 10707.15767110944, 0.9278342360745604, 0.3704014298865129, 0.050855, 0.1214195116015062, 0.03814125, 0.07216576392543\n",
      "\tRow 4 from table EVA: Software (Entertainment), 84, 1.1083305740238332, 0.2325593855621183, 0.0897832064050963, 0.1427761791570219, 403869.63, 57662.96264896017, 0.1994487340625551, 0.088266127488506, 0.1111826065740491, 620525.0853364643, 68991.59643229235, 0.9694385050656324, 0.5278932207822914, 0.053524, 0.0511174704478853, 0.040143, 0.03056149493436\n",
      "\tRow 5 from table EVA: Software (Internet), 35, 1.6160843271745926, -0.1454065112919735, 0.1131398790500312, -0.2585463903420048, 28399.863, -7342.682064857458, -0.0048109532624457, 0.1059203603347457, -0.1107313135971915, 45334.05312597519, -5019.899253324099, 0.8930134645020447, 0.65221602599035, 0.060879, 0.0260557605345441, 0.04565925, 0.10698653549795\n",
      "\n",
      "\n",
      "Table 4: Table optvar has columns: Industry_Name (VARCHAR), Number_of_Firms (INTEGER), Std_Deviation_in_Equity (INTEGER), Std_Deviation_in_Firm_Value (INTEGER), E_D_E_ (INTEGER), D_D_E_ (INTEGER)\n",
      "\tRow 1 from table optvar: Semiconductor, 63, 0.4147143445700453, 0.3958854047799948, 0.9429918970527876, 0.05700810294721\n",
      "\tRow 2 from table optvar: Total Market (without financials), 5214, 0.4700345950094993, 0.4018407090685649, 0.815661408370401, 0.1843385916295\n",
      "\tRow 3 from table optvar: Semiconductor Equip, 30, 0.3704014298865129, 0.3491399987451589, 0.9278342360745604, 0.07216576392543\n",
      "\tRow 4 from table optvar: Software (Entertainment), 84, 0.5278932207822914, 0.5150169798035865, 0.9694385050656324, 0.03056149493436\n",
      "\tRow 5 from table optvar: Software (Internet), 35, 0.65221602599035, 0.5968830046485857, 0.8930134645020447, 0.10698653549795\n",
      "\n",
      "\n",
      "Table 5: Table Employee has columns: Industry_Name (VARCHAR), Number_of_firms (INTEGER), Number_of_Employees (INTEGER), Market_Capitalization_millions_ (INTEGER), Revenues_millions_ (INTEGER), Mkt_Cap_per_Employee_ (INTEGER), Revenues_per_Employee_ (INTEGER), Stock_based_Compensation_millions_ (INTEGER), Stock_based_Compensation_as_of_Revenue (INTEGER)\n",
      "\tRow 1 from table Employee: Semiconductor, 63, 500487, 808190.1, 90861.7, 1614807.3776142038, 181546.5736372773, 16578.513999999996, 0.0556479245838\n",
      "\tRow 2 from table Employee: Total Market (without financials), 5214, 37972621, 10850254.874000004, 3275178.419000001, 285738.8978759197, 86251.04964442673, 274548.627, 0.01466115081705\n",
      "\tRow 3 from table Employee: Semiconductor Equip, 30, 155287, 243047.45, 44104.99, 1565150.0125573936, 284022.4229974177, 1609.3470000000002, 0.01972289848898\n",
      "\tRow 4 from table Employee: Software (Entertainment), 84, 316753, 2694640.136, 429105.14700000006, 8507070.607066074, 1354699.5513854646, 39494.15500000002, 0.08556358893654\n",
      "\tRow 5 from table Employee: Software (Internet), 35, 63498, 139240.733, 8360.088, 2192836.514535891, 131659.07587640555, 4543.515, 0.15755278182817\n",
      "\n",
      "\n",
      "\u001b[0m\n",
      "Prediction(\n",
      "    rationale=\"produce the SQL. We need to retrieve the beta value and number of firms for all the Software industries and semiconductor industry. To do this, we need to join the tables totalbeta and wacc on the Industry_Name column, as they both contain the required information.\\n\\nSQL: \\n\\n```sql\\nSELECT DISTINCT t.Industry_Name AS Industry, t.Number_of_firms AS Number_of_Firms, w.Beta AS Beta\\nFROM totalbeta t\\nJOIN wacc w ON t.Industry_Name = w.Industry_Name\\nWHERE t.Industry_Name LIKE 'Software%' OR t.Industry_Name = 'Semiconductor';\\n```\",\n",
      "    sql=\"```sql\\nSELECT DISTINCT t.Industry_Name AS Industry, t.Number_of_firms AS Number_of_Firms, w.Beta AS Beta \\nFROM totalbeta t \\nJOIN wacc w ON t.Industry_Name = w.Industry_Name \\nWHERE t.Industry_Name LIKE 'Software%' OR t.Industry_Name = 'Semiconductor';\\n```\"\n",
      ")\n",
      "Extracted rows:  Industry = Semiconductor, Number_of_Firms = 63, Beta = 1.495241185083536\n",
      " Industry = Software (Entertainment), Number_of_Firms = 84, Beta = 1.1083305740238332\n",
      " Industry = Software (Internet), Number_of_Firms = 35, Beta = 1.6160843271745926\n",
      " Industry = Software (System & Application), Number_of_Firms = 351, Beta = 1.2939647291542515\n",
      "\n"
     ]
    },
    {
     "ename": "AttributeError",
     "evalue": "'NoneType' object has no attribute 'answer'",
     "output_type": "error",
     "traceback": [
      "\u001b[0;31m---------------------------------------------------------------------------\u001b[0m",
      "\u001b[0;31mAttributeError\u001b[0m                            Traceback (most recent call last)",
      "Cell \u001b[0;32mIn[85], line 3\u001b[0m\n\u001b[1;32m      1\u001b[0m tsql \u001b[38;5;241m=\u001b[39m TextToSQLQueryModule(\u001b[38;5;124m\"\u001b[39m\u001b[38;5;124mUS\u001b[39m\u001b[38;5;124m\"\u001b[39m)\n\u001b[1;32m      2\u001b[0m sq \u001b[38;5;241m=\u001b[39m tsql(question\u001b[38;5;241m=\u001b[39m\u001b[38;5;124m\"\u001b[39m\u001b[38;5;124mWhat is the beta value and number of firms for all the Software industries and semiconductor industry?\u001b[39m\u001b[38;5;124m\"\u001b[39m)\n\u001b[0;32m----> 3\u001b[0m \u001b[38;5;28mprint\u001b[39m(\u001b[43msq\u001b[49m\u001b[38;5;241;43m.\u001b[39;49m\u001b[43manswer\u001b[49m)\n",
      "\u001b[0;31mAttributeError\u001b[0m: 'NoneType' object has no attribute 'answer'"
     ]
    }
   ],
   "source": [
    "tsql = TextToSQLQueryModule(\"US\")\n",
    "sq = tsql(question=\"What is the beta value and number of firms for all the Software industries and semiconductor industry?\")\n",
    "print(sq.answer)"
   ]
  },
  {
   "cell_type": "code",
   "execution_count": 87,
   "metadata": {},
   "outputs": [
    {
     "name": "stdout",
     "output_type": "stream",
     "text": [
      "\u001b[33mTable 1: Table wcdataChina has columns: Industry_Name (VARCHAR), Number_of_firms (INTEGER), Acc_Rec_Sales (INTEGER), Inventory_Sales (INTEGER), Acc_Pay_Sales (INTEGER), Non_cash_WC_Sales (INTEGER)\n",
      "\tRow 1 from table wcdataChina: Environmental & Waste Services, 120, 0.7805756405836219, 0.1216584329026157, 0.4453190049448064, 0.4198965561444552\n",
      "\tRow 2 from table wcdataChina: Software (Internet), 19, 0.1839404184195781, 0.0865016001747371, 0.1431776526338781, 0.1385868130407118\n",
      "\tRow 3 from table wcdataChina: Utility (Water), 38, 0.5584269470144421, 0.056806454518549, 0.4650795448209008, 0.0671323545181202\n",
      "\tRow 4 from table wcdataChina: Power, 101, 0.1683105125531092, 0.0570632319985086, 0.1227652527863432, 0.0491055449848438\n",
      "\tRow 5 from table wcdataChina: Packaging & Container, 22, 0.2572060652570855, 0.2016428061075975, 0.2346039323612692, 0.193016274577258\n",
      "\n",
      "\n",
      "Table 2: Table waccChina has columns: Industry_Name (VARCHAR), Number_of_Firms (INTEGER), Beta (INTEGER), Cost_of_Equity (INTEGER), E_D_E_ (INTEGER), Std_Dev_in_Stock (INTEGER), Cost_of_Debt (INTEGER), Tax_Rate (INTEGER), After_tax_Cost_of_Debt (INTEGER), D_D_E_ (INTEGER), Cost_of_Capital (INTEGER), Cost_of_Capital_Local_Currency_ (INTEGER)\n",
      "\tRow 1 from table waccChina: Environmental & Waste Services, 120, 1.0260843257446013, 0.096568547539421, 0.5693272218997147, 0.2807677994428052, 0.0585549999999999, 0.1004761945544854, 0.04391625, 0.4306727781002852, 0.0738926362847557, 0.0738926362847558\n",
      "\tRow 2 from table waccChina: Utility (Water), 38, 0.621853508338659, 0.0738103525194665, 0.4153411738771336, 0.2187327777480227, 0.052743, 0.1641446172200444, 0.03955725, 0.5846588261228663, 0.053783973809369, 0.053783973809369\n",
      "\tRow 3 from table waccChina: Software (Internet), 19, 0.9517387989546392, 0.0923828943811461, 0.7992627579619607, 0.3399832570802881, 0.0585549999999999, 0.0593218951020171, 0.04391625, 0.2007372420380393, 0.0826538338572364, 0.0826538338572364\n",
      "\tRow 4 from table waccChina: Packaging & Container, 22, 0.6632370473734861, 0.0761402457671272, 0.757479232841846, 0.2436783961826011, 0.052743, 0.1253655434552159, 0.03955725, 0.2425207671581539, 0.06726810956874, 0.0672681095687401\n",
      "\tRow 5 from table waccChina: Semiconductor, 173, 1.3766066410015918, 0.1163029538883896, 0.8916915589224178, 0.3505300755906819, 0.0585549999999999, 0.0455831075871332, 0.04391625, 0.1083084410775822, 0.1084628628354936, 0.1084628628354935\n",
      "\n",
      "\n",
      "Table 3: Table goodwillChina has columns: Industry_Name (VARCHAR), Number_of_Firms (INTEGER), Goodwill_in_millions_ (INTEGER), Change_in_Goodwill_in_last_year (INTEGER), Goodwill_as_of_Total_Assets (INTEGER), Impairment_of_Goodwill_in_LTM_in_millioins (INTEGER), Impairment_as_of_Goodwill (INTEGER)\n",
      "\tRow 1 from table goodwillChina: Environmental & Waste Services, 120, 1281.1550000000004, -305.801, 0.0098994856290149, 280.593, 0.2190156538436019\n",
      "\tRow 2 from table goodwillChina: Utility (Water), 38, 1178.812, -76.12300000000005, 0.0110438247444923, 2.713, 0.0023014696151718\n",
      "\tRow 3 from table goodwillChina: Power, 101, 12486.593, 553.064999999995, 0.0129974053264763, 284.26500000000004, 0.0227656174906958\n",
      "\tRow 4 from table goodwillChina: Software (Internet), 19, 437.1, -210.456, 0.0226844571766647, 209.421, 0.4791146190803019\n",
      "\tRow 5 from table goodwillChina: Packaging & Container, 22, 113.071, -31.805000000000007, 0.0080682012786847, 10.104, 0.0893597827913435\n",
      "\n",
      "\n",
      "Table 4: Table DollarChina has columns: Industry_Name (VARCHAR), Number_of_firms (INTEGER), Average_Company_Age_years_ (INTEGER), Market_Cap_millions_ (INTEGER), Book_Equity_millions_ (INTEGER), Enteprise_Value_millions_ (INTEGER), Invested_Capital_millions_ (INTEGER), Total_Debt_including_leases_millions_ (INTEGER), Revenues_millions_ (INTEGER), Gross_Profit_millions_ (INTEGER), EBITDA_millions_ (INTEGER), EBIT_Operating_Income_millions_ (INTEGER), Net_Income_millions_ (INTEGER)\n",
      "\tRow 1 from table DollarChina: Environmental & Waste Services, 120, 20.66379310344828, 63702.35200000002, 45104.79, 102308.07112384203, 89101.32412384207, 48188.22612384208, 35182.369999999995, 8751.014000000001, 5743.255999999997, 3536.412575231586, 711.52\n",
      "\tRow 2 from table DollarChina: Software (Internet), 19, 18.36842105263158, 22998.899999999998, 8376.390000000001, 26335.94280615911, 11691.322806159107, 5776.242806159108, 21060.2, 1836.089, 965.741, 463.86443876817833, 209.86\n",
      "\tRow 3 from table DollarChina: Utility (Water), 38, 24.257142857142856, 36310.41, 37787.3, 78750.12983004378, 87258.598, 51112.68283004377, 23313.9, 7664.893, 7358.603000000001, 4848.412433991248, 2454.96\n",
      "\tRow 4 from table DollarChina: Packaging & Container, 22, 20.454545454545453, 11669.89, 6646.999999999999, 13670.927747010572, 8812.14674701057, 3736.3277470105695, 9447.249999999996, 1447.605, 1022.056, 562.4454505978858, 412.2699999999999\n",
      "\tRow 5 from table DollarChina: Telecom (Wireless), 8, 18.25, 204487.52, 197714.1, 184902.649, 207578.19200000004, 21250.229, 188443.0, 51715.42999999999, 49397.89, 21422.96, 19285.28\n",
      "\n",
      "\n",
      "Table 5: Table divfcfeChina has columns: Industry_name (VARCHAR), Number_of_firms (INTEGER), _Dividends_ (INTEGER), _Net_Income_ (INTEGER), Payout (INTEGER), Dividends_Buybacks (INTEGER), Cash_Return_as_of_Net_Income (INTEGER), Dividends_Buybacks_Stock_Issuances (INTEGER), FCFE_before_debt_cash_flows_ (INTEGER), FCFE_after_debt_cash_flows_ (INTEGER), Net_Cash_Returned_FCFE_pre_debt_ (INTEGER), Net_Cash_Returned_FCFE_post_debt_ (INTEGER), Net_Cash_Returned_Net_Income (INTEGER), Cash_Firm_Value (INTEGER)\n",
      "\tRow 1 from table divfcfeChina: Telecom (Wireless), 8, 14213.16, 19285.28, 0.7369952627081381, 14321.986, 0.7426382194087926, 13860.877, 9217.517999999996, 2496.7279999999955, 1.503753721988935, 5.551616756010276, 0.7187283254378468, 0.1808961956114836\n",
      "\tRow 2 from table divfcfeChina: Utility (General), 4, 89.39999999999999, 142.57, 0.6270603913866872, 89.39999999999999, 0.6270603913866872, 89.39999999999999, 97.29000000000002, 340.03, 0.9189022510021582, 0.262917977825486, 0.6270603913866872, 0.1293218296009642\n",
      "\tRow 3 from table divfcfeChina: Oil/Gas (Production and Exploration), 15, 8865.4, 18678.828999999994, 0.4746229006111679, 8990.207, 0.4813046363880735, 8971.107, 9300.488999999998, 6030.410999999996, 0.9645844428180068, 1.4876443744879089, 0.4802820883471872, 0.1872653060931191\n",
      "\tRow 4 from table divfcfeChina: Office Equipment & Services, 10, 143.689, 227.36500000000007, 0.6319750181426339, 166.519, 0.7323862511820199, 98.474, 63.8070000000001, 37.09000000000015, 1.5433102951086848, 2.6550013480722465, 0.4331097574384798, 0.143033301916431\n",
      "\tRow 5 from table divfcfeChina: Total Market, 7504, 504086.7439999993, 798823.6939999987, 0.6310362947246281, 546579.9069999994, 0.6842309649868752, 297353.3259999999, 332582.1279999978, 531681.1990000112, 0.8940748794535401, 0.5592699658352854, 0.3722389911984763, 0.1603796454322562\n",
      "\n",
      "\n",
      "\u001b[0m\n",
      "Prediction(\n",
      "    rationale='produce the SQL. We need to retrieve the beta value and number of firms for the Software industries and semiconductor industry. We have the necessary information in the tables wcdataChina and waccChina.',\n",
      "    sql=\"```sql\\nSELECT DISTINCT waccChina.Industry_Name AS Industry, waccChina.Beta AS Beta_Value, waccChina.Number_of_Firms AS Number_of_Firms\\nFROM waccChina\\nWHERE waccChina.Industry_Name IN ('Software (Internet)', 'Semiconductor');\\n```\"\n",
      ")\n",
      " Industry = Semiconductor, Beta_Value = 1.3766066410015918, Number_of_Firms = 173\n",
      " Industry = Software (Internet), Beta_Value = 0.9517387989546392, Number_of_Firms = 19\n",
      "\n",
      "The beta value for the Semiconductor industry is 1.3766066410015918 with 173 firms, and for the Software (Internet) industry, the beta value is 0.9517387989546392 with 19 firms.\n"
     ]
    }
   ],
   "source": [
    "tsql = TextToSQLQueryModule(\"China\")\n",
    "sq = tsql(question=\"What is the beta value and number of firms for all the Software industries and semiconductor industry?\")\n",
    "print(sq.answer)"
   ]
  },
  {
   "cell_type": "code",
   "execution_count": 13,
   "metadata": {},
   "outputs": [
    {
     "name": "stdout",
     "output_type": "stream",
     "text": [
      "\u001b[33mTable 1: Table wcdata has columns: Industry_Name (VARCHAR), Number_of_firms (INTEGER), Acc_Rec_Sales (INTEGER), Inventory_Sales (INTEGER), Acc_Pay_Sales (INTEGER), Non_cash_WC_Sales (INTEGER)\n",
      "\tRow 1 from table wcdata: Environmental & Waste Services, 57, 0.1610239529643997, 0.0160835818498789, 0.0732441943895783, 0.1018059159059052\n",
      "\tRow 2 from table wcdata: Utility (Water), 13, 0.1519332278688117, 0.0326291583073621, 0.0835453907415389, 0.1135057399930943\n",
      "\tRow 3 from table wcdata: Software (Internet), 35, 0.1228885101454502, 1.6367264776917992e-05, 0.0423722824532171, 0.0966957543939344\n",
      "\tRow 4 from table wcdata: Packaging & Container, 22, 0.1374846253483106, 0.1265656973833159, 0.1305482832092476, 0.1112268155694879\n",
      "\tRow 5 from table wcdata: Semiconductor, 63, 0.1290909417966836, 0.1898317691334856, 0.0849115283669021, 0.2240302287823765\n",
      "\n",
      "\n",
      "Table 2: Table wacc has columns: Industry_Name (VARCHAR), Number_of_Firms (INTEGER), Beta (INTEGER), Cost_of_Equity (INTEGER), E_D_E_ (INTEGER), Std_Dev_in_Stock (INTEGER), Cost_of_Debt (INTEGER), Tax_Rate (INTEGER), After_tax_Cost_of_Debt (INTEGER), D_D_E_ (INTEGER), Cost_of_Capital (INTEGER), Cost_of_Capital_Local_Currency_ (INTEGER)\n",
      "\tRow 1 from table wacc: Environmental & Waste Services, 57, 0.90699903446977, 0.0805219555856094, 0.8200309682356417, 0.4606641855124769, 0.050855, 0.0541917435398483, 0.03814125, 0.1799690317643583, 0.0728947410358769, 0.0728947410358769\n",
      "\tRow 2 from table wacc: Utility (Water), 13, 0.7139634340794939, 0.0716423179676567, 0.6627268690709837, 0.28198719816416, 0.050855, 0.1109172936995937, 0.03814125, 0.3372731309290163, 0.0603433078847393, 0.0603433078847392\n",
      "\tRow 3 from table wacc: Software (Internet), 35, 1.6160843271745926, 0.1131398790500312, 0.8930134645020447, 0.65221602599035, 0.060879, 0.0260557605345441, 0.04565925, 0.1069865354979553, 0.1059203603347457, 0.1059203603347458\n",
      "\tRow 4 from table wacc: Power, 50, 0.6506274182981785, 0.0687288612417162, 0.518339022067922, 0.2039437012455431, 0.045043, 0.1368565682061268, 0.03378225, 0.4816609779320779, 0.051896442295619, 0.0518964422956189\n",
      "\tRow 5 from table wacc: Packaging & Container, 22, 1.1327220379604754, 0.0909052137461818, 0.620115895714898, 0.2624270896574677, 0.050855, 0.1811910443993945, 0.03814125, 0.379884104285102, 0.0708610226399319, 0.0708610226399319\n",
      "\n",
      "\n",
      "Table 3: Table goodwill has columns: Industry_Name (VARCHAR), Number_of_Firms (INTEGER), Goodwill_in_millions_ (INTEGER), Change_in_Goodwill_in_last_year (INTEGER), Goodwill_as_of_Total_Assets (INTEGER), Impairment_of_Goodwill_in_LTM_in_millioins (INTEGER), Impairment_as_of_Goodwill (INTEGER)\n",
      "\tRow 1 from table goodwill: Environmental & Waste Services, 57, 41368.444, 5543.546000000002, 0.3948996481872136, 15.278, 0.0003693153167665\n",
      "\tRow 2 from table goodwill: Utility (Water), 13, 4187.41, 13.519999999999529, 0.0702820236958313, 0.0, 0.0\n",
      "\tRow 3 from table goodwill: Software (Internet), 35, 21376.69, -1219.7700000000004, 0.3311515514892826, 484.91, 0.0226840544537063\n",
      "\tRow 4 from table goodwill: Semiconductor, 63, 173260.712, 1059.6019999999844, 0.2442931512253766, 429.63, 0.0024796735222928\n",
      "\tRow 5 from table goodwill: Power, 50, 71107.18000000001, 2563.4000000000087, 0.0438123430666786, 2078.7, 0.0292333348052897\n",
      "\n",
      "\n",
      "Table 4: Table DollarUS has columns: Industry_Name (VARCHAR), Number_of_firms (INTEGER), Average_Company_Age_years_ (INTEGER), Market_Cap_millions_ (INTEGER), Book_Equity_millions_ (INTEGER), Enteprise_Value_millions_ (INTEGER), Invested_Capital_millions_ (INTEGER), Total_Debt_including_leases_millions_ (INTEGER), Revenues_millions_ (INTEGER), Gross_Profit_millions_ (INTEGER), EBITDA_millions_ (INTEGER), EBIT_Operating_Income_millions_ (INTEGER), Net_Income_millions_ (INTEGER)\n",
      "\tRow 1 from table DollarUS: Environmental & Waste Services, 57, 36.204081632653065, 203179.789, 27942.29500000001, 245587.91613806767, 33584.18642975343, 44591.084138067694, 72586.38100000002, 25147.858, 16003.036, 10021.184772386465, 5871.133\n",
      "\tRow 2 from table DollarUS: Utility (Water), 13, 89.61538461538461, 46874.02, 17109.9, 69973.57501678159, 39265.4050167816, 23854.997016781603, 8862.38, 4918.995, 4115.236000000001, 2719.0665966436786, 1713.7600000000002\n",
      "\tRow 3 from table DollarUS: Packaging & Container, 22, 80.19047619047619, 132627.167, 49084.58099999999, 205727.3441716776, 86259.32917167754, 81247.63917167754, 146995.2, 31917.63, 23820.874, 14660.644165664493, 4193.327999999999\n",
      "\tRow 4 from table DollarUS: Software (System & Application), 351, 20.125, 5277974.335000003, 397835.59000000014, 5446717.280701609, 326815.0326293967, 327430.6527016032, 508015.76600000006, 363334.808, 170251.41100000014, 128741.80425967928, 97238.32000000008\n",
      "\tRow 5 from table DollarUS: Software (Internet), 35, 14.413793103448276, 220091.11299999992, 28399.863, 241745.7304766904, 25653.71492597519, 26367.783476690336, 28838.050000000003, 17046.417999999998, 1980.7540000000004, -835.1582953380669, -4129.525\n",
      "\n",
      "\n",
      "Table 5: Table divfcfe has columns: Industry_name (VARCHAR), Number_of_firms (INTEGER), _Dividends_ (INTEGER), _Net_Income_ (INTEGER), Payout (INTEGER), Dividends_Buybacks (INTEGER), Cash_Return_as_of_Net_Income (INTEGER), Dividends_Buybacks_Stock_Issuances (INTEGER), FCFE_before_debt_cash_flows_ (INTEGER), FCFE_after_debt_cash_flows_ (INTEGER), Net_Cash_Returned_FCFE_pre_debt_ (INTEGER), Net_Cash_Returned_FCFE_post_debt_ (INTEGER), Net_Cash_Returned_Net_Income (INTEGER), Cash_Firm_Value (INTEGER)\n",
      "\tRow 1 from table divfcfe: Environmental & Waste Services, 57, 2133.7000000000003, 5871.133, 0.3634221878468773, 4356.0830000000005, 0.7419492966689736, 3706.577, 4496.790999999999, 8844.003999999979, 0.824271574996481, 0.4191062102640398, 0.6313222677803416, 0.0088103858712382\n",
      "\tRow 2 from table divfcfe: Software (System & Application), 351, 26468.845, 97238.32000000008, 0.2722059060666615, 78137.651, 0.8035685005664427, 66388.049, 76723.88500000015, 92868.45200000016, 0.8652852889292542, 0.7148611565098542, 0.682735458613435, 0.0283097666177849\n",
      "\tRow 3 from table divfcfe: R.E.I.T., 193, 50197.926499999965, 23324.137999999984, 2.152187853630432, 43938.93199999997, 1.883839479941338, 18888.996999999978, 58792.15099999998, 108412.02399999648, 0.3212843326654264, 0.1742334134449938, 0.8098475922239866, 0.0188005563484407\n",
      "\tRow 4 from table divfcfe: Packaging & Container, 22, 2944.63, 4193.327999999999, 0.7022179042517068, 5178.039, 1.2348280411167458, 5090.014, 64.32999999999777, 2000.9439999999888, 79.12348826364335, 2.5438063234153625, 1.2138363610001417, 0.0380945383228542\n",
      "\tRow 5 from table divfcfe: Software (Entertainment), 84, 235.41, 93923.67300000004, 0.002506396869722, 90466.018, 0.9631865440356016, 89973.84199999999, 55413.70400000005, 62184.25100000004, 1.623674930663359, 1.44689114290369, 0.957946374179808, 0.0277904380642664\n",
      "\n",
      "\n",
      "\u001b[0m\n",
      "Prediction(\n",
      "    rationale='calculate the average tax rate of all healthcare industries. We need to find the tax rate from the wacc table for healthcare industries.',\n",
      "    sql=\"```sql\\nSELECT AVG(Tax_Rate) AS Average_Tax_Rate\\nFROM wacc\\nWHERE Industry_Name LIKE '%Healthcare%'\\n```\"\n",
      ")\n",
      "Extracted rows:  Average_Tax_Rate = 0.0658508962198119\n",
      "\n",
      "The average tax rate of all healthcare industries is approximately 6.59%.\n"
     ]
    }
   ],
   "source": [
    "tsql = TextToSQLQueryModule(\"US\")\n",
    "sq = tsql(question=\"What is the average tax rate of all healthcare industries?\")\n",
    "print(sq.answer)"
   ]
  },
  {
   "cell_type": "code",
   "execution_count": 14,
   "metadata": {},
   "outputs": [
    {
     "name": "stdout",
     "output_type": "stream",
     "text": [
      "\u001b[33mTable 1: Table goodwill has columns: Industry_Name (VARCHAR), Number_of_Firms (INTEGER), Goodwill_in_millions_ (INTEGER), Change_in_Goodwill_in_last_year (INTEGER), Goodwill_as_of_Total_Assets (INTEGER), Impairment_of_Goodwill_in_LTM_in_millioins (INTEGER), Impairment_as_of_Goodwill (INTEGER)\n",
      "\tRow 1 from table goodwill: Oil/Gas (Production and Exploration), 166, 6078.089999999999, 1364.3899999999994, 0.0109383272319288, 94.3, 0.0155147422956882\n",
      "\tRow 2 from table goodwill: Hotel/Gaming, 68, 67962.37, -502.6299999999901, 0.1533462449557929, 1440.0, 0.0211881957618605\n",
      "\tRow 3 from table goodwill: Oil/Gas (Integrated), 4, 4722.0, 59.0, 0.0066646521219549, 0.0, 0.0\n",
      "\tRow 4 from table goodwill: Food Processing, 82, 130603.08599999997, 291.6599999999453, 0.3180548871494012, 1438.1750000000002, 0.0110117995221031\n",
      "\tRow 5 from table goodwill: Semiconductor, 63, 173260.712, 1059.6019999999844, 0.2442931512253766, 429.63, 0.0024796735222928\n",
      "\n",
      "\n",
      "Table 2: Table histgr has columns: Industry_Name (VARCHAR), Number_of_Firms (INTEGER), CAGR_in_Net_Income_Last_5_years (INTEGER), CAGR_in_Revenues_Last_5_years (INTEGER), Expected_Growth_in_Revenues_Next_2_years (INTEGER), Expected_growth_in_Revenues_Next_5_years (INTEGER), Expected_Growth_in_EPS_Next_5_years (INTEGER)\n",
      "\tRow 1 from table histgr: Hotel/Gaming, 68, 0.0292921739130434, 0.1024464999999999, 0.1310217391304347, 0.1128398008900298, 0.096106875\n",
      "\tRow 2 from table histgr: Oil/Gas (Integrated), 4, 0.117, 0.0176, -0.0804666666666666, -0.0710785526043794, -0.0139499999999999\n",
      "\tRow 3 from table histgr: Oil/Gas (Production and Exploration), 166, 0.2115428571428571, 0.2328005882352942, 0.0250973214285714, 0.032113707957377, 0.06292\n",
      "\tRow 4 from table histgr: Machinery, 103, 0.0970474999999999, 0.0471259999999999, 0.1030165, 0.0996528716420049, 0.1216760975609756\n",
      "\tRow 5 from table histgr: Food Processing, 82, 0.0619136363636363, 0.0724334782608695, 0.0562365853658536, 0.0449344331187325, 0.1693379166666666\n",
      "\n",
      "\n",
      "Table 3: Table DollarUS has columns: Industry_Name (VARCHAR), Number_of_firms (INTEGER), Average_Company_Age_years_ (INTEGER), Market_Cap_millions_ (INTEGER), Book_Equity_millions_ (INTEGER), Enteprise_Value_millions_ (INTEGER), Invested_Capital_millions_ (INTEGER), Total_Debt_including_leases_millions_ (INTEGER), Revenues_millions_ (INTEGER), Gross_Profit_millions_ (INTEGER), EBITDA_millions_ (INTEGER), EBIT_Operating_Income_millions_ (INTEGER), Net_Income_millions_ (INTEGER)\n",
      "\tRow 1 from table DollarUS: Hotel/Gaming, 68, 33.220338983050844, 586730.3379999999, 54485.20200000001, 819021.9244678594, 222148.0145051528, 285558.88546785933, 193838.55200000005, 115370.498, 52363.35400000001, 25946.399506428123, 19543.351\n",
      "\tRow 2 from table DollarUS: Oil/Gas (Production and Exploration), 166, 34.138888888888886, 581376.8179999997, 236892.34000000003, 690765.9542172947, 402562.49951785407, 135348.10121729408, 260665.97399999996, 153151.65199999997, 146802.59900000002, 98229.22075654114, 73661.199\n",
      "\tRow 3 from table DollarUS: Oil/Gas (Integrated), 4, 112.0, 733143.9, 364041.3, 785247.8799401321, 450885.6799401322, 91662.57994013224, 582752.0, 217563.8, 125878.8, 91961.88401197355, 72268.8\n",
      "\tRow 4 from table DollarUS: Packaging & Container, 22, 80.19047619047619, 132627.167, 49084.58099999999, 205727.3441716776, 86259.32917167754, 81247.63917167754, 146995.2, 31917.63, 23820.874, 14660.644165664493, 4193.327999999999\n",
      "\tRow 5 from table DollarUS: Food Processing, 82, 53.75324675324676, 406262.0849999999, 170785.63100000002, 529627.0599474707, 169565.71891098007, 136926.2549474707, 287380.166, 70486.57199999999, 41671.73999999998, 31373.11241050584, 17252.246999999996\n",
      "\n",
      "\n",
      "Table 4: Table fundgrEB has columns: Industry_Name (VARCHAR), Number_of_Firms (INTEGER), ROC (INTEGER), Reinvestment_Rate (INTEGER), Expected_Growth_in_EBIT (INTEGER)\n",
      "\tRow 1 from table fundgrEB: Hotel/Gaming, 68, 0.0998862175623388, 0.2181007264159746, 0.0217852566092901\n",
      "\tRow 2 from table fundgrEB: Oil/Gas (Production and Exploration), 166, 0.2840570935586936, 0.5039504893607293, 0.1431507113052901\n",
      "\tRow 3 from table fundgrEB: Machinery, 103, 0.2490938532560407, 0.6676806488145169, 0.1663151455577013\n",
      "\tRow 4 from table fundgrEB: Oil/Gas (Integrated), 4, 0.1703977008178626, -0.0167121523646333, -0.0028477123386513\n",
      "\tRow 5 from table fundgrEB: Semiconductor, 63, 0.113683583917687, 0.498632244773038, 0.0566863006427203\n",
      "\n",
      "\n",
      "Table 5: Table margin has columns: Industry_Name (VARCHAR), Number_of_firms (INTEGER), Gross_Margin (INTEGER), Net_Margin (INTEGER), Pre_tax_Pre_stock_compensation_Operating_Margin (INTEGER), Pre_tax_Unadjusted_Operating_Margin (INTEGER), After_tax_Unadjusted_Operating_Margin (INTEGER), Pre_tax_Lease_adjusted_Margin (INTEGER), After_tax_Lease_Adjusted_Margin (INTEGER), Pre_tax_Lease_R_D_adj_Margin (INTEGER), After_tax_Lease_R_D_adj_Margin (INTEGER), EBITDA_Sales (INTEGER), EBITDASG_A_Sales (INTEGER), EBITDAR_D_Sales (INTEGER), COGS_Sales (INTEGER), R_D_Sales (INTEGER), SG_A_Sales (INTEGER), Stock_Based_Compensation_Sales (INTEGER), Lease_Expense_Sales (INTEGER)\n",
      "\tRow 1 from table margin: Hotel/Gaming, 68, 0.595188608301201, 0.1008228280615715, 0.1929851446682288, 0.171395693257139, 0.1566076898889053, 0.1338557229133042, 0.1223066644528353, 0.1353510075045758, 0.1238019490441069, 0.1780569842473854, 0.4665321065749603, 0.2038718799343898, 0.404811391698799, 0.0258148956870045, 0.288475122327575, 0.0215894514110897, 0.026397432023739\n",
      "\tRow 2 from table margin: Oil/Gas (Production and Exploration), 166, 0.5875398681686012, 0.282588470868085, 0.382441146691436, 0.3726583969106763, 0.3517409174166193, 0.3768394441713407, 0.355687280658183, 0.3768623424419067, 0.355710178928749, 0.6180427216020148, 0.671851720086796, 0.6184339962990337, 0.4124601318313988, 0.0003912746970189, 0.0538089984847811, 0.0097827497807596, 0.0207717521274947\n",
      "\tRow 3 from table margin: Oil/Gas (Integrated), 4, 0.3733385728405908, 0.1240129592004832, 0.1593622158310911, 0.155957937510296, 0.1229259770049343, 0.1578062091798459, 0.1243827839131109, 0.1577931676115629, 0.1243697423448279, 0.2906277455933227, 0.3650949288891329, 0.2925016130360771, 0.6266614271594091, 0.0018738674427543, 0.0744671832958102, 0.0034042783207951, 0.0059872810389325\n",
      "\tRow 4 from table margin: Food Processing, 82, 0.2452729183822657, 0.0600328381743644, 0.1126930033160325, 0.1078737876433685, 0.0989317491176698, 0.1091693725672976, 0.1001199384401634, 0.1092283300111457, 0.1001788958840115, 0.1326330920137334, 0.2657657522544544, 0.1386966454741347, 0.7547270816177343, 0.0060635534604013, 0.1331326602407209, 0.004819215672664, 0.0190270124626485\n",
      "\tRow 5 from table margin: Packaging & Container, 22, 0.2171338247779519, 0.0285269723092998, 0.1016364547958028, 0.0975946017284918, 0.0799113339135634, 0.0997355299061771, 0.0816643450787498, 0.0998025797146062, 0.0817313948871789, 0.1571078511407175, 0.2522079768591083, 0.1617111987330198, 0.782866175222048, 0.0046033475923023, 0.0951001257183908, 0.004041853067311, 0.011135982671543\n",
      "\n",
      "\n",
      "\u001b[0m\n",
      "Prediction(\n",
      "    rationale='produce the sql. We need to find the average tax rate of healthcare industries where revenue per employee is more than 1 million. To do this, we need to join the tables that have information on tax rate and revenue per employee for healthcare industries.',\n",
      "    sql=\"```sql\\nSELECT AVG(tax_rate) AS average_tax_rate\\nFROM (\\n    SELECT g.Industry_Name, (d.EBIT_Operating_Income_millions_ / d.Net_Income_millions_) AS tax_rate\\n    FROM goodwill g\\n    JOIN DollarUS d ON g.Industry_Name = d.Industry_Name\\n    WHERE g.Industry_Name LIKE '%Healthcare%' AND d.Revenues_millions_ / d.Number_of_firms > 1\\n) AS subquery\\n```\"\n",
      ")\n",
      "Extracted rows:  average_tax_rate = 1.8682040222547194\n",
      "\n",
      "The average tax rate of all healthcare industries where revenue per employee is more than 1 million is approximately 1.87%.\n"
     ]
    }
   ],
   "source": [
    "sq = tsql(question=\"Give me the average tax rate of all healthcare industries where revenues per employee is more than 1 million?\")\n",
    "print(sq.answer)"
   ]
  },
  {
   "cell_type": "code",
   "execution_count": 21,
   "metadata": {},
   "outputs": [
    {
     "name": "stdout",
     "output_type": "stream",
     "text": [
      "\u001b[33mTable 1: Table goodwillEurope has columns: Industry_Name (VARCHAR), Number_of_Firms (INTEGER), Goodwill_in_millions_ (INTEGER), Change_in_Goodwill_in_last_year (INTEGER), Goodwill_as_of_Total_Assets (INTEGER), Impairment_of_Goodwill_in_LTM_in_millioins (INTEGER), Impairment_as_of_Goodwill (INTEGER)\n",
      "\tRow 1 from table goodwillEurope: Hotel/Gaming, 106, 40428.64399999999, 4666.244999999988, 0.2386147776993005, 136.25400000000002, 0.0033702342329364\n",
      "\tRow 2 from table goodwillEurope: Oil/Gas (Production and Exploration), 91, 18171.45400000001, 457.4660000000004, 0.1351191929932511, 1034.358, 0.0569221373259398\n",
      "\tRow 3 from table goodwillEurope: Machinery, 219, 26474.91200000001, 2869.9230000000025, 0.1072057441575308, 104.072, 0.0039309667960369\n",
      "\tRow 4 from table goodwillEurope: Packaging & Container, 16, 2230.9460000000004, 253.8610000000001, 0.1173344090562687, 0.0, 0.0\n",
      "\tRow 5 from table goodwillEurope: Electronics (General), 151, 10740.815, 633.5200000000004, 0.1355613870295417, 49.749, 0.0046317714251665\n",
      "\n",
      "\n",
      "Table 2: Table histgrEurope has columns: Industry_Name (VARCHAR), Number_of_Firms (INTEGER), CAGR_in_Net_Income_Last_5_years (INTEGER), CAGR_in_Revenues_Last_5_years (INTEGER), Expected_Growth_in_Revenues_Next_2_years (INTEGER), Expected_Growth_in_Revenues_Next_5_years (INTEGER), Expected_Growth_in_EPS_Next_5_years (INTEGER)\n",
      "\tRow 1 from table histgrEurope: Hotel/Gaming, 106, 0.1967253488372093, 0.131882125, 0.1519891304347826, 0.1411023515871752, 0.2360687499999999\n",
      "\tRow 2 from table histgrEurope: Oil/Gas (Production and Exploration), 91, 0.1701484615384615, 0.2805155102040816, 0.0875746875, 0.2109142808614231, 0.0712\n",
      "\tRow 3 from table histgrEurope: Packaging & Container, 16, 0.2283333333333333, 0.1354363636363636, 0.0451363636363636, 0.0741399457203505, 0.21908\n",
      "\tRow 4 from table histgrEurope: Food Processing, 197, 0.1650619101123595, 0.1709456296296295, 0.1474268604651163, 0.1322767012901453, 0.1470661111111111\n",
      "\tRow 5 from table histgrEurope: Oil/Gas (Integrated), 12, 0.11911, 0.0798636363636363, -0.11111, 0.3119942637676725, -0.06827625\n",
      "\n",
      "\n",
      "Table 3: Table marginEurope has columns: Industry_Name (VARCHAR), Number_of_firms (INTEGER), Gross_Margin (INTEGER), Net_Margin (INTEGER), Pre_tax_Pre_stock_compensation_Operating_Margin (INTEGER), Pre_tax_Unadjusted_Operating_Margin (INTEGER), After_tax_Unadjusted_Operating_Margin (INTEGER), Pre_tax_Lease_adjusted_Margin (INTEGER), After_tax_Lease_Adjusted_Margin (INTEGER), Pre_tax_Lease_R_D_adj_Margin (INTEGER), After_tax_Lease_R_D_adj_Margin (INTEGER), EBITDA_Sales (INTEGER), EBITDASG_A_Sales (INTEGER), EBITDAR_D_Sales (INTEGER), COGS_Sales (INTEGER), R_D_Sales (INTEGER), SG_A_Sales (INTEGER), Stock_Based_Compensation_Sales (INTEGER), Lease_Expense_Sales (INTEGER)\n",
      "\tRow 1 from table marginEurope: Hotel/Gaming, 106, 0.4300092094264567, 0.0517817406587673, 0.1300141858689446, 0.1232813952326718, 0.1109566318697239, 0.1233144313702466, 0.1109863652982625, 0.1270403492469556, 0.1147122831749715, 0.1457560072858934, 0.3279250114215474, 0.1680815231307701, 0.5699907905735433, 0.0223255158448767, 0.1821690041356539, 0.0067327906362727, 0.0085429793701877\n",
      "\tRow 2 from table marginEurope: Food Processing, 169, 0.3566030613642444, 0.0620644253257737, 0.1098928210911064, 0.1082079728451552, 0.0924032118814652, 0.1083097846372347, 0.0924901531330956, 0.108862191196363, 0.0930425596922239, 0.132586770026837, 0.335830939507515, 0.1416410928328115, 0.6433969386357556, 0.0090543228059744, 0.2032441694806779, 0.0016848482459511, 0.0012797495703249\n",
      "\tRow 3 from table marginEurope: Oil/Gas (Production and Exploration), 91, 0.6974646103831379, 0.0170128080438132, 0.463838248874339, 0.4599820052644771, 0.4103322278047142, 0.4598719450723545, 0.4102340473469802, 0.4596425809462691, 0.4100046832208948, 0.7812373176229687, 0.8302173474625993, 0.7822408718925065, 0.3025353896168621, 0.0010035542695378, 0.0489800298396306, 0.0038562436098619, 0.0053761486228629\n",
      "\tRow 4 from table marginEurope: Oil/Gas (Integrated), 12, 0.3093575170134529, 0.0908272809934293, 0.1819000676960713, 0.1801546706385813, 0.1142841381154498, 0.1805636382585614, 0.114543573587208, 0.1806941043989013, 0.1146740397275479, 0.2915824983993925, 0.3299540316995369, 0.294045928494384, 0.6906424829865471, 0.0024634300949915, 0.0383715333001444, 0.00174539705749, 0.0037405755461475\n",
      "\tRow 5 from table marginEurope: Packaging & Container, 44, 0.2565192816453717, 0.0616786294596166, 0.1012078009039111, 0.098927489562544, 0.0864583455651148, 0.0990477043009371, 0.0865634080451189, 0.0994070387889837, 0.0869227425331655, 0.1595347302959497, 0.2904866863286303, 0.1634125733889657, 0.7434807183546284, 0.0038778430930159, 0.1309519560326806, 0.0022803113413671, 0.0039821420883052\n",
      "\n",
      "\n",
      "Table 4: Table DollarEurope has columns: Industry_Name (VARCHAR), Number_of_firms (INTEGER), Average_Company_Age_years_ (INTEGER), Market_Cap_millions_ (INTEGER), Book_Equity_millions_ (INTEGER), Enteprise_Value_millions_ (INTEGER), Invested_Capital_millions_ (INTEGER), Total_Debt_including_leases_millions_ (INTEGER), Revenues_millions_ (INTEGER), Gross_Profit_millions_ (INTEGER), EBITDA_millions_ (INTEGER), EBIT_Operating_Income_millions_ (INTEGER), Net_Income_millions_ (INTEGER)\n",
      "\tRow 1 from table DollarEurope: Hotel/Gaming, 106, 39.40816326530612, 194686.241, 50556.75699999998, 243597.19322687303, 67976.4482268731, 68472.30322687309, 96414.256, 41459.01800000001, 16840.649999999998, 11889.269154625388, 4992.497999999999\n",
      "\tRow 2 from table DollarEurope: Oil/Gas (Production and Exploration), 91, 23.079545454545453, 50872.76400000001, 36595.419999999984, 74596.26886725081, 45994.892867250805, 33887.4008672508, 44944.256, 31347.02800000001, 31505.77999999999, 20668.60242654984, 764.6280000000003\n",
      "\tRow 3 from table DollarEurope: Green & Renewable Energy, 66, 16.19298245614035, 68965.19799999997, 31225.879999999997, 111019.91801345724, 80452.7180134572, 50794.1250134572, 29818.313, 11701.327999999998, 7948.667, 4850.724197308564, 2409.6659999999997\n",
      "\tRow 4 from table DollarEurope: Packaging & Container, 44, 65.95121951219512, 69695.24, 33211.71000000001, 96889.18317354724, 52416.48217354724, 32034.27717354724, 74439.835, 19095.253, 11295.472000000002, 7373.094765290552, 4591.347\n",
      "\tRow 5 from table DollarEurope: Oil/Gas (Integrated), 12, 65.33333333333333, 674840.059, 520825.1, 832899.2362195293, 712282.6672195293, 296967.97221952915, 1165651.1, 360602.93000000005, 274523.24, 210474.20355609417, 105872.91999999998\n",
      "\n",
      "\n",
      "Table 5: Table vebitdaEurope has columns: Industry_Name (VARCHAR), Number_of_firms (INTEGER), EV_EBITDAR_D (INTEGER), EV_EBITDA (INTEGER), EV_EBIT (INTEGER), EV_EBIT_1_t_ (INTEGER), EV_EBITDAR_D_1 (INTEGER), EV_EBITDA_1 (INTEGER), EV_EBIT_1 (INTEGER), EV_EBIT_1_t__1 (INTEGER)\n",
      "\tRow 1 from table vebitdaEurope: Hotel/Gaming, 106, 12.459911202180232, 14.029729661351656, 20.160551863889125, 25.316600715950425, 15.031802144825496, 17.334230313724937, 20.488828207922623, 25.728833534897912\n",
      "\tRow 2 from table vebitdaEurope: Oil/Gas (Integrated), 12, 3.0025375648593755, 3.033943735809244, 3.957226672662296, 6.711207129659698, 2.430013664045968, 2.450543595794656, 3.9572509226649744, 6.71124825613648\n",
      "\tRow 3 from table vebitdaEurope: Food Processing, 169, 13.14700732013489, 14.015247202011944, 17.74092327929122, 23.60127625785352, 13.62501005355226, 14.555459141606365, 17.81797757522028, 23.703783872392325\n",
      "\tRow 4 from table vebitdaEurope: Transportation, 59, 8.795625023597347, 8.892349104572906, 16.1775952943407, 22.198411254209788, 10.38963683505344, 10.523131870768008, 16.384969314102506, 22.48296366699771\n",
      "\tRow 5 from table vebitdaEurope: Oil/Gas (Production and Exploration), 91, 2.2844309187035203, 2.287679772282562, 3.5103229221755368, 7.032650583732729, 2.121790038068717, 2.124515626572663, 3.609158825921787, 7.230660394107678\n",
      "\n",
      "\n",
      "\u001b[0m\n",
      "Prediction(\n",
      "    rationale='produce the SQL. We need to find the average tax rate of banking industries where the number of firms is more than 500. To do this, we need to join the tables that contain information about tax rates and the number of firms in each industry.\\n\\nSQL: \\n```sql\\nSELECT AVG(m.Net_Margin) AS Average_Tax_Rate\\nFROM marginEurope m\\nJOIN DollarEurope d ON m.Industry_Name = d.Industry_Name\\nWHERE m.Industry_Name IN (\\n    SELECT Industry_Name\\n    FROM marginEurope\\n    WHERE Number_of_firms > 500\\n)\\n```',\n",
      "    sql='```sql\\nSELECT AVG(m.Net_Margin) AS Average_Tax_Rate \\nFROM marginEurope m \\nJOIN DollarEurope d ON m.Industry_Name = d.Industry_Name \\nWHERE m.Industry_Name IN ( \\n    SELECT Industry_Name \\n    FROM marginEurope \\n    WHERE Number_of_firms > 500 \\n)\\n```'\n",
      ")\n",
      "Extracted rows:  Average_Tax_Rate = 0.07642330014642415\n",
      "\n",
      "The average tax rate of all banking industries where the number of firms is more than 500 is 0.07642330014642415.\n"
     ]
    }
   ],
   "source": [
    "tsql = TextToSQLQueryModule(\"Europe\")\n",
    "sq = tsql(question=\"Give me the average tax rate of all banking industries where number of firms is more than 500?\")\n",
    "print(sq.answer)"
   ]
  },
  {
   "cell_type": "markdown",
   "metadata": {},
   "source": [
    "## TO-DOS\n",
    "\n",
    "1. Rigourous testing on different datasets\n",
    "2. "
   ]
  }
 ],
 "metadata": {
  "kernelspec": {
   "display_name": ".venv",
   "language": "python",
   "name": "python3"
  },
  "language_info": {
   "codemirror_mode": {
    "name": "ipython",
    "version": 3
   },
   "file_extension": ".py",
   "mimetype": "text/x-python",
   "name": "python",
   "nbconvert_exporter": "python",
   "pygments_lexer": "ipython3",
   "version": "3.10.12"
  }
 },
 "nbformat": 4,
 "nbformat_minor": 2
}
