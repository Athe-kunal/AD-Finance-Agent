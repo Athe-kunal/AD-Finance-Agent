{
 "cells": [
  {
   "cell_type": "code",
   "execution_count": 2,
   "metadata": {},
   "outputs": [
    {
     "name": "stdout",
     "output_type": "stream",
     "text": [
      "q:\\AD project\n"
     ]
    }
   ],
   "source": [
    "import os\n",
    "os.chdir(\"..\")\n",
    "print(os.getcwd())"
   ]
  },
  {
   "cell_type": "markdown",
   "metadata": {},
   "source": [
    "## TO-DOS for today\n",
    "1. Build the vector database\n",
    "2. Build the basic RAG pipeline\n",
    "3. HyDE and Modified HyDE integrations"
   ]
  },
  {
   "cell_type": "markdown",
   "metadata": {},
   "source": [
    "## BUILD VECTOR DATABASE"
   ]
  },
  {
   "cell_type": "markdown",
   "metadata": {},
   "source": [
    "## GET THE DATA"
   ]
  },
  {
   "cell_type": "code",
   "execution_count": 3,
   "metadata": {},
   "outputs": [
    {
     "name": "stderr",
     "output_type": "stream",
     "text": [
      "  0%|          | 0/10 [00:00<?, ?it/s]"
     ]
    },
    {
     "name": "stderr",
     "output_type": "stream",
     "text": [
      "100%|██████████| 10/10 [00:00<00:00, 23.10it/s]\n"
     ]
    }
   ],
   "source": [
    "# BOOK DATA\n",
    "from src.book_preprocess import get_book_data\n",
    "\n",
    "book_doc_data = get_book_data(100)"
   ]
  },
  {
   "cell_type": "code",
   "execution_count": 4,
   "metadata": {},
   "outputs": [
    {
     "data": {
      "text/plain": [
       "3049"
      ]
     },
     "execution_count": 4,
     "metadata": {},
     "output_type": "execute_result"
    }
   ],
   "source": [
    "len(book_doc_data)"
   ]
  },
  {
   "cell_type": "code",
   "execution_count": 5,
   "metadata": {},
   "outputs": [],
   "source": [
    "import json\n",
    "\n",
    "with open('artifacts\\YouTube_API_Transcripts\\chunked_transcripts_mba.json', 'r') as file:\n",
    "    mba_data = json.load(file)\n",
    "\n",
    "with open('artifacts\\YouTube_API_Transcripts\\chunked_transcripts_undergrad.json', 'r') as file:\n",
    "    undergrad_data = json.load(file)\n",
    "\n",
    "with open('artifacts\\YouTube_API_Transcripts\\chunked_misc_transcripts.json', 'r') as file:\n",
    "    misc_data = json.load(file)"
   ]
  },
  {
   "cell_type": "code",
   "execution_count": 6,
   "metadata": {},
   "outputs": [
    {
     "data": {
      "text/plain": [
       "dict_keys(['2S_vt-N0czE', '5T2PmzsxhkM', 'lnPfpvUJEIc', '44Gv-gJxAeo', 'BA3SbC9cFIo', 't3M26iDiEfo', 'iYMsQeChsp4', 'QKQtAGmmP-4', 'eBDAnoxRKIg', 'h8AnJ3deIto', 'H5jLvqp4vas', 's4khp86YR_I', 'vXxN6A88SA4', 'CBM5iXS2pNE', 'flZcxlRtxhg', 'o7HirKysCKQ', 'F3RBKPkDQHY', 'muu0lpWns-0', 'O-sQYbULzwg', 'IFWkYXBzcpw', 'X5uFWJljqYk', 'XNQiZjoZcqY', 'gzJq6bbW-Kk', 'DQDCQxyxJ9U', 'veCrq5J4MyY', '9kid8pL8YDo'])"
      ]
     },
     "execution_count": 6,
     "metadata": {},
     "output_type": "execute_result"
    }
   ],
   "source": [
    "mba_data.keys()"
   ]
  },
  {
   "cell_type": "code",
   "execution_count": 30,
   "metadata": {},
   "outputs": [],
   "source": [
    "from llama_index.core.schema import Document\n",
    "\n",
    "all_data_list = []\n",
    "\n",
    "curr_book = \"\"\n",
    "for book_doc in book_doc_data:\n",
    "    # try:\n",
    "    if book_doc=={}: continue\n",
    "    book = book_doc['book_source']\n",
    "    if book!= curr_book:\n",
    "        # print(book_doc)\n",
    "\n",
    "        curr_book = book\n",
    "        all_data_list.append(\n",
    "            Document(\n",
    "                text=book_doc['text'],\n",
    "                metadata={\n",
    "                    'page_num_coordinates':str(book_doc['page_num_coordinates']),\n",
    "                    'book_source':book_doc['book_source'],\n",
    "                },\n",
    "                excluded_embed_metadata_keys=['page_num_coordinates','book_source'],\n",
    "                excluded_llm_metadata_keys=['page_num_coordinates','book_source'],\n",
    "            )\n",
    "        )\n",
    "\n",
    "for json_data in [undergrad_data,mba_data,misc_data]:\n",
    "    for youtube_id, text_list in json_data.items():\n",
    "        # print(youtube_id)\n",
    "        all_data_list.append(\n",
    "            Document(\n",
    "                text=text_list[0]['text'],\n",
    "                metadata={\n",
    "                    \"youtube_id\":youtube_id,\n",
    "                    \"start_timestamp\":text_list[0]['start_time'],\n",
    "                },\n",
    "                excluded_embed_metadata_keys=['youtube_id','start_timestamp'],\n",
    "                excluded_llm_metadata_keys=['youtube_id','start_timestamp'],\n",
    "            )\n",
    "        )\n",
    "        break"
   ]
  },
  {
   "cell_type": "code",
   "execution_count": 31,
   "metadata": {},
   "outputs": [
    {
     "data": {
      "text/plain": [
       "Document(id_='440bd3d3-3474-4e4e-876c-ffd3f83d5d17', embedding=None, metadata={'hello': 1}, excluded_embed_metadata_keys=[], excluded_llm_metadata_keys=[], relationships={}, text='text', start_char_idx=None, end_char_idx=None, text_template='{metadata_str}\\n\\n{content}', metadata_template='{key}: {value}', metadata_seperator='\\n')"
      ]
     },
     "execution_count": 31,
     "metadata": {},
     "output_type": "execute_result"
    }
   ],
   "source": [
    "from llama_index.core import Document\n",
    "\n",
    "Document(\n",
    "    text=\"text\",\n",
    "    metadata={\"hello\":1}\n",
    ")"
   ]
  },
  {
   "cell_type": "code",
   "execution_count": 32,
   "metadata": {},
   "outputs": [
    {
     "data": {
      "text/plain": [
       "12"
      ]
     },
     "execution_count": 32,
     "metadata": {},
     "output_type": "execute_result"
    }
   ],
   "source": [
    "len(all_data_list)"
   ]
  },
  {
   "cell_type": "code",
   "execution_count": 33,
   "metadata": {},
   "outputs": [
    {
     "data": {
      "text/plain": [
       "[Document(id_='3e74e5f2-8dc7-4f48-b502-0bfc067f36c9', embedding=None, metadata={'page_num_coordinates': \"[[{'page_num': 2}, [248.09210205078125, 282.16666666666674], [248.09210205078125, 1008.8333333333334], [1459.0, 1008.8333333333334], [1459.0, 282.16666666666674]]]\", 'book_source': 'Applied_corporate_finance'}, excluded_embed_metadata_keys=['page_num_coordinates', 'book_source'], excluded_llm_metadata_keys=['page_num_coordinates', 'book_source'], relationships={}, text='Let me begin this preface with a confession of a few of my own biases.\\nFirst, I believe that theory, and the models that flow from it, should provide us with the tools to understand, analyze and solve problems.\\nThe test of a model or theory then should not be based upon its elegance but upon its usefulness in problem solving.\\nSecond, there is little in corporate financial theory, in my view, that is new and revolutionary.\\nThe core principles of corporate finance are common sense ones, and have changed little over time.\\nThat should not be surprising.\\nCorporate finance is only a few decades old and people have been running businesses for thousands of years, and it would be exceedingly presumptuous of us to believe that they were in the dark until corporate finance theorists came along and told them what to do.\\nTo be fair, it is true that corporate financial theory has made advances in taking common sense principles and providing them with structure, but these advances have been primarily on the details.\\nThe story line in corporate finance has remained remarkably consistent over time.\\n\\n', start_char_idx=None, end_char_idx=None, text_template='{metadata_str}\\n\\n{content}', metadata_template='{key}: {value}', metadata_seperator='\\n'),\n",
       " Document(id_='a190b4be-b73d-4bfc-9a12-d948006abd29', embedding=None, metadata={'page_num_coordinates': \"[[{'page_num': 15}, [164.40286254882812, 191.8477777777778], [164.40286254882812, 225.1811111111111], [266.46666666666664, 225.1811111111111], [266.46666666666664, 191.8477777777778]], [{'page_num': 15}, [166.66666666666666, 267.86297607421875], [166.66666666666666, 342.51444444444434], [1006.7282104492188, 342.51444444444434], [1006.7282104492188, 267.86297607421875]], [{'page_num': 15}, [166.66666666666666, 386.5144444444444], [166.66666666666666, 419.8477777777777], [502.984130859375, 419.8477777777777], [502.984130859375, 386.5144444444444]]]\", 'book_source': 'Damodaran_on_valuation'}, excluded_embed_metadata_keys=['page_num_coordinates', 'book_source'], excluded_llm_metadata_keys=['page_num_coordinates', 'book_source'], relationships={}, text='PrefaceThere is nothing so dangerous as the pursuit of a rational investment policy in an irrational world.—John Maynard Keynes\\n\\n', start_char_idx=None, end_char_idx=None, text_template='{metadata_str}\\n\\n{content}', metadata_template='{key}: {value}', metadata_seperator='\\n'),\n",
       " Document(id_='698cc8da-6ea6-494a-8af6-a3d2d4bcb279', embedding=None, metadata={'page_num_coordinates': \"[[{'page_num': 27}, [213.86717858886715, 543.0256932072618], [213.86717858886715, 869.4294883571031], [1490.5362548828125, 869.4294883571031], [1490.5362548828125, 543.0256932072618]]]\", 'book_source': 'Dark_Side_Valuation'}, excluded_embed_metadata_keys=['page_num_coordinates', 'book_source'], excluded_llm_metadata_keys=['page_num_coordinates', 'book_source'], relationships={}, text='I have always believed that valuation is simple and that we, its practitioners, choose to make it complex.\\nThe intrinsic value of a cash flow- generation asset is a function of how long you expect it to generate cash flows, as well as how large and predictable these cash flows are.\\nThis is the principle that we use in valuing businesses, private as well as public, and in valuing securities issued by these businesses.\\n\\n', start_char_idx=None, end_char_idx=None, text_template='{metadata_str}\\n\\n{content}', metadata_template='{key}: {value}', metadata_seperator='\\n'),\n",
       " Document(id_='abbd0097-85fb-4d8f-8358-db236e31698d', embedding=None, metadata={'page_num_coordinates': \"[[{'page_num': 2}, [315.99999999999994, 205.7240000000001], [315.99999999999994, 365.2333333333334], [1392.6, 365.2333333333334], [1392.6, 205.7240000000001]], [{'page_num': 2}, [249.56817626953125, 403.2333333333333], [249.56817626953125, 896.5666666666662], [1453.2823486328125, 896.5666666666662], [1453.2823486328125, 403.2333333333333]], [{'page_num': 2}, [250.0, 920.5666666666662], [250.0, 1413.8999999999992], [1450.1751708984375, 1413.8999999999992], [1450.1751708984375, 920.5666666666662]], [{'page_num': 2}, [250.0, 1438.566666666666], [250.0, 1759.2333333333324], [1452.390625, 1759.2333333333324], [1452.390625, 1438.566666666666]], [{'page_num': 2}, [250.0, 1783.2333333333324], [250.0, 1989.2333333333324], [1455.4999999999993, 1989.2333333333324], [1455.4999999999993, 1783.2333333333324]], [{'page_num': 3}, [250.0, 203.89999999999998], [250.0, 467.2333333333332], [1451.6, 467.2333333333332], [1451.6, 203.89999999999998]], [{'page_num': 3}, [350.0, 491.2333333333331], [350.0, 524.5666666666665], [1431.1666666666667, 524.5666666666665], [1431.1666666666667, 491.2333333333331]], [{'page_num': 3}, [245.76824951171875, 502.6042785644531], [245.76824951171875, 1157.2333333333327], [1457.5333333333333, 1157.2333333333327], [1457.5333333333333, 502.6042785644531]], [{'page_num': 3}, [249.99999999999994, 1181.2333333333327], [249.99999999999994, 1559.8999999999992], [1456.933333333333, 1559.8999999999992], [1456.933333333333, 1181.2333333333327]], [{'page_num': 3}, [246.1986846923828, 1583.8999999999992], [246.1986846923828, 1961.899999999999], [1458.2999999999997, 1961.899999999999], [1458.2999999999997, 1583.8999999999992]], [{'page_num': 4}, [248.66473388671875, 203.89999999999998], [248.66473388671875, 467.2333333333332], [1454.6999999999996, 467.2333333333332], [1454.6999999999996, 203.89999999999998]], [{'page_num': 4}, [248.66400146484375, 491.2333333333331], [248.66400146484375, 811.8999999999995], [1458.7, 811.8999999999995], [1458.7, 491.2333333333331]], [{'page_num': 5}, [1191.830322265625, 255.2533333333334], [1191.830322265625, 291.91999999999985], [1389.3980712890625, 291.91999999999985], [1389.3980712890625, 255.2533333333334]]]\", 'book_source': 'Investment_fables'}, excluded_embed_metadata_keys=['page_num_coordinates', 'book_source'], excluded_llm_metadata_keys=['page_num_coordinates', 'book_source'], relationships={}, text='Investment Fables Tall Tales about Stocks Fable: A brief fictitious story embodying a moral and using persons, animals or inanimate objects as characters; A falsehood or lie (WebsterÕs Dictionary)As investors, you have all been on the receiving end of sales pitches from brokers, friends and investment advisors about stocks that they claim will deliver spectacular returns.\\nThese stories not only sound persuasive and reasonable but are also backed up by evidence - anecdotal, in some cases, and statistical, in others - that the strategies work.\\nWhen you try to implement them for your investments, though, you seldom can match their success on paper.\\nAll to often, you end up with buyer Õs remorse, poorer for the experience and promising yourselves that you will not fall for the allure of these stories again.\\nAll too often, you forget the lessons of past mistakes and are easy prey for the next big stock story.While there are literally hundreds of schemes to beat the market in circulation, they are all variants of about a dozen basic themes that have been around for as long as there have been stocks to buy and sell.\\nThese broad themes are modified, given new names and marketed as new and different investment strategies by salespeople to a new generation of investors.\\nThere must be something in these stories that appeals to investor instincts and to human weaknesses - greed, fear and hubris, to name but three- to give them the staying power that they do.\\nThis book is an exploration of the appeal of these stories, why so many fall for them and fail with them, and what it may take to win with each of them.As you will see, with each story, there is a kernel of truth that makes it believable and a base in financial theory that allows proponents to claim to have a solid rationale.\\nEach chapter will begin with an examination of the basis for each investment story and the theory that would justify its adoption.\\nWhy bother with the theory? Not only will it give you perspective on what makes each story work, but it will also allow you to identify potential weaknesses with the story.If you have been on the receiving end of one of these investment stories, you probably have also been told of studies that back them up and you are offered evidence of their potency.\\nIt should come as no surprise, given the source, that most of these studies give you only a portion of the truth.\\nAs you will see in this book, every investmentstrategy ever devised has succeeded for some periods and with some stocks, but the complete picture requires an assessment of whether it works over long periods and with a wide cross section of stocks.\\nThat is why you will see a review of the existing empirical evidence, drawn from both believers and skeptics, on each strategy and some of the potential problems with each.With every investment strategy, investors also grapple with the question of whatadopting that strategy will mean in terms of investment choices.\\nIf you adopt a strategy of buying ÒlowÓ PE stocks, you have to make a judgment of what represents a low PE ratio and what types of stocks have low PE ratios? If you believe that your best investments are in small companies you have to decide how to measure the size of companies - sales, market capitalization etc.- and what level would represent a small company.\\nYou will be presented with rules of thumb, that a PE of 8 is cheap or that a company with a market capitalization less than $ 100 million is small, but these rules of thumb can be dangerous as markets themselves change over time.\\nTo provide a frame of reference, this book will examine the distribution of various measures - PE, price to book and market capitalization, to name a few- across the entire market.\\nThis should then allow you to get a sense of differences across the market and to develop portfolio standards.The best test of any strategy is to apply it to the market and to peruse the portfolio that you would have ended up with as a result of following it.\\nThis book will attempt to do this with each of the broad strategies examined and you can ask yourself whether you would be comfortable investing in the stocks that make up this portfolio.\\nIf you are not, it is a warning sign that this strategy may not be appropriate for you.\\nIf you are a careful investor, putting this portfolio under a microscope will allow you to probe the strategy for weaknesses and examine what you can do to minimize the damage.It is worth emphasizing what this book is about and what it will not try to do.\\nIt is not about promoting or debunking investment strategies, since there are plenty of analysts and brokers who do the former and lots of cynics, many from academia, who do the latter.\\nBut it is about providing a full picture of each investment strategy, so that you can make your own judgments about what works and what does not.\\nIt is not about giving you the answers to every investment question that has ever been asked; no one can have the foresight to do this.\\nBut it is about providing you with the ammunition to ask the rightquestions when confronted with promoters of these strategies.\\nIt is not a book for pessimists who are convinced that picking stocks is an exercise in futility, but it is a book for optimists who want to figure out how to make active strategies pay off and how to use them prudently.\\nIt is not about things you cannot and should not do while investing but it is about things you can and should do as an investor to improve your odds for success.As long as there have been financial markets, there have been mountebanks and frauds luring investors into get-rich schemes that ultimately fail.\\nIn the aftermath of these failings, you are often tempted to turn to the courts and to governments to protect you from yourselves.\\nThe best antidote, though, to an unscrupulous sales pitch about Òstocks that cannot loseÓ or to a Òget rich quicklyÓ scheme is a skeptical and informed investor.\\nI hope this book helps in this endeavor.CHAPTER 1\\n\\n', start_char_idx=None, end_char_idx=None, text_template='{metadata_str}\\n\\n{content}', metadata_template='{key}: {value}', metadata_seperator='\\n'),\n",
       " Document(id_='eab6b169-cd01-449a-a505-573b77350a04', embedding=None, metadata={'page_num_coordinates': \"[[{'page_num': 1}, [249.59519958496094, 330.55555555555554], [249.59519958496094, 713.8888888888889], [1452.8413244444444, 713.8888888888889], [1452.8413244444444, 330.55555555555554]]]\", 'book_source': 'Investment_Philosophies'}, excluded_embed_metadata_keys=['page_num_coordinates', 'book_source'], excluded_llm_metadata_keys=['page_num_coordinates', 'book_source'], relationships={}, text='We all dream of beating the market and being super investors and spend an inordinate amount of time and resources in this endeavor.\\nConsequently, we are easy prey for the magic bullets and the secret formulae offered by eager salespeople pushing their wares.\\nIn spite of our best efforts, most of us fail in our attempts to be more than “average” investors.\\nNonetheless, we keep trying, hoping that we can be more like the investing legends – another Warren Buffett or Peter Lynch.\\nWe read the words written by and about successful investors, hoping to find in them the key to their stock-picking abilities, so that we can replicate them and become wealthy quickly.\\n\\n', start_char_idx=None, end_char_idx=None, text_template='{metadata_str}\\n\\n{content}', metadata_template='{key}: {value}', metadata_seperator='\\n'),\n",
       " Document(id_='0d28eac4-9c31-48d1-8f8a-06d890d5ecae', embedding=None, metadata={'page_num_coordinates': \"[[{'page_num': 1}, [245.6221923828125, 340.23565673828125], [245.6221923828125, 889.635009765625], [1459.516845703125, 889.635009765625], [1459.516845703125, 340.23565673828125]], [{'page_num': 1}, [249.9425506591797, 922.69970703125], [249.9425506591797, 1065.8106689453125], [1459.220458984375, 1065.8106689453125], [1459.220458984375, 922.69970703125]]]\", 'book_source': 'Investment_Valuations_techniques'}, excluded_embed_metadata_keys=['page_num_coordinates', 'book_source'], excluded_llm_metadata_keys=['page_num_coordinates', 'book_source'], relationships={}, text='Every asset, financial as well as real, has a value.\\nThe key to successfully investing in and managing these assets lies in understanding not only what the value is but also the sources of the value.\\nAny asset can be valued, but some assets are easier to value than others and the details of valuation will vary from case to case.\\nThus, the valuation of a share of a real estate property will require different information and follow a different format than the valuation of a publicly traded stock.\\nWhat is surprising, however, is not the differences in valuation techniques across assets, but the degree of similarity in basic principles.\\nThere is undeniably uncertainty associated with valuation.\\nOften that uncertainty comes from the asset being valued, though the valuation model may add to that uncertainty.This chapter lays out a philosophical basis for valuation, together with a discussion of how valuation is or can be used in a variety of frameworks, from portfolio management to corporate finance.\\n\\n', start_char_idx=None, end_char_idx=None, text_template='{metadata_str}\\n\\n{content}', metadata_template='{key}: {value}', metadata_seperator='\\n'),\n",
       " Document(id_='fbe2f979-4c4e-48e9-8d36-f3ba9eb40005', embedding=None, metadata={'page_num_coordinates': \"[[{'page_num': 17}, [237.5, 831.5659722222222], [237.5, 1082.3159722222222], [971.8928472222221, 1082.3159722222222], [971.8928472222221, 831.5659722222222]], [{'page_num': 17}, [237.68055555555554, 1089.965972222222], [237.68055555555554, 1384.4302978515625], [971.9743055555557, 1384.4302978515625], [971.9743055555557, 1089.965972222222]], [{'page_num': 18}, [233.49282836914062, 275.73263888888874], [233.49282836914062, 440.3493055555556], [971.6874999999998, 440.3493055555556], [971.6874999999998, 275.73263888888874]], [{'page_num': 18}, [232.6602325439453, 447.9993055555556], [232.6602325439453, 827.9493055555561], [971.7158333333332, 827.9493055555561], [971.7158333333332, 447.9993055555556]], [{'page_num': 18}, [235.61825561523438, 835.5993055555562], [235.61825561523438, 1129.4159722222228], [971.7052083333333, 1129.4159722222228], [971.7052083333333, 835.5993055555562]], [{'page_num': 18}, [236.35011291503906, 1137.0659722222226], [236.35011291503906, 1344.749305555556], [971.6627083333334, 1344.749305555556], [971.6627083333334, 1137.0659722222226]], [{'page_num': 19}, [257.3603820800781, 311.52679443359375], [257.3603820800781, 476.4604166666667], [941.3176879882812, 476.4604166666667], [941.3176879882812, 311.52679443359375]], [{'page_num': 25}, [228.84576416015625, 1055.1770833333333], [228.84576416015625, 1392.371826171875], [971.5794444444443, 1392.371826171875], [971.5794444444443, 1055.1770833333333]], [{'page_num': 26}, [236.5471954345703, 275.73263888888874], [236.5471954345703, 784.8826388888893], [971.7158333333336, 784.8826388888893], [971.7158333333336, 275.73263888888874]]]\", 'book_source': 'Little_Book_on_Valuation'}, excluded_embed_metadata_keys=['page_num_coordinates', 'book_source'], excluded_llm_metadata_keys=['page_num_coordinates', 'book_source'], relationships={}, text='DO YOU KNOW WHAT A SHARE IN GOOGLE OR APPLE is really worth? What about that condo or house you just bought? Should you care? Knowing the value of a stock, bond, or property may not be a prerequisite for successful investing, but it does help you make more informed judgments.Most investors see valuing an asset as a daunting task—something far too complex and complicated for their skill sets.\\nConsequently, they leave it to the professionals (equity research analysts, appraisers) or ignore it entirely.\\nI believe that valuation, at its core, is simple, and anyone who is willing to spend time collecting and analyzing information can do it.\\nI show you how in this book.I also hope to strip away the mystique from valuation practices and provide ways in which you can look at valua- tion judgments made by analysts and appraisers and decide for yourself whether they make sense or not.While valuation models can be filled with details, the value of any company rests on a few key drivers, which will vary from company to company.\\nIn the search for these value drivers, I will look not only across the life cycle from young growth firms such as Under Armour to mature companies like Hormel Foods, but also across diverse sectors from commodity companies such as Exxon Mobil, to financial service companies such as Wells Fargo, and pharmaceutical companies such as Amgen.Here is the bonus: If you understand the value drivers of a business, you can also start to identify value plays— stocks that are investment bargains.\\nBy the end of the book, I would like you to be able to assess the value of any company or business that you are interested in buying and use this understanding to become a more informed and successful investor.Not all of you will have the time or the inclination to value companies.\\nBut this book will give you the tools if you choose to try, and it will provide you with some short- cuts in case you do not.\\nLet’s hit the road.In a web site to accompany this book (www.wiley .com/go/littlebookofvaluation), you can look at these valuation models and change or update the numbers to see the effects.OSCAR WILDE DEFINED A CYNIC AS ONE WHO “knows the price of everything and the value of nothing.” The same can be said of many investors who regard investing as a game and define winning as staying ahead of the pack.\\nA postulate of sound investing is that an investor does not pay more for an asset than it is worth.\\nIf you accept this proposition, it follows that you have to at least try to value whatever you are buying before buying it.\\nI knowthere are those who argue that value is in the eyes of the beholder, and that any price can be justified if there are other investors who perceive an investment to be worth that amount.\\nThat is patently absurd.\\nPerceptions may be all that matter when the asset is a painting or a sculpture, but you buy financial assets for the cash flows that you expect to receive.\\nThe price of a stock cannot be justified by merely using the argument that there will be other investors around who will pay a higher price in the future.\\nThat is the equivalent of playing an expensive game of musical chairs, and the question becomes: Where will you be when the music stops?\\n\\n', start_char_idx=None, end_char_idx=None, text_template='{metadata_str}\\n\\n{content}', metadata_template='{key}: {value}', metadata_seperator='\\n'),\n",
       " Document(id_='47d79db6-ebf3-48aa-9ba2-596f1396429a', embedding=None, metadata={'page_num_coordinates': \"[[{'page_num': 8}, [492.8011779785156, 393.8683776855469], [492.8011779785156, 424.9304504394531], [697.6079711914062, 424.9304504394531], [697.6079711914062, 393.8683776855469]]]\", 'book_source': 'Narrative_and_Numbers'}, excluded_embed_metadata_keys=['page_num_coordinates', 'book_source'], excluded_llm_metadata_keys=['page_num_coordinates', 'book_source'], relationships={}, text='PREFACE\\n\\n', start_char_idx=None, end_char_idx=None, text_template='{metadata_str}\\n\\n{content}', metadata_template='{key}: {value}', metadata_seperator='\\n'),\n",
       " Document(id_='f6bbe0ca-bf22-401e-98e8-aa0cdbed618c', embedding=None, metadata={'page_num_coordinates': \"[[{'page_num': 1}, [246.3429718017578, 363.6666121527778], [246.3429718017578, 1032.3331940972223], [1458.333332986111, 1032.3331940972223], [1458.333332986111, 363.6666121527778]], [{'page_num': 1}, [250.0, 1056.9998899305556], [250.0, 1378.999832986111], [1458.3333079027775, 1378.999832986111], [1458.3333079027775, 1056.9998899305556]], [{'page_num': 1}, [248.77174377441406, 1519.6665010416666], [248.77174377441406, 1784.3331663194444], [1458.3333056527777, 1784.3331663194444], [1458.3333056527777, 1519.6665010416666]], [{'page_num': 1}, [245.58200073242188, 1936.1665173541667], [245.58200073242188, 2000.1665136041668], [1456.8332623541664, 2000.1665136041668], [1456.8332623541664, 1936.1665173541667]], [{'page_num': 2}, [247.90687561035156, 204.9998065972223], [247.90687561035156, 296.3331385416666], [1458.333310597222, 296.3331385416666], [1458.333310597222, 204.9998065972223]]]\", 'book_source': 'Strategic_Risk'}, excluded_embed_metadata_keys=['page_num_coordinates', 'book_source'], excluded_llm_metadata_keys=['page_num_coordinates', 'book_source'], relationships={}, text='Risk is part of every human endeavor.\\nFrom the moment we get up in the morning, drive or take public transportation to get to school or to work until we get back into our beds (and perhaps even afterwards), we are exposed to risks of different degrees.\\nWhat makes the study of risk fascinating is that while some of this risk bearing may not be completely voluntary, we seek out some risks on our own (speeding on the highways or gambling, for instance) and enjoy them.\\nWhile some of these risks may seem trivial, others make a significant difference in the way we live our lives.\\nOn a loftier note, it can be argued that every major advance in human civilization, from the caveman’s invention of tools to gene therapy, has been made possible because someone was willing to take a risk and challenge the status quo.\\nIn this chapter, we begin our exploration of risk by noting its presence through history and then look at how best to define what we mean by risk.We close the chapter by restating the main theme of this book, which is that financial theorists and practitioners have chosen to take too narrow a view of risk, in general, and risk management, in particular.\\nBy equating risk management with risk hedging, they have underplayed the fact that the most successful firms in any industry get there not by avoiding risk but by actively seeking it out and exploiting it to their own advantage.For much of human history, risk and survival have gone hand in hand.\\nPrehistoric humans lived short and brutal lives, as the search for food and shelter exposed them to physical danger from preying animals and poor weather.1 Even as more established communities developed in Sumeria, Babylon and Greece, other risks (such as war and disease) continued to ravage humanity.\\nFor much of early history, though, physical risk1 The average life span of prehistoric man was less than 30 years.\\nEven the ancient Greeks and Romans were considered aged by the time they turned 40.and material reward went hand in hand.\\nThe risk-taking caveman ended up with food and the risk-averse one starved to death.\\n\\n', start_char_idx=None, end_char_idx=None, text_template='{metadata_str}\\n\\n{content}', metadata_template='{key}: {value}', metadata_seperator='\\n'),\n",
       " Document(id_='be3066f2-782c-4dc7-a853-b800fce4838b', embedding=None, metadata={'youtube_id': 'LYGYvN5LUbA', 'start_timestamp': 1.439}, excluded_embed_metadata_keys=['youtube_id', 'start_timestamp'], excluded_llm_metadata_keys=['youtube_id', 'start_timestamp'], relationships={}, text=\"hi welcome to valuation i know many of you come in with preconceptions about what this class is about and rather than feed into those preconceptions i'd like to talk about what this class is not about and in the process perhaps perhaps you will get a sense of what this class is about i know for many of you valuation is a set of equations and formula and models and perhaps that is what you're expecting to get as science i'm sorry to disappoint you but valuation is not a science it is a craft and the essence of a craft is you learn through trial and error there is no perfect way of doing things there's a better way of doing things put simply you don't learn valuation by talking about it or watching other people talk about it so i hope that this class will help you learn valuation as a craft by doing it you will find that as you work through this class it will get easier when you start it's going to be difficult that's the nature of a craft and as you get more comfortable you'll start to get more comfortable also deviating from a script rather than cook from a recipe you'll be able to cook on your own second i know for many of you you're expecting a class built around valuing publicly traded companies you want to value the coca-colas the airbnbs the ubers the facebooks of the world and that's okay that's pretty much what many people think about valuation but i hope to make this class much more than valuing just public companies i want to talk about valuing private companies i want to talk about buying small companies and large companies develop market companies in emerging market companies and along the way what i hope you will see in this class is the principles of valuation are universal you don't really need to relearn valuation to value a specific group of companies you just need to take the existing principles evaluation and apply them differently along the way we'll talk about how value can be different from the inside when managers look at a company i suppose from the outside as investors looking at a company not because the principles change but because managers control more of the levers they can change the way a companies run by the end of this class i hope you can value just about any kind of business small or large in whatever sector in whatever market third i want to draw a contrast between two words we use interchangeably in investing value and price let me set this on the table if i believe that markets were efficient what i'm effectively saying the value and the price are pretty much the same thing and if you believe that there's really no point taking this class i believe that the value of an asset is driven by cash flows growth and risk and we're going to talk a lot about how to\", start_char_idx=None, end_char_idx=None, text_template='{metadata_str}\\n\\n{content}', metadata_template='{key}: {value}', metadata_seperator='\\n'),\n",
       " Document(id_='95c90239-ca46-4bec-b0de-f9afe838d96e', embedding=None, metadata={'youtube_id': '2S_vt-N0czE', 'start_timestamp': 16.92}, excluded_embed_metadata_keys=['youtube_id', 'start_timestamp'], excluded_llm_metadata_keys=['youtube_id', 'start_timestamp'], relationships={}, text=\"so much um you thinking okay folks I see some familiar faces here so how many of you are in my corporate finance class last year not as many as I thought Okay so for many of you this is going to be your first class with me I would think so see how this goes um just to get you set for how this class will be structured at the start of every class there will be a quiz don't worry it won't be graded it won't affect your overall grade you know what the quiz will be about it's about the sub step we will do during the course of the class so it sounds like it's backwards right the squids should come after the the point of the quiz is to actually raise questions about what we're going to talk about during the course of the class and let you get a chance to actually see if you can come up with the answer in which case you're saying you know what's the point of the class and I would like that to be the end game is much of what we're going to talk in the class you could have figured out by yourself having this class might provide you a structure but we're going to start every class with a quiz so since we're going to do that every class I thought we'd start this class too with a quiz you know this class it's called valuation and there's a story behind that I'll come back and talk about that but I want to get a sense of why you're taking the class what do you expect to see in the class and I'm going to structured in in the in the form of in a bunch of questions I'm going to ask you so here's the first one and we'll come back and talk more about this but you often see people talk about valuation as an art as a science accountants claim that they've made it more scientific so my first question don't you don't have to tell me the answers I said we'll come back and talk about it if I ask you to describe valuation as a discipline would you describe it as a science and I let you define what comprises a science is it an art is it black magic white magic whatever magic you want to call it or is there something else some other word you used to describe it so file that away we'll come back and address that question sometime during the course of the classroom everybody made a choice art science magic something else second when you go into evaluation class you have a preconception about what kinds of companies you're going to wear okay and I'm going to give you you know four groups of companies and I want you to think about which of these companies is going to be easiest to value and which ones you think will give you\", start_char_idx=None, end_char_idx=None, text_template='{metadata_str}\\n\\n{content}', metadata_template='{key}: {value}', metadata_seperator='\\n'),\n",
       " Document(id_='2bd67b32-da5d-41de-af09-4f4835f921be', embedding=None, metadata={'youtube_id': 'CdhTVs36z4c', 'start_timestamp': 0.78}, excluded_embed_metadata_keys=['youtube_id', 'start_timestamp'], excluded_llm_metadata_keys=['youtube_id', 'start_timestamp'], relationships={}, text=\"hi welcome back in my last session I talked about banking as a business drawing a Divergence or a differential between good Banks and bad Banks and at least in this simple framework that I created a bank that has access to Sticky deposits most of which are non-interest bearing that then takes that capital and invested in loans and investment Securities where it earns an interest rate higher than what it needs to make given the default risk is a good bet and to add to the goodness if it is built the buffer up against failure with more equity and more tier one Capital all the better so dividing Banks into good Banks and bad Banks is not that difficult in this session I want to focus on a different question what banks are good Investments good banks are not necessarily good Investments and bad banks are not necessarily bad Investments if you're mystified by that it all depends on the price if a good bank is priced as a great Bank paying that high price will effectively set you up for disappointment if a bad bank is priced as an abysmal Bank getting it at The Bargain Basement price might actually make it a good investment so I want to focus on valuing and pricing banks in the session I'm going to start with valuation I like valuing companies and I like challenges in value in companies I like value young companies difficult to Value companies and banks are a different breed when it comes to valuation let's see what when you think about valuing a traditional company of two choices you can value the entire business or you can value just the equity in the business start with Equity valuation it's a little more intuitive you value the equity in a business you look at the cash flows you as Equity investors get after everybody else is being paid after interest payments after debt payments cash flow equity and you discount them back at a rate of return your demand as an equity investor given the risk and the equity or cost of equity cash flows to equity discounted the cost of equity gives you the value of equity what's the alternative you can think of lenders as capital providers just like Equity investors are you can look at the collective cash flows that Equity investors and lenders get it's a pre-dead cash flow it's still after taxes and after reinvestment but before debt payments and you discard those cash flows back at a weighted average of What lenders want which is the cost of debt and and what Equity investors want which is the cost of equity which in corporate finance is the cost of capital cash flows the business pre-dead cash flows discounted back at the cost of capital gives you the value of the business Enterprise Value value of operating assets now with typical companies you have the choice with banks you lose that choice and here's why with a non-financial Service Company\", start_char_idx=None, end_char_idx=None, text_template='{metadata_str}\\n\\n{content}', metadata_template='{key}: {value}', metadata_seperator='\\n')]"
      ]
     },
     "execution_count": 33,
     "metadata": {},
     "output_type": "execute_result"
    }
   ],
   "source": [
    "all_data_list"
   ]
  },
  {
   "cell_type": "code",
   "execution_count": 34,
   "metadata": {},
   "outputs": [],
   "source": [
    "from dotenv import load_dotenv\n",
    "import openai\n",
    "\n",
    "load_dotenv()\n",
    "\n",
    "openai.api_key = os.environ[\"OPENAI_API_KEY\"]"
   ]
  },
  {
   "cell_type": "code",
   "execution_count": 21,
   "metadata": {},
   "outputs": [],
   "source": [
    "import chromadb\n",
    "COLLECTION_NAME = \"ad-project\"\n",
    "chroma_client = chromadb.PersistentClient(\n",
    "    path=COLLECTION_NAME,\n",
    ")"
   ]
  },
  {
   "cell_type": "code",
   "execution_count": 22,
   "metadata": {},
   "outputs": [],
   "source": [
    "# !pip install llama-index-vector-stores-chroma"
   ]
  },
  {
   "cell_type": "code",
   "execution_count": 35,
   "metadata": {},
   "outputs": [],
   "source": [
    "from llama_index.core import VectorStoreIndex\n",
    "from llama_index.vector_stores.chroma import ChromaVectorStore\n",
    "from llama_index.core import StorageContext\n",
    "from llama_index.embeddings.openai import OpenAIEmbedding\n",
    "from IPython.display import Markdown, display\n",
    "import chromadb\n",
    "\n",
    "COLLECTION_NAME = \"ad-project\"\n",
    "EMBEDDING_MODEL = \"text-embedding-3-small\"\n",
    "\n",
    "ad_project_db = chromadb.PersistentClient(path=\"ad_project_db\")\n",
    "ad_project_chroma_collection = ad_project_db.get_or_create_collection(COLLECTION_NAME)\n",
    "embed_model = OpenAIEmbedding(model=EMBEDDING_MODEL)\n",
    "vector_store = ChromaVectorStore(chroma_collection=ad_project_chroma_collection)\n",
    "storage_context = StorageContext.from_defaults(vector_store=vector_store)\n",
    "index = VectorStoreIndex.from_documents(\n",
    "    all_data_list, storage_context=storage_context, embed_model=embed_model\n",
    ")"
   ]
  },
  {
   "cell_type": "code",
   "execution_count": 24,
   "metadata": {},
   "outputs": [
    {
     "data": {
      "text/plain": [
       "Document(id_='ec1dd6b4-8929-4943-a87d-f60a6a5cd709', embedding=None, metadata={'page_num_coordinates': [[{'page_num': 2}, [248.09210205078125, 282.16666666666674], [248.09210205078125, 1008.8333333333334], [1459.0, 1008.8333333333334], [1459.0, 282.16666666666674]]], 'book_source': 'Applied_corporate_finance'}, excluded_embed_metadata_keys=['page_num_coordinates', 'book_source'], excluded_llm_metadata_keys=['page_num_coordinates', 'book_source'], relationships={}, text='Let me begin this preface with a confession of a few of my own biases.\\nFirst, I believe that theory, and the models that flow from it, should provide us with the tools to understand, analyze and solve problems.\\nThe test of a model or theory then should not be based upon its elegance but upon its usefulness in problem solving.\\nSecond, there is little in corporate financial theory, in my view, that is new and revolutionary.\\nThe core principles of corporate finance are common sense ones, and have changed little over time.\\nThat should not be surprising.\\nCorporate finance is only a few decades old and people have been running businesses for thousands of years, and it would be exceedingly presumptuous of us to believe that they were in the dark until corporate finance theorists came along and told them what to do.\\nTo be fair, it is true that corporate financial theory has made advances in taking common sense principles and providing them with structure, but these advances have been primarily on the details.\\nThe story line in corporate finance has remained remarkably consistent over time.\\n\\n', start_char_idx=None, end_char_idx=None, text_template='{metadata_str}\\n\\n{content}', metadata_template='{key}: {value}', metadata_seperator='\\n')"
      ]
     },
     "execution_count": 24,
     "metadata": {},
     "output_type": "execute_result"
    }
   ],
   "source": [
    "all_data_list[0]"
   ]
  },
  {
   "cell_type": "code",
   "execution_count": 27,
   "metadata": {},
   "outputs": [
    {
     "data": {
      "text/plain": [
       "\"[[{'page_num': 2}, [248.09210205078125, 282.16666666666674], [248.09210205078125, 1008.8333333333334], [1459.0, 1008.8333333333334], [1459.0, 282.16666666666674]]]\""
      ]
     },
     "execution_count": 27,
     "metadata": {},
     "output_type": "execute_result"
    }
   ],
   "source": [
    "s = str([[{'page_num': 2}, [248.09210205078125, 282.16666666666674], [248.09210205078125, 1008.8333333333334], [1459.0, 1008.8333333333334], [1459.0, 282.16666666666674]]])\n",
    "s"
   ]
  },
  {
   "cell_type": "code",
   "execution_count": 29,
   "metadata": {},
   "outputs": [
    {
     "data": {
      "text/plain": [
       "list"
      ]
     },
     "execution_count": 29,
     "metadata": {},
     "output_type": "execute_result"
    }
   ],
   "source": [
    "import ast\n",
    "\n",
    "data = ast.literal_eval(s)\n",
    "type(data)"
   ]
  },
  {
   "cell_type": "code",
   "execution_count": 36,
   "metadata": {},
   "outputs": [],
   "source": [
    "query_engine = index.as_query_engine()\n",
    "response = query_engine.query(\"First steps in valuation\")"
   ]
  },
  {
   "cell_type": "code",
   "execution_count": 37,
   "metadata": {},
   "outputs": [
    {
     "data": {
      "text/plain": [
       "Response(response='The first steps in valuation involve understanding the key drivers of value for the asset being evaluated. By identifying these key drivers, one can begin to assess the worth of the asset and make informed investment decisions. Valuation may seem complex, but with time spent collecting and analyzing information, anyone can learn to value assets effectively. It is essential to grasp the value drivers specific to each company or asset, as they vary depending on the nature of the business or property. Successful valuation requires a clear understanding of what creates value in a particular asset and being able to assess whether the price being paid aligns with its true worth.', source_nodes=[NodeWithScore(node=TextNode(id_='94bbed93-9262-4095-a320-147b4406ad6d', embedding=None, metadata={'page_num_coordinates': \"[[{'page_num': 17}, [237.5, 831.5659722222222], [237.5, 1082.3159722222222], [971.8928472222221, 1082.3159722222222], [971.8928472222221, 831.5659722222222]], [{'page_num': 17}, [237.68055555555554, 1089.965972222222], [237.68055555555554, 1384.4302978515625], [971.9743055555557, 1384.4302978515625], [971.9743055555557, 1089.965972222222]], [{'page_num': 18}, [233.49282836914062, 275.73263888888874], [233.49282836914062, 440.3493055555556], [971.6874999999998, 440.3493055555556], [971.6874999999998, 275.73263888888874]], [{'page_num': 18}, [232.6602325439453, 447.9993055555556], [232.6602325439453, 827.9493055555561], [971.7158333333332, 827.9493055555561], [971.7158333333332, 447.9993055555556]], [{'page_num': 18}, [235.61825561523438, 835.5993055555562], [235.61825561523438, 1129.4159722222228], [971.7052083333333, 1129.4159722222228], [971.7052083333333, 835.5993055555562]], [{'page_num': 18}, [236.35011291503906, 1137.0659722222226], [236.35011291503906, 1344.749305555556], [971.6627083333334, 1344.749305555556], [971.6627083333334, 1137.0659722222226]], [{'page_num': 19}, [257.3603820800781, 311.52679443359375], [257.3603820800781, 476.4604166666667], [941.3176879882812, 476.4604166666667], [941.3176879882812, 311.52679443359375]], [{'page_num': 25}, [228.84576416015625, 1055.1770833333333], [228.84576416015625, 1392.371826171875], [971.5794444444443, 1392.371826171875], [971.5794444444443, 1055.1770833333333]], [{'page_num': 26}, [236.5471954345703, 275.73263888888874], [236.5471954345703, 784.8826388888893], [971.7158333333336, 784.8826388888893], [971.7158333333336, 275.73263888888874]]]\", 'book_source': 'Little_Book_on_Valuation'}, excluded_embed_metadata_keys=['page_num_coordinates', 'book_source'], excluded_llm_metadata_keys=['page_num_coordinates', 'book_source'], relationships={<NodeRelationship.SOURCE: '1'>: RelatedNodeInfo(node_id='fbe2f979-4c4e-48e9-8d36-f3ba9eb40005', node_type=<ObjectType.DOCUMENT: '4'>, metadata={'page_num_coordinates': \"[[{'page_num': 17}, [237.5, 831.5659722222222], [237.5, 1082.3159722222222], [971.8928472222221, 1082.3159722222222], [971.8928472222221, 831.5659722222222]], [{'page_num': 17}, [237.68055555555554, 1089.965972222222], [237.68055555555554, 1384.4302978515625], [971.9743055555557, 1384.4302978515625], [971.9743055555557, 1089.965972222222]], [{'page_num': 18}, [233.49282836914062, 275.73263888888874], [233.49282836914062, 440.3493055555556], [971.6874999999998, 440.3493055555556], [971.6874999999998, 275.73263888888874]], [{'page_num': 18}, [232.6602325439453, 447.9993055555556], [232.6602325439453, 827.9493055555561], [971.7158333333332, 827.9493055555561], [971.7158333333332, 447.9993055555556]], [{'page_num': 18}, [235.61825561523438, 835.5993055555562], [235.61825561523438, 1129.4159722222228], [971.7052083333333, 1129.4159722222228], [971.7052083333333, 835.5993055555562]], [{'page_num': 18}, [236.35011291503906, 1137.0659722222226], [236.35011291503906, 1344.749305555556], [971.6627083333334, 1344.749305555556], [971.6627083333334, 1137.0659722222226]], [{'page_num': 19}, [257.3603820800781, 311.52679443359375], [257.3603820800781, 476.4604166666667], [941.3176879882812, 476.4604166666667], [941.3176879882812, 311.52679443359375]], [{'page_num': 25}, [228.84576416015625, 1055.1770833333333], [228.84576416015625, 1392.371826171875], [971.5794444444443, 1392.371826171875], [971.5794444444443, 1055.1770833333333]], [{'page_num': 26}, [236.5471954345703, 275.73263888888874], [236.5471954345703, 784.8826388888893], [971.7158333333336, 784.8826388888893], [971.7158333333336, 275.73263888888874]]]\", 'book_source': 'Little_Book_on_Valuation'}, hash='775db55f8546157fd66d37ce5f8172110bd78ef0608773c5922805fd573dbcfb'), <NodeRelationship.PREVIOUS: '2'>: RelatedNodeInfo(node_id='e59b7f6d-de4a-4210-934e-3fa2c0c7ed44', node_type=<ObjectType.TEXT: '1'>, metadata={'page_num_coordinates': \"[[{'page_num': 1}, [245.6221923828125, 340.23565673828125], [245.6221923828125, 889.635009765625], [1459.516845703125, 889.635009765625], [1459.516845703125, 340.23565673828125]], [{'page_num': 1}, [249.9425506591797, 922.69970703125], [249.9425506591797, 1065.8106689453125], [1459.220458984375, 1065.8106689453125], [1459.220458984375, 922.69970703125]]]\", 'book_source': 'Investment_Valuations_techniques'}, hash='bde9d124954cbc32c2ce6263fe1decde01ebddf2c031de2bedcae02854166431'), <NodeRelationship.NEXT: '3'>: RelatedNodeInfo(node_id='977000a4-01af-4d3d-9a9e-49c784a23394', node_type=<ObjectType.TEXT: '1'>, metadata={}, hash='0fb0e2947c282d1857ba9eccacab3ce0c08eefa1cd0a5a4e442523787c28450b')}, text='DO YOU KNOW WHAT A SHARE IN GOOGLE OR APPLE is really worth? What about that condo or house you just bought? Should you care? Knowing the value of a stock, bond, or property may not be a prerequisite for successful investing, but it does help you make more informed judgments.Most investors see valuing an asset as a daunting task—something far too complex and complicated for their skill sets.\\nConsequently, they leave it to the professionals (equity research analysts, appraisers) or ignore it entirely.\\nI believe that valuation, at its core, is simple, and anyone who is willing to spend time collecting and analyzing information can do it.\\nI show you how in this book.I also hope to strip away the mystique from valuation practices and provide ways in which you can look at valua- tion judgments made by analysts and appraisers and decide for yourself whether they make sense or not.While valuation models can be filled with details, the value of any company rests on a few key drivers, which will vary from company to company.\\nIn the search for these value drivers, I will look not only across the life cycle from young growth firms such as Under Armour to mature companies like Hormel Foods, but also across diverse sectors from commodity companies such as Exxon Mobil, to financial service companies such as Wells Fargo, and pharmaceutical companies such as Amgen.Here is the bonus: If you understand the value drivers of a business, you can also start to identify value plays— stocks that are investment bargains.\\nBy the end of the book, I would like you to be able to assess the value of any company or business that you are interested in buying and use this understanding to become a more informed and successful investor.Not all of you will have the time or the inclination to value companies.\\nBut this book will give you the tools if you choose to try, and it will provide you with some short- cuts in case you do not.\\nLet’s hit the road.In a web site to accompany this book (www.wiley .com/go/littlebookofvaluation), you can look at these valuation models and change or update the numbers to see the effects.OSCAR WILDE DEFINED A CYNIC AS ONE WHO “knows the price of everything and the value of nothing.” The same can be said of many investors who regard investing as a game and define winning as staying ahead of the pack.\\nA postulate of sound investing is that an investor does not pay more for an asset than it is worth.\\nIf you accept this proposition, it follows that you have to at least try to value whatever you are buying before buying it.\\nI knowthere are those who argue that value is in the eyes of the beholder, and that any price can be justified if there are other investors who perceive an investment to be worth that amount.\\nThat is patently absurd.\\nPerceptions may be all that matter when the asset is a painting or a sculpture, but you buy financial assets for the cash flows that you expect to receive.\\nThe price of a stock cannot be justified by merely using the argument that there will be other investors around who will pay a higher price in the future.\\nThat is the equivalent of playing an expensive game of musical chairs, and the question becomes: Where will you be when the music stops?', start_char_idx=0, end_char_idx=3225, text_template='{metadata_str}\\n\\n{content}', metadata_template='{key}: {value}', metadata_seperator='\\n'), score=0.41559921382432025), NodeWithScore(node=TextNode(id_='e59b7f6d-de4a-4210-934e-3fa2c0c7ed44', embedding=None, metadata={'page_num_coordinates': \"[[{'page_num': 1}, [245.6221923828125, 340.23565673828125], [245.6221923828125, 889.635009765625], [1459.516845703125, 889.635009765625], [1459.516845703125, 340.23565673828125]], [{'page_num': 1}, [249.9425506591797, 922.69970703125], [249.9425506591797, 1065.8106689453125], [1459.220458984375, 1065.8106689453125], [1459.220458984375, 922.69970703125]]]\", 'book_source': 'Investment_Valuations_techniques'}, excluded_embed_metadata_keys=['page_num_coordinates', 'book_source'], excluded_llm_metadata_keys=['page_num_coordinates', 'book_source'], relationships={<NodeRelationship.SOURCE: '1'>: RelatedNodeInfo(node_id='0d28eac4-9c31-48d1-8f8a-06d890d5ecae', node_type=<ObjectType.DOCUMENT: '4'>, metadata={'page_num_coordinates': \"[[{'page_num': 1}, [245.6221923828125, 340.23565673828125], [245.6221923828125, 889.635009765625], [1459.516845703125, 889.635009765625], [1459.516845703125, 340.23565673828125]], [{'page_num': 1}, [249.9425506591797, 922.69970703125], [249.9425506591797, 1065.8106689453125], [1459.220458984375, 1065.8106689453125], [1459.220458984375, 922.69970703125]]]\", 'book_source': 'Investment_Valuations_techniques'}, hash='c11c995716f6c1f208a371f02d067ef8b0efecfca1e53dd5e331d22093583cad'), <NodeRelationship.PREVIOUS: '2'>: RelatedNodeInfo(node_id='84f448a3-b382-4832-989e-d78ba4e6dca4', node_type=<ObjectType.TEXT: '1'>, metadata={'page_num_coordinates': \"[[{'page_num': 1}, [249.59519958496094, 330.55555555555554], [249.59519958496094, 713.8888888888889], [1452.8413244444444, 713.8888888888889], [1452.8413244444444, 330.55555555555554]]]\", 'book_source': 'Investment_Philosophies'}, hash='208336a8bad69e91dbf921a3469135f18770ef1ae827d072b03c860877d1dbe8'), <NodeRelationship.NEXT: '3'>: RelatedNodeInfo(node_id='94bbed93-9262-4095-a320-147b4406ad6d', node_type=<ObjectType.TEXT: '1'>, metadata={}, hash='da74a53beb956263ae3a01835aafafc09cbe9be9c299aed2f535c45e435be0c2')}, text='Every asset, financial as well as real, has a value.\\nThe key to successfully investing in and managing these assets lies in understanding not only what the value is but also the sources of the value.\\nAny asset can be valued, but some assets are easier to value than others and the details of valuation will vary from case to case.\\nThus, the valuation of a share of a real estate property will require different information and follow a different format than the valuation of a publicly traded stock.\\nWhat is surprising, however, is not the differences in valuation techniques across assets, but the degree of similarity in basic principles.\\nThere is undeniably uncertainty associated with valuation.\\nOften that uncertainty comes from the asset being valued, though the valuation model may add to that uncertainty.This chapter lays out a philosophical basis for valuation, together with a discussion of how valuation is or can be used in a variety of frameworks, from portfolio management to corporate finance.', start_char_idx=0, end_char_idx=1009, text_template='{metadata_str}\\n\\n{content}', metadata_template='{key}: {value}', metadata_seperator='\\n'), score=0.4036961815215495)], metadata={'94bbed93-9262-4095-a320-147b4406ad6d': {'page_num_coordinates': \"[[{'page_num': 17}, [237.5, 831.5659722222222], [237.5, 1082.3159722222222], [971.8928472222221, 1082.3159722222222], [971.8928472222221, 831.5659722222222]], [{'page_num': 17}, [237.68055555555554, 1089.965972222222], [237.68055555555554, 1384.4302978515625], [971.9743055555557, 1384.4302978515625], [971.9743055555557, 1089.965972222222]], [{'page_num': 18}, [233.49282836914062, 275.73263888888874], [233.49282836914062, 440.3493055555556], [971.6874999999998, 440.3493055555556], [971.6874999999998, 275.73263888888874]], [{'page_num': 18}, [232.6602325439453, 447.9993055555556], [232.6602325439453, 827.9493055555561], [971.7158333333332, 827.9493055555561], [971.7158333333332, 447.9993055555556]], [{'page_num': 18}, [235.61825561523438, 835.5993055555562], [235.61825561523438, 1129.4159722222228], [971.7052083333333, 1129.4159722222228], [971.7052083333333, 835.5993055555562]], [{'page_num': 18}, [236.35011291503906, 1137.0659722222226], [236.35011291503906, 1344.749305555556], [971.6627083333334, 1344.749305555556], [971.6627083333334, 1137.0659722222226]], [{'page_num': 19}, [257.3603820800781, 311.52679443359375], [257.3603820800781, 476.4604166666667], [941.3176879882812, 476.4604166666667], [941.3176879882812, 311.52679443359375]], [{'page_num': 25}, [228.84576416015625, 1055.1770833333333], [228.84576416015625, 1392.371826171875], [971.5794444444443, 1392.371826171875], [971.5794444444443, 1055.1770833333333]], [{'page_num': 26}, [236.5471954345703, 275.73263888888874], [236.5471954345703, 784.8826388888893], [971.7158333333336, 784.8826388888893], [971.7158333333336, 275.73263888888874]]]\", 'book_source': 'Little_Book_on_Valuation'}, 'e59b7f6d-de4a-4210-934e-3fa2c0c7ed44': {'page_num_coordinates': \"[[{'page_num': 1}, [245.6221923828125, 340.23565673828125], [245.6221923828125, 889.635009765625], [1459.516845703125, 889.635009765625], [1459.516845703125, 340.23565673828125]], [{'page_num': 1}, [249.9425506591797, 922.69970703125], [249.9425506591797, 1065.8106689453125], [1459.220458984375, 1065.8106689453125], [1459.220458984375, 922.69970703125]]]\", 'book_source': 'Investment_Valuations_techniques'}})"
      ]
     },
     "execution_count": 37,
     "metadata": {},
     "output_type": "execute_result"
    }
   ],
   "source": [
    "response"
   ]
  },
  {
   "cell_type": "code",
   "execution_count": 39,
   "metadata": {},
   "outputs": [],
   "source": [
    "retriever = index.as_retriever()\n",
    "nodes = retriever.retrieve(\"First step in valuations\")"
   ]
  },
  {
   "cell_type": "code",
   "execution_count": 41,
   "metadata": {},
   "outputs": [
    {
     "name": "stdout",
     "output_type": "stream",
     "text": [
      "{'page_num_coordinates': \"[[{'page_num': 17}, [237.5, 831.5659722222222], [237.5, 1082.3159722222222], [971.8928472222221, 1082.3159722222222], [971.8928472222221, 831.5659722222222]], [{'page_num': 17}, [237.68055555555554, 1089.965972222222], [237.68055555555554, 1384.4302978515625], [971.9743055555557, 1384.4302978515625], [971.9743055555557, 1089.965972222222]], [{'page_num': 18}, [233.49282836914062, 275.73263888888874], [233.49282836914062, 440.3493055555556], [971.6874999999998, 440.3493055555556], [971.6874999999998, 275.73263888888874]], [{'page_num': 18}, [232.6602325439453, 447.9993055555556], [232.6602325439453, 827.9493055555561], [971.7158333333332, 827.9493055555561], [971.7158333333332, 447.9993055555556]], [{'page_num': 18}, [235.61825561523438, 835.5993055555562], [235.61825561523438, 1129.4159722222228], [971.7052083333333, 1129.4159722222228], [971.7052083333333, 835.5993055555562]], [{'page_num': 18}, [236.35011291503906, 1137.0659722222226], [236.35011291503906, 1344.749305555556], [971.6627083333334, 1344.749305555556], [971.6627083333334, 1137.0659722222226]], [{'page_num': 19}, [257.3603820800781, 311.52679443359375], [257.3603820800781, 476.4604166666667], [941.3176879882812, 476.4604166666667], [941.3176879882812, 311.52679443359375]], [{'page_num': 25}, [228.84576416015625, 1055.1770833333333], [228.84576416015625, 1392.371826171875], [971.5794444444443, 1392.371826171875], [971.5794444444443, 1055.1770833333333]], [{'page_num': 26}, [236.5471954345703, 275.73263888888874], [236.5471954345703, 784.8826388888893], [971.7158333333336, 784.8826388888893], [971.7158333333336, 275.73263888888874]]]\", 'book_source': 'Little_Book_on_Valuation'}\n",
      "{'page_num_coordinates': \"[[{'page_num': 1}, [245.6221923828125, 340.23565673828125], [245.6221923828125, 889.635009765625], [1459.516845703125, 889.635009765625], [1459.516845703125, 340.23565673828125]], [{'page_num': 1}, [249.9425506591797, 922.69970703125], [249.9425506591797, 1065.8106689453125], [1459.220458984375, 1065.8106689453125], [1459.220458984375, 922.69970703125]]]\", 'book_source': 'Investment_Valuations_techniques'}\n"
     ]
    }
   ],
   "source": [
    "for node in nodes:\n",
    "    print(node.metadata)"
   ]
  },
  {
   "cell_type": "code",
   "execution_count": 44,
   "metadata": {},
   "outputs": [],
   "source": [
    "# ad_project_chroma_collection.query(\n",
    "#     query_texts=\"First steps in valuation\"\n",
    "# )"
   ]
  },
  {
   "cell_type": "code",
   "execution_count": 1,
   "metadata": {},
   "outputs": [
    {
     "data": {
      "text/plain": [
       "'/home/athekunal/AD-project/AD-Finance-Agent/rag'"
      ]
     },
     "execution_count": 1,
     "metadata": {},
     "output_type": "execute_result"
    }
   ],
   "source": [
    "import os\n",
    "os.getcwd()"
   ]
  },
  {
   "cell_type": "code",
   "execution_count": 11,
   "metadata": {},
   "outputs": [],
   "source": [
    "import chromadb\n",
    "from llama_index.core import VectorStoreIndex\n",
    "from llama_index.vector_stores.chroma import ChromaVectorStore\n",
    "from llama_index.core import StorageContext\n",
    "from llama_index.embeddings.openai import OpenAIEmbedding\n",
    "import chromadb"
   ]
  },
  {
   "cell_type": "code",
   "execution_count": 12,
   "metadata": {},
   "outputs": [],
   "source": [
    "from config import *"
   ]
  },
  {
   "cell_type": "code",
   "execution_count": 13,
   "metadata": {},
   "outputs": [
    {
     "name": "stdout",
     "output_type": "stream",
     "text": [
      "ad-project\n"
     ]
    }
   ],
   "source": [
    "db2 = chromadb.PersistentClient(path=\"ad_project_db\")\n",
    "embed_model = OpenAIEmbedding(model=EMBEDDING_MODEL)\n",
    "print(COLLECTION_NAME)\n",
    "chroma_collection = db2.get_or_create_collection(COLLECTION_NAME)\n",
    "vector_store = ChromaVectorStore(chroma_collection=chroma_collection)\n",
    "index_ = VectorStoreIndex.from_vector_store(\n",
    "    vector_store,\n",
    "    embed_model=embed_model,\n",
    ")"
   ]
  },
  {
   "cell_type": "code",
   "execution_count": 14,
   "metadata": {},
   "outputs": [],
   "source": [
    "retriever = index_.as_retriever(similarity_top_k=2)\n",
    "nodes = retriever.retrieve(\"First step in valuations\")"
   ]
  },
  {
   "cell_type": "code",
   "execution_count": 15,
   "metadata": {},
   "outputs": [
    {
     "data": {
      "text/plain": [
       "[NodeWithScore(node=TextNode(id_='94bbed93-9262-4095-a320-147b4406ad6d', embedding=None, metadata={'page_num_coordinates': \"[[{'page_num': 17}, [237.5, 831.5659722222222], [237.5, 1082.3159722222222], [971.8928472222221, 1082.3159722222222], [971.8928472222221, 831.5659722222222]], [{'page_num': 17}, [237.68055555555554, 1089.965972222222], [237.68055555555554, 1384.4302978515625], [971.9743055555557, 1384.4302978515625], [971.9743055555557, 1089.965972222222]], [{'page_num': 18}, [233.49282836914062, 275.73263888888874], [233.49282836914062, 440.3493055555556], [971.6874999999998, 440.3493055555556], [971.6874999999998, 275.73263888888874]], [{'page_num': 18}, [232.6602325439453, 447.9993055555556], [232.6602325439453, 827.9493055555561], [971.7158333333332, 827.9493055555561], [971.7158333333332, 447.9993055555556]], [{'page_num': 18}, [235.61825561523438, 835.5993055555562], [235.61825561523438, 1129.4159722222228], [971.7052083333333, 1129.4159722222228], [971.7052083333333, 835.5993055555562]], [{'page_num': 18}, [236.35011291503906, 1137.0659722222226], [236.35011291503906, 1344.749305555556], [971.6627083333334, 1344.749305555556], [971.6627083333334, 1137.0659722222226]], [{'page_num': 19}, [257.3603820800781, 311.52679443359375], [257.3603820800781, 476.4604166666667], [941.3176879882812, 476.4604166666667], [941.3176879882812, 311.52679443359375]], [{'page_num': 25}, [228.84576416015625, 1055.1770833333333], [228.84576416015625, 1392.371826171875], [971.5794444444443, 1392.371826171875], [971.5794444444443, 1055.1770833333333]], [{'page_num': 26}, [236.5471954345703, 275.73263888888874], [236.5471954345703, 784.8826388888893], [971.7158333333336, 784.8826388888893], [971.7158333333336, 275.73263888888874]]]\", 'book_source': 'Little_Book_on_Valuation'}, excluded_embed_metadata_keys=['page_num_coordinates', 'book_source'], excluded_llm_metadata_keys=['page_num_coordinates', 'book_source'], relationships={<NodeRelationship.SOURCE: '1'>: RelatedNodeInfo(node_id='fbe2f979-4c4e-48e9-8d36-f3ba9eb40005', node_type=<ObjectType.DOCUMENT: '4'>, metadata={'page_num_coordinates': \"[[{'page_num': 17}, [237.5, 831.5659722222222], [237.5, 1082.3159722222222], [971.8928472222221, 1082.3159722222222], [971.8928472222221, 831.5659722222222]], [{'page_num': 17}, [237.68055555555554, 1089.965972222222], [237.68055555555554, 1384.4302978515625], [971.9743055555557, 1384.4302978515625], [971.9743055555557, 1089.965972222222]], [{'page_num': 18}, [233.49282836914062, 275.73263888888874], [233.49282836914062, 440.3493055555556], [971.6874999999998, 440.3493055555556], [971.6874999999998, 275.73263888888874]], [{'page_num': 18}, [232.6602325439453, 447.9993055555556], [232.6602325439453, 827.9493055555561], [971.7158333333332, 827.9493055555561], [971.7158333333332, 447.9993055555556]], [{'page_num': 18}, [235.61825561523438, 835.5993055555562], [235.61825561523438, 1129.4159722222228], [971.7052083333333, 1129.4159722222228], [971.7052083333333, 835.5993055555562]], [{'page_num': 18}, [236.35011291503906, 1137.0659722222226], [236.35011291503906, 1344.749305555556], [971.6627083333334, 1344.749305555556], [971.6627083333334, 1137.0659722222226]], [{'page_num': 19}, [257.3603820800781, 311.52679443359375], [257.3603820800781, 476.4604166666667], [941.3176879882812, 476.4604166666667], [941.3176879882812, 311.52679443359375]], [{'page_num': 25}, [228.84576416015625, 1055.1770833333333], [228.84576416015625, 1392.371826171875], [971.5794444444443, 1392.371826171875], [971.5794444444443, 1055.1770833333333]], [{'page_num': 26}, [236.5471954345703, 275.73263888888874], [236.5471954345703, 784.8826388888893], [971.7158333333336, 784.8826388888893], [971.7158333333336, 275.73263888888874]]]\", 'book_source': 'Little_Book_on_Valuation'}, hash='775db55f8546157fd66d37ce5f8172110bd78ef0608773c5922805fd573dbcfb'), <NodeRelationship.PREVIOUS: '2'>: RelatedNodeInfo(node_id='e59b7f6d-de4a-4210-934e-3fa2c0c7ed44', node_type=<ObjectType.TEXT: '1'>, metadata={'page_num_coordinates': \"[[{'page_num': 1}, [245.6221923828125, 340.23565673828125], [245.6221923828125, 889.635009765625], [1459.516845703125, 889.635009765625], [1459.516845703125, 340.23565673828125]], [{'page_num': 1}, [249.9425506591797, 922.69970703125], [249.9425506591797, 1065.8106689453125], [1459.220458984375, 1065.8106689453125], [1459.220458984375, 922.69970703125]]]\", 'book_source': 'Investment_Valuations_techniques'}, hash='bde9d124954cbc32c2ce6263fe1decde01ebddf2c031de2bedcae02854166431'), <NodeRelationship.NEXT: '3'>: RelatedNodeInfo(node_id='977000a4-01af-4d3d-9a9e-49c784a23394', node_type=<ObjectType.TEXT: '1'>, metadata={}, hash='0fb0e2947c282d1857ba9eccacab3ce0c08eefa1cd0a5a4e442523787c28450b')}, text='DO YOU KNOW WHAT A SHARE IN GOOGLE OR APPLE is really worth? What about that condo or house you just bought? Should you care? Knowing the value of a stock, bond, or property may not be a prerequisite for successful investing, but it does help you make more informed judgments.Most investors see valuing an asset as a daunting task—something far too complex and complicated for their skill sets.\\nConsequently, they leave it to the professionals (equity research analysts, appraisers) or ignore it entirely.\\nI believe that valuation, at its core, is simple, and anyone who is willing to spend time collecting and analyzing information can do it.\\nI show you how in this book.I also hope to strip away the mystique from valuation practices and provide ways in which you can look at valua- tion judgments made by analysts and appraisers and decide for yourself whether they make sense or not.While valuation models can be filled with details, the value of any company rests on a few key drivers, which will vary from company to company.\\nIn the search for these value drivers, I will look not only across the life cycle from young growth firms such as Under Armour to mature companies like Hormel Foods, but also across diverse sectors from commodity companies such as Exxon Mobil, to financial service companies such as Wells Fargo, and pharmaceutical companies such as Amgen.Here is the bonus: If you understand the value drivers of a business, you can also start to identify value plays— stocks that are investment bargains.\\nBy the end of the book, I would like you to be able to assess the value of any company or business that you are interested in buying and use this understanding to become a more informed and successful investor.Not all of you will have the time or the inclination to value companies.\\nBut this book will give you the tools if you choose to try, and it will provide you with some short- cuts in case you do not.\\nLet’s hit the road.In a web site to accompany this book (www.wiley .com/go/littlebookofvaluation), you can look at these valuation models and change or update the numbers to see the effects.OSCAR WILDE DEFINED A CYNIC AS ONE WHO “knows the price of everything and the value of nothing.” The same can be said of many investors who regard investing as a game and define winning as staying ahead of the pack.\\nA postulate of sound investing is that an investor does not pay more for an asset than it is worth.\\nIf you accept this proposition, it follows that you have to at least try to value whatever you are buying before buying it.\\nI knowthere are those who argue that value is in the eyes of the beholder, and that any price can be justified if there are other investors who perceive an investment to be worth that amount.\\nThat is patently absurd.\\nPerceptions may be all that matter when the asset is a painting or a sculpture, but you buy financial assets for the cash flows that you expect to receive.\\nThe price of a stock cannot be justified by merely using the argument that there will be other investors around who will pay a higher price in the future.\\nThat is the equivalent of playing an expensive game of musical chairs, and the question becomes: Where will you be when the music stops?', start_char_idx=0, end_char_idx=3225, text_template='{metadata_str}\\n\\n{content}', metadata_template='{key}: {value}', metadata_seperator='\\n'), score=0.4021178601554451),\n",
       " NodeWithScore(node=TextNode(id_='e59b7f6d-de4a-4210-934e-3fa2c0c7ed44', embedding=None, metadata={'page_num_coordinates': \"[[{'page_num': 1}, [245.6221923828125, 340.23565673828125], [245.6221923828125, 889.635009765625], [1459.516845703125, 889.635009765625], [1459.516845703125, 340.23565673828125]], [{'page_num': 1}, [249.9425506591797, 922.69970703125], [249.9425506591797, 1065.8106689453125], [1459.220458984375, 1065.8106689453125], [1459.220458984375, 922.69970703125]]]\", 'book_source': 'Investment_Valuations_techniques'}, excluded_embed_metadata_keys=['page_num_coordinates', 'book_source'], excluded_llm_metadata_keys=['page_num_coordinates', 'book_source'], relationships={<NodeRelationship.SOURCE: '1'>: RelatedNodeInfo(node_id='0d28eac4-9c31-48d1-8f8a-06d890d5ecae', node_type=<ObjectType.DOCUMENT: '4'>, metadata={'page_num_coordinates': \"[[{'page_num': 1}, [245.6221923828125, 340.23565673828125], [245.6221923828125, 889.635009765625], [1459.516845703125, 889.635009765625], [1459.516845703125, 340.23565673828125]], [{'page_num': 1}, [249.9425506591797, 922.69970703125], [249.9425506591797, 1065.8106689453125], [1459.220458984375, 1065.8106689453125], [1459.220458984375, 922.69970703125]]]\", 'book_source': 'Investment_Valuations_techniques'}, hash='c11c995716f6c1f208a371f02d067ef8b0efecfca1e53dd5e331d22093583cad'), <NodeRelationship.PREVIOUS: '2'>: RelatedNodeInfo(node_id='84f448a3-b382-4832-989e-d78ba4e6dca4', node_type=<ObjectType.TEXT: '1'>, metadata={'page_num_coordinates': \"[[{'page_num': 1}, [249.59519958496094, 330.55555555555554], [249.59519958496094, 713.8888888888889], [1452.8413244444444, 713.8888888888889], [1452.8413244444444, 330.55555555555554]]]\", 'book_source': 'Investment_Philosophies'}, hash='208336a8bad69e91dbf921a3469135f18770ef1ae827d072b03c860877d1dbe8'), <NodeRelationship.NEXT: '3'>: RelatedNodeInfo(node_id='94bbed93-9262-4095-a320-147b4406ad6d', node_type=<ObjectType.TEXT: '1'>, metadata={}, hash='da74a53beb956263ae3a01835aafafc09cbe9be9c299aed2f535c45e435be0c2')}, text='Every asset, financial as well as real, has a value.\\nThe key to successfully investing in and managing these assets lies in understanding not only what the value is but also the sources of the value.\\nAny asset can be valued, but some assets are easier to value than others and the details of valuation will vary from case to case.\\nThus, the valuation of a share of a real estate property will require different information and follow a different format than the valuation of a publicly traded stock.\\nWhat is surprising, however, is not the differences in valuation techniques across assets, but the degree of similarity in basic principles.\\nThere is undeniably uncertainty associated with valuation.\\nOften that uncertainty comes from the asset being valued, though the valuation model may add to that uncertainty.This chapter lays out a philosophical basis for valuation, together with a discussion of how valuation is or can be used in a variety of frameworks, from portfolio management to corporate finance.', start_char_idx=0, end_char_idx=1009, text_template='{metadata_str}\\n\\n{content}', metadata_template='{key}: {value}', metadata_seperator='\\n'), score=0.3889500808466711)]"
      ]
     },
     "execution_count": 15,
     "metadata": {},
     "output_type": "execute_result"
    }
   ],
   "source": [
    "nodes"
   ]
  },
  {
   "cell_type": "code",
   "execution_count": null,
   "metadata": {},
   "outputs": [],
   "source": []
  },
  {
   "cell_type": "code",
   "execution_count": 19,
   "metadata": {},
   "outputs": [
    {
     "ename": "ImportError",
     "evalue": "attempted relative import with no known parent package",
     "output_type": "error",
     "traceback": [
      "\u001b[0;31m---------------------------------------------------------------------------\u001b[0m",
      "\u001b[0;31mImportError\u001b[0m                               Traceback (most recent call last)",
      "Cell \u001b[0;32mIn[19], line 1\u001b[0m\n\u001b[0;32m----> 1\u001b[0m \u001b[38;5;28;01mfrom\u001b[39;00m \u001b[38;5;21;01m.\u001b[39;00m\u001b[38;5;21;01m.\u001b[39;00m\u001b[38;5;21;01m.\u001b[39;00m\u001b[38;5;21;01mrag\u001b[39;00m\u001b[38;5;21;01m.\u001b[39;00m\u001b[38;5;21;01mfrozen_rag\u001b[39;00m \u001b[38;5;28;01mimport\u001b[39;00m main_frozen_rag_answer\n\u001b[1;32m      3\u001b[0m main_frozen_rag_answer(\u001b[38;5;124m\"\u001b[39m\u001b[38;5;124mWhat are the first steps in valuation?\u001b[39m\u001b[38;5;124m\"\u001b[39m)\n",
      "\u001b[0;31mImportError\u001b[0m: attempted relative import with no known parent package"
     ]
    }
   ],
   "source": [
    "from rag.frozen_rag import main_frozen_rag_answer\n",
    "\n",
    "main_frozen_rag_answer(\"What are the first steps in valuation?\")"
   ]
  },
  {
   "cell_type": "code",
   "execution_count": 19,
   "metadata": {},
   "outputs": [],
   "source": [
    "import ast\n",
    "\n",
    "metadata = [\"[[{'page_num': 17}, [237.5, 831.5659722222222], [237.5, 1082.3159722222222], [971.8928472222221, 1082.3159722222222], [971.8928472222221, 831.5659722222222]], [{'page_num': 17}, [237.68055555555554, 1089.965972222222], [237.68055555555554, 1384.4302978515625], [971.9743055555557, 1384.4302978515625], [971.9743055555557, 1089.965972222222]], [{'page_num': 18}, [233.49282836914062, 275.73263888888874], [233.49282836914062, 440.3493055555556], [971.6874999999998, 440.3493055555556], [971.6874999999998, 275.73263888888874]], [{'page_num': 18}, [232.6602325439453, 447.9993055555556], [232.6602325439453, 827.9493055555561], [971.7158333333332, 827.9493055555561], [971.7158333333332, 447.9993055555556]], [{'page_num': 18}, [235.61825561523438, 835.5993055555562], [235.61825561523438, 1129.4159722222228], [971.7052083333333, 1129.4159722222228], [971.7052083333333, 835.5993055555562]], [{'page_num': 18}, [236.35011291503906, 1137.0659722222226], [236.35011291503906, 1344.749305555556], [971.6627083333334, 1344.749305555556], [971.6627083333334, 1137.0659722222226]], [{'page_num': 19}, [257.3603820800781, 311.52679443359375], [257.3603820800781, 476.4604166666667], [941.3176879882812, 476.4604166666667], [941.3176879882812, 311.52679443359375]], [{'page_num': 25}, [228.84576416015625, 1055.1770833333333], [228.84576416015625, 1392.371826171875], [971.5794444444443, 1392.371826171875], [971.5794444444443, 1055.1770833333333]], [{'page_num': 26}, [236.5471954345703, 275.73263888888874], [236.5471954345703, 784.8826388888893], [971.7158333333336, 784.8826388888893], [971.7158333333336, 275.73263888888874]]]\"]\n",
    "\n",
    "for md in metadata:\n",
    "    pass"
   ]
  },
  {
   "cell_type": "code",
   "execution_count": 18,
   "metadata": {},
   "outputs": [
    {
     "ename": "NameError",
     "evalue": "name 'nodes' is not defined",
     "output_type": "error",
     "traceback": [
      "\u001b[1;31m---------------------------------------------------------------------------\u001b[0m",
      "\u001b[1;31mNameError\u001b[0m                                 Traceback (most recent call last)",
      "Cell \u001b[1;32mIn [18], line 1\u001b[0m\n\u001b[1;32m----> 1\u001b[0m \u001b[38;5;28;01mfor\u001b[39;00m node \u001b[38;5;129;01min\u001b[39;00m \u001b[43mnodes\u001b[49m:\n\u001b[0;32m      2\u001b[0m     \u001b[38;5;28mprint\u001b[39m(node\u001b[38;5;241m.\u001b[39mmetadata)\n\u001b[0;32m      3\u001b[0m     \u001b[38;5;28mprint\u001b[39m(\u001b[38;5;124m'\u001b[39m\u001b[38;5;124m-\u001b[39m\u001b[38;5;124m'\u001b[39m\u001b[38;5;241m*\u001b[39m\u001b[38;5;241m100\u001b[39m)\n",
      "\u001b[1;31mNameError\u001b[0m: name 'nodes' is not defined"
     ]
    }
   ],
   "source": [
    "\n",
    "for node in nodes:\n",
    "    print(node.metadata)\n",
    "    print('-'*100)"
   ]
  },
  {
   "cell_type": "code",
   "execution_count": 70,
   "metadata": {},
   "outputs": [
    {
     "name": "stdout",
     "output_type": "stream",
     "text": [
      "The autoreload extension is already loaded. To reload it, use:\n",
      "  %reload_ext autoreload\n"
     ]
    }
   ],
   "source": [
    "%load_ext autoreload\n",
    "%autoreload 2\n",
    "from rag.frozen_rag import get_context, get_openai_answer"
   ]
  },
  {
   "cell_type": "code",
   "execution_count": 71,
   "metadata": {},
   "outputs": [],
   "source": [
    "context,metadata = get_context(question=\"First steps in valuation\")"
   ]
  },
  {
   "cell_type": "code",
   "execution_count": 72,
   "metadata": {},
   "outputs": [
    {
     "data": {
      "text/plain": [
       "\"DO YOU KNOW WHAT A SHARE IN GOOGLE OR APPLE is really worth? What about that condo or house you just bought? Should you care? Knowing the value of a stock, bond, or property may not be a prerequisite for successful investing, but it does help you make more informed judgments.Most investors see valuing an asset as a daunting task—something far too complex and complicated for their skill sets.\\nConsequently, they leave it to the professionals (equity research analysts, appraisers) or ignore it entirely.\\nI believe that valuation, at its core, is simple, and anyone who is willing to spend time collecting and analyzing information can do it.\\nI show you how in this book.I also hope to strip away the mystique from valuation practices and provide ways in which you can look at valua- tion judgments made by analysts and appraisers and decide for yourself whether they make sense or not.While valuation models can be filled with details, the value of any company rests on a few key drivers, which will vary from company to company.\\nIn the search for these value drivers, I will look not only across the life cycle from young growth firms such as Under Armour to mature companies like Hormel Foods, but also across diverse sectors from commodity companies such as Exxon Mobil, to financial service companies such as Wells Fargo, and pharmaceutical companies such as Amgen.Here is the bonus: If you understand the value drivers of a business, you can also start to identify value plays— stocks that are investment bargains.\\nBy the end of the book, I would like you to be able to assess the value of any company or business that you are interested in buying and use this understanding to become a more informed and successful investor.Not all of you will have the time or the inclination to value companies.\\nBut this book will give you the tools if you choose to try, and it will provide you with some short- cuts in case you do not.\\nLet’s hit the road.In a web site to accompany this book (www.wiley .com/go/littlebookofvaluation), you can look at these valuation models and change or update the numbers to see the effects.OSCAR WILDE DEFINED A CYNIC AS ONE WHO “knows the price of everything and the value of nothing.” The same can be said of many investors who regard investing as a game and define winning as staying ahead of the pack.\\nA postulate of sound investing is that an investor does not pay more for an asset than it is worth.\\nIf you accept this proposition, it follows that you have to at least try to value whatever you are buying before buying it.\\nI knowthere are those who argue that value is in the eyes of the beholder, and that any price can be justified if there are other investors who perceive an investment to be worth that amount.\\nThat is patently absurd.\\nPerceptions may be all that matter when the asset is a painting or a sculpture, but you buy financial assets for the cash flows that you expect to receive.\\nThe price of a stock cannot be justified by merely using the argument that there will be other investors around who will pay a higher price in the future.\\nThat is the equivalent of playing an expensive game of musical chairs, and the question becomes: Where will you be when the music stops?\\nEvery asset, financial as well as real, has a value.\\nThe key to successfully investing in and managing these assets lies in understanding not only what the value is but also the sources of the value.\\nAny asset can be valued, but some assets are easier to value than others and the details of valuation will vary from case to case.\\nThus, the valuation of a share of a real estate property will require different information and follow a different format than the valuation of a publicly traded stock.\\nWhat is surprising, however, is not the differences in valuation techniques across assets, but the degree of similarity in basic principles.\\nThere is undeniably uncertainty associated with valuation.\\nOften that uncertainty comes from the asset being valued, though the valuation model may add to that uncertainty.This chapter lays out a philosophical basis for valuation, together with a discussion of how valuation is or can be used in a variety of frameworks, from portfolio management to corporate finance.\\nhi welcome back in my last session I talked about banking as a business drawing a Divergence or a differential between good Banks and bad Banks and at least in this simple framework that I created a bank that has access to Sticky deposits most of which are non-interest bearing that then takes that capital and invested in loans and investment Securities where it earns an interest rate higher than what it needs to make given the default risk is a good bet and to add to the goodness if it is built the buffer up against failure with more equity and more tier one Capital all the better so dividing Banks into good Banks and bad Banks is not that difficult in this session I want to focus on a different question what banks are good Investments good banks are not necessarily good Investments and bad banks are not necessarily bad Investments if you're mystified by that it all depends on the price if a good bank is priced as a great Bank paying that high price will effectively set you up for disappointment if a bad bank is priced as an abysmal Bank getting it at The Bargain Basement price might actually make it a good investment so I want to focus on valuing and pricing banks in the session I'm going to start with valuation I like valuing companies and I like challenges in value in companies I like value young companies difficult to Value companies and banks are a different breed when it comes to valuation let's see what when you think about valuing a traditional company of two choices you can value the entire business or you can value just the equity in the business start with Equity valuation it's a little more intuitive you value the equity in a business you look at the cash flows you as Equity investors get after everybody else is being paid after interest payments after debt payments cash flow equity and you discount them back at a rate of return your demand as an equity investor given the risk and the equity or cost of equity cash flows to equity discounted the cost of equity gives you the value of equity what's the alternative you can think of lenders as capital providers just like Equity investors are you can look at the collective cash flows that Equity investors and lenders get it's a pre-dead cash flow it's still after taxes and after reinvestment but before debt payments and you discard those cash flows back at a weighted average of What lenders want which is the cost of debt and and what Equity investors want which is the cost of equity which in corporate finance is the cost of capital cash flows the business pre-dead cash flows discounted back at the cost of capital gives you the value of the business Enterprise Value value of operating assets now with typical companies you have the choice with banks you lose that choice and here's why with a non-financial Service Company\\nhi welcome to valuation i know many of you come in with preconceptions about what this class is about and rather than feed into those preconceptions i'd like to talk about what this class is not about and in the process perhaps perhaps you will get a sense of what this class is about i know for many of you valuation is a set of equations and formula and models and perhaps that is what you're expecting to get as science i'm sorry to disappoint you but valuation is not a science it is a craft and the essence of a craft is you learn through trial and error there is no perfect way of doing things there's a better way of doing things put simply you don't learn valuation by talking about it or watching other people talk about it so i hope that this class will help you learn valuation as a craft by doing it you will find that as you work through this class it will get easier when you start it's going to be difficult that's the nature of a craft and as you get more comfortable you'll start to get more comfortable also deviating from a script rather than cook from a recipe you'll be able to cook on your own second i know for many of you you're expecting a class built around valuing publicly traded companies you want to value the coca-colas the airbnbs the ubers the facebooks of the world and that's okay that's pretty much what many people think about valuation but i hope to make this class much more than valuing just public companies i want to talk about valuing private companies i want to talk about buying small companies and large companies develop market companies in emerging market companies and along the way what i hope you will see in this class is the principles of valuation are universal you don't really need to relearn valuation to value a specific group of companies you just need to take the existing principles evaluation and apply them differently along the way we'll talk about how value can be different from the inside when managers look at a company i suppose from the outside as investors looking at a company not because the principles change but because managers control more of the levers they can change the way a companies run by the end of this class i hope you can value just about any kind of business small or large in whatever sector in whatever market third i want to draw a contrast between two words we use interchangeably in investing value and price let me set this on the table if i believe that markets were efficient what i'm effectively saying the value and the price are pretty much the same thing and if you believe that there's really no point taking this class i believe that the value of an asset is driven by cash flows growth and risk and we're going to talk a lot about how to\\nso much um you thinking okay folks I see some familiar faces here so how many of you are in my corporate finance class last year not as many as I thought Okay so for many of you this is going to be your first class with me I would think so see how this goes um just to get you set for how this class will be structured at the start of every class there will be a quiz don't worry it won't be graded it won't affect your overall grade you know what the quiz will be about it's about the sub step we will do during the course of the class so it sounds like it's backwards right the squids should come after the the point of the quiz is to actually raise questions about what we're going to talk about during the course of the class and let you get a chance to actually see if you can come up with the answer in which case you're saying you know what's the point of the class and I would like that to be the end game is much of what we're going to talk in the class you could have figured out by yourself having this class might provide you a structure but we're going to start every class with a quiz so since we're going to do that every class I thought we'd start this class too with a quiz you know this class it's called valuation and there's a story behind that I'll come back and talk about that but I want to get a sense of why you're taking the class what do you expect to see in the class and I'm going to structured in in the in the form of in a bunch of questions I'm going to ask you so here's the first one and we'll come back and talk more about this but you often see people talk about valuation as an art as a science accountants claim that they've made it more scientific so my first question don't you don't have to tell me the answers I said we'll come back and talk about it if I ask you to describe valuation as a discipline would you describe it as a science and I let you define what comprises a science is it an art is it black magic white magic whatever magic you want to call it or is there something else some other word you used to describe it so file that away we'll come back and address that question sometime during the course of the classroom everybody made a choice art science magic something else second when you go into evaluation class you have a preconception about what kinds of companies you're going to wear okay and I'm going to give you you know four groups of companies and I want you to think about which of these companies is going to be easiest to value and which ones you think will give you\\nI have always believed that valuation is simple and that we, its practitioners, choose to make it complex.\\nThe intrinsic value of a cash flow- generation asset is a function of how long you expect it to generate cash flows, as well as how large and predictable these cash flows are.\\nThis is the principle that we use in valuing businesses, private as well as public, and in valuing securities issued by these businesses.\\nInvestment Fables Tall Tales about Stocks Fable: A brief fictitious story embodying a moral and using persons, animals or inanimate objects as characters; A falsehood or lie (WebsterÕs Dictionary)As investors, you have all been on the receiving end of sales pitches from brokers, friends and investment advisors about stocks that they claim will deliver spectacular returns.\\nThese stories not only sound persuasive and reasonable but are also backed up by evidence - anecdotal, in some cases, and statistical, in others - that the strategies work.\\nWhen you try to implement them for your investments, though, you seldom can match their success on paper.\\nAll to often, you end up with buyer Õs remorse, poorer for the experience and promising yourselves that you will not fall for the allure of these stories again.\\nAll too often, you forget the lessons of past mistakes and are easy prey for the next big stock story.While there are literally hundreds of schemes to beat the market in circulation, they are all variants of about a dozen basic themes that have been around for as long as there have been stocks to buy and sell.\\nThese broad themes are modified, given new names and marketed as new and different investment strategies by salespeople to a new generation of investors.\\nThere must be something in these stories that appeals to investor instincts and to human weaknesses - greed, fear and hubris, to name but three- to give them the staying power that they do.\\nThis book is an exploration of the appeal of these stories, why so many fall for them and fail with them, and what it may take to win with each of them.As you will see, with each story, there is a kernel of truth that makes it believable and a base in financial theory that allows proponents to claim to have a solid rationale.\\nEach chapter will begin with an examination of the basis for each investment story and the theory that would justify its adoption.\\nWhy bother with the theory? Not only will it give you perspective on what makes each story work, but it will also allow you to identify potential weaknesses with the story.If you have been on the receiving end of one of these investment stories, you probably have also been told of studies that back them up and you are offered evidence of their potency.\\nIt should come as no surprise, given the source, that most of these studies give you only a portion of the truth.\\nAs you will see in this book, every investmentstrategy ever devised has succeeded for some periods and with some stocks, but the complete picture requires an assessment of whether it works over long periods and with a wide cross section of stocks.\\nThat is why you will see a review of the existing empirical evidence, drawn from both believers and skeptics, on each strategy and some of the potential problems with each.With every investment strategy, investors also grapple with the question of whatadopting that strategy will mean in terms of investment choices.\\nIf you adopt a strategy of buying ÒlowÓ PE stocks, you have to make a judgment of what represents a low PE ratio and what types of stocks have low PE ratios? If you believe that your best investments are in small companies you have to decide how to measure the size of companies - sales, market capitalization etc.- and what level would represent a small company.\\nYou will be presented with rules of thumb, that a PE of 8 is cheap or that a company with a market capitalization less than $ 100 million is small, but these rules of thumb can be dangerous as markets themselves change over time.\\nTo provide a frame of reference, this book will examine the distribution of various measures - PE, price to book and market capitalization, to name a few- across the entire market.\\nThis should then allow you to get a sense of differences across the market and to develop portfolio standards.The best test of any strategy is to apply it to the market and to peruse the portfolio that you would have ended up with as a result of following it.\\nThis book will attempt to do this with each of the broad strategies examined and you can ask yourself whether you would be comfortable investing in the stocks that make up this portfolio.\\nIf you are not, it is a warning sign that this strategy may not be appropriate for you.\\nIf you are a careful investor, putting this portfolio under a microscope will allow you to probe the strategy for weaknesses and examine what you can do to minimize the damage.It is worth emphasizing what this book is about and what it will not try to do.\\nIt is not about promoting or debunking investment strategies, since there are plenty of analysts and brokers who do the former and lots of cynics, many from academia, who do the latter.\\nBut it is about providing a full picture of each investment strategy, so that you can make your own judgments about what works and what does not.\\nIt is not about giving you the answers to every investment question that has ever been asked; no one can have the foresight to do this.\\nBut it is about providing you with the ammunition to ask the rightquestions when confronted with promoters of these strategies.\\nIf you are not, it is a warning sign that this strategy may not be appropriate for you.\\nIf you are a careful investor, putting this portfolio under a microscope will allow you to probe the strategy for weaknesses and examine what you can do to minimize the damage.It is worth emphasizing what this book is about and what it will not try to do.\\nIt is not about promoting or debunking investment strategies, since there are plenty of analysts and brokers who do the former and lots of cynics, many from academia, who do the latter.\\nBut it is about providing a full picture of each investment strategy, so that you can make your own judgments about what works and what does not.\\nIt is not about giving you the answers to every investment question that has ever been asked; no one can have the foresight to do this.\\nBut it is about providing you with the ammunition to ask the rightquestions when confronted with promoters of these strategies.\\nIt is not a book for pessimists who are convinced that picking stocks is an exercise in futility, but it is a book for optimists who want to figure out how to make active strategies pay off and how to use them prudently.\\nIt is not about things you cannot and should not do while investing but it is about things you can and should do as an investor to improve your odds for success.As long as there have been financial markets, there have been mountebanks and frauds luring investors into get-rich schemes that ultimately fail.\\nIn the aftermath of these failings, you are often tempted to turn to the courts and to governments to protect you from yourselves.\\nThe best antidote, though, to an unscrupulous sales pitch about Òstocks that cannot loseÓ or to a Òget rich quicklyÓ scheme is a skeptical and informed investor.\\nI hope this book helps in this endeavor.CHAPTER 1\\nLet me begin this preface with a confession of a few of my own biases.\\nFirst, I believe that theory, and the models that flow from it, should provide us with the tools to understand, analyze and solve problems.\\nThe test of a model or theory then should not be based upon its elegance but upon its usefulness in problem solving.\\nSecond, there is little in corporate financial theory, in my view, that is new and revolutionary.\\nThe core principles of corporate finance are common sense ones, and have changed little over time.\\nThat should not be surprising.\\nCorporate finance is only a few decades old and people have been running businesses for thousands of years, and it would be exceedingly presumptuous of us to believe that they were in the dark until corporate finance theorists came along and told them what to do.\\nTo be fair, it is true that corporate financial theory has made advances in taking common sense principles and providing them with structure, but these advances have been primarily on the details.\\nThe story line in corporate finance has remained remarkably consistent over time.\\nPrefaceThere is nothing so dangerous as the pursuit of a rational investment policy in an irrational world.—John Maynard Keynes\\n\""
      ]
     },
     "execution_count": 72,
     "metadata": {},
     "output_type": "execute_result"
    }
   ],
   "source": [
    "context"
   ]
  },
  {
   "cell_type": "code",
   "execution_count": 68,
   "metadata": {},
   "outputs": [],
   "source": [
    "question=\"First steps in valuation\"\n",
    "out = get_openai_answer(question,context)"
   ]
  },
  {
   "cell_type": "code",
   "execution_count": 69,
   "metadata": {},
   "outputs": [
    {
     "data": {
      "text/plain": [
       "'The first steps in valuation involve understanding the value drivers of a business and collecting and analyzing information. Valuation is not a complex task and can be done by anyone willing to spend time on it. Valuation models may have details, but the value of a company rests on a few key drivers. These drivers vary from company to company and can be found by looking across different sectors and life cycles of companies. By understanding the value drivers, one can also identify investment bargains. The goal is to assess the value of any company or business that one is interested in buying and use this understanding to become a more informed and successful investor. Valuation is important because an investor should not pay more for an asset than it is worth. The price of a stock cannot be justified by the argument that there will be other investors who will pay a higher price in the future. Every asset, financial as well as real, has a value, and the key to successful investing lies in understanding the value and sources of value. Valuation can be applied to different types of assets, but the basic principles remain the same. There is uncertainty associated with valuation, but it can be mitigated by understanding the asset being valued and using appropriate valuation models.'"
      ]
     },
     "execution_count": 69,
     "metadata": {},
     "output_type": "execute_result"
    }
   ],
   "source": [
    "out"
   ]
  },
  {
   "cell_type": "code",
   "execution_count": 1,
   "metadata": {},
   "outputs": [
    {
     "name": "stdout",
     "output_type": "stream",
     "text": [
      "Requirement already satisfied: tiktoken in c:\\users\\astar\\anaconda3\\lib\\site-packages (0.6.0)\n",
      "Requirement already satisfied: regex>=2022.1.18 in c:\\users\\astar\\anaconda3\\lib\\site-packages (from tiktoken) (2023.12.25)\n",
      "Requirement already satisfied: requests>=2.26.0 in c:\\users\\astar\\anaconda3\\lib\\site-packages (from tiktoken) (2.31.0)\n",
      "Requirement already satisfied: charset-normalizer<4,>=2 in c:\\users\\astar\\anaconda3\\lib\\site-packages (from requests>=2.26.0->tiktoken) (3.3.2)\n",
      "Requirement already satisfied: idna<4,>=2.5 in c:\\users\\astar\\anaconda3\\lib\\site-packages (from requests>=2.26.0->tiktoken) (3.6)\n",
      "Requirement already satisfied: urllib3<3,>=1.21.1 in c:\\users\\astar\\anaconda3\\lib\\site-packages (from requests>=2.26.0->tiktoken) (2.2.1)\n",
      "Requirement already satisfied: certifi>=2017.4.17 in c:\\users\\astar\\anaconda3\\lib\\site-packages (from requests>=2.26.0->tiktoken) (2024.2.2)\n"
     ]
    },
    {
     "name": "stderr",
     "output_type": "stream",
     "text": [
      "\n",
      "[notice] A new release of pip is available: 23.3.1 -> 24.0\n",
      "[notice] To update, run: python.exe -m pip install --upgrade pip\n"
     ]
    }
   ],
   "source": [
    "!pip install tiktoken"
   ]
  },
  {
   "cell_type": "code",
   "execution_count": 3,
   "metadata": {},
   "outputs": [
    {
     "name": "stderr",
     "output_type": "stream",
     "text": [
      "100%|██████████| 10/10 [00:00<00:00, 12.75it/s]\n"
     ]
    }
   ],
   "source": [
    "from database import get_book_transcripts_data\n",
    "\n",
    "doc_list = get_book_transcripts_data()"
   ]
  },
  {
   "cell_type": "code",
   "execution_count": 6,
   "metadata": {},
   "outputs": [],
   "source": [
    "text_list = [dl.text for dl in doc_list]"
   ]
  },
  {
   "cell_type": "code",
   "execution_count": 7,
   "metadata": {},
   "outputs": [
    {
     "data": {
      "text/plain": [
       "3128"
      ]
     },
     "execution_count": 7,
     "metadata": {},
     "output_type": "execute_result"
    }
   ],
   "source": [
    "len(text_list)"
   ]
  },
  {
   "cell_type": "code",
   "execution_count": 2,
   "metadata": {},
   "outputs": [
    {
     "data": {
      "text/plain": [
       "6"
      ]
     },
     "execution_count": 2,
     "metadata": {},
     "output_type": "execute_result"
    }
   ],
   "source": [
    "import tiktoken\n",
    "\n",
    "def num_tokens_from_string(string: str, encoding_name: str) -> int:\n",
    "    \"\"\"Returns the number of tokens in a text string.\"\"\"\n",
    "    encoding = tiktoken.get_encoding(encoding_name)\n",
    "    num_tokens = len(encoding.encode(string))\n",
    "    return num_tokens\n",
    "\n",
    "num_tokens_from_string(\"tiktoken is great!\", \"cl100k_base\")"
   ]
  },
  {
   "cell_type": "code",
   "execution_count": 9,
   "metadata": {},
   "outputs": [
    {
     "name": "stderr",
     "output_type": "stream",
     "text": [
      "100%|██████████| 3128/3128 [00:00<00:00, 3279.45it/s]\n"
     ]
    }
   ],
   "source": [
    "from tqdm import tqdm\n",
    "total_num_tokens = 0\n",
    "\n",
    "for tl in tqdm(text_list):\n",
    "    curr_tokens = num_tokens_from_string(tl,\"cl100k_base\")\n",
    "    total_num_tokens += curr_tokens"
   ]
  },
  {
   "cell_type": "code",
   "execution_count": 13,
   "metadata": {},
   "outputs": [
    {
     "data": {
      "text/plain": [
       "1819059"
      ]
     },
     "execution_count": 13,
     "metadata": {},
     "output_type": "execute_result"
    }
   ],
   "source": [
    "total_num_tokens"
   ]
  },
  {
   "cell_type": "code",
   "execution_count": 11,
   "metadata": {},
   "outputs": [
    {
     "data": {
      "text/plain": [
       "0.23647766999999997"
      ]
     },
     "execution_count": 11,
     "metadata": {},
     "output_type": "execute_result"
    }
   ],
   "source": [
    "(total_num_tokens/1000)*0.00013"
   ]
  },
  {
   "cell_type": "code",
   "execution_count": 12,
   "metadata": {},
   "outputs": [
    {
     "data": {
      "text/plain": [
       "0.03638118"
      ]
     },
     "execution_count": 12,
     "metadata": {},
     "output_type": "execute_result"
    }
   ],
   "source": [
    "(total_num_tokens/1000)*0.00002 "
   ]
  },
  {
   "cell_type": "code",
   "execution_count": 2,
   "metadata": {},
   "outputs": [],
   "source": [
    "# from database import create_database\n",
    "\n",
    "# create_database()"
   ]
  },
  {
   "cell_type": "markdown",
   "metadata": {},
   "source": [
    "## MODIFIED HYDE"
   ]
  },
  {
   "cell_type": "code",
   "execution_count": 4,
   "metadata": {},
   "outputs": [
    {
     "data": {
      "application/vnd.jupyter.widget-view+json": {
       "model_id": "3c1922f63aae47caa3f6d3c1800aeca5",
       "version_major": 2,
       "version_minor": 0
      },
      "text/plain": [
       "tokenizer_config.json:   0%|          | 0.00/26.0 [00:00<?, ?B/s]"
      ]
     },
     "metadata": {},
     "output_type": "display_data"
    },
    {
     "name": "stderr",
     "output_type": "stream",
     "text": [
      "c:\\Users\\astar\\anaconda3\\lib\\site-packages\\huggingface_hub\\file_download.py:147: UserWarning: `huggingface_hub` cache-system uses symlinks by default to efficiently store duplicated files but your machine does not support them in C:\\Users\\astar\\.cache\\huggingface\\hub. Caching files will still work but in a degraded version that might require more space on your disk. This warning can be disabled by setting the `HF_HUB_DISABLE_SYMLINKS_WARNING` environment variable. For more details, see https://huggingface.co/docs/huggingface_hub/how-to-cache#limitations.\n",
      "To support symlinks on Windows, you either need to activate Developer Mode or to run Python as an administrator. In order to see activate developer mode, see this article: https://docs.microsoft.com/en-us/windows/apps/get-started/enable-your-device-for-development\n",
      "  warnings.warn(message)\n"
     ]
    },
    {
     "data": {
      "application/vnd.jupyter.widget-view+json": {
       "model_id": "28f3596f6436406baba5db8e696084ce",
       "version_major": 2,
       "version_minor": 0
      },
      "text/plain": [
       "config.json:   0%|          | 0.00/762 [00:00<?, ?B/s]"
      ]
     },
     "metadata": {},
     "output_type": "display_data"
    },
    {
     "data": {
      "application/vnd.jupyter.widget-view+json": {
       "model_id": "d3923d9470304c1c94b9a27fc4b1dfef",
       "version_major": 2,
       "version_minor": 0
      },
      "text/plain": [
       "vocab.json:   0%|          | 0.00/1.04M [00:00<?, ?B/s]"
      ]
     },
     "metadata": {},
     "output_type": "display_data"
    },
    {
     "data": {
      "application/vnd.jupyter.widget-view+json": {
       "model_id": "f00815430f1e452c82489c7a12914aab",
       "version_major": 2,
       "version_minor": 0
      },
      "text/plain": [
       "merges.txt:   0%|          | 0.00/456k [00:00<?, ?B/s]"
      ]
     },
     "metadata": {},
     "output_type": "display_data"
    },
    {
     "data": {
      "application/vnd.jupyter.widget-view+json": {
       "model_id": "60845306236d44a09a132fd32c7c1436",
       "version_major": 2,
       "version_minor": 0
      },
      "text/plain": [
       "tokenizer.json:   0%|          | 0.00/1.36M [00:00<?, ?B/s]"
      ]
     },
     "metadata": {},
     "output_type": "display_data"
    },
    {
     "data": {
      "application/vnd.jupyter.widget-view+json": {
       "model_id": "d67b5a2220d942f6b4e2b42d587dba09",
       "version_major": 2,
       "version_minor": 0
      },
      "text/plain": [
       "config.json:   0%|          | 0.00/1.01k [00:00<?, ?B/s]"
      ]
     },
     "metadata": {},
     "output_type": "display_data"
    },
    {
     "data": {
      "application/vnd.jupyter.widget-view+json": {
       "model_id": "9517ddffff85462a813c9fa5e623e4a7",
       "version_major": 2,
       "version_minor": 0
      },
      "text/plain": [
       "model.safetensors:   0%|          | 0.00/328M [00:00<?, ?B/s]"
      ]
     },
     "metadata": {},
     "output_type": "display_data"
    }
   ],
   "source": [
    "from transformers import AutoTokenizer, AutoModelForCausalLM\n",
    "\n",
    "tokenizer = AutoTokenizer.from_pretrained(\"distilbert/distilgpt2\")\n",
    "model = AutoModelForCausalLM.from_pretrained(\"arsrira/ad-distilgpt2\")"
   ]
  },
  {
   "cell_type": "code",
   "execution_count": 5,
   "metadata": {},
   "outputs": [
    {
     "data": {
      "application/vnd.jupyter.widget-view+json": {
       "model_id": "ca2bc51b7d174233bc0de13db6b558c5",
       "version_major": 2,
       "version_minor": 0
      },
      "text/plain": [
       "tokenizer_config.json:   0%|          | 0.00/476 [00:00<?, ?B/s]"
      ]
     },
     "metadata": {},
     "output_type": "display_data"
    },
    {
     "data": {
      "application/vnd.jupyter.widget-view+json": {
       "model_id": "4a9a471ddc924e398c9fb6ac270cc36f",
       "version_major": 2,
       "version_minor": 0
      },
      "text/plain": [
       "vocab.json:   0%|          | 0.00/798k [00:00<?, ?B/s]"
      ]
     },
     "metadata": {},
     "output_type": "display_data"
    },
    {
     "data": {
      "application/vnd.jupyter.widget-view+json": {
       "model_id": "d80699f6cd374058b71b2a4e02e76101",
       "version_major": 2,
       "version_minor": 0
      },
      "text/plain": [
       "merges.txt:   0%|          | 0.00/456k [00:00<?, ?B/s]"
      ]
     },
     "metadata": {},
     "output_type": "display_data"
    },
    {
     "data": {
      "application/vnd.jupyter.widget-view+json": {
       "model_id": "5b330030b4f94d5291b9754a4866a3be",
       "version_major": 2,
       "version_minor": 0
      },
      "text/plain": [
       "tokenizer.json:   0%|          | 0.00/2.11M [00:00<?, ?B/s]"
      ]
     },
     "metadata": {},
     "output_type": "display_data"
    },
    {
     "data": {
      "application/vnd.jupyter.widget-view+json": {
       "model_id": "65c00dac7aa647358a1a19c085a2806c",
       "version_major": 2,
       "version_minor": 0
      },
      "text/plain": [
       "special_tokens_map.json:   0%|          | 0.00/131 [00:00<?, ?B/s]"
      ]
     },
     "metadata": {},
     "output_type": "display_data"
    }
   ],
   "source": [
    "# Use a pipeline as a high-level helper\n",
    "from transformers import pipeline\n",
    "\n",
    "pipe = pipeline(\"text-generation\", model=\"arsrira/ad-distilgpt2\")"
   ]
  },
  {
   "cell_type": "code",
   "execution_count": 22,
   "metadata": {},
   "outputs": [],
   "source": [
    "def generate_answer(question):\n",
    "    out = pipe(question,max_new_tokens=100,do_sample=True,min_new_tokens=10)\n",
    "    return out[0]['generated_text']"
   ]
  },
  {
   "cell_type": "code",
   "execution_count": 23,
   "metadata": {},
   "outputs": [
    {
     "name": "stderr",
     "output_type": "stream",
     "text": [
      "Setting `pad_token_id` to `eos_token_id`:50256 for open-end generation.\n"
     ]
    },
    {
     "name": "stdout",
     "output_type": "stream",
     "text": [
      "First steps in valuation are as follows:Step 1: Estimate the present value of cash flows and discount rates to arrive at the cash flows.Step 2: If all cash flows are viewed the same in terms of stable growth, estimate the required return on investments to discount the required return on equity.Step 3: Estimate the expected growth rate for each cash flow at each step of the process and the appropriate risk premium in the model.Assign a risk premium to each cash flow.Step 4: Adjust for risk\n"
     ]
    }
   ],
   "source": [
    "# out = pipe(\"First steps in valuation\")\n",
    "# print(out[0]['generated_text'])\n",
    "\n",
    "print(generate_answer(\"First steps in valuation\"))"
   ]
  },
  {
   "cell_type": "code",
   "execution_count": 15,
   "metadata": {},
   "outputs": [
    {
     "name": "stderr",
     "output_type": "stream",
     "text": [
      "Setting `pad_token_id` to `eos_token_id`:50256 for open-end generation.\n"
     ]
    },
    {
     "data": {
      "text/plain": [
       "'What is the second step in valuation? A firm that is truly on the verge of declining rapidly should have a much better chance of regressing earnings and cash flows at the company level.If the current financial statements reflect the time horizon of the decline,'"
      ]
     },
     "execution_count": 15,
     "metadata": {},
     "output_type": "execute_result"
    }
   ],
   "source": [
    "generate_answer(\"What is the second step in valuation?\")"
   ]
  },
  {
   "cell_type": "code",
   "execution_count": 16,
   "metadata": {},
   "outputs": [
    {
     "name": "stderr",
     "output_type": "stream",
     "text": [
      "Setting `pad_token_id` to `eos_token_id`:50256 for open-end generation.\n"
     ]
    },
    {
     "data": {
      "text/plain": [
       "'What is the second step in valuation that matters? One is to assess the value that will be generated by the investment.For example, the value of a Home Depot computer has to be estimated directly by looking at the average annual cash flows (EBIT'"
      ]
     },
     "execution_count": 16,
     "metadata": {},
     "output_type": "execute_result"
    }
   ],
   "source": [
    "generate_answer(\"What is the second step in valuation\")"
   ]
  },
  {
   "cell_type": "code",
   "execution_count": 17,
   "metadata": {},
   "outputs": [
    {
     "name": "stderr",
     "output_type": "stream",
     "text": [
      "Setting `pad_token_id` to `eos_token_id`:50256 for open-end generation.\n"
     ]
    },
    {
     "data": {
      "text/plain": [
       "'second step in valuation is to value the equity in each holding and compute a total beta.Value each of the shares with $10 that comes with $10 expected in unlevered beta.Each of the shares with $10 expected growth potential can therefore be'"
      ]
     },
     "execution_count": 17,
     "metadata": {},
     "output_type": "execute_result"
    }
   ],
   "source": [
    "generate_answer(\"second step in valuation\")"
   ]
  },
  {
   "cell_type": "markdown",
   "metadata": {},
   "source": [
    "## RAG PIPELINE"
   ]
  },
  {
   "cell_type": "code",
   "execution_count": null,
   "metadata": {},
   "outputs": [],
   "source": [
    "from llama_index.core import VectorStoreIndex\n",
    "from llama_index.vector_stores.chroma import ChromaVectorStore\n",
    "from llama_index.core import StorageContext\n",
    "from llama_index.embeddings.openai import OpenAIEmbedding\n",
    "import chromadb\n",
    "FROM CINFIG"
   ]
  }
 ],
 "metadata": {
  "kernelspec": {
   "display_name": "tf-gpu",
   "language": "python",
   "name": "python3"
  },
  "language_info": {
   "codemirror_mode": {
    "name": "ipython",
    "version": 3
   },
   "file_extension": ".py",
   "mimetype": "text/x-python",
   "name": "python",
   "nbconvert_exporter": "python",
   "pygments_lexer": "ipython3",
   "version": "3.0.0"
  }
 },
 "nbformat": 4,
 "nbformat_minor": 2
}
