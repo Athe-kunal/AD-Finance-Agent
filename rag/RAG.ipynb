{
 "cells": [
  {
   "cell_type": "code",
   "execution_count": 1,
   "metadata": {},
   "outputs": [
    {
     "name": "stdout",
     "output_type": "stream",
     "text": [
      "q:\\AD project\\rag\n"
     ]
    }
   ],
   "source": [
    "import os\n",
    "\n",
    "print(os.getcwd())"
   ]
  },
  {
   "cell_type": "code",
   "execution_count": 2,
   "metadata": {},
   "outputs": [],
   "source": [
    "os.chdir(\"..\")"
   ]
  },
  {
   "cell_type": "code",
   "execution_count": 3,
   "metadata": {},
   "outputs": [
    {
     "name": "stdout",
     "output_type": "stream",
     "text": [
      "q:\\AD project\n"
     ]
    }
   ],
   "source": [
    "print(os.getcwd())"
   ]
  },
  {
   "cell_type": "code",
   "execution_count": 4,
   "metadata": {},
   "outputs": [],
   "source": [
    "from src.book_preprocess import get_book_data"
   ]
  },
  {
   "cell_type": "code",
   "execution_count": 21,
   "metadata": {},
   "outputs": [
    {
     "name": "stderr",
     "output_type": "stream",
     "text": [
      "100%|██████████| 10/10 [00:00<00:00, 12.53it/s]\n"
     ]
    }
   ],
   "source": [
    "book_doc_data = get_book_data(100)"
   ]
  },
  {
   "cell_type": "code",
   "execution_count": 23,
   "metadata": {},
   "outputs": [
    {
     "data": {
      "text/plain": [
       "105"
      ]
     },
     "execution_count": 23,
     "metadata": {},
     "output_type": "execute_result"
    }
   ],
   "source": [
    "len(book_doc_data[12]['text'].split(\" \"))"
   ]
  },
  {
   "cell_type": "code",
   "execution_count": 24,
   "metadata": {},
   "outputs": [
    {
     "data": {
      "text/plain": [
       "'Having established the hurdle rate, we turn our attention to measuring the returns on an investment.\\nIn chapter 5, we evaluate three alternative ways of measuring returns - conventional accounting earnings, cash flows and time-weighted cash flows (where we consider both how large the cash flows are and when they are anticipated to come in).\\nIn chapter 6, we consider some of the potential side-costs which might not be captured in any of these measures, including costs that may be created for existing investments by taking a new investment, and side-benefits, such as options to enter new markets and to expand product lines that may be embedded in new investments, and synergies, especially when the new investment is the acquisition of another firm.\\n\\n'"
      ]
     },
     "execution_count": 24,
     "metadata": {},
     "output_type": "execute_result"
    }
   ],
   "source": [
    "book_doc_data[13]['text']"
   ]
  },
  {
   "cell_type": "code",
   "execution_count": 25,
   "metadata": {},
   "outputs": [
    {
     "data": {
      "text/plain": [
       "'Every business, no matter how large and complex it is, is ultimately funded with a mix of borrowed money (debt) and owner’s funds (equity).\\nWith a publicly trade firm, debt may take the form of bonds and equity is usually common stock.\\nIn a private business, debt is more likely to be bank loans and an owner’s savings represent equity.\\nWhile we consider the existing mix of debt and equity and its implications for the minimum acceptable hurdle rate as part of the investment principle, we throw open the question of whether the existing mix is the right one in the financing principle section.\\nWhile there might be regulatory and other real world constraints on the financing mix that a business can use, there is ample room for flexibility within these constraints.\\nWe begin this section in chapter 7, by looking at the range of choices that exist for both private businesses and publicly traded firms between debt and equity.\\nWe then turn to the\\n\\n'"
      ]
     },
     "execution_count": 25,
     "metadata": {},
     "output_type": "execute_result"
    }
   ],
   "source": [
    "book_doc_data[14]['text']"
   ]
  },
  {
   "cell_type": "code",
   "execution_count": 26,
   "metadata": {},
   "outputs": [
    {
     "data": {
      "text/plain": [
       "'question of whether the existing mix of financing used by a business is the “optimal” one, given our objective function of maximizing firm value, in chapter 8.\\nWhile the tradeoff between the benefits and costs of borrowing are established in qualitative terms first, we also look at two quantitative approaches to arriving at the optimal mix in chapter 8.\\nIn the first approach, we examine the specific conditions under which the optimal financing mix is the one that minimizes the minimum acceptable hurdle rate.\\nIn the second approach, we look at the effects on firm value of changing the financing mix.\\n\\n'"
      ]
     },
     "execution_count": 26,
     "metadata": {},
     "output_type": "execute_result"
    }
   ],
   "source": [
    "book_doc_data[15]['text']"
   ]
  },
  {
   "cell_type": "code",
   "execution_count": 27,
   "metadata": {},
   "outputs": [
    {
     "data": {
      "text/plain": [
       "{'text': 'Risk management as a discipline, has evolved unevenly across different functional areas.\\nIn finance, the preoccupation has been with the effect of risk on discount rates and little attention has been paid to the potential upside of risk until recently; real options represent the first real attempt to bring in the potential profits of being exposed to risk.\\nIn strategy, risk management has been a side story to the main focus on competitive advantages and barriers to entry.\\nIn practice, risk management at most organizations is splintered, with little communication between those who assess risk and those who make decisions based upon those risk assessments.This book is an attempt to bridge the chasm not only between different functional areas = finance, strategy and operations – but also between different parts of organizations where the responsibility for risk management lie today.\\nIn the process, it makes the argument that good risk management lies at the heart of successful businesses everywhere.\\n\\n',\n",
       " 'page_num_coordinates': [[{'page_num': 407},\n",
       "   [249.8454132080078, 1014.3331677083333],\n",
       "   [249.8454132080078, 1452.3331663194444],\n",
       "   [1458.3333187638889, 1452.3331663194444],\n",
       "   [1458.3333187638889, 1014.3331677083333]],\n",
       "  [{'page_num': 407},\n",
       "   [248.4392547607422, 1476.3331954861112],\n",
       "   [248.4392547607422, 1740.9998607638888],\n",
       "   [1458.3333556249997, 1740.9998607638888],\n",
       "   [1458.3333556249997, 1476.3331954861112]]],\n",
       " 'book_source': 'Strategic_Risk'}"
      ]
     },
     "execution_count": 27,
     "metadata": {},
     "output_type": "execute_result"
    }
   ],
   "source": [
    "book_doc_data[-1]"
   ]
  },
  {
   "cell_type": "code",
   "execution_count": 28,
   "metadata": {},
   "outputs": [
    {
     "data": {
      "text/plain": [
       "3881"
      ]
     },
     "execution_count": 28,
     "metadata": {},
     "output_type": "execute_result"
    }
   ],
   "source": [
    "len(book_doc_data)"
   ]
  },
  {
   "cell_type": "code",
   "execution_count": 18,
   "metadata": {},
   "outputs": [],
   "source": [
    "from langchain.text_splitter import RecursiveCharacterTextSplitter\n",
    "from langchain.schema import Document\n",
    "\n",
    "book_langchain_doc = []\n",
    "curr_page = 0\n",
    "curr_book = \"\"\n",
    "\n",
    "for bd in book_doc_data:\n",
    "    page_num = bd['page_num_coordinates'][0][0]['page_num']\n",
    "    \n",
    "    if curr_book!= bd['book_source']:\n",
    "        curr_book = bd['book_source']\n",
    "        curr_page = 0\n",
    "    \n",
    "    if page_num!= curr_page:\n",
    "        curr_page = page_num\n",
    "        book_langchain_doc.append(\n",
    "            Document(\n",
    "                page_content=bd['text'],\n",
    "                metadata={\n",
    "                    'page_coordinates': bd['coordinates'],\n",
    "                }\n",
    "            )\n",
    "        )\n",
    "    elif page_num == curr_page:"
   ]
  },
  {
   "cell_type": "code",
   "execution_count": 19,
   "metadata": {},
   "outputs": [
    {
     "data": {
      "text/plain": [
       "2"
      ]
     },
     "execution_count": 19,
     "metadata": {},
     "output_type": "execute_result"
    }
   ],
   "source": [
    "page_num"
   ]
  },
  {
   "cell_type": "code",
   "execution_count": 20,
   "metadata": {},
   "outputs": [
    {
     "data": {
      "text/plain": [
       "{'text': 'Let me begin this preface with a confession of a few of my own biases.\\nFirst, I believe that theory, and the models that flow from it, should provide us with the tools to understand, analyze and solve problems.\\nThe test of a model or theory then should not be based upon its elegance but upon its usefulness in problem solving.\\nSecond, there is little in corporate financial theory, in my view, that is new and revolutionary.\\nThe core principles of corporate finance are common sense ones, and have changed little over time.\\nThat should not be surprising.\\nCorporate finance is only a few decades old and people have been running businesses for thousands of years, and it would be exceedingly presumptuous of us to believe that they were in the dark until corporate finance theorists came along and told them what to do.\\nTo be fair, it is true that corporate financial theory has made advances in taking common sense principles and providing them with structure, but these advances have been primarily on the details.\\nThe story line in corporate finance has remained remarkably consistent over time.\\n\\n',\n",
       " 'page_num_coordinates': [[{'page_num': 2},\n",
       "   [248.09210205078125, 282.16666666666674],\n",
       "   [248.09210205078125, 1008.8333333333334],\n",
       "   [1459.0, 1008.8333333333334],\n",
       "   [1459.0, 282.16666666666674]]],\n",
       " 'book_source': 'Applied_corporate_finance'}"
      ]
     },
     "execution_count": 20,
     "metadata": {},
     "output_type": "execute_result"
    }
   ],
   "source": [
    "bd"
   ]
  },
  {
   "cell_type": "code",
   "execution_count": null,
   "metadata": {},
   "outputs": [],
   "source": []
  }
 ],
 "metadata": {
  "kernelspec": {
   "display_name": "tf-gpu",
   "language": "python",
   "name": "python3"
  },
  "language_info": {
   "codemirror_mode": {
    "name": "ipython",
    "version": 3
   },
   "file_extension": ".py",
   "mimetype": "text/x-python",
   "name": "python",
   "nbconvert_exporter": "python",
   "pygments_lexer": "ipython3",
   "version": "3.9.18"
  }
 },
 "nbformat": 4,
 "nbformat_minor": 2
}
