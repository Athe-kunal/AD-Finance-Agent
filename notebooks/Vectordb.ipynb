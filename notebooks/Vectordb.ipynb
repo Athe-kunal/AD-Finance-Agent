{
 "cells": [
  {
   "cell_type": "markdown",
   "metadata": {},
   "source": [
    "## BOOKS DATA"
   ]
  },
  {
   "cell_type": "code",
   "execution_count": 1,
   "metadata": {},
   "outputs": [],
   "source": [
    "import os\n",
    "\n",
    "os.chdir('..')"
   ]
  },
  {
   "cell_type": "code",
   "execution_count": 2,
   "metadata": {},
   "outputs": [
    {
     "data": {
      "text/plain": [
       "'q:\\\\AD project'"
      ]
     },
     "execution_count": 2,
     "metadata": {},
     "output_type": "execute_result"
    }
   ],
   "source": [
    "os.getcwd()"
   ]
  },
  {
   "cell_type": "markdown",
   "metadata": {},
   "source": [
    "## START AND LAST PAGE\n",
    "\n",
    "Contains the word Figure and less than 3 words, ignore\n",
    "\n",
    "Satisfies and less than 50 words, then add to previous one\n",
    "\n",
    "1. Strategic risk: None\n",
    "2. Narrative and Numbers: -266\n",
    "3. Little Book on Valuation: 17-\n",
    "4. Investment Valuations techniques: None (Extract the first page data)\n",
    "5. Investment Philosophies: -486\n",
    "6. Investment Fables: None\n",
    "7. Dark Side of Valuation: -794\n",
    "8. Damodaran on Valuation: -1237\n",
    "9. Corporate Finance Theory Practice: \n",
    "10. Applied corporate finance:  None"
   ]
  },
  {
   "cell_type": "code",
   "execution_count": 18,
   "metadata": {},
   "outputs": [
    {
     "data": {
      "text/plain": [
       "False"
      ]
     },
     "execution_count": 18,
     "metadata": {},
     "output_type": "execute_result"
    }
   ],
   "source": [
    "x = \"hello there\"\n",
    "l = x.split(\" \")\n",
    "l[0].istitle()"
   ]
  },
  {
   "cell_type": "code",
   "execution_count": 134,
   "metadata": {},
   "outputs": [
    {
     "name": "stderr",
     "output_type": "stream",
     "text": [
      "100%|██████████| 10/10 [00:00<00:00, 15.94it/s]\n"
     ]
    }
   ],
   "source": [
    "import os\n",
    "import json\n",
    "from tqdm import tqdm\n",
    "import re\n",
    "\n",
    "books_folder = r\"artifacts\\book_hi_res\"\n",
    "\n",
    "def median(lst):\n",
    "    lst.sort()\n",
    "    return lst[len(lst)//2]\n",
    "\n",
    "document_data = []\n",
    "idxs = []\n",
    "doc_update = 0\n",
    "for book_name in tqdm(os.listdir(books_folder)):\n",
    "    # print(book_name)\n",
    "    curr_json_path = os.path.join(books_folder, book_name)\n",
    "    if book_name.startswith(\"Corporate_Finance\"): continue\n",
    "    if book_name.startswith(\"Narrative\"):\n",
    "        start_page = 1\n",
    "        end_page = 266\n",
    "    elif book_name.startswith(\"Little\"):\n",
    "        start_page = 17\n",
    "        end_page = None\n",
    "    elif book_name.startswith(\"Investment_Philosophies\"):\n",
    "        start_page = 1\n",
    "        end_page = 486\n",
    "    elif book_name.startswith(\"Dark\"):\n",
    "        start_page = 1\n",
    "        end_page = 794\n",
    "    elif book_name.startswith(\"Damodaran\"):\n",
    "        start_page = 1\n",
    "        end_page = 1237\n",
    "    else:\n",
    "        start_page = 1\n",
    "        end_page = None\n",
    "    \n",
    "    #Load the data\n",
    "    with open(curr_json_path, \"r\") as f:\n",
    "        json_data = json.load(f)\n",
    "    x_start = []\n",
    "    for jd in json_data:\n",
    "        x_start.append(jd['coordinates'][0][0])\n",
    "    x_min = min(x_start)\n",
    "    x_median = median(x_start)\n",
    "\n",
    "    '''\n",
    "    If in the same page, then if the x_coord is less than x_median and greater than x_min, then it is the start of a paragraph\n",
    "    '''\n",
    "    metadata_book_name = book_name.split(\".\")[0]\n",
    "    curr_page = 1\n",
    "    page_change_para_start = False\n",
    "    same_page_para_start = False\n",
    "    \n",
    "    for idx,jd in enumerate(json_data):\n",
    "        text_split_list = jd['text'].split(\" \")\n",
    "        num_words = len(text_split_list)\n",
    "        x_coord = jd['coordinates'][0][0]\n",
    "        page_num = jd['page_num']\n",
    "        txt = jd['text']\n",
    "        txt = re.sub(\"\\. \",\".\\n\",txt)\n",
    "        if start_page == 1 and end_page == None:\n",
    "            pass\n",
    "        elif start_page>page_num:continue\n",
    "        elif end_page is not None and end_page<page_num:continue\n",
    "\n",
    "        # if x_median-10<=x_coord <= x_median+10 and text_split_list[0].istitle() and num_words>100:\n",
    "        if x_median-10<=x_coord <= x_median+10 and text_split_list[0].istitle() and num_words>100:\n",
    "            # if num_words>600:\n",
    "            # if text_split_list[0].istitle() and num_words>500:\n",
    "            document_data.append(\n",
    "                {\n",
    "                    \"text\": txt+\"\\n\\n\",\n",
    "                }\n",
    "            )\n",
    "            page_coordinates = jd['coordinates'].copy()\n",
    "            page_coordinates.insert(0,{\"page_num\":page_num})\n",
    "            document_data[-1][\"page_num_coordinates\"] = [page_coordinates]\n",
    "            document_data[-1]['book_source'] = metadata_book_name\n",
    "            doc_update+=1\n",
    "            # elif text_split_list[0].istitle() and num_words<=500:\n",
    "            #     prev_idx = document_data[-1]\n",
    "            #     # prev_idx['text'] = prev_idx['text'] + \"\\n\\n\"\n",
    "            #     if prev_idx['text'].endswith(\"\\n\\n\"): pass\n",
    "            #     else: prev_idx['text'] = prev_idx['text'] + \"\\n\\n\"\n",
    "            #     prev_idx['text'] = prev_idx['text'] + txt + \"\\n\\n\"\n",
    "            #     page_coordinates = jd['coordinates'].copy()\n",
    "            #     page_coordinates.insert(0,{\"page_num\":page_num})\n",
    "            #     prev_idx[\"page_num_coordinates\"].append(page_coordinates)\n",
    "            #     doc_update+=1\n",
    "            # else:\n",
    "            #     prev_idx = document_data[-1]\n",
    "            #     # prev_idx['text'] = prev_idx['text'] + \"\\n\\n\"\n",
    "            #     prev_idx['text'] = prev_idx['text'][:-2] + txt + \"\\n\\n\"\n",
    "            #     page_coordinates = jd['coordinates'].copy()\n",
    "            #     page_coordinates.insert(0,{\"page_num\":page_num})\n",
    "            #     prev_idx[\"page_num_coordinates\"].append(page_coordinates)\n",
    "            #     doc_update+=1\n",
    "        else:\n",
    "            prev_idx = document_data[-1]\n",
    "            prev_idx['text'] = prev_idx['text'][:-2] + txt + \"\\n\\n\"\n",
    "            page_coordinates = jd['coordinates'].copy()\n",
    "            page_coordinates.insert(0,{\"page_num\":page_num})\n",
    "            prev_idx[\"page_num_coordinates\"].append(page_coordinates)\n",
    "            doc_update+=1\n",
    "    idxs.append(idx)\n",
    "    # break"
   ]
  },
  {
   "cell_type": "code",
   "execution_count": 135,
   "metadata": {},
   "outputs": [
    {
     "data": {
      "text/plain": [
       "31405"
      ]
     },
     "execution_count": 135,
     "metadata": {},
     "output_type": "execute_result"
    }
   ],
   "source": [
    "sum(idxs)"
   ]
  },
  {
   "cell_type": "code",
   "execution_count": 136,
   "metadata": {},
   "outputs": [
    {
     "data": {
      "text/plain": [
       "28891"
      ]
     },
     "execution_count": 136,
     "metadata": {},
     "output_type": "execute_result"
    }
   ],
   "source": [
    "doc_update"
   ]
  },
  {
   "cell_type": "code",
   "execution_count": 137,
   "metadata": {},
   "outputs": [
    {
     "data": {
      "text/plain": [
       "{'text': 'For decades, risk management was viewed as a finance function, with the CFO playing the role of risk measurer, assessor and punisher (for those who crossed defined risk limits).\\nIn keeping with this definition, risk management become focused entirely on risk assessment and risk hedging.\\nThe elevation of strategic risk management or enterprise risk management in businesses, with its willingness to consider the upside of risk, has come with one unfortunate side cost.\\nMany firms have a person or group in charge of risk management, given primary responsibility for coordinating and managing risk through the organization.\\nWhile we applaud the recognition given to risk management, it has also led others in the firm, especially in the other functional areas, to think that the existence of a risk management group has relieved them of the responsibility of having to play a role in managing risk.\\n\\n',\n",
       " 'page_num_coordinates': [[{'page_num': 405},\n",
       "   [245.16940307617188, 260.33325104166664],\n",
       "   [245.16940307617188, 870.9998329861111],\n",
       "   [1458.3333297638887, 870.9998329861111],\n",
       "   [1458.3333297638887, 260.33325104166664]]],\n",
       " 'book_source': 'Strategic_Risk'}"
      ]
     },
     "execution_count": 137,
     "metadata": {},
     "output_type": "execute_result"
    }
   ],
   "source": [
    "# len(document_data)\n",
    "document_data[-3]"
   ]
  },
  {
   "cell_type": "code",
   "execution_count": 138,
   "metadata": {},
   "outputs": [],
   "source": [
    "def get_len(txt):\n",
    "    return len(txt.split(\" \"))\n",
    "text_len = [get_len(txt['text']) for txt in document_data]"
   ]
  },
  {
   "cell_type": "code",
   "execution_count": 139,
   "metadata": {},
   "outputs": [
    {
     "data": {
      "image/png": "[encoded data removed]",
      "text/plain": [
       "<Figure size 640x480 with 1 Axes>"
      ]
     },
     "metadata": {},
     "output_type": "display_data"
    }
   ],
   "source": [
    "import matplotlib.pyplot as plt\n",
    "\n",
    "plt.hist(text_len,density=True,bins=100);"
   ]
  },
  {
   "cell_type": "code",
   "execution_count": 140,
   "metadata": {},
   "outputs": [
    {
     "data": {
      "text/plain": [
       "1407494"
      ]
     },
     "execution_count": 140,
     "metadata": {},
     "output_type": "execute_result"
    }
   ],
   "source": [
    "sum(text_len)"
   ]
  },
  {
   "cell_type": "code",
   "execution_count": 141,
   "metadata": {},
   "outputs": [
    {
     "data": {
      "text/plain": [
       "96"
      ]
     },
     "execution_count": 141,
     "metadata": {},
     "output_type": "execute_result"
    }
   ],
   "source": [
    "min(text_len)"
   ]
  },
  {
   "cell_type": "code",
   "execution_count": 142,
   "metadata": {},
   "outputs": [
    {
     "data": {
      "text/plain": [
       "4998"
      ]
     },
     "execution_count": 142,
     "metadata": {},
     "output_type": "execute_result"
    }
   ],
   "source": [
    "max(text_len)"
   ]
  },
  {
   "cell_type": "code",
   "execution_count": 143,
   "metadata": {},
   "outputs": [],
   "source": [
    "p = \"\"\n",
    "for idx,doc_data in enumerate(document_data):\n",
    "    if len(doc_data['text'].split(\" \"))==4998:\n",
    "        # print(doc_data['text'],doc_data['book_source'])\n",
    "        # print(document_data[idx-1])\n",
    "        # print(len(document_data[idx-1]['text'].split(\" \")))\n",
    "        # print(len(document_data[idx-2]['text'].split(\" \")))\n",
    "        # break\n",
    "        p = doc_data['text']\n",
    "        # p+=1"
   ]
  },
  {
   "cell_type": "code",
   "execution_count": 144,
   "metadata": {},
   "outputs": [
    {
     "name": "stdout",
     "output_type": "stream",
     "text": [
      "Total occurrences are:  1\n"
     ]
    }
   ],
   "source": [
    "   \n",
    "# main_string = \"Hello, hello, Hello, HELLO! , hello\"\n",
    "sub_string = \"\\n\\n\"\n",
    "count_er=0\n",
    "start_index=0\n",
    "for i in range(len(p)):\n",
    "  j = p.find(sub_string,start_index)\n",
    "  if(j!=-1):\n",
    "    start_index = j+1\n",
    "    count_er+=1\n",
    "print(\"Total occurrences are: \", count_er)"
   ]
  },
  {
   "cell_type": "code",
   "execution_count": 121,
   "metadata": {},
   "outputs": [],
   "source": [
    "import json\n",
    "books_folder = r\"artifacts\\book_hi_res\"\n",
    "\n",
    "# for i in os.listdir(books_folder):\n",
    "i = \"Applied_corporate_finance.txt\"\n",
    "\n",
    "curr_json_path = os.path.join(books_folder, i)\n",
    "with open(curr_json_path, \"r\") as f:\n",
    "    json_data = json.load(f)\n",
    "    # break"
   ]
  },
  {
   "cell_type": "code",
   "execution_count": 122,
   "metadata": {},
   "outputs": [
    {
     "name": "stdout",
     "output_type": "stream",
     "text": [
      "248.09210205078125 1459.0 2 Let me begin this preface with a confession of a few of my own biases. First, I believe that theory, and the models that flow from it, should provide us with the tools to understand, analyze and solve problems. The test of a model or theory then should not be based upon its elegance but upon its usefulness in problem solving. Second, there is little in corporate financial theory, in my view, that is new and revolutionary. The core principles of corporate finance are common sense ones, and have changed little over time. That should not be surprising. Corporate finance is only a few decades old and people have been running businesses for thousands of years, and it would be exceedingly presumptuous of us to believe that they were in the dark until corporate finance theorists came along and told them what to do. To be fair, it is true that corporate financial theory has made advances in taking common sense principles and providing them with structure, but these advances have been primarily on the details. The story line in corporate finance has remained remarkably consistent over time.\n",
      "----------------------------------------------------------------------------------------------------\n",
      "245.0038299560547 1459.0 2 Talking about story lines allows me to set the first theme of this book. This book tells a story, which essentially summarizes the corporate finance view of the world. It classifies all decisions made by any business into three groups - decisions on where to invest the resources or funds that the business has raised, either internally or externally (the investment decision), decisions on where and how to raise funds to finance these investments (the financing decision) and decisions on how much and in what form to return funds back to the owners (the dividend decision). As I see it, the first principles of corporate finance can be summarized in figure 1, which also lays out a site map for the book. Every section of this book relates to some part of this picture, and each chapter is introduced with it, with emphasis on that portion that will be analyzed in that chapter. (Note the chapter numbers below each section). Put another way, there are no sections of this book that are not traceable to this framework.\n",
      "----------------------------------------------------------------------------------------------------\n",
      "247.26324462890625 1459.0 3 As you look at the chapter outline for the book, you are probably wondering where the chapters on present value, option pricing and bond pricing are, as well as the chapters on short-term financial management, working capital and international finance.\n",
      "----------------------------------------------------------------------------------------------------\n",
      "584.6666666666666 1459.0 3 The first set of chapters, which I would classify as “tools”\n",
      "----------------------------------------------------------------------------------------------------\n",
      "314.4606018066406 1460.33984375 3 chapters are now contained in the appendices, and I relegated them there, not because I think that they are unimportant, but because I want the focus to stay on the story line. It is important that we understand the concept of time value of money, but only in the context of mesuring returns on investments better and valuing business. Option pricing theory is elegant and provides\n",
      "----------------------------------------------------------------------------------------------------\n",
      "244.32000732421875 1459.0 3 impressive insights, but only in the context of looking at options embedded in projects and financing instruments like convertible bonds. The second set of chapters I excluded for a very different reason. As I see it, the basic principles of whether and how much you should invest in inventory, or how generous your credit terms should be, are no different than the basic principles that would apply if you were building a plant or buying equipment or opening a new store. Put another way, there is no logical basis for the differentiation between investments in the latter (which in most corporate finance books is covered in the capital budgeting chapters) and the former (which are considered in the\n",
      "----------------------------------------------------------------------------------------------------\n",
      "248.42453002929688 1459.0 4 working capital chapters). You should invest in either if and only if the returns from the investment exceed the hurdle rate from the investment; the fact the one is short term and the other is long term is irrelevant. The same thing can be said about international finance. Should the investment or financing principles be different just because a company is considering an investment in Thailand and the cash flows are in Thai Baht instead of in the United States and the cash flows are in dollars? I do not believe so, and separating the decisions, in my view, only leaves readers with that impression. Finally, most corporate finance books that have chapters on small firm management and private firm management use them to illustrate the differences between these firms and the more conventional large publicly traded firms used in the other chapters. While such differences exist, the commonalities between different types of firms vastly overwhelm the differences, providing a testimonial to the internal consistency of corporate finance. In summary, the second theme of this book is the emphasis on the universality of corporate financial principles, across different firms, in different markets and across\n",
      "----------------------------------------------------------------------------------------------------\n",
      "245.93780517578125 1459.0 4 The way I have tried to bring this universality to life is by using four firms through the book to illustrate each concept; they include a large, publicly traded U.S. corporation (Disney), a small, emerging market company (Aracruz Celulose, a Brazilian paper and pulp company), a financial service firm (Deutsche Bank) and a small private business (Bookscape, an independent New York city book store). While the notion of using real companies to illustrate theory is neither novel nor revolutionary, there are, I believe, two key differences in the way they are used in this book. First, these companies are analyzed on every aspect of corporate finance introduced in this book, rather than used selectively in some chapters. Consequently, the reader can see for himself or herself the similarities and the differences in the way investment, financing and dividend principles are applied to four very different firms. Second, I do not consider this to be a book where applications are used to illustrate the theory. I think of it rather as a book where the theory is presented as a companion to the illustrations. In fact, reverting back to my earlier analogy of theory providing the tool box for understanding problems, this is a book where the problem solving takes center stage and the tools stay in the background.\n",
      "----------------------------------------------------------------------------------------------------\n",
      "250.66666666666666 1459.0 5 Reading through the theory and the applications can be instructive and, hopefully, even interesting, but there is no substitute for actually trying things out to bring home both the strengths and weaknesses of corporate finance. There are several ways I have tried to make this book a tool for active learning. One is to introduce concept questions at regular intervals which invite responses from the reader. As an example, consider the following illustration from chapter 7:\n",
      "----------------------------------------------------------------------------------------------------\n",
      "250.66666666666666 1433.6666666666665 5 You are comparing the required returns of two venture capitalists who are interested in investing in the same software firm. One venture capitalist has all of his capital invested in only software firms, whereas the other venture capitalist has invested her capital in small companies in a variety of businesses. Which of these two will have the higher\n",
      "----------------------------------------------------------------------------------------------------\n",
      "250.66666666666666 567.6666666666666 5 required rate of return?\n",
      "----------------------------------------------------------------------------------------------------\n",
      "242.88925170898438 1289.23974609375 5 ❒ The venture capitalist who is invested only in software companies ❒ The venture capitalist who is invested in a variety of businesses ❒ Cannot answer without more information\n",
      "----------------------------------------------------------------------------------------------------\n",
      "245.98941040039062 1459.0 5 This question is designed to check on a concept introduced in an earlier chapter on risk and return on the difference between risk that can be eliminated by holding a diversified portfolio and risk that cannot, and then connecting it to the question of how a business seeking funds from a venture capitalist might be affected by this perception of risk. The answer to this question, in turn, will expose the reader to more questions about whether venture capital in the future will be provided by diversified funds, and what a specialized\n",
      "----------------------------------------------------------------------------------------------------\n",
      "743.9999999999999 1459.0 5 venture capitalist (who invests in one sector alone)\n",
      "----------------------------------------------------------------------------------------------------\n",
      "743.9999999999999 1459.0 5 might need to do in order to survive in such an\n",
      "----------------------------------------------------------------------------------------------------\n",
      "743.9999999999999 1459.0 5 environment. I hope that this will allow readers to\n",
      "----------------------------------------------------------------------------------------------------\n",
      "743.9999999999999 1459.0 5 see what, for me at least, is one of the most exciting\n",
      "----------------------------------------------------------------------------------------------------\n",
      "743.9999999999999 1459.0 5 aspects of corporate finance, which is its capacity to\n",
      "----------------------------------------------------------------------------------------------------\n",
      "244.3936309814453 1459.0 5 provide a framework which can be used to make sense of the events that occur around us every day and make reasonable forecasts about future directions. The second way in which I have tried to make this an active experience is by introducing what I call live\n",
      "----------------------------------------------------------------------------------------------------\n",
      "250.66666666666666 1459.0 6 case studies at the end of each chapter. These case studies essentially take the concepts introduced in the chapter and provide a framework for applying these concepts to any company that the reader chooses. Guidelines on where to get the information to answer the questions is also provided.\n",
      "----------------------------------------------------------------------------------------------------\n",
      "348.2935485839844 1459.0 6 While corporate finance provides us with an internally consistent and straight\n",
      "----------------------------------------------------------------------------------------------------\n",
      "723.9999999999999 1459.0 6 forward template for the analysis of any firm, information is clearly the lubricant that allows us to do the analysis. There are three steps in information process - acquiring the information, filtering that which is useful from that which is not the\n",
      "----------------------------------------------------------------------------------------------------\n",
      "245.57180786132812 1459.0755615234375 6 and keeping the information updated. Accepting the limitations of the printed page on all of these aspects, I have tried to put the power of online information and the internet to use in several ways.\n",
      "----------------------------------------------------------------------------------------------------\n",
      "335.0812683105469 1427.3770751953125 6 There is a dataset on the web that summarizes dividend yields and payout ratios for U.S. companies, categorized by sector.\n",
      "----------------------------------------------------------------------------------------------------\n",
      "333.13348388671875 1287.0 6 http://www.stern.nyu.edu/~adamodar/spreadsheets/capstru.xls\n",
      "----------------------------------------------------------------------------------------------------\n",
      "335.0343933105469 1454.9999999999998 7 This spreadsheet allows you to compute the optimal debt ratio firm value for any firm, using the same information used for Disney. It has updated interest coverage ratios and spreads built in.\n",
      "----------------------------------------------------------------------------------------------------\n",
      "250.66666666666666 1459.0 7 As I set out to write this book, I had two objectives in mind. One was to write a book that not only reflects the way I teach corporate finance in a classroom, but more importantly, conveys the fascination and enjoyment I get out of the subject matter. The second was to write a book for practitioners that students would find useful, rather than the other way around. I do not know whether I have fully accomplished either objective, but I do know I had an immense amount of fun trying. I hope you do too!\n",
      "----------------------------------------------------------------------------------------------------\n",
      "250.66666666666666 630.3333333333333 8 “It’s all corporate finance”\n",
      "----------------------------------------------------------------------------------------------------\n",
      "846.1065063476562 1268.9999999999998 8 My unbiased view of the world\n",
      "----------------------------------------------------------------------------------------------------\n",
      "244.8028564453125 1464.3333333333333 8 Every decision made in a business has financial implications, and any decision that involves the use of money is a corporate financial decision. Defined broadly, everything that a business does fits under the rubric of corporate finance. It is, in fact, unfortunate that we even call the subject corporate finance, since it suggests to many observers a focus on how large corporations make financial decisions, and seems to exclude small and private businesses from its purview. A more appropriate title for this book would be Business Finance, since the basic principles remain the same, whether one looks at large, publicly traded firms or small privately run businesses. All businesses have to invest their resources wisely, find the right kind and mix of financing to fund these investments and return cash to the owners if there are not enough good investments.\n",
      "----------------------------------------------------------------------------------------------------\n",
      "244.44882202148438 1459.0 8 In this chapter, we will lay the foundation for the rest of the book by listing the three fundamental principles that underlie corporate finance – the investment, financing and dividend principles – and the objective of firm value maximization that is at the heart of corporate financial theory.\n",
      "----------------------------------------------------------------------------------------------------\n",
      "244.19732666015625 1459.0 8 In the chapters that follow, we will use firm generically to refer to any business, large or small, manufacturing or service, private or public. Thus, a corner grocery store and Microsoft are both firms.\n",
      "----------------------------------------------------------------------------------------------------\n",
      "250.66666666666666 1459.0 8 The firm’s investments are generically termed assets. While assets are often categorized by accountants into fixed assets, which are long-lived, and current assets, which are short-term, we prefer a different categorization. The assets that the firm has already invested in are called assets-in-place, whereas those assets that the firm is expected to invest in the future are called growth assets. While it may seem strange that a firm can get value from investments it has not made yet, high-growth firms get the bulk of their value from these yet-to-be-made investments.\n",
      "----------------------------------------------------------------------------------------------------\n",
      "247.1808319091797 1459.0 9 To finance these assets, the firm can raise money from two sources. It can raise funds from investors or financial institutions by promising investors a fixed claim (interest payments) on the cash flows generated by the assets, with a limited or no role in the day-to-day running of the business. We categorize this type of financing to be debt. Alternatively, it can offer a residual claim on the cash flows (i.e., investors can get what is left over after the interest payments have been made) and a much greater role in the operation of the business. We term this equity. Note that these definitions are general enough to cover both private firms, where debt may take the form of bank loans, and equity is the owner’s own money, as well as publicly traded companies, where the firm may issue bonds (to raise debt) and stock (to raise equity).\n",
      "----------------------------------------------------------------------------------------------------\n",
      "346.6799621582031 1449.6666666666665 9 Thus, at this stage, we can lay out the financial balance sheet of a firm as follows:\n",
      "----------------------------------------------------------------------------------------------------\n",
      "250.66666666666666 1063.6666666666667 9 We will return this framework repeatedly through this book.\n",
      "----------------------------------------------------------------------------------------------------\n",
      "247.548583984375 1459.0 9 Every discipline has its first principles that govern and guide everything that gets done within that discipline. All of corporate finance is built on three principles, which we will title, rather unimaginatively, as the investment Principle, the financing Principle and the dividend Principle. The investment principle determines where businesses invest their resources, the financing principle governs the mix of funding used to fund these investments and the dividend principle answers the question of how much earnings should be reinvested back into the business and how much returned to the owners of the business.\n",
      "----------------------------------------------------------------------------------------------------\n",
      "300.66666666666663 1461.8927001953125 10 borrowed money (debt). Returns on projects should be measured based on cash flows generated and the timing of these cash flows; they should also consider both positive and negative side effects of these projects.\n",
      "----------------------------------------------------------------------------------------------------\n",
      "250.4451446533203 1459.0 10 While making these decisions, corporate finance is single minded about the ultimate objective, which is assumed to be maximizing the value of the business. These first principles provide the basis from which we will extract the numerous models and theories that comprise modern corporate finance, but they are also common sense principles. It is incredible conceit on our part to assume that until corporate finance was developed as a coherent discipline starting a few decades ago, that people who ran businesses ran them randomly with no principles to govern their thinking. Good businessmen through the ages have always recognized the importance of these first principles and adhered to them, albeit in intuitive ways. In fact, one of the ironies of recent times is that many managers at large and presumably sophisticated firms with access to the latest corporate finance technology have lost sight of these basic principles.\n",
      "----------------------------------------------------------------------------------------------------\n",
      "250.66666666666666 1459.0 10 No discipline can develop cohesively over time without a unifying objective. The growth of corporate financial theory can be traced to its choice of a single objective and the development of models built around this objective. The objective in conventional corporate financial theory when making decisions is to maximize the value of your business or firm. Consequently, any decision (investment, financial, or dividend) that increases the value of a business is considered a ‘good’ one, whereas one that reduces firm value is considered a ‘poor’ one. While the choice of a singular objective has provided corporate finance with a unifying theme and internal consistency, it has come at\n",
      "----------------------------------------------------------------------------------------------------\n",
      "247.11158752441406 1459.0 11 a cost. To the degree that one buys into this objective, much of what corporate financial theory suggests makes sense. To the degree that this objective is flawed, however, it can be argued that the theory built on it is flawed as well. Many of the disagreements between corporate financial theorists and others (academics as well as practitioners) can be traced to fundamentally different views about the correct objective for a business. For instance, there are some critics of corporate finance who argue that firms should have multiple objectives where a variety of interests (stockholders, labor, customers) are met, while there are others who would have firms focus on what they view as simpler and more direct objectives such as market share or profitability.\n",
      "----------------------------------------------------------------------------------------------------\n",
      "247.7947998046875 1459.0 11 Given the significance of this objective for both the development and the applicability of corporate financial theory, it is important that we examine it much more carefully and address some of the very real concerns and criticisms it has garnered: it assumes that what stockholders do in their own self-interest is also in the best interests of the firm; it is sometimes dependent on the existence of efficient markets; and it is often blind to the social costs associated with value maximization. In the next chapter, we will consider these and other issues and compare firm value maximization to alternative objectives.\n",
      "----------------------------------------------------------------------------------------------------\n",
      "250.66666666666666 1459.0 11 Firms have scarce resources that must be allocated among competing needs. The first and foremost function of corporate financial theory is to provide a framework for firms to make this decision wisely. Accordingly, we define investment decisions to include not only those that create revenues and profits (such as introducing a new product line or expanding into a new market), but also those that save money (such as building a new and more efficient distribution system). Further, we argue that decisions about how much and what inventory to maintain and whether and how much credit to grant to customers that are traditionally categorized as working capital decisions, are ultimately\n",
      "----------------------------------------------------------------------------------------------------\n",
      "216.97471618652344 1436.1666666666665 11 investment decisions, as well. At the other end of Hurdle Rate: A hurdle rate is a the spectrum, broad strategic decisions regarding which markets to enter and the acquisitions of other minimum acceptable rate of return for investing resources in a project. companies can also be considered investment\n",
      "----------------------------------------------------------------------------------------------------\n",
      "250.66666666666666 390.99999999999994 12 decisions.\n",
      "----------------------------------------------------------------------------------------------------\n",
      "250.66666666666666 1459.0 12 Corporate finance attempts to measure the return on a proposed investment decision and compare it to a minimum acceptable hurdle rate in order to decide whether or not the project is acceptable or not. The hurdle rate has to be set higher for riskier projects and has to reflect the financing mix used, i.e., the owner’s funds (equity) or borrowed money (debt). In chapter 3, we begin this process by defining risk and developing a procedure for measuring risk. In chapter 4, we go about converting this risk measure into a hurdle rate, i.e., a minimum acceptable rate of return, both for entire businesses and for individual investments.\n",
      "----------------------------------------------------------------------------------------------------\n",
      "249.7903594970703 1459.0 12 Having established the hurdle rate, we turn our attention to measuring the returns on an investment. In chapter 5, we evaluate three alternative ways of measuring returns - conventional accounting earnings, cash flows and time-weighted cash flows (where we consider both how large the cash flows are and when they are anticipated to come in). In chapter 6, we consider some of the potential side-costs which might not be captured in any of these measures, including costs that may be created for existing investments by taking a new investment, and side-benefits, such as options to enter new markets and to expand product lines that may be embedded in new investments, and synergies, especially when the new investment is the acquisition of another firm.\n",
      "----------------------------------------------------------------------------------------------------\n",
      "250.66666666666666 1459.0 12 Every business, no matter how large and complex it is, is ultimately funded with a mix of borrowed money (debt) and owner’s funds (equity). With a publicly trade firm, debt may take the form of bonds and equity is usually common stock. In a private business, debt is more likely to be bank loans and an owner’s savings represent equity. While we consider the existing mix of debt and equity and its implications for the minimum acceptable hurdle rate as part of the investment principle, we throw open the question of whether the existing mix is the right one in the financing principle section. While there might be regulatory and other real world constraints on the financing mix that a business can use, there is ample room for flexibility within these constraints. We begin this section in chapter 7, by looking at the range of choices that exist for both private businesses and publicly traded firms between debt and equity. We then turn to the\n",
      "----------------------------------------------------------------------------------------------------\n",
      "250.66666666666666 1459.0 13 question of whether the existing mix of financing used by a business is the “optimal” one, given our objective function of maximizing firm value, in chapter 8. While the tradeoff between the benefits and costs of borrowing are established in qualitative terms first, we also look at two quantitative approaches to arriving at the optimal mix in chapter 8. In the first approach, we examine the specific conditions under which the optimal financing mix is the one that minimizes the minimum acceptable hurdle rate. In the second approach, we look at the effects on firm value of changing the financing mix.\n",
      "----------------------------------------------------------------------------------------------------\n",
      "247.4132080078125 1459.0 13 When the optimal financing mix is different from the existing one, we map out the best ways of getting from where we are (the current mix) to where we would like to be (the optimal) in chapter 9, keeping in mind the investment opportunities that the firm has and the need for urgent responses, either because the firm is a takeover target or under threat of bankruptcy. Having outlined the optimal financing mix, we turn our attention to the type of financing a business should use, i.e., whether it should be long term or short term, whether the payments on the financing should be fixed or variable, and if variable, what it should be a function of. Using a basic proposition that a firm will minimize its risk from financing and maximize its capacity to use borrowed funds if it can match up the cash flows on the debt to the cash flows on the assets being financed, we design the perfect financing instrument for a firm. We then add on additional considerations relating to taxes and external monitors (equity research analysts and ratings agencies) and arrive at fairly strong conclusions about the design of the financing.\n",
      "----------------------------------------------------------------------------------------------------\n",
      "246.74105834960938 1459.0 13 Most businesses would undoubtedly like to have unlimited investment opportunities that yield returns exceeding their hurdle rates, but all businesses grow and mature. As a consequence, every business that thrives reaches a stage in its life when the cash flows generated by existing investments is greater than the funds needed to take on good investments. At that point, this business has to figure out ways to return the excess cash to owners. In private businesses, this may just involve the owner withdrawing a portion of his or her funds from the business. In a publicly traded corporation, this will involve either dividends or the buying back of stock. In chapter 10, we introduce the basic trade off that determines whether cash should be left in a business or taken out of it.\n",
      "----------------------------------------------------------------------------------------------------\n",
      "249.0081024169922 1459.0 14 For stockholders in publicly traded firms, we will note that this decision is fundamentally one of whether they trust the managers of the firms with their cash, and much of this trust is based upon how well these managers have invested funds in the past. In chapter 11, we consider the options available to a firm to return assets to its owners - dividends, stock buybacks and spin offs - and investigate how to pick between these options.\n",
      "----------------------------------------------------------------------------------------------------\n",
      "247.10165405273438 1459.0 14 If the objective function in corporate finance is to maximize firm value, it follows that firm value must be linked to the three corporate finance decisions outlined above - investment, financing, and dividend decisions. The link between these decisions and firm value can be made by recognizing that the value of a firm is the present value of its expected cash flows, discounted back at a rate that reflects both the riskiness of the projects of the firm and the financing mix used to finance them. Investors form expectations about future cash flows based upon observed current cash flows and expected future growth, which, in turn, depends upon the quality of the firm’s projects (its investment decisions) and the amount reinvested back into the business (its dividend decisions). The financing decisions affect the value of a firm through both the discount rate and, potentially, through the expected cash flows.\n",
      "----------------------------------------------------------------------------------------------------\n",
      "246.91737365722656 1459.0 14 This neat formulation of value is put to the test by the interactions among the investment, financing, and dividend decisions, and the conflicts of interest that arise between stockholders and lenders to the firm, on the one hand, and stockholders and managers, on the other. We introduce the basic models available to value a firm and its equity in chapter 12, and relate them back to management decisions on investment, financial and dividend policy. In the process, we examine the determinants of value and how firms can increase their value.\n",
      "----------------------------------------------------------------------------------------------------\n",
      "250.66666666666666 1459.0 14 The proliferation of news and information on real world businesses making decisions every day suggests that we do not need to use hypothetical businesses to illustrate the principles of corporate finance. We will use four businesses through this book to make our points about corporate financial policy:\n",
      "----------------------------------------------------------------------------------------------------\n",
      "250.66666666666666 1465.1129150390625 15 In order to make the learning in this book as interactive and current as possible, we will employ a variety of devices:\n",
      "----------------------------------------------------------------------------------------------------\n",
      "297.65765380859375 690.963623046875 16 preceded by the symbol\n",
      "----------------------------------------------------------------------------------------------------\n",
      "293.13482666015625 1024.4849853515625 16 These data sets will be preceded by the symbol\n",
      "----------------------------------------------------------------------------------------------------\n",
      "261.6773376464844 1460.68212890625 16 There are several fundamental arguments we will make repeatedly throughout this\n",
      "----------------------------------------------------------------------------------------------------\n",
      "244.3006134033203 1459.0 16 1. Corporate finance has an internal consistency that flows from its choice of maximizing firm value as the only objective function and its dependence upon a few bedrock principles: risk has to be rewarded; cash flows matter more than accounting income; markets are not easily fooled; every decision a firm makes has an effect on its value. 2. Corporate finance must be viewed as an integrated whole, rather than as a collection of decisions. Investment decisions generally affect financing decisions, and vice versa; financing decisions generally affect dividend decisions, and vice versa. While there are\n",
      "----------------------------------------------------------------------------------------------------\n",
      "250.66666666666666 1459.0 17 circumstances under which these decisions may be independent of each other, this is seldom the case in practice. Accordingly, it is unlikely that firms that deal with their problems on a piecemeal basis will ever resolve these problems. For instance, a firm that takes poor investments may soon find itself with a dividend problem (with insufficient funds to pay dividends) and a financing problem (because the drop in earnings may make it difficult for them to meet interest expenses).\n",
      "----------------------------------------------------------------------------------------------------\n",
      "247.44285583496094 1467.6666666666667 17 3. Corporate finance matters to everybody. There is a corporate financial aspect to almost every decision made by a business; while not everyone will find a use for all the components of corporate finance, everyone will find a use for at least some part of it. Marketing managers, corporate strategists human resource managers and information technology managers all make corporate finance decisions every day and often don’t realize it. An understanding of corporate finance may help them make better decisions. 4. Corporate finance is fun. This may seem to be the tallest claim of all. After all, most people associate corporate finance with numbers, accounting statements and hardheaded analyses. While corporate finance is quantitative in its focus, there is a significant component of creative thinking involved in coming up with solutions to the financial problems businesses do encounter. It is no coincidence that financial markets remain the\n",
      "----------------------------------------------------------------------------------------------------\n",
      "250.66666666666666 857.6666666666666 17 breeding grounds for innovation and change.\n",
      "----------------------------------------------------------------------------------------------------\n",
      "250.12109375 1459.0 17 5. The best way to learn corporate finance is by applying its models and theories to real world problems. While the theory that has been developed over the last few decades is impressive, the ultimate test of any theory is in applications. As we show in this book, much, if not all, of the theory can be applied to real companies and not just to abstract examples, though we have to compromise and make assumptions in the process.\n",
      "----------------------------------------------------------------------------------------------------\n",
      "250.66666666666666 1459.0 17 This chapter establishes the first principles that govern corporate finance. The investment principle, that specifies that businesses invest only in projects that yield a return that exceeds the hurdle rate, the financing principle, that suggests that the right financing mix for a firm is one that maximizes the value of the investments made and the dividend principle, which requires that cash generated in excess of “good project” needs be returned to the owners, are the core for what follows.\n",
      "----------------------------------------------------------------------------------------------------\n",
      "250.66666666666666 1324.3333333333333 18 “If you do not know where you are going, it does not matter how you get there”\n",
      "----------------------------------------------------------------------------------------------------\n",
      "249.8042755126953 1459.0 18 Corporate finance’s greatest strength and its greatest weaknesses is its focus on value maximization. By maintaining that focus, corporate finance preserves internal consistency and coherence, and develops powerful models and theory about the “right” way to make investment, financing and dividend decisions. It can be argued, however, that all of these conclusions are conditional on the acceptance of value maximization as the only objective in decision-making.\n",
      "----------------------------------------------------------------------------------------------------\n",
      "250.66666666666666 1459.0 18 In this chapter, we consider why we focus so strongly on value maximization and why, in practice, the focus shifts to stock price maximization. We also look at the assumptions needed for stock price maximization to be the right objective, the things that can go wrong with firms that focus on it and at least partial fixes to some of these problems. We will argue strongly that, even though stock price maximization is a flawed objective, it offers far more promise than alternative objectives because it is self- correcting.\n",
      "----------------------------------------------------------------------------------------------------\n",
      "250.46661376953125 1459.0 18 Let us start with a description of what an objective is, and the purpose it serves in developing theory. An objective specifies what a decision maker is trying to accomplish and by so doing, provides measures that can be used to choose between alternatives. In most firms, it is the managers of the firm, rather than the owners, who make the decisions about where to invest or how to raise funds for an investment. Thus, if stock price maximization is the objective, a manager choosing between two alternatives will choose the one that increases stock price more. In most cases, the objective is stated in terms of maximizing some function or variable, such as profits or growth, or minimizing some function or variable, such as risk or costs.\n",
      "----------------------------------------------------------------------------------------------------\n",
      "246.52671813964844 1459.0 18 So why do we need an objective, and if we do need one, why cannot we have several? Let us start with the first question. If an objective is not chosen, there is no\n",
      "----------------------------------------------------------------------------------------------------\n",
      "250.66666666666666 1459.0 19 systematic way to make the decisions that every business will be confronted with at some point in time. For instance, without an objective, how can Disney's managers decide whether the investment in a new theme park is a good one? There would be a menu of approaches for picking projects, ranging from reasonable ones like maximizing return on investment to obscure ones like maximizing the size of the firm, and no statements could be made about their relative value. Consequently, three managers looking at the same project may come to three separate conclusions about it.\n",
      "----------------------------------------------------------------------------------------------------\n",
      "244.4590301513672 1459.0 19 If we choose multiple objectives, we are faced with a different problem. A theory developed around multiple objectives of equal weight will create quandaries when it comes to making decisions. To illustrate, assume that a firm chooses as its objectives maximizing market share and maximizing current earnings. If a project increases market share and current earnings, the firm will face no problems, but what if the project being analyzed increases market share while reducing current earnings? The firm should not invest in the project if the current earnings objective is considered, but it should invest in it based upon the market share objective. If objectives are prioritized, we are faced with the same stark choices as in the choice of a single objective. Should the top priority be the maximization of current earnings or should it be maximizing market share? Since there is no gain, therefore, from having multiple objectives, and developing theory becomes much more difficult, we would argue that there should be only one objective.\n",
      "----------------------------------------------------------------------------------------------------\n",
      "250.66666666666666 1459.0 19 There are a number of different objectives that a firm can choose between, when it comes to decision making. How will we know whether the objective that we have chosen is the 'right' objective? A good objective should have the following characteristics --\n",
      "----------------------------------------------------------------------------------------------------\n",
      "250.34515380859375 1459.0 19 (a) It is clear and unambiguous. An objective that is ambiguous will lead to decision rules that vary from case to case and from decision-maker to decision-maker. Consider, for instance, a firm that specifies its objective to be increasing growth in the long term. This is an ambiguous objective since it does not answer at least two questions. The first is growth in what variable - Is it in revenue, operating earnings, net income or earnings per share? The second is in the definition of the long term: Is it 3 years, 5 years or a longer\n",
      "----------------------------------------------------------------------------------------------------\n",
      "250.66666666666666 1459.0 20 (b) It comes with a clear and timely measure that can be used to evaluate the success or failure of decisions. Objectives that sound good but that do not come with a measurement mechanism are likely to fail. For instance, consider a retail firm that defines its objective as “maximizing customer satisfaction”. How exactly is customer satisfaction defined and how is it to be measured? If no good mechanism exists for measuring how satisfied customers are with their purchases, not only will managers be unable to make decisions based upon this objective, but stockholders will also have no way of holding them accountable for any decisions that they do make.\n",
      "----------------------------------------------------------------------------------------------------\n",
      "246.99465942382812 1462.0972900390625 20 (c) It does not create costs for other entities or groups that erase firm-specific benefits and leave society worse off overall. As an example, assume that a tobacco company defines its objective to be revenue growth. Managers of this firm would then be inclined to increase advertising to teenagers, since it will increase sales. Doing so may create significant costs for society that overwhelm any benefits arising from the objective. Some may disagree with the inclusion of social costs and benefits and argue that a business only has a responsibility to its stockholders and not to society. This strikes us as short sighted because the people who own and operate businesses are part of society.\n",
      "----------------------------------------------------------------------------------------------------\n",
      "246.3982391357422 1459.0 20 There is general agreement, at least among corporate finance theorists that the objective when making decisions in a business is to maximize value. There is some disagreement on whether the objective is to maximize the value of the stockholder’s stake in the business or the value of the entire business (firm), which includes besides stockholders, the other financial claim holders (debt holders, preferred stockholders etc.). Furthermore, even among those who argue for stockholder wealth maximization, there is a question about whether this translates into maximizing the stock price. As we will see in this chapter, these objectives vary in terms of the assumptions that are needed to justify them. The least restrictive of the three objectives, in terms of assumptions needed, is to maximize the firm value and the most restrictive is to maximize the stock price.\n",
      "----------------------------------------------------------------------------------------------------\n",
      "247.13792419433594 1459.0 20 In the modern corporation, stockholders hire managers to run the firm for them; these managers then borrow from banks and bondholders to finance the firm’s operations.\n",
      "----------------------------------------------------------------------------------------------------\n",
      "247.84317016601562 1459.0 21 Investors in financial markets respond to information about the firm revealed to them by the managers and firms have to operate in the context of a larger society. By focusing on maximizing stock price, corporate finance exposes itself to several risks. First, the managers who are hired to operate the firm for stockholders may have their own interests that deviate from those of stockholders. Second, stockholders can sometimes be made wealthier by decisions that transfer wealth from those who have lent money to the firm. Third, the information that investors respond to in financial markets may be misleading, incorrect or even fraudulent, and the market response may be out of proportion to the information. Finally, firms that focus on maximizing wealth may create significant costs for society that do not get reflected in the firm’s bottom line.\n",
      "----------------------------------------------------------------------------------------------------\n",
      "248.5988006591797 1459.0 21 These conflicts of interests are exacerbated further when we bring in two additional stakeholders in the firm. First, the employees of the firm may have little or no interest in stockholder wealth maximization and may have a much larger stake in improving wages, benefits and job security. In some cases, these interests may be in direct conflict with stockholder wealth maximization. Second, the customers of the business will probably prefer that products and services be priced lower to maximize their utility, but this again may conflict with what stockholders would prefer.\n",
      "----------------------------------------------------------------------------------------------------\n",
      "247.4134063720703 1459.0 21 If the objective when making decisions is to maximize firm value, there is a possibility that what is good for the firm may not be good for society. In other words, decisions that are good for the firm, insofar as they increase value, may create social costs. If these costs are large, we can see society paying a high price for value maximization and the objective will have to be modified to allow for these costs. To be fair, however, this is a problem that is likely to persist in any system of private enterprise and is not peculiar to value maximization. The objective of value maximization may also face obstacles when there is separation of ownership and management, as there is in most large public corporations. When managers act as agents for the owners (stockholders), there is the potential for a conflict of interest between stockholder and managerial interests, which in turn can lead to decisions that make managers better off at the expense\n",
      "----------------------------------------------------------------------------------------------------\n",
      "250.66666666666666 1459.0 22 When the objective is stated in terms of stockholder wealth, the conflicting interests of stockholders and bondholders have to be reconciled. Since stockholders are the decision-makers, and bondholders are often not completely protected from the side effects of these decisions, one way of maximizing stockholder wealth is to take actions that expropriate wealth from the bondholders, even though such actions may reduce the wealth of the firm.\n",
      "----------------------------------------------------------------------------------------------------\n",
      "250.66666666666666 1459.0 22 Finally, when the objective is narrowed further to one of maximizing stock price, inefficiencies in the financial markets may lead to misallocation of resources and bad decisions. For instance, if stock prices do not reflect the long term consequences of decisions, but respond, as some critics say, to short term earnings effects, a decision that increases stockholder wealth (which reflects long term earnings potential) may reduce the stock price. Conversely, a decision that reduces stockholder wealth, but increases earnings in the near term, may increase the stock price.\n",
      "----------------------------------------------------------------------------------------------------\n",
      "250.66666666666666 1459.0 22 Much of corporate financial theory is centered on stock price maximization as the sole objective when making decisions. This may seem surprising given the potential side costs listed above, but there are three reasons for the focus on stock price maximization in traditional corporate finance.\n",
      "----------------------------------------------------------------------------------------------------\n",
      "345.9995422363281 1459.0 23 earnings or sales measures such as market share, which look at the effects on current operations of decisions made by a firm, the value of a stock is a function of the long-term health and prospects of the firm. In a rational market, the stock price is an attempt on the part of investors to measure this value. Even if they err in their estimates, it can be argued that a noisy estimate of long-term value is better than a precise estimate of current earnings.\n",
      "----------------------------------------------------------------------------------------------------\n",
      "248.16661071777344 1459.0 23 The objective of maximizing stock prices is a relevant objective only for firms that are publicly traded. How, then, can corporate finance principles be adapted for private firms? For firms that are not publicly traded, the objective in decision-making is the maximization of firm value. The investment, financing and dividend principles we will develop in the chapters to come apply for both publicly traded firms, which focus on stock prices, and private businesses, that maximize firm value. Since firm value is not observable and has to be estimated, what private businesses will lack is the feedback, sometimes unwelcome, that publicly traded firms get from financial markets, when they make major decisions.\n",
      "----------------------------------------------------------------------------------------------------\n",
      "249.43421936035156 1459.0 24 It is, however, much more difficult to adapt corporate finance principles to a not- for-profit organization, since it’s objective is often to deliver a service in the most efficient way possible, rather than to make profits. For instance, the objective of a hospital may be stated as delivering quality health care at the least cost. The problem, though, is that someone has to define the acceptable level of care and the friction between cost and quality will underlie all decisions made by the hospital.\n",
      "----------------------------------------------------------------------------------------------------\n",
      "249.76751708984375 1462.7041015625 24 If corporate financial theory is based on the objective of maximizing stock prices, it is worth asking when it is reasonable to ask managers to focus on this objective to the exclusion of all others. There is a scenario where managers can concentrate on maximizing stock prices to the exclusion of all other considerations and not worry about side costs. For this scenario to unfold, the following assumptions have to hold:\n",
      "----------------------------------------------------------------------------------------------------\n",
      "250.48837280273438 1467.6666666666667 25 With these assumptions, there are no side costs to stock price maximization. Consequently, managers can concentrate on maximizing stock prices. In the process, stockholder wealth and firm value will be maximized and society will be made better off. The assumptions needed for the classical objective are summarized in pictorial form in\n",
      "----------------------------------------------------------------------------------------------------\n",
      "440.66666666666663 1268.3333333333333 25 Figure 2.1: Stock Price Maximization: The Costless Scenario\n",
      "----------------------------------------------------------------------------------------------------\n",
      "246.65472412109375 1459.0 25 Even a casual perusal of the assumptions that we need for stock price maximization to be the only objective when making decisions suggests that there are potential shortcomings in each one. Managers might not always make decisions that are in the best interests of stockholders, stockholders do sometimes take actions that hurt lenders, information delivered to markets is often erroneous and sometimes misleading and there are social costs that cannot be captured in the financial statements of the company. In the section that follows, we will consider some of the ways in which real world problems might trigger a break down in the stock price maximization objective.\n",
      "----------------------------------------------------------------------------------------------------\n",
      "246.6597900390625 1459.0 26 In classical corporate financial theory, stockholders are assumed to have the power to discipline and replace managers who do not maximize their wealth. The two mechanisms that exist for this power to be exercised are the annual meeting, where stockholders gather to evaluate management performance, and the board of directors, whose fiduciary duty it is to ensure that managers serve stockholders’ interests. While the legal backing for this assumption may be reasonable, the practical power of these institutions to enforce stockholder control is debatable. In this section, we will begin by looking at the limits on stockholder power and then examine the consequences for managerial decisions.\n",
      "----------------------------------------------------------------------------------------------------\n",
      "350.66666666666663 1459.0 26 Every publicly traded firm has an annual meeting of its stockholders, during\n",
      "----------------------------------------------------------------------------------------------------\n",
      "247.8540496826172 1459.0 26 which stockholders can both voice their views on management and vote on changes to the corporate charter. Most stockholders, however, do not go to the annual meetings, partly because they do not feel that they can make a difference and partly because it would not make financial sense for them to do so.1 It is true that investors can exercise their power with proxies2, but incumbent management starts of with a clear advantage3. Many stockholders do not bother to fill out their proxies, and even among those who do, voting for incumbent management is often the default option. For institutional stockholders, with significant holdings in a large number of securities, the easiest option, when dissatisfied with incumbent management, is to vote with their feet, i.e., sell their stock and move on. An activist posture on the part of these stockholders would go a long way towards making managers more responsive to their interests, and there are trends towards more activism, which will be documented later in this chapter.\n",
      "----------------------------------------------------------------------------------------------------\n",
      "245.60267639160156 1457.5 26 1 An investor who owns 100 shares of stock in Coca Cola will very quickly wipe out any potential returns he makes on his investment if he flies to Atlanta every year for the annual meeting.\n",
      "----------------------------------------------------------------------------------------------------\n",
      "244.47732543945312 1459.4267578125 26 2 A proxy enables stockholders to vote in absentia for boards of directors and for resolutions that will be coming to a vote at the meeting. It does not allow them to ask open-ended questions of management. 3 This advantage is magnified if the corporate charter allows incumbent management to vote proxies that were never sent back to the firm. This is the equivalent of having an election where the incumbent gets the votes of anybody who does not show up at the ballot box.\n",
      "----------------------------------------------------------------------------------------------------\n",
      "249.19833374023438 1459.0 27 The board of directors is the body that oversees the management of a publicly traded firm. As elected representatives of the stockholders, the directors are obligated to ensure that managers are looking out for stockholder interests. They can change the top management of the firm and have a substantial influence on how it is run. On major decisions, such as acquisitions of other firms, managers have to get the approval of the board before acting.\n",
      "----------------------------------------------------------------------------------------------------\n",
      "248.2484893798828 1472.5596923828125 27 The capacity of the board of directors to discipline management and keep them responsive to stockholders is diluted by a number of factors.\n",
      "----------------------------------------------------------------------------------------------------\n",
      "350.66666666666663 1459.0 27 (1) Most individuals who serve as directors do not spend much time on their\n",
      "----------------------------------------------------------------------------------------------------\n",
      "349.0616455078125 1459.0 27 fiduciary duties, partly because of other commitments and partly because many of them serve on the boards of several corporations. Korn Ferry4, an executive recruiter, publishes a periodical survey of directorial compensation and time spent by directors on their work illustrates this very clearly. In their 1992 survey, they reported that the average director spent 92 hours a year on board meetings and preparation in 1992, down from 108 in 1988, and was paid $32,352, up from $19,544 in 19885. While their 1998 survey did not measure the hours directors spent on their duties, it does mention that their average compensation has climbed to $ 37,924. As a result of scandals associated with lack of board oversight at companies like Enron and Worldcom, directors have come under more pressure to take their jobs seriously. The Korn-Ferry survey in 2002 noted an increase in hours worked by the average director to 183 hours a year and a corresponding surge in compensation.\n",
      "----------------------------------------------------------------------------------------------------\n",
      "250.66666666666666 1338.1666666666665 27 4Korn-Ferry surveys the boards of large corporations and provides insight into their composition.\n",
      "----------------------------------------------------------------------------------------------------\n",
      "250.66666666666666 1457.5 27 5 This understates the true benefits received by the average director in a firm, since it does not count benefits and perquisites - insurance and pension benefits being the largest component. Hewitt Associates, an executive search firm, reports that 67% of 100 firms that they surveyed offer retirement plans for their directors.\n",
      "----------------------------------------------------------------------------------------------------\n",
      "350.3273010253906 1459.0 28 especially relating to accounting rules and tender offers, and rely instead on outside experts.\n",
      "----------------------------------------------------------------------------------------------------\n",
      "350.66666666666663 1459.0 28 (3) In some firms, a significant percentage of the directors work for the firm, can be categorized as insiders and are unlikely to challenge the CEO. Even when directors are outsiders, they are not independent, insofar as the company's Chief Executive Officer (CEO) often has a major say in who serves on the board. Korn Ferry's annual survey of boards also found, in 1988, that 74% of the 426 companies it surveyed relied on recommendations by the CEO to come up with new directors, while only 16% used a search firm. In its 1998 survey, Korn Ferry did find a shift towards more independence on this issue, with almost three- quarters of firms reporting the existence of a nominating committee that is, at least, nominally independent of the CEO. The 2002 survey confirmed a continuation of this shift.\n",
      "----------------------------------------------------------------------------------------------------\n",
      "348.609619140625 1459.0 28 (4) The CEOs of other companies are the favored choice for directors, leading to a potential conflict of interest, where CEOs sit on each other’s boards.\n",
      "----------------------------------------------------------------------------------------------------\n",
      "343.74615478515625 1459.0 28 (5) Most directors hold only small or token stakes in the equity of their corporations, making it difficult for them to empathize with the plight of shareholders, when stock prices go down. In a study in the late 1990s, Institutional Shareholder Services, a consultant, found that 27 directors at 275 of the largest corporations in the United States owned no shares at all, and about 5% of all directors owned fewer than five shares.\n",
      "----------------------------------------------------------------------------------------------------\n",
      "250.66666666666666 1459.0 28 The net effect of these factors is that the board of directors often fails at its assigned role, which is to protect the interests of stockholders. The CEO sets the agenda, chairs the meeting and controls the information, and the search for consensus generally overwhelms any attempts at confrontation. While\n",
      "----------------------------------------------------------------------------------------------------\n",
      "250.66666666666666 983.0 28 there is an impetus towards reform, it has to be noted\n",
      "----------------------------------------------------------------------------------------------------\n",
      "328.66666666666663 983.0 28 these revolts were sparked not by board\n",
      "----------------------------------------------------------------------------------------------------\n",
      "250.66666666666666 983.0 28 The failure of the board of directors to protect stockholders can be illustrated with numerous examples from the United States, but this should not\n",
      "----------------------------------------------------------------------------------------------------\n",
      "248.88766479492188 1459.0 29 blind us to a more troubling fact. Stockholders exercise more power over management in the United States than in any other financial market. If the annual meeting and the board of directors are, for the most part, ineffective in the United States at exercising control over management, they are even more powerless in Europe and Asia as institutions that protect stockholders.\n",
      "----------------------------------------------------------------------------------------------------\n",
      "250.66666666666666 1464.9999999999998 29 If the two institutions of corporate governance -- annual meetings and the board of directors -- fail to keep management responsive to stockholders, as argued in the previous section, we cannot expect managers to maximize stockholder wealth, especially when their interests conflict with those of stockholders. Consider the following examples.\n",
      "----------------------------------------------------------------------------------------------------\n",
      "250.66666666666666 1459.0 29 through will allow stockholders to reap substantial financial gains but may result in the\n",
      "----------------------------------------------------------------------------------------------------\n",
      "250.66666666666666 1459.0 29 managers losing their jobs. Not surprisingly, managers often act to protect their interests,\n",
      "----------------------------------------------------------------------------------------------------\n",
      "346.74237060546875 1459.0 30 as a way of reducing the conflict between stockholders and managers, it is still unseemly that managers should need large side-payments to do that which they are hired to do-- maximize stockholder wealth.\n",
      "----------------------------------------------------------------------------------------------------\n",
      "350.66666666666663 944.3333333333333 30 Firms sometimes create poison pills, which\n",
      "----------------------------------------------------------------------------------------------------\n",
      "345.23382568359375 1460.1666666666667 30 are triggered by hostile takeovers. The Poison Pill: A poison pill is a objective is to make it difficult and costly security or a provision that is triggered by to acquire control. A flip over rights offer a the hostile acquisition of the firm, resulting in a large cost to the acquirer. simple example. In a flip over right, existing stockholders get the right to buy shares in the firm at a price well above the current stock price as long as the existing management runs the firm; this right is not worth very much. If a hostile acquirer takes over the firm, though, stockholders are given the right to buy additional shares at a price much lower than the current stock price. The acquirer, having weighed in this additional cost, may very well decide against the acquisition.\n",
      "----------------------------------------------------------------------------------------------------\n",
      "249.672607421875 1459.0 30 Greenmail, golden parachutes and poison pills generally do not require stockholder approval and are usually adopted by compliant boards of directors. In all three cases, it can be argued, managerial interests are being served at the expenses of stockholder interests.\n",
      "----------------------------------------------------------------------------------------------------\n",
      "250.6431121826172 672.3333333333333 30 2. Anti-takeover Amendments:\n",
      "----------------------------------------------------------------------------------------------------\n",
      "246.3912811279297 1459.0 30 Anti-takeover amendments have the same objective as greenmail and poison pills, i.e., dissuading hostile takeovers, but differ on one very important count. They require the assent of stockholders to be instituted. There are several types of anti-takeover amendments, all designed with the objective of reducing the likelihood of a hostile takeover. Consider, for instance, a super-majority amendment; to take over a firm that adopts this amendment, an acquirer has to acquire more than the 51% that would normally be required to gain control. Anti-takeover amendments do increase the bargaining power of managers when negotiating with acquirers and could work to the benefit of stockholders6, but only if managers act in the best interests of stockholders.\n",
      "----------------------------------------------------------------------------------------------------\n",
      "246.7560577392578 1457.5 30 6 As an example, when AT&T tried to acquire NCR in 1991, NCR had a super-majority anti-takeover amendment. NCR's managers used this requirement to force AT&T to pay a much higher price for NCR\n",
      "----------------------------------------------------------------------------------------------------\n",
      "250.66666666666666 1459.0 31 If as a stockholder in a company, you were asked to vote on an amendment to the corporate charter which would restrict hostile takeovers of your company and give your management more power, in which of the following types of companies would you be most likely to vote yes to the amendment?\n",
      "----------------------------------------------------------------------------------------------------\n",
      "250.66666666666666 889.0 31 d. I would never vote for such an amendment\n",
      "----------------------------------------------------------------------------------------------------\n",
      "250.66666666666666 696.3333333333334 31 Paying too much on acquisitions\n",
      "----------------------------------------------------------------------------------------------------\n",
      "250.66666666666666 1459.0 31 There are many ways in which managers can make their stockholders worse off - by investing in bad projects, by borrowing too much or too little and by adopting defensive mechanisms against potentially value-increasing takeovers. The quickest and perhaps the most decisive way to impoverish stockholders is to overpay on a takeover, since the amounts paid on takeovers tend to dwarf\n",
      "----------------------------------------------------------------------------------------------------\n",
      "245.92369079589844 1468.9866943359375 31 those involved in the other decisions listed above. Of Synergy: Synergy is the additional value course, the managers of the firms doing the created by bringing together two entities, and pooling their strengths. In acquiring will argue that they never7 overpay on context of a merger, synergy is the takeovers, and that the high premiums paid in difference between the value of the acquisitions can be justified using any number of merged firm, and sum of the values of reasons -- there is synergy, there are strategic the firms operating independently. considerations, the target firm is undervalued and badly managed, and so on. The stockholders in acquiring firms do not seem to share the enthusiasm for mergers and the\n",
      "----------------------------------------------------------------------------------------------------\n",
      "247.14450073242188 578.1666666666667 31 shares than their initial offer.\n",
      "----------------------------------------------------------------------------------------------------\n",
      "250.66666666666666 1457.5 31 7 One explanation given for the phenomenon of overpaying on takeovers is given by Roll, who posits that it is managerial hubris (pride) that drives the process.\n",
      "----------------------------------------------------------------------------------------------------\n",
      "249.32904052734375 1459.0 32 acquisitions that their managers have, since the stock prices of bidding firms decline on the takeover announcements a significant proportion8 of the time.\n",
      "----------------------------------------------------------------------------------------------------\n",
      "245.4808807373047 1459.0 32 These illustrations are not meant to make the case that managers are venal and selfish, which would be an unfair charge, but are manifestations of a much more fundamental problem; when there is conflict of interest between stockholders and managers, stockholder wealth maximization is likely to take second place to management objectives.\n",
      "----------------------------------------------------------------------------------------------------\n",
      "239.14842224121094 1460.2342529296875 32 This data set has the break down of CEO compensation for many U.S. firms for the most recent year.\n",
      "----------------------------------------------------------------------------------------------------\n",
      "250.66666666666666 994.3333333333333 32 Illustration 2.1: Assessing Disney’s Board of Directors\n",
      "----------------------------------------------------------------------------------------------------\n",
      "241.65223693847656 1459.0 32 Over the last decade Disney has emerged as a case study of weak corporate governance, where a powerful CEO, Michael Eisner, has been given free rein by a captive board of directors. We will look at Disney’s board of directors in 1997, when Fortune magazine ranked it as having the worst board of the Fortune 500 companies and again in 2002, when it made the list of the five most improved boards.\n",
      "----------------------------------------------------------------------------------------------------\n",
      "240.95652770996094 1460.0782470703125 32 At the end of 1996, Disney had 15 members on its board and the board members are listed in table 2.1, categorized by whether they work or worked for Disney (insiders) or not (outsiders).\n",
      "----------------------------------------------------------------------------------------------------\n",
      "538.6666666666666 1171.0 32 Table 2.1: Disney’s Board of Directors – 1996\n",
      "----------------------------------------------------------------------------------------------------\n",
      "246.76449584960938 1457.5 32 8 Jarrell, Brickley and Netter (1988) in an extensive study of returns to bidder firms note that excess returns on these firms' stocks around the announcement of takeovers have declined from an average of 4.95% in the sixties to 2% in the seventies to -1% in the eighties. You, Caves, Smith and Henry (1986) examine 133 mergers between 1976 and 1984 and find that the stock prices of bidding firms declined in 53% of the cases.\n",
      "----------------------------------------------------------------------------------------------------\n",
      "250.66666666666666 1459.0 33 Note that eight of the sixteen members on the board are or were Disney employees and that Michael Eisner, in addition to being CEO, chaired the board. Of the eight outsiders, at least five had potential conflicts of interests because of their ties with either Disney or Michael Eisner. The potential conflicts are listed in italics in table 2.1. Given the composition of this board, it should come as no surprise that it failed to assert its power\n",
      "----------------------------------------------------------------------------------------------------\n",
      "244.00035095214844 1459.0 33 In 1997, Calpers, the California public employee pension fund, suggested a series of checks to see if a board was likely to be effective in acting as a counter-weight to a powerful CEO including:\n",
      "----------------------------------------------------------------------------------------------------\n",
      "350.66666666666663 1008.3333333333333 33 Are a majority of the directors outside directors?\n",
      "----------------------------------------------------------------------------------------------------\n",
      "247.01687622070312 1457.5 33 9 One case where it cost Disney dearly was when Mr. Eisner prevailed on the board to hire Michael Ovitz, a noted Hollywood agent, with a generous compensation. A few years later, Ovitz left the company after falling out with Eisner, creating a multi-million liability for Disney. A 2003 lawsuit against Disney’s board members in 1996 contended that they failed in their fiduciary duty by not checking the terms of the compensation agreement before assenting to the hiring.\n",
      "----------------------------------------------------------------------------------------------------\n",
      "350.66666666666663 1377.6666666666665 34 Are the compensation and audit committees composed entirely of outsiders?\n",
      "----------------------------------------------------------------------------------------------------\n",
      "244.4510498046875 1459.0 34 When Calpers put the companies in the S&P 500 through these tests in 1997, Disney was the only company that failed all of the tests, with insiders on every one of the key committees.\n",
      "----------------------------------------------------------------------------------------------------\n",
      "244.47576904296875 1459.0 34 Disney came under pressure from stockholders to modify its corporate governance practices between 1997 and 2002 and did make some changes to its board. Table 2.2 lists the board members in 2002.\n",
      "----------------------------------------------------------------------------------------------------\n",
      "537.5532836914062 1171.0 34 Table 2.2: Disney’s Board of Directors – 2002\n",
      "----------------------------------------------------------------------------------------------------\n",
      "244.87474060058594 1459.0 34 Note that many of the board members with conflicts of interests from 1996 continue to serve on the board. On a positive note, the number of insiders on the board has dropped from eight to six but the board size remains sixteen members. In summary, while the board itself may be marginally more independent in 2002 than it was in 1997, it is still far from ideal in its composition.\n",
      "----------------------------------------------------------------------------------------------------\n",
      "250.66666666666666 1370.2515869140625 34 Illustration 2.2: Corporate Governance at Aracruz: Voting and Non-voting Shares\n",
      "----------------------------------------------------------------------------------------------------\n",
      "240.61761474609375 1459.0 34 Aracruz Cellulose, like most Brazilian companies, had multiple classes of shares at the end of 2002. The common shares had all of the voting rights and were held by\n",
      "----------------------------------------------------------------------------------------------------\n",
      "250.66666666666666 1459.0 35 incumbent management, lenders to the company and the Brazilian government. Outside investors held the non-voting shares, which were called preferred shares10, and had no say in the election of the board of directors. At the end of 2002, Aracruz was managed by a board of seven directors, composed primarily of representatives of those who own the common (voting) shares, and an executive board, composed of three managers of the company.\n",
      "----------------------------------------------------------------------------------------------------\n",
      "250.66666666666666 1459.0 35 Without analyzing the composition of the board of Aracruz, it is quite clear that there is the potential for a conflict of interest between voting shareholders who are fully represented on the board and preferred stockholders who are not. While Brazilian law provides some protection for the latter, preferred stockholders have no power to change the existing management of the company and little influence over major decisions that can affect their value.\n",
      "----------------------------------------------------------------------------------------------------\n",
      "250.66666666666666 1259.6666666666667 35 Illustration 2.3: Corporate Governance at Deutsche Bank: Cross Holdings\n",
      "----------------------------------------------------------------------------------------------------\n",
      "250.65272521972656 1459.0 35 Deutsche Bank follows the German tradition and legal requirement of having two boards. The board of managing directors, which is composed primarily of incumbent managers, develops the company’s strategy, reviews it with the Supervisory Board and ensures its implementation. The Supervisory Board appoints and recalls the members of the Board of Managing Directors and, in cooperation with the Board of Managing Directors, arranges for long-term successor planning. It also advises the board of Managing Directors on the management of business and supervises it in its achievement of long-term goals.\n",
      "----------------------------------------------------------------------------------------------------\n"
     ]
    }
   ],
   "source": [
    "i = 0\n",
    "x_start = []\n",
    "start_page = 0\n",
    "for jd in json_data:\n",
    "    # if jd['page_num']>=start_page:\n",
    "    print(jd['coordinates'][0][0],jd['coordinates'][2][0],jd['page_num'],jd['text'])\n",
    "    print('-'*100)\n",
    "    if i==150: break\n",
    "    i+=1\n",
    "    x_start.append(jd['coordinates'][0][0])"
   ]
  },
  {
   "cell_type": "code",
   "execution_count": 123,
   "metadata": {},
   "outputs": [
    {
     "data": {
      "image/png": "[encoded data removed]",
      "text/plain": [
       "<Figure size 640x480 with 1 Axes>"
      ]
     },
     "metadata": {},
     "output_type": "display_data"
    }
   ],
   "source": [
    "import matplotlib.pyplot as plt\n",
    "\n",
    "plt.hist(x_start, bins=100);"
   ]
  },
  {
   "cell_type": "code",
   "execution_count": 124,
   "metadata": {},
   "outputs": [
    {
     "data": {
      "text/plain": [
       "846.1065063476562"
      ]
     },
     "execution_count": 124,
     "metadata": {},
     "output_type": "execute_result"
    }
   ],
   "source": [
    "max(x_start)"
   ]
  },
  {
   "cell_type": "code",
   "execution_count": 125,
   "metadata": {},
   "outputs": [
    {
     "data": {
      "text/plain": [
       "292.96324635823555"
      ]
     },
     "execution_count": 125,
     "metadata": {},
     "output_type": "execute_result"
    }
   ],
   "source": [
    "sum(x_start)/len(x_start)"
   ]
  },
  {
   "cell_type": "code",
   "execution_count": 126,
   "metadata": {},
   "outputs": [
    {
     "data": {
      "text/plain": [
       "216.97471618652344"
      ]
     },
     "execution_count": 126,
     "metadata": {},
     "output_type": "execute_result"
    }
   ],
   "source": [
    "min(x_start)"
   ]
  },
  {
   "cell_type": "code",
   "execution_count": 127,
   "metadata": {},
   "outputs": [
    {
     "data": {
      "text/plain": [
       "846.1065063476562"
      ]
     },
     "execution_count": 127,
     "metadata": {},
     "output_type": "execute_result"
    }
   ],
   "source": [
    "max(x_start)"
   ]
  },
  {
   "cell_type": "code",
   "execution_count": 128,
   "metadata": {},
   "outputs": [],
   "source": [
    "#median of a list\n",
    "def median(lst):\n",
    "    lst.sort()\n",
    "    return lst[len(lst)//2]"
   ]
  },
  {
   "cell_type": "code",
   "execution_count": 129,
   "metadata": {},
   "outputs": [
    {
     "data": {
      "text/plain": [
       "250.66666666666666"
      ]
     },
     "execution_count": 129,
     "metadata": {},
     "output_type": "execute_result"
    }
   ],
   "source": [
    "median(x_start)"
   ]
  },
  {
   "cell_type": "code",
   "execution_count": null,
   "metadata": {},
   "outputs": [],
   "source": []
  }
 ],
 "metadata": {
  "kernelspec": {
   "display_name": "tf-gpu",
   "language": "python",
   "name": "python3"
  },
  "language_info": {
   "codemirror_mode": {
    "name": "ipython",
    "version": 3
   },
   "file_extension": ".py",
   "mimetype": "text/x-python",
   "name": "python",
   "nbconvert_exporter": "python",
   "pygments_lexer": "ipython3",
   "version": "3.9.18"
  }
 },
 "nbformat": 4,
 "nbformat_minor": 2
}
