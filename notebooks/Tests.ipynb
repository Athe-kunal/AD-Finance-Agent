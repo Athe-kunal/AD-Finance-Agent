{
  "nbformat": 4,
  "nbformat_minor": 0,
  "metadata": {
    "colab": {
      "provenance": []
    },
    "kernelspec": {
      "name": "python3",
      "display_name": "Python 3"
    },
    "language_info": {
      "name": "python"
    }
  },
  "cells": [
    {
      "cell_type": "code",
      "execution_count": null,
      "metadata": {
        "colab": {
          "base_uri": "https://localhost:8080/"
        },
        "id": "DZrriGH8P8b_",
        "outputId": "fc30fb03-164f-4044-dd50-04f3e763d385"
      },
      "outputs": [
        {
          "output_type": "stream",
          "name": "stdout",
          "text": [
            "Collecting unstructured[all]\n",
            "  Downloading unstructured-0.12.4-py3-none-any.whl (1.8 MB)\n",
            "\u001b[?25l     \u001b[90m━━━━━━━━━━━━━━━━━━━━━━━━━━━━━━━━━━━━━━━━\u001b[0m \u001b[32m0.0/1.8 MB\u001b[0m \u001b[31m?\u001b[0m eta \u001b[36m-:--:--\u001b[0m\r\u001b[2K     \u001b[91m━━\u001b[0m\u001b[91m╸\u001b[0m\u001b[90m━━━━━━━━━━━━━━━━━━━━━━━━━━━━━━━━━━━━━\u001b[0m \u001b[32m0.1/1.8 MB\u001b[0m \u001b[31m3.6 MB/s\u001b[0m eta \u001b[36m0:00:01\u001b[0m\r\u001b[2K     \u001b[91m━━━━━━━━━━━━━━━━━━━━━━━━━━━━━━━━━\u001b[0m\u001b[91m╸\u001b[0m\u001b[90m━━━━━━\u001b[0m \u001b[32m1.5/1.8 MB\u001b[0m \u001b[31m22.0 MB/s\u001b[0m eta \u001b[36m0:00:01\u001b[0m\r\u001b[2K     \u001b[90m━━━━━━━━━━━━━━━━━━━━━━━━━━━━━━━━━━━━━━━━\u001b[0m \u001b[32m1.8/1.8 MB\u001b[0m \u001b[31m19.1 MB/s\u001b[0m eta \u001b[36m0:00:00\u001b[0m\n",
            "\u001b[?25h\u001b[33mWARNING: unstructured 0.12.4 does not provide the extra 'all'\u001b[0m\u001b[33m\n",
            "\u001b[0mRequirement already satisfied: chardet in /usr/local/lib/python3.10/dist-packages (from unstructured[all]) (5.2.0)\n",
            "Collecting filetype (from unstructured[all])\n",
            "  Downloading filetype-1.2.0-py2.py3-none-any.whl (19 kB)\n",
            "Collecting python-magic (from unstructured[all])\n",
            "  Downloading python_magic-0.4.27-py2.py3-none-any.whl (13 kB)\n",
            "Requirement already satisfied: lxml in /usr/local/lib/python3.10/dist-packages (from unstructured[all]) (4.9.4)\n",
            "Requirement already satisfied: nltk in /usr/local/lib/python3.10/dist-packages (from unstructured[all]) (3.8.1)\n",
            "Requirement already satisfied: tabulate in /usr/local/lib/python3.10/dist-packages (from unstructured[all]) (0.9.0)\n",
            "Requirement already satisfied: requests in /usr/local/lib/python3.10/dist-packages (from unstructured[all]) (2.31.0)\n",
            "Requirement already satisfied: beautifulsoup4 in /usr/local/lib/python3.10/dist-packages (from unstructured[all]) (4.12.3)\n",
            "Collecting emoji (from unstructured[all])\n",
            "  Downloading emoji-2.10.1-py2.py3-none-any.whl (421 kB)\n",
            "\u001b[2K     \u001b[90m━━━━━━━━━━━━━━━━━━━━━━━━━━━━━━━━━━━━━━━━\u001b[0m \u001b[32m421.5/421.5 kB\u001b[0m \u001b[31m21.5 MB/s\u001b[0m eta \u001b[36m0:00:00\u001b[0m\n",
            "\u001b[?25hCollecting dataclasses-json (from unstructured[all])\n",
            "  Downloading dataclasses_json-0.6.4-py3-none-any.whl (28 kB)\n",
            "Collecting python-iso639 (from unstructured[all])\n",
            "  Downloading python_iso639-2024.2.7-py3-none-any.whl (274 kB)\n",
            "\u001b[2K     \u001b[90m━━━━━━━━━━━━━━━━━━━━━━━━━━━━━━━━━━━━━━━━\u001b[0m \u001b[32m274.7/274.7 kB\u001b[0m \u001b[31m13.4 MB/s\u001b[0m eta \u001b[36m0:00:00\u001b[0m\n",
            "\u001b[?25hCollecting langdetect (from unstructured[all])\n",
            "  Downloading langdetect-1.0.9.tar.gz (981 kB)\n",
            "\u001b[2K     \u001b[90m━━━━━━━━━━━━━━━━━━━━━━━━━━━━━━━━━━━━━━━━\u001b[0m \u001b[32m981.5/981.5 kB\u001b[0m \u001b[31m24.4 MB/s\u001b[0m eta \u001b[36m0:00:00\u001b[0m\n",
            "\u001b[?25h  Preparing metadata (setup.py) ... \u001b[?25l\u001b[?25hdone\n",
            "Requirement already satisfied: numpy in /usr/local/lib/python3.10/dist-packages (from unstructured[all]) (1.25.2)\n",
            "Collecting rapidfuzz (from unstructured[all])\n",
            "  Downloading rapidfuzz-3.6.1-cp310-cp310-manylinux_2_17_x86_64.manylinux2014_x86_64.whl (3.4 MB)\n",
            "\u001b[2K     \u001b[90m━━━━━━━━━━━━━━━━━━━━━━━━━━━━━━━━━━━━━━━━\u001b[0m \u001b[32m3.4/3.4 MB\u001b[0m \u001b[31m48.7 MB/s\u001b[0m eta \u001b[36m0:00:00\u001b[0m\n",
            "\u001b[?25hCollecting backoff (from unstructured[all])\n",
            "  Downloading backoff-2.2.1-py3-none-any.whl (15 kB)\n",
            "Requirement already satisfied: typing-extensions in /usr/local/lib/python3.10/dist-packages (from unstructured[all]) (4.9.0)\n",
            "Collecting unstructured-client>=0.15.1 (from unstructured[all])\n",
            "  Downloading unstructured_client-0.18.0-py3-none-any.whl (21 kB)\n",
            "Requirement already satisfied: wrapt in /usr/local/lib/python3.10/dist-packages (from unstructured[all]) (1.14.1)\n",
            "Requirement already satisfied: certifi>=2023.7.22 in /usr/local/lib/python3.10/dist-packages (from unstructured-client>=0.15.1->unstructured[all]) (2024.2.2)\n",
            "Requirement already satisfied: charset-normalizer>=3.2.0 in /usr/local/lib/python3.10/dist-packages (from unstructured-client>=0.15.1->unstructured[all]) (3.3.2)\n",
            "Collecting dataclasses-json-speakeasy>=0.5.11 (from unstructured-client>=0.15.1->unstructured[all])\n",
            "  Downloading dataclasses_json_speakeasy-0.5.11-py3-none-any.whl (28 kB)\n",
            "Requirement already satisfied: idna>=3.4 in /usr/local/lib/python3.10/dist-packages (from unstructured-client>=0.15.1->unstructured[all]) (3.6)\n",
            "Collecting jsonpath-python>=1.0.6 (from unstructured-client>=0.15.1->unstructured[all])\n",
            "  Downloading jsonpath_python-1.0.6-py3-none-any.whl (7.6 kB)\n",
            "Collecting marshmallow>=3.19.0 (from unstructured-client>=0.15.1->unstructured[all])\n",
            "  Downloading marshmallow-3.20.2-py3-none-any.whl (49 kB)\n",
            "\u001b[2K     \u001b[90m━━━━━━━━━━━━━━━━━━━━━━━━━━━━━━━━━━━━━━━━\u001b[0m \u001b[32m49.4/49.4 kB\u001b[0m \u001b[31m4.8 MB/s\u001b[0m eta \u001b[36m0:00:00\u001b[0m\n",
            "\u001b[?25hCollecting mypy-extensions>=1.0.0 (from unstructured-client>=0.15.1->unstructured[all])\n",
            "  Downloading mypy_extensions-1.0.0-py3-none-any.whl (4.7 kB)\n",
            "Requirement already satisfied: packaging>=23.1 in /usr/local/lib/python3.10/dist-packages (from unstructured-client>=0.15.1->unstructured[all]) (23.2)\n",
            "Requirement already satisfied: python-dateutil>=2.8.2 in /usr/local/lib/python3.10/dist-packages (from unstructured-client>=0.15.1->unstructured[all]) (2.8.2)\n",
            "Requirement already satisfied: six>=1.16.0 in /usr/local/lib/python3.10/dist-packages (from unstructured-client>=0.15.1->unstructured[all]) (1.16.0)\n",
            "Collecting typing-inspect>=0.9.0 (from unstructured-client>=0.15.1->unstructured[all])\n",
            "  Downloading typing_inspect-0.9.0-py3-none-any.whl (8.8 kB)\n",
            "Requirement already satisfied: urllib3>=1.26.18 in /usr/local/lib/python3.10/dist-packages (from unstructured-client>=0.15.1->unstructured[all]) (2.0.7)\n",
            "Requirement already satisfied: soupsieve>1.2 in /usr/local/lib/python3.10/dist-packages (from beautifulsoup4->unstructured[all]) (2.5)\n",
            "Requirement already satisfied: click in /usr/local/lib/python3.10/dist-packages (from nltk->unstructured[all]) (8.1.7)\n",
            "Requirement already satisfied: joblib in /usr/local/lib/python3.10/dist-packages (from nltk->unstructured[all]) (1.3.2)\n",
            "Requirement already satisfied: regex>=2021.8.3 in /usr/local/lib/python3.10/dist-packages (from nltk->unstructured[all]) (2023.12.25)\n",
            "Requirement already satisfied: tqdm in /usr/local/lib/python3.10/dist-packages (from nltk->unstructured[all]) (4.66.1)\n",
            "Building wheels for collected packages: langdetect\n",
            "  Building wheel for langdetect (setup.py) ... \u001b[?25l\u001b[?25hdone\n",
            "  Created wheel for langdetect: filename=langdetect-1.0.9-py3-none-any.whl size=993225 sha256=e88c3803b3ecef773ab706ee9388c9d2f76d22185f927942f5a10930b10b3a4b\n",
            "  Stored in directory: /root/.cache/pip/wheels/95/03/7d/59ea870c70ce4e5a370638b5462a7711ab78fba2f655d05106\n",
            "Successfully built langdetect\n",
            "Installing collected packages: filetype, rapidfuzz, python-magic, python-iso639, mypy-extensions, marshmallow, langdetect, jsonpath-python, emoji, backoff, typing-inspect, dataclasses-json-speakeasy, dataclasses-json, unstructured-client, unstructured\n",
            "Successfully installed backoff-2.2.1 dataclasses-json-0.6.4 dataclasses-json-speakeasy-0.5.11 emoji-2.10.1 filetype-1.2.0 jsonpath-python-1.0.6 langdetect-1.0.9 marshmallow-3.20.2 mypy-extensions-1.0.0 python-iso639-2024.2.7 python-magic-0.4.27 rapidfuzz-3.6.1 typing-inspect-0.9.0 unstructured-0.12.4 unstructured-client-0.18.0\n"
          ]
        }
      ],
      "source": [
        " !pip install unstructured[all]"
      ]
    },
    {
      "cell_type": "code",
      "source": [
        "!pip install unstructured[pdf]"
      ],
      "metadata": {
        "colab": {
          "base_uri": "https://localhost:8080/",
          "height": 1000
        },
        "id": "UA0VEUq-QVjo",
        "outputId": "a9cda433-a126-4ac2-b225-e5c2bd141cbb"
      },
      "execution_count": null,
      "outputs": [
        {
          "output_type": "stream",
          "name": "stdout",
          "text": [
            "Requirement already satisfied: unstructured[pdf] in /usr/local/lib/python3.10/dist-packages (0.12.4)\n",
            "Requirement already satisfied: chardet in /usr/local/lib/python3.10/dist-packages (from unstructured[pdf]) (5.2.0)\n",
            "Requirement already satisfied: filetype in /usr/local/lib/python3.10/dist-packages (from unstructured[pdf]) (1.2.0)\n",
            "Requirement already satisfied: python-magic in /usr/local/lib/python3.10/dist-packages (from unstructured[pdf]) (0.4.27)\n",
            "Requirement already satisfied: lxml in /usr/local/lib/python3.10/dist-packages (from unstructured[pdf]) (4.9.4)\n",
            "Requirement already satisfied: nltk in /usr/local/lib/python3.10/dist-packages (from unstructured[pdf]) (3.8.1)\n",
            "Requirement already satisfied: tabulate in /usr/local/lib/python3.10/dist-packages (from unstructured[pdf]) (0.9.0)\n",
            "Requirement already satisfied: requests in /usr/local/lib/python3.10/dist-packages (from unstructured[pdf]) (2.31.0)\n",
            "Requirement already satisfied: beautifulsoup4 in /usr/local/lib/python3.10/dist-packages (from unstructured[pdf]) (4.12.3)\n",
            "Requirement already satisfied: emoji in /usr/local/lib/python3.10/dist-packages (from unstructured[pdf]) (2.10.1)\n",
            "Requirement already satisfied: dataclasses-json in /usr/local/lib/python3.10/dist-packages (from unstructured[pdf]) (0.6.4)\n",
            "Requirement already satisfied: python-iso639 in /usr/local/lib/python3.10/dist-packages (from unstructured[pdf]) (2024.2.7)\n",
            "Requirement already satisfied: langdetect in /usr/local/lib/python3.10/dist-packages (from unstructured[pdf]) (1.0.9)\n",
            "Requirement already satisfied: numpy in /usr/local/lib/python3.10/dist-packages (from unstructured[pdf]) (1.25.2)\n",
            "Requirement already satisfied: rapidfuzz in /usr/local/lib/python3.10/dist-packages (from unstructured[pdf]) (3.6.1)\n",
            "Requirement already satisfied: backoff in /usr/local/lib/python3.10/dist-packages (from unstructured[pdf]) (2.2.1)\n",
            "Requirement already satisfied: typing-extensions in /usr/local/lib/python3.10/dist-packages (from unstructured[pdf]) (4.9.0)\n",
            "Requirement already satisfied: unstructured-client>=0.15.1 in /usr/local/lib/python3.10/dist-packages (from unstructured[pdf]) (0.18.0)\n",
            "Requirement already satisfied: wrapt in /usr/local/lib/python3.10/dist-packages (from unstructured[pdf]) (1.14.1)\n",
            "Collecting onnx (from unstructured[pdf])\n",
            "  Downloading onnx-1.15.0-cp310-cp310-manylinux_2_17_x86_64.manylinux2014_x86_64.whl (15.7 MB)\n",
            "\u001b[2K     \u001b[90m━━━━━━━━━━━━━━━━━━━━━━━━━━━━━━━━━━━━━━━━\u001b[0m \u001b[32m15.7/15.7 MB\u001b[0m \u001b[31m24.9 MB/s\u001b[0m eta \u001b[36m0:00:00\u001b[0m\n",
            "\u001b[?25hCollecting pdf2image (from unstructured[pdf])\n",
            "  Downloading pdf2image-1.17.0-py3-none-any.whl (11 kB)\n",
            "Collecting pdfminer.six (from unstructured[pdf])\n",
            "  Downloading pdfminer.six-20231228-py3-none-any.whl (5.6 MB)\n",
            "\u001b[2K     \u001b[90m━━━━━━━━━━━━━━━━━━━━━━━━━━━━━━━━━━━━━━━━\u001b[0m \u001b[32m5.6/5.6 MB\u001b[0m \u001b[31m43.8 MB/s\u001b[0m eta \u001b[36m0:00:00\u001b[0m\n",
            "\u001b[?25hCollecting pikepdf (from unstructured[pdf])\n",
            "  Downloading pikepdf-8.12.0-cp310-cp310-manylinux_2_17_x86_64.manylinux2014_x86_64.whl (2.4 MB)\n",
            "\u001b[2K     \u001b[90m━━━━━━━━━━━━━━━━━━━━━━━━━━━━━━━━━━━━━━━━\u001b[0m \u001b[32m2.4/2.4 MB\u001b[0m \u001b[31m47.9 MB/s\u001b[0m eta \u001b[36m0:00:00\u001b[0m\n",
            "\u001b[?25hCollecting pillow-heif (from unstructured[pdf])\n",
            "  Downloading pillow_heif-0.15.0-cp310-cp310-manylinux_2_17_x86_64.manylinux2014_x86_64.whl (7.5 MB)\n",
            "\u001b[2K     \u001b[90m━━━━━━━━━━━━━━━━━━━━━━━━━━━━━━━━━━━━━━━━\u001b[0m \u001b[32m7.5/7.5 MB\u001b[0m \u001b[31m52.5 MB/s\u001b[0m eta \u001b[36m0:00:00\u001b[0m\n",
            "\u001b[?25hCollecting pypdf (from unstructured[pdf])\n",
            "  Downloading pypdf-4.0.1-py3-none-any.whl (283 kB)\n",
            "\u001b[2K     \u001b[90m━━━━━━━━━━━━━━━━━━━━━━━━━━━━━━━━━━━━━━━━\u001b[0m \u001b[32m284.0/284.0 kB\u001b[0m \u001b[31m25.2 MB/s\u001b[0m eta \u001b[36m0:00:00\u001b[0m\n",
            "\u001b[?25hCollecting unstructured-inference==0.7.23 (from unstructured[pdf])\n",
            "  Downloading unstructured_inference-0.7.23-py3-none-any.whl (60 kB)\n",
            "\u001b[2K     \u001b[90m━━━━━━━━━━━━━━━━━━━━━━━━━━━━━━━━━━━━━━━━\u001b[0m \u001b[32m60.1/60.1 kB\u001b[0m \u001b[31m7.0 MB/s\u001b[0m eta \u001b[36m0:00:00\u001b[0m\n",
            "\u001b[?25hCollecting unstructured.pytesseract>=0.3.12 (from unstructured[pdf])\n",
            "  Downloading unstructured.pytesseract-0.3.12-py3-none-any.whl (14 kB)\n",
            "Collecting layoutparser[layoutmodels,tesseract] (from unstructured-inference==0.7.23->unstructured[pdf])\n",
            "  Downloading layoutparser-0.3.4-py3-none-any.whl (19.2 MB)\n",
            "\u001b[2K     \u001b[90m━━━━━━━━━━━━━━━━━━━━━━━━━━━━━━━━━━━━━━━━\u001b[0m \u001b[32m19.2/19.2 MB\u001b[0m \u001b[31m30.3 MB/s\u001b[0m eta \u001b[36m0:00:00\u001b[0m\n",
            "\u001b[?25hCollecting python-multipart (from unstructured-inference==0.7.23->unstructured[pdf])\n",
            "  Downloading python_multipart-0.0.9-py3-none-any.whl (22 kB)\n",
            "Requirement already satisfied: huggingface-hub in /usr/local/lib/python3.10/dist-packages (from unstructured-inference==0.7.23->unstructured[pdf]) (0.20.3)\n",
            "Requirement already satisfied: opencv-python!=4.7.0.68 in /usr/local/lib/python3.10/dist-packages (from unstructured-inference==0.7.23->unstructured[pdf]) (4.8.0.76)\n",
            "Collecting onnxruntime<1.16 (from unstructured-inference==0.7.23->unstructured[pdf])\n",
            "  Downloading onnxruntime-1.15.1-cp310-cp310-manylinux_2_17_x86_64.manylinux2014_x86_64.whl (5.9 MB)\n",
            "\u001b[2K     \u001b[90m━━━━━━━━━━━━━━━━━━━━━━━━━━━━━━━━━━━━━━━━\u001b[0m \u001b[32m5.9/5.9 MB\u001b[0m \u001b[31m73.5 MB/s\u001b[0m eta \u001b[36m0:00:00\u001b[0m\n",
            "\u001b[?25hRequirement already satisfied: transformers>=4.25.1 in /usr/local/lib/python3.10/dist-packages (from unstructured-inference==0.7.23->unstructured[pdf]) (4.35.2)\n",
            "Requirement already satisfied: certifi>=2023.7.22 in /usr/local/lib/python3.10/dist-packages (from unstructured-client>=0.15.1->unstructured[pdf]) (2024.2.2)\n",
            "Requirement already satisfied: charset-normalizer>=3.2.0 in /usr/local/lib/python3.10/dist-packages (from unstructured-client>=0.15.1->unstructured[pdf]) (3.3.2)\n",
            "Requirement already satisfied: dataclasses-json-speakeasy>=0.5.11 in /usr/local/lib/python3.10/dist-packages (from unstructured-client>=0.15.1->unstructured[pdf]) (0.5.11)\n",
            "Requirement already satisfied: idna>=3.4 in /usr/local/lib/python3.10/dist-packages (from unstructured-client>=0.15.1->unstructured[pdf]) (3.6)\n",
            "Requirement already satisfied: jsonpath-python>=1.0.6 in /usr/local/lib/python3.10/dist-packages (from unstructured-client>=0.15.1->unstructured[pdf]) (1.0.6)\n",
            "Requirement already satisfied: marshmallow>=3.19.0 in /usr/local/lib/python3.10/dist-packages (from unstructured-client>=0.15.1->unstructured[pdf]) (3.20.2)\n",
            "Requirement already satisfied: mypy-extensions>=1.0.0 in /usr/local/lib/python3.10/dist-packages (from unstructured-client>=0.15.1->unstructured[pdf]) (1.0.0)\n",
            "Requirement already satisfied: packaging>=23.1 in /usr/local/lib/python3.10/dist-packages (from unstructured-client>=0.15.1->unstructured[pdf]) (23.2)\n",
            "Requirement already satisfied: python-dateutil>=2.8.2 in /usr/local/lib/python3.10/dist-packages (from unstructured-client>=0.15.1->unstructured[pdf]) (2.8.2)\n",
            "Requirement already satisfied: six>=1.16.0 in /usr/local/lib/python3.10/dist-packages (from unstructured-client>=0.15.1->unstructured[pdf]) (1.16.0)\n",
            "Requirement already satisfied: typing-inspect>=0.9.0 in /usr/local/lib/python3.10/dist-packages (from unstructured-client>=0.15.1->unstructured[pdf]) (0.9.0)\n",
            "Requirement already satisfied: urllib3>=1.26.18 in /usr/local/lib/python3.10/dist-packages (from unstructured-client>=0.15.1->unstructured[pdf]) (2.0.7)\n",
            "Requirement already satisfied: Pillow>=8.0.0 in /usr/local/lib/python3.10/dist-packages (from unstructured.pytesseract>=0.3.12->unstructured[pdf]) (9.4.0)\n",
            "Requirement already satisfied: soupsieve>1.2 in /usr/local/lib/python3.10/dist-packages (from beautifulsoup4->unstructured[pdf]) (2.5)\n",
            "Requirement already satisfied: click in /usr/local/lib/python3.10/dist-packages (from nltk->unstructured[pdf]) (8.1.7)\n",
            "Requirement already satisfied: joblib in /usr/local/lib/python3.10/dist-packages (from nltk->unstructured[pdf]) (1.3.2)\n",
            "Requirement already satisfied: regex>=2021.8.3 in /usr/local/lib/python3.10/dist-packages (from nltk->unstructured[pdf]) (2023.12.25)\n",
            "Requirement already satisfied: tqdm in /usr/local/lib/python3.10/dist-packages (from nltk->unstructured[pdf]) (4.66.1)\n",
            "Requirement already satisfied: protobuf>=3.20.2 in /usr/local/lib/python3.10/dist-packages (from onnx->unstructured[pdf]) (3.20.3)\n",
            "Requirement already satisfied: cryptography>=36.0.0 in /usr/local/lib/python3.10/dist-packages (from pdfminer.six->unstructured[pdf]) (42.0.2)\n",
            "Collecting Pillow>=8.0.0 (from unstructured.pytesseract>=0.3.12->unstructured[pdf])\n",
            "  Downloading pillow-10.2.0-cp310-cp310-manylinux_2_28_x86_64.whl (4.5 MB)\n",
            "\u001b[2K     \u001b[90m━━━━━━━━━━━━━━━━━━━━━━━━━━━━━━━━━━━━━━━━\u001b[0m \u001b[32m4.5/4.5 MB\u001b[0m \u001b[31m72.8 MB/s\u001b[0m eta \u001b[36m0:00:00\u001b[0m\n",
            "\u001b[?25hCollecting Deprecated (from pikepdf->unstructured[pdf])\n",
            "  Downloading Deprecated-1.2.14-py2.py3-none-any.whl (9.6 kB)\n",
            "Requirement already satisfied: cffi>=1.12 in /usr/local/lib/python3.10/dist-packages (from cryptography>=36.0.0->pdfminer.six->unstructured[pdf]) (1.16.0)\n",
            "Collecting coloredlogs (from onnxruntime<1.16->unstructured-inference==0.7.23->unstructured[pdf])\n",
            "  Downloading coloredlogs-15.0.1-py2.py3-none-any.whl (46 kB)\n",
            "\u001b[2K     \u001b[90m━━━━━━━━━━━━━━━━━━━━━━━━━━━━━━━━━━━━━━━━\u001b[0m \u001b[32m46.0/46.0 kB\u001b[0m \u001b[31m4.6 MB/s\u001b[0m eta \u001b[36m0:00:00\u001b[0m\n",
            "\u001b[?25hRequirement already satisfied: flatbuffers in /usr/local/lib/python3.10/dist-packages (from onnxruntime<1.16->unstructured-inference==0.7.23->unstructured[pdf]) (23.5.26)\n",
            "Requirement already satisfied: sympy in /usr/local/lib/python3.10/dist-packages (from onnxruntime<1.16->unstructured-inference==0.7.23->unstructured[pdf]) (1.12)\n",
            "Requirement already satisfied: filelock in /usr/local/lib/python3.10/dist-packages (from transformers>=4.25.1->unstructured-inference==0.7.23->unstructured[pdf]) (3.13.1)\n",
            "Requirement already satisfied: pyyaml>=5.1 in /usr/local/lib/python3.10/dist-packages (from transformers>=4.25.1->unstructured-inference==0.7.23->unstructured[pdf]) (6.0.1)\n",
            "Requirement already satisfied: tokenizers<0.19,>=0.14 in /usr/local/lib/python3.10/dist-packages (from transformers>=4.25.1->unstructured-inference==0.7.23->unstructured[pdf]) (0.15.1)\n",
            "Requirement already satisfied: safetensors>=0.3.1 in /usr/local/lib/python3.10/dist-packages (from transformers>=4.25.1->unstructured-inference==0.7.23->unstructured[pdf]) (0.4.2)\n",
            "Requirement already satisfied: fsspec>=2023.5.0 in /usr/local/lib/python3.10/dist-packages (from huggingface-hub->unstructured-inference==0.7.23->unstructured[pdf]) (2023.6.0)\n",
            "Requirement already satisfied: scipy in /usr/local/lib/python3.10/dist-packages (from layoutparser[layoutmodels,tesseract]->unstructured-inference==0.7.23->unstructured[pdf]) (1.11.4)\n",
            "Requirement already satisfied: pandas in /usr/local/lib/python3.10/dist-packages (from layoutparser[layoutmodels,tesseract]->unstructured-inference==0.7.23->unstructured[pdf]) (1.5.3)\n",
            "Collecting iopath (from layoutparser[layoutmodels,tesseract]->unstructured-inference==0.7.23->unstructured[pdf])\n",
            "  Downloading iopath-0.1.10.tar.gz (42 kB)\n",
            "\u001b[2K     \u001b[90m━━━━━━━━━━━━━━━━━━━━━━━━━━━━━━━━━━━━━━━━\u001b[0m \u001b[32m42.2/42.2 kB\u001b[0m \u001b[31m4.7 MB/s\u001b[0m eta \u001b[36m0:00:00\u001b[0m\n",
            "\u001b[?25h  Preparing metadata (setup.py) ... \u001b[?25l\u001b[?25hdone\n",
            "Collecting pdfplumber (from layoutparser[layoutmodels,tesseract]->unstructured-inference==0.7.23->unstructured[pdf])\n",
            "  Downloading pdfplumber-0.10.4-py3-none-any.whl (54 kB)\n",
            "\u001b[2K     \u001b[90m━━━━━━━━━━━━━━━━━━━━━━━━━━━━━━━━━━━━━━━━\u001b[0m \u001b[32m54.7/54.7 kB\u001b[0m \u001b[31m6.2 MB/s\u001b[0m eta \u001b[36m0:00:00\u001b[0m\n",
            "\u001b[?25hRequirement already satisfied: torch in /usr/local/lib/python3.10/dist-packages (from layoutparser[layoutmodels,tesseract]->unstructured-inference==0.7.23->unstructured[pdf]) (2.1.0+cu121)\n",
            "Requirement already satisfied: torchvision in /usr/local/lib/python3.10/dist-packages (from layoutparser[layoutmodels,tesseract]->unstructured-inference==0.7.23->unstructured[pdf]) (0.16.0+cu121)\n",
            "Collecting effdet (from layoutparser[layoutmodels,tesseract]->unstructured-inference==0.7.23->unstructured[pdf])\n",
            "  Downloading effdet-0.4.1-py3-none-any.whl (112 kB)\n",
            "\u001b[2K     \u001b[90m━━━━━━━━━━━━━━━━━━━━━━━━━━━━━━━━━━━━━━━━\u001b[0m \u001b[32m112.5/112.5 kB\u001b[0m \u001b[31m12.4 MB/s\u001b[0m eta \u001b[36m0:00:00\u001b[0m\n",
            "\u001b[?25hCollecting pytesseract (from layoutparser[layoutmodels,tesseract]->unstructured-inference==0.7.23->unstructured[pdf])\n",
            "  Downloading pytesseract-0.3.10-py3-none-any.whl (14 kB)\n",
            "Requirement already satisfied: pycparser in /usr/local/lib/python3.10/dist-packages (from cffi>=1.12->cryptography>=36.0.0->pdfminer.six->unstructured[pdf]) (2.21)\n",
            "Collecting humanfriendly>=9.1 (from coloredlogs->onnxruntime<1.16->unstructured-inference==0.7.23->unstructured[pdf])\n",
            "  Downloading humanfriendly-10.0-py2.py3-none-any.whl (86 kB)\n",
            "\u001b[2K     \u001b[90m━━━━━━━━━━━━━━━━━━━━━━━━━━━━━━━━━━━━━━━━\u001b[0m \u001b[32m86.8/86.8 kB\u001b[0m \u001b[31m9.2 MB/s\u001b[0m eta \u001b[36m0:00:00\u001b[0m\n",
            "\u001b[?25hCollecting timm>=0.9.2 (from effdet->layoutparser[layoutmodels,tesseract]->unstructured-inference==0.7.23->unstructured[pdf])\n",
            "  Downloading timm-0.9.12-py3-none-any.whl (2.2 MB)\n",
            "\u001b[2K     \u001b[90m━━━━━━━━━━━━━━━━━━━━━━━━━━━━━━━━━━━━━━━━\u001b[0m \u001b[32m2.2/2.2 MB\u001b[0m \u001b[31m54.3 MB/s\u001b[0m eta \u001b[36m0:00:00\u001b[0m\n",
            "\u001b[?25hRequirement already satisfied: pycocotools>=2.0.2 in /usr/local/lib/python3.10/dist-packages (from effdet->layoutparser[layoutmodels,tesseract]->unstructured-inference==0.7.23->unstructured[pdf]) (2.0.7)\n",
            "Collecting omegaconf>=2.0 (from effdet->layoutparser[layoutmodels,tesseract]->unstructured-inference==0.7.23->unstructured[pdf])\n",
            "  Downloading omegaconf-2.3.0-py3-none-any.whl (79 kB)\n",
            "\u001b[2K     \u001b[90m━━━━━━━━━━━━━━━━━━━━━━━━━━━━━━━━━━━━━━━━\u001b[0m \u001b[32m79.5/79.5 kB\u001b[0m \u001b[31m9.4 MB/s\u001b[0m eta \u001b[36m0:00:00\u001b[0m\n",
            "\u001b[?25hRequirement already satisfied: networkx in /usr/local/lib/python3.10/dist-packages (from torch->layoutparser[layoutmodels,tesseract]->unstructured-inference==0.7.23->unstructured[pdf]) (3.2.1)\n",
            "Requirement already satisfied: jinja2 in /usr/local/lib/python3.10/dist-packages (from torch->layoutparser[layoutmodels,tesseract]->unstructured-inference==0.7.23->unstructured[pdf]) (3.1.3)\n",
            "Requirement already satisfied: triton==2.1.0 in /usr/local/lib/python3.10/dist-packages (from torch->layoutparser[layoutmodels,tesseract]->unstructured-inference==0.7.23->unstructured[pdf]) (2.1.0)\n",
            "Collecting portalocker (from iopath->layoutparser[layoutmodels,tesseract]->unstructured-inference==0.7.23->unstructured[pdf])\n",
            "  Downloading portalocker-2.8.2-py3-none-any.whl (17 kB)\n",
            "Requirement already satisfied: pytz>=2020.1 in /usr/local/lib/python3.10/dist-packages (from pandas->layoutparser[layoutmodels,tesseract]->unstructured-inference==0.7.23->unstructured[pdf]) (2023.4)\n",
            "Collecting pdfminer.six (from unstructured[pdf])\n",
            "  Downloading pdfminer.six-20221105-py3-none-any.whl (5.6 MB)\n",
            "\u001b[2K     \u001b[90m━━━━━━━━━━━━━━━━━━━━━━━━━━━━━━━━━━━━━━━━\u001b[0m \u001b[32m5.6/5.6 MB\u001b[0m \u001b[31m58.9 MB/s\u001b[0m eta \u001b[36m0:00:00\u001b[0m\n",
            "\u001b[?25hCollecting pypdfium2>=4.18.0 (from pdfplumber->layoutparser[layoutmodels,tesseract]->unstructured-inference==0.7.23->unstructured[pdf])\n",
            "  Downloading pypdfium2-4.27.0-py3-none-manylinux_2_17_x86_64.manylinux2014_x86_64.whl (2.8 MB)\n",
            "\u001b[2K     \u001b[90m━━━━━━━━━━━━━━━━━━━━━━━━━━━━━━━━━━━━━━━━\u001b[0m \u001b[32m2.8/2.8 MB\u001b[0m \u001b[31m61.5 MB/s\u001b[0m eta \u001b[36m0:00:00\u001b[0m\n",
            "\u001b[?25hRequirement already satisfied: mpmath>=0.19 in /usr/local/lib/python3.10/dist-packages (from sympy->onnxruntime<1.16->unstructured-inference==0.7.23->unstructured[pdf]) (1.3.0)\n",
            "Collecting antlr4-python3-runtime==4.9.* (from omegaconf>=2.0->effdet->layoutparser[layoutmodels,tesseract]->unstructured-inference==0.7.23->unstructured[pdf])\n",
            "  Downloading antlr4-python3-runtime-4.9.3.tar.gz (117 kB)\n",
            "\u001b[2K     \u001b[90m━━━━━━━━━━━━━━━━━━━━━━━━━━━━━━━━━━━━━━━━\u001b[0m \u001b[32m117.0/117.0 kB\u001b[0m \u001b[31m12.4 MB/s\u001b[0m eta \u001b[36m0:00:00\u001b[0m\n",
            "\u001b[?25h  Preparing metadata (setup.py) ... \u001b[?25l\u001b[?25hdone\n",
            "Requirement already satisfied: matplotlib>=2.1.0 in /usr/local/lib/python3.10/dist-packages (from pycocotools>=2.0.2->effdet->layoutparser[layoutmodels,tesseract]->unstructured-inference==0.7.23->unstructured[pdf]) (3.7.1)\n",
            "Requirement already satisfied: MarkupSafe>=2.0 in /usr/local/lib/python3.10/dist-packages (from jinja2->torch->layoutparser[layoutmodels,tesseract]->unstructured-inference==0.7.23->unstructured[pdf]) (2.1.5)\n",
            "Requirement already satisfied: contourpy>=1.0.1 in /usr/local/lib/python3.10/dist-packages (from matplotlib>=2.1.0->pycocotools>=2.0.2->effdet->layoutparser[layoutmodels,tesseract]->unstructured-inference==0.7.23->unstructured[pdf]) (1.2.0)\n",
            "Requirement already satisfied: cycler>=0.10 in /usr/local/lib/python3.10/dist-packages (from matplotlib>=2.1.0->pycocotools>=2.0.2->effdet->layoutparser[layoutmodels,tesseract]->unstructured-inference==0.7.23->unstructured[pdf]) (0.12.1)\n",
            "Requirement already satisfied: fonttools>=4.22.0 in /usr/local/lib/python3.10/dist-packages (from matplotlib>=2.1.0->pycocotools>=2.0.2->effdet->layoutparser[layoutmodels,tesseract]->unstructured-inference==0.7.23->unstructured[pdf]) (4.48.1)\n",
            "Requirement already satisfied: kiwisolver>=1.0.1 in /usr/local/lib/python3.10/dist-packages (from matplotlib>=2.1.0->pycocotools>=2.0.2->effdet->layoutparser[layoutmodels,tesseract]->unstructured-inference==0.7.23->unstructured[pdf]) (1.4.5)\n",
            "Requirement already satisfied: pyparsing>=2.3.1 in /usr/local/lib/python3.10/dist-packages (from matplotlib>=2.1.0->pycocotools>=2.0.2->effdet->layoutparser[layoutmodels,tesseract]->unstructured-inference==0.7.23->unstructured[pdf]) (3.1.1)\n",
            "Building wheels for collected packages: iopath, antlr4-python3-runtime\n",
            "  Building wheel for iopath (setup.py) ... \u001b[?25l\u001b[?25hdone\n",
            "  Created wheel for iopath: filename=iopath-0.1.10-py3-none-any.whl size=31532 sha256=bc01a45073de9c45b2b7890c52f31198b96348261210d4590656dbaeea7d3292\n",
            "  Stored in directory: /root/.cache/pip/wheels/9a/a3/b6/ac0fcd1b4ed5cfeb3db92e6a0e476cfd48ed0df92b91080c1d\n",
            "  Building wheel for antlr4-python3-runtime (setup.py) ... \u001b[?25l\u001b[?25hdone\n",
            "  Created wheel for antlr4-python3-runtime: filename=antlr4_python3_runtime-4.9.3-py3-none-any.whl size=144554 sha256=36ca5e82ea8fbecefab0f4a716d6194d6ce9bc45afb0178e2c7e6da3cea845c0\n",
            "  Stored in directory: /root/.cache/pip/wheels/12/93/dd/1f6a127edc45659556564c5730f6d4e300888f4bca2d4c5a88\n",
            "Successfully built iopath antlr4-python3-runtime\n",
            "Installing collected packages: antlr4-python3-runtime, python-multipart, pypdfium2, pypdf, portalocker, Pillow, onnx, omegaconf, humanfriendly, Deprecated, unstructured.pytesseract, pytesseract, pillow-heif, pikepdf, pdf2image, iopath, coloredlogs, pdfminer.six, onnxruntime, timm, pdfplumber, layoutparser, effdet, unstructured-inference\n",
            "  Attempting uninstall: Pillow\n",
            "    Found existing installation: Pillow 9.4.0\n",
            "    Uninstalling Pillow-9.4.0:\n",
            "      Successfully uninstalled Pillow-9.4.0\n",
            "\u001b[31mERROR: pip's dependency resolver does not currently take into account all the packages that are installed. This behaviour is the source of the following dependency conflicts.\n",
            "lida 0.0.10 requires fastapi, which is not installed.\n",
            "lida 0.0.10 requires kaleido, which is not installed.\n",
            "lida 0.0.10 requires uvicorn, which is not installed.\n",
            "imageio 2.31.6 requires pillow<10.1.0,>=8.3.2, but you have pillow 10.2.0 which is incompatible.\u001b[0m\u001b[31m\n",
            "\u001b[0mSuccessfully installed Deprecated-1.2.14 Pillow-10.2.0 antlr4-python3-runtime-4.9.3 coloredlogs-15.0.1 effdet-0.4.1 humanfriendly-10.0 iopath-0.1.10 layoutparser-0.3.4 omegaconf-2.3.0 onnx-1.15.0 onnxruntime-1.15.1 pdf2image-1.17.0 pdfminer.six-20221105 pdfplumber-0.10.4 pikepdf-8.12.0 pillow-heif-0.15.0 portalocker-2.8.2 pypdf-4.0.1 pypdfium2-4.27.0 pytesseract-0.3.10 python-multipart-0.0.9 timm-0.9.12 unstructured-inference-0.7.23 unstructured.pytesseract-0.3.12\n"
          ]
        },
        {
          "output_type": "display_data",
          "data": {
            "application/vnd.colab-display-data+json": {
              "pip_warning": {
                "packages": [
                  "PIL",
                  "pydevd_plugins"
                ]
              }
            }
          },
          "metadata": {}
        }
      ]
    },
    {
      "cell_type": "code",
      "source": [
        "!sudo apt-get install poppler-utils"
      ],
      "metadata": {
        "colab": {
          "base_uri": "https://localhost:8080/"
        },
        "id": "egiwc39AQ2fL",
        "outputId": "8761cb35-4d32-4347-db00-1c15a11fbfdd"
      },
      "execution_count": null,
      "outputs": [
        {
          "output_type": "stream",
          "name": "stdout",
          "text": [
            "Reading package lists... Done\n",
            "Building dependency tree... Done\n",
            "Reading state information... Done\n",
            "The following NEW packages will be installed:\n",
            "  poppler-utils\n",
            "0 upgraded, 1 newly installed, 0 to remove and 33 not upgraded.\n",
            "Need to get 186 kB of archives.\n",
            "After this operation, 696 kB of additional disk space will be used.\n",
            "Get:1 http://archive.ubuntu.com/ubuntu jammy-updates/main amd64 poppler-utils amd64 22.02.0-2ubuntu0.3 [186 kB]\n",
            "Fetched 186 kB in 1s (293 kB/s)\n",
            "debconf: unable to initialize frontend: Dialog\n",
            "debconf: (No usable dialog-like program is installed, so the dialog based frontend cannot be used. at /usr/share/perl5/Debconf/FrontEnd/Dialog.pm line 78, <> line 1.)\n",
            "debconf: falling back to frontend: Readline\n",
            "debconf: unable to initialize frontend: Readline\n",
            "debconf: (This frontend requires a controlling tty.)\n",
            "debconf: falling back to frontend: Teletype\n",
            "dpkg-preconfigure: unable to re-open stdin: \n",
            "Selecting previously unselected package poppler-utils.\n",
            "(Reading database ... 121749 files and directories currently installed.)\n",
            "Preparing to unpack .../poppler-utils_22.02.0-2ubuntu0.3_amd64.deb ...\n",
            "Unpacking poppler-utils (22.02.0-2ubuntu0.3) ...\n",
            "Setting up poppler-utils (22.02.0-2ubuntu0.3) ...\n",
            "Processing triggers for man-db (2.10.2-1) ...\n"
          ]
        }
      ]
    },
    {
      "cell_type": "code",
      "source": [
        "!pip install pytesseract"
      ],
      "metadata": {
        "colab": {
          "base_uri": "https://localhost:8080/"
        },
        "id": "UG_JtlJMQ-ET",
        "outputId": "e99ad93f-fe06-4a28-af2f-c866aca3df34"
      },
      "execution_count": null,
      "outputs": [
        {
          "output_type": "stream",
          "name": "stdout",
          "text": [
            "Requirement already satisfied: pytesseract in /usr/local/lib/python3.10/dist-packages (0.3.10)\n",
            "Requirement already satisfied: packaging>=21.3 in /usr/local/lib/python3.10/dist-packages (from pytesseract) (23.2)\n",
            "Requirement already satisfied: Pillow>=8.0.0 in /usr/local/lib/python3.10/dist-packages (from pytesseract) (10.2.0)\n"
          ]
        }
      ]
    },
    {
      "cell_type": "code",
      "source": [
        "!sudo apt install tesseract-ocr"
      ],
      "metadata": {
        "colab": {
          "base_uri": "https://localhost:8080/"
        },
        "id": "hJ4ZadKiRNAW",
        "outputId": "e30110c1-6ee4-457e-b672-001f592ea907"
      },
      "execution_count": null,
      "outputs": [
        {
          "output_type": "stream",
          "name": "stdout",
          "text": [
            "Reading package lists... Done\n",
            "Building dependency tree... Done\n",
            "Reading state information... Done\n",
            "The following additional packages will be installed:\n",
            "  tesseract-ocr-eng tesseract-ocr-osd\n",
            "The following NEW packages will be installed:\n",
            "  tesseract-ocr tesseract-ocr-eng tesseract-ocr-osd\n",
            "0 upgraded, 3 newly installed, 0 to remove and 33 not upgraded.\n",
            "Need to get 4,816 kB of archives.\n",
            "After this operation, 15.6 MB of additional disk space will be used.\n",
            "Get:1 http://archive.ubuntu.com/ubuntu jammy/universe amd64 tesseract-ocr-eng all 1:4.00~git30-7274cfa-1.1 [1,591 kB]\n",
            "Get:2 http://archive.ubuntu.com/ubuntu jammy/universe amd64 tesseract-ocr-osd all 1:4.00~git30-7274cfa-1.1 [2,990 kB]\n",
            "Get:3 http://archive.ubuntu.com/ubuntu jammy/universe amd64 tesseract-ocr amd64 4.1.1-2.1build1 [236 kB]\n",
            "Fetched 4,816 kB in 1s (4,070 kB/s)\n",
            "debconf: unable to initialize frontend: Dialog\n",
            "debconf: (No usable dialog-like program is installed, so the dialog based frontend cannot be used. at /usr/share/perl5/Debconf/FrontEnd/Dialog.pm line 78, <> line 3.)\n",
            "debconf: falling back to frontend: Readline\n",
            "debconf: unable to initialize frontend: Readline\n",
            "debconf: (This frontend requires a controlling tty.)\n",
            "debconf: falling back to frontend: Teletype\n",
            "dpkg-preconfigure: unable to re-open stdin: \n",
            "Selecting previously unselected package tesseract-ocr-eng.\n",
            "(Reading database ... 121779 files and directories currently installed.)\n",
            "Preparing to unpack .../tesseract-ocr-eng_1%3a4.00~git30-7274cfa-1.1_all.deb ...\n",
            "Unpacking tesseract-ocr-eng (1:4.00~git30-7274cfa-1.1) ...\n",
            "Selecting previously unselected package tesseract-ocr-osd.\n",
            "Preparing to unpack .../tesseract-ocr-osd_1%3a4.00~git30-7274cfa-1.1_all.deb ...\n",
            "Unpacking tesseract-ocr-osd (1:4.00~git30-7274cfa-1.1) ...\n",
            "Selecting previously unselected package tesseract-ocr.\n",
            "Preparing to unpack .../tesseract-ocr_4.1.1-2.1build1_amd64.deb ...\n",
            "Unpacking tesseract-ocr (4.1.1-2.1build1) ...\n",
            "Setting up tesseract-ocr-eng (1:4.00~git30-7274cfa-1.1) ...\n",
            "Setting up tesseract-ocr-osd (1:4.00~git30-7274cfa-1.1) ...\n",
            "Setting up tesseract-ocr (4.1.1-2.1build1) ...\n",
            "Processing triggers for man-db (2.10.2-1) ...\n"
          ]
        }
      ]
    },
    {
      "cell_type": "code",
      "source": [
        "from unstructured.partition.pdf import partition_pdf\n",
        "\n",
        "ansdf = partition_pdf(\"/content/Testpdfs/session11soln.pdf\",strategy=\"hi_res\",include_page_breaks=True)\n",
        "quesdf = partition_pdf(\"/content/Testpdfs/session11test.pdf\",strategy=\"hi_res\",include_page_breaks=True)"
      ],
      "metadata": {
        "colab": {
          "base_uri": "https://localhost:8080/"
        },
        "id": "JIAtKEhWP_X-",
        "outputId": "49900d0d-fa7b-4655-a021-c0b760c580b2"
      },
      "execution_count": null,
      "outputs": [
        {
          "output_type": "stream",
          "name": "stderr",
          "text": [
            "WARNING:unstructured:This function will be deprecated in a future release and `unstructured` will simply use the DEFAULT_MODEL from `unstructured_inference.model.base` to set default model name\n",
            "WARNING:unstructured:This function will be deprecated in a future release and `unstructured` will simply use the DEFAULT_MODEL from `unstructured_inference.model.base` to set default model name\n"
          ]
        }
      ]
    },
    {
      "cell_type": "code",
      "source": [
        "# '--' to '-'\n",
        "import re\n",
        "for ques in quesdf:\n",
        "    d = ques.to_dict()\n",
        "    # txt = re.sub('\\t\\r','',d['text'])\n",
        "    txt = re.sub('-‐','-',d['text'])\n",
        "    print(d['type'])\n",
        "    print(d['text'])\n",
        "    print('-'*100)"
      ],
      "metadata": {
        "colab": {
          "base_uri": "https://localhost:8080/"
        },
        "id": "5sd8pmqRQS9I",
        "outputId": "1173ebf3-8b8f-4b95-daba-d885866ab7b7"
      },
      "execution_count": null,
      "outputs": [
        {
          "output_type": "stream",
          "name": "stdout",
          "text": [
            "Title\n",
            "Session 11: Post Class tests\n",
            "----------------------------------------------------------------------------------------------------\n",
            "ListItem\n",
            "1. Publicly traded companies often accumulate cash that is usually invested in riskless, liquid securities that yield low returns. Which of the following is a good reason for punishing companies that hold cash (by discounting the cash)?\n",
            "----------------------------------------------------------------------------------------------------\n",
            "NarrativeText\n",
            "a. The cash earns a lower rate of return than the cost of equity b. The cash earns a lower rate of return than investments in operating\n",
            "----------------------------------------------------------------------------------------------------\n",
            "ListItem\n",
            "assets\n",
            "----------------------------------------------------------------------------------------------------\n",
            "NarrativeText\n",
            "c. Investors can earn a higher return on the cash, if it was returned to them. d. The company has a good track record on operating investments and you\n",
            "----------------------------------------------------------------------------------------------------\n",
            "ListItem\n",
            "are afraid that the company will not invest the cash\n",
            "----------------------------------------------------------------------------------------------------\n",
            "ListItem\n",
            "e. The company has a bad track record on operating investments and you are afraid that the company will invest the cash\n",
            "----------------------------------------------------------------------------------------------------\n",
            "ListItem\n",
            "2. Genesis is a closed end mutual fund, with $250 million invested in publicly traded securities (net asset value). The fund is an average risk fund (beta = 1) and has earned an annual return of 9% over the last 5 years; the market return over the period was 12%. If you expect the market return in the future to be 8% and Genesis to continue under performing the market by the same amount as it has for the last 5 years, estimate the discount that the fund will trade at (assuming no growth in the fund, in perpetuity).\n",
            "----------------------------------------------------------------------------------------------------\n",
            "UncategorizedText\n",
            "a. 25% b. 37.5% c. 11.1% d. 58.33% e. None of the above\n",
            "----------------------------------------------------------------------------------------------------\n",
            "ListItem\n",
            "3. Pagano Holdings is a publicly traded company with a 10% minority holding in Gigante Enterprises. You have discounted Pagano’s free cash to the firm back at Pagano’s cost of capital and arrived at a value of $250 million for Pagano’s equity. Assume that Gigante Holdings has an aggregate book value of equity of $100 million and that you estimate the “intrinsic” value of its equity to be $200 million. Estimate the value of equity for Pagano Holdings.\n",
            "----------------------------------------------------------------------------------------------------\n",
            "NarrativeText\n",
            "a. $250 million b. $260 million c. $240 million d. $270 million e. $230 million\n",
            "----------------------------------------------------------------------------------------------------\n",
            "ListItem\n",
            "4. Nowitzki Inc. is a publicly traded company that owns 60% of Bowden Inc, another publicly traded firm. You have valued the operating assets of Nowitzki by discounting the cash flows (from Pagano’s consolidated financials) at the cost of capital to arrive at a value of $1 billion for the operating assets. Nowitzki reports debt of $200 million and cash of $100 million on its consolidated balance sheet. While Nowitzki also shows a minority interest of $120 million on the balance sheet, you believe that the intrinsic value of all of Bowden’s equity is closer to $500 million. Estimate the value of equity for Nowitzki.\n",
            "----------------------------------------------------------------------------------------------------\n",
            "NarrativeText\n",
            "a. $700 million b. $1.1 billion\n",
            "----------------------------------------------------------------------------------------------------\n",
            "PageBreak\n",
            "\n",
            "----------------------------------------------------------------------------------------------------\n",
            "Title\n",
            "c. $880 million d. $1,120 million e. $ 600 million\n",
            "----------------------------------------------------------------------------------------------------\n",
            "ListItem\n",
            "5. You have finished a discounted cash flow valuation of a company, discounting free cash flows to the firm at the cost of capital to arrive at a value of $ 2 billion. You have also valued individual assets on the company’s balance sheet. Which of the following assets would you add to your estimated value to arrive at the value of the overall business?\n",
            "----------------------------------------------------------------------------------------------------\n",
            "NarrativeText\n",
            "a. Goodwill of $500 million b. Brand name value of $ 300 million c. Value of property, plant & equipment (manufacturing facilities) of $ 600\n",
            "----------------------------------------------------------------------------------------------------\n",
            "ListItem\n",
            "million\n",
            "----------------------------------------------------------------------------------------------------\n",
            "UncategorizedText\n",
            "d. Value of real estate (headquarters building) of $200 million e. None of the above\n",
            "----------------------------------------------------------------------------------------------------\n"
          ]
        }
      ]
    },
    {
      "cell_type": "code",
      "source": [
        "import re\n",
        "for ques in ansdf:\n",
        "    d = ques.to_dict()\n",
        "    # txt = re.sub('\\t\\r','',d['text'])\n",
        "    txt = re.sub('-‐','-',d['text'])\n",
        "    print(d['type'])\n",
        "    print(d['text'])\n",
        "    print('-'*100)"
      ],
      "metadata": {
        "colab": {
          "base_uri": "https://localhost:8080/"
        },
        "id": "tb6SkPuOSLaK",
        "outputId": "a10068d9-358e-49bc-fced-3e7938beed97"
      },
      "execution_count": null,
      "outputs": [
        {
          "output_type": "stream",
          "name": "stdout",
          "text": [
            "Title\n",
            "Session 11: Post class test solutions\n",
            "----------------------------------------------------------------------------------------------------\n",
            "ListItem\n",
            "1. d. The company has a bad track record on operating investments and you are afraid that the company will invest the cash. Cash earns a low rate of return, but it is a fair rate of return. So, it is neither a value destroyer not does it create value. It is your concern that it may be “wasted” by investing a project/business where you earn less than the cost of capital that triggers the discount..\n",
            "----------------------------------------------------------------------------------------------------\n",
            "ListItem\n",
            "2. b. 37.5%. To compute the discount, assume that you invest $100 in Genesis today. If they continue to earn 3% less than the required return, as they have in the past, the expected cash flow each year will be 5% (8% -‐ 3%). Discounting this expected cash flow at the required return o 8%:\n",
            "----------------------------------------------------------------------------------------------------\n",
            "ListItem\n",
            "Market value of fund = 5/.08 = $62.5 • Discount as % = 1-‐ 62.5/100 = .375 or 37.5%\n",
            "----------------------------------------------------------------------------------------------------\n",
            "ListItem\n",
            "3. d. $270 million. Since this is a minority holding, it is not reflected in your current operating income, cash flow or value of $250 million. You have to add the estimated market value of this holding to your value:\n",
            "----------------------------------------------------------------------------------------------------\n",
            "ListItem\n",
            "Estimated market value of holding = 10% of $200 m = $20 m • Estimated value of Pagano = $250 m + $20 m = $270 m\n",
            "----------------------------------------------------------------------------------------------------\n",
            "NarrativeText\n",
            "4. a. $700 million. To get to the value of equity, you need to add cash, subtract out debt and subtract out the estimated market value of the “minority” interest in the consolidated subsidiary.\n",
            "----------------------------------------------------------------------------------------------------\n",
            "ListItem\n",
            "Value of equity = 1000+ 100 – 200 -‐ .4(500) = $ 700 m • Optimally, you would have liked to value the parent company as a stand-‐\n",
            "----------------------------------------------------------------------------------------------------\n",
            "ListItem\n",
            "alone entity but you don’t have that information.\n",
            "----------------------------------------------------------------------------------------------------\n",
            "ListItem\n",
            "5. e. None of the above. All of these assets contribute to generating the cash flows that you have discounted to arrive at your value of $ 2 billion. Adding them on to that value would be double counting.\n",
            "----------------------------------------------------------------------------------------------------\n"
          ]
        }
      ]
    },
    {
      "cell_type": "code",
      "source": [
        "import os\n",
        "import re\n",
        "ques_answer = \"session13A.pdf\"\n",
        "\n",
        "session_names_dict = {}\n",
        "for pdf_name in os.listdir(\"Testpdfs\"):\n",
        "    # print(pdf_name)\n",
        "    if pdf_name == ques_answer: continue\n",
        "    if \"soln\" in pdf_name:\n",
        "        session_name_answer = re.sub(\"soln.pdf\",\"\",pdf_name)\n",
        "        if session_name_answer in session_names_dict:\n",
        "          session_names_dict[session_name_answer].insert(0,pdf_name)\n",
        "        else:\n",
        "          session_names_dict[session_name_answer] = [pdf_name]\n",
        "    elif \"test\" in pdf_name:\n",
        "        session_name_ques = re.sub(\"test.pdf\",\"\",pdf_name)\n",
        "        if session_name_ques not in session_names_dict:\n",
        "          session_names_dict[session_name_ques] = [pdf_name]\n",
        "        else:\n",
        "          session_names_dict[session_name_ques].append(pdf_name)"
      ],
      "metadata": {
        "id": "8u_QO8VkRgJx"
      },
      "execution_count": null,
      "outputs": []
    },
    {
      "cell_type": "code",
      "source": [],
      "metadata": {
        "colab": {
          "base_uri": "https://localhost:8080/"
        },
        "id": "8VSfuK0lNUbl",
        "outputId": "341faa70-8a74-4d9d-c942-86de9afb9d79"
      },
      "execution_count": null,
      "outputs": [
        {
          "output_type": "execute_result",
          "data": {
            "text/plain": [
              "{'session11': ['session11soln.pdf', 'session11test.pdf'],\n",
              " 'session15C': ['session15Csoln.pdf', 'session15Ctest.pdf'],\n",
              " 'session22': ['session22soln.pdf', 'session22test.pdf'],\n",
              " 'session8B': ['session8Bsoln.pdf', 'session8Btest.pdf'],\n",
              " 'session5A': ['session5Asoln.pdf', 'session5Atest.pdf'],\n",
              " 'session17': ['session17soln.pdf', 'session17test.pdf'],\n",
              " 'session3': ['session3soln.pdf', 'session3test.pdf'],\n",
              " 'session12B': ['session12Bsoln.pdf', 'session12Btest.pdf'],\n",
              " 'session19F': ['session19Fsoln.pdf', 'session19Ftest.pdf'],\n",
              " 'session23E': ['session23Esoln.pdf', 'session23Etest.pdf'],\n",
              " 'session20B': ['session20Bsoln.pdf', 'session20Btest.pdf'],\n",
              " 'session23': ['session23soln.pdf', 'session23test.pdf'],\n",
              " 'session3a': ['session3asoln.pdf', 'session3atest.pdf'],\n",
              " 'session25A': ['session25Asoln.pdf', 'session25Atest.pdf'],\n",
              " 'session20A': ['session20Asoln.pdf', 'session20Atest.pdf'],\n",
              " 'session12a': ['session12asoln.pdf', 'session12atest.pdf'],\n",
              " 'session2a': ['session2asoln.pdf', 'session2atest.pdf'],\n",
              " 'session9A': ['session9Asoln.pdf', 'session9Atest.pdf'],\n",
              " 'session4a': ['session4asoln.pdf', 'session4atest.pdf'],\n",
              " 'session18B': ['session18Bsoln.pdf', 'session18Btest.pdf'],\n",
              " 'session20C': ['session20Csoln.pdf', 'session20Ctest.pdf'],\n",
              " 'session15aX': ['session15aXsoln.pdf', 'session15aXtest.pdf'],\n",
              " 'session11a': ['session11asoln.pdf', 'session11atest.pdf'],\n",
              " 'session22C': ['session22Csoln.pdf', 'session22Ctest.pdf'],\n",
              " 'session19': ['session19soln.pdf', 'session19test.pdf'],\n",
              " 'session22A': ['session22Asoln.pdf', 'session22Atest.pdf'],\n",
              " 'session20D': ['session20Dsoln.pdf', 'session20Dtest.pdf'],\n",
              " 'session14': ['session14soln.pdf', 'session14test.pdf'],\n",
              " 'session6': ['session6soln.pdf', 'session6test.pdf'],\n",
              " 'session13b': ['session13bsoln.pdf', 'session13btest.pdf'],\n",
              " 'session13C': ['session13Csoln.pdf', 'session13Ctest.pdf'],\n",
              " 'session6A': ['session6Asoln.pdf', 'session6Atest.pdf'],\n",
              " 'session13aX': ['session13aXsoln.pdf', 'session13aXtest.pdf'],\n",
              " 'session7': ['session7soln.pdf', 'session7test.pdf'],\n",
              " 'session20': ['session20soln.pdf', 'session20test.pdf'],\n",
              " 'session21C': ['session21Csoln.pdf', 'session21Ctest.pdf'],\n",
              " 'session19E': ['session19Esoln.pdf', 'session19Etest.pdf'],\n",
              " 'session17D': ['session17Dsoln.pdf', 'session17Dtest.pdf'],\n",
              " 'session17A': ['session17Asoln.pdf', 'session17Atest.pdf'],\n",
              " 'session14aX': ['session14aXsoln.pdf', 'session14aXtest.pdf'],\n",
              " 'session12': ['session12soln.pdf', 'session12test.pdf'],\n",
              " 'session13': ['session13soln.pdf', 'session13test.pdf'],\n",
              " 'session27A': ['session27Asoln.pdf', 'session27Atest.pdf'],\n",
              " 'session16A': ['session16Asoln.pdf', 'session16Atest.pdf'],\n",
              " 'session7A': ['session7Asoln.pdf', 'session7Atest.pdf'],\n",
              " 'session19C': ['session19Csoln.pdf', 'session19Ctest.pdf'],\n",
              " 'session15': ['session15soln.pdf', 'session15test.pdf'],\n",
              " 'session24A': ['session24Asoln.pdf', 'session24Atest.pdf'],\n",
              " 'session12X': ['session12Xsoln.pdf', 'session12Xtest.pdf'],\n",
              " 'session8A': ['session8Asoln.pdf', 'session8Atest.pdf'],\n",
              " 'session14B': ['session14Bsoln.pdf', 'session14Btest.pdf'],\n",
              " 'session15A': ['session15Asoln.pdf', 'session15Atest.pdf'],\n",
              " 'session14A': ['session14Asoln.pdf', 'session14Atest.pdf'],\n",
              " 'session18C': ['session18Csoln.pdf', 'session18Ctest.pdf'],\n",
              " 'session21E': ['session21Esoln.pdf', 'session21Etest.pdf'],\n",
              " 'session21': ['session21soln.pdf', 'session21test.pdf'],\n",
              " 'session8': ['session8soln.pdf', 'session8test.pdf'],\n",
              " 'session21A': ['session21Asoln.pdf', 'session21Atest.pdf'],\n",
              " 'session14C': ['session14Csoln.pdf', 'session14Ctest.pdf'],\n",
              " 'session15B': ['session15Bsoln.pdf', 'session15Btest.pdf'],\n",
              " 'session21B': ['session21Bsoln.pdf', 'session21Btest.pdf'],\n",
              " 'session23C': ['session23Csoln.pdf', 'session23Ctest.pdf'],\n",
              " 'session16B': ['session16Bsoln.pdf', 'session16Btest.pdf'],\n",
              " 'session1': ['session1soln.pdf', 'session1test.pdf'],\n",
              " 'session18A': ['session18Asoln.pdf', 'session18Atest.pdf'],\n",
              " 'session25': ['session25soln.pdf', 'session25test.pdf'],\n",
              " 'session19A': ['session19Asoln.pdf', 'session19Atest.pdf'],\n",
              " 'session10B': ['session10Bsoln.pdf', 'session10Btest.pdf'],\n",
              " 'session10A': ['session10Asoln.pdf', 'session10Atest.pdf'],\n",
              " 'session26A': ['session26Asoln.pdf', 'session26Atest.pdf'],\n",
              " 'session9': ['session9soln.pdf', 'session9test.pdf'],\n",
              " 'session9B': ['session9Bsoln.pdf', 'session9Btest.pdf'],\n",
              " 'session10': ['session10soln.pdf', 'session10test.pdf'],\n",
              " 'session16': ['session16soln.pdf', 'session16test.pdf'],\n",
              " 'session15D': ['session15Dsoln.pdf', 'session15Dtest.pdf'],\n",
              " 'session13A': ['session13Asoln.pdf', 'session13Atest.pdf'],\n",
              " 'session2': ['session2soln.pdf', 'session2test.pdf'],\n",
              " 'session17B': ['session17Bsoln.pdf', 'session17Btest.pdf'],\n",
              " 'session4': ['session4soln.pdf', 'session4test.pdf'],\n",
              " 'session18': ['session18soln.pdf', 'session18test.pdf'],\n",
              " 'session5': ['session5soln.pdf', 'session5test.pdf'],\n",
              " 'session19D': ['session19Dsoln.pdf', 'session19Dtest.pdf'],\n",
              " 'session16C': ['session16Csoln.pdf'],\n",
              " 'session19B': ['session19Bsoln.pdf', 'session19Btest.pdf'],\n",
              " 'session24': ['session24soln.pdf', 'session24test.pdf']}"
            ]
          },
          "metadata": {},
          "execution_count": 13
        }
      ]
    },
    {
      "cell_type": "code",
      "source": [
        "session_name = 'session17A'\n",
        "\n",
        "ansdf = partition_pdf(f\"/content/Testpdfs/{session_name}soln.pdf\",strategy=\"hi_res\",include_page_breaks=True)\n",
        "quesdf = partition_pdf(f\"/content/Testpdfs/{session_name}test.pdf\",strategy=\"hi_res\",include_page_breaks=True)\n",
        "\n",
        "for ques in quesdf:\n",
        "    d = ques.to_dict()\n",
        "    # txt = re.sub('\\t\\r','',d['text'])\n",
        "    txt = re.sub('-‐','-',d['text'])\n",
        "    print(d['type'])\n",
        "    print(d['text'])\n",
        "    print('-'*100)\n",
        "\n",
        "print(\"=\"*100)\n",
        "\n",
        "for ans in ansdf:\n",
        "    d = ans.to_dict()\n",
        "    # txt = re.sub('\\t\\r','',d['text'])\n",
        "    txt = re.sub('-‐','-',d['text'])\n",
        "    print(d['type'])\n",
        "    print(d['text'])\n",
        "    print('-'*100)"
      ],
      "metadata": {
        "colab": {
          "base_uri": "https://localhost:8080/"
        },
        "id": "qFcTKOO_O5e2",
        "outputId": "cfacbcd8-e63f-49cd-89dc-709ae7ed4748"
      },
      "execution_count": null,
      "outputs": [
        {
          "output_type": "stream",
          "name": "stderr",
          "text": [
            "WARNING:unstructured:This function will be deprecated in a future release and `unstructured` will simply use the DEFAULT_MODEL from `unstructured_inference.model.base` to set default model name\n",
            "WARNING:unstructured:This function will be deprecated in a future release and `unstructured` will simply use the DEFAULT_MODEL from `unstructured_inference.model.base` to set default model name\n"
          ]
        },
        {
          "output_type": "stream",
          "name": "stdout",
          "text": [
            "Title\n",
            "Session 17A: Post Class tests\n",
            "----------------------------------------------------------------------------------------------------\n",
            "ListItem\n",
            "1. The conventional wisdom is that if a company increases its growth rate, the PE ratio should go up. When is this not true?\n",
            "----------------------------------------------------------------------------------------------------\n",
            "NarrativeText\n",
            "a. When the company has a growth rate< riskfree rate b. When the company is risky c. Whey the company is safe d. When the company earns a ROE> Cost of equity e. When the company earns a ROE < Cost of equity\n",
            "----------------------------------------------------------------------------------------------------\n",
            "ListItem\n",
            "2. You have evaluating Zena Inc., a firm that is trading at a PE ratio of 15, with an expected growth rate of 20%, on a PEG ratio basis. The PEG ratio for the S&P 500 is 1.10. Based on the PEG ratios, which of the following statements would you subscribe to?\n",
            "----------------------------------------------------------------------------------------------------\n",
            "NarrativeText\n",
            "a. Zena is cheap, relative to the market b. Zena is expensive, relative to the market c. Zena is cheap, relative to the market, but only if it is safer than the market d. Zena is cheap, relative to the market, but only if it is riskier than the market e. Zena is expensive, relative to the market, but only if it is safer than the market f. Zena is expensive, relative to the market, but only if it is riskier than the market\n",
            "----------------------------------------------------------------------------------------------------\n",
            "ListItem\n",
            "3. You: are reading an analyst reports that claims that banks collectively are cheap,\n",
            "----------------------------------------------------------------------------------------------------\n",
            "NarrativeText\n",
            "because they are trading at 0.80 times book value of equity. You believe that the truth is that banks are perceived as riskier than they used to be. If the current return on equity for banks is 10% and the expected growth rate in perpetuity is 2%, what is the cost of equity that investors are attaching to banks? (Assume that banks collectively are in stable growth) a. 8% b. 12% c. 12.5% d. 15% e. None of the above\n",
            "----------------------------------------------------------------------------------------------------\n",
            "====================================================================================================\n",
            "Title\n",
            "Session 17A: Post class test solutions\n",
            "----------------------------------------------------------------------------------------------------\n",
            "ListItem\n",
            "1. e. When the company earns a ROE < Cost of equity. A company that increases growth by investing in projects that earn less than the cost of equity will destroy value and see its PE ratio go down. In terms of mechanics, the gain in growth will be offset by the loss in cash flows to equity (or dividends) in the near term.\n",
            "----------------------------------------------------------------------------------------------------\n",
            "ListItem\n",
            "2. d. Zena is cheap, relative to the market, but only if it is safer than the market. Zena’s PEG ratio is lower than that of the overall market, but that may be justified if the stock is riskier than the market. It has to be safer, for the low PEG ratio to indicate that the stock is cheap.\n",
            "----------------------------------------------------------------------------------------------------\n",
            "ListItem\n",
            "3. b. 12%. Since banks are mature, you can use the simple version of the price to book ratio:\n",
            "----------------------------------------------------------------------------------------------------\n",
            "NarrativeText\n",
            "PBV = 0.80 = (ROE –g)/ (Cost of equity –g)\n",
            "----------------------------------------------------------------------------------------------------\n",
            "NarrativeText\n",
            "= (.10-‐.02)/ (Cost of equity -‐ .02)\n",
            "----------------------------------------------------------------------------------------------------\n",
            "NarrativeText\n",
            "Cost of equity = 12% If you use (1+g) in your equation, you will get a cost of equity slightly lower than 12%.\n",
            "----------------------------------------------------------------------------------------------------\n"
          ]
        }
      ]
    },
    {
      "cell_type": "code",
      "source": [
        "options = ['a.','b.','c.','d.','e.']\n",
        "questions = [str(i)+\".\" for i in range(1,6)]"
      ],
      "metadata": {
        "id": "VhrvU5c2VjWm"
      },
      "execution_count": null,
      "outputs": []
    },
    {
      "cell_type": "code",
      "source": [
        "session_name = 'session10A'\n",
        "\n",
        "ansdf = partition_pdf(f\"/content/Testpdfs/{session_name}soln.pdf\",strategy=\"hi_res\",include_page_breaks=True)\n",
        "quesdf = partition_pdf(f\"/content/Testpdfs/{session_name}test.pdf\",strategy=\"hi_res\",include_page_breaks=True)\n",
        "\n",
        "# for ques in quesdf:\n",
        "#     d = ques.to_dict()\n",
        "#     # txt = re.sub('\\t\\r','',d['text'])\n",
        "#     txt = re.sub('-‐','-',d['text'])\n",
        "#     print(d['type'])\n",
        "#     print(d['text'])\n",
        "#     print('-'*100)\n",
        "\n",
        "# print(\"=\"*100)\n",
        "\n",
        "for ans in ansdf:\n",
        "    d = ans.to_dict()\n",
        "    # txt = re.sub('\\t\\r','',d['text'])\n",
        "    txt = re.sub('-‐','-',d['text'])\n",
        "    print(d['type'])\n",
        "    print(d['text'])\n",
        "    print('-'*100)"
      ],
      "metadata": {
        "colab": {
          "base_uri": "https://localhost:8080/"
        },
        "id": "-RrJEA85TN8i",
        "outputId": "ec83824f-fcad-4966-970a-3b7d92d7c178"
      },
      "execution_count": null,
      "outputs": [
        {
          "output_type": "stream",
          "name": "stderr",
          "text": [
            "WARNING:unstructured:This function will be deprecated in a future release and `unstructured` will simply use the DEFAULT_MODEL from `unstructured_inference.model.base` to set default model name\n",
            "WARNING:unstructured:This function will be deprecated in a future release and `unstructured` will simply use the DEFAULT_MODEL from `unstructured_inference.model.base` to set default model name\n"
          ]
        },
        {
          "output_type": "stream",
          "name": "stdout",
          "text": [
            "Title\n",
            "Session10a:Postclasstestsolutions\n",
            "----------------------------------------------------------------------------------------------------\n",
            "ListItem\n",
            "1. d.$2.49million\n",
            "----------------------------------------------------------------------------------------------------\n",
            "NarrativeText\n",
            "1. d.$2.49million Revenuesinyear5=$10(1.205)=$24.88million Operatingmargininyear5=10% Operatingincomeinyear5=$24.88(.10)=$2.488million\n",
            "----------------------------------------------------------------------------------------------------\n",
            "ListItem\n",
            "2. d.$4.2million\n",
            "----------------------------------------------------------------------------------------------------\n",
            "NarrativeText\n",
            "NOLinyear2=$2million+$1million(lossinyear1)=$3million Operatingincomeinyear2=$5million Taxableincomeinyear2=$5million-$3million=$2million Taxes=$2million*.4=$0.8million After-taxoperatingincome=$5million-$0.8million=$4.2million\n",
            "----------------------------------------------------------------------------------------------------\n",
            "ListItem\n",
            "3. c.-$30million\n",
            "----------------------------------------------------------------------------------------------------\n",
            "NarrativeText\n",
            "ExpectedOperatingincomenextyear=-$5million(notaxes) Changeinrevenuenextyear=$200m-$100m=$100m Reinvestmentnextyear=$100m/4=$25million FCFFnextyear=-$5m-$25m=-$30million\n",
            "----------------------------------------------------------------------------------------------------\n"
          ]
        }
      ]
    },
    {
      "cell_type": "code",
      "source": [
        "for ques in quesdf:\n",
        "    d = ques.to_dict()\n",
        "    # txt = re.sub('\\t\\r','',d['text'])\n",
        "    txt = re.sub('-‐','-',d['text'])\n",
        "    print(d['type'])\n",
        "    print(d['text'])\n",
        "    print('-'*100)"
      ],
      "metadata": {
        "colab": {
          "base_uri": "https://localhost:8080/"
        },
        "id": "xFuMXXGnh8kQ",
        "outputId": "34e736d8-3c23-458e-c84e-ac025b3e0bf1"
      },
      "execution_count": null,
      "outputs": [
        {
          "output_type": "stream",
          "name": "stdout",
          "text": [
            "Title\n",
            "Session10a:PostClasstests\n",
            "----------------------------------------------------------------------------------------------------\n",
            "ListItem\n",
            "1. PeopleMeet is a small software company that reported an operating loss of $1 million on revenues of $10 million in the most recent year. If you expect revenuestogrow(CAGR)at20%ayearforthenextfiveyearsandtheoperating margin to improve to 10% by year 5, what will the company will earn as operatingincomeinyear5?\n",
            "----------------------------------------------------------------------------------------------------\n",
            "NarrativeText\n",
            "a. -$2.49million b. $1million c. $2million d. $2.49million e. Noneoftheabove\n",
            "----------------------------------------------------------------------------------------------------\n",
            "ListItem\n",
            "2. You are valuing TeleTech, a small software company that is on the verge of becomingprofitable.Thecompanyhasnetoperatinglosscarriedforward(from prioryears)of$2million,isexpectedtoreportanoperatinglossof$1million nextyearandthenanoperatingprofitof$5millioninyear2.Whatistheafter- taxoperatingincomeforTeletechinyear2,ifthetaxrateis40%?\n",
            "----------------------------------------------------------------------------------------------------\n",
            "NarrativeText\n",
            "a. $1.2million b. $1.8million c. $3million d. $4.2million e. $5million f. Noneoftheabove\n",
            "----------------------------------------------------------------------------------------------------\n",
            "ListItem\n",
            "3. YouaretryingtoestimatethefreecashflowtothefirmforFormaWare,ayoung, money losing company with significant growth potential. The company generatedalossof$10milliononrevenuesof$100millioninthemostrecent year but is expected to double revenues next year, while halving its operating losses.Ifthecompanyhasasales/capitalratioof4.0,whatistheFCFFnextyear?\n",
            "----------------------------------------------------------------------------------------------------\n",
            "NarrativeText\n",
            "a. -$5million b. -$20million c. -$30million d. -$35million e. Noneoftheabove\n",
            "----------------------------------------------------------------------------------------------------\n"
          ]
        }
      ]
    },
    {
      "cell_type": "code",
      "source": [
        "question_to_answer = {session_name:{}}\n",
        "curr_question = '1.'\n",
        "for ques in quesdf:\n",
        "    elem = ques.to_dict()\n",
        "    elem_txt = elem['text']\n",
        "    elem_type = elem['type']\n",
        "    elem_txt = re.sub('--','-',elem_txt)\n",
        "    print(elem_txt,elem_type)\n",
        "    if elem_type == 'ListItem' or elem_type=='NarrativeText' or elem_type==\"Table\":\n",
        "      for q in questions:\n",
        "        if elem_txt.startswith(q) or q in elem_txt:\n",
        "          if q not in question_to_answer[session_name]:\n",
        "            question_to_answer[session_name][q] = {}\n",
        "            question_to_answer[session_name][q]['question'] = elem_txt\n",
        "            curr_question = q\n",
        "      for opt in options:\n",
        "        if elem_txt.startswith(opt) or opt in elem_txt:\n",
        "          question_to_answer[session_name][curr_question]['question']+=elem_txt\n",
        "          break"
      ],
      "metadata": {
        "colab": {
          "base_uri": "https://localhost:8080/"
        },
        "id": "aS8hiOt2Tnng",
        "outputId": "de2e7b16-2895-4e8d-f561-897411c2406c"
      },
      "execution_count": null,
      "outputs": [
        {
          "output_type": "stream",
          "name": "stdout",
          "text": [
            "Session10a:PostClasstests Title\n",
            "1. PeopleMeet is a small software company that reported an operating loss of $1 million on revenues of $10 million in the most recent year. If you expect revenuestogrow(CAGR)at20%ayearforthenextfiveyearsandtheoperating margin to improve to 10% by year 5, what will the company will earn as operatingincomeinyear5? ListItem\n",
            "a. -$2.49million b. $1million c. $2million d. $2.49million e. Noneoftheabove NarrativeText\n",
            "2. You are valuing TeleTech, a small software company that is on the verge of becomingprofitable.Thecompanyhasnetoperatinglosscarriedforward(from prioryears)of$2million,isexpectedtoreportanoperatinglossof$1million nextyearandthenanoperatingprofitof$5millioninyear2.Whatistheafter- taxoperatingincomeforTeletechinyear2,ifthetaxrateis40%? ListItem\n",
            "a. $1.2million b. $1.8million c. $3million d. $4.2million e. $5million f. Noneoftheabove NarrativeText\n",
            "3. YouaretryingtoestimatethefreecashflowtothefirmforFormaWare,ayoung, money losing company with significant growth potential. The company generatedalossof$10milliononrevenuesof$100millioninthemostrecent year but is expected to double revenues next year, while halving its operating losses.Ifthecompanyhasasales/capitalratioof4.0,whatistheFCFFnextyear? ListItem\n",
            "a. -$5million b. -$20million c. -$30million d. -$35million e. Noneoftheabove NarrativeText\n"
          ]
        }
      ]
    },
    {
      "cell_type": "code",
      "source": [
        "question_to_answer[session_name]"
      ],
      "metadata": {
        "colab": {
          "base_uri": "https://localhost:8080/"
        },
        "id": "E5NSbJY1WOoB",
        "outputId": "76711950-6344-4870-f3fe-c667f9ff8626"
      },
      "execution_count": null,
      "outputs": [
        {
          "output_type": "execute_result",
          "data": {
            "text/plain": [
              "{'1.': {'question': '1. PeopleMeet is a small software company that reported an operating loss of $1 million on revenues of $10 million in the most recent year. If you expect revenuestogrow(CAGR)at20%ayearforthenextfiveyearsandtheoperating margin to improve to 10% by year 5, what will the company will earn as operatingincomeinyear5?'},\n",
              " '2.': {'question': 'a. -$2.49million b. $1million c. $2million d. $2.49million e. Noneoftheabovea. -$2.49million b. $1million c. $2million d. $2.49million e. Noneoftheabove2. You are valuing TeleTech, a small software company that is on the verge of becomingprofitable.Thecompanyhasnetoperatinglosscarriedforward(from prioryears)of$2million,isexpectedtoreportanoperatinglossof$1million nextyearandthenanoperatingprofitof$5millioninyear2.Whatistheafter- taxoperatingincomeforTeletechinyear2,ifthetaxrateis40%?'},\n",
              " '4.': {'question': 'a. $1.2million b. $1.8million c. $3million d. $4.2million e. $5million f. Noneoftheabovea. $1.2million b. $1.8million c. $3million d. $4.2million e. $5million f. Noneoftheabove'},\n",
              " '3.': {'question': '3. YouaretryingtoestimatethefreecashflowtothefirmforFormaWare,ayoung, money losing company with significant growth potential. The company generatedalossof$10milliononrevenuesof$100millioninthemostrecent year but is expected to double revenues next year, while halving its operating losses.Ifthecompanyhasasales/capitalratioof4.0,whatistheFCFFnextyear?a. -$5million b. -$20million c. -$30million d. -$35million e. Noneoftheabove'}}"
            ]
          },
          "metadata": {},
          "execution_count": 92
        }
      ]
    },
    {
      "cell_type": "code",
      "source": [
        "for ans in ansdf:\n",
        "    elem = ans.to_dict()\n",
        "    elem_txt = elem['text']\n",
        "    elem_type = elem['type']\n",
        "    elem_txt = re.sub('--','-',elem_txt)\n",
        "    if elem_type == 'ListItem':\n",
        "      for q in questions:\n",
        "        if elem_txt.startswith(q) or q in elem_txt:\n",
        "          question_to_answer[session_name][q]['answer'] = elem_txt\n",
        "          curr_question = q\n",
        "    if elem_type=='NarrativeText':\n",
        "      question_to_answer[session_name][curr_question]['answer'] += elem_txt\n",
        "      # for opt in options:\n",
        "      #   if elem_txt.startswith(opt) or opt in elem_txt:\n",
        "      #     question_to_answer[session_name][curr_question]['answer']+=elem_txt\n",
        "      #     break"
      ],
      "metadata": {
        "id": "i8hzpf2ebl3M"
      },
      "execution_count": null,
      "outputs": []
    },
    {
      "cell_type": "code",
      "source": [
        "question_to_answer[session_name]"
      ],
      "metadata": {
        "colab": {
          "base_uri": "https://localhost:8080/"
        },
        "id": "5Rk3IOHPeJHe",
        "outputId": "08045e29-cd39-4f17-f1a1-509a80780481"
      },
      "execution_count": null,
      "outputs": [
        {
          "output_type": "execute_result",
          "data": {
            "text/plain": [
              "{'1.': {'question': '1. PeopleMeet is a small software company that reported an operating loss of $1 million on revenues of $10 million in the most recent year. If you expect revenuestogrow(CAGR)at20%ayearforthenextfiveyearsandtheoperating margin to improve to 10% by year 5, what will the company will earn as operatingincomeinyear5?',\n",
              "  'answer': '1. d.$2.49million'},\n",
              " '2.': {'question': 'a. -$2.49million b. $1million c. $2million d. $2.49million e. Noneoftheabovea. -$2.49million b. $1million c. $2million d. $2.49million e. Noneoftheabove2. You are valuing TeleTech, a small software company that is on the verge of becomingprofitable.Thecompanyhasnetoperatinglosscarriedforward(from prioryears)of$2million,isexpectedtoreportanoperatinglossof$1million nextyearandthenanoperatingprofitof$5millioninyear2.Whatistheafter- taxoperatingincomeforTeletechinyear2,ifthetaxrateis40%?',\n",
              "  'answer': '2. d.$4.2million'},\n",
              " '4.': {'question': 'a. $1.2million b. $1.8million c. $3million d. $4.2million e. $5million f. Noneoftheabovea. $1.2million b. $1.8million c. $3million d. $4.2million e. $5million f. Noneoftheabove',\n",
              "  'answer': '2. d.$4.2millionNOLinyear2=$2million+$1million(lossinyear1)=$3million Operatingincomeinyear2=$5million Taxableincomeinyear2=$5million-$3million=$2million Taxes=$2million*.4=$0.8million After-taxoperatingincome=$5million-$0.8million=$4.2million'},\n",
              " '3.': {'question': '3. YouaretryingtoestimatethefreecashflowtothefirmforFormaWare,ayoung, money losing company with significant growth potential. The company generatedalossof$10milliononrevenuesof$100millioninthemostrecent year but is expected to double revenues next year, while halving its operating losses.Ifthecompanyhasasales/capitalratioof4.0,whatistheFCFFnextyear?a. -$5million b. -$20million c. -$30million d. -$35million e. Noneoftheabove',\n",
              "  'answer': '3. c.-$30millionExpectedOperatingincomenextyear=-$5million(notaxes) Changeinrevenuenextyear=$200m-$100m=$100m Reinvestmentnextyear=$100m/4=$25million FCFFnextyear=-$5m-$25m=-$30million'}}"
            ]
          },
          "metadata": {},
          "execution_count": 95
        }
      ]
    },
    {
      "cell_type": "code",
      "source": [
        "session_names_list = list(session_names_dict.keys())"
      ],
      "metadata": {
        "id": "-TPgntFreK5y"
      },
      "execution_count": null,
      "outputs": []
    },
    {
      "cell_type": "code",
      "source": [
        "import concurrent.futures\n",
        "import json\n",
        "options = ['a.','b.','c.','d.','e.']\n",
        "questions = [str(i)+\".\" for i in range(1,6)]\n",
        "\n",
        "def get_question_answer(session_name):\n",
        "  question_to_answer = {}\n",
        "  try:\n",
        "    ansdf = partition_pdf(f\"/content/Testpdfs/{session_name}soln.pdf\",strategy=\"hi_res\",include_page_breaks=True)\n",
        "    quesdf = partition_pdf(f\"/content/Testpdfs/{session_name}test.pdf\",strategy=\"hi_res\",include_page_breaks=True)\n",
        "    question_to_answer = {session_name:{}}\n",
        "    curr_question = '1.'\n",
        "    for ques in quesdf:\n",
        "        elem = ques.to_dict()\n",
        "        elem_txt = elem['text']\n",
        "        elem_type = elem['type']\n",
        "        elem_txt = re.sub('--','-',elem_txt)\n",
        "        # print(elem_txt,elem_type)\n",
        "        if elem_type == 'ListItem' or elem_type=='NarrativeText' or elem_type==\"Table\":\n",
        "          for q in questions:\n",
        "            if elem_txt.startswith(q) or q in elem_txt:\n",
        "              if q not in question_to_answer[session_name]:\n",
        "                question_to_answer[session_name][q] = {}\n",
        "                question_to_answer[session_name][q]['question'] = elem_txt\n",
        "                curr_question = q\n",
        "          for opt in options:\n",
        "            if elem_txt.startswith(opt) or opt in elem_txt:\n",
        "              question_to_answer[session_name][curr_question]['question']+=elem_txt\n",
        "              break\n",
        "    for ans in ansdf:\n",
        "        elem = ans.to_dict()\n",
        "        elem_txt = elem['text']\n",
        "        elem_type = elem['type']\n",
        "        elem_txt = re.sub('--','-',elem_txt)\n",
        "        if elem_type == 'ListItem':\n",
        "          for q in questions:\n",
        "            if elem_txt.startswith(q) or q in elem_txt:\n",
        "              question_to_answer[session_name][q]['answer'] = elem_txt\n",
        "              curr_question = q\n",
        "        if elem_type=='NarrativeText':\n",
        "          question_to_answer[session_name][curr_question]['answer'] += elem_txt\n",
        "    print(f\"Done for {session_name}\")\n",
        "    with open(f'/content/question_answer_folder/{session_name}.json', 'w') as f:\n",
        "      json.dump(question_to_answer, f)\n",
        "  except:\n",
        "    print(f\"Failed for {session_name}\")\n",
        "    # failed_session_name.append(session_name)\n",
        "\n",
        "if __name__ == '__main__':\n",
        "  # question_to_answer = {}\n",
        "  # failed_session_name = []\n",
        "  with concurrent.futures.ProcessPoolExecutor(max_workers=10) as executor:\n",
        "    results = executor.map(get_question_answer, session_names_list)"
      ],
      "metadata": {
        "colab": {
          "base_uri": "https://localhost:8080/"
        },
        "id": "u4Te3tKXkLpp",
        "outputId": "6df6a953-2f06-41f8-b74a-e959e34dba01"
      },
      "execution_count": null,
      "outputs": [
        {
          "output_type": "stream",
          "name": "stderr",
          "text": [
            "WARNING:unstructured:This function will be deprecated in a future release and `unstructured` will simply use the DEFAULT_MODEL from `unstructured_inference.model.base` to set default model name\n",
            "WARNING:unstructured:This function will be deprecated in a future release and `unstructured` will simply use the DEFAULT_MODEL from `unstructured_inference.model.base` to set default model name\n",
            "WARNING:unstructured:This function will be deprecated in a future release and `unstructured` will simply use the DEFAULT_MODEL from `unstructured_inference.model.base` to set default model name\n",
            "WARNING:unstructured:This function will be deprecated in a future release and `unstructured` will simply use the DEFAULT_MODEL from `unstructured_inference.model.base` to set default model name\n",
            "WARNING:unstructured:This function will be deprecated in a future release and `unstructured` will simply use the DEFAULT_MODEL from `unstructured_inference.model.base` to set default model name\n",
            "WARNING:unstructured:This function will be deprecated in a future release and `unstructured` will simply use the DEFAULT_MODEL from `unstructured_inference.model.base` to set default model name\n",
            "WARNING:unstructured:This function will be deprecated in a future release and `unstructured` will simply use the DEFAULT_MODEL from `unstructured_inference.model.base` to set default model name\n",
            "WARNING:unstructured:This function will be deprecated in a future release and `unstructured` will simply use the DEFAULT_MODEL from `unstructured_inference.model.base` to set default model name\n",
            "WARNING:unstructured:This function will be deprecated in a future release and `unstructured` will simply use the DEFAULT_MODEL from `unstructured_inference.model.base` to set default model name\n",
            "WARNING:unstructured:This function will be deprecated in a future release and `unstructured` will simply use the DEFAULT_MODEL from `unstructured_inference.model.base` to set default model name\n",
            "WARNING:unstructured:This function will be deprecated in a future release and `unstructured` will simply use the DEFAULT_MODEL from `unstructured_inference.model.base` to set default model name\n",
            "WARNING:unstructured:This function will be deprecated in a future release and `unstructured` will simply use the DEFAULT_MODEL from `unstructured_inference.model.base` to set default model name\n",
            "WARNING:unstructured:This function will be deprecated in a future release and `unstructured` will simply use the DEFAULT_MODEL from `unstructured_inference.model.base` to set default model name\n",
            "WARNING:unstructured:This function will be deprecated in a future release and `unstructured` will simply use the DEFAULT_MODEL from `unstructured_inference.model.base` to set default model name\n",
            "WARNING:unstructured:This function will be deprecated in a future release and `unstructured` will simply use the DEFAULT_MODEL from `unstructured_inference.model.base` to set default model name\n",
            "WARNING:unstructured:This function will be deprecated in a future release and `unstructured` will simply use the DEFAULT_MODEL from `unstructured_inference.model.base` to set default model name\n",
            "WARNING:unstructured:This function will be deprecated in a future release and `unstructured` will simply use the DEFAULT_MODEL from `unstructured_inference.model.base` to set default model name\n",
            "WARNING:unstructured:This function will be deprecated in a future release and `unstructured` will simply use the DEFAULT_MODEL from `unstructured_inference.model.base` to set default model name\n",
            "WARNING:unstructured:This function will be deprecated in a future release and `unstructured` will simply use the DEFAULT_MODEL from `unstructured_inference.model.base` to set default model name\n",
            "WARNING:unstructured:This function will be deprecated in a future release and `unstructured` will simply use the DEFAULT_MODEL from `unstructured_inference.model.base` to set default model name\n"
          ]
        },
        {
          "output_type": "stream",
          "name": "stdout",
          "text": [
            "Done for session23E\n"
          ]
        },
        {
          "output_type": "stream",
          "name": "stderr",
          "text": [
            "WARNING:unstructured:This function will be deprecated in a future release and `unstructured` will simply use the DEFAULT_MODEL from `unstructured_inference.model.base` to set default model name\n"
          ]
        },
        {
          "output_type": "stream",
          "name": "stdout",
          "text": [
            "Failed for session12B\n"
          ]
        },
        {
          "output_type": "stream",
          "name": "stderr",
          "text": [
            "WARNING:unstructured:This function will be deprecated in a future release and `unstructured` will simply use the DEFAULT_MODEL from `unstructured_inference.model.base` to set default model name\n"
          ]
        },
        {
          "output_type": "stream",
          "name": "stdout",
          "text": [
            "Done for session15C\n"
          ]
        },
        {
          "output_type": "stream",
          "name": "stderr",
          "text": [
            "WARNING:unstructured:This function will be deprecated in a future release and `unstructured` will simply use the DEFAULT_MODEL from `unstructured_inference.model.base` to set default model name\n"
          ]
        },
        {
          "output_type": "stream",
          "name": "stdout",
          "text": [
            "Failed for session19F\n"
          ]
        },
        {
          "output_type": "stream",
          "name": "stderr",
          "text": [
            "WARNING:unstructured:This function will be deprecated in a future release and `unstructured` will simply use the DEFAULT_MODEL from `unstructured_inference.model.base` to set default model name\n",
            "WARNING:unstructured:This function will be deprecated in a future release and `unstructured` will simply use the DEFAULT_MODEL from `unstructured_inference.model.base` to set default model name\n"
          ]
        },
        {
          "output_type": "stream",
          "name": "stdout",
          "text": [
            "Done for session17\n",
            "Done for session8B\n",
            "Done for session3\n"
          ]
        },
        {
          "output_type": "stream",
          "name": "stderr",
          "text": [
            "WARNING:unstructured:This function will be deprecated in a future release and `unstructured` will simply use the DEFAULT_MODEL from `unstructured_inference.model.base` to set default model name\n",
            "WARNING:unstructured:This function will be deprecated in a future release and `unstructured` will simply use the DEFAULT_MODEL from `unstructured_inference.model.base` to set default model name\n",
            "WARNING:unstructured:This function will be deprecated in a future release and `unstructured` will simply use the DEFAULT_MODEL from `unstructured_inference.model.base` to set default model name\n"
          ]
        },
        {
          "output_type": "stream",
          "name": "stdout",
          "text": [
            "Done for session22\n",
            "Failed for session5A\n"
          ]
        },
        {
          "output_type": "stream",
          "name": "stderr",
          "text": [
            "WARNING:unstructured:This function will be deprecated in a future release and `unstructured` will simply use the DEFAULT_MODEL from `unstructured_inference.model.base` to set default model name\n",
            "WARNING:unstructured:This function will be deprecated in a future release and `unstructured` will simply use the DEFAULT_MODEL from `unstructured_inference.model.base` to set default model name\n"
          ]
        },
        {
          "output_type": "stream",
          "name": "stdout",
          "text": [
            "Done for session11\n"
          ]
        },
        {
          "output_type": "stream",
          "name": "stderr",
          "text": [
            "WARNING:unstructured:This function will be deprecated in a future release and `unstructured` will simply use the DEFAULT_MODEL from `unstructured_inference.model.base` to set default model name\n",
            "WARNING:unstructured:This function will be deprecated in a future release and `unstructured` will simply use the DEFAULT_MODEL from `unstructured_inference.model.base` to set default model name\n",
            "WARNING:unstructured:This function will be deprecated in a future release and `unstructured` will simply use the DEFAULT_MODEL from `unstructured_inference.model.base` to set default model name\n",
            "WARNING:unstructured:This function will be deprecated in a future release and `unstructured` will simply use the DEFAULT_MODEL from `unstructured_inference.model.base` to set default model name\n",
            "WARNING:unstructured:This function will be deprecated in a future release and `unstructured` will simply use the DEFAULT_MODEL from `unstructured_inference.model.base` to set default model name\n",
            "WARNING:unstructured:This function will be deprecated in a future release and `unstructured` will simply use the DEFAULT_MODEL from `unstructured_inference.model.base` to set default model name\n",
            "WARNING:unstructured:This function will be deprecated in a future release and `unstructured` will simply use the DEFAULT_MODEL from `unstructured_inference.model.base` to set default model name\n",
            "WARNING:unstructured:This function will be deprecated in a future release and `unstructured` will simply use the DEFAULT_MODEL from `unstructured_inference.model.base` to set default model name\n",
            "WARNING:unstructured:This function will be deprecated in a future release and `unstructured` will simply use the DEFAULT_MODEL from `unstructured_inference.model.base` to set default model name\n",
            "WARNING:unstructured:This function will be deprecated in a future release and `unstructured` will simply use the DEFAULT_MODEL from `unstructured_inference.model.base` to set default model name\n"
          ]
        },
        {
          "output_type": "stream",
          "name": "stdout",
          "text": [
            "Done for session2a\n"
          ]
        },
        {
          "output_type": "stream",
          "name": "stderr",
          "text": [
            "WARNING:unstructured:This function will be deprecated in a future release and `unstructured` will simply use the DEFAULT_MODEL from `unstructured_inference.model.base` to set default model name\n"
          ]
        },
        {
          "output_type": "stream",
          "name": "stdout",
          "text": [
            "Done for session20B\n"
          ]
        },
        {
          "output_type": "stream",
          "name": "stderr",
          "text": [
            "WARNING:unstructured:This function will be deprecated in a future release and `unstructured` will simply use the DEFAULT_MODEL from `unstructured_inference.model.base` to set default model name\n"
          ]
        },
        {
          "output_type": "stream",
          "name": "stdout",
          "text": [
            "Done for session23\n"
          ]
        },
        {
          "output_type": "stream",
          "name": "stderr",
          "text": [
            "WARNING:unstructured:This function will be deprecated in a future release and `unstructured` will simply use the DEFAULT_MODEL from `unstructured_inference.model.base` to set default model name\n"
          ]
        },
        {
          "output_type": "stream",
          "name": "stdout",
          "text": [
            "Done for session25A\n"
          ]
        },
        {
          "output_type": "stream",
          "name": "stderr",
          "text": [
            "WARNING:unstructured:This function will be deprecated in a future release and `unstructured` will simply use the DEFAULT_MODEL from `unstructured_inference.model.base` to set default model name\n"
          ]
        },
        {
          "output_type": "stream",
          "name": "stdout",
          "text": [
            "Failed for session3a\n"
          ]
        },
        {
          "output_type": "stream",
          "name": "stderr",
          "text": [
            "WARNING:unstructured:This function will be deprecated in a future release and `unstructured` will simply use the DEFAULT_MODEL from `unstructured_inference.model.base` to set default model name\n",
            "WARNING:unstructured:This function will be deprecated in a future release and `unstructured` will simply use the DEFAULT_MODEL from `unstructured_inference.model.base` to set default model name\n"
          ]
        },
        {
          "output_type": "stream",
          "name": "stdout",
          "text": [
            "Failed for session20A\n"
          ]
        },
        {
          "output_type": "stream",
          "name": "stderr",
          "text": [
            "WARNING:unstructured:This function will be deprecated in a future release and `unstructured` will simply use the DEFAULT_MODEL from `unstructured_inference.model.base` to set default model name\n",
            "WARNING:unstructured:This function will be deprecated in a future release and `unstructured` will simply use the DEFAULT_MODEL from `unstructured_inference.model.base` to set default model name\n"
          ]
        },
        {
          "output_type": "stream",
          "name": "stdout",
          "text": [
            "Failed for session4a\n",
            "Failed for session9A\n"
          ]
        },
        {
          "output_type": "stream",
          "name": "stderr",
          "text": [
            "WARNING:unstructured:This function will be deprecated in a future release and `unstructured` will simply use the DEFAULT_MODEL from `unstructured_inference.model.base` to set default model name\n",
            "WARNING:unstructured:This function will be deprecated in a future release and `unstructured` will simply use the DEFAULT_MODEL from `unstructured_inference.model.base` to set default model name\n"
          ]
        },
        {
          "output_type": "stream",
          "name": "stdout",
          "text": [
            "Done for session12a\n"
          ]
        },
        {
          "output_type": "stream",
          "name": "stderr",
          "text": [
            "WARNING:unstructured:This function will be deprecated in a future release and `unstructured` will simply use the DEFAULT_MODEL from `unstructured_inference.model.base` to set default model name\n"
          ]
        },
        {
          "output_type": "stream",
          "name": "stdout",
          "text": [
            "Done for session18B\n"
          ]
        },
        {
          "output_type": "stream",
          "name": "stderr",
          "text": [
            "WARNING:unstructured:This function will be deprecated in a future release and `unstructured` will simply use the DEFAULT_MODEL from `unstructured_inference.model.base` to set default model name\n",
            "WARNING:unstructured:This function will be deprecated in a future release and `unstructured` will simply use the DEFAULT_MODEL from `unstructured_inference.model.base` to set default model name\n",
            "WARNING:unstructured:This function will be deprecated in a future release and `unstructured` will simply use the DEFAULT_MODEL from `unstructured_inference.model.base` to set default model name\n",
            "WARNING:unstructured:This function will be deprecated in a future release and `unstructured` will simply use the DEFAULT_MODEL from `unstructured_inference.model.base` to set default model name\n",
            "WARNING:unstructured:This function will be deprecated in a future release and `unstructured` will simply use the DEFAULT_MODEL from `unstructured_inference.model.base` to set default model name\n",
            "WARNING:unstructured:This function will be deprecated in a future release and `unstructured` will simply use the DEFAULT_MODEL from `unstructured_inference.model.base` to set default model name\n"
          ]
        },
        {
          "output_type": "stream",
          "name": "stdout",
          "text": [
            "Failed for session15aX\n"
          ]
        },
        {
          "output_type": "stream",
          "name": "stderr",
          "text": [
            "WARNING:unstructured:This function will be deprecated in a future release and `unstructured` will simply use the DEFAULT_MODEL from `unstructured_inference.model.base` to set default model name\n",
            "WARNING:unstructured:This function will be deprecated in a future release and `unstructured` will simply use the DEFAULT_MODEL from `unstructured_inference.model.base` to set default model name\n",
            "WARNING:unstructured:This function will be deprecated in a future release and `unstructured` will simply use the DEFAULT_MODEL from `unstructured_inference.model.base` to set default model name\n",
            "WARNING:unstructured:This function will be deprecated in a future release and `unstructured` will simply use the DEFAULT_MODEL from `unstructured_inference.model.base` to set default model name\n"
          ]
        },
        {
          "output_type": "stream",
          "name": "stdout",
          "text": [
            "Done for session20C\n"
          ]
        },
        {
          "output_type": "stream",
          "name": "stderr",
          "text": [
            "WARNING:unstructured:This function will be deprecated in a future release and `unstructured` will simply use the DEFAULT_MODEL from `unstructured_inference.model.base` to set default model name\n",
            "WARNING:unstructured:This function will be deprecated in a future release and `unstructured` will simply use the DEFAULT_MODEL from `unstructured_inference.model.base` to set default model name\n"
          ]
        },
        {
          "output_type": "stream",
          "name": "stdout",
          "text": [
            "Done for session11a\n"
          ]
        },
        {
          "output_type": "stream",
          "name": "stderr",
          "text": [
            "WARNING:unstructured:This function will be deprecated in a future release and `unstructured` will simply use the DEFAULT_MODEL from `unstructured_inference.model.base` to set default model name\n"
          ]
        },
        {
          "output_type": "stream",
          "name": "stdout",
          "text": [
            "Done for session22C\n"
          ]
        },
        {
          "output_type": "stream",
          "name": "stderr",
          "text": [
            "WARNING:unstructured:This function will be deprecated in a future release and `unstructured` will simply use the DEFAULT_MODEL from `unstructured_inference.model.base` to set default model name\n"
          ]
        },
        {
          "output_type": "stream",
          "name": "stdout",
          "text": [
            "Done for session19\n"
          ]
        },
        {
          "output_type": "stream",
          "name": "stderr",
          "text": [
            "WARNING:unstructured:This function will be deprecated in a future release and `unstructured` will simply use the DEFAULT_MODEL from `unstructured_inference.model.base` to set default model name\n"
          ]
        },
        {
          "output_type": "stream",
          "name": "stdout",
          "text": [
            "Done for session22A\n"
          ]
        },
        {
          "output_type": "stream",
          "name": "stderr",
          "text": [
            "WARNING:unstructured:This function will be deprecated in a future release and `unstructured` will simply use the DEFAULT_MODEL from `unstructured_inference.model.base` to set default model name\n"
          ]
        },
        {
          "output_type": "stream",
          "name": "stdout",
          "text": [
            "Done for session20D\n"
          ]
        },
        {
          "output_type": "stream",
          "name": "stderr",
          "text": [
            "WARNING:unstructured:This function will be deprecated in a future release and `unstructured` will simply use the DEFAULT_MODEL from `unstructured_inference.model.base` to set default model name\n",
            "WARNING:unstructured:This function will be deprecated in a future release and `unstructured` will simply use the DEFAULT_MODEL from `unstructured_inference.model.base` to set default model name\n"
          ]
        },
        {
          "output_type": "stream",
          "name": "stdout",
          "text": [
            "Done for session6\n"
          ]
        },
        {
          "output_type": "stream",
          "name": "stderr",
          "text": [
            "WARNING:unstructured:This function will be deprecated in a future release and `unstructured` will simply use the DEFAULT_MODEL from `unstructured_inference.model.base` to set default model name\n"
          ]
        },
        {
          "output_type": "stream",
          "name": "stdout",
          "text": [
            "Done for session14\n"
          ]
        },
        {
          "output_type": "stream",
          "name": "stderr",
          "text": [
            "WARNING:unstructured:This function will be deprecated in a future release and `unstructured` will simply use the DEFAULT_MODEL from `unstructured_inference.model.base` to set default model name\n"
          ]
        },
        {
          "output_type": "stream",
          "name": "stdout",
          "text": [
            "Done for session13b\n"
          ]
        },
        {
          "output_type": "stream",
          "name": "stderr",
          "text": [
            "WARNING:unstructured:This function will be deprecated in a future release and `unstructured` will simply use the DEFAULT_MODEL from `unstructured_inference.model.base` to set default model name\n",
            "WARNING:unstructured:This function will be deprecated in a future release and `unstructured` will simply use the DEFAULT_MODEL from `unstructured_inference.model.base` to set default model name\n",
            "WARNING:unstructured:This function will be deprecated in a future release and `unstructured` will simply use the DEFAULT_MODEL from `unstructured_inference.model.base` to set default model name\n",
            "WARNING:unstructured:This function will be deprecated in a future release and `unstructured` will simply use the DEFAULT_MODEL from `unstructured_inference.model.base` to set default model name\n",
            "WARNING:unstructured:This function will be deprecated in a future release and `unstructured` will simply use the DEFAULT_MODEL from `unstructured_inference.model.base` to set default model name\n",
            "WARNING:unstructured:This function will be deprecated in a future release and `unstructured` will simply use the DEFAULT_MODEL from `unstructured_inference.model.base` to set default model name\n"
          ]
        },
        {
          "output_type": "stream",
          "name": "stdout",
          "text": [
            "Done for session13C\n"
          ]
        },
        {
          "output_type": "stream",
          "name": "stderr",
          "text": [
            "WARNING:unstructured:This function will be deprecated in a future release and `unstructured` will simply use the DEFAULT_MODEL from `unstructured_inference.model.base` to set default model name\n",
            "WARNING:unstructured:This function will be deprecated in a future release and `unstructured` will simply use the DEFAULT_MODEL from `unstructured_inference.model.base` to set default model name\n",
            "WARNING:unstructured:This function will be deprecated in a future release and `unstructured` will simply use the DEFAULT_MODEL from `unstructured_inference.model.base` to set default model name\n"
          ]
        },
        {
          "output_type": "stream",
          "name": "stdout",
          "text": [
            "Done for session13aX\n"
          ]
        },
        {
          "output_type": "stream",
          "name": "stderr",
          "text": [
            "WARNING:unstructured:This function will be deprecated in a future release and `unstructured` will simply use the DEFAULT_MODEL from `unstructured_inference.model.base` to set default model name\n"
          ]
        },
        {
          "output_type": "stream",
          "name": "stdout",
          "text": [
            "Failed for session19E\n"
          ]
        },
        {
          "output_type": "stream",
          "name": "stderr",
          "text": [
            "WARNING:unstructured:This function will be deprecated in a future release and `unstructured` will simply use the DEFAULT_MODEL from `unstructured_inference.model.base` to set default model name\n",
            "WARNING:unstructured:This function will be deprecated in a future release and `unstructured` will simply use the DEFAULT_MODEL from `unstructured_inference.model.base` to set default model name\n"
          ]
        },
        {
          "output_type": "stream",
          "name": "stdout",
          "text": [
            "Done for session6A\n"
          ]
        },
        {
          "output_type": "stream",
          "name": "stderr",
          "text": [
            "WARNING:unstructured:This function will be deprecated in a future release and `unstructured` will simply use the DEFAULT_MODEL from `unstructured_inference.model.base` to set default model name\n"
          ]
        },
        {
          "output_type": "stream",
          "name": "stdout",
          "text": [
            "Done for session17A\n"
          ]
        },
        {
          "output_type": "stream",
          "name": "stderr",
          "text": [
            "WARNING:unstructured:This function will be deprecated in a future release and `unstructured` will simply use the DEFAULT_MODEL from `unstructured_inference.model.base` to set default model name\n",
            "WARNING:unstructured:This function will be deprecated in a future release and `unstructured` will simply use the DEFAULT_MODEL from `unstructured_inference.model.base` to set default model name\n"
          ]
        },
        {
          "output_type": "stream",
          "name": "stdout",
          "text": [
            "Failed for session14aX\n"
          ]
        },
        {
          "output_type": "stream",
          "name": "stderr",
          "text": [
            "WARNING:unstructured:This function will be deprecated in a future release and `unstructured` will simply use the DEFAULT_MODEL from `unstructured_inference.model.base` to set default model name\n"
          ]
        },
        {
          "output_type": "stream",
          "name": "stdout",
          "text": [
            "Done for session7\n"
          ]
        },
        {
          "output_type": "stream",
          "name": "stderr",
          "text": [
            "WARNING:unstructured:This function will be deprecated in a future release and `unstructured` will simply use the DEFAULT_MODEL from `unstructured_inference.model.base` to set default model name\n"
          ]
        },
        {
          "output_type": "stream",
          "name": "stdout",
          "text": [
            "Failed for session21C\n"
          ]
        },
        {
          "output_type": "stream",
          "name": "stderr",
          "text": [
            "WARNING:unstructured:This function will be deprecated in a future release and `unstructured` will simply use the DEFAULT_MODEL from `unstructured_inference.model.base` to set default model name\n",
            "WARNING:unstructured:This function will be deprecated in a future release and `unstructured` will simply use the DEFAULT_MODEL from `unstructured_inference.model.base` to set default model name\n"
          ]
        },
        {
          "output_type": "stream",
          "name": "stdout",
          "text": [
            "Done for session20\n"
          ]
        },
        {
          "output_type": "stream",
          "name": "stderr",
          "text": [
            "WARNING:unstructured:This function will be deprecated in a future release and `unstructured` will simply use the DEFAULT_MODEL from `unstructured_inference.model.base` to set default model name\n",
            "WARNING:unstructured:This function will be deprecated in a future release and `unstructured` will simply use the DEFAULT_MODEL from `unstructured_inference.model.base` to set default model name\n"
          ]
        },
        {
          "output_type": "stream",
          "name": "stdout",
          "text": [
            "Done for session17D\n"
          ]
        },
        {
          "output_type": "stream",
          "name": "stderr",
          "text": [
            "WARNING:unstructured:This function will be deprecated in a future release and `unstructured` will simply use the DEFAULT_MODEL from `unstructured_inference.model.base` to set default model name\n",
            "WARNING:unstructured:This function will be deprecated in a future release and `unstructured` will simply use the DEFAULT_MODEL from `unstructured_inference.model.base` to set default model name\n",
            "WARNING:unstructured:This function will be deprecated in a future release and `unstructured` will simply use the DEFAULT_MODEL from `unstructured_inference.model.base` to set default model name\n",
            "WARNING:unstructured:This function will be deprecated in a future release and `unstructured` will simply use the DEFAULT_MODEL from `unstructured_inference.model.base` to set default model name\n",
            "WARNING:unstructured:This function will be deprecated in a future release and `unstructured` will simply use the DEFAULT_MODEL from `unstructured_inference.model.base` to set default model name\n",
            "WARNING:unstructured:This function will be deprecated in a future release and `unstructured` will simply use the DEFAULT_MODEL from `unstructured_inference.model.base` to set default model name\n",
            "WARNING:unstructured:This function will be deprecated in a future release and `unstructured` will simply use the DEFAULT_MODEL from `unstructured_inference.model.base` to set default model name\n",
            "WARNING:unstructured:This function will be deprecated in a future release and `unstructured` will simply use the DEFAULT_MODEL from `unstructured_inference.model.base` to set default model name\n"
          ]
        },
        {
          "output_type": "stream",
          "name": "stdout",
          "text": [
            "Done for session12\n"
          ]
        },
        {
          "output_type": "stream",
          "name": "stderr",
          "text": [
            "WARNING:unstructured:This function will be deprecated in a future release and `unstructured` will simply use the DEFAULT_MODEL from `unstructured_inference.model.base` to set default model name\n"
          ]
        },
        {
          "output_type": "stream",
          "name": "stdout",
          "text": [
            "Done for session16A\n"
          ]
        },
        {
          "output_type": "stream",
          "name": "stderr",
          "text": [
            "WARNING:unstructured:This function will be deprecated in a future release and `unstructured` will simply use the DEFAULT_MODEL from `unstructured_inference.model.base` to set default model name\n"
          ]
        },
        {
          "output_type": "stream",
          "name": "stdout",
          "text": [
            "Done for session13\n"
          ]
        },
        {
          "output_type": "stream",
          "name": "stderr",
          "text": [
            "WARNING:unstructured:This function will be deprecated in a future release and `unstructured` will simply use the DEFAULT_MODEL from `unstructured_inference.model.base` to set default model name\n"
          ]
        },
        {
          "output_type": "stream",
          "name": "stdout",
          "text": [
            "Failed for session12X\n"
          ]
        },
        {
          "output_type": "stream",
          "name": "stderr",
          "text": [
            "WARNING:unstructured:This function will be deprecated in a future release and `unstructured` will simply use the DEFAULT_MODEL from `unstructured_inference.model.base` to set default model name\n",
            "WARNING:unstructured:This function will be deprecated in a future release and `unstructured` will simply use the DEFAULT_MODEL from `unstructured_inference.model.base` to set default model name\n"
          ]
        },
        {
          "output_type": "stream",
          "name": "stdout",
          "text": [
            "Failed for session27A\n"
          ]
        },
        {
          "output_type": "stream",
          "name": "stderr",
          "text": [
            "WARNING:unstructured:This function will be deprecated in a future release and `unstructured` will simply use the DEFAULT_MODEL from `unstructured_inference.model.base` to set default model name\n"
          ]
        },
        {
          "output_type": "stream",
          "name": "stdout",
          "text": [
            "Failed for session7A\n"
          ]
        },
        {
          "output_type": "stream",
          "name": "stderr",
          "text": [
            "WARNING:unstructured:This function will be deprecated in a future release and `unstructured` will simply use the DEFAULT_MODEL from `unstructured_inference.model.base` to set default model name\n"
          ]
        },
        {
          "output_type": "stream",
          "name": "stdout",
          "text": [
            "Done for session19C\n"
          ]
        },
        {
          "output_type": "stream",
          "name": "stderr",
          "text": [
            "WARNING:unstructured:This function will be deprecated in a future release and `unstructured` will simply use the DEFAULT_MODEL from `unstructured_inference.model.base` to set default model name\n"
          ]
        },
        {
          "output_type": "stream",
          "name": "stdout",
          "text": [
            "Done for session15\n"
          ]
        },
        {
          "output_type": "stream",
          "name": "stderr",
          "text": [
            "WARNING:unstructured:This function will be deprecated in a future release and `unstructured` will simply use the DEFAULT_MODEL from `unstructured_inference.model.base` to set default model name\n"
          ]
        },
        {
          "output_type": "stream",
          "name": "stdout",
          "text": [
            "Done for session24A\n"
          ]
        },
        {
          "output_type": "stream",
          "name": "stderr",
          "text": [
            "WARNING:unstructured:This function will be deprecated in a future release and `unstructured` will simply use the DEFAULT_MODEL from `unstructured_inference.model.base` to set default model name\n",
            "WARNING:unstructured:This function will be deprecated in a future release and `unstructured` will simply use the DEFAULT_MODEL from `unstructured_inference.model.base` to set default model name\n",
            "WARNING:unstructured:This function will be deprecated in a future release and `unstructured` will simply use the DEFAULT_MODEL from `unstructured_inference.model.base` to set default model name\n",
            "WARNING:unstructured:This function will be deprecated in a future release and `unstructured` will simply use the DEFAULT_MODEL from `unstructured_inference.model.base` to set default model name\n"
          ]
        },
        {
          "output_type": "stream",
          "name": "stdout",
          "text": [
            "Done for session8A\n"
          ]
        },
        {
          "output_type": "stream",
          "name": "stderr",
          "text": [
            "WARNING:unstructured:This function will be deprecated in a future release and `unstructured` will simply use the DEFAULT_MODEL from `unstructured_inference.model.base` to set default model name\n",
            "WARNING:unstructured:This function will be deprecated in a future release and `unstructured` will simply use the DEFAULT_MODEL from `unstructured_inference.model.base` to set default model name\n",
            "WARNING:unstructured:This function will be deprecated in a future release and `unstructured` will simply use the DEFAULT_MODEL from `unstructured_inference.model.base` to set default model name\n",
            "WARNING:unstructured:This function will be deprecated in a future release and `unstructured` will simply use the DEFAULT_MODEL from `unstructured_inference.model.base` to set default model name\n",
            "WARNING:unstructured:This function will be deprecated in a future release and `unstructured` will simply use the DEFAULT_MODEL from `unstructured_inference.model.base` to set default model name\n"
          ]
        },
        {
          "output_type": "stream",
          "name": "stdout",
          "text": [
            "Failed for session14B\n"
          ]
        },
        {
          "output_type": "stream",
          "name": "stderr",
          "text": [
            "WARNING:unstructured:This function will be deprecated in a future release and `unstructured` will simply use the DEFAULT_MODEL from `unstructured_inference.model.base` to set default model name\n",
            "WARNING:unstructured:This function will be deprecated in a future release and `unstructured` will simply use the DEFAULT_MODEL from `unstructured_inference.model.base` to set default model name\n",
            "WARNING:unstructured:This function will be deprecated in a future release and `unstructured` will simply use the DEFAULT_MODEL from `unstructured_inference.model.base` to set default model name\n"
          ]
        },
        {
          "output_type": "stream",
          "name": "stdout",
          "text": [
            "Done for session15A\n"
          ]
        },
        {
          "output_type": "stream",
          "name": "stderr",
          "text": [
            "WARNING:unstructured:This function will be deprecated in a future release and `unstructured` will simply use the DEFAULT_MODEL from `unstructured_inference.model.base` to set default model name\n"
          ]
        },
        {
          "output_type": "stream",
          "name": "stdout",
          "text": [
            "Done for session21E\n"
          ]
        },
        {
          "output_type": "stream",
          "name": "stderr",
          "text": [
            "WARNING:unstructured:This function will be deprecated in a future release and `unstructured` will simply use the DEFAULT_MODEL from `unstructured_inference.model.base` to set default model name\n"
          ]
        },
        {
          "output_type": "stream",
          "name": "stdout",
          "text": [
            "Done for session18C\n"
          ]
        },
        {
          "output_type": "stream",
          "name": "stderr",
          "text": [
            "WARNING:unstructured:This function will be deprecated in a future release and `unstructured` will simply use the DEFAULT_MODEL from `unstructured_inference.model.base` to set default model name\n"
          ]
        },
        {
          "output_type": "stream",
          "name": "stdout",
          "text": [
            "Done for session14A\n"
          ]
        },
        {
          "output_type": "stream",
          "name": "stderr",
          "text": [
            "WARNING:unstructured:This function will be deprecated in a future release and `unstructured` will simply use the DEFAULT_MODEL from `unstructured_inference.model.base` to set default model name\n",
            "WARNING:unstructured:This function will be deprecated in a future release and `unstructured` will simply use the DEFAULT_MODEL from `unstructured_inference.model.base` to set default model name\n",
            "WARNING:unstructured:This function will be deprecated in a future release and `unstructured` will simply use the DEFAULT_MODEL from `unstructured_inference.model.base` to set default model name\n"
          ]
        },
        {
          "output_type": "stream",
          "name": "stdout",
          "text": [
            "Done for session21\n"
          ]
        },
        {
          "output_type": "stream",
          "name": "stderr",
          "text": [
            "WARNING:unstructured:This function will be deprecated in a future release and `unstructured` will simply use the DEFAULT_MODEL from `unstructured_inference.model.base` to set default model name\n",
            "WARNING:unstructured:This function will be deprecated in a future release and `unstructured` will simply use the DEFAULT_MODEL from `unstructured_inference.model.base` to set default model name\n",
            "WARNING:unstructured:This function will be deprecated in a future release and `unstructured` will simply use the DEFAULT_MODEL from `unstructured_inference.model.base` to set default model name\n"
          ]
        },
        {
          "output_type": "stream",
          "name": "stdout",
          "text": [
            "Done for session8\n"
          ]
        },
        {
          "output_type": "stream",
          "name": "stderr",
          "text": [
            "WARNING:unstructured:This function will be deprecated in a future release and `unstructured` will simply use the DEFAULT_MODEL from `unstructured_inference.model.base` to set default model name\n"
          ]
        },
        {
          "output_type": "stream",
          "name": "stdout",
          "text": [
            "Done for session21A\n"
          ]
        },
        {
          "output_type": "stream",
          "name": "stderr",
          "text": [
            "WARNING:unstructured:This function will be deprecated in a future release and `unstructured` will simply use the DEFAULT_MODEL from `unstructured_inference.model.base` to set default model name\n"
          ]
        },
        {
          "output_type": "stream",
          "name": "stdout",
          "text": [
            "Failed for session15B\n"
          ]
        },
        {
          "output_type": "stream",
          "name": "stderr",
          "text": [
            "WARNING:unstructured:This function will be deprecated in a future release and `unstructured` will simply use the DEFAULT_MODEL from `unstructured_inference.model.base` to set default model name\n"
          ]
        },
        {
          "output_type": "stream",
          "name": "stdout",
          "text": [
            "Done for session14C\n"
          ]
        },
        {
          "output_type": "stream",
          "name": "stderr",
          "text": [
            "WARNING:unstructured:This function will be deprecated in a future release and `unstructured` will simply use the DEFAULT_MODEL from `unstructured_inference.model.base` to set default model name\n",
            "WARNING:unstructured:This function will be deprecated in a future release and `unstructured` will simply use the DEFAULT_MODEL from `unstructured_inference.model.base` to set default model name\n"
          ]
        },
        {
          "output_type": "stream",
          "name": "stdout",
          "text": [
            "Done for session1\n"
          ]
        },
        {
          "output_type": "stream",
          "name": "stderr",
          "text": [
            "WARNING:unstructured:This function will be deprecated in a future release and `unstructured` will simply use the DEFAULT_MODEL from `unstructured_inference.model.base` to set default model name\n",
            "WARNING:unstructured:This function will be deprecated in a future release and `unstructured` will simply use the DEFAULT_MODEL from `unstructured_inference.model.base` to set default model name\n"
          ]
        },
        {
          "output_type": "stream",
          "name": "stdout",
          "text": [
            "Done for session16B\n"
          ]
        },
        {
          "output_type": "stream",
          "name": "stderr",
          "text": [
            "WARNING:unstructured:This function will be deprecated in a future release and `unstructured` will simply use the DEFAULT_MODEL from `unstructured_inference.model.base` to set default model name\n",
            "WARNING:unstructured:This function will be deprecated in a future release and `unstructured` will simply use the DEFAULT_MODEL from `unstructured_inference.model.base` to set default model name\n",
            "WARNING:unstructured:This function will be deprecated in a future release and `unstructured` will simply use the DEFAULT_MODEL from `unstructured_inference.model.base` to set default model name\n",
            "WARNING:unstructured:This function will be deprecated in a future release and `unstructured` will simply use the DEFAULT_MODEL from `unstructured_inference.model.base` to set default model name\n"
          ]
        },
        {
          "output_type": "stream",
          "name": "stdout",
          "text": [
            "Done for session23C\n"
          ]
        },
        {
          "output_type": "stream",
          "name": "stderr",
          "text": [
            "WARNING:unstructured:This function will be deprecated in a future release and `unstructured` will simply use the DEFAULT_MODEL from `unstructured_inference.model.base` to set default model name\n"
          ]
        },
        {
          "output_type": "stream",
          "name": "stdout",
          "text": [
            "Failed for session21B\n"
          ]
        },
        {
          "output_type": "stream",
          "name": "stderr",
          "text": [
            "WARNING:unstructured:This function will be deprecated in a future release and `unstructured` will simply use the DEFAULT_MODEL from `unstructured_inference.model.base` to set default model name\n",
            "WARNING:unstructured:This function will be deprecated in a future release and `unstructured` will simply use the DEFAULT_MODEL from `unstructured_inference.model.base` to set default model name\n",
            "WARNING:unstructured:This function will be deprecated in a future release and `unstructured` will simply use the DEFAULT_MODEL from `unstructured_inference.model.base` to set default model name\n",
            "WARNING:unstructured:This function will be deprecated in a future release and `unstructured` will simply use the DEFAULT_MODEL from `unstructured_inference.model.base` to set default model name\n"
          ]
        },
        {
          "output_type": "stream",
          "name": "stdout",
          "text": [
            "Done for session10A\n"
          ]
        },
        {
          "output_type": "stream",
          "name": "stderr",
          "text": [
            "WARNING:unstructured:This function will be deprecated in a future release and `unstructured` will simply use the DEFAULT_MODEL from `unstructured_inference.model.base` to set default model name\n",
            "WARNING:unstructured:This function will be deprecated in a future release and `unstructured` will simply use the DEFAULT_MODEL from `unstructured_inference.model.base` to set default model name\n",
            "WARNING:unstructured:This function will be deprecated in a future release and `unstructured` will simply use the DEFAULT_MODEL from `unstructured_inference.model.base` to set default model name\n"
          ]
        },
        {
          "output_type": "stream",
          "name": "stdout",
          "text": [
            "Done for session18A\n"
          ]
        },
        {
          "output_type": "stream",
          "name": "stderr",
          "text": [
            "WARNING:unstructured:This function will be deprecated in a future release and `unstructured` will simply use the DEFAULT_MODEL from `unstructured_inference.model.base` to set default model name\n"
          ]
        },
        {
          "output_type": "stream",
          "name": "stdout",
          "text": [
            "Done for session19A\n",
            "Failed for session25\n"
          ]
        },
        {
          "output_type": "stream",
          "name": "stderr",
          "text": [
            "WARNING:unstructured:This function will be deprecated in a future release and `unstructured` will simply use the DEFAULT_MODEL from `unstructured_inference.model.base` to set default model name\n",
            "WARNING:unstructured:This function will be deprecated in a future release and `unstructured` will simply use the DEFAULT_MODEL from `unstructured_inference.model.base` to set default model name\n"
          ]
        },
        {
          "output_type": "stream",
          "name": "stdout",
          "text": [
            "Failed for session10B\n"
          ]
        },
        {
          "output_type": "stream",
          "name": "stderr",
          "text": [
            "WARNING:unstructured:This function will be deprecated in a future release and `unstructured` will simply use the DEFAULT_MODEL from `unstructured_inference.model.base` to set default model name\n",
            "WARNING:unstructured:This function will be deprecated in a future release and `unstructured` will simply use the DEFAULT_MODEL from `unstructured_inference.model.base` to set default model name\n"
          ]
        },
        {
          "output_type": "stream",
          "name": "stdout",
          "text": [
            "Done for session16\n"
          ]
        },
        {
          "output_type": "stream",
          "name": "stderr",
          "text": [
            "WARNING:unstructured:This function will be deprecated in a future release and `unstructured` will simply use the DEFAULT_MODEL from `unstructured_inference.model.base` to set default model name\n"
          ]
        },
        {
          "output_type": "stream",
          "name": "stdout",
          "text": [
            "Done for session26A\n"
          ]
        },
        {
          "output_type": "stream",
          "name": "stderr",
          "text": [
            "WARNING:unstructured:This function will be deprecated in a future release and `unstructured` will simply use the DEFAULT_MODEL from `unstructured_inference.model.base` to set default model name\n",
            "WARNING:unstructured:This function will be deprecated in a future release and `unstructured` will simply use the DEFAULT_MODEL from `unstructured_inference.model.base` to set default model name\n",
            "WARNING:unstructured:This function will be deprecated in a future release and `unstructured` will simply use the DEFAULT_MODEL from `unstructured_inference.model.base` to set default model name\n",
            "WARNING:unstructured:This function will be deprecated in a future release and `unstructured` will simply use the DEFAULT_MODEL from `unstructured_inference.model.base` to set default model name\n"
          ]
        },
        {
          "output_type": "stream",
          "name": "stdout",
          "text": [
            "Done for session9\n"
          ]
        },
        {
          "output_type": "stream",
          "name": "stderr",
          "text": [
            "WARNING:unstructured:This function will be deprecated in a future release and `unstructured` will simply use the DEFAULT_MODEL from `unstructured_inference.model.base` to set default model name\n"
          ]
        },
        {
          "output_type": "stream",
          "name": "stdout",
          "text": [
            "Done for session9B\n"
          ]
        },
        {
          "output_type": "stream",
          "name": "stderr",
          "text": [
            "WARNING:unstructured:This function will be deprecated in a future release and `unstructured` will simply use the DEFAULT_MODEL from `unstructured_inference.model.base` to set default model name\n",
            "WARNING:unstructured:This function will be deprecated in a future release and `unstructured` will simply use the DEFAULT_MODEL from `unstructured_inference.model.base` to set default model name\n"
          ]
        },
        {
          "output_type": "stream",
          "name": "stdout",
          "text": [
            "Done for session10\n"
          ]
        },
        {
          "output_type": "stream",
          "name": "stderr",
          "text": [
            "WARNING:unstructured:This function will be deprecated in a future release and `unstructured` will simply use the DEFAULT_MODEL from `unstructured_inference.model.base` to set default model name\n",
            "WARNING:unstructured:This function will be deprecated in a future release and `unstructured` will simply use the DEFAULT_MODEL from `unstructured_inference.model.base` to set default model name\n",
            "WARNING:unstructured:This function will be deprecated in a future release and `unstructured` will simply use the DEFAULT_MODEL from `unstructured_inference.model.base` to set default model name\n"
          ]
        },
        {
          "output_type": "stream",
          "name": "stdout",
          "text": [
            "Done for session2\n"
          ]
        },
        {
          "output_type": "stream",
          "name": "stderr",
          "text": [
            "WARNING:unstructured:This function will be deprecated in a future release and `unstructured` will simply use the DEFAULT_MODEL from `unstructured_inference.model.base` to set default model name\n",
            "WARNING:unstructured:This function will be deprecated in a future release and `unstructured` will simply use the DEFAULT_MODEL from `unstructured_inference.model.base` to set default model name\n"
          ]
        },
        {
          "output_type": "stream",
          "name": "stdout",
          "text": [
            "Failed for session16C\n"
          ]
        },
        {
          "output_type": "stream",
          "name": "stderr",
          "text": [
            "WARNING:unstructured:This function will be deprecated in a future release and `unstructured` will simply use the DEFAULT_MODEL from `unstructured_inference.model.base` to set default model name\n"
          ]
        },
        {
          "output_type": "stream",
          "name": "stdout",
          "text": [
            "Failed for session15D\n",
            "Done for session13A\n",
            "Done for session17B\n"
          ]
        },
        {
          "output_type": "stream",
          "name": "stderr",
          "text": [
            "WARNING:unstructured:This function will be deprecated in a future release and `unstructured` will simply use the DEFAULT_MODEL from `unstructured_inference.model.base` to set default model name\n"
          ]
        },
        {
          "output_type": "stream",
          "name": "stdout",
          "text": [
            "Done for session4\n",
            "Done for session18\n",
            "Done for session5\n",
            "Failed for session19D\n",
            "Done for session19B\n",
            "Done for session24\n"
          ]
        }
      ]
    },
    {
      "cell_type": "code",
      "source": [
        "!zip -r /content/qanda.zip /content/question_answer_folder\n"
      ],
      "metadata": {
        "colab": {
          "base_uri": "https://localhost:8080/"
        },
        "id": "VntV9-7lssFu",
        "outputId": "9d3ad1d8-e208-4876-8053-4ed3a94759e2"
      },
      "execution_count": null,
      "outputs": [
        {
          "output_type": "stream",
          "name": "stdout",
          "text": [
            "  adding: content/question_answer_folder/ (stored 0%)\n",
            "  adding: content/question_answer_folder/session21A.json (deflated 61%)\n",
            "  adding: content/question_answer_folder/session20B.json (deflated 68%)\n",
            "  adding: content/question_answer_folder/session24A.json (deflated 58%)\n",
            "  adding: content/question_answer_folder/session11.json (deflated 67%)\n",
            "  adding: content/question_answer_folder/session6.json (deflated 66%)\n",
            "  adding: content/question_answer_folder/session22.json (deflated 72%)\n",
            "  adding: content/question_answer_folder/session12.json (deflated 70%)\n",
            "  adding: content/question_answer_folder/session13aX.json (deflated 61%)\n",
            "  adding: content/question_answer_folder/session18C.json (deflated 60%)\n",
            "  adding: content/question_answer_folder/session23E.json (deflated 62%)\n",
            "  adding: content/question_answer_folder/session5.json (deflated 74%)\n",
            "  adding: content/question_answer_folder/session18A.json (deflated 69%)\n",
            "  adding: content/question_answer_folder/session19A.json (deflated 70%)\n",
            "  adding: content/question_answer_folder/session19B.json (deflated 65%)\n",
            "  adding: content/question_answer_folder/session16.json (deflated 64%)\n",
            "  adding: content/question_answer_folder/session14A.json (deflated 66%)\n",
            "  adding: content/question_answer_folder/session10A.json (deflated 60%)\n",
            "  adding: content/question_answer_folder/session17.json (deflated 71%)\n",
            "  adding: content/question_answer_folder/session3.json (deflated 71%)\n",
            "  adding: content/question_answer_folder/session18B.json (deflated 68%)\n",
            "  adding: content/question_answer_folder/session14.json (deflated 71%)\n",
            "  adding: content/question_answer_folder/session20C.json (deflated 68%)\n",
            "  adding: content/question_answer_folder/session19.json (deflated 60%)\n",
            "  adding: content/question_answer_folder/session11a.json (deflated 69%)\n",
            "  adding: content/question_answer_folder/session18.json (deflated 72%)\n",
            "  adding: content/question_answer_folder/session21E.json (deflated 62%)\n",
            "  adding: content/question_answer_folder/session24.json (deflated 70%)\n",
            "  adding: content/question_answer_folder/session14C.json (deflated 67%)\n",
            "  adding: content/question_answer_folder/session20.json (deflated 66%)\n",
            "  adding: content/question_answer_folder/session9B.json (deflated 72%)\n",
            "  adding: content/question_answer_folder/session15.json (deflated 65%)\n",
            "  adding: content/question_answer_folder/session17B.json (deflated 61%)\n",
            "  adding: content/question_answer_folder/session23.json (deflated 61%)\n",
            "  adding: content/question_answer_folder/session17A.json (deflated 64%)\n",
            "  adding: content/question_answer_folder/session7.json (deflated 72%)\n",
            "  adding: content/question_answer_folder/session23C.json (deflated 57%)\n",
            "  adding: content/question_answer_folder/session12a.json (deflated 62%)\n",
            "  adding: content/question_answer_folder/.ipynb_checkpoints/ (stored 0%)\n",
            "  adding: content/question_answer_folder/session20D.json (deflated 62%)\n",
            "  adding: content/question_answer_folder/session8B.json (deflated 66%)\n",
            "  adding: content/question_answer_folder/session19C.json (deflated 69%)\n",
            "  adding: content/question_answer_folder/session22A.json (deflated 58%)\n",
            "  adding: content/question_answer_folder/session21.json (deflated 65%)\n",
            "  adding: content/question_answer_folder/session13A.json (deflated 67%)\n",
            "  adding: content/question_answer_folder/session26A.json (deflated 70%)\n",
            "  adding: content/question_answer_folder/session4.json (deflated 72%)\n",
            "  adding: content/question_answer_folder/session1.json (deflated 80%)\n",
            "  adding: content/question_answer_folder/session2a.json (deflated 69%)\n",
            "  adding: content/question_answer_folder/session17D.json (deflated 61%)\n",
            "  adding: content/question_answer_folder/session6A.json (deflated 74%)\n",
            "  adding: content/question_answer_folder/session10.json (deflated 72%)\n",
            "  adding: content/question_answer_folder/session13.json (deflated 66%)\n",
            "  adding: content/question_answer_folder/session16A.json (deflated 65%)\n",
            "  adding: content/question_answer_folder/session8.json (deflated 76%)\n",
            "  adding: content/question_answer_folder/session8A.json (deflated 72%)\n",
            "  adding: content/question_answer_folder/session16B.json (deflated 60%)\n",
            "  adding: content/question_answer_folder/session9.json (deflated 73%)\n",
            "  adding: content/question_answer_folder/session13b.json (deflated 70%)\n",
            "  adding: content/question_answer_folder/session2.json (deflated 70%)\n",
            "  adding: content/question_answer_folder/session22C.json (deflated 61%)\n",
            "  adding: content/question_answer_folder/session15A.json (deflated 66%)\n",
            "  adding: content/question_answer_folder/session15C.json (deflated 72%)\n",
            "  adding: content/question_answer_folder/session13C.json (deflated 67%)\n",
            "  adding: content/question_answer_folder/session25A.json (deflated 62%)\n"
          ]
        }
      ]
    },
    {
      "cell_type": "code",
      "source": [
        "from google.colab import files\n",
        "files.download(\"/content/qanda.zip\")"
      ],
      "metadata": {
        "colab": {
          "base_uri": "https://localhost:8080/",
          "height": 17
        },
        "id": "oHAkxS0T2zy5",
        "outputId": "2e7de3cc-a586-42c7-dfef-59e8c6c655ba"
      },
      "execution_count": null,
      "outputs": [
        {
          "output_type": "display_data",
          "data": {
            "text/plain": [
              "<IPython.core.display.Javascript object>"
            ],
            "application/javascript": [
              "\n",
              "    async function download(id, filename, size) {\n",
              "      if (!google.colab.kernel.accessAllowed) {\n",
              "        return;\n",
              "      }\n",
              "      const div = document.createElement('div');\n",
              "      const label = document.createElement('label');\n",
              "      label.textContent = `Downloading \"${filename}\": `;\n",
              "      div.appendChild(label);\n",
              "      const progress = document.createElement('progress');\n",
              "      progress.max = size;\n",
              "      div.appendChild(progress);\n",
              "      document.body.appendChild(div);\n",
              "\n",
              "      const buffers = [];\n",
              "      let downloaded = 0;\n",
              "\n",
              "      const channel = await google.colab.kernel.comms.open(id);\n",
              "      // Send a message to notify the kernel that we're ready.\n",
              "      channel.send({})\n",
              "\n",
              "      for await (const message of channel.messages) {\n",
              "        // Send a message to notify the kernel that we're ready.\n",
              "        channel.send({})\n",
              "        if (message.buffers) {\n",
              "          for (const buffer of message.buffers) {\n",
              "            buffers.push(buffer);\n",
              "            downloaded += buffer.byteLength;\n",
              "            progress.value = downloaded;\n",
              "          }\n",
              "        }\n",
              "      }\n",
              "      const blob = new Blob(buffers, {type: 'application/binary'});\n",
              "      const a = document.createElement('a');\n",
              "      a.href = window.URL.createObjectURL(blob);\n",
              "      a.download = filename;\n",
              "      div.appendChild(a);\n",
              "      a.click();\n",
              "      div.remove();\n",
              "    }\n",
              "  "
            ]
          },
          "metadata": {}
        },
        {
          "output_type": "display_data",
          "data": {
            "text/plain": [
              "<IPython.core.display.Javascript object>"
            ],
            "application/javascript": [
              "download(\"download_fe9e6a12-5a76-4d6e-a827-64f7ec695c48\", \"qanda.zip\", 96399)"
            ]
          },
          "metadata": {}
        }
      ]
    },
    {
      "cell_type": "code",
      "source": [
        "dir_list = [i for i in os.listdir(\"question_answer_folder\")]\n",
        "key_list = list(session_names_dict.keys())"
      ],
      "metadata": {
        "id": "mDs710Wq25pj"
      },
      "execution_count": null,
      "outputs": []
    },
    {
      "cell_type": "code",
      "source": [
        "for kl in key_list:\n",
        "  if kl not in dir_list:\n",
        "    print(kl)"
      ],
      "metadata": {
        "colab": {
          "base_uri": "https://localhost:8080/"
        },
        "id": "GyZI660w3PKA",
        "outputId": "3242311a-625a-4fac-f09d-27a47376e89b"
      },
      "execution_count": null,
      "outputs": [
        {
          "output_type": "stream",
          "name": "stdout",
          "text": [
            "session11\n",
            "session15C\n",
            "session22\n",
            "session8B\n",
            "session5A\n",
            "session17\n",
            "session3\n",
            "session12B\n",
            "session19F\n",
            "session23E\n",
            "session20B\n",
            "session23\n",
            "session3a\n",
            "session25A\n",
            "session20A\n",
            "session12a\n",
            "session2a\n",
            "session9A\n",
            "session4a\n",
            "session18B\n",
            "session20C\n",
            "session15aX\n",
            "session11a\n",
            "session22C\n",
            "session19\n",
            "session22A\n",
            "session20D\n",
            "session14\n",
            "session6\n",
            "session13b\n",
            "session13C\n",
            "session6A\n",
            "session13aX\n",
            "session7\n",
            "session20\n",
            "session21C\n",
            "session19E\n",
            "session17D\n",
            "session17A\n",
            "session14aX\n",
            "session12\n",
            "session13\n",
            "session27A\n",
            "session16A\n",
            "session7A\n",
            "session19C\n",
            "session15\n",
            "session24A\n",
            "session12X\n",
            "session8A\n",
            "session14B\n",
            "session15A\n",
            "session14A\n",
            "session18C\n",
            "session21E\n",
            "session21\n",
            "session8\n",
            "session21A\n",
            "session14C\n",
            "session15B\n",
            "session21B\n",
            "session23C\n",
            "session16B\n",
            "session1\n",
            "session18A\n",
            "session25\n",
            "session19A\n",
            "session10B\n",
            "session10A\n",
            "session26A\n",
            "session9\n",
            "session9B\n",
            "session10\n",
            "session16\n",
            "session15D\n",
            "session13A\n",
            "session2\n",
            "session17B\n",
            "session4\n",
            "session18\n",
            "session5\n",
            "session19D\n",
            "session16C\n",
            "session19B\n",
            "session24\n"
          ]
        }
      ]
    },
    {
      "cell_type": "code",
      "source": [
        "len(key_list)"
      ],
      "metadata": {
        "colab": {
          "base_uri": "https://localhost:8080/"
        },
        "id": "oJCwFp-R3P5p",
        "outputId": "9d521c7f-b9c4-4d6d-c120-c4400b0a2003"
      },
      "execution_count": null,
      "outputs": [
        {
          "output_type": "execute_result",
          "data": {
            "text/plain": [
              "85"
            ]
          },
          "metadata": {},
          "execution_count": 114
        }
      ]
    },
    {
      "cell_type": "code",
      "source": [
        "len(dir_list)"
      ],
      "metadata": {
        "id": "JftvbqCJ3YwL",
        "outputId": "b99ec0ff-4a74-4eff-9de4-557cbfbb47a2",
        "colab": {
          "base_uri": "https://localhost:8080/"
        }
      },
      "execution_count": null,
      "outputs": [
        {
          "output_type": "execute_result",
          "data": {
            "text/plain": [
              "64"
            ]
          },
          "metadata": {},
          "execution_count": 115
        }
      ]
    },
    {
      "cell_type": "code",
      "source": [],
      "metadata": {
        "id": "y8TTRYyd3aCd"
      },
      "execution_count": null,
      "outputs": []
    }
  ]
}