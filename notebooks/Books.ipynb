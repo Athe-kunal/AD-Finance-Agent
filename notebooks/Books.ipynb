{
 "cells": [
  {
   "cell_type": "code",
   "execution_count": 1,
   "metadata": {},
   "outputs": [],
   "source": [
    "from unstructured.partition.auto import partition"
   ]
  },
  {
   "cell_type": "markdown",
   "metadata": {},
   "source": [
    "## LITTLE BOOK ON VALUATION"
   ]
  },
  {
   "cell_type": "code",
   "execution_count": 2,
   "metadata": {},
   "outputs": [],
   "source": [
    "elements = partition(\"Aswath Damodaran - The Little Book of Valuation_ How to Value a Company, Pick a Stock and Profit-Wiley (2011).pdf\",include_page_breaks=True)"
   ]
  },
  {
   "cell_type": "code",
   "execution_count": 18,
   "metadata": {},
   "outputs": [
    {
     "name": "stdout",
     "output_type": "stream",
     "text": [
      "{'type': 'Title', 'element_id': 'ac40dad83d4a9f48b5b7c5acb72d3f75', 'text': 'CH002.indd 16 CH002.indd 16', 'metadata': {'coordinates': {'points': ((46.0, 562.242), (46.0, 568.242), (89.35600000000001, 568.242), (89.35600000000001, 562.242)), 'system': 'PixelSpace', 'layout_width': 432, 'layout_height': 576}, 'filename': 'Aswath Damodaran - The Little Book of Valuation_ How to Value a Company, Pick a Stock and Profit-Wiley (2011).pdf', 'languages': ['eng'], 'last_modified': '2024-02-09T21:22:14', 'page_number': 38, 'filetype': 'application/pdf'}}\n",
      "----------------------------------------------------------------------------------------------------\n",
      "{'type': 'UncategorizedText', 'element_id': '9ab2ad0d6d3e014a5e939aac118cb7eb', 'text': '[ 1 6 ] T H E L I T T L E B O O K O F V A L U AT I O N', 'metadata': {'coordinates': {'points': ((85.5, 73.05000000000001), (85.5, 83.05000000000001), (263.421838, 83.05000000000001), (263.421838, 73.05000000000001)), 'system': 'PixelSpace', 'layout_width': 432, 'layout_height': 576}, 'filename': 'Aswath Damodaran - The Little Book of Valuation_ How to Value a Company, Pick a Stock and Profit-Wiley (2011).pdf', 'languages': ['eng'], 'last_modified': '2024-02-09T21:22:14', 'page_number': 38, 'parent_id': 'ac40dad83d4a9f48b5b7c5acb72d3f75', 'filetype': 'application/pdf'}}\n",
      "----------------------------------------------------------------------------------------------------\n",
      "{'type': 'NarrativeText', 'element_id': 'c666fb7b787a84a023e2d05a28fa86ab', 'text': 'An annuity is a constant cash flow that occurs at regular intervals for a fixed period of time. While you can compute the present value by discounting each cash flow and adding up the numbers, you can also use this equation:', 'metadata': {'coordinates': {'points': ((85.49700000000001, 99.26374999999996), (85.49700000000001, 174.02975000000004), (349.80705, 174.02975000000004), (349.80705, 99.26374999999996)), 'system': 'PixelSpace', 'layout_width': 432, 'layout_height': 576}, 'filename': 'Aswath Damodaran - The Little Book of Valuation_ How to Value a Company, Pick a Stock and Profit-Wiley (2011).pdf', 'languages': ['eng'], 'last_modified': '2024-02-09T21:22:14', 'page_number': 38, 'parent_id': 'ac40dad83d4a9f48b5b7c5acb72d3f75', 'filetype': 'application/pdf'}}\n",
      "----------------------------------------------------------------------------------------------------\n",
      "{'type': 'Title', 'element_id': 'd0191670319a4feca3af9199b151a2f9', 'text': 'Annual cash flow', 'metadata': {'coordinates': {'points': ((120.8, 212.25), (120.8, 222.25), (178.404, 222.25), (178.404, 212.25)), 'system': 'PixelSpace', 'layout_width': 432, 'layout_height': 576}, 'filename': 'Aswath Damodaran - The Little Book of Valuation_ How to Value a Company, Pick a Stock and Profit-Wiley (2011).pdf', 'languages': ['eng'], 'last_modified': '2024-02-09T21:22:14', 'page_number': 38, 'filetype': 'application/pdf'}}\n",
      "----------------------------------------------------------------------------------------------------\n",
      "{'type': 'UncategorizedText', 'element_id': '235b93061573d4c3a70916d37e85cbed', 'text': '⎡ ⎢ ⎢ ⎢ ⎢ ⎢ ⎢ ⎣', 'metadata': {'coordinates': {'points': ((179.93, 189.19), (179.93, 243.82), (181.71, 243.82), (181.71, 189.19)), 'system': 'PixelSpace', 'layout_width': 432, 'layout_height': 576}, 'filename': 'Aswath Damodaran - The Little Book of Valuation_ How to Value a Company, Pick a Stock and Profit-Wiley (2011).pdf', 'languages': ['eng'], 'last_modified': '2024-02-09T21:22:14', 'page_number': 38, 'parent_id': 'd0191670319a4feca3af9199b151a2f9', 'filetype': 'application/pdf'}}\n",
      "----------------------------------------------------------------------------------------------------\n",
      "{'type': 'UncategorizedText', 'element_id': '6b86b273ff34fce19d6b804eff5a3f57', 'text': '1', 'metadata': {'coordinates': {'points': ((181.9, 199.15000000000003), (181.9, 209.15000000000003), (186.34, 209.15000000000003), (186.34, 199.15000000000003)), 'system': 'PixelSpace', 'layout_width': 432, 'layout_height': 576}, 'filename': 'Aswath Damodaran - The Little Book of Valuation_ How to Value a Company, Pick a Stock and Profit-Wiley (2011).pdf', 'languages': ['eng'], 'last_modified': '2024-02-09T21:22:14', 'page_number': 38, 'parent_id': 'd0191670319a4feca3af9199b151a2f9', 'filetype': 'application/pdf'}}\n",
      "----------------------------------------------------------------------------------------------------\n",
      "{'type': 'UncategorizedText', 'element_id': '752f67291b3fb7bf70682905848fa0a2', 'text': '(cid:4)', 'metadata': {'coordinates': {'points': ((187.4, 197.10000000000002), (187.4, 207.10000000000002), (195.73000000000002, 207.10000000000002), (195.73000000000002, 197.10000000000002)), 'system': 'PixelSpace', 'layout_width': 432, 'layout_height': 576}, 'filename': 'Aswath Damodaran - The Little Book of Valuation_ How to Value a Company, Pick a Stock and Profit-Wiley (2011).pdf', 'languages': ['eng'], 'last_modified': '2024-02-09T21:22:14', 'page_number': 38, 'parent_id': 'd0191670319a4feca3af9199b151a2f9', 'filetype': 'application/pdf'}}\n",
      "----------------------------------------------------------------------------------------------------\n",
      "{'type': 'UncategorizedText', 'element_id': 'bb8e42299f8ac2ad4c62cfa785434d81', 'text': '(cid:2)( 1', 'metadata': {'coordinates': {'points': ((197.62, 204.41000000000003), (197.62, 216.46000000000004), (213.48000000000002, 216.46000000000004), (213.48000000000002, 204.41000000000003)), 'system': 'PixelSpace', 'layout_width': 432, 'layout_height': 576}, 'filename': 'Aswath Damodaran - The Little Book of Valuation_ How to Value a Company, Pick a Stock and Profit-Wiley (2011).pdf', 'languages': ['eng'], 'last_modified': '2024-02-09T21:22:14', 'page_number': 38, 'parent_id': 'd0191670319a4feca3af9199b151a2f9', 'filetype': 'application/pdf'}}\n",
      "----------------------------------------------------------------------------------------------------\n",
      "{'type': 'Title', 'element_id': 'dae256de99890150a82abf21322d88be', 'text': '1 Discount rate Number ) Discount rate', 'metadata': {'coordinates': {'points': ((214.82999999999998, 192.40000000000003), (214.82999999999998, 230.05), (281.6660675, 230.05), (281.6660675, 192.40000000000003)), 'system': 'PixelSpace', 'layout_width': 432, 'layout_height': 576}, 'filename': 'Aswath Damodaran - The Little Book of Valuation_ How to Value a Company, Pick a Stock and Profit-Wiley (2011).pdf', 'languages': ['eng'], 'last_modified': '2024-02-09T21:22:14', 'page_number': 38, 'filetype': 'application/pdf'}}\n",
      "----------------------------------------------------------------------------------------------------\n",
      "{'type': 'Title', 'element_id': '29df6ad35165bb23f9ac33f17a8dcb73', 'text': 'oof periods', 'metadata': {'coordinates': {'points': ((282.5, 205.304105), (282.5, 211.085105), (303.0190814, 211.085105), (303.0190814, 205.304105)), 'system': 'PixelSpace', 'layout_width': 432, 'layout_height': 576}, 'filename': 'Aswath Damodaran - The Little Book of Valuation_ How to Value a Company, Pick a Stock and Profit-Wiley (2011).pdf', 'languages': ['eng'], 'last_modified': '2024-02-09T21:22:14', 'page_number': 38, 'filetype': 'application/pdf'}}\n",
      "----------------------------------------------------------------------------------------------------\n",
      "{'type': 'NarrativeText', 'element_id': 'fe8b7d8b877b24e34ed62cbe3b05eccd', 'text': 'To illustrate, assume again that you have a choice of buying a car for $10,000 cash down or paying installments of $3,000 a year, at the end of each year, for five years, for the same car. If the discount rate is 12 percent, the present value of the installment plan is:', 'metadata': {'coordinates': {'points': ((85.497, 263.16375), (85.497, 337.92975000000007), (350.0148750000001, 337.92975000000007), (350.0148750000001, 263.16375)), 'system': 'PixelSpace', 'layout_width': 432, 'layout_height': 576}, 'filename': 'Aswath Damodaran - The Little Book of Valuation_ How to Value a Company, Pick a Stock and Profit-Wiley (2011).pdf', 'languages': ['eng'], 'last_modified': '2024-02-09T21:22:14', 'page_number': 38, 'parent_id': '29df6ad35165bb23f9ac33f17a8dcb73', 'filetype': 'application/pdf'}}\n",
      "----------------------------------------------------------------------------------------------------\n",
      "{'type': 'UncategorizedText', 'element_id': '50e5c930578954e631f9c75bfe0ef0b7', 'text': '$3,000', 'metadata': {'coordinates': {'points': ((158.6, 380.05), (158.6, 390.05), (183.7, 390.05), (183.7, 380.05)), 'system': 'PixelSpace', 'layout_width': 432, 'layout_height': 576}, 'filename': 'Aswath Damodaran - The Little Book of Valuation_ How to Value a Company, Pick a Stock and Profit-Wiley (2011).pdf', 'languages': ['eng'], 'last_modified': '2024-02-09T21:22:14', 'page_number': 38, 'parent_id': '29df6ad35165bb23f9ac33f17a8dcb73', 'filetype': 'application/pdf'}}\n",
      "----------------------------------------------------------------------------------------------------\n",
      "{'type': 'UncategorizedText', 'element_id': '235b93061573d4c3a70916d37e85cbed', 'text': '⎡ ⎢ ⎢ ⎢ ⎢ ⎢ ⎢ ⎣', 'metadata': {'coordinates': {'points': ((185.94, 357.19), (185.94, 411.31), (187.72, 411.31), (187.72, 357.19)), 'system': 'PixelSpace', 'layout_width': 432, 'layout_height': 576}, 'filename': 'Aswath Damodaran - The Little Book of Valuation_ How to Value a Company, Pick a Stock and Profit-Wiley (2011).pdf', 'languages': ['eng'], 'last_modified': '2024-02-09T21:22:14', 'page_number': 38, 'parent_id': '29df6ad35165bb23f9ac33f17a8dcb73', 'filetype': 'application/pdf'}}\n",
      "----------------------------------------------------------------------------------------------------\n",
      "{'type': 'UncategorizedText', 'element_id': '6b86b273ff34fce19d6b804eff5a3f57', 'text': '1', 'metadata': {'coordinates': {'points': ((187.9, 367.05), (187.9, 377.05), (192.34, 377.05), (192.34, 367.05)), 'system': 'PixelSpace', 'layout_width': 432, 'layout_height': 576}, 'filename': 'Aswath Damodaran - The Little Book of Valuation_ How to Value a Company, Pick a Stock and Profit-Wiley (2011).pdf', 'languages': ['eng'], 'last_modified': '2024-02-09T21:22:14', 'page_number': 38, 'parent_id': '29df6ad35165bb23f9ac33f17a8dcb73', 'filetype': 'application/pdf'}}\n",
      "----------------------------------------------------------------------------------------------------\n",
      "{'type': 'UncategorizedText', 'element_id': '752f67291b3fb7bf70682905848fa0a2', 'text': '(cid:4)', 'metadata': {'coordinates': {'points': ((192.91, 365.0), (192.91, 375.0), (201.24, 375.0), (201.24, 365.0)), 'system': 'PixelSpace', 'layout_width': 432, 'layout_height': 576}, 'filename': 'Aswath Damodaran - The Little Book of Valuation_ How to Value a Company, Pick a Stock and Profit-Wiley (2011).pdf', 'languages': ['eng'], 'last_modified': '2024-02-09T21:22:14', 'page_number': 38, 'parent_id': '29df6ad35165bb23f9ac33f17a8dcb73', 'filetype': 'application/pdf'}}\n",
      "----------------------------------------------------------------------------------------------------\n",
      "{'type': 'UncategorizedText', 'element_id': '09caa5e7ee0ecbe170551b475aab9815', 'text': '1 ( . 1 12 .12', 'metadata': {'coordinates': {'points': ((202.29, 360.43), (202.29, 397.8), (220.346, 397.8), (220.346, 360.43)), 'system': 'PixelSpace', 'layout_width': 432, 'layout_height': 576}, 'filename': 'Aswath Damodaran - The Little Book of Valuation_ How to Value a Company, Pick a Stock and Profit-Wiley (2011).pdf', 'languages': ['eng'], 'last_modified': '2024-02-09T21:22:14', 'page_number': 38, 'parent_id': '29df6ad35165bb23f9ac33f17a8dcb73', 'filetype': 'application/pdf'}}\n",
      "----------------------------------------------------------------------------------------------------\n",
      "{'type': 'UncategorizedText', 'element_id': '7848f67376b709071dda4aee29200c93', 'text': '5 )', 'metadata': {'coordinates': {'points': ((220.438, 373.104105), (220.438, 384.24), (225.466764, 384.24), (225.466764, 373.104105)), 'system': 'PixelSpace', 'layout_width': 432, 'layout_height': 576}, 'filename': 'Aswath Damodaran - The Little Book of Valuation_ How to Value a Company, Pick a Stock and Profit-Wiley (2011).pdf', 'languages': ['eng'], 'last_modified': '2024-02-09T21:22:14', 'page_number': 38, 'parent_id': '29df6ad35165bb23f9ac33f17a8dcb73', 'filetype': 'application/pdf'}}\n",
      "----------------------------------------------------------------------------------------------------\n",
      "{'type': 'UncategorizedText', 'element_id': '840fff90357ccede4b8e004af5ceaa82', 'text': '⎤ ⎥ ⎥ ⎥ ⎥ ⎥ ⎥ ⎦', 'metadata': {'coordinates': {'points': ((228.25, 357.18), (228.25, 411.3), (230.03, 411.3), (230.03, 357.18)), 'system': 'PixelSpace', 'layout_width': 432, 'layout_height': 576}, 'filename': 'Aswath Damodaran - The Little Book of Valuation_ How to Value a Company, Pick a Stock and Profit-Wiley (2011).pdf', 'languages': ['eng'], 'last_modified': '2024-02-09T21:22:14', 'page_number': 38, 'parent_id': '29df6ad35165bb23f9ac33f17a8dcb73', 'filetype': 'application/pdf'}}\n",
      "----------------------------------------------------------------------------------------------------\n",
      "{'type': 'UncategorizedText', 'element_id': '33a2b57b388470db1cb13defbe73dc18', 'text': '(cid:3)', 'metadata': {'coordinates': {'points': ((231.6, 378.0), (231.6, 388.0), (239.93, 388.0), (239.93, 378.0)), 'system': 'PixelSpace', 'layout_width': 432, 'layout_height': 576}, 'filename': 'Aswath Damodaran - The Little Book of Valuation_ How to Value a Company, Pick a Stock and Profit-Wiley (2011).pdf', 'languages': ['eng'], 'last_modified': '2024-02-09T21:22:14', 'page_number': 38, 'parent_id': '29df6ad35165bb23f9ac33f17a8dcb73', 'filetype': 'application/pdf'}}\n",
      "----------------------------------------------------------------------------------------------------\n",
      "{'type': 'UncategorizedText', 'element_id': '09fc96082d34c2dfc1295d92073b5ea1', 'text': '$', 'metadata': {'coordinates': {'points': ((240.73, 380.05), (240.73, 390.05), (245.17, 390.05), (245.17, 380.05)), 'system': 'PixelSpace', 'layout_width': 432, 'layout_height': 576}, 'filename': 'Aswath Damodaran - The Little Book of Valuation_ How to Value a Company, Pick a Stock and Profit-Wiley (2011).pdf', 'languages': ['eng'], 'last_modified': '2024-02-09T21:22:14', 'page_number': 38, 'parent_id': '29df6ad35165bb23f9ac33f17a8dcb73', 'filetype': 'application/pdf'}}\n",
      "----------------------------------------------------------------------------------------------------\n",
      "{'type': 'UncategorizedText', 'element_id': 'cf42a1be8e8f5424ba7f6c939ae66a1a', 'text': ', 10 814', 'metadata': {'coordinates': {'points': ((245.19, 380.05), (245.19, 390.05), (270.382, 390.05), (270.382, 380.05)), 'system': 'PixelSpace', 'layout_width': 432, 'layout_height': 576}, 'filename': 'Aswath Damodaran - The Little Book of Valuation_ How to Value a Company, Pick a Stock and Profit-Wiley (2011).pdf', 'languages': ['eng'], 'last_modified': '2024-02-09T21:22:14', 'page_number': 38, 'parent_id': '29df6ad35165bb23f9ac33f17a8dcb73', 'filetype': 'application/pdf'}}\n",
      "----------------------------------------------------------------------------------------------------\n",
      "{'type': 'NarrativeText', 'element_id': 'f7d82336a4812f165c6660dcb7c10152', 'text': 'The cash-down plan costs less, in present value terms,', 'metadata': {'coordinates': {'points': ((103.5, 429.76375), (103.5, 442.51375), (349.80195, 442.51375), (349.80195, 429.76375)), 'system': 'PixelSpace', 'layout_width': 432, 'layout_height': 576}, 'filename': 'Aswath Damodaran - The Little Book of Valuation_ How to Value a Company, Pick a Stock and Profit-Wiley (2011).pdf', 'languages': ['eng'], 'last_modified': '2024-02-09T21:22:14', 'page_number': 38, 'parent_id': '29df6ad35165bb23f9ac33f17a8dcb73', 'filetype': 'application/pdf'}}\n",
      "----------------------------------------------------------------------------------------------------\n",
      "{'type': 'Title', 'element_id': '36da0cdfb0499c3a413c429ed96cf0c4', 'text': 'than the installment plan.', 'metadata': {'coordinates': {'points': ((85.497, 445.26775), (85.497, 458.01775), (201.13950000000003, 458.01775), (201.13950000000003, 445.26775)), 'system': 'PixelSpace', 'layout_width': 432, 'layout_height': 576}, 'filename': 'Aswath Damodaran - The Little Book of Valuation_ How to Value a Company, Pick a Stock and Profit-Wiley (2011).pdf', 'languages': ['eng'], 'last_modified': '2024-02-09T21:22:14', 'page_number': 38, 'filetype': 'application/pdf'}}\n",
      "----------------------------------------------------------------------------------------------------\n",
      "{'type': 'NarrativeText', 'element_id': 'ab2bc6ab330270a653992b4569cd765a', 'text': 'A growing annuity is a cash flow that grows at a con- stant rate for a specified period of time. Suppose you have', 'metadata': {'coordinates': {'points': ((85.49699999999999, 460.77175), (85.49699999999999, 489.02575), (349.80450000000013, 489.02575), (349.80450000000013, 460.77175)), 'system': 'PixelSpace', 'layout_width': 432, 'layout_height': 576}, 'filename': 'Aswath Damodaran - The Little Book of Valuation_ How to Value a Company, Pick a Stock and Profit-Wiley (2011).pdf', 'languages': ['eng'], 'last_modified': '2024-02-09T21:22:14', 'page_number': 38, 'parent_id': '36da0cdfb0499c3a413c429ed96cf0c4', 'filetype': 'application/pdf'}}\n",
      "----------------------------------------------------------------------------------------------------\n",
      "{'type': 'UncategorizedText', 'element_id': '6e252db27fe280d133cd386ee8c0bdab', 'text': '3/11/11 9:02:18 AM 3/11/11 9:02:18 AM', 'metadata': {'coordinates': {'points': ((335.98, 562.242), (335.98, 568.242), (391.684, 568.242), (391.684, 562.242)), 'system': 'PixelSpace', 'layout_width': 432, 'layout_height': 576}, 'filename': 'Aswath Damodaran - The Little Book of Valuation_ How to Value a Company, Pick a Stock and Profit-Wiley (2011).pdf', 'languages': ['eng'], 'last_modified': '2024-02-09T21:22:14', 'page_number': 38, 'parent_id': '36da0cdfb0499c3a413c429ed96cf0c4', 'filetype': 'application/pdf'}}\n",
      "----------------------------------------------------------------------------------------------------\n"
     ]
    }
   ],
   "source": [
    "page_num = 38\n",
    "\n",
    "page_start = 0\n",
    "for i in range(len(elements)):\n",
    "    d = elements[i].to_dict()\n",
    "    # print(d)\n",
    "    try:\n",
    "        pageNumber = d['metadata']['page_number']\n",
    "        if pageNumber == page_num:\n",
    "        # page_start+=1\n",
    "            print(d)\n",
    "            print('-'*100)\n",
    "    except:\n",
    "        pass"
   ]
  },
  {
   "cell_type": "code",
   "execution_count": 32,
   "metadata": {},
   "outputs": [],
   "source": [
    "#Ignore uncategoized text\n",
    "#In every page, ignore the first element if it starts with CH\n",
    "#NarrativeText more than 10 words or 50 characters\n",
    "#Ignore the titles\n",
    "\n",
    "\n",
    "little_book = []\n",
    "\n",
    "for idx,elem in enumerate(elements):\n",
    "    elem_dict = elem.to_dict()\n",
    "    if elem_dict['type'] == 'NarrativeText':\n",
    "        text = elem_dict['text']\n",
    "        num_words = len(text.split(\" \"))\n",
    "        if len(text)>=50 and num_words>=10:\n",
    "            little_book.append({\n",
    "                'text':text,\n",
    "                'page_num': elem_dict['metadata']['page_number'],\n",
    "                'coordinates': elem_dict['metadata']['coordinates']['points']\n",
    "            })"
   ]
  },
  {
   "cell_type": "code",
   "execution_count": 33,
   "metadata": {},
   "outputs": [
    {
     "data": {
      "text/plain": [
       "{'text': 'We all dream of beating the market and being super investors and spend an',\n",
       " 'page_num': 1,\n",
       " 'coordinates': ((126.0, 119.0),\n",
       "  (126.0, 131.0),\n",
       "  (523.001828, 131.0),\n",
       "  (523.001828, 119.0))}"
      ]
     },
     "execution_count": 33,
     "metadata": {},
     "output_type": "execute_result"
    }
   ],
   "source": [
    "little_book[0]"
   ]
  },
  {
   "cell_type": "markdown",
   "metadata": {},
   "source": [
    "## INVESTMENT PHILOSOPHIES"
   ]
  },
  {
   "cell_type": "code",
   "execution_count": 23,
   "metadata": {},
   "outputs": [],
   "source": [
    "elements = partition(\"Aswath  Damodaran - Investment Philosophies_ Successful Investment Philosophies and the Greatest Investors Who Made Them Work (2003).pdf\",include_page_breaks=True)"
   ]
  },
  {
   "cell_type": "code",
   "execution_count": 28,
   "metadata": {},
   "outputs": [
    {
     "data": {
      "text/plain": [
       "{'type': 'NarrativeText',\n",
       " 'element_id': 'd4eb408b93e283c781b1fdae5c30f1f8',\n",
       " 'text': 'inordinate amount of time and resources in this endeavor. Consequently, we are easy prey',\n",
       " 'metadata': {'coordinates': {'points': ((90.0, 137.0),\n",
       "    (90.0, 149.0),\n",
       "    (523.013305116, 149.0),\n",
       "    (523.013305116, 137.0)),\n",
       "   'system': 'PixelSpace',\n",
       "   'layout_width': 612,\n",
       "   'layout_height': 792},\n",
       "  'filename': 'Aswath  Damodaran - Investment Philosophies_ Successful Investment Philosophies and the Greatest Investors Who Made Them Work (2003).pdf',\n",
       "  'languages': ['eng'],\n",
       "  'last_modified': '2024-02-09T21:27:34',\n",
       "  'page_number': 1,\n",
       "  'parent_id': '348348036267fa046df6956d6bff62c9',\n",
       "  'filetype': 'application/pdf'}}"
      ]
     },
     "execution_count": 28,
     "metadata": {},
     "output_type": "execute_result"
    }
   ],
   "source": [
    "elements[3].to_dict()"
   ]
  },
  {
   "cell_type": "code",
   "execution_count": 31,
   "metadata": {},
   "outputs": [
    {
     "name": "stdout",
     "output_type": "stream",
     "text": [
      "{'type': 'Title', 'element_id': 'cc615cd4f13980ac03a1a3517e772126', 'text': 'Figure 1.1: The Investment Process', 'metadata': {'coordinates': {'points': ((230.653593, 102.0), (230.653593, 122.17120799999998), (518.990129256, 122.17120799999998), (518.990129256, 102.0)), 'system': 'PixelSpace', 'layout_width': 792, 'layout_height': 612}, 'filename': 'Aswath  Damodaran - Investment Philosophies_ Successful Investment Philosophies and the Greatest Investors Who Made Them Work (2003).pdf', 'languages': ['eng'], 'last_modified': '2024-02-09T21:27:34', 'page_number': 6, 'filetype': 'application/pdf'}}\n",
      "----------------------------------------------------------------------------------------------------\n",
      "{'type': 'Title', 'element_id': '54521a09a45cd58c4e2596941d093572', 'text': 'The Client', 'metadata': {'coordinates': {'points': ((313.757856, 139.61930292), (313.757856, 149.70490691999998), (362.492210472, 149.70490691999998), (362.492210472, 139.61930292)), 'system': 'PixelSpace', 'layout_width': 792, 'layout_height': 612}, 'filename': 'Aswath  Damodaran - Investment Philosophies_ Successful Investment Philosophies and the Greatest Investors Who Made Them Work (2003).pdf', 'languages': ['eng'], 'last_modified': '2024-02-09T21:27:34', 'page_number': 6, 'filetype': 'application/pdf'}}\n",
      "----------------------------------------------------------------------------------------------------\n",
      "{'type': 'Title', 'element_id': 'e1403d46b8009a079fbd0f765ecf57c1', 'text': 'Utility Functions', 'metadata': {'coordinates': {'points': ((79.554933, 154.74770891999998), (79.554933, 174.91891691999996), (119.89375434809278, 174.91891691999996), (119.89375434809278, 154.74770891999998)), 'system': 'PixelSpace', 'layout_width': 792, 'layout_height': 612}, 'filename': 'Aswath  Damodaran - Investment Philosophies_ Successful Investment Philosophies and the Greatest Investors Who Made Them Work (2003).pdf', 'languages': ['eng'], 'last_modified': '2024-02-09T21:27:34', 'page_number': 6, 'filetype': 'application/pdf'}}\n",
      "----------------------------------------------------------------------------------------------------\n",
      "{'type': 'Title', 'element_id': 'cab07c94548d80ec39c6c0ce7e0e5622', 'text': 'Risk Tolerance/ Aversion', 'metadata': {'coordinates': {'points': ((177.76906200000002, 154.74770891999998), (177.76906200000002, 174.91891691999996), (243.3279722268168, 174.91891691999996), (243.3279722268168, 154.74770891999998)), 'system': 'PixelSpace', 'layout_width': 792, 'layout_height': 612}, 'filename': 'Aswath  Damodaran - Investment Philosophies_ Successful Investment Philosophies and the Greatest Investors Who Made Them Work (2003).pdf', 'languages': ['eng'], 'last_modified': '2024-02-09T21:27:34', 'page_number': 6, 'filetype': 'application/pdf'}}\n",
      "----------------------------------------------------------------------------------------------------\n",
      "{'type': 'Title', 'element_id': 'fef0df2c57bedcb07f8bc550c1ac810d', 'text': 'Investment Horizon', 'metadata': {'coordinates': {'points': ((313.757856, 154.74770891999998), (313.757856, 164.83331291999997), (398.6442884090484, 164.83331291999997), (398.6442884090484, 154.74770891999998)), 'system': 'PixelSpace', 'layout_width': 792, 'layout_height': 612}, 'filename': 'Aswath  Damodaran - Investment Philosophies_ Successful Investment Philosophies and the Greatest Investors Who Made Them Work (2003).pdf', 'languages': ['eng'], 'last_modified': '2024-02-09T21:27:34', 'page_number': 6, 'filetype': 'application/pdf'}}\n",
      "----------------------------------------------------------------------------------------------------\n",
      "{'type': 'Title', 'element_id': '42e471fccc4a0f66b4f2d05bd8f32166', 'text': 'Tax Status', 'metadata': {'coordinates': {'points': ((479.966382, 154.74770891999998), (479.966382, 164.83331291999997), (527.0072398152348, 164.83331291999997), (527.0072398152348, 154.74770891999998)), 'system': 'PixelSpace', 'layout_width': 792, 'layout_height': 612}, 'filename': 'Aswath  Damodaran - Investment Philosophies_ Successful Investment Philosophies and the Greatest Investors Who Made Them Work (2003).pdf', 'languages': ['eng'], 'last_modified': '2024-02-09T21:27:34', 'page_number': 6, 'filetype': 'application/pdf'}}\n",
      "----------------------------------------------------------------------------------------------------\n",
      "{'type': 'Title', 'element_id': '4ac74dfd1f3c8e30d52f4b75b18f3683', 'text': 'The Portfolio Manager’s Job', 'metadata': {'coordinates': {'points': ((275.98319100000003, 207.69712991999995), (275.98319100000003, 217.78273391999994), (411.54890875200005, 217.78273391999994), (411.54890875200005, 207.69712991999995)), 'system': 'PixelSpace', 'layout_width': 792, 'layout_height': 612}, 'filename': 'Aswath  Damodaran - Investment Philosophies_ Successful Investment Philosophies and the Greatest Investors Who Made Them Work (2003).pdf', 'languages': ['eng'], 'last_modified': '2024-02-09T21:27:34', 'page_number': 6, 'filetype': 'application/pdf'}}\n",
      "----------------------------------------------------------------------------------------------------\n",
      "{'type': 'Title', 'element_id': 'f796d896b39b83c92df78b0e90436c0a', 'text': 'Views on markets', 'metadata': {'coordinates': {'points': ((109.774665, 245.51814491999994), (109.774665, 265.68935292), (153.49254396, 265.68935292), (153.49254396, 245.51814491999994)), 'system': 'PixelSpace', 'layout_width': 792, 'layout_height': 612}, 'filename': 'Aswath  Damodaran - Investment Philosophies_ Successful Investment Philosophies and the Greatest Investors Who Made Them Work (2003).pdf', 'languages': ['eng'], 'last_modified': '2024-02-09T21:27:34', 'page_number': 6, 'filetype': 'application/pdf'}}\n",
      "----------------------------------------------------------------------------------------------------\n",
      "{'type': 'Title', 'element_id': '31919aad9f810b4c29285535c651e2a6', 'text': 'Asset Classes:', 'metadata': {'coordinates': {'points': ((207.98879399999998, 245.51814491999994), (207.98879399999998, 255.60374891999993), (274.653522792, 255.60374891999993), (274.653522792, 245.51814491999994)), 'system': 'PixelSpace', 'layout_width': 792, 'layout_height': 612}, 'filename': 'Aswath  Damodaran - Investment Philosophies_ Successful Investment Philosophies and the Greatest Investors Who Made Them Work (2003).pdf', 'languages': ['eng'], 'last_modified': '2024-02-09T21:27:34', 'page_number': 6, 'filetype': 'application/pdf'}}\n",
      "----------------------------------------------------------------------------------------------------\n",
      "{'type': 'Title', 'element_id': '2f9ed59520fc66cab900816647a178b2', 'text': 'Countries:', 'metadata': {'coordinates': {'points': ((207.98879399999998, 260.64655092), (207.98879399999998, 270.73215491999997), (252.5432478156048, 270.73215491999997), (252.5432478156048, 260.64655092)), 'system': 'PixelSpace', 'layout_width': 792, 'layout_height': 612}, 'filename': 'Aswath  Damodaran - Investment Philosophies_ Successful Investment Philosophies and the Greatest Investors Who Made Them Work (2003).pdf', 'languages': ['eng'], 'last_modified': '2024-02-09T21:27:34', 'page_number': 6, 'filetype': 'application/pdf'}}\n",
      "----------------------------------------------------------------------------------------------------\n",
      "{'type': 'Title', 'element_id': 'f82e6e3ff28c38976c5b39aa71ea14a3', 'text': 'Asset Allocation', 'metadata': {'coordinates': {'points': ((305.7104619115532, 230.38973892), (305.7104619115532, 240.47534292), (377.5979377118152, 240.47534292), (377.5979377118152, 230.38973892)), 'system': 'PixelSpace', 'layout_width': 792, 'layout_height': 612}, 'filename': 'Aswath  Damodaran - Investment Philosophies_ Successful Investment Philosophies and the Greatest Investors Who Made Them Work (2003).pdf', 'languages': ['eng'], 'last_modified': '2024-02-09T21:27:34', 'page_number': 6, 'filetype': 'application/pdf'}}\n",
      "----------------------------------------------------------------------------------------------------\n",
      "{'type': 'Title', 'element_id': 'df09c2fb2400025ab24ac6ff6f00d758', 'text': 'Stocks', 'metadata': {'coordinates': {'points': ((291.093057, 245.51814491999994), (291.093057, 255.60374891999993), (320.48366028636, 255.60374891999993), (320.48366028636, 245.51814491999994)), 'system': 'PixelSpace', 'layout_width': 792, 'layout_height': 612}, 'filename': 'Aswath  Damodaran - Investment Philosophies_ Successful Investment Philosophies and the Greatest Investors Who Made Them Work (2003).pdf', 'languages': ['eng'], 'last_modified': '2024-02-09T21:27:34', 'page_number': 6, 'filetype': 'application/pdf'}}\n",
      "----------------------------------------------------------------------------------------------------\n",
      "{'type': 'Title', 'element_id': '3c5627d987b73aa7f352495ea3ad41ed', 'text': 'Bonds', 'metadata': {'coordinates': {'points': ((366.642387, 245.51814491999994), (366.642387, 255.60374891999993), (395.230253472, 255.60374891999993), (395.230253472, 245.51814491999994)), 'system': 'PixelSpace', 'layout_width': 792, 'layout_height': 612}, 'filename': 'Aswath  Damodaran - Investment Philosophies_ Successful Investment Philosophies and the Greatest Investors Who Made Them Work (2003).pdf', 'languages': ['eng'], 'last_modified': '2024-02-09T21:27:34', 'page_number': 6, 'filetype': 'application/pdf'}}\n",
      "----------------------------------------------------------------------------------------------------\n",
      "{'type': 'Title', 'element_id': 'a0ff2abac1dfdf6e80909c1f1d6a7709', 'text': 'Domestic', 'metadata': {'coordinates': {'points': ((298.64799, 260.64655092), (298.64799, 270.73215491999997), (339.825930705132, 270.73215491999997), (339.825930705132, 260.64655092)), 'system': 'PixelSpace', 'layout_width': 792, 'layout_height': 612}, 'filename': 'Aswath  Damodaran - Investment Philosophies_ Successful Investment Philosophies and the Greatest Investors Who Made Them Work (2003).pdf', 'languages': ['eng'], 'last_modified': '2024-02-09T21:27:34', 'page_number': 6, 'filetype': 'application/pdf'}}\n",
      "----------------------------------------------------------------------------------------------------\n",
      "{'type': 'Title', 'element_id': '4a3ad0763556b603a46bc97f964a6d5f', 'text': 'Real Assets', 'metadata': {'coordinates': {'points': ((427.081851, 245.51814491999994), (427.081851, 255.60374891999993), (480.87297395999997, 255.60374891999993), (480.87297395999997, 245.51814491999994)), 'system': 'PixelSpace', 'layout_width': 792, 'layout_height': 612}, 'filename': 'Aswath  Damodaran - Investment Philosophies_ Successful Investment Philosophies and the Greatest Investors Who Made Them Work (2003).pdf', 'languages': ['eng'], 'last_modified': '2024-02-09T21:27:34', 'page_number': 6, 'filetype': 'application/pdf'}}\n",
      "----------------------------------------------------------------------------------------------------\n",
      "{'type': 'Title', 'element_id': '1e1c9a391a47997f08baadb26f79df00', 'text': 'Non-Domestic', 'metadata': {'coordinates': {'points': ((396.862119, 260.64655092), (396.862119, 270.73215491999997), (459.90087139826187, 270.73215491999997), (459.90087139826187, 260.64655092)), 'system': 'PixelSpace', 'layout_width': 792, 'layout_height': 612}, 'filename': 'Aswath  Damodaran - Investment Philosophies_ Successful Investment Philosophies and the Greatest Investors Who Made Them Work (2003).pdf', 'languages': ['eng'], 'last_modified': '2024-02-09T21:27:34', 'page_number': 6, 'filetype': 'application/pdf'}}\n",
      "----------------------------------------------------------------------------------------------------\n",
      "{'type': 'Title', 'element_id': 'd30b999518243d914e3d7d8449f0eb2f', 'text': 'Views on - inflation - rates - growth', 'metadata': {'coordinates': {'points': ((502.63118099999997, 230.38973892), (502.63118099999997, 270.73215491999997), (543.548698128, 270.73215491999997), (543.548698128, 230.38973892)), 'system': 'PixelSpace', 'layout_width': 792, 'layout_height': 612}, 'filename': 'Aswath  Damodaran - Investment Philosophies_ Successful Investment Philosophies and the Greatest Investors Who Made Them Work (2003).pdf', 'languages': ['eng'], 'last_modified': '2024-02-09T21:27:34', 'page_number': 6, 'filetype': 'application/pdf'}}\n",
      "----------------------------------------------------------------------------------------------------\n",
      "{'type': 'Title', 'element_id': '42bbb540ca7ac134332509df7e4bdf2e', 'text': 'Valuation based on - Cash flows - Comparables - Charts & Indicators', 'metadata': {'coordinates': {'points': ((117.329598, 298.46756591999997), (117.329598, 358.98118992), (183.490664592, 358.98118992), (183.490664592, 298.46756591999997)), 'system': 'PixelSpace', 'layout_width': 792, 'layout_height': 612}, 'filename': 'Aswath  Damodaran - Investment Philosophies_ Successful Investment Philosophies and the Greatest Investors Who Made Them Work (2003).pdf', 'languages': ['eng'], 'last_modified': '2024-02-09T21:27:34', 'page_number': 6, 'filetype': 'application/pdf'}}\n",
      "----------------------------------------------------------------------------------------------------\n",
      "{'type': 'Title', 'element_id': 'bdfc538375d6e92ed23431f8885ac671', 'text': 'Security Selection', 'metadata': {'coordinates': {'points': ((305.7104619115532, 306.03176892), (305.7104619115532, 316.11737292), (386.0108350937296, 316.11737292), (386.0108350937296, 306.03176892)), 'system': 'PixelSpace', 'layout_width': 792, 'layout_height': 612}, 'filename': 'Aswath  Damodaran - Investment Philosophies_ Successful Investment Philosophies and the Greatest Investors Who Made Them Work (2003).pdf', 'languages': ['eng'], 'last_modified': '2024-02-09T21:27:34', 'page_number': 6, 'filetype': 'application/pdf'}}\n",
      "----------------------------------------------------------------------------------------------------\n",
      "{'type': 'ListItem', 'element_id': 'a24c24309b14b48710dcf8b3cc0e8c93', 'text': 'Which stocks? Which bonds? Which real assets?', 'metadata': {'coordinates': {'points': ((223.09866, 321.16017492), (223.09866, 331.24577891999996), (441.5793362921566, 331.24577891999996), (441.5793362921566, 321.16017492)), 'system': 'PixelSpace', 'layout_width': 792, 'layout_height': 612}, 'filename': 'Aswath  Damodaran - Investment Philosophies_ Successful Investment Philosophies and the Greatest Investors Who Made Them Work (2003).pdf', 'languages': ['eng'], 'last_modified': '2024-02-09T21:27:34', 'page_number': 6, 'parent_id': 'bdfc538375d6e92ed23431f8885ac671', 'filetype': 'application/pdf'}}\n",
      "----------------------------------------------------------------------------------------------------\n",
      "{'type': 'Title', 'element_id': 'cdd740db935e2b1455cfdfea98767f5d', 'text': 'Private Information', 'metadata': {'coordinates': {'points': ((495.076248, 306.03176892), (495.076248, 326.20297691999997), (542.1608569359, 326.20297691999997), (542.1608569359, 306.03176892)), 'system': 'PixelSpace', 'layout_width': 792, 'layout_height': 612}, 'filename': 'Aswath  Damodaran - Investment Philosophies_ Successful Investment Philosophies and the Greatest Investors Who Made Them Work (2003).pdf', 'languages': ['eng'], 'last_modified': '2024-02-09T21:27:34', 'page_number': 6, 'filetype': 'application/pdf'}}\n",
      "----------------------------------------------------------------------------------------------------\n",
      "{'type': 'Title', 'element_id': '47749564680e6592a10c8808e6999dca', 'text': 'Trading Costs - Commissions - Bid Ask Spread - Price Impact', 'metadata': {'coordinates': {'points': ((117.329598, 374.10959591999995), (117.329598, 424.53761592), (192.989733684, 424.53761592), (192.989733684, 374.10959591999995)), 'system': 'PixelSpace', 'layout_width': 792, 'layout_height': 612}, 'filename': 'Aswath  Damodaran - Investment Philosophies_ Successful Investment Philosophies and the Greatest Investors Who Made Them Work (2003).pdf', 'languages': ['eng'], 'last_modified': '2024-02-09T21:27:34', 'page_number': 6, 'filetype': 'application/pdf'}}\n",
      "----------------------------------------------------------------------------------------------------\n",
      "{'type': 'Title', 'element_id': 'a45cd4bd0998e5683cdf4839b883fc0c', 'text': 'Execution', 'metadata': {'coordinates': {'points': ((320.8203279115532, 374.10959591999995), (320.8203279115532, 384.19519991999994), (365.81705623512283, 384.19519991999994), (365.81705623512283, 374.10959591999995)), 'system': 'PixelSpace', 'layout_width': 792, 'layout_height': 612}, 'filename': 'Aswath  Damodaran - Investment Philosophies_ Successful Investment Philosophies and the Greatest Investors Who Made Them Work (2003).pdf', 'languages': ['eng'], 'last_modified': '2024-02-09T21:27:34', 'page_number': 6, 'filetype': 'application/pdf'}}\n",
      "----------------------------------------------------------------------------------------------------\n",
      "{'type': 'ListItem', 'element_id': '7e5a20ac9c5a5593e3316f52eb7c3590', 'text': 'How often do you trade? - How large are your trades? - Do you use derivatives to manage or enhance risk?', 'metadata': {'coordinates': {'points': ((223.09866, 389.23800192), (223.09866, 419.49481391999996), (450.88457400845994, 419.49481391999996), (450.88457400845994, 389.23800192)), 'system': 'PixelSpace', 'layout_width': 792, 'layout_height': 612}, 'filename': 'Aswath  Damodaran - Investment Philosophies_ Successful Investment Philosophies and the Greatest Investors Who Made Them Work (2003).pdf', 'languages': ['eng'], 'last_modified': '2024-02-09T21:27:34', 'page_number': 6, 'parent_id': 'a45cd4bd0998e5683cdf4839b883fc0c', 'filetype': 'application/pdf'}}\n",
      "----------------------------------------------------------------------------------------------------\n",
      "{'type': 'Title', 'element_id': '0a5f7e0a1fa55877ec8db46290888d65', 'text': 'Trading Speed', 'metadata': {'coordinates': {'points': ((495.076248, 381.67379891999997), (495.076248, 401.84500691999995), (529.5489972979692, 401.84500691999995), (529.5489972979692, 381.67379891999997)), 'system': 'PixelSpace', 'layout_width': 792, 'layout_height': 612}, 'filename': 'Aswath  Damodaran - Investment Philosophies_ Successful Investment Philosophies and the Greatest Investors Who Made Them Work (2003).pdf', 'languages': ['eng'], 'last_modified': '2024-02-09T21:27:34', 'page_number': 6, 'filetype': 'application/pdf'}}\n",
      "----------------------------------------------------------------------------------------------------\n",
      "{'type': 'Title', 'element_id': '62b1a780ed75f3bbc625de5c91a201ef', 'text': 'Performance Evaluation', 'metadata': {'coordinates': {'points': ((260.873325, 464.88003191999996), (260.873325, 474.96563591999995), (376.31270124, 474.96563591999995), (376.31270124, 464.88003191999996)), 'system': 'PixelSpace', 'layout_width': 792, 'layout_height': 612}, 'filename': 'Aswath  Damodaran - Investment Philosophies_ Successful Investment Philosophies and the Greatest Investors Who Made Them Work (2003).pdf', 'languages': ['eng'], 'last_modified': '2024-02-09T21:27:34', 'page_number': 6, 'filetype': 'application/pdf'}}\n",
      "----------------------------------------------------------------------------------------------------\n",
      "{'type': 'Title', 'element_id': '95465dc7cbc70fb0612e3e19bf5e1188', 'text': 'Market Timing', 'metadata': {'coordinates': {'points': ((124.88453100000001, 480.00843791999995), (124.88453100000001, 500.17964592), (154.303586164038, 500.17964592), (154.303586164038, 480.00843791999995)), 'system': 'PixelSpace', 'layout_width': 792, 'layout_height': 612}, 'filename': 'Aswath  Damodaran - Investment Philosophies_ Successful Investment Philosophies and the Greatest Investors Who Made Them Work (2003).pdf', 'languages': ['eng'], 'last_modified': '2024-02-09T21:27:34', 'page_number': 6, 'filetype': 'application/pdf'}}\n",
      "----------------------------------------------------------------------------------------------------\n",
      "{'type': 'ListItem', 'element_id': '41c2c37b0cb541e306819034bc3a3dc9', 'text': '1. How much risk did the portfolio manager take? 2. What return did the portfolio manager make? 3. Did the portfolio manager underperform or outperform?', 'metadata': {'coordinates': {'points': ((185.323995, 480.00843791999995), (185.323995, 510.26524992), (434.19506721397806, 510.26524992), (434.19506721397806, 480.00843791999995)), 'system': 'PixelSpace', 'layout_width': 792, 'layout_height': 612}, 'filename': 'Aswath  Damodaran - Investment Philosophies_ Successful Investment Philosophies and the Greatest Investors Who Made Them Work (2003).pdf', 'languages': ['eng'], 'last_modified': '2024-02-09T21:27:34', 'page_number': 6, 'parent_id': '95465dc7cbc70fb0612e3e19bf5e1188', 'filetype': 'application/pdf'}}\n",
      "----------------------------------------------------------------------------------------------------\n",
      "{'type': 'Title', 'element_id': '91fb547f1766d4d2851ea9f4e642b6cd', 'text': 'Stock Selection', 'metadata': {'coordinates': {'points': ((502.63118099999997, 480.00843791999995), (502.63118099999997, 500.17964592), (542.9768440954175, 500.17964592), (542.9768440954175, 480.00843791999995)), 'system': 'PixelSpace', 'layout_width': 792, 'layout_height': 612}, 'filename': 'Aswath  Damodaran - Investment Philosophies_ Successful Investment Philosophies and the Greatest Investors Who Made Them Work (2003).pdf', 'languages': ['eng'], 'last_modified': '2024-02-09T21:27:34', 'page_number': 6, 'filetype': 'application/pdf'}}\n",
      "----------------------------------------------------------------------------------------------------\n",
      "{'type': 'UncategorizedText', 'element_id': 'e7f6c011776e8db7cd330b54174fd76f', 'text': '6', 'metadata': {'coordinates': {'points': ((557.0, 36.0), (557.0, 48.0), (563.0, 48.0), (563.0, 36.0)), 'system': 'PixelSpace', 'layout_width': 792, 'layout_height': 612}, 'filename': 'Aswath  Damodaran - Investment Philosophies_ Successful Investment Philosophies and the Greatest Investors Who Made Them Work (2003).pdf', 'languages': ['eng'], 'last_modified': '2024-02-09T21:27:34', 'page_number': 6, 'parent_id': '91fb547f1766d4d2851ea9f4e642b6cd', 'filetype': 'application/pdf'}}\n",
      "----------------------------------------------------------------------------------------------------\n",
      "{'type': 'Title', 'element_id': '3bdda290d4b6a7887533aa56fca48b6d', 'text': 'Tax Code', 'metadata': {'coordinates': {'points': ((585.735444, 154.74770891999998), (585.735444, 164.83331291999997), (629.45332296, 164.83331291999997), (629.45332296, 154.74770891999998)), 'system': 'PixelSpace', 'layout_width': 792, 'layout_height': 612}, 'filename': 'Aswath  Damodaran - Investment Philosophies_ Successful Investment Philosophies and the Greatest Investors Who Made Them Work (2003).pdf', 'languages': ['eng'], 'last_modified': '2024-02-09T21:27:34', 'page_number': 6, 'filetype': 'application/pdf'}}\n",
      "----------------------------------------------------------------------------------------------------\n",
      "{'type': 'NarrativeText', 'element_id': '2bd144312d0c3efba9791e15def81c63', 'text': 'Risk and Return - Measuring risk - Effects of diversification', 'metadata': {'coordinates': {'points': ((570.625578, 230.38973892), (570.625578, 270.73215491999997), (638.7114239383296, 270.73215491999997), (638.7114239383296, 230.38973892)), 'system': 'PixelSpace', 'layout_width': 792, 'layout_height': 612}, 'filename': 'Aswath  Damodaran - Investment Philosophies_ Successful Investment Philosophies and the Greatest Investors Who Made Them Work (2003).pdf', 'languages': ['eng'], 'last_modified': '2024-02-09T21:27:34', 'page_number': 6, 'parent_id': '3bdda290d4b6a7887533aa56fca48b6d', 'filetype': 'application/pdf'}}\n",
      "----------------------------------------------------------------------------------------------------\n",
      "{'type': 'NarrativeText', 'element_id': '5f75c812ad0b4c8538f8572364656358', 'text': 'Market Efficiency - Can you beat the market?', 'metadata': {'coordinates': {'points': ((570.625578, 306.03176892), (570.625578, 336.28858091999996), (642.8949146988864, 336.28858091999996), (642.8949146988864, 306.03176892)), 'system': 'PixelSpace', 'layout_width': 792, 'layout_height': 612}, 'filename': 'Aswath  Damodaran - Investment Philosophies_ Successful Investment Philosophies and the Greatest Investors Who Made Them Work (2003).pdf', 'languages': ['eng'], 'last_modified': '2024-02-09T21:27:34', 'page_number': 6, 'parent_id': '3bdda290d4b6a7887533aa56fca48b6d', 'filetype': 'application/pdf'}}\n",
      "----------------------------------------------------------------------------------------------------\n",
      "{'type': 'NarrativeText', 'element_id': 'f4252ee2dd6870ecb27fea65226c7327', 'text': 'Trading Systems - How does trading affect prices?', 'metadata': {'coordinates': {'points': ((570.625578, 389.23800192), (570.625578, 419.49481391999996), (656.3700553769148, 419.49481391999996), (656.3700553769148, 389.23800192)), 'system': 'PixelSpace', 'layout_width': 792, 'layout_height': 612}, 'filename': 'Aswath  Damodaran - Investment Philosophies_ Successful Investment Philosophies and the Greatest Investors Who Made Them Work (2003).pdf', 'languages': ['eng'], 'last_modified': '2024-02-09T21:27:34', 'page_number': 6, 'parent_id': '3bdda290d4b6a7887533aa56fca48b6d', 'filetype': 'application/pdf'}}\n",
      "----------------------------------------------------------------------------------------------------\n",
      "{'type': 'Title', 'element_id': '533439ea9a1678f764418de11dff3855', 'text': 'Risk Models - The CAPM - The APM', 'metadata': {'coordinates': {'points': ((578.180511, 472.44423492), (578.180511, 512.7866509199999), (632.806363397304, 512.7866509199999), (632.806363397304, 472.44423492)), 'system': 'PixelSpace', 'layout_width': 792, 'layout_height': 612}, 'filename': 'Aswath  Damodaran - Investment Philosophies_ Successful Investment Philosophies and the Greatest Investors Who Made Them Work (2003).pdf', 'languages': ['eng'], 'last_modified': '2024-02-09T21:27:34', 'page_number': 6, 'filetype': 'application/pdf'}}\n",
      "----------------------------------------------------------------------------------------------------\n"
     ]
    }
   ],
   "source": [
    "page_num = 6\n",
    "\n",
    "page_start = 0\n",
    "for i in range(len(elements)):\n",
    "    d = elements[i].to_dict()\n",
    "    # print(d)\n",
    "    try:\n",
    "        pageNumber = d['metadata']['page_number']\n",
    "        if pageNumber > page_num: break\n",
    "        if pageNumber == page_num:\n",
    "        # page_start+=1\n",
    "            print(d)\n",
    "            print('-'*100)\n",
    "    except:\n",
    "        pass"
   ]
  },
  {
   "cell_type": "code",
   "execution_count": 34,
   "metadata": {},
   "outputs": [],
   "source": [
    "investment_philosphies = []\n",
    "\n",
    "for idx,elem in enumerate(elements):\n",
    "    elem_dict = elem.to_dict()\n",
    "    if elem_dict['type'] == 'NarrativeText':\n",
    "        text = elem_dict['text']\n",
    "        # num_words = len(text.split(\" \"))\n",
    "        # if len(text)>=50 and num_words>=10:\n",
    "        investment_philosphies.append({\n",
    "            'text':text,\n",
    "            'page_num': elem_dict['metadata']['page_number'],\n",
    "            'coordinates': elem_dict['metadata']['coordinates']['points']\n",
    "        })"
   ]
  },
  {
   "cell_type": "code",
   "execution_count": 36,
   "metadata": {},
   "outputs": [
    {
     "data": {
      "text/plain": [
       "{'text': 'preferences. For a portfolio manager, the investor is a client, and the first and often most',\n",
       " 'page_num': 4,\n",
       " 'coordinates': ((90.0, 276.0),\n",
       "  (90.0, 288.0),\n",
       "  (523.01410904, 288.0),\n",
       "  (523.01410904, 276.0))}"
      ]
     },
     "execution_count": 36,
     "metadata": {},
     "output_type": "execute_result"
    }
   ],
   "source": [
    "investment_philosphies[100]"
   ]
  },
  {
   "cell_type": "markdown",
   "metadata": {},
   "source": [
    "## VALUE IN STORIES"
   ]
  },
  {
   "cell_type": "code",
   "execution_count": 37,
   "metadata": {},
   "outputs": [],
   "source": [
    "elements = partition(\"(Columbia Business School Publishing) Aswath Damodaran - Narrative and Numbers_ The Value of Stories in Business-Columbia University Press (2017).pdf\",include_page_breaks=True)"
   ]
  },
  {
   "cell_type": "code",
   "execution_count": 43,
   "metadata": {},
   "outputs": [
    {
     "name": "stdout",
     "output_type": "stream",
     "text": [
      "{'type': 'NarrativeText', 'element_id': '70494070afd76805e0e8e5e3e81bdda2', 'text': 'prefaceAs early as middle school, the world divides us into storytellers and num-ber crunchers, and once divided, we stay in our preferred habitats. The numbers people seek out numbers classes in school, go on to numbers dis-ciplines in college (engineering, physical sciences, accounting), and over time lose their capacity for storytelling. The storytellers populate the social science classes in school and then burnish their skills by becoming history, literature, philosophy, and psychology majors. Each group learns to both fear and be suspicious of the other, and by the time they come into my valuation class as MBA students, that suspicion has deepened into a divide that seems unbridgeable. You have two tribes, each one speaking its own language and each convinced that it has a monopoly on the truth and that the other side is the one that is wrong.I must confess that I am more a numbers person than a storyteller and that when I first started teaching valuation, I catered almost entirely to those of my ilk. As I have wrestled with valuation questions, one of the most important lessons I have learned is that a valuation that is not backed up by a story is both soulless and untrustworthy and that we remember stories better than spreadsheets. While it did not come naturally to me, I started to animate my valuations with stories, and I have rediscovered the storytelling side that I had suppressed since sixth grade. While I am still', 'metadata': {'coordinates': {'points': ((0, 0), (0, 648), (432, 648), (432, 0)), 'system': 'PixelSpace', 'layout_width': 432, 'layout_height': 648}, 'filename': '(Columbia Business School Publishing) Aswath Damodaran - Narrative and Numbers_ The Value of Stories in Business-Columbia University Press (2017).pdf', 'languages': ['eng'], 'last_modified': '2024-02-09T21:26:48', 'page_number': 8, 'filetype': 'application/pdf'}}\n",
      "----------------------------------------------------------------------------------------------------\n"
     ]
    }
   ],
   "source": [
    "page_num = 8\n",
    "\n",
    "page_start = 0\n",
    "for i in range(len(elements)):\n",
    "    d = elements[i].to_dict()\n",
    "    # print(d)\n",
    "    try:\n",
    "        pageNumber = d['metadata']['page_number']\n",
    "        if pageNumber > page_num: break\n",
    "        if pageNumber == page_num:\n",
    "        # page_start+=1\n",
    "            print(d)\n",
    "            print('-'*100)\n",
    "    except:\n",
    "        pass"
   ]
  },
  {
   "cell_type": "code",
   "execution_count": 47,
   "metadata": {},
   "outputs": [],
   "source": [
    "value_in_stories = []\n",
    "start_page = 8\n",
    "for idx,elem in enumerate(elements):\n",
    "    elem_dict = elem.to_dict()\n",
    "    if elem_dict['type'] == 'PageBreak':continue\n",
    "    page_num = elem_dict['metadata']['page_number']\n",
    "    if page_num >= start_page:\n",
    "        if elem_dict['type'] == 'NarrativeText':\n",
    "            text = elem_dict['text']\n",
    "            # num_words = len(text.split(\" \"))\n",
    "            # if len(text)>=50 and num_words>=10:\n",
    "            value_in_stories.append({\n",
    "                'text':text,\n",
    "                'page_num': page_num,\n",
    "                'coordinates': elem_dict['metadata']['coordinates']['points']\n",
    "            })"
   ]
  },
  {
   "cell_type": "code",
   "execution_count": 48,
   "metadata": {},
   "outputs": [
    {
     "data": {
      "text/plain": [
       "{'text': 'prefaceAs early as middle school, the world divides us into storytellers and num-ber crunchers, and once divided, we stay in our preferred habitats. The numbers people seek out numbers classes in school, go on to numbers dis-ciplines in college (engineering, physical sciences, accounting), and over time lose their capacity for storytelling. The storytellers populate the social science classes in school and then burnish their skills by becoming history, literature, philosophy, and psychology majors. Each group learns to both fear and be suspicious of the other, and by the time they come into my valuation class as MBA students, that suspicion has deepened into a divide that seems unbridgeable. You have two tribes, each one speaking its own language and each convinced that it has a monopoly on the truth and that the other side is the one that is wrong.I must confess that I am more a numbers person than a storyteller and that when I first started teaching valuation, I catered almost entirely to those of my ilk. As I have wrestled with valuation questions, one of the most important lessons I have learned is that a valuation that is not backed up by a story is both soulless and untrustworthy and that we remember stories better than spreadsheets. While it did not come naturally to me, I started to animate my valuations with stories, and I have rediscovered the storytelling side that I had suppressed since sixth grade. While I am still',\n",
       " 'page_num': 8,\n",
       " 'coordinates': ((0, 0), (0, 648), (432, 648), (432, 0))}"
      ]
     },
     "execution_count": 48,
     "metadata": {},
     "output_type": "execute_result"
    }
   ],
   "source": [
    "value_in_stories[0]"
   ]
  },
  {
   "cell_type": "markdown",
   "metadata": {},
   "source": [
    "## DAMODARAN ON VALUATION"
   ]
  },
  {
   "cell_type": "code",
   "execution_count": 49,
   "metadata": {},
   "outputs": [],
   "source": [
    "elements = partition(\"(Wiley Finance, 324) Aswath Damodaran - Damodaran on Valuation_ Security Analysis for Investment and Corporate Finance-Wiley (2006).pdf\",include_page_breaks=True)"
   ]
  },
  {
   "cell_type": "code",
   "execution_count": 50,
   "metadata": {},
   "outputs": [
    {
     "name": "stdout",
     "output_type": "stream",
     "text": [
      "{'type': 'Title', 'element_id': '7a931891ebbb61a7201470a43a8d9ce7', 'text': 'Preface', 'metadata': {'coordinates': {'points': ((60.0, 69.0652), (60.0, 81.0652), (95.928, 81.0652), (95.928, 69.0652)), 'system': 'PixelSpace', 'layout_width': 420, 'layout_height': 595}, 'filename': '(Wiley Finance, 324) Aswath Damodaran - Damodaran on Valuation_ Security Analysis for Investment and Corporate Finance-Wiley (2006).pdf', 'languages': ['eng'], 'last_modified': '2024-02-09T21:20:20', 'page_number': 15, 'filetype': 'application/pdf'}}\n",
      "----------------------------------------------------------------------------------------------------\n",
      "{'type': 'NarrativeText', 'element_id': '23674bcceeb03fea685969102d898c04', 'text': 'There is nothing so dangerous as the pursuit of a rational investment policy in an irrational world.', 'metadata': {'coordinates': {'points': ((60.0, 96.90519999999998), (60.0, 123.30519999999996), (359.47720000000004, 123.30519999999996), (359.47720000000004, 96.90519999999998)), 'system': 'PixelSpace', 'layout_width': 420, 'layout_height': 595}, 'filename': '(Wiley Finance, 324) Aswath Damodaran - Damodaran on Valuation_ Security Analysis for Investment and Corporate Finance-Wiley (2006).pdf', 'languages': ['eng'], 'last_modified': '2024-02-09T21:20:20', 'page_number': 15, 'parent_id': '7a931891ebbb61a7201470a43a8d9ce7', 'filetype': 'application/pdf'}}\n",
      "----------------------------------------------------------------------------------------------------\n",
      "{'type': 'Title', 'element_id': 'a879f5768a630c8a2c6394e92a181d6d', 'text': '—John Maynard Keynes', 'metadata': {'coordinates': {'points': ((60.0, 139.1452), (60.0, 151.1452), (179.928, 151.1452), (179.928, 139.1452)), 'system': 'PixelSpace', 'layout_width': 420, 'layout_height': 595}, 'filename': '(Wiley Finance, 324) Aswath Damodaran - Damodaran on Valuation_ Security Analysis for Investment and Corporate Finance-Wiley (2006).pdf', 'languages': ['eng'], 'last_modified': '2024-02-09T21:20:20', 'page_number': 15, 'filetype': 'application/pdf'}}\n",
      "----------------------------------------------------------------------------------------------------\n",
      "{'type': 'NarrativeText', 'element_id': '52f18cbcea5f7b51d642869d4666ba0d', 'text': 'Lord Keynes was not alone in believing that the pursuit of true value based on financial fundamentals is a fruitless one in markets where prices often seem to have little to do with value. There have always been investors in financial markets who have argued that market prices are determined by the perceptions (and misperceptions) of buyers and sellers, and not by anything as prosaic as cash flows or earnings. I do not disagree with them that investor perceptions matter, but I do disagree with the notion that they are all that matter. It is a fundamental precept of this book that it is possible to estimate value from financial fundamentals, albeit with error, for most assets, and that the market price cannot deviate from this value in the long term. 1 From the tulip bulb craze in Holland in the early seventeenth century to the South Sea Bubble in England in the 1800s to the stock markets of the present, markets have shown the capacity to correct themselves, often at the expense of those who believed that the day of reckoning would never come.', 'metadata': {'coordinates': {'points': ((60.0, 166.98519999999996), (60.0, 438.1852), (359.5276, 438.1852), (359.5276, 166.98519999999996)), 'system': 'PixelSpace', 'layout_width': 420, 'layout_height': 595}, 'filename': '(Wiley Finance, 324) Aswath Damodaran - Damodaran on Valuation_ Security Analysis for Investment and Corporate Finance-Wiley (2006).pdf', 'languages': ['eng'], 'last_modified': '2024-02-09T21:20:20', 'page_number': 15, 'parent_id': 'a879f5768a630c8a2c6394e92a181d6d', 'filetype': 'application/pdf'}}\n",
      "----------------------------------------------------------------------------------------------------\n",
      "{'type': 'NarrativeText', 'element_id': '413e418b210b263ddb3d672524baa40c', 'text': 'The first edition of this book was my first attempt at writing a book, and hopefully I have gained from my experiences since. In fact, this edition is very different from the prior edition for a simple reason. My other book on investment valuation, also published by John Wiley & Sons, was designed to be a', 'metadata': {'coordinates': {'points': ((60.0, 454.02520000000004), (60.0, 523.6252), (359.52739999999994, 523.6252), (359.52739999999994, 454.02520000000004)), 'system': 'PixelSpace', 'layout_width': 420, 'layout_height': 595}, 'filename': '(Wiley Finance, 324) Aswath Damodaran - Damodaran on Valuation_ Security Analysis for Investment and Corporate Finance-Wiley (2006).pdf', 'languages': ['eng'], 'last_modified': '2024-02-09T21:20:20', 'page_number': 15, 'parent_id': 'a879f5768a630c8a2c6394e92a181d6d', 'filetype': 'application/pdf'}}\n",
      "----------------------------------------------------------------------------------------------------\n",
      "{'type': 'UncategorizedText', 'element_id': 'e629fa6598d732768f7c726b4b621285', 'text': '15', 'metadata': {'coordinates': {'points': ((203.7638, 559.6408), (203.7638, 571.6408), (215.7638, 571.6408), (215.7638, 559.6408)), 'system': 'PixelSpace', 'layout_width': 420, 'layout_height': 595}, 'filename': '(Wiley Finance, 324) Aswath Damodaran - Damodaran on Valuation_ Security Analysis for Investment and Corporate Finance-Wiley (2006).pdf', 'languages': ['eng'], 'last_modified': '2024-02-09T21:20:20', 'page_number': 15, 'parent_id': 'a879f5768a630c8a2c6394e92a181d6d', 'filetype': 'application/pdf'}}\n",
      "----------------------------------------------------------------------------------------------------\n"
     ]
    }
   ],
   "source": [
    "page_num = 15\n",
    "\n",
    "page_start = 0\n",
    "for i in range(len(elements)):\n",
    "    d = elements[i].to_dict()\n",
    "    # print(d)\n",
    "    try:\n",
    "        pageNumber = d['metadata']['page_number']\n",
    "        if pageNumber > page_num: break\n",
    "        if pageNumber == page_num:\n",
    "        # page_start+=1\n",
    "            print(d)\n",
    "            print('-'*100)\n",
    "    except:\n",
    "        pass"
   ]
  },
  {
   "cell_type": "code",
   "execution_count": 51,
   "metadata": {},
   "outputs": [],
   "source": [
    "damodaran_on_valuation = []\n",
    "start_page = 15\n",
    "for idx,elem in enumerate(elements):\n",
    "    elem_dict = elem.to_dict()\n",
    "    if elem_dict['type'] == 'PageBreak':continue\n",
    "    page_num = elem_dict['metadata']['page_number']\n",
    "    if page_num >= start_page:\n",
    "        if elem_dict['type'] == 'NarrativeText':\n",
    "            text = elem_dict['text']\n",
    "            # num_words = len(text.split(\" \"))\n",
    "            # if len(text)>=50 and num_words>=10:\n",
    "            damodaran_on_valuation.append({\n",
    "                'text':text,\n",
    "                'page_num': page_num,\n",
    "                'coordinates': elem_dict['metadata']['coordinates']['points']\n",
    "            })"
   ]
  },
  {
   "cell_type": "code",
   "execution_count": 54,
   "metadata": {},
   "outputs": [],
   "source": [
    "damodaran_on_valuation[0]['text']+=\" —John Maynard Keynes\""
   ]
  },
  {
   "cell_type": "code",
   "execution_count": 56,
   "metadata": {},
   "outputs": [
    {
     "data": {
      "text/plain": [
       "4075"
      ]
     },
     "execution_count": 56,
     "metadata": {},
     "output_type": "execute_result"
    }
   ],
   "source": [
    "len(damodaran_on_valuation)"
   ]
  },
  {
   "cell_type": "markdown",
   "metadata": {},
   "source": [
    "## APPLIED CORPORATE FINANCE"
   ]
  },
  {
   "cell_type": "code",
   "execution_count": 57,
   "metadata": {},
   "outputs": [],
   "source": [
    "elements = partition(\"Aswath Damodaran - Applied Corporate Finance_ A User's Manual -Wiley (2005).pdf\",include_page_breaks=True)"
   ]
  },
  {
   "cell_type": "code",
   "execution_count": 61,
   "metadata": {},
   "outputs": [
    {
     "name": "stdout",
     "output_type": "stream",
     "text": [
      "{'type': 'NarrativeText', 'element_id': '1a29370152d73c7b26e9923c5543dec5', 'text': 'working capital chapters). You should invest in either if and only if the returns from the', 'metadata': {'coordinates': {'points': ((90.24, 73.98000000000002), (90.24, 85.98000000000002), (525.24, 85.98000000000002), (525.24, 73.98000000000002)), 'system': 'PixelSpace', 'layout_width': 612, 'layout_height': 792}, 'filename': \"Aswath Damodaran - Applied Corporate Finance_ A User's Manual -Wiley (2005).pdf\", 'languages': ['eng'], 'last_modified': '2024-02-09T21:15:46', 'page_number': 4, 'filetype': 'application/pdf'}}\n",
      "----------------------------------------------------------------------------------------------------\n",
      "{'type': 'NarrativeText', 'element_id': '0ea1d8b73bcc3526a3bfde01e36bccc4', 'text': 'investment exceed the hurdle rate from the investment; the fact the one is short term and', 'metadata': {'coordinates': {'points': ((90.24, 94.86000000000001), (90.24, 106.86000000000001), (525.24, 106.86000000000001), (525.24, 94.86000000000001)), 'system': 'PixelSpace', 'layout_width': 612, 'layout_height': 792}, 'filename': \"Aswath Damodaran - Applied Corporate Finance_ A User's Manual -Wiley (2005).pdf\", 'languages': ['eng'], 'last_modified': '2024-02-09T21:15:46', 'page_number': 4, 'filetype': 'application/pdf'}}\n",
      "----------------------------------------------------------------------------------------------------\n",
      "{'type': 'NarrativeText', 'element_id': 'd83d8af76e4b73dde7bdbef69925f519', 'text': 'the other is long term is irrelevant. The same thing can be said about international', 'metadata': {'coordinates': {'points': ((90.24, 115.5), (90.24, 127.5), (525.24, 127.5), (525.24, 115.5)), 'system': 'PixelSpace', 'layout_width': 612, 'layout_height': 792}, 'filename': \"Aswath Damodaran - Applied Corporate Finance_ A User's Manual -Wiley (2005).pdf\", 'languages': ['eng'], 'last_modified': '2024-02-09T21:15:46', 'page_number': 4, 'filetype': 'application/pdf'}}\n",
      "----------------------------------------------------------------------------------------------------\n",
      "{'type': 'NarrativeText', 'element_id': 'bf108408ebdd79160acec05fb5ac2bef', 'text': 'finance. Should the investment or financing principles be different just because a', 'metadata': {'coordinates': {'points': ((90.24, 136.38), (90.24, 148.38), (525.24, 148.38), (525.24, 136.38)), 'system': 'PixelSpace', 'layout_width': 612, 'layout_height': 792}, 'filename': \"Aswath Damodaran - Applied Corporate Finance_ A User's Manual -Wiley (2005).pdf\", 'languages': ['eng'], 'last_modified': '2024-02-09T21:15:46', 'page_number': 4, 'filetype': 'application/pdf'}}\n",
      "----------------------------------------------------------------------------------------------------\n",
      "{'type': 'NarrativeText', 'element_id': '641021c9c664d55a971b32afe611d304', 'text': 'company is considering an investment in Thailand and the cash flows are in Thai Baht', 'metadata': {'coordinates': {'points': ((90.24, 157.01999999999998), (90.24, 169.01999999999998), (525.24, 169.01999999999998), (525.24, 157.01999999999998)), 'system': 'PixelSpace', 'layout_width': 612, 'layout_height': 792}, 'filename': \"Aswath Damodaran - Applied Corporate Finance_ A User's Manual -Wiley (2005).pdf\", 'languages': ['eng'], 'last_modified': '2024-02-09T21:15:46', 'page_number': 4, 'filetype': 'application/pdf'}}\n",
      "----------------------------------------------------------------------------------------------------\n",
      "{'type': 'NarrativeText', 'element_id': '1475e5d3a5b26eb4c3f12b4508ffcca9', 'text': 'instead of in the United States and the cash flows are in dollars? I do not believe so, and', 'metadata': {'coordinates': {'points': ((90.24, 177.89999999999998), (90.24, 189.89999999999998), (525.24, 189.89999999999998), (525.24, 177.89999999999998)), 'system': 'PixelSpace', 'layout_width': 612, 'layout_height': 792}, 'filename': \"Aswath Damodaran - Applied Corporate Finance_ A User's Manual -Wiley (2005).pdf\", 'languages': ['eng'], 'last_modified': '2024-02-09T21:15:46', 'page_number': 4, 'filetype': 'application/pdf'}}\n",
      "----------------------------------------------------------------------------------------------------\n",
      "{'type': 'NarrativeText', 'element_id': '3b56a30596b49760e1b8f0d0cc56ea5b', 'text': 'separating the decisions, in my view, only leaves readers with that impression. Finally,', 'metadata': {'coordinates': {'points': ((90.24, 198.77999999999997), (90.24, 210.77999999999997), (525.24, 210.77999999999997), (525.24, 198.77999999999997)), 'system': 'PixelSpace', 'layout_width': 612, 'layout_height': 792}, 'filename': \"Aswath Damodaran - Applied Corporate Finance_ A User's Manual -Wiley (2005).pdf\", 'languages': ['eng'], 'last_modified': '2024-02-09T21:15:46', 'page_number': 4, 'filetype': 'application/pdf'}}\n",
      "----------------------------------------------------------------------------------------------------\n",
      "{'type': 'NarrativeText', 'element_id': 'd7e1748cba5d037cd4d9c49538e0f4c1', 'text': 'most corporate finance books that have chapters on small firm management and private', 'metadata': {'coordinates': {'points': ((90.24, 219.41999999999996), (90.24, 231.41999999999996), (525.24, 231.41999999999996), (525.24, 219.41999999999996)), 'system': 'PixelSpace', 'layout_width': 612, 'layout_height': 792}, 'filename': \"Aswath Damodaran - Applied Corporate Finance_ A User's Manual -Wiley (2005).pdf\", 'languages': ['eng'], 'last_modified': '2024-02-09T21:15:46', 'page_number': 4, 'filetype': 'application/pdf'}}\n",
      "----------------------------------------------------------------------------------------------------\n",
      "{'type': 'NarrativeText', 'element_id': '1f7a295dd365fd5347deaf89e0825ead', 'text': 'firm management use them to illustrate the differences between these firms and the more', 'metadata': {'coordinates': {'points': ((90.24, 240.29999999999995), (90.24, 252.29999999999995), (525.24, 252.29999999999995), (525.24, 240.29999999999995)), 'system': 'PixelSpace', 'layout_width': 612, 'layout_height': 792}, 'filename': \"Aswath Damodaran - Applied Corporate Finance_ A User's Manual -Wiley (2005).pdf\", 'languages': ['eng'], 'last_modified': '2024-02-09T21:15:46', 'page_number': 4, 'filetype': 'application/pdf'}}\n",
      "----------------------------------------------------------------------------------------------------\n",
      "{'type': 'NarrativeText', 'element_id': 'ded74faafe2e4953596619c0fd2fa8e2', 'text': 'conventional large publicly traded firms used in the other chapters. While such', 'metadata': {'coordinates': {'points': ((90.24, 260.94000000000005), (90.24, 272.94000000000005), (525.24, 272.94000000000005), (525.24, 260.94000000000005)), 'system': 'PixelSpace', 'layout_width': 612, 'layout_height': 792}, 'filename': \"Aswath Damodaran - Applied Corporate Finance_ A User's Manual -Wiley (2005).pdf\", 'languages': ['eng'], 'last_modified': '2024-02-09T21:15:46', 'page_number': 4, 'filetype': 'application/pdf'}}\n",
      "----------------------------------------------------------------------------------------------------\n",
      "{'type': 'NarrativeText', 'element_id': '02cc92a184eae6e0afff9b8c284af5b7', 'text': 'differences exist, the commonalities between different types of firms vastly overwhelm', 'metadata': {'coordinates': {'points': ((90.24, 281.82), (90.24, 293.82), (525.24, 293.82), (525.24, 281.82)), 'system': 'PixelSpace', 'layout_width': 612, 'layout_height': 792}, 'filename': \"Aswath Damodaran - Applied Corporate Finance_ A User's Manual -Wiley (2005).pdf\", 'languages': ['eng'], 'last_modified': '2024-02-09T21:15:46', 'page_number': 4, 'filetype': 'application/pdf'}}\n",
      "----------------------------------------------------------------------------------------------------\n",
      "{'type': 'NarrativeText', 'element_id': '1261d6f31282635b5805ca535764a96e', 'text': 'the differences, providing a testimonial to the internal consistency of corporate finance.', 'metadata': {'coordinates': {'points': ((90.24, 302.7), (90.24, 314.7), (525.24, 314.7), (525.24, 302.7)), 'system': 'PixelSpace', 'layout_width': 612, 'layout_height': 792}, 'filename': \"Aswath Damodaran - Applied Corporate Finance_ A User's Manual -Wiley (2005).pdf\", 'languages': ['eng'], 'last_modified': '2024-02-09T21:15:46', 'page_number': 4, 'filetype': 'application/pdf'}}\n",
      "----------------------------------------------------------------------------------------------------\n",
      "{'type': 'NarrativeText', 'element_id': '714d995bec8cf56d26118f5178e167ce', 'text': 'In summary, the second theme of this book is the emphasis on the universality of', 'metadata': {'coordinates': {'points': ((90.24, 323.34), (90.24, 335.34), (525.24, 335.34), (525.24, 323.34)), 'system': 'PixelSpace', 'layout_width': 612, 'layout_height': 792}, 'filename': \"Aswath Damodaran - Applied Corporate Finance_ A User's Manual -Wiley (2005).pdf\", 'languages': ['eng'], 'last_modified': '2024-02-09T21:15:46', 'page_number': 4, 'filetype': 'application/pdf'}}\n",
      "----------------------------------------------------------------------------------------------------\n",
      "{'type': 'Title', 'element_id': '454dc28fe287a5352db73bfe26bb4e57', 'text': 'corporate financial principles, across different firms, in different markets and across', 'metadata': {'coordinates': {'points': ((90.24, 344.22), (90.24, 356.22), (525.24, 356.22), (525.24, 344.22)), 'system': 'PixelSpace', 'layout_width': 612, 'layout_height': 792}, 'filename': \"Aswath Damodaran - Applied Corporate Finance_ A User's Manual -Wiley (2005).pdf\", 'languages': ['eng'], 'last_modified': '2024-02-09T21:15:46', 'page_number': 4, 'filetype': 'application/pdf'}}\n",
      "----------------------------------------------------------------------------------------------------\n",
      "{'type': 'Title', 'element_id': 'f46de7fe84a0958f4c59c25e9e2495fb', 'text': 'different types of decisions.', 'metadata': {'coordinates': {'points': ((90.24, 365.1), (90.24, 377.1), (226.68, 377.1), (226.68, 365.1)), 'system': 'PixelSpace', 'layout_width': 612, 'layout_height': 792}, 'filename': \"Aswath Damodaran - Applied Corporate Finance_ A User's Manual -Wiley (2005).pdf\", 'languages': ['eng'], 'last_modified': '2024-02-09T21:15:46', 'page_number': 4, 'filetype': 'application/pdf'}}\n",
      "----------------------------------------------------------------------------------------------------\n",
      "{'type': 'NarrativeText', 'element_id': 'f30ff0d5ad2aceebb862ec6e8da3a195', 'text': 'The way I have tried to bring this universality to life is by using four firms', 'metadata': {'coordinates': {'points': ((126.24, 385.74), (126.24, 397.74), (525.24, 397.74), (525.24, 385.74)), 'system': 'PixelSpace', 'layout_width': 612, 'layout_height': 792}, 'filename': \"Aswath Damodaran - Applied Corporate Finance_ A User's Manual -Wiley (2005).pdf\", 'languages': ['eng'], 'last_modified': '2024-02-09T21:15:46', 'page_number': 4, 'parent_id': 'f46de7fe84a0958f4c59c25e9e2495fb', 'filetype': 'application/pdf'}}\n",
      "----------------------------------------------------------------------------------------------------\n",
      "{'type': 'NarrativeText', 'element_id': '434c7440eb8ebb5433977b5025fd4b23', 'text': 'through the book to illustrate each concept; they include a large, publicly traded U.S.', 'metadata': {'coordinates': {'points': ((90.24, 406.62), (90.24, 418.62), (525.24, 418.62), (525.24, 406.62)), 'system': 'PixelSpace', 'layout_width': 612, 'layout_height': 792}, 'filename': \"Aswath Damodaran - Applied Corporate Finance_ A User's Manual -Wiley (2005).pdf\", 'languages': ['eng'], 'last_modified': '2024-02-09T21:15:46', 'page_number': 4, 'parent_id': 'f46de7fe84a0958f4c59c25e9e2495fb', 'filetype': 'application/pdf'}}\n",
      "----------------------------------------------------------------------------------------------------\n",
      "{'type': 'NarrativeText', 'element_id': 'afc7b19cf48323505cb07320a5b6f984', 'text': 'corporation (Disney), a small, emerging market company (Aracruz Celulose, a Brazilian', 'metadata': {'coordinates': {'points': ((90.24, 427.26), (90.24, 439.26), (525.24, 439.26), (525.24, 427.26)), 'system': 'PixelSpace', 'layout_width': 612, 'layout_height': 792}, 'filename': \"Aswath Damodaran - Applied Corporate Finance_ A User's Manual -Wiley (2005).pdf\", 'languages': ['eng'], 'last_modified': '2024-02-09T21:15:46', 'page_number': 4, 'parent_id': 'f46de7fe84a0958f4c59c25e9e2495fb', 'filetype': 'application/pdf'}}\n",
      "----------------------------------------------------------------------------------------------------\n",
      "{'type': 'UncategorizedText', 'element_id': 'f4bc51284a14cc07c0ab09a28a7dfeed', 'text': 'paper and pulp company), a financial service firm (Deutsche Bank) and a small private', 'metadata': {'coordinates': {'points': ((90.24, 448.14), (90.24, 460.14), (525.24, 460.14), (525.24, 448.14)), 'system': 'PixelSpace', 'layout_width': 612, 'layout_height': 792}, 'filename': \"Aswath Damodaran - Applied Corporate Finance_ A User's Manual -Wiley (2005).pdf\", 'languages': ['eng'], 'last_modified': '2024-02-09T21:15:46', 'page_number': 4, 'parent_id': 'f46de7fe84a0958f4c59c25e9e2495fb', 'filetype': 'application/pdf'}}\n",
      "----------------------------------------------------------------------------------------------------\n",
      "{'type': 'NarrativeText', 'element_id': '191e6875735a5b3172253a8226b115b1', 'text': 'business (Bookscape, an independent New York city book store). While the notion of', 'metadata': {'coordinates': {'points': ((90.24, 469.02), (90.24, 481.02), (525.24, 481.02), (525.24, 469.02)), 'system': 'PixelSpace', 'layout_width': 612, 'layout_height': 792}, 'filename': \"Aswath Damodaran - Applied Corporate Finance_ A User's Manual -Wiley (2005).pdf\", 'languages': ['eng'], 'last_modified': '2024-02-09T21:15:46', 'page_number': 4, 'parent_id': 'f46de7fe84a0958f4c59c25e9e2495fb', 'filetype': 'application/pdf'}}\n",
      "----------------------------------------------------------------------------------------------------\n",
      "{'type': 'NarrativeText', 'element_id': '11a244ddd17d28dff7e131becfb99c36', 'text': 'using real companies to illustrate theory is neither novel nor revolutionary, there are, I', 'metadata': {'coordinates': {'points': ((90.24, 489.66), (90.24, 501.66), (525.24, 501.66), (525.24, 489.66)), 'system': 'PixelSpace', 'layout_width': 612, 'layout_height': 792}, 'filename': \"Aswath Damodaran - Applied Corporate Finance_ A User's Manual -Wiley (2005).pdf\", 'languages': ['eng'], 'last_modified': '2024-02-09T21:15:46', 'page_number': 4, 'parent_id': 'f46de7fe84a0958f4c59c25e9e2495fb', 'filetype': 'application/pdf'}}\n",
      "----------------------------------------------------------------------------------------------------\n",
      "{'type': 'NarrativeText', 'element_id': '912054e237f486879698877d7e973470', 'text': 'believe, two key differences in the way they are used in this book. First, these companies', 'metadata': {'coordinates': {'points': ((90.24, 510.54), (90.24, 522.54), (525.24, 522.54), (525.24, 510.54)), 'system': 'PixelSpace', 'layout_width': 612, 'layout_height': 792}, 'filename': \"Aswath Damodaran - Applied Corporate Finance_ A User's Manual -Wiley (2005).pdf\", 'languages': ['eng'], 'last_modified': '2024-02-09T21:15:46', 'page_number': 4, 'parent_id': 'f46de7fe84a0958f4c59c25e9e2495fb', 'filetype': 'application/pdf'}}\n",
      "----------------------------------------------------------------------------------------------------\n",
      "{'type': 'NarrativeText', 'element_id': '9de94ed64eb9678ef103f277bb83374c', 'text': 'are analyzed on every aspect of corporate finance introduced in this book, rather than', 'metadata': {'coordinates': {'points': ((90.24, 531.1800000000001), (90.24, 543.1800000000001), (525.24, 543.1800000000001), (525.24, 531.1800000000001)), 'system': 'PixelSpace', 'layout_width': 612, 'layout_height': 792}, 'filename': \"Aswath Damodaran - Applied Corporate Finance_ A User's Manual -Wiley (2005).pdf\", 'languages': ['eng'], 'last_modified': '2024-02-09T21:15:46', 'page_number': 4, 'parent_id': 'f46de7fe84a0958f4c59c25e9e2495fb', 'filetype': 'application/pdf'}}\n",
      "----------------------------------------------------------------------------------------------------\n",
      "{'type': 'NarrativeText', 'element_id': '4967666a5bd0e2e22e57d52806a751dd', 'text': 'used selectively in some chapters. Consequently, the reader can see for himself or herself', 'metadata': {'coordinates': {'points': ((90.24, 552.06), (90.24, 564.06), (525.24, 564.06), (525.24, 552.06)), 'system': 'PixelSpace', 'layout_width': 612, 'layout_height': 792}, 'filename': \"Aswath Damodaran - Applied Corporate Finance_ A User's Manual -Wiley (2005).pdf\", 'languages': ['eng'], 'last_modified': '2024-02-09T21:15:46', 'page_number': 4, 'parent_id': 'f46de7fe84a0958f4c59c25e9e2495fb', 'filetype': 'application/pdf'}}\n",
      "----------------------------------------------------------------------------------------------------\n",
      "{'type': 'Title', 'element_id': 'bc6e3c5fe2fa9a46cc5868e3b2be6982', 'text': 'the similarities and the differences in the way investment, financing and dividend', 'metadata': {'coordinates': {'points': ((90.24, 572.94), (90.24, 584.94), (525.24, 584.94), (525.24, 572.94)), 'system': 'PixelSpace', 'layout_width': 612, 'layout_height': 792}, 'filename': \"Aswath Damodaran - Applied Corporate Finance_ A User's Manual -Wiley (2005).pdf\", 'languages': ['eng'], 'last_modified': '2024-02-09T21:15:46', 'page_number': 4, 'filetype': 'application/pdf'}}\n",
      "----------------------------------------------------------------------------------------------------\n",
      "{'type': 'NarrativeText', 'element_id': '9be979c4cd4a6115c371bb8583d50e92', 'text': 'principles are applied to four very different firms. Second, I do not consider this to be a', 'metadata': {'coordinates': {'points': ((90.24, 593.58), (90.24, 605.58), (525.24, 605.58), (525.24, 593.58)), 'system': 'PixelSpace', 'layout_width': 612, 'layout_height': 792}, 'filename': \"Aswath Damodaran - Applied Corporate Finance_ A User's Manual -Wiley (2005).pdf\", 'languages': ['eng'], 'last_modified': '2024-02-09T21:15:46', 'page_number': 4, 'parent_id': 'bc6e3c5fe2fa9a46cc5868e3b2be6982', 'filetype': 'application/pdf'}}\n",
      "----------------------------------------------------------------------------------------------------\n",
      "{'type': 'NarrativeText', 'element_id': 'c84b6829d794c91a36a318ffd7823e60', 'text': 'book where applications are used to illustrate the theory. I think of it rather as a book', 'metadata': {'coordinates': {'points': ((90.24, 614.46), (90.24, 626.46), (525.24, 626.46), (525.24, 614.46)), 'system': 'PixelSpace', 'layout_width': 612, 'layout_height': 792}, 'filename': \"Aswath Damodaran - Applied Corporate Finance_ A User's Manual -Wiley (2005).pdf\", 'languages': ['eng'], 'last_modified': '2024-02-09T21:15:46', 'page_number': 4, 'parent_id': 'bc6e3c5fe2fa9a46cc5868e3b2be6982', 'filetype': 'application/pdf'}}\n",
      "----------------------------------------------------------------------------------------------------\n",
      "{'type': 'NarrativeText', 'element_id': 'f0465848297e0542e77347d9dcab773c', 'text': 'where the theory is presented as a companion to the illustrations. In fact, reverting back', 'metadata': {'coordinates': {'points': ((90.24, 635.1), (90.24, 647.1), (525.24, 647.1), (525.24, 635.1)), 'system': 'PixelSpace', 'layout_width': 612, 'layout_height': 792}, 'filename': \"Aswath Damodaran - Applied Corporate Finance_ A User's Manual -Wiley (2005).pdf\", 'languages': ['eng'], 'last_modified': '2024-02-09T21:15:46', 'page_number': 4, 'parent_id': 'bc6e3c5fe2fa9a46cc5868e3b2be6982', 'filetype': 'application/pdf'}}\n",
      "----------------------------------------------------------------------------------------------------\n",
      "{'type': 'NarrativeText', 'element_id': '4ea8da7e2dfdd4252b0185901bb309be', 'text': 'to my earlier analogy of theory providing the tool box for understanding problems, this is', 'metadata': {'coordinates': {'points': ((90.24, 655.98), (90.24, 667.98), (525.24, 667.98), (525.24, 655.98)), 'system': 'PixelSpace', 'layout_width': 612, 'layout_height': 792}, 'filename': \"Aswath Damodaran - Applied Corporate Finance_ A User's Manual -Wiley (2005).pdf\", 'languages': ['eng'], 'last_modified': '2024-02-09T21:15:46', 'page_number': 4, 'parent_id': 'bc6e3c5fe2fa9a46cc5868e3b2be6982', 'filetype': 'application/pdf'}}\n",
      "----------------------------------------------------------------------------------------------------\n",
      "{'type': 'NarrativeText', 'element_id': '96ff4ef4128902e65d7f9e8060f6c7ea', 'text': 'a book where the problem solving takes center stage and the tools stay in the background.', 'metadata': {'coordinates': {'points': ((90.24, 676.86), (90.24, 688.86), (524.04, 688.86), (524.04, 676.86)), 'system': 'PixelSpace', 'layout_width': 612, 'layout_height': 792}, 'filename': \"Aswath Damodaran - Applied Corporate Finance_ A User's Manual -Wiley (2005).pdf\", 'languages': ['eng'], 'last_modified': '2024-02-09T21:15:46', 'page_number': 4, 'parent_id': 'bc6e3c5fe2fa9a46cc5868e3b2be6982', 'filetype': 'application/pdf'}}\n",
      "----------------------------------------------------------------------------------------------------\n",
      "{'type': 'UncategorizedText', 'element_id': '4e07408562bedb8b60ce05c1decfe3ad', 'text': '3', 'metadata': {'coordinates': {'points': ((516.24, 742.1399), (516.24, 754.1399), (525.24, 754.1399), (525.24, 742.1399)), 'system': 'PixelSpace', 'layout_width': 612, 'layout_height': 792}, 'filename': \"Aswath Damodaran - Applied Corporate Finance_ A User's Manual -Wiley (2005).pdf\", 'languages': ['eng'], 'last_modified': '2024-02-09T21:15:46', 'page_number': 4, 'parent_id': 'bc6e3c5fe2fa9a46cc5868e3b2be6982', 'filetype': 'application/pdf'}}\n",
      "----------------------------------------------------------------------------------------------------\n"
     ]
    }
   ],
   "source": [
    "page_num = 4\n",
    "\n",
    "page_start = 0\n",
    "for i in range(len(elements)):\n",
    "    d = elements[i].to_dict()\n",
    "    # print(d)\n",
    "    try:\n",
    "        pageNumber = d['metadata']['page_number']\n",
    "        if pageNumber > page_num: break\n",
    "        if pageNumber == page_num:\n",
    "        # page_start+=1\n",
    "            print(d)\n",
    "            print('-'*100)\n",
    "    except:\n",
    "        pass"
   ]
  },
  {
   "cell_type": "code",
   "execution_count": 62,
   "metadata": {},
   "outputs": [],
   "source": [
    "applied_corporate_finance = []\n",
    "start_page = 2\n",
    "for idx,elem in enumerate(elements):\n",
    "    elem_dict = elem.to_dict()\n",
    "    if elem_dict['type'] == 'PageBreak':continue\n",
    "    page_num = elem_dict['metadata']['page_number']\n",
    "    if page_num >= start_page:\n",
    "        if elem_dict['type'] == 'NarrativeText':\n",
    "            text = elem_dict['text']\n",
    "            # num_words = len(text.split(\" \"))\n",
    "            # if len(text)>=50 and num_words>=10:\n",
    "            applied_corporate_finance.append({\n",
    "                'text':text,\n",
    "                'page_num': page_num,\n",
    "                'coordinates': elem_dict['metadata']['coordinates']['points']\n",
    "            })"
   ]
  },
  {
   "cell_type": "code",
   "execution_count": 66,
   "metadata": {},
   "outputs": [
    {
     "data": {
      "text/plain": [
       "{'text': 'Let me begin this preface with a confession of a few of my own biases. First, I',\n",
       " 'page_num': 2,\n",
       " 'coordinates': ((126.24, 101.58000000000004),\n",
       "  (126.24, 113.58000000000004),\n",
       "  (525.24, 113.58000000000004),\n",
       "  (525.24, 101.58000000000004))}"
      ]
     },
     "execution_count": 66,
     "metadata": {},
     "output_type": "execute_result"
    }
   ],
   "source": [
    "applied_corporate_finance[0]"
   ]
  },
  {
   "cell_type": "markdown",
   "metadata": {},
   "source": [
    "## INVESTMENT FABLES"
   ]
  },
  {
   "cell_type": "code",
   "execution_count": 67,
   "metadata": {},
   "outputs": [],
   "source": [
    "elements = partition(\"Aswath Damodaran - Investment Fables-FT Press (2004).pdf\",include_page_breaks=True)"
   ]
  },
  {
   "cell_type": "code",
   "execution_count": 68,
   "metadata": {},
   "outputs": [
    {
     "name": "stdout",
     "output_type": "stream",
     "text": [
      "{'type': 'NarrativeText', 'element_id': 'b12cbca90e8180f573a71e948fc95a5c', 'text': 'Investment Fables Tall Tales about Stocks Fable: A brief fictitious story embodying a moral and using persons, animals or inanimate objects as characters; A falsehood or lie (WebsterÕs Dictionary)', 'metadata': {'coordinates': {'points': ((113.75999999999999, 74.06064000000003), (113.75999999999999, 131.48400000000004), (501.336, 131.48400000000004), (501.336, 74.06064000000003)), 'system': 'PixelSpace', 'layout_width': 612, 'layout_height': 792}, 'filename': 'Aswath Damodaran - Investment Fables-FT Press (2004).pdf', 'languages': ['eng'], 'last_modified': '2024-02-09T21:25:40', 'page_number': 2, 'filetype': 'application/pdf'}}\n",
      "----------------------------------------------------------------------------------------------------\n",
      "{'type': 'NarrativeText', 'element_id': '47fa950b297ebf91779b32949d0d19f9', 'text': 'As investors, you have all been on the receiving end of sales pitches from brokers,', 'metadata': {'coordinates': {'points': ((90.0, 145.164), (90.0, 157.164), (491.4479999999999, 157.164), (491.4479999999999, 145.164)), 'system': 'PixelSpace', 'layout_width': 612, 'layout_height': 792}, 'filename': 'Aswath Damodaran - Investment Fables-FT Press (2004).pdf', 'languages': ['eng'], 'last_modified': '2024-02-09T21:25:40', 'page_number': 2, 'filetype': 'application/pdf'}}\n",
      "----------------------------------------------------------------------------------------------------\n",
      "{'type': 'NarrativeText', 'element_id': 'd91db46e76ae2e53696c37b524584d23', 'text': 'friends and investment advisors about stocks that they claim will deliver spectacular', 'metadata': {'coordinates': {'points': ((90.0, 165.80399999999997), (90.0, 177.80399999999997), (497.58, 177.80399999999997), (497.58, 165.80399999999997)), 'system': 'PixelSpace', 'layout_width': 612, 'layout_height': 792}, 'filename': 'Aswath Damodaran - Investment Fables-FT Press (2004).pdf', 'languages': ['eng'], 'last_modified': '2024-02-09T21:25:40', 'page_number': 2, 'filetype': 'application/pdf'}}\n",
      "----------------------------------------------------------------------------------------------------\n",
      "{'type': 'NarrativeText', 'element_id': 'cf4d6bcbb2fce387a2b5e0b95e40852b', 'text': 'returns. These stories not only sound persuasive and reasonable but are also backed up by', 'metadata': {'coordinates': {'points': ((90.0, 186.68399999999997), (90.0, 198.68399999999997), (523.1519999999998, 198.68399999999997), (523.1519999999998, 186.68399999999997)), 'system': 'PixelSpace', 'layout_width': 612, 'layout_height': 792}, 'filename': 'Aswath Damodaran - Investment Fables-FT Press (2004).pdf', 'languages': ['eng'], 'last_modified': '2024-02-09T21:25:40', 'page_number': 2, 'filetype': 'application/pdf'}}\n",
      "----------------------------------------------------------------------------------------------------\n",
      "{'type': 'NarrativeText', 'element_id': 'e047f874e635016ff13b1e967c429bae', 'text': 'evidence - anecdotal, in some cases, and statistical, in others - that the strategies work.', 'metadata': {'coordinates': {'points': ((90.0, 207.32399999999996), (90.0, 219.32399999999996), (507.80400000000003, 219.32399999999996), (507.80400000000003, 207.32399999999996)), 'system': 'PixelSpace', 'layout_width': 612, 'layout_height': 792}, 'filename': 'Aswath Damodaran - Investment Fables-FT Press (2004).pdf', 'languages': ['eng'], 'last_modified': '2024-02-09T21:25:40', 'page_number': 2, 'filetype': 'application/pdf'}}\n",
      "----------------------------------------------------------------------------------------------------\n",
      "{'type': 'NarrativeText', 'element_id': '662aaed6b38ff3e917acc0019a0e19ce', 'text': 'When you try to implement them for your investments, though, you seldom can match', 'metadata': {'coordinates': {'points': ((90.0, 227.96399999999994), (90.0, 239.96399999999994), (507.9720000000001, 239.96399999999994), (507.9720000000001, 227.96399999999994)), 'system': 'PixelSpace', 'layout_width': 612, 'layout_height': 792}, 'filename': 'Aswath Damodaran - Investment Fables-FT Press (2004).pdf', 'languages': ['eng'], 'last_modified': '2024-02-09T21:25:40', 'page_number': 2, 'filetype': 'application/pdf'}}\n",
      "----------------------------------------------------------------------------------------------------\n",
      "{'type': 'NarrativeText', 'element_id': '29ca72df749ca594b1c709230e70870e', 'text': 'their success on paper. All to often, you end up with buyer', 'metadata': {'coordinates': {'points': ((90.0, 248.60399999999993), (90.0, 260.6039999999999), (370.86, 260.6039999999999), (370.86, 248.60399999999993)), 'system': 'PixelSpace', 'layout_width': 612, 'layout_height': 792}, 'filename': 'Aswath Damodaran - Investment Fables-FT Press (2004).pdf', 'languages': ['eng'], 'last_modified': '2024-02-09T21:25:40', 'page_number': 2, 'filetype': 'application/pdf'}}\n",
      "----------------------------------------------------------------------------------------------------\n",
      "{'type': 'Title', 'element_id': '069ca3f7487cb6df04abc6e111fc3890', 'text': 'Õs remorse, poorer for the', 'metadata': {'coordinates': {'points': ((388.32, 248.59199999999987), (388.32, 260.6039999999999), (518.448, 260.6039999999999), (518.448, 248.59199999999987)), 'system': 'PixelSpace', 'layout_width': 612, 'layout_height': 792}, 'filename': 'Aswath Damodaran - Investment Fables-FT Press (2004).pdf', 'languages': ['eng'], 'last_modified': '2024-02-09T21:25:40', 'page_number': 2, 'filetype': 'application/pdf'}}\n",
      "----------------------------------------------------------------------------------------------------\n",
      "{'type': 'NarrativeText', 'element_id': 'fc993994a38895fd1dc66a06deede597', 'text': 'experience and promising yourselves that you will not fall for the allure of these stories', 'metadata': {'coordinates': {'points': ((90.0, 269.4839999999999), (90.0, 281.48399999999987), (512.208, 281.48399999999987), (512.208, 269.4839999999999)), 'system': 'PixelSpace', 'layout_width': 612, 'layout_height': 792}, 'filename': 'Aswath Damodaran - Investment Fables-FT Press (2004).pdf', 'languages': ['eng'], 'last_modified': '2024-02-09T21:25:40', 'page_number': 2, 'parent_id': '069ca3f7487cb6df04abc6e111fc3890', 'filetype': 'application/pdf'}}\n",
      "----------------------------------------------------------------------------------------------------\n",
      "{'type': 'NarrativeText', 'element_id': '7a1f5f30ad478d435244931083572950', 'text': 'again. All too often, you forget the lessons of past mistakes and are easy prey for the next', 'metadata': {'coordinates': {'points': ((90.0, 290.12399999999985), (90.0, 302.12399999999985), (522.8039999999999, 302.12399999999985), (522.8039999999999, 290.12399999999985)), 'system': 'PixelSpace', 'layout_width': 612, 'layout_height': 792}, 'filename': 'Aswath Damodaran - Investment Fables-FT Press (2004).pdf', 'languages': ['eng'], 'last_modified': '2024-02-09T21:25:40', 'page_number': 2, 'parent_id': '069ca3f7487cb6df04abc6e111fc3890', 'filetype': 'application/pdf'}}\n",
      "----------------------------------------------------------------------------------------------------\n",
      "{'type': 'Title', 'element_id': 'b86a8059c194d02a0f3c5e33cf7c63e2', 'text': 'big stock story.', 'metadata': {'coordinates': {'points': ((90.0, 310.76399999999984), (90.0, 322.76399999999984), (166.788, 322.76399999999984), (166.788, 310.76399999999984)), 'system': 'PixelSpace', 'layout_width': 612, 'layout_height': 792}, 'filename': 'Aswath Damodaran - Investment Fables-FT Press (2004).pdf', 'languages': ['eng'], 'last_modified': '2024-02-09T21:25:40', 'page_number': 2, 'filetype': 'application/pdf'}}\n",
      "----------------------------------------------------------------------------------------------------\n",
      "{'type': 'NarrativeText', 'element_id': 'f8c976e16af841d62d70fc05a0304173', 'text': 'While there are literally hundreds of schemes to beat the market in circulation,', 'metadata': {'coordinates': {'points': ((126.0, 331.4039999999998), (126.0, 343.4039999999998), (506.064, 343.4039999999998), (506.064, 331.4039999999998)), 'system': 'PixelSpace', 'layout_width': 612, 'layout_height': 792}, 'filename': 'Aswath Damodaran - Investment Fables-FT Press (2004).pdf', 'languages': ['eng'], 'last_modified': '2024-02-09T21:25:40', 'page_number': 2, 'parent_id': 'b86a8059c194d02a0f3c5e33cf7c63e2', 'filetype': 'application/pdf'}}\n",
      "----------------------------------------------------------------------------------------------------\n",
      "{'type': 'NarrativeText', 'element_id': 'f6be7e6ca0ac65a6bd42b09cfe227305', 'text': 'they are all variants of about a dozen basic themes that have been around for as long as', 'metadata': {'coordinates': {'points': ((90.0, 352.2839999999998), (90.0, 364.2839999999998), (510.6479999999999, 364.2839999999998), (510.6479999999999, 352.2839999999998)), 'system': 'PixelSpace', 'layout_width': 612, 'layout_height': 792}, 'filename': 'Aswath Damodaran - Investment Fables-FT Press (2004).pdf', 'languages': ['eng'], 'last_modified': '2024-02-09T21:25:40', 'page_number': 2, 'parent_id': 'b86a8059c194d02a0f3c5e33cf7c63e2', 'filetype': 'application/pdf'}}\n",
      "----------------------------------------------------------------------------------------------------\n",
      "{'type': 'NarrativeText', 'element_id': '5d2ccf94bd3869385765455d4851837d', 'text': 'there have been stocks to buy and sell. These broad themes are modified, given new', 'metadata': {'coordinates': {'points': ((90.0, 372.9239999999998), (90.0, 384.9239999999998), (496.70399999999995, 384.9239999999998), (496.70399999999995, 372.9239999999998)), 'system': 'PixelSpace', 'layout_width': 612, 'layout_height': 792}, 'filename': 'Aswath Damodaran - Investment Fables-FT Press (2004).pdf', 'languages': ['eng'], 'last_modified': '2024-02-09T21:25:40', 'page_number': 2, 'parent_id': 'b86a8059c194d02a0f3c5e33cf7c63e2', 'filetype': 'application/pdf'}}\n",
      "----------------------------------------------------------------------------------------------------\n",
      "{'type': 'NarrativeText', 'element_id': '07e66964a7a16aba2d36601aecc57d4f', 'text': 'names and marketed as new and different investment strategies by salespeople to a new', 'metadata': {'coordinates': {'points': ((90.0, 393.5639999999998), (90.0, 405.5639999999998), (513.696, 405.5639999999998), (513.696, 393.5639999999998)), 'system': 'PixelSpace', 'layout_width': 612, 'layout_height': 792}, 'filename': 'Aswath Damodaran - Investment Fables-FT Press (2004).pdf', 'languages': ['eng'], 'last_modified': '2024-02-09T21:25:40', 'page_number': 2, 'parent_id': 'b86a8059c194d02a0f3c5e33cf7c63e2', 'filetype': 'application/pdf'}}\n",
      "----------------------------------------------------------------------------------------------------\n",
      "{'type': 'NarrativeText', 'element_id': '87e298af5843e795f8a251043c86305d', 'text': 'generation of investors. There must be something in these stories that appeals to investor', 'metadata': {'coordinates': {'points': ((90.0, 414.2039999999998), (90.0, 426.2039999999998), (518.796, 426.2039999999998), (518.796, 414.2039999999998)), 'system': 'PixelSpace', 'layout_width': 612, 'layout_height': 792}, 'filename': 'Aswath Damodaran - Investment Fables-FT Press (2004).pdf', 'languages': ['eng'], 'last_modified': '2024-02-09T21:25:40', 'page_number': 2, 'parent_id': 'b86a8059c194d02a0f3c5e33cf7c63e2', 'filetype': 'application/pdf'}}\n",
      "----------------------------------------------------------------------------------------------------\n",
      "{'type': 'NarrativeText', 'element_id': '3032111c290f61dfb0d61c38a8444f15', 'text': 'instincts and to human weaknesses - greed, fear and hubris, to name but three- to give', 'metadata': {'coordinates': {'points': ((90.0, 435.0839999999998), (90.0, 447.0839999999998), (504.48, 447.0839999999998), (504.48, 435.0839999999998)), 'system': 'PixelSpace', 'layout_width': 612, 'layout_height': 792}, 'filename': 'Aswath Damodaran - Investment Fables-FT Press (2004).pdf', 'languages': ['eng'], 'last_modified': '2024-02-09T21:25:40', 'page_number': 2, 'parent_id': 'b86a8059c194d02a0f3c5e33cf7c63e2', 'filetype': 'application/pdf'}}\n",
      "----------------------------------------------------------------------------------------------------\n",
      "{'type': 'NarrativeText', 'element_id': 'a8c2e8cde95b8e176c6346c32908dbf2', 'text': 'them the staying power that they do. This book is an exploration of the appeal of these', 'metadata': {'coordinates': {'points': ((90.0, 455.72399999999976), (90.0, 467.72399999999976), (508.37999999999994, 467.72399999999976), (508.37999999999994, 455.72399999999976)), 'system': 'PixelSpace', 'layout_width': 612, 'layout_height': 792}, 'filename': 'Aswath Damodaran - Investment Fables-FT Press (2004).pdf', 'languages': ['eng'], 'last_modified': '2024-02-09T21:25:40', 'page_number': 2, 'parent_id': 'b86a8059c194d02a0f3c5e33cf7c63e2', 'filetype': 'application/pdf'}}\n",
      "----------------------------------------------------------------------------------------------------\n",
      "{'type': 'NarrativeText', 'element_id': '1b2f6bfcd99a55233fae780029a4eb34', 'text': 'stories, why so many fall for them and fail with them, and what it may take to win with', 'metadata': {'coordinates': {'points': ((90.0, 476.36399999999975), (90.0, 488.36399999999975), (511.63200000000006, 488.36399999999975), (511.63200000000006, 476.36399999999975)), 'system': 'PixelSpace', 'layout_width': 612, 'layout_height': 792}, 'filename': 'Aswath Damodaran - Investment Fables-FT Press (2004).pdf', 'languages': ['eng'], 'last_modified': '2024-02-09T21:25:40', 'page_number': 2, 'parent_id': 'b86a8059c194d02a0f3c5e33cf7c63e2', 'filetype': 'application/pdf'}}\n",
      "----------------------------------------------------------------------------------------------------\n",
      "{'type': 'Title', 'element_id': '627036cf647d4f148a31e86ca300dcc5', 'text': 'each of them.', 'metadata': {'coordinates': {'points': ((90.0, 497.00399999999973), (90.0, 509.00399999999973), (158.05200000000002, 509.00399999999973), (158.05200000000002, 497.00399999999973)), 'system': 'PixelSpace', 'layout_width': 612, 'layout_height': 792}, 'filename': 'Aswath Damodaran - Investment Fables-FT Press (2004).pdf', 'languages': ['eng'], 'last_modified': '2024-02-09T21:25:40', 'page_number': 2, 'filetype': 'application/pdf'}}\n",
      "----------------------------------------------------------------------------------------------------\n",
      "{'type': 'NarrativeText', 'element_id': '479228456d464685278338f4cadd4ea9', 'text': 'As you will see, with each story, there is a kernel of truth that makes it believable', 'metadata': {'coordinates': {'points': ((90.0, 517.8839999999998), (90.0, 529.8839999999998), (487.41600000000005, 529.8839999999998), (487.41600000000005, 517.8839999999998)), 'system': 'PixelSpace', 'layout_width': 612, 'layout_height': 792}, 'filename': 'Aswath Damodaran - Investment Fables-FT Press (2004).pdf', 'languages': ['eng'], 'last_modified': '2024-02-09T21:25:40', 'page_number': 2, 'parent_id': '627036cf647d4f148a31e86ca300dcc5', 'filetype': 'application/pdf'}}\n",
      "----------------------------------------------------------------------------------------------------\n",
      "{'type': 'NarrativeText', 'element_id': '4437aa56e3ee248d5a9b541794876b5c', 'text': 'and a base in financial theory that allows proponents to claim to have a solid rationale.', 'metadata': {'coordinates': {'points': ((90.0, 538.5239999999997), (90.0, 550.5239999999998), (508.416, 550.5239999999998), (508.416, 538.5239999999997)), 'system': 'PixelSpace', 'layout_width': 612, 'layout_height': 792}, 'filename': 'Aswath Damodaran - Investment Fables-FT Press (2004).pdf', 'languages': ['eng'], 'last_modified': '2024-02-09T21:25:40', 'page_number': 2, 'parent_id': '627036cf647d4f148a31e86ca300dcc5', 'filetype': 'application/pdf'}}\n",
      "----------------------------------------------------------------------------------------------------\n",
      "{'type': 'NarrativeText', 'element_id': '3df1c7f26d99600c31cc8b98e78892c4', 'text': 'Each chapter will begin with an examination of the basis for each investment story and', 'metadata': {'coordinates': {'points': ((90.0, 559.1639999999998), (90.0, 571.1639999999998), (510.192, 571.1639999999998), (510.192, 559.1639999999998)), 'system': 'PixelSpace', 'layout_width': 612, 'layout_height': 792}, 'filename': 'Aswath Damodaran - Investment Fables-FT Press (2004).pdf', 'languages': ['eng'], 'last_modified': '2024-02-09T21:25:40', 'page_number': 2, 'parent_id': '627036cf647d4f148a31e86ca300dcc5', 'filetype': 'application/pdf'}}\n",
      "----------------------------------------------------------------------------------------------------\n",
      "{'type': 'NarrativeText', 'element_id': 'b252dad126d48188ec30e24dbdd95d99', 'text': 'the theory that would justify its adoption. Why bother with the theory? Not only will it', 'metadata': {'coordinates': {'points': ((90.0, 579.8039999999996), (90.0, 591.8039999999997), (509.5200000000001, 591.8039999999997), (509.5200000000001, 579.8039999999996)), 'system': 'PixelSpace', 'layout_width': 612, 'layout_height': 792}, 'filename': 'Aswath Damodaran - Investment Fables-FT Press (2004).pdf', 'languages': ['eng'], 'last_modified': '2024-02-09T21:25:40', 'page_number': 2, 'parent_id': '627036cf647d4f148a31e86ca300dcc5', 'filetype': 'application/pdf'}}\n",
      "----------------------------------------------------------------------------------------------------\n",
      "{'type': 'NarrativeText', 'element_id': '973128cc65afeb1cb66bb6fc877a8a36', 'text': 'give you perspective on what makes each story work, but it will also allow you to', 'metadata': {'coordinates': {'points': ((90.0, 600.4439999999997), (90.0, 612.4439999999997), (484.6200000000001, 612.4439999999997), (484.6200000000001, 600.4439999999997)), 'system': 'PixelSpace', 'layout_width': 612, 'layout_height': 792}, 'filename': 'Aswath Damodaran - Investment Fables-FT Press (2004).pdf', 'languages': ['eng'], 'last_modified': '2024-02-09T21:25:40', 'page_number': 2, 'parent_id': '627036cf647d4f148a31e86ca300dcc5', 'filetype': 'application/pdf'}}\n",
      "----------------------------------------------------------------------------------------------------\n",
      "{'type': 'NarrativeText', 'element_id': 'e2079974cd2aa0a056ac6d31943bb76d', 'text': 'identify potential weaknesses with the story.', 'metadata': {'coordinates': {'points': ((90.0, 621.3239999999996), (90.0, 633.3239999999997), (309.3960000000001, 633.3239999999997), (309.3960000000001, 621.3239999999996)), 'system': 'PixelSpace', 'layout_width': 612, 'layout_height': 792}, 'filename': 'Aswath Damodaran - Investment Fables-FT Press (2004).pdf', 'languages': ['eng'], 'last_modified': '2024-02-09T21:25:40', 'page_number': 2, 'parent_id': '627036cf647d4f148a31e86ca300dcc5', 'filetype': 'application/pdf'}}\n",
      "----------------------------------------------------------------------------------------------------\n",
      "{'type': 'NarrativeText', 'element_id': 'c889428019b95e9d62484f2408e11ae8', 'text': 'If you have been on the receiving end of one of these investment stories, you', 'metadata': {'coordinates': {'points': ((90.0, 641.9639999999997), (90.0, 653.9639999999997), (464.88000000000005, 653.9639999999997), (464.88000000000005, 641.9639999999997)), 'system': 'PixelSpace', 'layout_width': 612, 'layout_height': 792}, 'filename': 'Aswath Damodaran - Investment Fables-FT Press (2004).pdf', 'languages': ['eng'], 'last_modified': '2024-02-09T21:25:40', 'page_number': 2, 'parent_id': '627036cf647d4f148a31e86ca300dcc5', 'filetype': 'application/pdf'}}\n",
      "----------------------------------------------------------------------------------------------------\n",
      "{'type': 'NarrativeText', 'element_id': 'e0f296bc638d3f846e94cbeb5f909671', 'text': 'probably have also been told of studies that back them up and you are offered evidence of', 'metadata': {'coordinates': {'points': ((90.0, 662.6039999999997), (90.0, 674.6039999999997), (523.9799999999998, 674.6039999999997), (523.9799999999998, 662.6039999999997)), 'system': 'PixelSpace', 'layout_width': 612, 'layout_height': 792}, 'filename': 'Aswath Damodaran - Investment Fables-FT Press (2004).pdf', 'languages': ['eng'], 'last_modified': '2024-02-09T21:25:40', 'page_number': 2, 'parent_id': '627036cf647d4f148a31e86ca300dcc5', 'filetype': 'application/pdf'}}\n",
      "----------------------------------------------------------------------------------------------------\n",
      "{'type': 'NarrativeText', 'element_id': 'a3deb0b20d3f03c65c8328141a46d776', 'text': 'their potency. It should come as no surprise, given the source, that most of these studies', 'metadata': {'coordinates': {'points': ((90.0, 683.2439999999997), (90.0, 695.2439999999997), (514.608, 695.2439999999997), (514.608, 683.2439999999997)), 'system': 'PixelSpace', 'layout_width': 612, 'layout_height': 792}, 'filename': 'Aswath Damodaran - Investment Fables-FT Press (2004).pdf', 'languages': ['eng'], 'last_modified': '2024-02-09T21:25:40', 'page_number': 2, 'parent_id': '627036cf647d4f148a31e86ca300dcc5', 'filetype': 'application/pdf'}}\n",
      "----------------------------------------------------------------------------------------------------\n",
      "{'type': 'NarrativeText', 'element_id': '566ffd266ac3b1adb47b00af8d8ddc30', 'text': 'give you only a portion of the truth. As you will see in this book, every investment', 'metadata': {'coordinates': {'points': ((90.0, 704.1239999999997), (90.0, 716.1239999999997), (490.12800000000004, 716.1239999999997), (490.12800000000004, 704.1239999999997)), 'system': 'PixelSpace', 'layout_width': 612, 'layout_height': 792}, 'filename': 'Aswath Damodaran - Investment Fables-FT Press (2004).pdf', 'languages': ['eng'], 'last_modified': '2024-02-09T21:25:40', 'page_number': 2, 'parent_id': '627036cf647d4f148a31e86ca300dcc5', 'filetype': 'application/pdf'}}\n",
      "----------------------------------------------------------------------------------------------------\n"
     ]
    }
   ],
   "source": [
    "page_num = 2\n",
    "\n",
    "page_start = 0\n",
    "for i in range(len(elements)):\n",
    "    d = elements[i].to_dict()\n",
    "    # print(d)\n",
    "    try:\n",
    "        pageNumber = d['metadata']['page_number']\n",
    "        if pageNumber > page_num: break\n",
    "        if pageNumber == page_num:\n",
    "        # page_start+=1\n",
    "            print(d)\n",
    "            print('-'*100)\n",
    "    except:\n",
    "        pass"
   ]
  },
  {
   "cell_type": "code",
   "execution_count": 69,
   "metadata": {},
   "outputs": [],
   "source": [
    "investment_fables = []\n",
    "start_page = 2\n",
    "for idx,elem in enumerate(elements):\n",
    "    elem_dict = elem.to_dict()\n",
    "    if elem_dict['type'] == 'PageBreak':continue\n",
    "    page_num = elem_dict['metadata']['page_number']\n",
    "    if page_num >= start_page:\n",
    "        if elem_dict['type'] == 'NarrativeText':\n",
    "            text = elem_dict['text']\n",
    "            # num_words = len(text.split(\" \"))\n",
    "            # if len(text)>=50 and num_words>=10:\n",
    "            investment_fables.append({\n",
    "                'text':text,\n",
    "                'page_num': page_num,\n",
    "                'coordinates': elem_dict['metadata']['coordinates']['points']\n",
    "            })"
   ]
  },
  {
   "cell_type": "code",
   "execution_count": 72,
   "metadata": {},
   "outputs": [
    {
     "data": {
      "text/plain": [
       "317"
      ]
     },
     "execution_count": 72,
     "metadata": {},
     "output_type": "execute_result"
    }
   ],
   "source": [
    "len(investment_fables)"
   ]
  },
  {
   "cell_type": "markdown",
   "metadata": {},
   "source": [
    "## INVESTMENT VALUATIONS TECHNIQUE"
   ]
  },
  {
   "cell_type": "code",
   "execution_count": 73,
   "metadata": {},
   "outputs": [],
   "source": [
    "elements = partition(\"Aswath Damodaran - Investment Valuation_ Tools and Techniques for Determining the Value of Any Asset, -Wiley (2002).pdf\",include_page_breaks=True)"
   ]
  },
  {
   "cell_type": "code",
   "execution_count": 75,
   "metadata": {},
   "outputs": [
    {
     "name": "stdout",
     "output_type": "stream",
     "text": [
      "{'type': 'Title', 'element_id': '8ed906945500938a06129c30763f300e', 'text': 'CHAPTER 1', 'metadata': {'coordinates': {'points': ((437.5, 72.99599999999998), (437.5, 86.99599999999998), (511.784, 86.99599999999998), (511.784, 72.99599999999998)), 'system': 'PixelSpace', 'layout_width': 612, 'layout_height': 792}, 'filename': 'Aswath Damodaran - Investment Valuation_ Tools and Techniques for Determining the Value of Any Asset, -Wiley (2002).pdf', 'languages': ['eng'], 'last_modified': '2024-02-09T21:20:00', 'page_number': 1, 'filetype': 'application/pdf'}}\n",
      "----------------------------------------------------------------------------------------------------\n",
      "{'type': 'Title', 'element_id': '8f50b080324cfc09816e358b6e9f9a1f', 'text': 'INTRODUCTION TO VALUATION', 'metadata': {'coordinates': {'points': ((90.5, 96.99599999999998), (90.5, 110.99599999999998), (306.40000000000015, 110.99599999999998), (306.40000000000015, 96.99599999999998)), 'system': 'PixelSpace', 'layout_width': 612, 'layout_height': 792}, 'filename': 'Aswath Damodaran - Investment Valuation_ Tools and Techniques for Determining the Value of Any Asset, -Wiley (2002).pdf', 'languages': ['eng'], 'last_modified': '2024-02-09T21:20:00', 'page_number': 1, 'filetype': 'application/pdf'}}\n",
      "----------------------------------------------------------------------------------------------------\n",
      "{'type': 'NarrativeText', 'element_id': '7e219ab0c19279d762393e7857a6cb0a', 'text': 'Every asset, financial as well as real, has a value. The key to successfully investing', 'metadata': {'coordinates': {'points': ((126.5, 120.56799999999998), (126.5, 132.56799999999998), (523.5460000000005, 132.56799999999998), (523.5460000000005, 120.56799999999998)), 'system': 'PixelSpace', 'layout_width': 612, 'layout_height': 792}, 'filename': 'Aswath Damodaran - Investment Valuation_ Tools and Techniques for Determining the Value of Any Asset, -Wiley (2002).pdf', 'languages': ['eng'], 'last_modified': '2024-02-09T21:20:00', 'page_number': 1, 'parent_id': '8f50b080324cfc09816e358b6e9f9a1f', 'filetype': 'application/pdf'}}\n",
      "----------------------------------------------------------------------------------------------------\n",
      "{'type': 'NarrativeText', 'element_id': '3a03faca713d128d244b05ebc63b0fd7', 'text': 'in and managing these assets lies in understanding not only what the value is but also the', 'metadata': {'coordinates': {'points': ((90.5, 141.56799999999998), (90.5, 153.56799999999998), (523.5560000000007, 153.56799999999998), (523.5560000000007, 141.56799999999998)), 'system': 'PixelSpace', 'layout_width': 612, 'layout_height': 792}, 'filename': 'Aswath Damodaran - Investment Valuation_ Tools and Techniques for Determining the Value of Any Asset, -Wiley (2002).pdf', 'languages': ['eng'], 'last_modified': '2024-02-09T21:20:00', 'page_number': 1, 'parent_id': '8f50b080324cfc09816e358b6e9f9a1f', 'filetype': 'application/pdf'}}\n",
      "----------------------------------------------------------------------------------------------------\n",
      "{'type': 'NarrativeText', 'element_id': 'eb83f04b13ff740cbe20608e7ec23648', 'text': 'sources of the value. Any asset can be valued, but some assets are easier to value than', 'metadata': {'coordinates': {'points': ((90.5, 162.56799999999998), (90.5, 174.56799999999998), (523.2979999999995, 174.56799999999998), (523.2979999999995, 162.56799999999998)), 'system': 'PixelSpace', 'layout_width': 612, 'layout_height': 792}, 'filename': 'Aswath Damodaran - Investment Valuation_ Tools and Techniques for Determining the Value of Any Asset, -Wiley (2002).pdf', 'languages': ['eng'], 'last_modified': '2024-02-09T21:20:00', 'page_number': 1, 'parent_id': '8f50b080324cfc09816e358b6e9f9a1f', 'filetype': 'application/pdf'}}\n",
      "----------------------------------------------------------------------------------------------------\n",
      "{'type': 'NarrativeText', 'element_id': '0308b75697e22df047e96115aa335e15', 'text': 'others and the details of valuation will vary from case to case. Thus, the valuation of a', 'metadata': {'coordinates': {'points': ((90.5, 183.56799999999998), (90.5, 195.56799999999998), (523.3479999999993, 195.56799999999998), (523.3479999999993, 183.56799999999998)), 'system': 'PixelSpace', 'layout_width': 612, 'layout_height': 792}, 'filename': 'Aswath Damodaran - Investment Valuation_ Tools and Techniques for Determining the Value of Any Asset, -Wiley (2002).pdf', 'languages': ['eng'], 'last_modified': '2024-02-09T21:20:00', 'page_number': 1, 'parent_id': '8f50b080324cfc09816e358b6e9f9a1f', 'filetype': 'application/pdf'}}\n",
      "----------------------------------------------------------------------------------------------------\n",
      "{'type': 'NarrativeText', 'element_id': 'a54f58b4ae501fdba410a9793ce37a34', 'text': 'share of a real estate property will require different information and follow a different', 'metadata': {'coordinates': {'points': ((90.5, 204.56799999999998), (90.5, 216.56799999999998), (523.3480000000004, 216.56799999999998), (523.3480000000004, 204.56799999999998)), 'system': 'PixelSpace', 'layout_width': 612, 'layout_height': 792}, 'filename': 'Aswath Damodaran - Investment Valuation_ Tools and Techniques for Determining the Value of Any Asset, -Wiley (2002).pdf', 'languages': ['eng'], 'last_modified': '2024-02-09T21:20:00', 'page_number': 1, 'parent_id': '8f50b080324cfc09816e358b6e9f9a1f', 'filetype': 'application/pdf'}}\n",
      "----------------------------------------------------------------------------------------------------\n",
      "{'type': 'NarrativeText', 'element_id': 'd234845a80b822c8abf009672ad8d2c2', 'text': 'format than the valuation of a publicly traded stock. What is surprising, however, is not', 'metadata': {'coordinates': {'points': ((90.5, 225.56799999999998), (90.5, 237.56799999999998), (523.4040000000007, 237.56799999999998), (523.4040000000007, 225.56799999999998)), 'system': 'PixelSpace', 'layout_width': 612, 'layout_height': 792}, 'filename': 'Aswath Damodaran - Investment Valuation_ Tools and Techniques for Determining the Value of Any Asset, -Wiley (2002).pdf', 'languages': ['eng'], 'last_modified': '2024-02-09T21:20:00', 'page_number': 1, 'parent_id': '8f50b080324cfc09816e358b6e9f9a1f', 'filetype': 'application/pdf'}}\n",
      "----------------------------------------------------------------------------------------------------\n",
      "{'type': 'UncategorizedText', 'element_id': 'cc79e28e94464937572c515eaf25c43b', 'text': 'the differences in valuation techniques across assets, but the degree of similarity in basic', 'metadata': {'coordinates': {'points': ((90.5, 246.56799999999998), (90.5, 258.568), (523.4909999999994, 258.568), (523.4909999999994, 246.56799999999998)), 'system': 'PixelSpace', 'layout_width': 612, 'layout_height': 792}, 'filename': 'Aswath Damodaran - Investment Valuation_ Tools and Techniques for Determining the Value of Any Asset, -Wiley (2002).pdf', 'languages': ['eng'], 'last_modified': '2024-02-09T21:20:00', 'page_number': 1, 'parent_id': '8f50b080324cfc09816e358b6e9f9a1f', 'filetype': 'application/pdf'}}\n",
      "----------------------------------------------------------------------------------------------------\n",
      "{'type': 'NarrativeText', 'element_id': '0080683b73b32273e498c034872c5fc4', 'text': 'principles. There is undeniably uncertainty associated with valuation. Often', 'metadata': {'coordinates': {'points': ((90.5, 267.568), (90.5, 279.568), (497.824, 279.568), (497.824, 267.568)), 'system': 'PixelSpace', 'layout_width': 612, 'layout_height': 792}, 'filename': 'Aswath Damodaran - Investment Valuation_ Tools and Techniques for Determining the Value of Any Asset, -Wiley (2002).pdf', 'languages': ['eng'], 'last_modified': '2024-02-09T21:20:00', 'page_number': 1, 'parent_id': '8f50b080324cfc09816e358b6e9f9a1f', 'filetype': 'application/pdf'}}\n",
      "----------------------------------------------------------------------------------------------------\n",
      "{'type': 'NarrativeText', 'element_id': '27b391922d82eb76aa2b2d16f20ad071', 'text': 'uncertainty comes from the asset being valued, though the valuation model may add to', 'metadata': {'coordinates': {'points': ((90.5, 288.568), (90.5, 300.568), (523.3840000000008, 300.568), (523.3840000000008, 288.568)), 'system': 'PixelSpace', 'layout_width': 612, 'layout_height': 792}, 'filename': 'Aswath Damodaran - Investment Valuation_ Tools and Techniques for Determining the Value of Any Asset, -Wiley (2002).pdf', 'languages': ['eng'], 'last_modified': '2024-02-09T21:20:00', 'page_number': 1, 'parent_id': '8f50b080324cfc09816e358b6e9f9a1f', 'filetype': 'application/pdf'}}\n",
      "----------------------------------------------------------------------------------------------------\n",
      "{'type': 'Title', 'element_id': '415ae741183967346f9c9c7a947e9c1e', 'text': 'that uncertainty.', 'metadata': {'coordinates': {'points': ((90.5, 309.568), (90.5, 321.568), (170.392, 321.568), (170.392, 309.568)), 'system': 'PixelSpace', 'layout_width': 612, 'layout_height': 792}, 'filename': 'Aswath Damodaran - Investment Valuation_ Tools and Techniques for Determining the Value of Any Asset, -Wiley (2002).pdf', 'languages': ['eng'], 'last_modified': '2024-02-09T21:20:00', 'page_number': 1, 'filetype': 'application/pdf'}}\n",
      "----------------------------------------------------------------------------------------------------\n",
      "{'type': 'NarrativeText', 'element_id': '48c18d58f13e383d3a9b192f0cff2342', 'text': 'This chapter lays out a philosophical basis for valuation, together with a', 'metadata': {'coordinates': {'points': ((126.5, 330.568), (126.5, 342.568), (523.828, 342.568), (523.828, 330.568)), 'system': 'PixelSpace', 'layout_width': 612, 'layout_height': 792}, 'filename': 'Aswath Damodaran - Investment Valuation_ Tools and Techniques for Determining the Value of Any Asset, -Wiley (2002).pdf', 'languages': ['eng'], 'last_modified': '2024-02-09T21:20:00', 'page_number': 1, 'parent_id': '415ae741183967346f9c9c7a947e9c1e', 'filetype': 'application/pdf'}}\n",
      "----------------------------------------------------------------------------------------------------\n",
      "{'type': 'NarrativeText', 'element_id': '82efd272dd3ea68316fb9d6f3910cc30', 'text': 'discussion of how valuation is or can be used in a variety of frameworks, from portfolio', 'metadata': {'coordinates': {'points': ((90.5, 351.568), (90.5, 363.568), (523.3939999999993, 363.568), (523.3939999999993, 351.568)), 'system': 'PixelSpace', 'layout_width': 612, 'layout_height': 792}, 'filename': 'Aswath Damodaran - Investment Valuation_ Tools and Techniques for Determining the Value of Any Asset, -Wiley (2002).pdf', 'languages': ['eng'], 'last_modified': '2024-02-09T21:20:00', 'page_number': 1, 'parent_id': '415ae741183967346f9c9c7a947e9c1e', 'filetype': 'application/pdf'}}\n",
      "----------------------------------------------------------------------------------------------------\n",
      "{'type': 'Title', 'element_id': '8d84490a5ef5f7e65c96e1f8e05904ec', 'text': 'management to corporate finance.', 'metadata': {'coordinates': {'points': ((90.5, 372.568), (90.5, 384.568), (251.61400000000015, 384.568), (251.61400000000015, 372.568)), 'system': 'PixelSpace', 'layout_width': 612, 'layout_height': 792}, 'filename': 'Aswath Damodaran - Investment Valuation_ Tools and Techniques for Determining the Value of Any Asset, -Wiley (2002).pdf', 'languages': ['eng'], 'last_modified': '2024-02-09T21:20:00', 'page_number': 1, 'filetype': 'application/pdf'}}\n",
      "----------------------------------------------------------------------------------------------------\n",
      "{'type': 'Title', 'element_id': 'ff5f4ec94fbd56ddcc061691ae322fc5', 'text': 'A philosophical basis for valuation', 'metadata': {'coordinates': {'points': ((90.5, 406.0), (90.5, 418.0), (270.422, 418.0), (270.422, 406.0)), 'system': 'PixelSpace', 'layout_width': 612, 'layout_height': 792}, 'filename': 'Aswath Damodaran - Investment Valuation_ Tools and Techniques for Determining the Value of Any Asset, -Wiley (2002).pdf', 'languages': ['eng'], 'last_modified': '2024-02-09T21:20:00', 'page_number': 1, 'filetype': 'application/pdf'}}\n",
      "----------------------------------------------------------------------------------------------------\n",
      "{'type': 'NarrativeText', 'element_id': '907c946884e1d257d6bcc344e31fe121', 'text': 'It was Oscar Wilde who described a cynic as one who “knows the price of', 'metadata': {'coordinates': {'points': ((126.5, 426.568), (126.5, 438.568), (523.496, 438.568), (523.496, 426.568)), 'system': 'PixelSpace', 'layout_width': 612, 'layout_height': 792}, 'filename': 'Aswath Damodaran - Investment Valuation_ Tools and Techniques for Determining the Value of Any Asset, -Wiley (2002).pdf', 'languages': ['eng'], 'last_modified': '2024-02-09T21:20:00', 'page_number': 1, 'parent_id': 'ff5f4ec94fbd56ddcc061691ae322fc5', 'filetype': 'application/pdf'}}\n",
      "----------------------------------------------------------------------------------------------------\n",
      "{'type': 'NarrativeText', 'element_id': '38dc570e37bfac3c1d556d4f766761e8', 'text': 'everything, but the value of nothing”. He could very well have been describing some', 'metadata': {'coordinates': {'points': ((90.5, 447.568), (90.5, 459.568), (523.832, 459.568), (523.832, 447.568)), 'system': 'PixelSpace', 'layout_width': 612, 'layout_height': 792}, 'filename': 'Aswath Damodaran - Investment Valuation_ Tools and Techniques for Determining the Value of Any Asset, -Wiley (2002).pdf', 'languages': ['eng'], 'last_modified': '2024-02-09T21:20:00', 'page_number': 1, 'parent_id': 'ff5f4ec94fbd56ddcc061691ae322fc5', 'filetype': 'application/pdf'}}\n",
      "----------------------------------------------------------------------------------------------------\n",
      "{'type': 'UncategorizedText', 'element_id': '2be501942b299f5e4aaa878fc7976fb7', 'text': 'equity research analysts and many investors, a surprising number of whom subscribe to', 'metadata': {'coordinates': {'points': ((90.5, 468.568), (90.5, 480.568), (523.3760000000002, 480.568), (523.3760000000002, 468.568)), 'system': 'PixelSpace', 'layout_width': 612, 'layout_height': 792}, 'filename': 'Aswath Damodaran - Investment Valuation_ Tools and Techniques for Determining the Value of Any Asset, -Wiley (2002).pdf', 'languages': ['eng'], 'last_modified': '2024-02-09T21:20:00', 'page_number': 1, 'parent_id': 'ff5f4ec94fbd56ddcc061691ae322fc5', 'filetype': 'application/pdf'}}\n",
      "----------------------------------------------------------------------------------------------------\n",
      "{'type': 'NarrativeText', 'element_id': '8455b5386f7fc3ce832c58ea4537272c', 'text': \"the 'bigger fool' theory of investing, which argues that the value of an asset is irrelevant as\", 'metadata': {'coordinates': {'points': ((90.5, 489.568), (90.5, 501.568), (523.0759999999999, 501.568), (523.0759999999999, 489.568)), 'system': 'PixelSpace', 'layout_width': 612, 'layout_height': 792}, 'filename': 'Aswath Damodaran - Investment Valuation_ Tools and Techniques for Determining the Value of Any Asset, -Wiley (2002).pdf', 'languages': ['eng'], 'last_modified': '2024-02-09T21:20:00', 'page_number': 1, 'parent_id': 'ff5f4ec94fbd56ddcc061691ae322fc5', 'filetype': 'application/pdf'}}\n",
      "----------------------------------------------------------------------------------------------------\n",
      "{'type': 'NarrativeText', 'element_id': '5a85d1f2780296c61433978fb02bc6f6', 'text': \"long as there is a 'bigger fool' willing to buy the asset from them. While this may provide a\", 'metadata': {'coordinates': {'points': ((90.5, 510.568), (90.5, 522.568), (523.5959999999995, 522.568), (523.5959999999995, 510.568)), 'system': 'PixelSpace', 'layout_width': 612, 'layout_height': 792}, 'filename': 'Aswath Damodaran - Investment Valuation_ Tools and Techniques for Determining the Value of Any Asset, -Wiley (2002).pdf', 'languages': ['eng'], 'last_modified': '2024-02-09T21:20:00', 'page_number': 1, 'parent_id': 'ff5f4ec94fbd56ddcc061691ae322fc5', 'filetype': 'application/pdf'}}\n",
      "----------------------------------------------------------------------------------------------------\n",
      "{'type': 'NarrativeText', 'element_id': '423ede7161fbb2feec2c17c480b7f1cf', 'text': 'basis for some profits, it is a dangerous game to play, since there is no guarantee that such', 'metadata': {'coordinates': {'points': ((90.5, 531.568), (90.5, 543.568), (522.7639999999999, 543.568), (522.7639999999999, 531.568)), 'system': 'PixelSpace', 'layout_width': 612, 'layout_height': 792}, 'filename': 'Aswath Damodaran - Investment Valuation_ Tools and Techniques for Determining the Value of Any Asset, -Wiley (2002).pdf', 'languages': ['eng'], 'last_modified': '2024-02-09T21:20:00', 'page_number': 1, 'parent_id': 'ff5f4ec94fbd56ddcc061691ae322fc5', 'filetype': 'application/pdf'}}\n",
      "----------------------------------------------------------------------------------------------------\n",
      "{'type': 'NarrativeText', 'element_id': 'cc83ebdb048f51f4a6ef346d30bd1a15', 'text': 'an investor will still be around when the time to sell comes.', 'metadata': {'coordinates': {'points': ((90.5, 552.568), (90.5, 564.568), (377.5929999999998, 564.568), (377.5929999999998, 552.568)), 'system': 'PixelSpace', 'layout_width': 612, 'layout_height': 792}, 'filename': 'Aswath Damodaran - Investment Valuation_ Tools and Techniques for Determining the Value of Any Asset, -Wiley (2002).pdf', 'languages': ['eng'], 'last_modified': '2024-02-09T21:20:00', 'page_number': 1, 'parent_id': 'ff5f4ec94fbd56ddcc061691ae322fc5', 'filetype': 'application/pdf'}}\n",
      "----------------------------------------------------------------------------------------------------\n",
      "{'type': 'NarrativeText', 'element_id': '86cdabbe1fb1dc56462969656b0a229b', 'text': 'A postulate of sound investing is that an investor does not pay more for an asset', 'metadata': {'coordinates': {'points': ((126.5, 573.568), (126.5, 585.568), (523.3280000000004, 585.568), (523.3280000000004, 573.568)), 'system': 'PixelSpace', 'layout_width': 612, 'layout_height': 792}, 'filename': 'Aswath Damodaran - Investment Valuation_ Tools and Techniques for Determining the Value of Any Asset, -Wiley (2002).pdf', 'languages': ['eng'], 'last_modified': '2024-02-09T21:20:00', 'page_number': 1, 'parent_id': 'ff5f4ec94fbd56ddcc061691ae322fc5', 'filetype': 'application/pdf'}}\n",
      "----------------------------------------------------------------------------------------------------\n",
      "{'type': 'NarrativeText', 'element_id': 'e92dd2e9c48df9dcafa1f00541a562e5', 'text': 'than its worth. This statement may seem logical and obvious, but it is forgotten and', 'metadata': {'coordinates': {'points': ((90.5, 594.568), (90.5, 606.568), (523.828, 606.568), (523.828, 594.568)), 'system': 'PixelSpace', 'layout_width': 612, 'layout_height': 792}, 'filename': 'Aswath Damodaran - Investment Valuation_ Tools and Techniques for Determining the Value of Any Asset, -Wiley (2002).pdf', 'languages': ['eng'], 'last_modified': '2024-02-09T21:20:00', 'page_number': 1, 'parent_id': 'ff5f4ec94fbd56ddcc061691ae322fc5', 'filetype': 'application/pdf'}}\n",
      "----------------------------------------------------------------------------------------------------\n",
      "{'type': 'NarrativeText', 'element_id': '44cab568b25beda11ee47d89ca5c6aea', 'text': 'rediscovered at some time in every generation and in every market. There are those who', 'metadata': {'coordinates': {'points': ((90.5, 615.568), (90.5, 627.568), (523.4869999999992, 627.568), (523.4869999999992, 615.568)), 'system': 'PixelSpace', 'layout_width': 612, 'layout_height': 792}, 'filename': 'Aswath Damodaran - Investment Valuation_ Tools and Techniques for Determining the Value of Any Asset, -Wiley (2002).pdf', 'languages': ['eng'], 'last_modified': '2024-02-09T21:20:00', 'page_number': 1, 'parent_id': 'ff5f4ec94fbd56ddcc061691ae322fc5', 'filetype': 'application/pdf'}}\n",
      "----------------------------------------------------------------------------------------------------\n",
      "{'type': 'NarrativeText', 'element_id': '8f718d14cc89568f53bddb8b7946e8ea', 'text': 'are disingenuous enough to argue that value is in the eyes of the beholder, and that any', 'metadata': {'coordinates': {'points': ((90.5, 636.568), (90.5, 648.568), (523.3489999999995, 648.568), (523.3489999999995, 636.568)), 'system': 'PixelSpace', 'layout_width': 612, 'layout_height': 792}, 'filename': 'Aswath Damodaran - Investment Valuation_ Tools and Techniques for Determining the Value of Any Asset, -Wiley (2002).pdf', 'languages': ['eng'], 'last_modified': '2024-02-09T21:20:00', 'page_number': 1, 'parent_id': 'ff5f4ec94fbd56ddcc061691ae322fc5', 'filetype': 'application/pdf'}}\n",
      "----------------------------------------------------------------------------------------------------\n",
      "{'type': 'NarrativeText', 'element_id': 'bf78f9cec84a91d23fce66ed023f7bfd', 'text': 'price can be justified if there are other investors willing to pay that price. That is patently', 'metadata': {'coordinates': {'points': ((90.5, 657.568), (90.5, 669.568), (523.5479999999997, 669.568), (523.5479999999997, 657.568)), 'system': 'PixelSpace', 'layout_width': 612, 'layout_height': 792}, 'filename': 'Aswath Damodaran - Investment Valuation_ Tools and Techniques for Determining the Value of Any Asset, -Wiley (2002).pdf', 'languages': ['eng'], 'last_modified': '2024-02-09T21:20:00', 'page_number': 1, 'parent_id': 'ff5f4ec94fbd56ddcc061691ae322fc5', 'filetype': 'application/pdf'}}\n",
      "----------------------------------------------------------------------------------------------------\n",
      "{'type': 'NarrativeText', 'element_id': '53d883482d7a94f5b4afddca4ac30ae1', 'text': 'absurd. Perceptions may be all that matter when the asset is a painting or a sculpture, but', 'metadata': {'coordinates': {'points': ((90.5, 678.568), (90.5, 690.568), (523.4599999999992, 690.568), (523.4599999999992, 678.568)), 'system': 'PixelSpace', 'layout_width': 612, 'layout_height': 792}, 'filename': 'Aswath Damodaran - Investment Valuation_ Tools and Techniques for Determining the Value of Any Asset, -Wiley (2002).pdf', 'languages': ['eng'], 'last_modified': '2024-02-09T21:20:00', 'page_number': 1, 'parent_id': 'ff5f4ec94fbd56ddcc061691ae322fc5', 'filetype': 'application/pdf'}}\n",
      "----------------------------------------------------------------------------------------------------\n",
      "{'type': 'NarrativeText', 'element_id': 'eea55d8f39c1c2a96f893a012f1a59d2', 'text': 'investors do not (and should not) buy most assets for aesthetic or emotional reasons;', 'metadata': {'coordinates': {'points': ((90.5, 699.568), (90.5, 711.568), (523.1839999999997, 711.568), (523.1839999999997, 699.568)), 'system': 'PixelSpace', 'layout_width': 612, 'layout_height': 792}, 'filename': 'Aswath Damodaran - Investment Valuation_ Tools and Techniques for Determining the Value of Any Asset, -Wiley (2002).pdf', 'languages': ['eng'], 'last_modified': '2024-02-09T21:20:00', 'page_number': 1, 'parent_id': 'ff5f4ec94fbd56ddcc061691ae322fc5', 'filetype': 'application/pdf'}}\n",
      "----------------------------------------------------------------------------------------------------\n",
      "{'type': 'Title', 'element_id': '8e7fc0236af43df9340685fc16f1efe3', 'text': 'that', 'metadata': {'coordinates': {'points': ((504.5, 267.568), (504.5, 279.568), (523.253, 279.568), (523.253, 267.568)), 'system': 'PixelSpace', 'layout_width': 612, 'layout_height': 792}, 'filename': 'Aswath Damodaran - Investment Valuation_ Tools and Techniques for Determining the Value of Any Asset, -Wiley (2002).pdf', 'languages': ['eng'], 'last_modified': '2024-02-09T21:20:00', 'page_number': 1, 'filetype': 'application/pdf'}}\n",
      "----------------------------------------------------------------------------------------------------\n",
      "{'type': 'UncategorizedText', 'element_id': '6b86b273ff34fce19d6b804eff5a3f57', 'text': '1', 'metadata': {'coordinates': {'points': ((557.5, 52.60400000000004), (557.5, 64.60400000000004), (563.5, 64.60400000000004), (563.5, 52.60400000000004)), 'system': 'PixelSpace', 'layout_width': 612, 'layout_height': 792}, 'filename': 'Aswath Damodaran - Investment Valuation_ Tools and Techniques for Determining the Value of Any Asset, -Wiley (2002).pdf', 'languages': ['eng'], 'last_modified': '2024-02-09T21:20:00', 'page_number': 1, 'parent_id': '8e7fc0236af43df9340685fc16f1efe3', 'filetype': 'application/pdf'}}\n",
      "----------------------------------------------------------------------------------------------------\n"
     ]
    }
   ],
   "source": [
    "page_num = 1\n",
    "\n",
    "page_start = 0\n",
    "for i in range(len(elements)):\n",
    "    d = elements[i].to_dict()\n",
    "    # print(d)\n",
    "    try:\n",
    "        pageNumber = d['metadata']['page_number']\n",
    "        if pageNumber > page_num: break\n",
    "        if pageNumber == page_num:\n",
    "        # page_start+=1\n",
    "            print(d)\n",
    "            print('-'*100)\n",
    "    except:\n",
    "        pass"
   ]
  },
  {
   "cell_type": "code",
   "execution_count": 76,
   "metadata": {},
   "outputs": [],
   "source": [
    "investment_valuations = []\n",
    "start_page = 2\n",
    "for idx,elem in enumerate(elements):\n",
    "    elem_dict = elem.to_dict()\n",
    "    if elem_dict['type'] == 'PageBreak':continue\n",
    "    page_num = elem_dict['metadata']['page_number']\n",
    "    if page_num >= start_page:\n",
    "        if elem_dict['type'] == 'NarrativeText':\n",
    "            text = elem_dict['text']\n",
    "            # num_words = len(text.split(\" \"))\n",
    "            # if len(text)>=50 and num_words>=10:\n",
    "            investment_valuations.append({\n",
    "                'text':text,\n",
    "                'page_num': page_num,\n",
    "                'coordinates': elem_dict['metadata']['coordinates']['points']\n",
    "            })"
   ]
  },
  {
   "cell_type": "code",
   "execution_count": 77,
   "metadata": {},
   "outputs": [
    {
     "data": {
      "text/plain": [
       "23065"
      ]
     },
     "execution_count": 77,
     "metadata": {},
     "output_type": "execute_result"
    }
   ],
   "source": [
    "len(investment_valuations)"
   ]
  },
  {
   "cell_type": "markdown",
   "metadata": {},
   "source": [
    "## STRATEGIC RISK"
   ]
  },
  {
   "cell_type": "code",
   "execution_count": 78,
   "metadata": {},
   "outputs": [],
   "source": [
    "elements = partition(\"Aswath Damodaran - Strategic Risk Taking_ A Framework for Risk Management-Wharton School Publishing (2007).pdf\",include_page_breaks=True)"
   ]
  },
  {
   "cell_type": "code",
   "execution_count": 79,
   "metadata": {},
   "outputs": [
    {
     "name": "stdout",
     "output_type": "stream",
     "text": [
      "{'type': 'NarrativeText', 'element_id': 'b719a498c5fe685a48cfa51a3249ff87', 'text': 'probability of an event occurring, that is viewed as undesirable, and an assessment of', 'metadata': {'coordinates': {'points': ((108.0, 73.79993037500003), (108.0, 85.79992987499998), (524.999996465, 85.79992987499998), (524.999996465, 73.79993037500003)), 'system': 'PixelSpace', 'layout_width': 612, 'layout_height': 792}, 'filename': 'Aswath Damodaran - Strategic Risk Taking_ A Framework for Risk Management-Wharton School Publishing (2007).pdf', 'languages': ['eng'], 'last_modified': '2024-02-09T21:27:20', 'page_number': 5, 'filetype': 'application/pdf'}}\n",
      "----------------------------------------------------------------------------------------------------\n",
      "{'type': 'Title', 'element_id': '7744b31c5a7b5f6444934d4bf3674e9c', 'text': 'the expected harm from the event occurring.', 'metadata': {'coordinates': {'points': ((108.0, 94.67993037500003), (108.0, 106.67992987499997), (326.999999875, 106.67992987499997), (326.999999875, 94.67993037500003)), 'system': 'PixelSpace', 'layout_width': 612, 'layout_height': 792}, 'filename': 'Aswath Damodaran - Strategic Risk Taking_ A Framework for Risk Management-Wharton School Publishing (2007).pdf', 'languages': ['eng'], 'last_modified': '2024-02-09T21:27:20', 'page_number': 5, 'filetype': 'application/pdf'}}\n",
      "----------------------------------------------------------------------------------------------------\n",
      "{'type': 'NarrativeText', 'element_id': '2ef912a8e844762148dc0a4eaa7ad6d9', 'text': 'Risk = Probability of an accident * Consequence in lost money/deaths', 'metadata': {'coordinates': {'points': ((146.64, 115.31995037499996), (146.64, 127.3199498749999), (486.359989875, 127.3199498749999), (486.359989875, 115.31995037499996)), 'system': 'PixelSpace', 'layout_width': 612, 'layout_height': 792}, 'filename': 'Aswath Damodaran - Strategic Risk Taking_ A Framework for Risk Management-Wharton School Publishing (2007).pdf', 'languages': ['eng'], 'last_modified': '2024-02-09T21:27:20', 'page_number': 5, 'parent_id': '7744b31c5a7b5f6444934d4bf3674e9c', 'filetype': 'application/pdf'}}\n",
      "----------------------------------------------------------------------------------------------------\n",
      "{'type': 'NarrativeText', 'element_id': 'b0a10a185a76e0c64136b346df7e6c00', 'text': 'In contrast, risk in finance is defined in terms of variability of actual returns on an', 'metadata': {'coordinates': {'points': ((108.0, 136.19995037499996), (108.0, 148.1999498749999), (524.9999758649999, 148.1999498749999), (524.9999758649999, 136.19995037499996)), 'system': 'PixelSpace', 'layout_width': 612, 'layout_height': 792}, 'filename': 'Aswath Damodaran - Strategic Risk Taking_ A Framework for Risk Management-Wharton School Publishing (2007).pdf', 'languages': ['eng'], 'last_modified': '2024-02-09T21:27:20', 'page_number': 5, 'parent_id': '7744b31c5a7b5f6444934d4bf3674e9c', 'filetype': 'application/pdf'}}\n",
      "----------------------------------------------------------------------------------------------------\n",
      "{'type': 'NarrativeText', 'element_id': '291a45c38ae0abdc538bb21769d4a926', 'text': 'investment around an expected return, even when those returns represent positive', 'metadata': {'coordinates': {'points': ((108.0, 156.839970375), (108.0, 168.83996987499995), (524.999982625, 168.83996987499995), (524.999982625, 156.839970375)), 'system': 'PixelSpace', 'layout_width': 612, 'layout_height': 792}, 'filename': 'Aswath Damodaran - Strategic Risk Taking_ A Framework for Risk Management-Wharton School Publishing (2007).pdf', 'languages': ['eng'], 'last_modified': '2024-02-09T21:27:20', 'page_number': 5, 'parent_id': '7744b31c5a7b5f6444934d4bf3674e9c', 'filetype': 'application/pdf'}}\n",
      "----------------------------------------------------------------------------------------------------\n",
      "{'type': 'Title', 'element_id': '41cf3b596e9b0238b5c4d64609f6cf9a', 'text': 'outcomes.', 'metadata': {'coordinates': {'points': ((108.0, 177.719970375), (108.0, 189.71996987499995), (159.959989875, 189.71996987499995), (159.959989875, 177.719970375)), 'system': 'PixelSpace', 'layout_width': 612, 'layout_height': 792}, 'filename': 'Aswath Damodaran - Strategic Risk Taking_ A Framework for Risk Management-Wharton School Publishing (2007).pdf', 'languages': ['eng'], 'last_modified': '2024-02-09T21:27:20', 'page_number': 5, 'filetype': 'application/pdf'}}\n",
      "----------------------------------------------------------------------------------------------------\n",
      "{'type': 'NarrativeText', 'element_id': '328e70703ea04e4d0af662b512ed55ad', 'text': 'Building on the last distinction, we should consider broader definitions of risk that', 'metadata': {'coordinates': {'points': ((90.0, 198.59998037499997), (90.0, 210.59997987499992), (524.999981875, 210.59997987499992), (524.999981875, 198.59998037499997)), 'system': 'PixelSpace', 'layout_width': 612, 'layout_height': 792}, 'filename': 'Aswath Damodaran - Strategic Risk Taking_ A Framework for Risk Management-Wharton School Publishing (2007).pdf', 'languages': ['eng'], 'last_modified': '2024-02-09T21:27:20', 'page_number': 5, 'parent_id': '41cf3b596e9b0238b5c4d64609f6cf9a', 'filetype': 'application/pdf'}}\n",
      "----------------------------------------------------------------------------------------------------\n",
      "{'type': 'NarrativeText', 'element_id': 'f76af2685dff0c1faa81a4f8cdda4640', 'text': 'capture both the positive and negative outcomes. The Chinese symbol for risk best', 'metadata': {'coordinates': {'points': ((90.0, 219.23993037499997), (90.0, 231.23992987499992), (524.999992625, 231.23992987499992), (524.999992625, 219.23993037499997)), 'system': 'PixelSpace', 'layout_width': 612, 'layout_height': 792}, 'filename': 'Aswath Damodaran - Strategic Risk Taking_ A Framework for Risk Management-Wharton School Publishing (2007).pdf', 'languages': ['eng'], 'last_modified': '2024-02-09T21:27:20', 'page_number': 5, 'parent_id': '41cf3b596e9b0238b5c4d64609f6cf9a', 'filetype': 'application/pdf'}}\n",
      "----------------------------------------------------------------------------------------------------\n",
      "{'type': 'Title', 'element_id': 'a8e85ce43eb6b59e94ab316b5e54678e', 'text': 'captures this duality:', 'metadata': {'coordinates': {'points': ((90.0, 240.11993037499997), (90.0, 252.1199298749999), (193.079999875, 252.1199298749999), (193.079999875, 240.11993037499997)), 'system': 'PixelSpace', 'layout_width': 612, 'layout_height': 792}, 'filename': 'Aswath Damodaran - Strategic Risk Taking_ A Framework for Risk Management-Wharton School Publishing (2007).pdf', 'languages': ['eng'], 'last_modified': '2024-02-09T21:27:20', 'page_number': 5, 'filetype': 'application/pdf'}}\n",
      "----------------------------------------------------------------------------------------------------\n",
      "{'type': 'NarrativeText', 'element_id': '4e6aa375457d2b244dd0bbbcf544fe8b', 'text': 'This Chinese symbol for risk is a combination of danger (crisis) and opportunity,', 'metadata': {'coordinates': {'points': ((90.0, 298.679960375), (90.0, 310.679959875), (524.999978995, 310.679959875), (524.999978995, 298.679960375)), 'system': 'PixelSpace', 'layout_width': 612, 'layout_height': 792}, 'filename': 'Aswath Damodaran - Strategic Risk Taking_ A Framework for Risk Management-Wharton School Publishing (2007).pdf', 'languages': ['eng'], 'last_modified': '2024-02-09T21:27:20', 'page_number': 5, 'parent_id': 'a8e85ce43eb6b59e94ab316b5e54678e', 'filetype': 'application/pdf'}}\n",
      "----------------------------------------------------------------------------------------------------\n",
      "{'type': 'NarrativeText', 'element_id': 'e11f7f2c47f9d83216684a1c0c91e60b', 'text': 'representing the downside and the upside of risk. This is the definition of risk that we will', 'metadata': {'coordinates': {'points': ((90.0, 319.559940375), (90.0, 331.559939875), (524.9999863549999, 331.559939875), (524.9999863549999, 319.559940375)), 'system': 'PixelSpace', 'layout_width': 612, 'layout_height': 792}, 'filename': 'Aswath Damodaran - Strategic Risk Taking_ A Framework for Risk Management-Wharton School Publishing (2007).pdf', 'languages': ['eng'], 'last_modified': '2024-02-09T21:27:20', 'page_number': 5, 'parent_id': 'a8e85ce43eb6b59e94ab316b5e54678e', 'filetype': 'application/pdf'}}\n",
      "----------------------------------------------------------------------------------------------------\n",
      "{'type': 'NarrativeText', 'element_id': '0481ec1b4c764b88d24e57e6b93ff588', 'text': 'adhere to in this book because it captures perfectly both the essence of risk and the', 'metadata': {'coordinates': {'points': ((90.0, 340.199950375), (90.0, 352.199949875), (524.999981875, 352.199949875), (524.999981875, 340.199950375)), 'system': 'PixelSpace', 'layout_width': 612, 'layout_height': 792}, 'filename': 'Aswath Damodaran - Strategic Risk Taking_ A Framework for Risk Management-Wharton School Publishing (2007).pdf', 'languages': ['eng'], 'last_modified': '2024-02-09T21:27:20', 'page_number': 5, 'parent_id': 'a8e85ce43eb6b59e94ab316b5e54678e', 'filetype': 'application/pdf'}}\n",
      "----------------------------------------------------------------------------------------------------\n",
      "{'type': 'NarrativeText', 'element_id': 'bcb0d6b909638f5fa1325f3e668f1137', 'text': 'problems with focusing purely on risk reduction and hedging. Any approach that focuses', 'metadata': {'coordinates': {'points': ((90.0, 361.07996037500004), (90.0, 373.07995987500004), (524.9999849049999, 373.07995987500004), (524.9999849049999, 361.07996037500004)), 'system': 'PixelSpace', 'layout_width': 612, 'layout_height': 792}, 'filename': 'Aswath Damodaran - Strategic Risk Taking_ A Framework for Risk Management-Wharton School Publishing (2007).pdf', 'languages': ['eng'], 'last_modified': '2024-02-09T21:27:20', 'page_number': 5, 'parent_id': 'a8e85ce43eb6b59e94ab316b5e54678e', 'filetype': 'application/pdf'}}\n",
      "----------------------------------------------------------------------------------------------------\n",
      "{'type': 'NarrativeText', 'element_id': '7bc8a9dd5f1b12c8438dfe94e7680769', 'text': 'on minimizing risk exposure (or danger) will also reduce the potential for opportunity.', 'metadata': {'coordinates': {'points': ((90.0, 381.95996037500004), (90.0, 393.95995987500004), (514.1999798749999, 393.95995987500004), (514.1999798749999, 381.95996037500004)), 'system': 'PixelSpace', 'layout_width': 612, 'layout_height': 792}, 'filename': 'Aswath Damodaran - Strategic Risk Taking_ A Framework for Risk Management-Wharton School Publishing (2007).pdf', 'languages': ['eng'], 'last_modified': '2024-02-09T21:27:20', 'page_number': 5, 'parent_id': 'a8e85ce43eb6b59e94ab316b5e54678e', 'filetype': 'application/pdf'}}\n",
      "----------------------------------------------------------------------------------------------------\n",
      "{'type': 'Title', 'element_id': '9434393809ae424bf376676ea9395621', 'text': 'Dealing with Risk', 'metadata': {'coordinates': {'points': ((90.0, 424.919950375), (90.0, 436.919949875), (184.43999987499998, 436.919949875), (184.43999987499998, 424.919950375)), 'system': 'PixelSpace', 'layout_width': 612, 'layout_height': 792}, 'filename': 'Aswath Damodaran - Strategic Risk Taking_ A Framework for Risk Management-Wharton School Publishing (2007).pdf', 'languages': ['eng'], 'last_modified': '2024-02-09T21:27:20', 'page_number': 5, 'filetype': 'application/pdf'}}\n",
      "----------------------------------------------------------------------------------------------------\n",
      "{'type': 'NarrativeText', 'element_id': '29139b8fa4d0eb791d23b7a2237c4f14', 'text': 'While most of this book will be spent discussing why risk matters and how to', 'metadata': {'coordinates': {'points': ((126.0, 444.599950375), (126.0, 456.599949875), (524.9999833749999, 456.599949875), (524.9999833749999, 444.599950375)), 'system': 'PixelSpace', 'layout_width': 612, 'layout_height': 792}, 'filename': 'Aswath Damodaran - Strategic Risk Taking_ A Framework for Risk Management-Wharton School Publishing (2007).pdf', 'languages': ['eng'], 'last_modified': '2024-02-09T21:27:20', 'page_number': 5, 'parent_id': '9434393809ae424bf376676ea9395621', 'filetype': 'application/pdf'}}\n",
      "----------------------------------------------------------------------------------------------------\n",
      "{'type': 'NarrativeText', 'element_id': '6b85ac3e2e2d4a34db1c6797d7510fb9', 'text': 'incorporate it best into decisions, we will lay out two big themes that animate much of', 'metadata': {'coordinates': {'points': ((90.0, 465.479950375), (90.0, 477.479949875), (524.9999788549999, 477.479949875), (524.9999788549999, 465.479950375)), 'system': 'PixelSpace', 'layout_width': 612, 'layout_height': 792}, 'filename': 'Aswath Damodaran - Strategic Risk Taking_ A Framework for Risk Management-Wharton School Publishing (2007).pdf', 'languages': ['eng'], 'last_modified': '2024-02-09T21:27:20', 'page_number': 5, 'parent_id': '9434393809ae424bf376676ea9395621', 'filetype': 'application/pdf'}}\n",
      "----------------------------------------------------------------------------------------------------\n",
      "{'type': 'NarrativeText', 'element_id': 'a5ff24f47257b6f2c58723f14bc94aa3', 'text': 'the discussion. The first is the link between risk and reward that has motivated much of', 'metadata': {'coordinates': {'points': ((90.0, 486.119930375), (90.0, 498.119929875), (524.9999907849999, 498.119929875), (524.9999907849999, 486.119930375)), 'system': 'PixelSpace', 'layout_width': 612, 'layout_height': 792}, 'filename': 'Aswath Damodaran - Strategic Risk Taking_ A Framework for Risk Management-Wharton School Publishing (2007).pdf', 'languages': ['eng'], 'last_modified': '2024-02-09T21:27:20', 'page_number': 5, 'parent_id': '9434393809ae424bf376676ea9395621', 'filetype': 'application/pdf'}}\n",
      "----------------------------------------------------------------------------------------------------\n",
      "{'type': 'NarrativeText', 'element_id': '9c9ee995d1be3d393d663df3e7f1f6b2', 'text': 'risk taking through history. The other is the under mentioned link between risk and', 'metadata': {'coordinates': {'points': ((90.0, 506.999940375), (90.0, 518.999939875), (524.999981875, 518.999939875), (524.999981875, 506.999940375)), 'system': 'PixelSpace', 'layout_width': 612, 'layout_height': 792}, 'filename': 'Aswath Damodaran - Strategic Risk Taking_ A Framework for Risk Management-Wharton School Publishing (2007).pdf', 'languages': ['eng'], 'last_modified': '2024-02-09T21:27:20', 'page_number': 5, 'parent_id': '9434393809ae424bf376676ea9395621', 'filetype': 'application/pdf'}}\n",
      "----------------------------------------------------------------------------------------------------\n",
      "{'type': 'NarrativeText', 'element_id': '0329b62ae720eb9c057c797c7ecb3bd3', 'text': 'innovation, as new products and services have been developed to both hedge against and', 'metadata': {'coordinates': {'points': ((90.0, 527.8799403749999), (90.0, 539.879939875), (524.999980295, 539.879939875), (524.999980295, 527.8799403749999)), 'system': 'PixelSpace', 'layout_width': 612, 'layout_height': 792}, 'filename': 'Aswath Damodaran - Strategic Risk Taking_ A Framework for Risk Management-Wharton School Publishing (2007).pdf', 'languages': ['eng'], 'last_modified': '2024-02-09T21:27:20', 'page_number': 5, 'parent_id': '9434393809ae424bf376676ea9395621', 'filetype': 'application/pdf'}}\n",
      "----------------------------------------------------------------------------------------------------\n",
      "{'type': 'NarrativeText', 'element_id': '3c98de88dd9ba4bd26ea11ec0ad9df1a', 'text': 'to exploit risk.', 'metadata': {'coordinates': {'points': ((90.0, 548.519940375), (90.0, 560.519939875), (162.839999875, 560.519939875), (162.839999875, 548.519940375)), 'system': 'PixelSpace', 'layout_width': 612, 'layout_height': 792}, 'filename': 'Aswath Damodaran - Strategic Risk Taking_ A Framework for Risk Management-Wharton School Publishing (2007).pdf', 'languages': ['eng'], 'last_modified': '2024-02-09T21:27:20', 'page_number': 5, 'parent_id': '9434393809ae424bf376676ea9395621', 'filetype': 'application/pdf'}}\n",
      "----------------------------------------------------------------------------------------------------\n",
      "{'type': 'Title', 'element_id': 'f4514573db0942f7b83a61eb9181ca79', 'text': 'Risk and Reward', 'metadata': {'coordinates': {'points': ((90.0, 591.7199403750001), (90.0, 603.719939875), (177.47999987499998, 603.719939875), (177.47999987499998, 591.7199403750001)), 'system': 'PixelSpace', 'layout_width': 612, 'layout_height': 792}, 'filename': 'Aswath Damodaran - Strategic Risk Taking_ A Framework for Risk Management-Wharton School Publishing (2007).pdf', 'languages': ['eng'], 'last_modified': '2024-02-09T21:27:20', 'page_number': 5, 'filetype': 'application/pdf'}}\n",
      "----------------------------------------------------------------------------------------------------\n",
      "{'type': 'NarrativeText', 'element_id': '896fc3ce483ef4963edfcf6418fd8a61', 'text': 'The “no free lunch” mantra has a logical extension. Those who desire large', 'metadata': {'coordinates': {'points': ((126.0, 611.399950375), (126.0, 623.399949875), (524.999975115, 623.399949875), (524.999975115, 611.399950375)), 'system': 'PixelSpace', 'layout_width': 612, 'layout_height': 792}, 'filename': 'Aswath Damodaran - Strategic Risk Taking_ A Framework for Risk Management-Wharton School Publishing (2007).pdf', 'languages': ['eng'], 'last_modified': '2024-02-09T21:27:20', 'page_number': 5, 'parent_id': 'f4514573db0942f7b83a61eb9181ca79', 'filetype': 'application/pdf'}}\n",
      "----------------------------------------------------------------------------------------------------\n",
      "{'type': 'NarrativeText', 'element_id': '1977325d22899dfcec348467aa1158a5', 'text': 'rewards have to be willing to expose themselves to considerable risk. The link between', 'metadata': {'coordinates': {'points': ((90.0, 632.039950375), (90.0, 644.039949875), (524.999981875, 644.039949875), (524.999981875, 632.039950375)), 'system': 'PixelSpace', 'layout_width': 612, 'layout_height': 792}, 'filename': 'Aswath Damodaran - Strategic Risk Taking_ A Framework for Risk Management-Wharton School Publishing (2007).pdf', 'languages': ['eng'], 'last_modified': '2024-02-09T21:27:20', 'page_number': 5, 'parent_id': 'f4514573db0942f7b83a61eb9181ca79', 'filetype': 'application/pdf'}}\n",
      "----------------------------------------------------------------------------------------------------\n",
      "{'type': 'NarrativeText', 'element_id': '8c0ab88375e101748c98164cd118e77f', 'text': 'risk and return is most visible when making investment choices; stocks are riskier than', 'metadata': {'coordinates': {'points': ((90.0, 652.919940375), (90.0, 664.919939875), (524.999981875, 664.919939875), (524.999981875, 652.919940375)), 'system': 'PixelSpace', 'layout_width': 612, 'layout_height': 792}, 'filename': 'Aswath Damodaran - Strategic Risk Taking_ A Framework for Risk Management-Wharton School Publishing (2007).pdf', 'languages': ['eng'], 'last_modified': '2024-02-09T21:27:20', 'page_number': 5, 'parent_id': 'f4514573db0942f7b83a61eb9181ca79', 'filetype': 'application/pdf'}}\n",
      "----------------------------------------------------------------------------------------------------\n",
      "{'type': 'NarrativeText', 'element_id': '97bfab8ff641ebc41a54e9080e7c5f22', 'text': 'bonds, but generate higher returns over long periods. It is less visible but just as', 'metadata': {'coordinates': {'points': ((90.0, 673.799940375), (90.0, 685.7999398750001), (524.999984845, 685.7999398750001), (524.999984845, 673.799940375)), 'system': 'PixelSpace', 'layout_width': 612, 'layout_height': 792}, 'filename': 'Aswath Damodaran - Strategic Risk Taking_ A Framework for Risk Management-Wharton School Publishing (2007).pdf', 'languages': ['eng'], 'last_modified': '2024-02-09T21:27:20', 'page_number': 5, 'parent_id': 'f4514573db0942f7b83a61eb9181ca79', 'filetype': 'application/pdf'}}\n",
      "----------------------------------------------------------------------------------------------------\n",
      "{'type': 'NarrativeText', 'element_id': 'cbefd7d33aadec69b72b1378103faeb8', 'text': 'important when making career choices; a job in sales and trading at an investment bank', 'metadata': {'coordinates': {'points': ((90.0, 694.439941375), (90.0, 706.439940875), (524.999981875, 706.439940875), (524.999981875, 694.439941375)), 'system': 'PixelSpace', 'layout_width': 612, 'layout_height': 792}, 'filename': 'Aswath Damodaran - Strategic Risk Taking_ A Framework for Risk Management-Wharton School Publishing (2007).pdf', 'languages': ['eng'], 'last_modified': '2024-02-09T21:27:20', 'page_number': 5, 'parent_id': 'f4514573db0942f7b83a61eb9181ca79', 'filetype': 'application/pdf'}}\n",
      "----------------------------------------------------------------------------------------------------\n",
      "{'type': 'UncategorizedText', 'element_id': 'ef2d127de37b942baad06145e54b0c61', 'text': '5', 'metadata': {'coordinates': {'points': ((556.56, 52.679930375000026), (556.56, 64.67992987499997), (565.5599998749999, 64.67992987499997), (565.5599998749999, 52.679930375000026)), 'system': 'PixelSpace', 'layout_width': 612, 'layout_height': 792}, 'filename': 'Aswath Damodaran - Strategic Risk Taking_ A Framework for Risk Management-Wharton School Publishing (2007).pdf', 'languages': ['eng'], 'last_modified': '2024-02-09T21:27:20', 'page_number': 5, 'parent_id': 'f4514573db0942f7b83a61eb9181ca79', 'filetype': 'application/pdf'}}\n",
      "----------------------------------------------------------------------------------------------------\n"
     ]
    }
   ],
   "source": [
    "page_num = 5\n",
    "\n",
    "page_start = 0\n",
    "for i in range(len(elements)):\n",
    "    d = elements[i].to_dict()\n",
    "    # print(d)\n",
    "    try:\n",
    "        pageNumber = d['metadata']['page_number']\n",
    "        if pageNumber > page_num: break\n",
    "        if pageNumber == page_num:\n",
    "        # page_start+=1\n",
    "            print(d)\n",
    "            print('-'*100)\n",
    "    except:\n",
    "        pass"
   ]
  },
  {
   "cell_type": "code",
   "execution_count": 80,
   "metadata": {},
   "outputs": [
    {
     "data": {
      "text/plain": [
       "True"
      ]
     },
     "execution_count": 80,
     "metadata": {},
     "output_type": "execute_result"
    }
   ],
   "source": [
    "\"hello\".islower()"
   ]
  },
  {
   "cell_type": "code",
   "execution_count": 81,
   "metadata": {},
   "outputs": [],
   "source": [
    "strategic_risk = []\n",
    "start_page = 1\n",
    "for idx,elem in enumerate(elements):\n",
    "    elem_dict = elem.to_dict()\n",
    "    if elem_dict['type'] == 'PageBreak':continue\n",
    "    page_num = elem_dict['metadata']['page_number']\n",
    "    text = elem_dict['text']    \n",
    "    if elem_dict['type'] == 'Title' and text.islower():\n",
    "        strategic_risk.append({\n",
    "                'text':text,\n",
    "                'page_num': page_num,\n",
    "                'coordinates': elem_dict['metadata']['coordinates']['points']\n",
    "            })\n",
    "    if page_num >= start_page:\n",
    "        if elem_dict['type'] == 'NarrativeText':\n",
    "            text = elem_dict['text']\n",
    "            # num_words = len(text.split(\" \"))\n",
    "            # if len(text)>=50 and num_words>=10:\n",
    "            strategic_risk.append({\n",
    "                'text':text,\n",
    "                'page_num': page_num,\n",
    "                'coordinates': elem_dict['metadata']['coordinates']['points']\n",
    "            })"
   ]
  },
  {
   "cell_type": "code",
   "execution_count": 84,
   "metadata": {},
   "outputs": [
    {
     "data": {
      "text/plain": [
       "{'text': 'risk.',\n",
       " 'page_num': 1,\n",
       " 'coordinates': ((90.0, 359.639950375),\n",
       "  (90.0, 371.639949875),\n",
       "  (117.239999875, 371.639949875),\n",
       "  (117.239999875, 359.639950375))}"
      ]
     },
     "execution_count": 84,
     "metadata": {},
     "output_type": "execute_result"
    }
   ],
   "source": [
    "strategic_risk[11]"
   ]
  },
  {
   "cell_type": "code",
   "execution_count": 85,
   "metadata": {},
   "outputs": [
    {
     "data": {
      "text/plain": [
       "8961"
      ]
     },
     "execution_count": 85,
     "metadata": {},
     "output_type": "execute_result"
    }
   ],
   "source": [
    "len(strategic_risk)"
   ]
  },
  {
   "cell_type": "markdown",
   "metadata": {},
   "source": [
    "## CORPORATE FINANCE THEORY AND PRACTICE"
   ]
  },
  {
   "cell_type": "code",
   "execution_count": 86,
   "metadata": {},
   "outputs": [],
   "source": [
    "elements = partition(\"Pierre Vernimmen, Pascal Quiry, Maurizio Dallocchio, Yann Le Fur, Antonio Salvi - Corporate Finance_ Theory and Practice-Wiley (2014).pdf\",include_page_breaks=True)"
   ]
  },
  {
   "cell_type": "code",
   "execution_count": 87,
   "metadata": {},
   "outputs": [
    {
     "name": "stdout",
     "output_type": "stream",
     "text": [
      "{'type': 'Title', 'element_id': 'b58c60668eb172245d5722f2e2c4fa8b', 'text': 'Trim Size: 189 X 246 mm', 'metadata': {'coordinates': {'points': ((75.01999999999998, 4.729000000000042), (75.01999999999998, 11.729000000000042), (148.47099999999998, 11.729000000000042), (148.47099999999998, 4.729000000000042)), 'system': 'PixelSpace', 'layout_width': 601.7, 'layout_height': 763.3}, 'filename': 'Pierre Vernimmen, Pascal Quiry, Maurizio Dallocchio, Yann Le Fur, Antonio Salvi - Corporate Finance_ Theory and Practice-Wiley (2014).pdf', 'languages': ['eng'], 'last_modified': '2024-02-09T21:18:31', 'page_number': 10, 'filetype': 'application/pdf'}}\n",
      "----------------------------------------------------------------------------------------------------\n",
      "{'type': 'Title', 'element_id': '820f6df3af7029a3394e7ec2b5d9799d', 'text': 'fm.indd', 'metadata': {'coordinates': {'points': ((398.7, 4.729000000000042), (398.7, 11.729000000000042), (420.673, 11.729000000000042), (420.673, 4.729000000000042)), 'system': 'PixelSpace', 'layout_width': 601.7, 'layout_height': 763.3}, 'filename': 'Pierre Vernimmen, Pascal Quiry, Maurizio Dallocchio, Yann Le Fur, Antonio Salvi - Corporate Finance_ Theory and Practice-Wiley (2014).pdf', 'languages': ['eng'], 'last_modified': '2024-02-09T21:18:31', 'page_number': 10, 'filetype': 'application/pdf'}}\n",
      "----------------------------------------------------------------------------------------------------\n",
      "{'type': 'UncategorizedText', 'element_id': '395f1f788b483bef491bf03a62c04c35', 'text': '04:42:10:PM 09/08/2014 Page viii', 'metadata': {'coordinates': {'points': ((427.673, 4.729000000000042), (427.673, 11.729000000000042), (531.609, 11.729000000000042), (531.609, 4.729000000000042)), 'system': 'PixelSpace', 'layout_width': 601.7, 'layout_height': 763.3}, 'filename': 'Pierre Vernimmen, Pascal Quiry, Maurizio Dallocchio, Yann Le Fur, Antonio Salvi - Corporate Finance_ Theory and Practice-Wiley (2014).pdf', 'languages': ['eng'], 'last_modified': '2024-02-09T21:18:31', 'page_number': 10, 'parent_id': '820f6df3af7029a3394e7ec2b5d9799d', 'filetype': 'application/pdf'}}\n",
      "----------------------------------------------------------------------------------------------------\n",
      "{'type': 'Title', 'element_id': '7a931891ebbb61a7201470a43a8d9ce7', 'text': 'Preface', 'metadata': {'coordinates': {'points': ((455.8, 103.44000000000005), (455.8, 123.44000000000005), (514.7, 123.44000000000005), (514.7, 103.44000000000005)), 'system': 'PixelSpace', 'layout_width': 601.7, 'layout_height': 763.3}, 'filename': 'Pierre Vernimmen, Pascal Quiry, Maurizio Dallocchio, Yann Le Fur, Antonio Salvi - Corporate Finance_ Theory and Practice-Wiley (2014).pdf', 'languages': ['eng'], 'last_modified': '2024-02-09T21:18:31', 'page_number': 10, 'filetype': 'application/pdf'}}\n",
      "----------------------------------------------------------------------------------------------------\n",
      "{'type': 'NarrativeText', 'element_id': '3ca59f77e3c529324471234daca3d942', 'text': 'This book aims to cover the full scope of corporate finance as it is practised today worldwide.', 'metadata': {'coordinates': {'points': ((160.0, 234.97000000000003), (160.0, 256.97), (517.2899999999997, 256.97), (517.2899999999997, 234.97000000000003)), 'system': 'PixelSpace', 'layout_width': 601.7, 'layout_height': 763.3}, 'filename': 'Pierre Vernimmen, Pascal Quiry, Maurizio Dallocchio, Yann Le Fur, Antonio Salvi - Corporate Finance_ Theory and Practice-Wiley (2014).pdf', 'languages': ['eng'], 'last_modified': '2024-02-09T21:18:31', 'page_number': 10, 'parent_id': '7a931891ebbb61a7201470a43a8d9ce7', 'filetype': 'application/pdf'}}\n",
      "----------------------------------------------------------------------------------------------------\n",
      "{'type': 'NarrativeText', 'element_id': '2a0158dbf62c7c87cd100ce07a14060e', 'text': 'A way of thinking about finance', 'metadata': {'coordinates': {'points': ((160.0, 272.92), (160.0, 282.92), (298.31, 282.92), (298.31, 272.92)), 'system': 'PixelSpace', 'layout_width': 601.7, 'layout_height': 763.3}, 'filename': 'Pierre Vernimmen, Pascal Quiry, Maurizio Dallocchio, Yann Le Fur, Antonio Salvi - Corporate Finance_ Theory and Practice-Wiley (2014).pdf', 'languages': ['eng'], 'last_modified': '2024-02-09T21:18:31', 'page_number': 10, 'parent_id': '7a931891ebbb61a7201470a43a8d9ce7', 'filetype': 'application/pdf'}}\n",
      "----------------------------------------------------------------------------------------------------\n",
      "{'type': 'NarrativeText', 'element_id': '059a4708bac158d844500c4fb59aa53d', 'text': 'We are very pleased with the success of the first three editions of the book. It has encouraged us to retain the approach in order to explain corporate finance to students and professionals. There are four key features that distinguish this book from the many other corporate finance textbooks available on the market today:', 'metadata': {'coordinates': {'points': ((160.0, 290.97), (160.0, 336.97), (517.2600000000001, 336.97), (517.2600000000001, 290.97)), 'system': 'PixelSpace', 'layout_width': 601.7, 'layout_height': 763.3}, 'filename': 'Pierre Vernimmen, Pascal Quiry, Maurizio Dallocchio, Yann Le Fur, Antonio Salvi - Corporate Finance_ Theory and Practice-Wiley (2014).pdf', 'languages': ['eng'], 'last_modified': '2024-02-09T21:18:31', 'page_number': 10, 'parent_id': '7a931891ebbb61a7201470a43a8d9ce7', 'filetype': 'application/pdf'}}\n",
      "----------------------------------------------------------------------------------------------------\n",
      "{'type': 'NarrativeText', 'element_id': '2fa1a469f66134725278629dbb3b099e', 'text': '(cid:116) Our strong belief that financial analysis is part of corporate finance. Pierre Vernimmen, who was mentor and partner to some of us in the practice of corporate finance, understood very early on that a good financial manager must first be able to analyse a company’s economic, financial and strategic situation, and then value it, while at the same time mastering the conceptual underpinnings of all financial decisions.', 'metadata': {'coordinates': {'points': ((160.0, 344.97), (160.0, 402.97), (517.2899999999997, 402.97), (517.2899999999997, 344.97)), 'system': 'PixelSpace', 'layout_width': 601.7, 'layout_height': 763.3}, 'filename': 'Pierre Vernimmen, Pascal Quiry, Maurizio Dallocchio, Yann Le Fur, Antonio Salvi - Corporate Finance_ Theory and Practice-Wiley (2014).pdf', 'languages': ['eng'], 'last_modified': '2024-02-09T21:18:31', 'page_number': 10, 'parent_id': '7a931891ebbb61a7201470a43a8d9ce7', 'filetype': 'application/pdf'}}\n",
      "----------------------------------------------------------------------------------------------------\n",
      "{'type': 'NarrativeText', 'element_id': 'c80e1e662431b11bbd2bdabb8f38a858', 'text': '(cid:116) Corporate Finance is neither a theoretical textbook nor a practical workbook. It is a book in which theory and practice are constantly set off against each other, in the same way as in our daily practice as investors at Monestier capital, DGPA and as M&A director at Alstom, as board members of several listed and unlisted companies, and as teachers at HEC Paris and Bocconi business schools. Emphasis is placed on concepts intended to give you an understanding of situations, rather than on techniques, which tend to shift and change over time. We confess to believing that the former will still be valid in 20 years’ time, whereas the latter will, for the most part, be long forgotten! Financial concepts are international, but they are much easier to grasp when they are set in a familiar context. We have tried to give examples and statistics from all around the world to illustrate the concepts.', 'metadata': {'coordinates': {'points': ((160.0, 404.97), (160.0, 546.97), (517.2899999999997, 546.97), (517.2899999999997, 404.97)), 'system': 'PixelSpace', 'layout_width': 601.7, 'layout_height': 763.3}, 'filename': 'Pierre Vernimmen, Pascal Quiry, Maurizio Dallocchio, Yann Le Fur, Antonio Salvi - Corporate Finance_ Theory and Practice-Wiley (2014).pdf', 'languages': ['eng'], 'last_modified': '2024-02-09T21:18:31', 'page_number': 10, 'parent_id': '7a931891ebbb61a7201470a43a8d9ce7', 'filetype': 'application/pdf'}}\n",
      "----------------------------------------------------------------------------------------------------\n",
      "{'type': 'UncategorizedText', 'element_id': '055a1faa70940ea592a81f549ee927f0', 'text': '(cid:116)', 'metadata': {'coordinates': {'points': ((160.0, 465.21), (160.0, 475.21), (165.0, 475.21), (165.0, 465.21)), 'system': 'PixelSpace', 'layout_width': 601.7, 'layout_height': 763.3}, 'filename': 'Pierre Vernimmen, Pascal Quiry, Maurizio Dallocchio, Yann Le Fur, Antonio Salvi - Corporate Finance_ Theory and Practice-Wiley (2014).pdf', 'languages': ['eng'], 'last_modified': '2024-02-09T21:18:31', 'page_number': 10, 'parent_id': '7a931891ebbb61a7201470a43a8d9ce7', 'filetype': 'application/pdf'}}\n",
      "----------------------------------------------------------------------------------------------------\n",
      "{'type': 'UncategorizedText', 'element_id': '055a1faa70940ea592a81f549ee927f0', 'text': '(cid:116)', 'metadata': {'coordinates': {'points': ((160.0, 513.21), (160.0, 523.21), (165.0, 523.21), (165.0, 513.21)), 'system': 'PixelSpace', 'layout_width': 601.7, 'layout_height': 763.3}, 'filename': 'Pierre Vernimmen, Pascal Quiry, Maurizio Dallocchio, Yann Le Fur, Antonio Salvi - Corporate Finance_ Theory and Practice-Wiley (2014).pdf', 'languages': ['eng'], 'last_modified': '2024-02-09T21:18:31', 'page_number': 10, 'parent_id': '7a931891ebbb61a7201470a43a8d9ce7', 'filetype': 'application/pdf'}}\n",
      "----------------------------------------------------------------------------------------------------\n",
      "{'type': 'Title', 'element_id': '9fdda3e05d8f8d55afa6ce2469f5b53e', 'text': 'The five sections', 'metadata': {'coordinates': {'points': ((160.0, 562.92), (160.0, 572.92), (232.4, 572.92), (232.4, 562.92)), 'system': 'PixelSpace', 'layout_width': 601.7, 'layout_height': 763.3}, 'filename': 'Pierre Vernimmen, Pascal Quiry, Maurizio Dallocchio, Yann Le Fur, Antonio Salvi - Corporate Finance_ Theory and Practice-Wiley (2014).pdf', 'languages': ['eng'], 'last_modified': '2024-02-09T21:18:31', 'page_number': 10, 'filetype': 'application/pdf'}}\n",
      "----------------------------------------------------------------------------------------------------\n",
      "{'type': 'NarrativeText', 'element_id': '11575720d6c5c9b82ff8fd86a7400f1f', 'text': 'This book starts with an introductory chapter reiterating the idea that corporate financiers are the bridge between the economy and the realm of finance. Increasingly, they must play the role of marketing managers and negotiators. Their products are financial securities that represent rights to the firm’s cash flows. Their customers are bankers and investors. A good financial manager listens to customers and sells them good products at high prices. A good financial manager always thinks in terms of value rather than costs or earnings.', 'metadata': {'coordinates': {'points': ((160.0, 580.97), (160.0, 650.97), (517.2879999999998, 650.97), (517.2879999999998, 580.97)), 'system': 'PixelSpace', 'layout_width': 601.7, 'layout_height': 763.3}, 'filename': 'Pierre Vernimmen, Pascal Quiry, Maurizio Dallocchio, Yann Le Fur, Antonio Salvi - Corporate Finance_ Theory and Practice-Wiley (2014).pdf', 'languages': ['eng'], 'last_modified': '2024-02-09T21:18:31', 'page_number': 10, 'parent_id': '9fdda3e05d8f8d55afa6ce2469f5b53e', 'filetype': 'application/pdf'}}\n",
      "----------------------------------------------------------------------------------------------------\n"
     ]
    }
   ],
   "source": [
    "page_num = 10\n",
    "\n",
    "page_start = 0\n",
    "for i in range(len(elements)):\n",
    "    d = elements[i].to_dict()\n",
    "    # print(d)\n",
    "    try:\n",
    "        pageNumber = d['metadata']['page_number']\n",
    "        if pageNumber > page_num: break\n",
    "        if pageNumber == page_num:\n",
    "        # page_start+=1\n",
    "            print(d)\n",
    "            print('-'*100)\n",
    "    except:\n",
    "        pass"
   ]
  },
  {
   "cell_type": "code",
   "execution_count": 90,
   "metadata": {},
   "outputs": [],
   "source": [
    "corporate_finance = []\n",
    "start_page = 10\n",
    "for idx,elem in enumerate(elements):\n",
    "    elem_dict = elem.to_dict()\n",
    "    if elem_dict['type'] == 'PageBreak':continue\n",
    "    page_num = elem_dict['metadata']['page_number']\n",
    "    if page_num >= start_page:\n",
    "        if elem_dict['type'] == 'NarrativeText':\n",
    "            text = elem_dict['text']\n",
    "            # num_words = len(text.split(\" \"))\n",
    "            # if len(text)>=50 and num_words>=10:\n",
    "            corporate_finance.append({\n",
    "                'text':text,\n",
    "                'page_num': page_num,\n",
    "                'coordinates': elem_dict['metadata']['coordinates']['points']\n",
    "            })"
   ]
  },
  {
   "cell_type": "code",
   "execution_count": 92,
   "metadata": {},
   "outputs": [
    {
     "data": {
      "text/plain": [
       "9701"
      ]
     },
     "execution_count": 92,
     "metadata": {},
     "output_type": "execute_result"
    }
   ],
   "source": [
    "len(corporate_finance)"
   ]
  },
  {
   "cell_type": "markdown",
   "metadata": {},
   "source": [
    "## DARK SIDE OF VALUATION"
   ]
  },
  {
   "cell_type": "code",
   "execution_count": 93,
   "metadata": {},
   "outputs": [],
   "source": [
    "elements = partition(\"Aswath Damodaran - The Dark Side of Valuation_ Valuing Young, Distressed, and Complex Businesses-Pearson FT Press (2018).pdf\",include_page_breaks=True)"
   ]
  },
  {
   "cell_type": "code",
   "execution_count": 94,
   "metadata": {},
   "outputs": [
    {
     "name": "stdout",
     "output_type": "stream",
     "text": [
      "{'type': 'Title', 'element_id': 'f15a0017c976b81810a044be265f06b3', 'text': 'The Dark Side of Valuation', 'metadata': {'coordinates': {'points': ((286.69921055419906, 136.3485110848368), (286.69921055419906, 157.59601019952436), (535.0136512269136, 157.59601019952436), (535.0136512269136, 136.3485110848368)), 'system': 'PixelSpace', 'layout_width': 612, 'layout_height': 792}, 'filename': 'Aswath Damodaran - The Dark Side of Valuation_ Valuing Young, Distressed, and Complex Businesses-Pearson FT Press (2018).pdf', 'languages': ['eng'], 'last_modified': '2024-02-11T18:38:46', 'page_number': 27, 'filetype': 'application/pdf'}}\n",
      "----------------------------------------------------------------------------------------------------\n",
      "{'type': 'NarrativeText', 'element_id': '5aa71f0aa67b4929e81b2a931d41a8ae', 'text': 'I have always believed that valuation is simple and that we, its practitioners, choose to make it complex. The intrinsic value of a cash flow- generation asset is a function of how long you expect it to generate cash flows, as well as how large and predictable these cash flows are. This is the principle that we use in valuing businesses, private as well as public, and in valuing securities issued by these businesses.', 'metadata': {'coordinates': {'points': ((76.99218429199217, 195.48924955461428), (76.99218429199217, 312.9946158085571), (535.0107185828858, 312.9946158085571), (535.0107185828858, 195.48924955461428)), 'system': 'PixelSpace', 'layout_width': 612, 'layout_height': 792}, 'filename': 'Aswath Damodaran - The Dark Side of Valuation_ Valuing Young, Distressed, and Complex Businesses-Pearson FT Press (2018).pdf', 'languages': ['eng'], 'last_modified': '2024-02-11T18:38:46', 'page_number': 27, 'parent_id': 'f15a0017c976b81810a044be265f06b3', 'filetype': 'application/pdf'}}\n",
      "----------------------------------------------------------------------------------------------------\n",
      "{'type': 'NarrativeText', 'element_id': 'bcb3f7694710a6d2478ec3022644cbab', 'text': 'Although the fundamentals of valuation are straightforward, the challenges we face in valuing companies shift as firms move through the life cycle. We go from idea businesses, often privately owned, to young growth companies, either public or on the verge of going public, to mature companies, with diverse product lines and serving different markets, to companies in decline, marking time until they are liquidated. At each stage, we are called on to estimate the same inputs—cash flows, growth rates, and discount rates—but with varying amounts of information and different degrees of precision. All too often, when confronted with significant uncertainty or limited information, we are tempted by the dark side of valuation, in which first principles are abandoned, new paradigms are created, and common sense is the casualty.', 'metadata': {'coordinates': {'points': ((76.99218429199217, 322.74461540230715), (76.99218429199217, 527.4946068710572), (534.8539355894185, 527.4946068710572), (534.8539355894185, 322.74461540230715)), 'system': 'PixelSpace', 'layout_width': 612, 'layout_height': 792}, 'filename': 'Aswath Damodaran - The Dark Side of Valuation_ Valuing Young, Distressed, and Complex Businesses-Pearson FT Press (2018).pdf', 'languages': ['eng'], 'last_modified': '2024-02-11T18:38:46', 'page_number': 27, 'parent_id': 'f15a0017c976b81810a044be265f06b3', 'filetype': 'application/pdf'}}\n",
      "----------------------------------------------------------------------------------------------------\n",
      "{'type': 'NarrativeText', 'element_id': '42ca1100dd7d5b100ace187cca4aa844', 'text': 'This chapter begins by describing the determinants of value for any company. Then it considers the estimation issues we face at each stage in the life cycle and for different types of companies. We close the chapter by looking at manifestations of the dark side of valuation.', 'metadata': {'coordinates': {'points': ((76.99218429199217, 537.2446064648071), (76.99218429199217, 603.9946036835571), (534.956520360144, 603.9946036835571), (534.956520360144, 537.2446064648071)), 'system': 'PixelSpace', 'layout_width': 612, 'layout_height': 792}, 'filename': 'Aswath Damodaran - The Dark Side of Valuation_ Valuing Young, Distressed, and Complex Businesses-Pearson FT Press (2018).pdf', 'languages': ['eng'], 'last_modified': '2024-02-11T18:38:46', 'page_number': 27, 'parent_id': 'f15a0017c976b81810a044be265f06b3', 'filetype': 'application/pdf'}}\n",
      "----------------------------------------------------------------------------------------------------\n",
      "{'type': 'UncategorizedText', 'element_id': '6b86b273ff34fce19d6b804eff5a3f57', 'text': '1', 'metadata': {'coordinates': {'points': ((520.0077908330078, 91.23925389836427), (520.0077908330078, 121.23925264836419), (535.0077902080078, 121.23925264836419), (535.0077902080078, 91.23925389836427)), 'system': 'PixelSpace', 'layout_width': 612, 'layout_height': 792}, 'filename': 'Aswath Damodaran - The Dark Side of Valuation_ Valuing Young, Distressed, and Complex Businesses-Pearson FT Press (2018).pdf', 'languages': ['eng'], 'last_modified': '2024-02-11T18:38:46', 'page_number': 27, 'parent_id': 'f15a0017c976b81810a044be265f06b3', 'filetype': 'application/pdf'}}\n",
      "----------------------------------------------------------------------------------------------------\n"
     ]
    }
   ],
   "source": [
    "page_num = 27\n",
    "\n",
    "page_start = 0\n",
    "for i in range(len(elements)):\n",
    "    d = elements[i].to_dict()\n",
    "    # print(d)\n",
    "    try:\n",
    "        pageNumber = d['metadata']['page_number']\n",
    "        if pageNumber > page_num: break\n",
    "        if pageNumber == page_num:\n",
    "        # page_start+=1\n",
    "            print(d)\n",
    "            print('-'*100)\n",
    "    except:\n",
    "        pass"
   ]
  },
  {
   "cell_type": "code",
   "execution_count": 95,
   "metadata": {},
   "outputs": [],
   "source": [
    "dark_side_valuation = []\n",
    "start_page = 27\n",
    "for idx,elem in enumerate(elements):\n",
    "    elem_dict = elem.to_dict()\n",
    "    if elem_dict['type'] == 'PageBreak':continue\n",
    "    page_num = elem_dict['metadata']['page_number']\n",
    "    if page_num >= start_page:\n",
    "        if elem_dict['type'] == 'NarrativeText':\n",
    "            text = elem_dict['text']\n",
    "            # num_words = len(text.split(\" \"))\n",
    "            # if len(text)>=50 and num_words>=10:\n",
    "            dark_side_valuation.append({\n",
    "                'text':text,\n",
    "                'page_num': page_num,\n",
    "                'coordinates': elem_dict['metadata']['coordinates']['points']\n",
    "            })"
   ]
  },
  {
   "cell_type": "code",
   "execution_count": 96,
   "metadata": {},
   "outputs": [
    {
     "data": {
      "text/plain": [
       "{'text': 'I have always believed that valuation is simple and that we, its practitioners, choose to make it complex. The intrinsic value of a cash flow- generation asset is a function of how long you expect it to generate cash flows, as well as how large and predictable these cash flows are. This is the principle that we use in valuing businesses, private as well as public, and in valuing securities issued by these businesses.',\n",
       " 'page_num': 27,\n",
       " 'coordinates': ((76.99218429199217, 195.48924955461428),\n",
       "  (76.99218429199217, 312.9946158085571),\n",
       "  (535.0107185828858, 312.9946158085571),\n",
       "  (535.0107185828858, 195.48924955461428))}"
      ]
     },
     "execution_count": 96,
     "metadata": {},
     "output_type": "execute_result"
    }
   ],
   "source": [
    "dark_side_valuation[0]"
   ]
  },
  {
   "cell_type": "code",
   "execution_count": 97,
   "metadata": {},
   "outputs": [
    {
     "data": {
      "text/plain": [
       "3328"
      ]
     },
     "execution_count": 97,
     "metadata": {},
     "output_type": "execute_result"
    }
   ],
   "source": [
    "len(dark_side_valuation)"
   ]
  },
  {
   "cell_type": "code",
   "execution_count": 99,
   "metadata": {},
   "outputs": [],
   "source": [
    "import os\n",
    "\n",
    "os.makedirs(\"books\",exist_ok=True)"
   ]
  },
  {
   "cell_type": "code",
   "execution_count": 100,
   "metadata": {},
   "outputs": [],
   "source": [
    "books_dict = {\n",
    "    \"Little_Book_on_Valuation\": little_book,\n",
    "    \"Investment_Philosophies\": investment_philosphies,\n",
    "    \"Narrative_and_Numbers\": value_in_stories,\n",
    "    \"Damodaran_on_valuation\": damodaran_on_valuation,\n",
    "    \"Applied_corporate_finance\": applied_corporate_finance,\n",
    "    \"Investment_fables\": investment_fables,\n",
    "    \"Investment_Valuations_techniques\": investment_valuations,\n",
    "    \"Strategic_Risk\": strategic_risk,\n",
    "    \"Corporate_Finance_Theory_Practice\": corporate_finance,\n",
    "    \"Dark_Side_Valuation\": dark_side_valuation\n",
    "}"
   ]
  },
  {
   "cell_type": "code",
   "execution_count": 101,
   "metadata": {},
   "outputs": [
    {
     "data": {
      "text/plain": [
       "10"
      ]
     },
     "execution_count": 101,
     "metadata": {},
     "output_type": "execute_result"
    }
   ],
   "source": [
    "len(books_dict.keys())"
   ]
  },
  {
   "cell_type": "code",
   "execution_count": 102,
   "metadata": {},
   "outputs": [],
   "source": [
    "import json\n",
    "with open('test.txt', 'w') as f:\n",
    "    f.write(json.dumps(strategic_risk))"
   ]
  },
  {
   "cell_type": "code",
   "execution_count": 103,
   "metadata": {},
   "outputs": [],
   "source": [
    "with open('test.txt', 'r') as f:\n",
    "    a = json.loads(f.read())"
   ]
  },
  {
   "cell_type": "code",
   "execution_count": 106,
   "metadata": {},
   "outputs": [],
   "source": [
    "for book_name,vals in books_dict.items():\n",
    "    with open(f'books/{book_name}.txt', 'w') as f:\n",
    "        f.write(json.dumps(vals))"
   ]
  },
  {
   "cell_type": "code",
   "execution_count": null,
   "metadata": {},
   "outputs": [],
   "source": []
  }
 ],
 "metadata": {
  "kernelspec": {
   "display_name": "tf-gpu",
   "language": "python",
   "name": "python3"
  },
  "language_info": {
   "codemirror_mode": {
    "name": "ipython",
    "version": 3
   },
   "file_extension": ".py",
   "mimetype": "text/x-python",
   "name": "python",
   "nbconvert_exporter": "python",
   "pygments_lexer": "ipython3",
   "version": "3.9.18"
  }
 },
 "nbformat": 4,
 "nbformat_minor": 2
}
