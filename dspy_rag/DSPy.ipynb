{
 "cells": [
  {
   "cell_type": "markdown",
   "metadata": {},
   "source": [
    "## AGENDA OF THE NOTEBOOK\n",
    "\n",
    "1. Build the database with an embeddings model with chromaDB of all the books data and YouTube data\n",
    "2. Build the RAG pipeline with three configurations"
   ]
  },
  {
   "cell_type": "code",
   "execution_count": 1,
   "metadata": {},
   "outputs": [],
   "source": [
    "import sys\n",
    "sys.path.append('../')\n",
    "\n",
    "from src.book_preprocess import get_book_data"
   ]
  },
  {
   "cell_type": "code",
   "execution_count": 2,
   "metadata": {},
   "outputs": [
    {
     "name": "stderr",
     "output_type": "stream",
     "text": [
      "100%|██████████| 11/11 [00:00<00:00, 17.19it/s]\n"
     ]
    }
   ],
   "source": [
    "from tqdm import tqdm\n",
    "import os\n",
    "import json\n",
    "\n",
    "import json\n",
    "from llama_index.core import Document\n",
    "from llama_index.core.node_parser import SentenceSplitter\n",
    "\n",
    "sentence_text_parser = SentenceSplitter(\n",
    "    chunk_size=512,\n",
    "    chunk_overlap=20\n",
    ")\n",
    "\n",
    "def get_book_transcripts_data():\n",
    "    book_doc_data = get_book_data(100)\n",
    "    with open('../artifacts/YouTube_API_Transcripts/chunked_transcripts_mba.json', 'r') as file:\n",
    "        mba_data = json.load(file)\n",
    "\n",
    "    with open('../artifacts/YouTube_API_Transcripts/chunked_transcripts_undergrad.json', 'r') as file:\n",
    "        undergrad_data = json.load(file)\n",
    "\n",
    "    with open('../artifacts/YouTube_API_Transcripts/chunked_misc_transcripts.json', 'r') as file:\n",
    "        misc_data = json.load(file)\n",
    "    \n",
    "    all_data_list = []\n",
    "    for book_doc in book_doc_data:\n",
    "        # try:\n",
    "        if book_doc=={}: continue\n",
    "        text_data = book_doc['text']\n",
    "        splitted_chunks = sentence_text_parser.split_text(text_data)\n",
    "        curr_book_source = book_doc['book_source']\n",
    "        curr_page_num_coordinates = book_doc['page_num_coordinates']\n",
    "        for splitted_text in splitted_chunks:\n",
    "            if len(splitted_text.split(\" \"))<=10: continue\n",
    "            all_data_list.append(\n",
    "                Document(\n",
    "                    text=splitted_text,\n",
    "                    metadata={\n",
    "                        'page_num_coordinates':curr_page_num_coordinates,\n",
    "                        'book_source':curr_book_source,\n",
    "                    },\n",
    "                    excluded_embed_metadata_keys=['page_num_coordinates','book_source'],\n",
    "                    excluded_llm_metadata_keys=['page_num_coordinates','book_source'],\n",
    "                )\n",
    "            )\n",
    "    for json_data in [undergrad_data,mba_data,misc_data]:\n",
    "        for youtube_id, text_list in json_data.items():\n",
    "            # curr_youtube_id_text = \"\"\n",
    "            for text_dict in text_list:\n",
    "                if len(text_dict['text'].split(\" \"))<=10:continue\n",
    "                all_data_list.append(\n",
    "                    Document(\n",
    "                        text=text_dict['text'],\n",
    "                        metadata={\n",
    "                            \"youtube_id\":youtube_id,\n",
    "                            \"start_timestamp\":text_dict['start_time'],\n",
    "                        },\n",
    "                        excluded_embed_metadata_keys=['youtube_id','start_timestamp'],\n",
    "                        excluded_llm_metadata_keys=['youtube_id','start_timestamp'],\n",
    "                    )\n",
    "                )\n",
    "            # break\n",
    "    return all_data_list\n",
    "\n",
    "def median(lst):\n",
    "\n",
    "    lst.sort()\n",
    "    return lst[len(lst)//2]\n",
    "\n",
    "def get_book_data(num_para_words:int=50):\n",
    "    books_folder = \"../artifacts/book_hi_res\"\n",
    "    book_data = []\n",
    "    for book_name in tqdm(os.listdir(books_folder)):\n",
    "        # print(book_name)\n",
    "        if book_name.startswith(\"Corporate_Finance\"):continue\n",
    "        curr_json_path = os.path.join(books_folder, book_name)\n",
    "        if book_name.startswith(\"Narrative\"):\n",
    "            start_page = 1\n",
    "            end_page = 266\n",
    "        elif book_name.startswith(\"Little\"):\n",
    "            start_page = 17\n",
    "            end_page = None\n",
    "        elif book_name.startswith(\"Investment_Philosophies\"):\n",
    "            start_page = 1\n",
    "            end_page = 486\n",
    "        elif book_name.startswith(\"Dark\"):\n",
    "            start_page = 1\n",
    "            end_page = 794\n",
    "        elif book_name.startswith(\"Damodaran\"):\n",
    "            start_page = 1\n",
    "            end_page = 1237\n",
    "        else:\n",
    "            start_page = 1\n",
    "            end_page = None\n",
    "        \n",
    "        #Load the data\n",
    "        with open(curr_json_path, \"r\") as f:\n",
    "            json_data = json.load(f)\n",
    "        x_start = []\n",
    "        for jd in json_data:\n",
    "            x_start.append(jd['coordinates'][0][0])\n",
    "        x_median = median(x_start)\n",
    "        metadata_book_name = book_name.split(\".\")[0]\n",
    "        for jd_idx,jd in enumerate(json_data):\n",
    "            text_split_list = jd['text'].split(\" \")\n",
    "            num_words = len(text_split_list)\n",
    "            x_coord = jd['coordinates'][0][0]\n",
    "            page_num = jd['page_num']\n",
    "            txt = jd['text']\n",
    "            # txt = re.sub(\"\\. \",\".\\n\",txt)\n",
    "            if start_page == 1 and end_page == None:\n",
    "                pass\n",
    "            elif start_page>page_num:\n",
    "                continue\n",
    "            elif end_page is not None and end_page<page_num:\n",
    "                continue\n",
    "            if jd_idx==0 or (x_median-10<=x_coord <= x_median+10 and text_split_list[0].istitle() and num_words>num_para_words):\n",
    "                book_data.append(\n",
    "                    {\n",
    "                        \"text\": txt+\"\\n\\n\",\n",
    "                    }\n",
    "                )\n",
    "                page_coordinates = jd['coordinates'].copy()\n",
    "                page_coordinates.insert(0,{\"page_num\":page_num})\n",
    "                book_data[-1][\"page_num_coordinates\"] = [page_coordinates]\n",
    "                book_data[-1]['book_source'] = metadata_book_name\n",
    "            else:\n",
    "                prev_idx = book_data[-1]\n",
    "                if \"text\" in prev_idx:\n",
    "                    prev_idx['text'] = prev_idx['text'][:-2] + txt + \"\\n\\n\"\n",
    "                else:\n",
    "                    prev_idx['text'] = txt + \"\\n\\n\"\n",
    "                page_coordinates = jd['coordinates'].copy()\n",
    "                page_coordinates.insert(0,{\"page_num\":page_num})\n",
    "                if \"page_num_coordinates\" not in prev_idx:\n",
    "                    prev_idx[\"page_num_coordinates\"] = [page_coordinates]\n",
    "                else:\n",
    "                    prev_idx[\"page_num_coordinates\"].append(page_coordinates)\n",
    "                if \"book_source\" not in prev_idx:\n",
    "                    prev_idx['book_source'] = metadata_book_name\n",
    "        book_data.append({})\n",
    "    return book_data\n",
    "\n",
    "# all_data_list = get_book_transcripts_data()"
   ]
  },
  {
   "cell_type": "code",
   "execution_count": 3,
   "metadata": {},
   "outputs": [
    {
     "data": {
      "text/plain": [
       "500"
      ]
     },
     "execution_count": 3,
     "metadata": {},
     "output_type": "execute_result"
    }
   ],
   "source": [
    "# num_words = [len(i.text.split(\" \")) for i in all_data_list]\n",
    "# max(num_words)"
   ]
  },
  {
   "cell_type": "code",
   "execution_count": 4,
   "metadata": {},
   "outputs": [
    {
     "data": {
      "text/plain": [
       "[<matplotlib.lines.Line2D at 0x7fba931fc490>]"
      ]
     },
     "execution_count": 4,
     "metadata": {},
     "output_type": "execute_result"
    },
    {
     "data": {
      "image/png": "[encoded data removed]",
      "text/plain": [
       "<Figure size 640x480 with 1 Axes>"
      ]
     },
     "metadata": {},
     "output_type": "display_data"
    }
   ],
   "source": [
    "# import matplotlib.pyplot as plt\n",
    "\n",
    "# plt.plot(num_words)"
   ]
  },
  {
   "cell_type": "code",
   "execution_count": 5,
   "metadata": {},
   "outputs": [
    {
     "data": {
      "text/plain": [
       "11"
      ]
     },
     "execution_count": 5,
     "metadata": {},
     "output_type": "execute_result"
    }
   ],
   "source": [
    "# min(num_words)"
   ]
  },
  {
   "cell_type": "code",
   "execution_count": 6,
   "metadata": {},
   "outputs": [],
   "source": [
    "# import nomic\n",
    "# nomic.login(token=\"nk-tVeW7HFVrX_C7AWKDYIT5YdjMD5f8PhnflQtIZTnWmA\")"
   ]
  },
  {
   "cell_type": "code",
   "execution_count": 7,
   "metadata": {},
   "outputs": [],
   "source": [
    "from llama_index.core import VectorStoreIndex\n",
    "from llama_index.vector_stores.chroma import ChromaVectorStore\n",
    "from llama_index.core import StorageContext\n",
    "import chromadb\n",
    "from sentence_transformers import SentenceTransformer\n",
    "from llama_index.legacy.embeddings.huggingface import HuggingFaceEmbedding\n",
    "\n",
    "\n",
    "database_name = \"AD-PROJECT-NOMIC\"\n",
    "EMBEDDING_MODEL = \"nomic-ai/nomic-embed-text-v1.5\"\n",
    "COLLECTION_NAME = \"ad-project\"\n",
    "\n",
    "def create_database():\n",
    "    all_data_list = get_book_transcripts_data()\n",
    "    \n",
    "    ad_project_db = chromadb.PersistentClient(path=database_name)\n",
    "    ad_project_chroma_collection = ad_project_db.get_or_create_collection(COLLECTION_NAME)\n",
    "    embed_model = HuggingFaceEmbedding(model_name=\"mixedbread-ai/mxbai-embed-large-v1\",embed_batch_size=4)\n",
    "    vector_store = ChromaVectorStore(chroma_collection=ad_project_chroma_collection)\n",
    "    storage_context = StorageContext.from_defaults(vector_store=vector_store)\n",
    "    index = VectorStoreIndex.from_documents(\n",
    "        all_data_list, storage_context=storage_context, embed_model=embed_model,\n",
    "        show_progress=True\n",
    "    )\n",
    "\n",
    "    return index"
   ]
  },
  {
   "cell_type": "code",
   "execution_count": 8,
   "metadata": {},
   "outputs": [
    {
     "name": "stderr",
     "output_type": "stream",
     "text": [
      "100%|██████████| 11/11 [00:00<00:00, 13.06it/s]\n"
     ]
    },
    {
     "data": {
      "application/vnd.jupyter.widget-view+json": {
       "model_id": "f3ae9bfacc324df5b9d6dc43dd49be54",
       "version_major": 2,
       "version_minor": 0
      },
      "text/plain": [
       "Parsing nodes:   0%|          | 0/8205 [00:00<?, ?it/s]"
      ]
     },
     "metadata": {},
     "output_type": "display_data"
    },
    {
     "data": {
      "application/vnd.jupyter.widget-view+json": {
       "model_id": "2955799c22684dd8bf6e13ce8ae81773",
       "version_major": 2,
       "version_minor": 0
      },
      "text/plain": [
       "Generating embeddings:   0%|          | 0/2048 [00:00<?, ?it/s]"
      ]
     },
     "metadata": {},
     "output_type": "display_data"
    },
    {
     "ename": "",
     "evalue": "",
     "output_type": "error",
     "traceback": [
      "\u001b[1;31mThe Kernel crashed while executing code in the current cell or a previous cell. \n",
      "\u001b[1;31mPlease review the code in the cell(s) to identify a possible cause of the failure. \n",
      "\u001b[1;31mClick <a href='https://aka.ms/vscodeJupyterKernelCrash'>here</a> for more info. \n",
      "\u001b[1;31mView Jupyter <a href='command:jupyter.viewOutput'>log</a> for further details."
     ]
    }
   ],
   "source": [
    "create_database()"
   ]
  },
  {
   "cell_type": "code",
   "execution_count": null,
   "metadata": {},
   "outputs": [],
   "source": []
  }
 ],
 "metadata": {
  "kernelspec": {
   "display_name": "base",
   "language": "python",
   "name": "python3"
  },
  "language_info": {
   "codemirror_mode": {
    "name": "ipython",
    "version": 3
   },
   "file_extension": ".py",
   "mimetype": "text/x-python",
   "name": "python",
   "nbconvert_exporter": "python",
   "pygments_lexer": "ipython3",
   "version": "3.11.4"
  }
 },
 "nbformat": 4,
 "nbformat_minor": 2
}
