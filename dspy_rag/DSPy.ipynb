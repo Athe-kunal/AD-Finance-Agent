{
 "cells": [
  {
   "cell_type": "markdown",
   "metadata": {},
   "source": [
    "## AGENDA OF THE NOTEBOOK\n",
    "\n",
    "1. Build the database with an embeddings model with chromaDB of all the books data and YouTube data\n",
    "2. Build the RAG pipeline with three configurations"
   ]
  },
  {
   "cell_type": "code",
   "execution_count": 1,
   "metadata": {},
   "outputs": [],
   "source": [
    "import sys\n",
    "sys.path.append('../')\n",
    "\n",
    "from src.book_preprocess import get_book_data"
   ]
  },
  {
   "cell_type": "code",
   "execution_count": 2,
   "metadata": {},
   "outputs": [
    {
     "name": "stderr",
     "output_type": "stream",
     "text": [
      "100%|██████████| 11/11 [00:00<00:00, 17.19it/s]\n"
     ]
    }
   ],
   "source": [
    "from tqdm import tqdm\n",
    "import os\n",
    "import json\n",
    "\n",
    "import json\n",
    "from llama_index.core import Document\n",
    "from llama_index.core.node_parser import SentenceSplitter\n",
    "\n",
    "sentence_text_parser = SentenceSplitter(\n",
    "    chunk_size=512,\n",
    "    chunk_overlap=20\n",
    ")\n",
    "\n",
    "def get_book_transcripts_data():\n",
    "    book_doc_data = get_book_data(100)\n",
    "    with open('../artifacts/YouTube_API_Transcripts/chunked_transcripts_mba.json', 'r') as file:\n",
    "        mba_data = json.load(file)\n",
    "\n",
    "    with open('../artifacts/YouTube_API_Transcripts/chunked_transcripts_undergrad.json', 'r') as file:\n",
    "        undergrad_data = json.load(file)\n",
    "\n",
    "    with open('../artifacts/YouTube_API_Transcripts/chunked_misc_transcripts.json', 'r') as file:\n",
    "        misc_data = json.load(file)\n",
    "    \n",
    "    all_data_list = []\n",
    "    for book_doc in book_doc_data:\n",
    "        # try:\n",
    "        if book_doc=={}: continue\n",
    "        text_data = book_doc['text']\n",
    "        splitted_chunks = sentence_text_parser.split_text(text_data)\n",
    "        curr_book_source = book_doc['book_source']\n",
    "        curr_page_num_coordinates = book_doc['page_num_coordinates']\n",
    "        for splitted_text in splitted_chunks:\n",
    "            if len(splitted_text.split(\" \"))<=10: continue\n",
    "            all_data_list.append(\n",
    "                Document(\n",
    "                    text=splitted_text,\n",
    "                    metadata={\n",
    "                        'page_num_coordinates':curr_page_num_coordinates,\n",
    "                        'book_source':curr_book_source,\n",
    "                    },\n",
    "                    excluded_embed_metadata_keys=['page_num_coordinates','book_source'],\n",
    "                    excluded_llm_metadata_keys=['page_num_coordinates','book_source'],\n",
    "                )\n",
    "            )\n",
    "    for json_data in [undergrad_data,mba_data,misc_data]:\n",
    "        for youtube_id, text_list in json_data.items():\n",
    "            # curr_youtube_id_text = \"\"\n",
    "            for text_dict in text_list:\n",
    "                if len(text_dict['text'].split(\" \"))<=10:continue\n",
    "                all_data_list.append(\n",
    "                    Document(\n",
    "                        text=text_dict['text'],\n",
    "                        metadata={\n",
    "                            \"youtube_id\":youtube_id,\n",
    "                            \"start_timestamp\":text_dict['start_time'],\n",
    "                        },\n",
    "                        excluded_embed_metadata_keys=['youtube_id','start_timestamp'],\n",
    "                        excluded_llm_metadata_keys=['youtube_id','start_timestamp'],\n",
    "                    )\n",
    "                )\n",
    "            # break\n",
    "    return all_data_list\n",
    "\n",
    "def median(lst):\n",
    "\n",
    "    lst.sort()\n",
    "    return lst[len(lst)//2]\n",
    "\n",
    "def get_book_data(num_para_words:int=50):\n",
    "    books_folder = \"../artifacts/book_hi_res\"\n",
    "    book_data = []\n",
    "    for book_name in tqdm(os.listdir(books_folder)):\n",
    "        # print(book_name)\n",
    "        if book_name.startswith(\"Corporate_Finance\"):continue\n",
    "        curr_json_path = os.path.join(books_folder, book_name)\n",
    "        if book_name.startswith(\"Narrative\"):\n",
    "            start_page = 1\n",
    "            end_page = 266\n",
    "        elif book_name.startswith(\"Little\"):\n",
    "            start_page = 17\n",
    "            end_page = None\n",
    "        elif book_name.startswith(\"Investment_Philosophies\"):\n",
    "            start_page = 1\n",
    "            end_page = 486\n",
    "        elif book_name.startswith(\"Dark\"):\n",
    "            start_page = 1\n",
    "            end_page = 794\n",
    "        elif book_name.startswith(\"Damodaran\"):\n",
    "            start_page = 1\n",
    "            end_page = 1237\n",
    "        else:\n",
    "            start_page = 1\n",
    "            end_page = None\n",
    "        \n",
    "        #Load the data\n",
    "        with open(curr_json_path, \"r\") as f:\n",
    "            json_data = json.load(f)\n",
    "        x_start = []\n",
    "        for jd in json_data:\n",
    "            x_start.append(jd['coordinates'][0][0])\n",
    "        x_median = median(x_start)\n",
    "        metadata_book_name = book_name.split(\".\")[0]\n",
    "        for jd_idx,jd in enumerate(json_data):\n",
    "            text_split_list = jd['text'].split(\" \")\n",
    "            num_words = len(text_split_list)\n",
    "            x_coord = jd['coordinates'][0][0]\n",
    "            page_num = jd['page_num']\n",
    "            txt = jd['text']\n",
    "            # txt = re.sub(\"\\. \",\".\\n\",txt)\n",
    "            if start_page == 1 and end_page == None:\n",
    "                pass\n",
    "            elif start_page>page_num:\n",
    "                continue\n",
    "            elif end_page is not None and end_page<page_num:\n",
    "                continue\n",
    "            if jd_idx==0 or (x_median-10<=x_coord <= x_median+10 and text_split_list[0].istitle() and num_words>num_para_words):\n",
    "                book_data.append(\n",
    "                    {\n",
    "                        \"text\": txt+\"\\n\\n\",\n",
    "                    }\n",
    "                )\n",
    "                page_coordinates = jd['coordinates'].copy()\n",
    "                page_coordinates.insert(0,{\"page_num\":page_num})\n",
    "                book_data[-1][\"page_num_coordinates\"] = [page_coordinates]\n",
    "                book_data[-1]['book_source'] = metadata_book_name\n",
    "            else:\n",
    "                prev_idx = book_data[-1]\n",
    "                if \"text\" in prev_idx:\n",
    "                    prev_idx['text'] = prev_idx['text'][:-2] + txt + \"\\n\\n\"\n",
    "                else:\n",
    "                    prev_idx['text'] = txt + \"\\n\\n\"\n",
    "                page_coordinates = jd['coordinates'].copy()\n",
    "                page_coordinates.insert(0,{\"page_num\":page_num})\n",
    "                if \"page_num_coordinates\" not in prev_idx:\n",
    "                    prev_idx[\"page_num_coordinates\"] = [page_coordinates]\n",
    "                else:\n",
    "                    prev_idx[\"page_num_coordinates\"].append(page_coordinates)\n",
    "                if \"book_source\" not in prev_idx:\n",
    "                    prev_idx['book_source'] = metadata_book_name\n",
    "        book_data.append({})\n",
    "    return book_data\n",
    "\n",
    "# all_data_list = get_book_transcripts_data()"
   ]
  },
  {
   "cell_type": "code",
   "execution_count": 3,
   "metadata": {},
   "outputs": [
    {
     "data": {
      "text/plain": [
       "500"
      ]
     },
     "execution_count": 3,
     "metadata": {},
     "output_type": "execute_result"
    }
   ],
   "source": [
    "# num_words = [len(i.text.split(\" \")) for i in all_data_list]\n",
    "# max(num_words)"
   ]
  },
  {
   "cell_type": "code",
   "execution_count": 4,
   "metadata": {},
   "outputs": [
    {
     "data": {
      "text/plain": [
       "[<matplotlib.lines.Line2D at 0x7fba931fc490>]"
      ]
     },
     "execution_count": 4,
     "metadata": {},
     "output_type": "execute_result"
    },
    {
     "data": {
      "image/png": "[encoded data removed]",
      "text/plain": [
       "<Figure size 640x480 with 1 Axes>"
      ]
     },
     "metadata": {},
     "output_type": "display_data"
    }
   ],
   "source": [
    "# import matplotlib.pyplot as plt\n",
    "\n",
    "# plt.plot(num_words)"
   ]
  },
  {
   "cell_type": "code",
   "execution_count": 5,
   "metadata": {},
   "outputs": [
    {
     "data": {
      "text/plain": [
       "11"
      ]
     },
     "execution_count": 5,
     "metadata": {},
     "output_type": "execute_result"
    }
   ],
   "source": [
    "# min(num_words)"
   ]
  },
  {
   "cell_type": "code",
   "execution_count": 6,
   "metadata": {},
   "outputs": [],
   "source": [
    "# import nomic\n",
    "# nomic.login(token=\"nk-tVeW7HFVrX_C7AWKDYIT5YdjMD5f8PhnflQtIZTnWmA\")"
   ]
  },
  {
   "cell_type": "code",
   "execution_count": 7,
   "metadata": {},
   "outputs": [],
   "source": [
    "from llama_index.core import VectorStoreIndex\n",
    "from llama_index.vector_stores.chroma import ChromaVectorStore\n",
    "from llama_index.core import StorageContext\n",
    "import chromadb\n",
    "from sentence_transformers import SentenceTransformer\n",
    "from llama_index.legacy.embeddings.huggingface import HuggingFaceEmbedding\n",
    "\n",
    "\n",
    "database_name = \"AD-PROJECT-NOMIC\"\n",
    "EMBEDDING_MODEL = \"nomic-ai/nomic-embed-text-v1.5\"\n",
    "COLLECTION_NAME = \"ad-project\"\n",
    "\n",
    "def create_database():\n",
    "    all_data_list = get_book_transcripts_data()\n",
    "    \n",
    "    ad_project_db = chromadb.PersistentClient(path=database_name)\n",
    "    ad_project_chroma_collection = ad_project_db.get_or_create_collection(COLLECTION_NAME)\n",
    "    embed_model = HuggingFaceEmbedding(model_name=\"mixedbread-ai/mxbai-embed-large-v1\",embed_batch_size=4)\n",
    "    vector_store = ChromaVectorStore(chroma_collection=ad_project_chroma_collection)\n",
    "    storage_context = StorageContext.from_defaults(vector_store=vector_store)\n",
    "    index = VectorStoreIndex.from_documents(\n",
    "        all_data_list, storage_context=storage_context, embed_model=embed_model,\n",
    "        show_progress=True\n",
    "    )\n",
    "\n",
    "    return index"
   ]
  },
  {
   "cell_type": "code",
   "execution_count": 8,
   "metadata": {},
   "outputs": [
    {
     "name": "stderr",
     "output_type": "stream",
     "text": [
      "100%|██████████| 11/11 [00:00<00:00, 13.06it/s]\n"
     ]
    },
    {
     "data": {
      "application/vnd.jupyter.widget-view+json": {
       "model_id": "f3ae9bfacc324df5b9d6dc43dd49be54",
       "version_major": 2,
       "version_minor": 0
      },
      "text/plain": [
       "Parsing nodes:   0%|          | 0/8205 [00:00<?, ?it/s]"
      ]
     },
     "metadata": {},
     "output_type": "display_data"
    },
    {
     "data": {
      "application/vnd.jupyter.widget-view+json": {
       "model_id": "2955799c22684dd8bf6e13ce8ae81773",
       "version_major": 2,
       "version_minor": 0
      },
      "text/plain": [
       "Generating embeddings:   0%|          | 0/2048 [00:00<?, ?it/s]"
      ]
     },
     "metadata": {},
     "output_type": "display_data"
    },
    {
     "ename": "",
     "evalue": "",
     "output_type": "error",
     "traceback": [
      "\u001b[1;31mThe Kernel crashed while executing code in the current cell or a previous cell. \n",
      "\u001b[1;31mPlease review the code in the cell(s) to identify a possible cause of the failure. \n",
      "\u001b[1;31mClick <a href='https://aka.ms/vscodeJupyterKernelCrash'>here</a> for more info. \n",
      "\u001b[1;31mView Jupyter <a href='command:jupyter.viewOutput'>log</a> for further details."
     ]
    }
   ],
   "source": [
    "create_database()"
   ]
  },
  {
   "cell_type": "markdown",
   "metadata": {},
   "source": [
    "## DSPY CODE WRITE UP"
   ]
  },
  {
   "cell_type": "markdown",
   "metadata": {},
   "source": [
    "## MODELS\n",
    "1. Frozen\n",
    "2. HyDE\n",
    "3. Modified HyDE\n",
    "\n",
    "## TASKS\n",
    "1. Combined pipeline\n",
    "2. Use re-rankers (Colbert and cross-encoders)\n",
    "3. Metadata support"
   ]
  },
  {
   "cell_type": "code",
   "execution_count": 1,
   "metadata": {},
   "outputs": [],
   "source": [
    "import openai\n",
    "from dotenv import load_dotenv\n",
    "import os\n",
    "\n",
    "load_dotenv(override=True)\n",
    "openai.api_key = os.environ[\"OPENAI_API_KEY\"]\n",
    "hf_key = os.environ[\"HF_API_KEY\"]"
   ]
  },
  {
   "cell_type": "code",
   "execution_count": 2,
   "metadata": {},
   "outputs": [
    {
     "name": "stderr",
     "output_type": "stream",
     "text": [
      "/home/athekunal/AD-Finance-DSPy/dspy-env/lib/python3.10/site-packages/tqdm/auto.py:21: TqdmWarning: IProgress not found. Please update jupyter and ipywidgets. See https://ipywidgets.readthedocs.io/en/stable/user_install.html\n",
      "  from .autonotebook import tqdm as notebook_tqdm\n"
     ]
    }
   ],
   "source": [
    "import dspy\n",
    "from dspy.retrieve.chromadb_rm import ChromadbRM \n",
    "from dsp.utils import dotdict\n",
    "import chromadb\n",
    "import openai\n",
    "import chromadb.utils.embedding_functions as embedding_functions\n",
    "\n",
    "# EMBEDDING_MODEL = \"text-embedding-3-large\"\n",
    "# EMBEDDING_MODEL = \"text-embedding-3-small\"\n",
    "# EMBEDDING_MODEL = \"nomic-ai/nomic-embed-text-v1\"\n",
    "EMBEDDING_MODEL = \"mixedbread-ai/mxbai-embed-large-v1\"\n",
    "\n",
    "# openai_ef = embedding_functions.HuggingFaceEmbeddingFunction(\n",
    "#                 # api_key=os.environ['OPENAI_API_KEY'],\n",
    "#                 api_key=hf_key,\n",
    "#                 model_name=EMBEDDING_MODEL,\n",
    "#                 # trust_remote_code=True\n",
    "            # )\n",
    "COLLECTION_NAME = \"ad-project\"\n",
    "DB_PATH = \"AD-DB-MXBAI\"\n",
    "# DB_PATH = \"AD-DB-NOMIC-v1\"\n",
    "llm = dspy.OpenAI(model=\"gpt-3.5-turbo-0125\",max_tokens = 4096)\n",
    "\n",
    "# chromadb_client = chromadb.Client(\n",
    "#     database=\"AD-DB-LARGE\"\n",
    "# )\n",
    "\n",
    "# retriever_model = ChromadbRM(collection_name=COLLECTION_NAME,k=10,persist_directory=DB_PATH,embedding_function=openai_ef)"
   ]
  },
  {
   "cell_type": "code",
   "execution_count": 3,
   "metadata": {},
   "outputs": [],
   "source": [
    "from llama_index.core import VectorStoreIndex\n",
    "from llama_index.vector_stores.chroma import ChromaVectorStore\n",
    "from llama_index.legacy.embeddings.openai import OpenAIEmbedding\n",
    "from llama_index.legacy.embeddings.huggingface import HuggingFaceEmbedding\n",
    "import chromadb\n",
    "\n",
    "BASE_DATABASE_NAME = \"AD-DB\"\n",
    "TOP_K = 5\n",
    "\n",
    "def load_database(embedding_source:str,k):\n",
    "    if \"mxbai\" in EMBEDDING_MODEL:\n",
    "        database_name_path = BASE_DATABASE_NAME + \"-MXBAI\"\n",
    "        collection_name = COLLECTION_NAME \n",
    "    elif \"large\" in EMBEDDING_MODEL and embedding_source==\"openai\":\n",
    "        database_name_path = BASE_DATABASE_NAME + \"LARGE\"\n",
    "        collection_name = COLLECTION_NAME + \"-large\"\n",
    "    elif \"small\" in EMBEDDING_MODEL:\n",
    "        database_name_path = BASE_DATABASE_NAME + \"SMALL\"\n",
    "        collection_name = COLLECTION_NAME + \"-small\"\n",
    "    elif \"nomic\" in EMBEDDING_MODEL:\n",
    "        database_name_path = BASE_DATABASE_NAME + \"-NOMIC-v1\"\n",
    "        collection_name = COLLECTION_NAME \n",
    "    print(collection_name)\n",
    "    db2 = chromadb.PersistentClient(path=database_name_path)\n",
    "    if embedding_source == \"openai\":\n",
    "        embed_model = OpenAIEmbedding(model=EMBEDDING_MODEL,api_key=os.environ['OPENAI_API_KEY'])\n",
    "    elif embedding_source == 'hf':\n",
    "        embed_model = HuggingFaceEmbedding(model_name=EMBEDDING_MODEL,trust_remote_code=True,device='cuda:0')\n",
    "\n",
    "    chroma_collection = db2.get_collection(collection_name)\n",
    "    vector_store = ChromaVectorStore(chroma_collection=chroma_collection)\n",
    "    index_ = VectorStoreIndex.from_vector_store(\n",
    "        vector_store,\n",
    "        embed_model=embed_model,\n",
    "    )\n",
    "    retriever = index_.as_retriever(similarity_top_k=k*5)\n",
    "    return retriever"
   ]
  },
  {
   "cell_type": "code",
   "execution_count": 4,
   "metadata": {},
   "outputs": [
    {
     "name": "stdout",
     "output_type": "stream",
     "text": [
      "ad-project\n"
     ]
    }
   ],
   "source": [
    "retriever = load_database(\"hf\",k=5)"
   ]
  },
  {
   "cell_type": "code",
   "execution_count": 52,
   "metadata": {},
   "outputs": [],
   "source": [
    "# !pip install -Uqq einops\n",
    "# !pip install -Uqq nomic"
   ]
  },
  {
   "cell_type": "code",
   "execution_count": 37,
   "metadata": {},
   "outputs": [],
   "source": [
    "# retriever = load_database(\"hf\")"
   ]
  },
  {
   "cell_type": "code",
   "execution_count": 14,
   "metadata": {},
   "outputs": [],
   "source": [
    "ret = retriever.retrieve(\"Explore the significance of valuation\")"
   ]
  },
  {
   "cell_type": "code",
   "execution_count": 16,
   "metadata": {},
   "outputs": [
    {
     "data": {
      "text/plain": [
       "'Every asset, financial as well as real, has a value. The key to successfully investing in and managing these assets lies in understanding not only what the value is but also the sources of the value. Any asset can be valued, but some assets are easier to value than others and the details of valuation will vary from case to case. Thus, the valuation of a share of a real estate property will require different information and follow a different format than the valuation of a publicly traded stock. What is surprising, however, is not the differences in valuation techniques across assets, but the degree of similarity in basic principles. There is undeniably uncertainty associated with valuation. Often that uncertainty comes from the asset being valued, though the valuation model may add to that uncertainty.This chapter lays out a philosophical basis for valuation, together with a discussion of how valuation is or can be used in a variety of frameworks, from portfolio management to corporate finance.'"
      ]
     },
     "execution_count": 16,
     "metadata": {},
     "output_type": "execute_result"
    }
   ],
   "source": [
    "ret[0].text"
   ]
  },
  {
   "cell_type": "code",
   "execution_count": 40,
   "metadata": {},
   "outputs": [],
   "source": [
    "class ChromaDBPipelineRM(dspy.Retrieve):\n",
    "    def __init__(self,embedding_source:str=\"hf\",k:int=5):\n",
    "        super().__init__()\n",
    "        self.retriever = load_database(embedding_source,k)\n",
    "    \n",
    "    def forward(self,query):\n",
    "        llama_index_docs = self.retriever.retrieve(query)\n",
    "        metadata_list = []\n",
    "        context_list = []\n",
    "\n",
    "        for ld in llama_index_docs:\n",
    "            metadata_list.append(ld.metadata)\n",
    "            context_list.append(ld.text)\n",
    "        return dspy.Prediction(\n",
    "            passages = [dotdict({\"long_text\": x}) for x in context_list],\n",
    "            metadata = metadata_list\n",
    "        )"
   ]
  },
  {
   "cell_type": "code",
   "execution_count": 41,
   "metadata": {},
   "outputs": [],
   "source": [
    "class DSPyRM(dspy.Module):\n",
    "    def __init__(self):\n",
    "        super().__init__()\n",
    "        self.retriever_model = ChromaDBPipelineRM(embedding_source=\"hf\",k=5)\n",
    "    \n",
    "    def forward(self,query,k):\n",
    "        vectorDB_output = self.retriever_model(query)\n",
    "        return vectorDB_output.passages,vectorDB_output.metadata"
   ]
  },
  {
   "cell_type": "code",
   "execution_count": 5,
   "metadata": {},
   "outputs": [],
   "source": [
    "# retriever_model = DSPyRM()\n",
    "dspy.settings.configure(lm=llm)"
   ]
  },
  {
   "cell_type": "code",
   "execution_count": 6,
   "metadata": {},
   "outputs": [],
   "source": [
    "class GenerateAnswer(dspy.Signature):\n",
    "    \"\"\"Answer questions in detail based on the context.\"\"\"\n",
    "    \n",
    "    context = dspy.InputField(desc=\"may contain relevant facts\")\n",
    "    question = dspy.InputField()\n",
    "    answer = dspy.OutputField(desc=\"answer in detail\")"
   ]
  },
  {
   "cell_type": "code",
   "execution_count": 7,
   "metadata": {},
   "outputs": [],
   "source": [
    "gpt3_hyde = dspy.OpenAI(model='gpt-3.5-turbo', max_tokens=300)\n",
    "\n",
    "class HyDEGenerateAnswer(dspy.Signature):\n",
    "    \"\"\"Answer the question concisely and include as many details as possible\"\"\"\n",
    "    question = dspy.InputField()\n",
    "    answer = dspy.OutputField(desc=\"answer concisely with as many details as possible\")"
   ]
  },
  {
   "cell_type": "code",
   "execution_count": 8,
   "metadata": {},
   "outputs": [],
   "source": [
    "from transformers import pipeline\n",
    "from transformers import AutoTokenizer\n",
    "\n",
    "tokenizer = AutoTokenizer.from_pretrained(\"distilgpt2\")\n",
    "MOD_HYDE_MODEL = \"distilgpt2-ad-test\"\n",
    "pipe = pipeline(\"text-generation\", model=MOD_HYDE_MODEL,tokenizer=tokenizer)\n",
    "def get_mod_HyDE_answer(question):\n",
    "    out = pipe(question,max_new_tokens=300,do_sample=True,min_new_tokens=10)\n",
    "    return out[0]['generated_text']"
   ]
  },
  {
   "cell_type": "code",
   "execution_count": 10,
   "metadata": {},
   "outputs": [],
   "source": [
    "# get_mod_HyDE_answer(\"Explain kps\")"
   ]
  },
  {
   "cell_type": "code",
   "execution_count": 9,
   "metadata": {},
   "outputs": [],
   "source": [
    "from rerankers import Reranker\n",
    "\n",
    "\n",
    "class RAG(dspy.Module):\n",
    "    def __init__(self,retriever,algo_type:str=\"frozen\",use_reranker:bool=True,use_cot:bool=True,rerank_docs:int=5):\n",
    "        super().__init__()\n",
    "        assert algo_type in [\"frozen\",\"hyde\",\"mod-hyde\"], 'The algo type should be from [\"frozen\",\"hyde\",\"mod-hyde\"]'\n",
    "        self.algo_type = algo_type\n",
    "        self.use_reranker = use_reranker\n",
    "        if self.use_reranker:\n",
    "            assert rerank_docs>0, \"If you are using re-ranker, then please provide more than 0 rerank_docs\"\n",
    "            self.rerank_docs = rerank_docs\n",
    "        self.rerank_docs = rerank_docs\n",
    "        self.retrieve_model = retriever\n",
    "        self.ranker = Reranker(\"colbert\",device='cuda')\n",
    "        if self.algo_type == 'hyde':\n",
    "            self.hyde_answer = dspy.Predict(HyDEGenerateAnswer)\n",
    "        if use_cot:\n",
    "            self.generate_answer = dspy.ChainOfThought(GenerateAnswer)\n",
    "        else:\n",
    "            self.generate_answer = dspy.Predict(GenerateAnswer)\n",
    "    \n",
    "    def retrieve(self,query:str):\n",
    "        llama_index_docs = self.retrieve_model.retrieve(query)\n",
    "        metadata_list = []\n",
    "        context_list = []\n",
    "\n",
    "        for ld in llama_index_docs:\n",
    "            metadata_list.append(ld.metadata)\n",
    "            context_list.append(ld.text)\n",
    "        return context_list,metadata_list\n",
    "    def forward(self, question):\n",
    "        if self.algo_type == 'hyde':\n",
    "            with dspy.context(lm=gpt3_hyde):\n",
    "                hyde_answer = self.hyde_answer(question=question).answer\n",
    "                print(hyde_answer)\n",
    "            context,metadata = self.retrieve(hyde_answer)\n",
    "            results = self.ranker.rank(query=hyde_answer, docs=context, doc_ids=[i for i in range(len(context))])\n",
    "        elif self.algo_type == 'frozen':\n",
    "            context,metadata = self.retrieve(question)\n",
    "            results = self.ranker.rank(query=question, docs=context, doc_ids=[i for i in range(len(context))])\n",
    "        elif self.algo_type == 'mod-hyde':\n",
    "            mod_hyde_answer = get_mod_HyDE_answer(question)\n",
    "            context,metadata = self.retrieve(mod_hyde_answer)\n",
    "            print(mod_hyde_answer)\n",
    "            results = self.ranker.rank(query=mod_hyde_answer, docs=context, doc_ids=[i for i in range(len(context))])\n",
    "        rerank_context = []\n",
    "        rerank_ids = []\n",
    "        for idx,res in enumerate(results.results):\n",
    "            if idx+1 == self.rerank_docs:\n",
    "                break\n",
    "            else:\n",
    "                rerank_context.append(res.text)\n",
    "                rerank_ids.append(res.doc_id)\n",
    "        prediction = self.generate_answer(context=rerank_context, question=question)\n",
    "        return dspy.Prediction(answer=prediction.answer,metadata=[metadata[rerank_id] for rerank_id in rerank_ids])"
   ]
  },
  {
   "cell_type": "code",
   "execution_count": 34,
   "metadata": {},
   "outputs": [],
   "source": [
    "# from rerankers import Reranker\n",
    "\n",
    "# ranker = Reranker(\"colbert\",device='cuda')\n",
    "# results = ranker.rank(query=\"I love you\", docs=[\"I hate you\", \"I really like you\",\"I am fond of you\"], doc_ids=[0,1,2])"
   ]
  },
  {
   "cell_type": "code",
   "execution_count": 10,
   "metadata": {},
   "outputs": [
    {
     "name": "stdout",
     "output_type": "stream",
     "text": [
      "Loading default colbert model for language en\n",
      "Default Model: colbert-ir/colbertv2.0\n",
      "Loading ColBERTRanker model colbert-ir/colbertv2.0\n",
      "No dtype set\n",
      "Using dtype torch.float16\n",
      "Loading model colbert-ir/colbertv2.0, this might take a while...\n",
      "Prediction(\n",
      "    answer='In the context provided, there is no mention of \"kps.\" Therefore, without further information or context, it is not possible to determine what \"kps\" refers to. It could be an acronym, abbreviation, or specific term that is not defined in the text. If more information or context is provided, we could better understand what \"kps\" stands for.',\n",
      "    metadata=[{'page_num_coordinates': \"[[{'page_num': 586}, [72.0, 481.2715], [72.0, 634.7605], [434.63850000000014, 634.7605], [434.63850000000014, 481.2715]], [{'page_num': 587}, [310.3721, 47.37450000000001], [310.3721, 56.37450000000001], [431.9531, 56.37450000000001], [431.9531, 47.37450000000001]]]\", 'book_source': 'valuation_mckinsey'}, {'page_num_coordinates': \"[[{'page_num': 129}, [245.06935119628906, 263.50000000000006], [245.06935119628906, 700.8333333333331], [1459.063720703125, 700.8333333333331], [1459.063720703125, 263.50000000000006]], [{'page_num': 129}, [245.99832153320312, 1454.8333333333333], [245.99832153320312, 1776.8333333333333], [1467.6666666666667, 1776.8333333333333], [1467.6666666666667, 1454.8333333333333]], [{'page_num': 130}, [248.21653747558594, 205.50000000000006], [248.21653747558594, 469.49999999999994], [1459.0, 469.49999999999994], [1459.0, 205.50000000000006]], [{'page_num': 130}, [242.48097229003906, 494.1666666666666], [242.48097229003906, 585.4999999999999], [1462.7041015625, 585.4999999999999], [1462.7041015625, 494.1666666666666]]]\", 'book_source': 'Applied_corporate_finance'}, {'page_num_coordinates': \"[[{'page_num': 799}, [250.66666666666666, 1122.1666666666667], [250.66666666666666, 1502.1666666666665], [1459.0, 1502.1666666666665], [1459.0, 1122.1666666666667]], [{'page_num': 799}, [250.66666666666666, 1526.8333333333333], [250.66666666666666, 1848.8333333333335], [1459.0, 1848.8333333333335], [1459.0, 1526.8333333333333]], [{'page_num': 800}, [568.3828125, 933.2389526367188], [568.3828125, 963.194091796875], [994.6455078125, 963.194091796875], [994.6455078125, 933.2389526367188]], [{'page_num': 800}, [250.66666666666666, 1734.8333333333333], [250.66666666666666, 1943.1330555555555], [1459.0, 1943.1330555555555], [1459.0, 1734.8333333333333]], [{'page_num': 801}, [298.17547607421875, 790.1666666666666], [298.17547607421875, 823.4999999999999], [1066.3333333333333, 823.4999999999999], [1066.3333333333333, 790.1666666666666]], [{'page_num': 801}, [248.8572540283203, 847.5], [248.8572540283203, 1169.5], [1459.0, 1169.5], [1459.0, 847.5]], [{'page_num': 801}, [250.66666666666666, 1352.8333333333333], [250.66666666666666, 1443.5000000000002], [1459.0, 1443.5000000000002], [1459.0, 1352.8333333333333]], [{'page_num': 801}, [250.66666666666666, 1558.8333333333335], [250.66666666666666, 1823.5], [1467.6666666666667, 1823.5], [1467.6666666666667, 1558.8333333333335]], [{'page_num': 802}, [249.33566284179688, 205.50000000000006], [249.33566284179688, 469.49999999999994], [1459.0, 469.49999999999994], [1459.0, 205.50000000000006]], [{'page_num': 802}, [248.0689239501953, 494.1666666666666], [248.0689239501953, 585.4999999999999], [1459.0, 585.4999999999999], [1459.0, 494.1666666666666]]]\", 'book_source': 'Applied_corporate_finance'}, {'page_num_coordinates': \"[[{'page_num': 152}, [71.9968, 516.304], [71.9968, 644.2855], [434.6667999999999, 644.2855], [434.6667999999999, 516.304]]]\", 'book_source': 'valuation_mckinsey'}]\n",
      ")\n"
     ]
    }
   ],
   "source": [
    "frozen_rag = RAG(retriever,algo_type=\"frozen\")\n",
    "ans = frozen_rag(\"What is kps?\")\n",
    "print(ans)"
   ]
  },
  {
   "cell_type": "code",
   "execution_count": 11,
   "metadata": {},
   "outputs": [
    {
     "name": "stdout",
     "output_type": "stream",
     "text": [
      "Wells Fargo's acquisition of First Interstate was considered a failure for several reasons. Firstly, despite the expectations of synergies and improved performance post-merger, the combined firm did not outperform the bank-stock index. This indicates that the anticipated benefits of the merger were not realized in terms of financial performance.\n",
      "\n",
      "Secondly, the integration process may have faced challenges, leading to operational inefficiencies and difficulties in combining the two organizations effectively. Issues with cultural differences, management styles, and operational processes can often hinder the success of a merger.\n",
      "\n",
      "Additionally, if the acquisition price paid by Wells Fargo for First Interstate was too high compared to the fair market value of the target company, this could have negatively impacted the financial health of the combined firm. Paying more than the fair value can lead to a decline in stock price and shareholder value, even if the combined firm is expected to grow at a faster rate.\n",
      "\n",
      "Overall, the failure of Wells Fargo's acquisition of First Interstate can be attributed to a combination of factors such as underperformance post-merger, integration challenges, and potentially overpaying for the target company. These factors highlight the importance of thorough due diligence, effective integration strategies, and realistic valuation in ensuring the success of mergers and acquisitions.\n"
     ]
    }
   ],
   "source": [
    "ans = frozen_rag(\"Why Wells Fargo’s acquisition of First Interstate was a failure?\")\n",
    "print(ans.answer)"
   ]
  },
  {
   "cell_type": "code",
   "execution_count": 22,
   "metadata": {},
   "outputs": [
    {
     "name": "stdout",
     "output_type": "stream",
     "text": [
      "Wells Fargo's acquisition of First Interstate was considered a failure primarily because it did not outperform the bank-stock index, unlike some of the other major bank mergers in 1995. This failure is in line with the overall trend highlighted in various studies and analyses mentioned in the context, where a significant portion of mergers and acquisitions fail to create value for the combined firm. The book \"The Synergy Trap\" also suggests that the promises of synergy in mergers are often not realized, further indicating that the expected benefits from the acquisition may not have materialized as anticipated. Overall, the evidence presented in the context points towards the lack of successful synergy and value creation as key reasons for the failure of Wells Fargo's acquisition of First Interstate.\n"
     ]
    }
   ],
   "source": [
    "print(ans.answer)"
   ]
  },
  {
   "cell_type": "code",
   "execution_count": 23,
   "metadata": {},
   "outputs": [
    {
     "name": "stdout",
     "output_type": "stream",
     "text": [
      "[{'page_num_coordinates': \"[[{'page_num': 338}, [247.7667694091797, 793.3444444444443], [247.7667694091797, 1226.6777777777777], [1453.3914794921875, 1226.6777777777777], [1453.3914794921875, 793.3444444444443]], [{'page_num': 338}, [247.91754150390625, 1326.6777777777777], [247.91754150390625, 1560.0111111111112], [1452.8766666666668, 1560.0111111111112], [1452.8766666666668, 1326.6777777777777]], [{'page_num': 338}, [247.7256317138672, 1660.0111111111112], [247.7256317138672, 1843.3444444444444], [1452.8011111111111, 1843.3444444444444], [1452.8011111111111, 1660.0111111111112]], [{'page_num': 338}, [244.92276000976562, 1910.3777777777777], [244.92276000976562, 1989.3611111111109], [1453.665283203125, 1989.3611111111109], [1453.665283203125, 1910.3777777777777]], [{'page_num': 339}, [249.9955555555554, 198.90000000000012], [249.9955555555554, 532.2333333333335], [1452.8488888888887, 532.2333333333335], [1452.8488888888887, 198.90000000000012]], [{'page_num': 339}, [520.1669444444444, 613.1063111111113], [520.1669444444444, 637.5952000000002], [1177.1820068359375, 637.5952000000002], [1177.1820068359375, 613.1063111111113]], [{'page_num': 339}, [248.52713012695312, 1651.677777777778], [248.52713012695312, 1835.0111111111112], [1456.1923828125, 1835.0111111111112], [1456.1923828125, 1651.677777777778]], [{'page_num': 339}, [244.8927764892578, 1904.822222222222], [244.8927764892578, 1983.8055555555554], [1453.27685546875, 1983.8055555555554], [1453.27685546875, 1904.822222222222]], [{'page_num': 340}, [243.89016723632812, 198.90000000000012], [243.89016723632812, 332.23333333333346], [1455.6982421875, 332.23333333333346], [1455.6982421875, 198.90000000000012]], [{'page_num': 340}, [250.0, 1222.6944444444443], [250.0, 1298.8999999999999], [1452.7666666666667, 1298.8999999999999], [1452.7666666666667, 1222.6944444444443]], [{'page_num': 340}, [249.9899999999998, 1267.6455078125], [249.9899999999998, 1548.9], [1452.8666666666663, 1548.9], [1452.8666666666663, 1267.6455078125]], [{'page_num': 340}, [248.912109375, 1648.9], [248.912109375, 1832.2333333333333], [1455.4696044921875, 1832.2333333333333], [1455.4696044921875, 1648.9]], [{'page_num': 340}, [244.45010375976562, 1904.822222222222], [244.45010375976562, 1983.8055555555554], [1453.013427734375, 1983.8055555555554], [1453.013427734375, 1904.822222222222]], [{'page_num': 341}, [245.92030334472656, 198.90000000000012], [245.92030334472656, 382.23333333333346], [1458.6007080078125, 382.23333333333346], [1458.6007080078125, 198.90000000000012]], [{'page_num': 341}, [246.0491943359375, 398.9000000000001], [246.0491943359375, 682.2333333333335], [1457.40478515625, 682.2333333333335], [1457.40478515625, 398.9000000000001]], [{'page_num': 341}, [247.95037841796875, 698.9000000000001], [247.95037841796875, 932.2333333333332], [1453.9793701171875, 932.2333333333332], [1453.9793701171875, 698.9000000000001]], [{'page_num': 341}, [249.98222222222162, 1032.2333333333333], [249.98222222222162, 1215.5666666666666], [1454.1932373046875, 1215.5666666666666], [1454.1932373046875, 1032.2333333333333]], [{'page_num': 341}, [249.6509246826172, 1232.2333333333333], [249.6509246826172, 1665.5666666666668], [1452.8122222222214, 1665.5666666666668], [1452.8122222222214, 1232.2333333333333]], [{'page_num': 341}, [244.37545776367188, 1810.3777777777777], [244.37545776367188, 1886.4566650390625], [1452.783333333333, 1886.4566650390625], [1452.783333333333, 1810.3777777777777]], [{'page_num': 341}, [245.18162536621094, 1910.751708984375], [245.18162536621094, 1983.8055555555554], [1449.8507080078125, 1983.8055555555554], [1449.8507080078125, 1910.751708984375]], [{'page_num': 342}, [249.99999999999983, 198.90000000000012], [249.99999999999983, 482.2333333333334], [1452.99560546875, 482.2333333333334], [1452.99560546875, 198.90000000000012]]]\", 'book_source': 'Investment_Philosophies'}, {'page_num_coordinates': \"[[{'page_num': 267}, [284.7833251953125, 346.16399999999976], [284.7833251953125, 942.1639999999992], [1441.0424444444436, 942.1639999999992], [1441.0424444444436, 346.16399999999976]], [{'page_num': 267}, [284.3807373046875, 957.4973333333324], [284.3807373046875, 1224.1639999999993], [1419.9464111328125, 1224.1639999999993], [1419.9464111328125, 957.4973333333324]], [{'page_num': 267}, [281.1543884277344, 1240.1639999999993], [281.1543884277344, 1459.497333333333], [1420.203369140625, 1459.497333333333], [1420.203369140625, 1240.1639999999993]], [{'page_num': 267}, [282.1048889160156, 1541.1306666666665], [282.1048889160156, 1615.616], [1420.6065673828125, 1615.616], [1420.6065673828125, 1541.1306666666665]], [{'page_num': 267}, [285.31097412109375, 1632.464], [285.31097412109375, 1798.2826666666665], [1423.4495849609375, 1798.2826666666665], [1423.4495849609375, 1632.464]], [{'page_num': 267}, [285.33333333333326, 1772.2826666666665], [285.33333333333326, 1798.2826666666665], [852.6417846679688, 1798.2826666666665], [852.6417846679688, 1772.2826666666665]], [{'page_num': 267}, [285.3333333333333, 1813.1719999999998], [285.3333333333333, 1842.949333333333], [975.7605590820312, 1842.949333333333], [975.7605590820312, 1813.1719999999998]], [{'page_num': 267}, [276.342529296875, 1857.8386666666665], [276.342529296875, 1931.616], [1425.05517578125, 1931.616], [1425.05517578125, 1857.8386666666665]], [{'page_num': 268}, [285.3333333333333, 252.16400000000002], [285.3333333333333, 425.1031799316406], [1425.8702392578125, 425.1031799316406], [1425.8702392578125, 252.16400000000002]], [{'page_num': 268}, [283.79046630859375, 526.1639999999996], [283.79046630859375, 746.1639999999992], [1427.405029296875, 746.1639999999992], [1427.405029296875, 526.1639999999996]], [{'page_num': 268}, [284.49542236328125, 840.1639999999992], [284.49542236328125, 965.4973333333327], [1426.2657470703125, 965.4973333333327], [1426.2657470703125, 840.1639999999992]], [{'page_num': 268}, [285.3333333333333, 1059.4973333333326], [285.3333333333333, 1323.4228515625], [1421.7620849609375, 1323.4228515625], [1421.7620849609375, 1059.4973333333326]], [{'page_num': 268}, [285.3333333333333, 1248.1639999999995], [285.3333333333333, 1373.497333333333], [1364.7195555555554, 1373.497333333333], [1364.7195555555554, 1248.1639999999995]], [{'page_num': 268}, [319.082275390625, 1344.7900390625], [319.082275390625, 1561.497333333333], [1419.4097900390625, 1561.497333333333], [1419.4097900390625, 1344.7900390625]], [{'page_num': 268}, [285.33333333333337, 1576.2126666666663], [285.33333333333337, 1702.8306666666663], [1418.56982421875, 1702.8306666666663], [1418.56982421875, 1576.2126666666663]], [{'page_num': 268}, [280.4287414550781, 1765.8386666666665], [280.4287414550781, 1840.3346666666666], [1420.915771484375, 1840.3346666666666], [1420.915771484375, 1765.8386666666665]], [{'page_num': 268}, [280.0104675292969, 1857.7973333333334], [280.0104675292969, 1931.616], [1422.246337890625, 1931.616], [1422.246337890625, 1857.7973333333334]], [{'page_num': 269}, [323.93829345703125, 252.16400000000002], [323.93829345703125, 330.1639999999998], [1424.2857666015625, 330.1639999999998], [1424.2857666015625, 252.16400000000002]], [{'page_num': 269}, [285.3333333333333, 344.879333333333], [285.3333333333333, 565.4973333333326], [1423.0716552734375, 565.4973333333326], [1423.0716552734375, 344.879333333333]], [{'page_num': 269}, [285.33333333333326, 581.4973333333326], [285.33333333333326, 659.4973333333323], [1420.9871826171875, 659.4973333333323], [1420.9871826171875, 581.4973333333326]], [{'page_num': 269}, [283.58624267578125, 957.4973333333324], [283.58624267578125, 1271.4973333333328], [1426.2425537109375, 1271.4973333333328], [1426.2425537109375, 957.4973333333324]], [{'page_num': 269}, [332.6666666666667, 1286.212666666666], [332.6666666666667, 1365.4973333333328], [1418.876953125, 1365.4973333333328], [1418.876953125, 1286.212666666666]], [{'page_num': 269}, [332.66666666666674, 1380.2126666666663], [332.66666666666674, 1459.497333333333], [1417.9649658203125, 1459.497333333333], [1417.9649658203125, 1380.2126666666663]], [{'page_num': 269}, [283.75640869140625, 1585.7973333333334], [283.75640869140625, 1751.6159999999998], [1423.4783935546875, 1751.6159999999998], [1423.4783935546875, 1585.7973333333334]], [{'page_num': 269}, [277.22088623046875, 1768.4639999999997], [277.22088623046875, 1842.949333333333], [1424.84375, 1842.949333333333], [1424.84375, 1768.4639999999997]], [{'page_num': 269}, [282.35107421875, 1857.8386666666665], [282.35107421875, 1931.616], [1419.530029296875, 1931.616], [1419.530029296875, 1857.8386666666665]], [{'page_num': 270}, [365.0975646972656, 252.16400000000002], [365.0975646972656, 330.1639999999998], [1422.0011111111103, 330.1639999999998], [1422.0011111111103, 252.16400000000002]], [{'page_num': 270}, [285.3333333333333, 346.16399999999976], [285.3333333333333, 708.221923828125], [1427.164777777777, 708.221923828125], [1427.164777777777, 346.16399999999976]]]\", 'book_source': 'Investment_fables'}, {'page_num_coordinates': \"[[{'page_num': 998}, [250.17654418945312, 1290.4666666666665], [250.17654418945312, 1732.1333333333332], [1456.5811767578125, 1732.1333333333332], [1456.5811767578125, 1290.4666666666665]], [{'page_num': 998}, [250.6897430419922, 1852.4886474609375], [250.6897430419922, 1980.4244384765625], [1465.368896484375, 1980.4244384765625], [1465.368896484375, 1852.4886474609375]], [{'page_num': 998}, [1416.2208251953125, 2064.94970703125], [1416.2208251953125, 2098.9], [1451.5096435546875, 2098.9], [1451.5096435546875, 2064.94970703125]], [{'page_num': 999}, [248.72567749023438, 204.3555555555555], [248.72567749023438, 662.6888888888889], [1454.1555555555553, 662.6888888888889], [1454.1555555555553, 204.3555555555555]], [{'page_num': 999}, [251.38888888888889, 687.6888888888889], [251.38888888888889, 962.6888888888888], [1461.4293212890625, 962.6888888888888], [1461.4293212890625, 687.6888888888889]]]\", 'book_source': 'Investment_Valuations_techniques'}, {'page_num_coordinates': \"[[{'page_num': 1051}, [166.66666666666666, 803.0122222222221], [166.66666666666666, 1236.3455555555556], [999.649658203125, 1236.3455555555556], [999.649658203125, 803.0122222222221]], [{'page_num': 1051}, [165.84255981445312, 1280.3455555555554], [165.84255981445312, 1313.6788888888889], [455.6053771972656, 1313.6788888888889], [455.6053771972656, 1280.3455555555554]], [{'page_num': 1051}, [162.59588623046875, 1357.6788888888889], [162.59588623046875, 1471.0122222222221], [1002.7205200195312, 1471.0122222222221], [1002.7205200195312, 1357.6788888888889]], [{'page_num': 1052}, [163.37144470214844, 169.35003662109375], [163.37144470214844, 284.34777777777765], [1004.5062255859375, 284.34777777777765], [1004.5062255859375, 169.35003662109375]], [{'page_num': 1052}, [166.00706481933594, 328.34777777777776], [166.00706481933594, 361.6811111111111], [695.8338012695312, 361.6811111111111], [695.8338012695312, 328.34777777777776]], [{'page_num': 1052}, [166.66666666666666, 405.681111111111], [166.66666666666666, 759.0144444444444], [998.66, 759.0144444444444], [998.66, 405.681111111111]], [{'page_num': 1052}, [160.0399169921875, 880.2244262695312], [160.0399169921875, 953.681111111111], [1001.483154296875, 953.681111111111], [1001.483154296875, 880.2244262695312]], [{'page_num': 1052}, [162.76641845703125, 997.6811111111111], [162.76641845703125, 1031.5162353515625], [830.4127197265625, 1031.5162353515625], [830.4127197265625, 997.6811111111111]], [{'page_num': 1052}, [166.460693359375, 1075.0144444444445], [166.460693359375, 1109.212646484375], [824.1148681640625, 1109.212646484375], [824.1148681640625, 1075.0144444444445]], [{'page_num': 1052}, [166.66666666666666, 1152.3477777777778], [166.66666666666666, 1465.6811111111112], [998.6877777777778, 1465.6811111111112], [998.6877777777778, 1152.3477777777778]], [{'page_num': 1053}, [166.66666666666666, 170.99945068359375], [166.66666666666666, 404.34777777777776], [1007.43408203125, 404.34777777777776], [1007.43408203125, 170.99945068359375]], [{'page_num': 1053}, [163.20816040039062, 448.3477777777777], [163.20816040039062, 481.8839111328125], [425.6339416503906, 481.8839111328125], [425.6339416503906, 448.3477777777777]], [{'page_num': 1053}, [165.42669677734375, 524.3637084960938], [165.42669677734375, 759.0144444444444], [1004.0577392578125, 759.0144444444444], [1004.0577392578125, 524.3637084960938]], [{'page_num': 1054}, [267.6194763183594, 169.19215393066406], [267.6194763183594, 284.34777777777765], [1012.0712890625, 284.34777777777765], [1012.0712890625, 169.19215393066406]], [{'page_num': 1054}, [273.8151550292969, 729.9649658203125], [273.8151550292969, 1124.3477777777778], [1001.0250854492188, 1124.3477777777778], [1001.0250854492188, 729.9649658203125]], [{'page_num': 1055}, [277.77777777777777, 170.99530029296875], [277.77777777777777, 444.3477777777777], [1004.3206176757812, 444.3477777777777], [1004.3206176757812, 170.99530029296875]], [{'page_num': 1055}, [166.66666666666666, 470.57257080078125], [166.66666666666666, 745.181111111111], [1000.7664794921875, 745.181111111111], [1000.7664794921875, 470.57257080078125]], [{'page_num': 1055}, [165.6444549560547, 789.181111111111], [165.6444549560547, 824.9866333007812], [479.90972900390625, 824.9866333007812], [479.90972900390625, 789.181111111111]], [{'page_num': 1055}, [166.66666666666666, 866.5144444444444], [166.66666666666666, 1259.8477777777778], [999.7080078125, 1259.8477777777778], [999.7080078125, 866.5144444444444]], [{'page_num': 1055}, [163.2738037109375, 1303.8477777777778], [163.2738037109375, 1337.181111111111], [514.1145629882812, 1337.181111111111], [514.1145629882812, 1303.8477777777778]], [{'page_num': 1055}, [164.06546020507812, 1379.2337646484375], [164.06546020507812, 1454.771484375], [1004.8881225585938, 1454.771484375], [1004.8881225585938, 1379.2337646484375]], [{'page_num': 1056}, [165.31842041015625, 171.01444444444445], [165.31842041015625, 804.3477777777778], [1002.2265625, 804.3477777777778], [1002.2265625, 171.01444444444445]], [{'page_num': 1057}, [273.5765075683594, 170.01876831054688], [273.5765075683594, 364.3477777777777], [1002.8284301757812, 364.3477777777777], [1002.8284301757812, 170.01876831054688]], [{'page_num': 1057}, [243.88555555555556, 367.76971435546875], [243.88555555555556, 1204.3477777777778], [999.4512329101562, 1204.3477777777778], [999.4512329101562, 367.76971435546875]], [{'page_num': 1058}, [274.66522216796875, 171.01444444444445], [274.66522216796875, 684.3477777777777], [998.66, 684.3477777777777], [998.66, 171.01444444444445]], [{'page_num': 1058}, [166.66666666666666, 1190.6754150390625], [166.66666666666666, 1465.181111111111], [998.6874999999999, 1465.181111111111], [998.6874999999999, 1190.6754150390625]], [{'page_num': 1059}, [166.45713806152344, 171.01444444444445], [166.45713806152344, 404.34777777777776], [1005.8849487304688, 404.34777777777776], [1005.8849487304688, 171.01444444444445]], [{'page_num': 1059}, [166.05056762695312, 448.3477777777777], [166.05056762695312, 482.1356506347656], [564.6765747070312, 482.1356506347656], [564.6765747070312, 448.3477777777777]]]\", 'book_source': 'Damodaran_on_valuation'}]\n"
     ]
    }
   ],
   "source": [
    "print(ans.metadata)"
   ]
  },
  {
   "cell_type": "code",
   "execution_count": 12,
   "metadata": {},
   "outputs": [
    {
     "name": "stdout",
     "output_type": "stream",
     "text": [
      "Loading default colbert model for language en\n",
      "Default Model: colbert-ir/colbertv2.0\n",
      "Loading ColBERTRanker model colbert-ir/colbertv2.0\n",
      "No dtype set\n",
      "Using dtype torch.float16\n",
      "Loading model colbert-ir/colbertv2.0, this might take a while...\n",
      "WACC stands for Weighted Average Cost of Capital. It is a calculation that represents the average cost of financing a company's operations through a combination of debt and equity. The formula for WACC takes into account the cost of equity, cost of debt, and the proportion of each in the company's capital structure. By using WACC, companies can determine the minimum return they need to generate to satisfy their investors and creditors.\n",
      "The Weighted Average Cost of Capital (WACC) is a financial metric that represents the average cost a company incurs to finance its operations through a combination of debt and equity. It is a crucial tool used in financial analysis to evaluate the attractiveness of an investment opportunity or to determine the minimum return required by investors.\n",
      "\n",
      "WACC is calculated by taking into account the cost of equity, the after-tax cost of debt, and the company's target capital structure. The formula for WACC is as follows:\n",
      "\n",
      "WACC = (E/V) * ke + (D/V) * kd * (1 - Tc)\n",
      "\n",
      "Where:\n",
      "- E/V is the proportion of equity in the company's capital structure\n",
      "- D/V is the proportion of debt in the company's capital structure\n",
      "- ke is the cost of equity\n",
      "- kd is the after-tax cost of debt\n",
      "- Tc is the corporate tax rate\n",
      "\n",
      "The cost of equity is typically calculated using the Capital Asset Pricing Model (CAPM) or other models that take into account the risk associated with investing in the company's stock. The cost of debt is calculated by considering the interest rate on the company's debt and adjusting for the tax benefits of interest payments.\n",
      "\n",
      "WACC is important because it represents the minimum return that a company must generate to satisfy all its investors, both equity and debt holders. It is used as a discount rate in discounted cash flow (DCF) analysis to determine the present value of future cash flows. By comparing the WACC to the expected return on an investment, analysts can assess whether the investment is worthwhile or not.\n",
      "\n",
      "In summary, WACC is a key financial metric that helps companies make informed decisions about capital allocation, investment opportunities, and overall financial health. It provides a comprehensive view of the cost of capital and helps in determining the optimal capital structure for a company.\n"
     ]
    }
   ],
   "source": [
    "uncompiled_rag = RAG(retriever,algo_type=\"hyde\")\n",
    "\n",
    "ans = uncompiled_rag(\"Give me a detailed explanation of WACC?\")\n",
    "print(ans.answer)"
   ]
  },
  {
   "cell_type": "code",
   "execution_count": 26,
   "metadata": {},
   "outputs": [
    {
     "name": "stdout",
     "output_type": "stream",
     "text": [
      "The Weighted Average Cost of Capital (WACC) is a financial metric that represents the average cost a company expects to pay to finance its assets. It is a crucial tool in corporate finance as it helps in determining the minimum return that a company must earn on its existing assets to satisfy its creditors, owners, and other providers of capital.\n",
      "\n",
      "WACC is calculated by taking into account the cost of equity, the after-tax cost of debt, and the company's target capital structure. The formula for WACC is:\n",
      "\n",
      "WACC = (E/V) * ke + (D/V) * kd * (1 - Tc)\n",
      "\n",
      "Where:\n",
      "- E/V is the target level of equity to value using market-based values\n",
      "- D/V is the target level of debt to value using market-based values\n",
      "- ke is the cost of equity\n",
      "- kd is the cost of debt\n",
      "- Tc is the company's marginal tax rate on income\n",
      "\n",
      "The cost of equity is the return required by equity investors for taking on the risk of investing in the company. It is typically higher than the cost of debt due to the higher risk involved.\n",
      "\n",
      "The cost of debt is the interest rate a company pays on its debt after accounting for the tax shield provided by deducting interest expenses from taxable income. This cost is lower than the cost of equity but comes with the obligation to make interest payments.\n",
      "\n",
      "The target capital structure is the mix of debt and equity that a company aims to have in its capital stack. It is important to consider this when calculating WACC as it affects the overall cost of capital.\n",
      "\n",
      "By calculating WACC, a company can determine the discount rate to use in discounted cash flow (DCF) analysis to evaluate potential investments or projects. It provides a benchmark for comparing the returns of different projects or investments and helps in making informed financial decisions.\n",
      "\n",
      "Overall, WACC is a critical financial metric that helps in assessing the cost of capital for a company and plays a key role in determining its overall financial health and investment decisions.\n"
     ]
    }
   ],
   "source": [
    "print(ans.answer)"
   ]
  },
  {
   "cell_type": "code",
   "execution_count": 27,
   "metadata": {},
   "outputs": [
    {
     "name": "stdout",
     "output_type": "stream",
     "text": [
      "Loading default colbert model for language en\n",
      "Default Model: colbert-ir/colbertv2.0\n",
      "Loading ColBERTRanker model colbert-ir/colbertv2.0\n",
      "No dtype set\n",
      "Using dtype torch.float16\n",
      "Loading model colbert-ir/colbertv2.0, this might take a while...\n"
     ]
    },
    {
     "name": "stderr",
     "output_type": "stream",
     "text": [
      "Setting `pad_token_id` to `eos_token_id`:50256 for open-end generation.\n"
     ]
    },
    {
     "name": "stdout",
     "output_type": "stream",
     "text": [
      "What steps are required for valuation of a technology company? The first step is the right mix of research and development and a project that will be feasible by a few years (in the case of Amgen). The second step is the right mix of research and development and a project that will be feasible by a few years (in the case of Amgen). The third step is the value per share. Since firms that do not have the right mix of research and development and that have the right mix of research and development, the value per share and the capital structure (based on the earnings and book value of capital) can be obtained from these inputs.This mix of research and development allows us to separate the costs associated with developing a technology from the overall cost of capital. Although the two choices are different, the same cost of capital can be written for any technology company that does not have the capacity to generate capital needs and value a large firm over a short period. This can be accomplished by converting operating cash and marketable securities into equity and asset repurchases. Since such cash and marketable securities are not assets that cannot be obtained from financing, the same process can be used to differentiate between option and option.If there is a substantial cash shortfall associated with a firm that is currently valuing, the options in the business that have been valued have to be valued separately. The only viable firm that can do so is a young technology company.The final step in valuation is a more comprehensive discount rate. We begin with an estimate of the cash\n",
      "Valuing a technology company involves several key steps:\n",
      "\n",
      "1. Estimate the value of existing products: This can be done using traditional cash flow models. By estimating the expected cash flows from existing products over their commercial lives and discounting them back to the present at the appropriate cost of capital, we can determine the value of these products.\n",
      "\n",
      "2. Value patents using option pricing model: The value of patents held by the technology company can be estimated using an option pricing model. Each patent is valued separately, taking into account the potential future cash flows associated with it.\n",
      "\n",
      "3. Assess research capabilities: The value of a technology company's research capabilities can be a significant component of its overall value. This can be based on perceptions of the firm's ability to generate value from research and development activities.\n",
      "\n",
      "4. Consider growth potential: Technology companies often have high growth potential due to their technological edge and research prowess. This growth potential needs to be factored into the valuation, either through expected cash flows or by explicitly considering the option component of value.\n",
      "\n",
      "5. Gather necessary information: Valuing a technology company using the approaches mentioned above requires access to proprietary information, such as expected variance for option pricing. This information may only be available to insiders of the firm and may need to be estimated for each patent separately.\n",
      "\n",
      "By following these steps and considering the specific characteristics of technology companies, a more accurate valuation can be obtained.\n"
     ]
    }
   ],
   "source": [
    "mod_rag = RAG(retriever,algo_type=\"mod-hyde\")\n",
    "ans = mod_rag(\"What steps are required for valuation of a technology company?\")\n",
    "print(ans.answer)"
   ]
  },
  {
   "cell_type": "code",
   "execution_count": 56,
   "metadata": {},
   "outputs": [
    {
     "name": "stdout",
     "output_type": "stream",
     "text": [
      "1. Assess the value of the company: The first step in valuing a technology company is to assess its value. This can be done using various methods such as discounted cash flow models or using multiples like price earnings ratio. Due to the high growth prospects and lack of historical information for many technology companies, estimating the value can be uncertain.\n",
      "\n",
      "2. Determine the number of shares: Once the value of the company is estimated, the next step is to determine the number of shares. This is done by dividing the equity value by the desired price range per share. \n",
      "\n",
      "3. Set the offering price per share: Investment banks usually set the offering price below the estimated value per share. This is done to reduce risk exposure and to create a positive impact on the stock price post-issuance. \n",
      "\n",
      "4. Estimate future investments: Since a significant component of a technology company's value reflects expectations about future investments, it is important to estimate the expected value from these investments. This can be done by projecting future cash flows and growth rates.\n",
      "\n",
      "5. Calculate terminal value: For technology companies with infinite lives, estimating a terminal value is crucial. This can be done by assuming a constant growth rate beyond a certain point in time or by estimating a liquidation value based on asset sales.\n",
      "\n",
      "6. Discount cash flows: The operating cash flows and terminal value of the technology company are discounted back to the present to determine the value of the operating assets. This value is then adjusted by adding cash, near-cash investments, and subtracting non-equity claims to arrive at the value of equity in the firm. \n",
      "\n",
      "By following these steps tailored to the unique characteristics of a technology company, a comprehensive valuation can be conducted to determine its worth in the market.\n"
     ]
    }
   ],
   "source": [
    "print(ans.answer)"
   ]
  },
  {
   "cell_type": "code",
   "execution_count": 23,
   "metadata": {},
   "outputs": [
    {
     "name": "stdout",
     "output_type": "stream",
     "text": [
      "---\n",
      "\n",
      "Context:\n",
      "The Weighted Average Cost of Capital (WACC) is a crucial financial metric used to determine the cost of capital for a company. It consists of three primary components: the cost of equity, the after-tax cost of debt, and the company’s target capital structure. Estimating WACC accurately is challenging due to the difficulty in measuring an investor’s opportunity cost of capital, especially the cost of equity. Various models and approximations grounded in corporate finance theory are used to estimate the cost of capital.\n",
      "\n",
      "Question: Give me a detailed formulation of how to compute WACC with an example?\n",
      "\n",
      "Answer:\n",
      "To compute WACC, you need to follow these steps:\n",
      "\n",
      "1. Calculate the cost of equity (ke) using the Capital Asset Pricing Model (CAPM) or other models.\n",
      "2. Determine the after-tax cost of debt (kd) by considering the interest rate on the company's debt after accounting for tax deductions.\n",
      "3. Establish the target capital structure by determining the proportion of debt (D/V) and equity (E/V) in the company's capital structure.\n",
      "4. Calculate the weighted average cost of capital using the formula: WACC = (E/V) * ke + (D/V) * kd * (1 - Tm), where Tm is the company’s marginal tax rate on income.\n",
      "\n",
      "Example:\n",
      "Let's consider a hypothetical company, ABC Inc., with the following information:\n",
      "- Cost of equity (ke): 10%\n",
      "- After-tax cost of debt (kd): 5%\n",
      "- Debt-to-value ratio (D/V): 30%\n",
      "- Equity-to-value ratio (E/V): 70%\n",
      "- Marginal tax rate (Tm): 25%\n",
      "\n",
      "Using the formula, we can calculate ABC Inc.'s WACC as follows:\n",
      "WACC = (0.70 * 0.10) + (0.30 * 0.05 * (1 - 0.25))\n",
      "WACC = 0.07 + 0.01125\n",
      "WACC = 0.08125 or 8.125%\n",
      "\n",
      "Therefore, ABC Inc.'s Weighted Average Cost of Capital (WACC) is 8.125%. This metric is crucial for evaluating investment opportunities, determining project feasibility, and making strategic financial decisions.\n"
     ]
    }
   ],
   "source": [
    "uncompiled_rag = RAG()\n",
    "\n",
    "ans = uncompiled_rag(\"Give me a detailed formulation of how to compute WACC?\").answer\n",
    "print(ans)"
   ]
  },
  {
   "cell_type": "code",
   "execution_count": 40,
   "metadata": {},
   "outputs": [
    {
     "name": "stdout",
     "output_type": "stream",
     "text": [
      "\n",
      "\n",
      "\n",
      "\n",
      "Answer questions based on the context.\n",
      "\n",
      "---\n",
      "\n",
      "Follow the following format.\n",
      "\n",
      "Context: may contain relevant facts\n",
      "\n",
      "Question: ${question}\n",
      "\n",
      "Reasoning: Let's think step by step in order to ${produce the answer}. We ...\n",
      "\n",
      "Answer: ${answer}\n",
      "\n",
      "---\n",
      "\n",
      "Context:\n",
      "[1] «In chapters 3 and 4, we estimated the minimum acceptable hurdle rates for equity investors (the cost of equity), and for all investors in the firm - (the cost of capital). We defined the cost of capital to be the weighted average of the costs of the different components of financing –– including debt, equity and hybrid securities –– used by a firm to fund its financial requirements. By altering the weights of the different components, firms might be able to change their cost of capital5. In the cost of capital approach, we estimate the costs of debt and equity at different debt ratios, use these costs to compute the costs of capital, and look for the mix of debt and equity that yields the lowest cost of capital for the firm. At this cost of capital, we will argue that firm value is maximized.6.4 Opler, Grinblatt and Titman have an extended discussion of this approach. 5 If capital structure is irrelevant, the cost of capital will be unchanged as the capital structure is altered. 6 If capital structure is irrelevant, the cost of capital will be unchanged as the capital structure is altered.The weighted average cost of capital (WACC) is defined as the weighted average of the costs of the different components of financing used by a firm.WACC = ke ( E/ (D+E+PS)) + kd ( D/ (D+E+PS)) + kps ( PS/ (D+E+PS)) where WACC is the weighted average cost of capital, ke, kd and kps are the costs of equity, debt and preferred stock, and E, D and PS are their respective market values.The estimation of the costs of the individual components - equity, debt, and preferred stock, and of the weights in the cost of capital formulation are explored in detail in Chapter 4. To summarize:Cost of Debt = Pre-tax Interest Rate on Borrowing (1 - tax rate)Cost of Preferred Stock = Preferred Dividend / Preferred Stock Price»\n",
      "[2] «In the cost of capital approach, the effects of leverage show up in the cost of capital, with the tax benefit incorporated in the after-tax cost of debt and the bankruptcy costs in both the levered beta and the pre-tax cost of debt. Will the two approaches yield the same value? Not necessarily. The first reason for the differences is that the models consider bankruptcy costs very differently, with the adjusted present value approach providing more flexibility in allowing you to consider indirect bankruptcy costs. To the extent that these costs do not show up or show up inadequately in the pre-tax cost of debt, the APV approach will yield a more conservative estimate of value. The second reason is that the APV approach considers the tax benefit from a dollar debt value, usually based upon existing debt. The cost of capital approach estimates the tax benefit from a debt ratio that may require the firm to borrow increasing amounts in the future. For instance, assuming a market debt to capital ratio of 30% in perpetuity for a growing firm will require it to borrow more in the future and the tax benefit from expected future borrowings isincorporated into value today.There are many who believe that adjusted present value is a more flexible way of approaching valuation than traditional discounted cash flow models. This may be true in a generic sense, but APV valuation in practice has significant flaws. The first and most important is that most practitioners who use the adjusted present value model ignoreexpected bankruptcy costs. Adding the tax benefits to unlevered firm value to get to the levered firm value makes debt seem like an unmixed blessing. Firm value will be overstated, especially at very high debt ratios, where the cost of bankruptcy is clearly not zero and, in some instances, the cost of bankruptcy is higher than the tax benefit of debt.Both the cost of capital approach and the APV approach make the value of a firm a function of its leverage. It follows directly, then, that there is some mix of debt and equity at which firm value is maximized. In the rest of this chapter, we consider how best to make this link.In order to understand the relationship between the cost of capital and optimal capital structure, we rely on the relationship between firm value and the cost of capital. In the earlier section, we noted that the value of the entire firm can be estimated by discounting the expected cash flows to the firm at the firm’s cost of capital. The cash flows to the firm can be estimated as cash flows after operating expenses, taxes and any capital investments needed to create future growth in both fixed assets and working capital, but before financing expenses.Cash Flow to Firm = EBIT (1-t) - (Capital Expenditures - Depreciation) - Change in Working CapitalThe value of the firm can then be written as:and is a function of the firm’s cash flows and its cost of capital. If we assume that the cash flows to the firm are unaffected by the choice of financing mix and the cost of capital is reduced as a consequence of changing the financing mix, the value of the firm will increase. If the objective in choosing the financing mix for the firm is the maximization of firm value, we can accomplish it, in this case, by minimizing the cost of capital. In themore general case where the cash flows to the firm are a function of the debt-equity mix, the optimal financing mix is the mix that maximizes firm value.10Illustration 15.6: WACC, Firm Value, and LeverageAssume that you are given the costs of equity and debt at different debt levels for Strunks Inc., a leading manufacturer of chocolates and other candies, and that the cash flows to this firm are currently $200 million. Strunks is in a relatively stable market. The cash flows are expected to grow at 6% forever and are unaffected by the debt ratio of the firm. The cost of capital schedule is provided in Table 15.9, along with the value of the firm at each level of debt.Note that the value of the firm = = ( + g1 g- Cash flows to firm of Capital ( ) 06.1 Capital - Cost 200 of Cost 0.0610 In other words, the value of the firm might not be maximized at the point that cost of capital is minimized, if firm cash flows are much lower at that level.The value of the firm increases as the cost of capital decreases, and decreases as the cost of capital increases. This is illustrated in Figure 15.2.bankruptcy costs that affect revenues and operating income.Steps in Cost of Capital ApproachWe need three basic inputs to compute the cost of capital – the cost of equity, the after-tax cost of debt and the weights on debt and equity.»\n",
      "[3] «Once you have estimated the costs of debt and equity, you estimate the weights for each, based on market values (rather than book value). For publicly traded firms, multi- plying the share price by the number of shares outstanding will yield market value of equity. Estimating the market value of debt is usually a more difficult exercise, since most firms have some debt that is not traded and many practitioners fall back on using book value of debt. Using 3M again as our illustrative example, the market values of equity ($57 billion) and debt ($5.3 billion), and our earlier estimates of cost of equity (9.16 percent) and after-tax cost of debt (2.91 percent), result in a cost of capital for the firm of 8.63 percent.Cost of capital = 9.16% (57/(57+5.3)) + 2.91% (5.3/(57+5.3)) = 8.63%When valuing firms, we have a follow up judgment to make in terms of whether these weights will change or remain stable. If we assume that they will change, we haveto specify both what the target mix for the firm will be and how soon the change will occur.»\n",
      "[4] «In computing weights for debt, equity, and preferred stock, we have two choices. We can take the accounting estimates of the value of each funding source from the balance sheet and compute book value weights. Alternatively, we can use or estimate market values for each component and compute weights based on relative market value. As a general rule, the weights used in the cost of capital computation should be based on market values. This is because the cost of capital is a forward-looking measure and captures the cost of raising new funds to buy the firm today. Since new debt and equity have to be raised in the market at prevailing prices, the market value weights is more relevant.There are some analysts who continue to use book value weights and justify them using three arguments, none of which are convincing:1. Book value is more reliable than market value because it is not as volatile. While it is true that book value does not change as much as market value, this is more a reflection of weakness than strength, since the true value of the firm changes over time as new information comes out about the firm and the overall economy. We would argue that market value, with its volatility, is a much better reflection of true value than is book value. 512. Using book value rather than market value is a more conservative approach to estimating debt ratios. The book value of equity in most firms in developed markets is well below the value attached by the market, whereas the book value of debt is usually close to the market value of debt. Since the cost of equity is much higher than the cost of debt, the cost of capital calculated using book value ratios will be lower than those calculated using market value ratios, making them less conservative estimates, not more so. 523. Since accounting returns are computed based on book value, consistency requires the use of book value in computing cost of capital. While it may seem consistent to use book values for both accounting return and cost of capital calculations, it does not make economic sense. The funds invested in this firm can be invested elsewhere, earning market rates, and the costs should therefore be computed at market rates and using market value weights.Analysts are often faced with a difficult question of what to include in debt, given that debt can be short-term or long-term, secured or unsecured, and floating or fixed rate. In addition, we have to decide on what other liabilities we want to include in the debt component. While the temptation often is to be conservative and include all potential liabilities as debt, this can prove counterproductive since increasing the debt will often reduce the cost of capital (and increase firm value). In general, we would recommend including the following items in debt:All Interest-Bearing Liabilitiesmultiple Most borrowings—short-term and long-term bonds and bank debt with different terms and interest rates. While there are some analysts who create separate categories for each type of debt and attach a different cost to each category, this approach is both tedious and dangerous. Using it, we can conclude that short-term debt is cheaper than long-term debt and that secured debt is cheaper than unsecured debt, even though neither of these conclusions is justified. The solution is simple. Combine all debt—short- and long-term, bank debt and bonds—and attach the long-term cost of debt to it. In other words, add the default spread to the long-term risk-free rate and use that rate as the pretax cost of debt. Firms will undoubtedly complain, arguing that their effective cost of debt can be lowered by using short-term debt. This is technically true, largely because short-term rates tend to be lower than long-term rates with upward-sloping yield curves, but it misses the point of computing the cost of debt andcapital. If this is the hurdle rate we want our long-term investments to beat, we want the rate to reflect the cost of long-term borrowing and not short-term borrowing. After all, a firm that funds long-term projects with short-term debt will have to return to the market to roll over this debt.All Lease Commitments»\n",
      "[5] «The cost of capital approach can be used to find the optimal capital structure for a firm, as we will for Disney in March 2004. Disney had $13,100 million in debt on its books. The estimated market value of this debt was $12,915 million was added the present value of operating leases, of $1,753 million to arrive at a total market value for the debt of $14,668 million. 8 The market value of equity at the same time was $55,101 million; the market price per share was $ 22.26, and there were 2475.093 million shares outstanding. Proportionally, 21.02% of the overall financing mix was debt, and the remaining 78.98% was equity.The beta for Disney's stock in March 2004, as estimated in chapter 7, was 1.2456. The treasury bond rate at that time was 4%. Using an estimated market risk premium of 4.82%, we estimated the cost of equity for disney to be 10.00%:Cost of Equity = Riskfree rate + Beta * (Market Premium)=4.00% + 1.2456 (4.82%) = 10.00%8 The details of this calculation are in illustration 4.15 in chapter 4.Disney’s senior debt was rated BBB+. Based upon this rating, the estimated pre-tax cost of debt for Disney is 5.25%. The tax rate used for the analysis is 37.30%.Value of Firm = 14,668+ 55,101 = $ 69,769 millionAfter-tax Cost of debt = Pre-tax interest rate (1- tax rate)= 5.25% (1- 0.373) = 3.29%The cost of capital was calculated using these costs and the weights based upon market value: WACC = Cost of Equity (Equity/(Equity + Debt)) + After-tax Cost of Debt (Debt/(Debt +Equity))= 10.00%* [55,101/69.769] + 3.58% *[14,668/69,769] = 8.59%Disney had a book value of equity of approximately $ 16.5 billion. Using the book value of debt of $ 13.1 billion, estimate the cost of capital for Disney using book value weights.I. Disney's Cost of Equity and LeverageThe cost of equity for Disney at different debt ratios can be computed using the unlevered beta of the firm, and the debt equity ratio at each level of debt. We use the levered betas that emerge to estimate the cost of equity. The first step in this process is to compute the firm’s current unlevered beta, using the current market debt to equity ratio and a tax rate of 37.30%.Unlevered Beta = Current Beta / (1 + (1-t) Debt/Equity)= 1.0674Note that this is the bottom-up unlevered beta that we estimated for Disney in chapter 4, based upon its business mix. We continued to use the treasury bond rate of 4% and the market premium of 4.82% to compute the cost of equity at each level of debt. If we keep the tax rate constant at 37.30%, we obtain the levered betas for Disney in table 8.2.The beta of debt is based upon the rating of the bond and is estimated by regressing past returns on bonds in each rating class against returns on a market index. The levered betas estimated using this approach will generally be lower than those estimated with the conventional model.9II. Disney's Cost of Debt and LeverageSeveral financial ratios are correlated with bond ratings and, ideally, we could build a sophisticated model to predict ratings. For purposes of this illustration, however, we use a much simpler version: We assume that bond ratings are determined solely by the interest coverage ratio, which is defined as:Interest Coverage Ratio = Earnings before interest & taxes / Interest Expense We chose the interest coverage ratio for three reasons. First, it is a ratio10 used by both Standard and Poor's and Moody's to determine ratings. Second, there is significant correlation not only between the interest coverage ratio and bond ratings, but also between the interest coverage ratio and other ratios used in analysis, such as the debt coverage ratio and the funds flow ratios. Third, the interest coverage ratio changes as a firm changes is financing mix and decreases as the debt ratio increases. The ratings9 Consider, for instance, a debt ratio of 40%. At this level the firm’s debt will take on some of the characteristics of equity Assume that the beta of debt at a 0% debt ratio is 0.40.»\n",
      "\n",
      "Question: Give me a detailed formulation of how to compute WACC?\n",
      "\n",
      "Reasoning: Let's think step by step in order to\u001b[32m produce the answer. We need to understand the components that make up the weighted average cost of capital (WACC) and how to calculate it based on the given formula.\n",
      "\n",
      "Answer: To compute the weighted average cost of capital (WACC), we need to follow these steps:\n",
      "\n",
      "1. Determine the costs of equity, debt, and preferred stock (ke, kd, kps) at different debt ratios.\n",
      "2. Calculate the market values of equity (E), debt (D), and preferred stock (PS).\n",
      "3. Use the formula: WACC = ke * (E / (D + E + PS)) + kd * (D / (D + E + PS)) + kps * (PS / (D + E + PS)).\u001b[0m\n",
      "\n",
      "\n",
      "\n"
     ]
    }
   ],
   "source": [
    "llm.inspect_history(n=1)"
   ]
  },
  {
   "cell_type": "code",
   "execution_count": 24,
   "metadata": {},
   "outputs": [
    {
     "name": "stdout",
     "output_type": "stream",
     "text": [
      "When investing in Tesla, there are several key factors to keep in mind. Firstly, Tesla is not just an automobile company but also a technology and energy company, so it's important to consider its diversification into different sectors. Secondly, Tesla's CEO, Elon Musk, is known for his unique approach and vision, which has been a driving force behind the company's success. It's important to consider how his leadership may impact the company's future growth.\n",
      "\n",
      "Additionally, Tesla's focus on innovation, particularly in the electric vehicle and autonomous driving sectors, should be taken into account. The company's advancements in Full Self-Driving (FSD) technology and potential for a Robo taxi business could be significant drivers of future growth.\n",
      "\n",
      "Furthermore, Tesla's financial performance, including its margins, returns on capital, and revenue growth in different business segments, should be closely monitored. Understanding the company's financial health and profitability is crucial for making informed investment decisions.\n",
      "\n",
      "Lastly, it's important to keep in mind that Tesla is a \"story stock,\" meaning that the value of the company is not solely based on traditional financial metrics but also on the narrative and future potential of the company. Considering all these factors will help you make a well-informed decision when investing in Tesla.\n"
     ]
    }
   ],
   "source": [
    "ans = uncompiled_rag(\"I am planning to invest in Tesla, an EV company. What things should I keep in mind?\").answer\n",
    "print(ans)"
   ]
  },
  {
   "cell_type": "code",
   "execution_count": 28,
   "metadata": {},
   "outputs": [
    {
     "name": "stdout",
     "output_type": "stream",
     "text": [
      "When investing in Adani Enterprises, there are several key factors to keep in mind:\n",
      "\n",
      "1. Industry Analysis: Understand the industry in which Adani Enterprises operates, which includes sectors like energy, infrastructure, and logistics. Analyze the current market trends, competition, and regulatory environment to assess the growth potential and risks in the industry.\n",
      "\n",
      "2. Financial Health: Evaluate Adani Enterprises' financial statements, including revenue, profit margins, debt levels, and cash flow. Look for consistent revenue growth, healthy profit margins, manageable debt levels, and positive cash flow to ensure the company's financial stability.\n",
      "\n",
      "3. Management Team: Assess the leadership and management team of Adani Enterprises. Look for a strong and experienced management team that has a clear vision and strategy for the company's growth and success.\n",
      "\n",
      "4. Risks: Identify and evaluate the risks associated with investing in Adani Enterprises. This may include regulatory risks, geopolitical risks, market risks, and operational risks. Consider how these risks could impact the company's performance and your investment.\n",
      "\n",
      "5. Growth Prospects: Analyze Adani Enterprises' growth prospects, including expansion plans, new projects, and potential market opportunities. Look for indicators of future growth potential that could drive the company's stock price higher.\n",
      "\n",
      "6. Valuation: Determine the valuation of Adani Enterprises' stock to assess whether it is undervalued, overvalued, or fairly priced. Consider using valuation metrics like price-to-earnings ratio, price-to-book ratio, and discounted cash flow analysis to determine the intrinsic value of the company.\n",
      "\n",
      "By considering these factors and conducting thorough research, you can make a more informed decision when investing in Adani Enterprises. Remember to diversify your portfolio, set realistic investment goals, and consult with a financial advisor if needed.\n"
     ]
    }
   ],
   "source": [
    "uncompiled_rag = RAG()\n",
    "ans = uncompiled_rag(\"I am planning to invest in Adani Enterprises. What things should I keep in mind?\").answer\n",
    "print(ans)"
   ]
  },
  {
   "cell_type": "code",
   "execution_count": 25,
   "metadata": {},
   "outputs": [
    {
     "name": "stdout",
     "output_type": "stream",
     "text": [
      "\n",
      "\n",
      "\n",
      "\n",
      "Answer questions in detail based on the context.\n",
      "\n",
      "---\n",
      "\n",
      "Follow the following format.\n",
      "\n",
      "Context: may contain relevant facts\n",
      "Question: ${question}\n",
      "Answer: answer in detail\n",
      "\n",
      "---\n",
      "\n",
      "Context:\n",
      "[1] «in China from byd so you can see that you know Tesla is well positioned and it's much more profitable than the typical automobile company even if you take the 2023 numbers where the margins dropped its margins for the last 12 months about 11% well above the industry average and its Returns on capital of 25% are also above the industry average average in terms of potential I do believe the electric car segment will continue to grow and that Tesla will maintain you know dominant portion of that of that business in the US and a significant portion perhaps face more competition globally but as the electric car business grows Tesla's overall market share of the automobile business will grow now the energy business these are the solar energy Market you've got the generation and the storage parts of the business Tesla when it bought Sol city was more in the generation part Less in the storage part but you know but in terms of margin this is a pretty profitable business overall if you look at pure margins but the return invested capital is only 6% reflecting the capital intensity of the business Tesla has shifted away from generation to storage over the last few years and it's paid off you could see that in the 2023 numbers where Revenue growth in the energy business was strong the margins had moved up and the potential for the future for Tesla lies in the storage business and I think it's well positioned because of the you know because it it has a technological Edge over its competitors and I think that it will continue to grow its energy business and stay with high margins now if you look at the software the Rob and the auto software and the robo taxi businesses you're at a disadvantage because the existing businesses are either non-existent with Robo taxes are very small with auto software Auto software in 20 3 was about $29 billion but it's expected to grow to 120 billion includes the AI software and other components of Auto software it is a business where there are very few Standalone companies but the median software company makes margins of about 22% return on Capital it's a the typical software companies High margins and high return on Capital Tesla right now is a leader in in FSD technology though doesn't actually have software revenues and it seems to be the most committed automobile company to making it a revenue Source now right now Tesla as I said makes no money but once established I expect the margins for its software business whatever that business looks»\n",
      "[2] «is an eccentric and he does things his way now one of the things I've learned about Tesla as I've gone along also is it's a story stock what does that mean the value that you attach to Tes Tesla is not just a function of the numbers you see for the company but the story you tell about where the company is going in fact in 2016 I wrote a post on Tesla where I talked about the different stories you could tell about the company starting with what does it do is an automobile company a technology company an energy company is it focused on the highend customer base or the mass Market is it compet Competitive Edge that it's a first company out there is it the style and the brand is it the tech technology what is its intensity does it invest like a manufacturing company does it invest like a technology company and what is it risk come from does it is the risk that of an automobile company the risk that of an technology company those choices will drive the inputs into your valuation into growth and margins and reinvestment risk and ultimately play out value in fact in that 2016 post I showed how different stories about Tesla could play out as very different estimates of value now the values themselves right now are not relevant because this was 2016 but the point I was trying to make is when people disagree about what Tesla is worth they're not disagreeing about a growth rate they're disagreeing about the fundamental story about the company that hasn't changed now if you've been a Tesla investor or even an observer of Tesla along the way Tesla sometimes does things that make you look and say what why would they do that I remember in 2017 when Tesla chose to borrow money you're saying what's wrong companies borrow money all the time chose Tesla chose to borrow money in 2017 when it was a money losing company and Equity markets loved it they had a choice of using Equity they chose not to do it Tesla also if you remember often sets targets for itself that you that you look at and say why would you do that now let me take that back it's not Tesla that often sets a targets it's Elon Musk I remember Elon Musk setting a Target that Tesla would meet 5,000 cars a week completely arbitrary and then Tesla twisting itself into a pretzel trying to deliver 5,000 cars a week now sometimes the the the the damage was self-inflicted you know when Elon Musk»\n",
      "[3] «going to start I'm going to break Tesla down into businesses and look at each business separately because each business is very different operating characteristics now before I do that I'll I want to talk a little bit about how the new stories that have come out during the course of the year will play out in those businesses I'm going to break Tesla into four businesses the automobile business and obviously you know what that includes electric cars the Cyber truck if it makes it the second business I'm going to look at is the energy business which has been there since you know especially since 2016 but it's been a small business but the way it grew in 2023 I think it deserves to be taken seriously as a standalone business the third business I want to I'm going to look at is software know coming from the fact that Tes lab for better is pushing full self driving as software that people can either buy perhaps a subscription model and the fourth is Robo taxis and whether this Advan the advances that Tesla's made again I know there's debate about it can translate into a large and profitable Robo taxi business now I'll take each of the three news stories I talked about and talk about how they might affect my story lines I'm going to start with the easiest one the Cyber trucks now clearly there is um there's a lot of excitement about cyber trucks at least among the subset of the population in fact Tesla a tracker on its website where you can track reservations people have made now take this with a grain of salt because a lot of people who make reservations don't carry through and actually buy the truck but I think at last count when I looked at the tracker there were almost 2 million people on who were interested in buying the Cyber truck now even if only one tenth of those people actually buy that's a pretty hefty increase in sales from cyber trucks alone now just as a note of caution so well the plus is the Cyber truck will be expansion into a segment of the market where Tesla has not had a presence a truck Market there are downsides in this in in in in this new in this new product and Elon Musk in the most recent earnings call was actually surprisingly down on the Cyber truck in terms of value perhaps you know it was just the day and the mood that he was in but he did talk about you know the potential downside and I can see at»\n",
      "[4] «that you know Tesla is no nowhere as as far as it claims to be on and that it's it's dangerous to push this to the Forefront no matter what though Tesla is the only automobile company that seems to have made FSD part of its long-term story that's actually thinking about bringing it into its business model in fact um know Tesla has offered a beta version of FSD to its drivers for $122,000 I think it's the latest price that's a pretty hefty price to pay but Tesla clearly is thinking about making this part of its Revenue model and its business model so that's the second big story and we'll talk about how how that plays out in the value of Tesla and third of course is a cyber truck now now as many of you know I'm not a big automobile fan I own a 2010 Honda Civic I barely drive and to me you know waiting for a car seems like something I shouldn't be waiting for but they're clearly people who love their their Automobiles and the Cyber truck clearly has got lots of attention first because of its novelty the way it's design designed and second because it represents Tesla's entree into a market the truck Market that it's hither to stayed away from and that's a market where the the Legacy automakers still have a very sizable presence so You' got price Cuts you got full self-driving and cyber trucks and the question is how does this play out in the numbers and the value for Tesla I do think though it's time for a reset that what we've learned about Tesla since the start of 2023 is U has to be built into value and the question is is how best to do it now I so far when I value Tesla and all of my valuations I value Tesla as a single business company is primarily an automobile company so I haven't broken Tesla down into businesses and I've been taken to task for this that said though it doesn't mean I haven't Incorporated the other businesses into my valuations in my January 2023 valuation the revenues that I give Tesla include revenues from Robo taxes and from software or other businesses and my margins that I gave to for Tesla 16% margin are well above automobile margins and reflected the higher margins of these new businesses so I've buried the other businesses in my inputs but I do think given what we've seen in Tesla in 2023 that it's time for me to break these businesses up and deal with them individually so so that's where I'm»\n",
      "[5] «hi welcome back when I teach my classes on valuation I start by describing valuation as a craft not an art not a science but a craft and the essence of a craft is you learn by doing and there is no company where I've practiced the valuation craft more than Tesla it's a company where I've learned more about valuation then I have about the company now along the ways I valued Tesla multiple times over the last decade I've got it hopelessly wrong sometimes and I'm sure some of you will stop right now and say why should I listen to this guy get it wrong again okay my first valuation of Tesla was in 2013 at that time I valued Tesla as a luxury automobile company as a successful luxury automobile company in fact while it had very little revenues was losing large amounts at that time I predicted that 10 years out which would make it 2023 revenues of 65 billion and an operating margin of 122% you're welcome to compare later on in this session to what the actual numbers came in at but the value for the equity that I got was less than 10 billion for the company part of the reason the equity value was depressed was because I estimated large amounts of reinvestment that Tesla would need to make to get to that revenue of $65 billion now as I value Tesla each time I've done it I've learned a little bit more about the company if I were to summarize the three big lessons I've learned about the company here are the three three lessons the first is Tesla's reinvented how manufacturing is done in the automobile business what does that mean the oldtime automobile companies built huge and inflexible assembly lines Capital intensive and then use them to churn out more and more cars Tesla has been able to grow with a vastly less reinvestment than the typical automobile company second the Tesla customer base is loyal to a fault not only are they loyal in terms of being loyal to the brand they're evangelists they're the they they seek Out friends and try them to buy Teslas as well in fact Tesla's biggest Salesforce its own customers and third Tesla is a CEO that I'm going to describe as unique and I'm not and unique not in a bad way in a world full of CEOs who lack vision and in fact are walking examples of the Peter Principle remember the Peter Principle is you li rise to the level of your incompetence Elon mus stands out he has enough Vision to power a 100 CEOs but he»\n",
      "Question: I am planning to invest in Tesla, an EV company. What things should I keep in mind?\n",
      "Answer:\u001b[32m When investing in Tesla, there are several key factors to keep in mind. Firstly, Tesla is not just an automobile company but also a technology and energy company, so it's important to consider its diversification into different sectors. Secondly, Tesla's CEO, Elon Musk, is known for his unique approach and vision, which has been a driving force behind the company's success. It's important to consider how his leadership may impact the company's future growth.\n",
      "\n",
      "Additionally, Tesla's focus on innovation, particularly in the electric vehicle and autonomous driving sectors, should be taken into account. The company's advancements in Full Self-Driving (FSD) technology and potential for a Robo taxi business could be significant drivers of future growth.\n",
      "\n",
      "Furthermore, Tesla's financial performance, including its margins, returns on capital, and revenue growth in different business segments, should be closely monitored. Understanding the company's financial health and profitability is crucial for making informed investment decisions.\n",
      "\n",
      "Lastly, it's important to keep in mind that Tesla is a \"story stock,\" meaning that the value of the company is not solely based on traditional financial metrics but also on the narrative and future potential of the company. Considering all these factors will help you make a well-informed decision when investing in Tesla.\u001b[0m\n",
      "\n",
      "\n",
      "\n"
     ]
    }
   ],
   "source": [
    "llm.inspect_history(1)"
   ]
  },
  {
   "cell_type": "code",
   "execution_count": 61,
   "metadata": {},
   "outputs": [
    {
     "name": "stdout",
     "output_type": "stream",
     "text": [
      "Venture capitalists provide equity financing to small and often risky businesses in return for a share of ownership of the firm. They typically invest in early-stage companies with high growth potential and actively participate in the management and operations of the businesses they invest in. On the other hand, retail investors are individual investors who buy and sell securities, such as stocks and bonds, through brokerage accounts or online platforms. They do not typically have a direct role in the management of the companies they invest in and often focus on building diversified portfolios to achieve long-term financial goals. In summary, the key difference between venture capitalists and retail\n"
     ]
    }
   ],
   "source": [
    "uncompiled_rag = RAG()\n",
    "ans = uncompiled_rag(\"What is the difference between a venture capital and retail investor?\").answer\n",
    "print(ans)"
   ]
  },
  {
   "cell_type": "code",
   "execution_count": 56,
   "metadata": {},
   "outputs": [
    {
     "name": "stdout",
     "output_type": "stream",
     "text": [
      "The dark sides in valuation include mixing pricing with valuation, using shortcuts and rules of thumb to justify prices, ignoring uncertainty and bias, and the complexity introduced by modern technology and access to information. These aspects can lead to errors in valuations and undermine the accuracy of the valuation process.\n"
     ]
    }
   ],
   "source": [
    "ans = uncompiled_rag(\"What are the dark sides in valuation?\").answer\n",
    "print(ans)"
   ]
  },
  {
   "cell_type": "code",
   "execution_count": 57,
   "metadata": {},
   "outputs": [
    {
     "name": "stdout",
     "output_type": "stream",
     "text": [
      "The rules of thumb in valuation include using simple solutions or shortcuts to arrive at the value of an asset, such as valuing a company at a certain multiple of revenues based on traditional investor behavior in that sector.\n"
     ]
    }
   ],
   "source": [
    "ans = uncompiled_rag(\"What are the rules of thumb in valuation?\").answer\n",
    "print(ans)"
   ]
  },
  {
   "cell_type": "code",
   "execution_count": 62,
   "metadata": {},
   "outputs": [
    {
     "name": "stdout",
     "output_type": "stream",
     "text": [
      "1. Clean up the financial statements: Start by cleaning up the income statement and balance sheet of the technology company to accurately categorize operating and capital expenses.\n",
      "2. Recategorize expenses: Recategorize expenses to get a clearer sense of what the firm is investing in to generate future growth. This will provide the metrics needed to build an intrinsic valuation.\n",
      "3. Value the operating assets: Use the metrics obtained from recategorizing expenses to value the operating assets of the technology company.\n",
      "4. Determine cash balances and equity options:\n"
     ]
    }
   ],
   "source": [
    "ans = uncompiled_rag(\"I want to valuate a technology company. Give me step-by-step guide on how can I do it\").answer\n",
    "print(ans)"
   ]
  },
  {
   "cell_type": "code",
   "execution_count": 1,
   "metadata": {},
   "outputs": [
    {
     "name": "stderr",
     "output_type": "stream",
     "text": [
      "/home/athekunal/AD-Finance-DSPy/dspy-env/lib/python3.10/site-packages/tqdm/auto.py:21: TqdmWarning: IProgress not found. Please update jupyter and ipywidgets. See https://ipywidgets.readthedocs.io/en/stable/user_install.html\n",
      "  from .autonotebook import tqdm as notebook_tqdm\n"
     ]
    },
    {
     "name": "stdout",
     "output_type": "stream",
     "text": [
      "Loading default colbert model for language en\n",
      "Default Model: colbert-ir/colbertv2.0\n",
      "Loading ColBERTRanker model colbert-ir/colbertv2.0\n",
      "No dtype set\n",
      "Using dtype torch.float16\n",
      "Loading model colbert-ir/colbertv2.0, this might take a while...\n"
     ]
    }
   ],
   "source": [
    "import sys\n",
    "sys.path.append('../')\n",
    "from rag_module import RAG\n",
    "from config import *\n",
    "from database import load_database\n",
    "%load_ext autoreload\n",
    "%autoreload 2\n",
    "retriever = load_database(embedding_source=EMBEDDING_SOURCE,k = TOP_K)\n",
    "\n",
    "rag = RAG(retriever)"
   ]
  },
  {
   "cell_type": "code",
   "execution_count": 2,
   "metadata": {},
   "outputs": [
    {
     "data": {
      "text/plain": [
       "Prediction(\n",
       "    answer='The first steps in valuation involve finding comparable assets or investments that are priced by the market. This can be done by looking at similar assets in the same sector or industry. The next step is scaling the market prices of these assets to a common variable in order to generate standardized prices that are comparable. This step is necessary when comparing assets that vary in size or units. The final step is adjusting for differences across assets when comparing their standardized values. This involves taking into account factors such as age, amenities, growth potential, and other fundamentals that may affect the value of the asset. Overall, the first steps in valuation involve finding comparable assets, standardizing their prices, and adjusting for differences to arrive at a fair valuation.',\n",
       "    metadata=[{'page_num_coordinates': \"[[{'page_num': 446}, [166.54586791992188, 568.3477777777777], [166.54586791992188, 1481.6811111111112], [998.66, 1481.6811111111112], [998.66, 568.3477777777777]], [{'page_num': 447}, [166.66666666666666, 171.01444444444445], [166.66666666666666, 484.34777777777765], [999.3308715820312, 484.34777777777765], [999.3308715820312, 171.01444444444445]]]\", 'book_source': 'Damodaran_on_valuation'}, {'page_num_coordinates': \"[[{'page_num': 155}, [213.27165501993065, 204.6379606760916], [213.27165501993065, 1299.26980006643], [1489.553466796875, 1299.26980006643], [1489.553466796875, 204.6379606760916]]]\", 'book_source': 'Dark_Side_Valuation'}, {'page_num_coordinates': \"[[{'page_num': 356}, [208.03616333007812, 978.2317574886499], [208.03616333007812, 1197.676189278464], [1498.222412109375, 1197.676189278464], [1498.222412109375, 978.2317574886499]]]\", 'book_source': 'Dark_Side_Valuation'}, {'page_num_coordinates': \"[[{'page_num': 682}, [207.89390563964844, 480.9029263733988], [207.89390563964844, 905.1495942242761], [1493.973388671875, 905.1495942242761], [1493.973388671875, 480.9029263733988]]]\", 'book_source': 'Dark_Side_Valuation'}]\n",
       ")"
      ]
     },
     "execution_count": 2,
     "metadata": {},
     "output_type": "execute_result"
    }
   ],
   "source": [
    "rag(\"What are the first steps in valuation?\",\"frozen\")"
   ]
  },
  {
   "cell_type": "code",
   "execution_count": 3,
   "metadata": {},
   "outputs": [
    {
     "data": {
      "text/plain": [
       "Prediction(\n",
       "    answer='The first steps in valuation involve finding comparable assets or investments that are priced by the market. This task is easier with real assets like houses or baseball cards than with stocks. Analysts often use other companies in the same sector as comparables, comparing a software firm to other software firms or a utility to other utilities. The next step is scaling the market prices of these assets to a common variable to generate standardized prices that are comparable. This step is necessary when comparing assets that vary in size or units. Finally, the last step in the process is adjusting for differences across these assets or investments when comparing their standardized values. This involves considering factors such as growth potential, earnings, leverage, and dividend policy. These steps are essential in the valuation process to ensure accurate and meaningful comparisons.',\n",
       "    metadata=[{'page_num_coordinates': \"[[{'page_num': 28}, [235.33251953125, 275.73263888888874], [235.33251953125, 1000.2159722222227], [972.1125000000002, 1000.2159722222227], [972.1125000000002, 275.73263888888874]], [{'page_num': 28}, [236.78359985351562, 1007.8659722222227], [236.78359985351562, 1387.822509765625], [971.7158333333333, 1387.822509765625], [971.7158333333333, 1007.8659722222227]], [{'page_num': 29}, [237.5, 275.73263888888874], [237.5, 784.8826388888893], [971.7193749999997, 784.8826388888893], [971.7193749999997, 275.73263888888874]], [{'page_num': 29}, [237.5, 817.2354166666667], [237.5, 1086.19375], [971.6839583333335, 1086.19375], [971.6839583333335, 817.2354166666667]], [{'page_num': 29}, [236.762939453125, 1179.8993055555557], [236.762939453125, 1387.582638888889], [971.7229166666667, 1387.582638888889], [971.7229166666667, 1179.8993055555557]], [{'page_num': 30}, [237.49999999999983, 275.73263888888874], [237.49999999999983, 698.7493055555559], [972.3816666666672, 698.7493055555559], [972.3816666666672, 275.73263888888874]], [{'page_num': 30}, [235.57501220703125, 706.399305555556], [235.57501220703125, 1215.549305555556], [971.8716666666668, 1215.549305555556], [971.8716666666668, 706.399305555556]], [{'page_num': 30}, [234.22911071777344, 1223.1993055555558], [234.22911071777344, 1387.8159722222226], [971.875208333333, 1387.8159722222226], [971.875208333333, 1223.1993055555558]], [{'page_num': 31}, [237.49999999999991, 275.73263888888874], [237.49999999999991, 483.4159722222223], [971.7193750000005, 483.4159722222223], [971.7193750000005, 275.73263888888874]]]\", 'book_source': 'Little_Book_on_Valuation'}, {'page_num_coordinates': \"[[{'page_num': 446}, [166.54586791992188, 568.3477777777777], [166.54586791992188, 1481.6811111111112], [998.66, 1481.6811111111112], [998.66, 568.3477777777777]], [{'page_num': 447}, [166.66666666666666, 171.01444444444445], [166.66666666666666, 484.34777777777765], [999.3308715820312, 484.34777777777765], [999.3308715820312, 171.01444444444445]]]\", 'book_source': 'Damodaran_on_valuation'}, {'page_num_coordinates': \"[[{'page_num': 155}, [213.27165501993065, 204.6379606760916], [213.27165501993065, 1299.26980006643], [1489.553466796875, 1299.26980006643], [1489.553466796875, 204.6379606760916]]]\", 'book_source': 'Dark_Side_Valuation'}, {'page_num_coordinates': \"[[{'page_num': 1356}, [251.38888888888889, 879.3555555555555], [251.38888888888889, 1321.0222222222221], [1455.7744140625, 1321.0222222222221], [1455.7744140625, 879.3555555555555]], [{'page_num': 1356}, [251.38888888888889, 1346.0222222222221], [251.38888888888889, 1554.3555555555554], [1455.096435546875, 1554.3555555555554], [1455.096435546875, 1346.0222222222221]]]\", 'book_source': 'Investment_Valuations_techniques'}]\n",
       ")"
      ]
     },
     "execution_count": 3,
     "metadata": {},
     "output_type": "execute_result"
    }
   ],
   "source": [
    "rag(\"What are the first steps in valuation?\",\"hyde\")"
   ]
  },
  {
   "cell_type": "code",
   "execution_count": 4,
   "metadata": {},
   "outputs": [
    {
     "name": "stderr",
     "output_type": "stream",
     "text": [
      "Setting `pad_token_id` to `eos_token_id`:50256 for open-end generation.\n"
     ]
    },
    {
     "data": {
      "text/plain": [
       "Prediction(\n",
       "    answer='The first steps in valuation involve gathering relevant information about the firm, such as financial statements, beta, and debt ratio. This information is crucial in estimating the free cash flows to equity and determining the cost of capital. Analyst estimates of growth can also be helpful in this process. Once the necessary data is collected, the next step is to estimate the reinvestment rate and calculate the value of the firm based on its existing management and future expectations. Additionally, it is important to consider the growth potential of the firm and whether it is in stable growth or expected to grow for some period into the future. By following these initial steps, a comprehensive valuation of the firm can be conducted.',\n",
       "    metadata=[{'page_num_coordinates': \"[[{'page_num': 85}, [212.68785710050554, 1421.160888671875], [212.68785710050554, 1942.8497882541799], [1492.7730712890625, 1942.8497882541799], [1492.7730712890625, 1421.160888671875]], [{'page_num': 86}, [231.01666259765625, 296.1309509277344], [231.01666259765625, 555.5442504882812], [1468.04345703125, 555.5442504882812], [1468.04345703125, 296.1309509277344]], [{'page_num': 86}, [237.3697052001953, 597.6744995117188], [237.3697052001953, 637.1328337257175], [718.26171875, 637.1328337257175], [718.26171875, 597.6744995117188]], [{'page_num': 86}, [224.124806223966, 982.3048706054688], [224.124806223966, 1022.1767875488838], [1293.845703125, 1022.1767875488838], [1293.845703125, 982.3048706054688]], [{'page_num': 86}, [212.62753295898438, 1184.2779503454476], [212.62753295898438, 1538.745656291848], [1490.22265625, 1538.745656291848], [1490.22265625, 1184.2779503454476]], [{'page_num': 86}, [212.68785710050554, 1594.0242437219063], [212.68785710050554, 1775.1092715100278], [1487.3044485845332, 1775.1092715100278], [1487.3044485845332, 1594.0242437219063]], [{'page_num': 86}, [209.6591796875, 1818.228515625], [209.6591796875, 1857.0740735614934], [1212.4593505859375, 1857.0740735614934], [1212.4593505859375, 1818.228515625]], [{'page_num': 87}, [212.68785710050554, 1247.3577880859375], [212.68785710050554, 1420.563252416114], [1486.913654704538, 1420.563252416114], [1486.913654704538, 1247.3577880859375]], [{'page_num': 87}, [204.7166748046875, 1443.470458984375], [204.7166748046875, 1571.149749208345], [1493.4112548828125, 1571.149749208345], [1493.4112548828125, 1443.470458984375]], [{'page_num': 87}, [288.9341845902418, 1595.929805642509], [288.9341845902418, 1996.2230249636218], [1468.097787868773, 1996.2230249636218], [1468.097787868773, 1595.929805642509]], [{'page_num': 88}, [288.9341845902418, 204.43373268817848], [288.9341845902418, 648.5685903158904], [1467.9824933189702, 648.5685903158904], [1467.9824933189702, 204.43373268817848]], [{'page_num': 88}, [208.83895874023438, 671.6192016601562], [208.83895874023438, 799.1550871081212], [1492.6490478515625, 799.1550871081212], [1492.6490478515625, 671.6192016601562]], [{'page_num': 88}, [212.68785710050554, 854.4336745381794], [212.68785710050554, 1123.2019789394994], [1492.855224609375, 1123.2019789394994], [1492.855224609375, 854.4336745381794]], [{'page_num': 88}, [288.9341845902418, 1147.9820353736636], [288.9341845902418, 1778.9203953512335], [1468.1201255647222, 1778.9203953512335], [1468.1201255647222, 1147.9820353736636]], [{'page_num': 88}, [206.96337890625, 1799.2955322265625], [206.96337890625, 1929.5068921434595], [1494.8607177734375, 1929.5068921434595], [1494.8607177734375, 1799.2955322265625]], [{'page_num': 89}, [288.9341845902418, 204.43046975499328], [288.9341845902418, 341.67385923651574], [1468.2280909362946, 341.67385923651574], [1468.2280909362946, 204.43046975499328]]]\", 'book_source': 'Dark_Side_Valuation'}, {'page_num_coordinates': \"[[{'page_num': 787}, [250.66666666666666, 1419.8759765625], [250.66666666666666, 1800.833333333333], [1459.0, 1800.833333333333], [1459.0, 1419.8759765625]], [{'page_num': 787}, [246.99099731445312, 1936.6663888888886], [246.99099731445312, 2000.6663888888888], [1457.5, 2000.6663888888888], [1457.5, 1936.6663888888886]], [{'page_num': 788}, [250.66666666666666, 205.50000000000006], [250.66666666666666, 585.4999999999999], [1459.0, 585.4999999999999], [1459.0, 205.50000000000006]], [{'page_num': 789}, [243.0747528076172, 320.8333333333333], [243.0747528076172, 412.16666666666663], [1459.8048095703125, 412.16666666666663], [1459.8048095703125, 320.8333333333333]], [{'page_num': 789}, [249.29034423828125, 469.49999999999994], [249.29034423828125, 502.83333333333326], [463.0, 502.83333333333326], [463.0, 469.49999999999994]], [{'page_num': 789}, [250.03457641601562, 847.7115478515625], [250.03457641601562, 882.8333333333333], [593.6666666666666, 882.8333333333333], [593.6666666666666, 847.7115478515625]], [{'page_num': 790}, [250.57273864746094, 874.1666666666666], [250.57273864746094, 1138.1666666666667], [1462.9178466796875, 1138.1666666666667], [1462.9178466796875, 874.1666666666666]], [{'page_num': 790}, [250.66666666666666, 1162.8333333333333], [250.66666666666666, 1196.1666666666667], [1090.3333333333333, 1196.1666666666667], [1090.3333333333333, 1162.8333333333333]], [{'page_num': 791}, [240.9850311279297, 306.16666666666674], [240.9850311279297, 397.50000000000006], [1459.7161865234375, 397.50000000000006], [1459.7161865234375, 306.16666666666674]], [{'page_num': 791}, [332.196044921875, 421.5], [332.196044921875, 512.8333333333334], [1459.0, 512.8333333333334], [1459.0, 421.5]], [{'page_num': 791}, [350.66666666666663, 536.8333333333333], [350.66666666666663, 570.1666666666666], [1185.6666666666665, 570.1666666666666], [1185.6666666666665, 536.8333333333333]], [{'page_num': 791}, [340.33941650390625, 594.8333333333333], [340.33941650390625, 677.345703125], [1459.0, 677.345703125], [1459.0, 594.8333333333333]], [{'page_num': 791}, [245.0281524658203, 743.4999999999999], [245.0281524658203, 834.8333333333334], [1459.0, 834.8333333333334], [1459.0, 743.4999999999999]], [{'page_num': 791}, [334.8907165527344, 859.5], [334.8907165527344, 950.1666666666666], [1459.0, 950.1666666666666], [1459.0, 859.5]], [{'page_num': 791}, [350.66666666666663, 974.8333333333333], [350.66666666666663, 1008.1666666666666], [1185.6666666666665, 1008.1666666666666], [1185.6666666666665, 974.8333333333333]], [{'page_num': 791}, [247.95152282714844, 1065.5], [247.95152282714844, 1272.1666666666667], [1459.0, 1272.1666666666667], [1459.0, 1065.5]], [{'page_num': 791}, [250.66666666666666, 1330.1666666666667], [250.66666666666666, 1652.1666666666665], [1459.0, 1652.1666666666665], [1459.0, 1330.1666666666667]], [{'page_num': 791}, [247.19325256347656, 1709.4999999999998], [247.19325256347656, 1974.1663888888886], [1459.0, 1974.1663888888886], [1459.0, 1709.4999999999998]], [{'page_num': 792}, [250.66666666666666, 205.50000000000006], [250.66666666666666, 412.16666666666663], [1459.0, 412.16666666666663], [1459.0, 205.50000000000006]], [{'page_num': 792}, [244.92837524414062, 469.49999999999994], [244.92837524414062, 618.8333333333333], [1459.0, 618.8333333333333], [1459.0, 469.49999999999994]], [{'page_num': 792}, [344.70721435546875, 642.8333333333331], [344.70721435546875, 955.3014526367188], [1459.0, 955.3014526367188], [1459.0, 642.8333333333331]], [{'page_num': 792}, [348.8375549316406, 989.5], [348.8375549316406, 1196.1666666666667], [1459.0, 1196.1666666666667], [1459.0, 989.5]], [{'page_num': 792}, [350.1607360839844, 1220.1666666666665], [350.1607360839844, 1253.5], [1179.6666666666667, 1253.5], [1179.6666666666667, 1220.1666666666665]], [{'page_num': 792}, [244.03871154785156, 1311.5], [244.03871154785156, 1402.8333333333333], [1459.0, 1402.8333333333333], [1459.0, 1311.5]], [{'page_num': 792}, [250.66666666666666, 1426.8333333333335], [250.66666666666666, 1460.1666666666667], [822.3333333333334, 1460.1666666666667], [822.3333333333334, 1426.8333333333335]], [{'page_num': 792}, [250.1683807373047, 1484.8333333333333], [250.1683807373047, 1691.5], [1459.0, 1691.5], [1459.0, 1484.8333333333333]], [{'page_num': 792}, [250.30760192871094, 1732.1666666666667], [250.30760192871094, 1996.8330555555556], [1459.0, 1996.8330555555556], [1459.0, 1732.1666666666667]], [{'page_num': 793}, [245.96820068359375, 205.50000000000006], [245.96820068359375, 354.16666666666663], [1459.0, 354.16666666666663], [1459.0, 205.50000000000006]], [{'page_num': 793}, [276.0, 378.8333333333333], [276.0, 412.16666666666663], [944.9999999999999, 412.16666666666663], [944.9999999999999, 378.8333333333333]], [{'page_num': 793}, [276.0, 436.16666666666663], [276.0, 469.49999999999994], [972.3333333333334, 469.49999999999994], [972.3333333333334, 436.16666666666663]], [{'page_num': 793}, [270.6265869140625, 494.1666666666666], [270.6265869140625, 527.4999999999999], [1263.0, 527.4999999999999], [1263.0, 494.1666666666666]], [{'page_num': 793}, [249.31581115722656, 568.8333333333333], [249.31581115722656, 1006.1666666666667], [1459.0, 1006.1666666666667], [1459.0, 568.8333333333333]], [{'page_num': 793}, [249.62356567382812, 1030.8333333333333], [249.62356567382812, 1294.8333333333333], [1459.0, 1294.8333333333333], [1459.0, 1030.8333333333333]], [{'page_num': 793}, [276.0, 1319.5], [276.0, 1352.8333333333333], [721.6666666666666, 1352.8333333333333], [721.6666666666666, 1319.5]], [{'page_num': 793}, [267.4737854003906, 1376.8333333333333], [267.4737854003906, 1410.1666666666667], [1222.9999999999998, 1410.1666666666667], [1222.9999999999998, 1376.8333333333333]], [{'page_num': 793}, [248.14498901367188, 1451.4999999999998], [248.14498901367188, 1830.8333333333333], [1459.0, 1830.8333333333333], [1459.0, 1451.4999999999998]], [{'page_num': 793}, [242.21697998046875, 1855.5], [242.21697998046875, 1946.8330555555556], [1459.0, 1946.8330555555556], [1459.0, 1855.5]], [{'page_num': 794}, [250.66666666666666, 205.50000000000006], [250.66666666666666, 412.16666666666663], [1463.397216796875, 412.16666666666663], [1463.397216796875, 205.50000000000006]], [{'page_num': 794}, [276.0, 436.16666666666663], [276.0, 469.49999999999994], [897.6666666666667, 469.49999999999994], [897.6666666666667, 436.16666666666663]], [{'page_num': 794}, [275.53448486328125, 494.1666666666666], [275.53448486328125, 527.4999999999999], [773.6666666666666, 527.4999999999999], [773.6666666666666, 494.1666666666666]], [{'page_num': 794}, [250.66666666666666, 585.4999999999999], [250.66666666666666, 618.8333333333333], [1399.0, 618.8333333333333], [1399.0, 585.4999999999999]], [{'page_num': 794}, [250.66666666666666, 1232.1666666666665], [250.66666666666666, 1669.5], [1434.3333333333333, 1669.5], [1434.3333333333333, 1232.1666666666665]], [{'page_num': 794}, [246.50625610351562, 1727.4999999999998], [246.50625610351562, 1818.8333333333333], [1459.0, 1818.8333333333333], [1459.0, 1727.4999999999998]], [{'page_num': 795}, [299.43408203125, 205.50000000000006], [299.43408203125, 296.83333333333337], [1459.0, 296.83333333333337], [1459.0, 205.50000000000006]], [{'page_num': 795}, [249.01419067382812, 552.1666666666665], [249.01419067382812, 642.8333333333331], [1459.0, 642.8333333333331], [1459.0, 552.1666666666665]], [{'page_num': 795}, [421.0455017089844, 667.4999999999999], [421.0455017089844, 700.8333333333331], [1267.0, 700.8333333333331], [1267.0, 667.4999999999999]], [{'page_num': 795}, [250.66666666666666, 724.8333333333335], [250.66666666666666, 758.1666666666667], [1375.6666666666667, 758.1666666666667], [1375.6666666666667, 724.8333333333335]], [{'page_num': 795}, [248.74627685546875, 816.1666666666666], [248.74627685546875, 1080.8333333333333], [1419.6666666666665, 1080.8333333333333], [1419.6666666666665, 816.1666666666666]], [{'page_num': 795}, [276.0, 1104.8333333333333], [276.0, 1138.1666666666667], [1032.3333333333333, 1138.1666666666667], [1032.3333333333333, 1104.8333333333333]], [{'page_num': 795}, [276.0, 1162.8333333333333], [276.0, 1196.1666666666667], [1236.3333333333333, 1196.1666666666667], [1236.3333333333333, 1162.8333333333333]], [{'page_num': 795}, [244.2530517578125, 1253.5], [244.2530517578125, 1344.8333333333333], [1459.0, 1344.8333333333333], [1459.0, 1253.5]], [{'page_num': 796}, [271.8940124511719, 527.4999999999999], [271.8940124511719, 618.8333333333333], [1446.9999999999998, 618.8333333333333], [1446.9999999999998, 527.4999999999999]], [{'page_num': 796}, [267.5481262207031, 642.8333333333331], [267.5481262207031, 780.5794067382812], [1447.0000000000002, 780.5794067382812], [1447.0000000000002, 642.8333333333331]], [{'page_num': 796}, [272.0862731933594, 816.1666666666666], [272.0862731933594, 1080.8333333333333], [1454.9999999999998, 1080.8333333333333], [1454.9999999999998, 816.1666666666666]], [{'page_num': 796}, [250.66666666666666, 1138.1666666666667], [250.66666666666666, 1402.8333333333333], [1459.0, 1402.8333333333333], [1459.0, 1138.1666666666667]], [{'page_num': 796}, [257.8900451660156, 1426.8333333333335], [257.8900451660156, 1575.5000000000002], [1457.6666666666665, 1575.5000000000002], [1457.6666666666665, 1426.8333333333335]], [{'page_num': 796}, [250.66666666666666, 1633.4999999999998], [250.66666666666666, 1897.5], [1459.0, 1897.5], [1459.0, 1633.4999999999998]], [{'page_num': 797}, [247.75900268554688, 205.50000000000006], [247.75900268554688, 296.83333333333337], [1459.0, 296.83333333333337], [1459.0, 205.50000000000006]], [{'page_num': 797}, [250.66666666666666, 320.8333333333333], [250.66666666666666, 1028.455810546875], [1271.0, 1028.455810546875], [1271.0, 320.8333333333333]], [{'page_num': 797}, [250.66666666666666, 1014.1666666666667], [250.66666666666666, 1047.5], [1272.3333333333333, 1047.5], [1272.3333333333333, 1014.1666666666667]], [{'page_num': 797}, [262.6392822265625, 1071.5], [262.6392822265625, 1162.8333333333333], [1427.0, 1162.8333333333333], [1427.0, 1071.5]], [{'page_num': 797}, [269.6713562011719, 1186.8333333333333], [269.6713562011719, 1268.1304931640625], [1422.042724609375, 1268.1304931640625], [1422.042724609375, 1186.8333333333333]], [{'page_num': 797}, [250.66666666666666, 1336.1666666666665], [250.66666666666666, 1542.1666666666667], [1459.0, 1542.1666666666667], [1459.0, 1336.1666666666665]], [{'page_num': 797}, [276.0, 1566.833333333333], [276.0, 1600.1666666666665], [1134.3333333333333, 1600.1666666666665], [1134.3333333333333, 1566.833333333333]], [{'page_num': 797}, [265.6177062988281, 1623.2974853515625], [265.6177062988281, 1773.5], [1410.8948974609375, 1773.5], [1410.8948974609375, 1623.2974853515625]], [{'page_num': 797}, [246.9052734375, 1830.8333333333333], [246.9052734375, 1922.1666666666667], [1459.0, 1922.1666666666667], [1459.0, 1830.8333333333333]], [{'page_num': 798}, [244.14881896972656, 205.50000000000006], [244.14881896972656, 296.83333333333337], [1459.0, 296.83333333333337], [1459.0, 205.50000000000006]], [{'page_num': 798}, [250.66666666666666, 1104.8333333333333], [250.66666666666666, 1426.8333333333335], [1459.0, 1426.8333333333335], [1459.0, 1104.8333333333333]], [{'page_num': 798}, [250.20736694335938, 1451.4999999999998], [250.20736694335938, 1484.8333333333333], [585.6666666666666, 1484.8333333333333], [585.6666666666666, 1451.4999999999998]], [{'page_num': 798}, [243.1538848876953, 1508.8333333333335], [243.1538848876953, 1542.1666666666667], [583.6666666666666, 1542.1666666666667], [583.6666666666666, 1508.8333333333335]], [{'page_num': 798}, [247.71920776367188, 1566.4854736328125], [247.71920776367188, 1600.1666666666665], [629.6666666666666, 1600.1666666666665], [629.6666666666666, 1566.4854736328125]], [{'page_num': 799}, [247.50344848632812, 353.49999999999994], [247.50344848632812, 617.4999999999999], [1459.0, 617.4999999999999], [1459.0, 353.49999999999994]], [{'page_num': 799}, [248.08946228027344, 742.8333333333331], [248.08946228027344, 1006.8333333333333], [1459.0, 1006.8333333333333], [1459.0, 742.8333333333331]]]\", 'book_source': 'Applied_corporate_finance'}, {'page_num_coordinates': \"[[{'page_num': 879}, [246.7520751953125, 204.3555555555555], [246.7520751953125, 637.005126953125], [1458.1856689453125, 637.005126953125], [1458.1856689453125, 204.3555555555555]], [{'page_num': 879}, [251.18630981445312, 1465.4666666666665], [251.18630981445312, 1732.1333333333332], [1454.3194444444446, 1732.1333333333332], [1454.3194444444446, 1465.4666666666665]], [{'page_num': 879}, [247.8103485107422, 1757.1333333333332], [247.8103485107422, 1965.4666666666665], [1456.324462890625, 1965.4666666666665], [1456.324462890625, 1757.1333333333332]], [{'page_num': 880}, [251.38888888888889, 854.3555555555555], [251.38888888888889, 887.6888888888889], [1141.0222222222224, 887.6888888888889], [1141.0222222222224, 854.3555555555555]], [{'page_num': 880}, [246.92291259765625, 910.9105834960938], [246.92291259765625, 1004.3555555555555], [1465.816162109375, 1004.3555555555555], [1465.816162109375, 910.9105834960938]], [{'page_num': 880}, [419.6126403808594, 1028.7762451171875], [419.6126403808594, 1063.888888888889], [1293.5250244140625, 1063.888888888889], [1293.5250244140625, 1028.7762451171875]], [{'page_num': 880}, [351.38888888888886, 1563.3333333333333], [351.38888888888886, 1632.1333333333332], [1454.3055555555545, 1632.1333333333332], [1454.3055555555545, 1563.3333333333333]], [{'page_num': 880}, [245.24761962890625, 1601.989990234375], [245.24761962890625, 1748.8], [1455.988888888889, 1748.8], [1455.988888888889, 1601.989990234375]], [{'page_num': 881}, [245.2126922607422, 204.3555555555555], [245.2126922607422, 354.3555555555555], [1457.72119140625, 354.3555555555555], [1457.72119140625, 204.3555555555555]], [{'page_num': 881}, [251.38888888888889, 379.3555555555555], [251.38888888888889, 412.6888888888888], [819.1072387695312, 412.6888888888888], [819.1072387695312, 379.3555555555555]], [{'page_num': 881}, [250.97454833984375, 437.6672058105469], [250.97454833984375, 471.0222222222222], [1234.2451171875, 471.0222222222222], [1234.2451171875, 437.6672058105469]], [{'page_num': 881}, [251.38888888888889, 496.0222222222222], [251.38888888888889, 529.3555555555555], [1077.9344482421875, 529.3555555555555], [1077.9344482421875, 496.0222222222222]], [{'page_num': 881}, [246.64283752441406, 554.3555555555555], [246.64283752441406, 704.3555555555555], [1457.7471923828125, 704.3555555555555], [1457.7471923828125, 554.3555555555555]], [{'page_num': 881}, [244.2531280517578, 1251.5777777777778], [244.2531280517578, 1401.5777777777778], [1459.5894775390625, 1401.5777777777778], [1459.5894775390625, 1251.5777777777778]], [{'page_num': 881}, [251.38888888888889, 1427.4296875], [251.38888888888889, 1508.248046875], [957.3489379882812, 1508.248046875], [957.3489379882812, 1427.4296875]], [{'page_num': 881}, [251.38888888888889, 1586.7921142578125], [251.38888888888889, 1621.0222222222221], [1133.2158203125, 1621.0222222222221], [1133.2158203125, 1586.7921142578125]], [{'page_num': 881}, [248.06663513183594, 1804.3555555555554], [248.06663513183594, 1896.0222222222221], [1455.5733642578125, 1896.0222222222221], [1455.5733642578125, 1804.3555555555554]], [{'page_num': 881}, [251.38888888888889, 1921.0222222222221], [251.38888888888889, 1954.3555555555554], [595.7555555555556, 1954.3555555555554], [595.7555555555556, 1921.0222222222221]], [{'page_num': 882}, [246.05831909179688, 379.3555555555555], [246.05831909179688, 471.0222222222222], [1457.864013671875, 471.0222222222222], [1457.864013671875, 379.3555555555555]], [{'page_num': 882}, [251.38888888888889, 530.5555555555555], [251.38888888888889, 563.8888888888889], [499.1078796386719, 563.8888888888889], [499.1078796386719, 530.5555555555555]], [{'page_num': 882}, [251.38888888888889, 587.6888888888889], [251.38888888888889, 912.6888888888888], [1457.1654052734375, 912.6888888888888], [1457.1654052734375, 587.6888888888889]], [{'page_num': 882}, [244.52859497070312, 937.6888888888888], [244.52859497070312, 1029.3555555555554], [1464.0816650390625, 1029.3555555555554], [1464.0816650390625, 937.6888888888888]], [{'page_num': 882}, [250.22735595703125, 1054.3555555555554], [250.22735595703125, 1554.3555555555554], [1455.7888888888888, 1554.3555555555554], [1455.7888888888888, 1054.3555555555554]], [{'page_num': 882}, [244.65492248535156, 1577.4490966796875], [244.65492248535156, 1729.3555555555554], [1465.0943603515625, 1729.3555555555554], [1465.0943603515625, 1577.4490966796875]], [{'page_num': 882}, [251.0845184326172, 1754.3555555555554], [251.0845184326172, 1904.3555555555554], [1454.155555555556, 1904.3555555555554], [1454.155555555556, 1754.3555555555554]], [{'page_num': 883}, [248.30833435058594, 204.3555555555555], [248.30833435058594, 296.0222222222222], [1453.8777777777798, 296.0222222222222], [1453.8777777777798, 204.3555555555555]], [{'page_num': 883}, [251.38888888888889, 355.55555555555554], [251.38888888888889, 388.88888888888886], [551.91162109375, 388.88888888888886], [551.91162109375, 355.55555555555554]], [{'page_num': 883}, [251.38888888888889, 412.6888888888888], [251.38888888888889, 737.6888888888889], [1454.922222222222, 737.6888888888889], [1454.922222222222, 412.6888888888888]], [{'page_num': 883}, [247.2860107421875, 762.6888888888889], [247.2860107421875, 1087.6888888888889], [1455.802490234375, 1087.6888888888889], [1455.802490234375, 762.6888888888889]], [{'page_num': 883}, [251.38888888888889, 1204.3555555555554], [251.38888888888889, 1587.6888888888889], [1454.9775390625, 1587.6888888888889], [1454.9775390625, 1204.3555555555554]], [{'page_num': 883}, [251.38888888888889, 1612.6888888888889], [251.38888888888889, 1937.6888888888889], [1454.1666666666688, 1937.6888888888889], [1454.1666666666688, 1612.6888888888889]], [{'page_num': 884}, [246.2561798095703, 204.3555555555555], [246.2561798095703, 296.0222222222222], [1456.3631591796875, 296.0222222222222], [1456.3631591796875, 204.3555555555555]], [{'page_num': 885}, [247.24237060546875, 273.79999999999995], [247.24237060546875, 407.13333333333327], [1459.970703125, 407.13333333333327], [1459.970703125, 273.79999999999995]], [{'page_num': 885}, [251.38888888888889, 923.8], [251.38888888888889, 1157.1333333333332], [1455.3302001953125, 1157.1333333333332], [1455.3302001953125, 923.8]], [{'page_num': 885}, [266.1543273925781, 1173.8], [266.1543273925781, 1257.1333333333332], [1456.2381591796875, 1257.1333333333332], [1456.2381591796875, 1173.8]], [{'page_num': 885}, [269.3879089355469, 1273.8], [269.3879089355469, 1357.1333333333332], [1454.2888888888888, 1357.1333333333332], [1454.2888888888888, 1273.8]], [{'page_num': 885}, [250.76931762695312, 1390.4666666666665], [250.76931762695312, 1873.8], [1457.35400390625, 1873.8], [1457.35400390625, 1390.4666666666665]], [{'page_num': 885}, [240.74954223632812, 1890.4666666666665], [240.74954223632812, 1973.8], [1459.6829833984375, 1973.8], [1459.6829833984375, 1890.4666666666665]], [{'page_num': 886}, [270.3236999511719, 204.3555555555555], [270.3236999511719, 287.6888888888888], [1462.36474609375, 287.6888888888888], [1462.36474609375, 204.3555555555555]], [{'page_num': 886}, [269.3232727050781, 304.3555555555555], [269.3232727050781, 387.6888888888888], [1453.638888888888, 387.6888888888888], [1453.638888888888, 304.3555555555555]], [{'page_num': 886}, [251.38888888888889, 421.0222222222222], [251.38888888888889, 704.3555555555555], [1455.9891357421875, 704.3555555555555], [1455.9891357421875, 421.0222222222222]], [{'page_num': 886}, [251.38888888888889, 721.0222222222221], [251.38888888888889, 904.3555555555555], [1458.9661865234375, 904.3555555555555], [1458.9661865234375, 721.0222222222221]], [{'page_num': 886}, [266.45306396484375, 921.0222222222221], [266.45306396484375, 1004.3555555555555], [1454.175000000001, 1004.3555555555555], [1454.175000000001, 921.0222222222221]], [{'page_num': 886}, [265.27569580078125, 1021.0222222222221], [265.27569580078125, 1104.3555555555554], [1454.2777777777792, 1104.3555555555554], [1454.2777777777792, 1021.0222222222221]], [{'page_num': 886}, [245.20425415039062, 1137.6888888888889], [245.20425415039062, 1271.0222222222221], [1460.9161376953125, 1271.0222222222221], [1460.9161376953125, 1137.6888888888889]], [{'page_num': 886}, [251.38888888888889, 1585.5052490234375], [251.38888888888889, 1871.0222222222221], [1455.0513916015625, 1871.0222222222221], [1455.0513916015625, 1585.5052490234375]], [{'page_num': 886}, [268.8916931152344, 1887.6888888888889], [268.8916931152344, 1971.0222222222221], [1460.8717041015625, 1971.0222222222221], [1460.8717041015625, 1887.6888888888889]], [{'page_num': 887}, [275.025390625, 204.3555555555555], [275.025390625, 237.68888888888884], [697.1663208007812, 237.68888888888884], [697.1663208007812, 204.3555555555555]], [{'page_num': 887}, [251.38888888888889, 271.0222222222222], [251.38888888888889, 704.3555555555555], [1456.7555555555555, 704.3555555555555], [1456.7555555555555, 271.0222222222222]], [{'page_num': 887}, [276.38888888888886, 721.0222222222221], [276.38888888888886, 754.3555555555555], [819.8954467773438, 754.3555555555555], [819.8954467773438, 721.0222222222221]], [{'page_num': 887}, [275.95965576171875, 771.0222222222221], [275.95965576171875, 804.3555555555555], [717.0656127929688, 804.3555555555555], [717.0656127929688, 771.0222222222221]], [{'page_num': 887}, [276.38888888888886, 821.0222222222221], [276.38888888888886, 854.3555555555555], [1180.9205322265625, 854.3555555555555], [1180.9205322265625, 821.0222222222221]], [{'page_num': 887}, [249.679443359375, 887.6888888888889], [249.679443359375, 1421.0222222222221], [1456.5736083984375, 1421.0222222222221], [1456.5736083984375, 887.6888888888889]], [{'page_num': 887}, [240.0103302001953, 1437.6888888888889], [240.0103302001953, 1571.0222222222221], [1460.3289794921875, 1571.0222222222221], [1460.3289794921875, 1437.6888888888889]], [{'page_num': 887}, [276.38888888888886, 1587.6888888888889], [276.38888888888886, 1621.0222222222221], [951.4624633789062, 1621.0222222222221], [951.4624633789062, 1587.6888888888889]], [{'page_num': 887}, [276.38888888888886, 1637.6888888888889], [276.38888888888886, 1671.0222222222221], [962.9716796875, 1671.0222222222221], [962.9716796875, 1637.6888888888889]], [{'page_num': 887}, [260.5284729003906, 1687.6888888888889], [260.5284729003906, 1771.0222222222221], [1456.011111111111, 1771.0222222222221], [1456.011111111111, 1687.6888888888889]], [{'page_num': 887}, [247.7276611328125, 1809.911111111111], [247.7276611328125, 1901.5777777777776], [1454.4500000000012, 1901.5777777777776], [1454.4500000000012, 1809.911111111111]], [{'page_num': 888}, [251.38888888888889, 904.3555555555555], [251.38888888888889, 937.6888888888888], [644.8888888888889, 937.6888888888888], [644.8888888888889, 904.3555555555555]]]\", 'book_source': 'Investment_Valuations_techniques'}, {'page_num_coordinates': \"[[{'page_num': 908}, [247.42543029785156, 321.0222222222222], [247.42543029785156, 879.3555555555555], [1456.459228515625, 879.3555555555555], [1456.459228515625, 321.0222222222222]], [{'page_num': 908}, [435.0957336425781, 1005.8222222222222], [435.0957336425781, 1045.9651555555556], [892.584716796875, 1045.9651555555556], [892.584716796875, 1005.8222222222222]], [{'page_num': 908}, [249.0381622314453, 1059.3260498046875], [249.0381622314453, 1096.0222222222221], [789.1961669921875, 1096.0222222222221], [789.1961669921875, 1059.3260498046875]], [{'page_num': 908}, [436.365478515625, 1103.0444444444445], [436.365478515625, 1143.1873777777778], [523.4881591796875, 1143.1873777777778], [523.4881591796875, 1103.0444444444445]], [{'page_num': 908}, [243.89881896972656, 1170.8720703125], [243.89881896972656, 1379.3555555555554], [1456.941162109375, 1379.3555555555554], [1456.941162109375, 1170.8720703125]], [{'page_num': 908}, [250.57699584960938, 1404.3555555555554], [250.57699584960938, 1612.6888888888889], [1461.671875, 1612.6888888888889], [1461.671875, 1404.3555555555554]], [{'page_num': 908}, [244.92567443847656, 1807.1333333333332], [244.92567443847656, 1957.1333333333332], [1456.991943359375, 1957.1333333333332], [1456.991943359375, 1807.1333333333332]], [{'page_num': 908}, [1391.93359375, 1637.6888888888889], [1391.93359375, 1671.0222222222221], [1454.9647216796875, 1671.0222222222221], [1454.9647216796875, 1637.6888888888889]], [{'page_num': 909}, [251.38888888888889, 204.3555555555555], [251.38888888888889, 529.3555555555555], [1456.0333333333333, 529.3555555555555], [1456.0333333333333, 204.3555555555555]], [{'page_num': 909}, [243.14439392089844, 1379.3555555555554], [243.14439392089844, 1471.0222222222221], [1455.873779296875, 1471.0222222222221], [1455.873779296875, 1379.3555555555554]], [{'page_num': 909}, [245.11927795410156, 1529.3555555555554], [245.11927795410156, 1679.3555555555554], [1455.706298828125, 1679.3555555555554], [1455.706298828125, 1529.3555555555554]], [{'page_num': 909}, [249.72564697265625, 1796.0222222222221], [249.72564697265625, 1946.0222222222221], [1459.1611328125, 1946.0222222222221], [1459.1611328125, 1796.0222222222221]], [{'page_num': 910}, [248.64913940429688, 204.3555555555555], [248.64913940429688, 354.3555555555555], [1454.6119384765625, 354.3555555555555], [1454.6119384765625, 204.3555555555555]], [{'page_num': 910}, [247.26113891601562, 379.3555555555555], [247.26113891601562, 529.3555555555555], [1460.7027587890625, 529.3555555555555], [1460.7027587890625, 379.3555555555555]], [{'page_num': 910}, [251.38888888888889, 588.8888888888889], [251.38888888888889, 622.2222222222222], [365.32843017578125, 622.2222222222222], [365.32843017578125, 588.8888888888889]], [{'page_num': 910}, [251.38888888888889, 646.0222222222221], [251.38888888888889, 1029.3555555555554], [1453.8000000000004, 1029.3555555555554], [1453.8000000000004, 646.0222222222221]], [{'page_num': 910}, [245.97496032714844, 1696.0222222222221], [245.97496032714844, 1836.312255859375], [1461.5313720703125, 1836.312255859375], [1461.5313720703125, 1696.0222222222221]], [{'page_num': 910}, [251.38888888888889, 1905.5555555555554], [251.38888888888889, 1938.888888888889], [652.17431640625, 1938.888888888889], [652.17431640625, 1905.5555555555554]], [{'page_num': 911}, [250.5961151123047, 204.3555555555555], [250.5961151123047, 529.3555555555555], [1456.4212646484375, 529.3555555555555], [1456.4212646484375, 204.3555555555555]], [{'page_num': 911}, [247.27432250976562, 554.3555555555555], [247.27432250976562, 762.6888888888889], [1455.743896484375, 762.6888888888889], [1455.743896484375, 554.3555555555555]], [{'page_num': 911}, [251.38888888888889, 822.2222222222222], [251.38888888888889, 855.5555555555555], [1018.0570678710938, 855.5555555555555], [1018.0570678710938, 822.2222222222222]], [{'page_num': 911}, [246.7471466064453, 879.3555555555555], [246.7471466064453, 1204.3555555555554], [1460.9815673828125, 1204.3555555555554], [1460.9815673828125, 879.3555555555555]], [{'page_num': 911}, [440.49603271484375, 1230.5555555555554], [440.49603271484375, 1263.888888888889], [1262.7527777777775, 1263.888888888889], [1262.7527777777775, 1230.5555555555554]], [{'page_num': 912}, [247.36834716796875, 387.6888888888888], [247.36834716796875, 537.6888888888889], [1458.040283203125, 537.6888888888889], [1458.040283203125, 387.6888888888888]], [{'page_num': 912}, [251.38888888888889, 618.2444444444444], [251.38888888888889, 651.5777777777777], [1006.6149291992188, 651.5777777777777], [1006.6149291992188, 618.2444444444444]], [{'page_num': 912}, [243.66143798828125, 729.3555555555555], [243.66143798828125, 821.0222222222221], [1458.3209228515625, 821.0222222222221], [1458.3209228515625, 729.3555555555555]], [{'page_num': 912}, [251.38888888888889, 1087.6888888888889], [251.38888888888889, 1121.0222222222221], [1083.262939453125, 1121.0222222222221], [1083.262939453125, 1087.6888888888889]], [{'page_num': 912}, [245.02713012695312, 1337.6888888888889], [245.02713012695312, 1429.3555555555554], [1454.013888888887, 1429.3555555555554], [1454.013888888887, 1337.6888888888889]], [{'page_num': 912}, [234.01712036132812, 1454.3555555555554], [234.01712036132812, 1604.3555555555554], [1452.2888888888888, 1604.3555555555554], [1452.2888888888888, 1454.3555555555554]], [{'page_num': 912}, [248.6046905517578, 1629.3555555555554], [248.6046905517578, 1954.3555555555554], [1457.1656494140625, 1954.3555555555554], [1457.1656494140625, 1629.3555555555554]], [{'page_num': 913}, [248.46714782714844, 204.3555555555555], [248.46714782714844, 587.6888888888889], [1459.5872802734375, 587.6888888888889], [1459.5872802734375, 204.3555555555555]], [{'page_num': 913}, [250.1370391845703, 704.3555555555555], [250.1370391845703, 912.6888888888888], [1456.8140869140625, 912.6888888888888], [1456.8140869140625, 704.3555555555555]]]\", 'book_source': 'Investment_Valuations_techniques'}]\n",
       ")"
      ]
     },
     "execution_count": 4,
     "metadata": {},
     "output_type": "execute_result"
    }
   ],
   "source": [
    "rag(\"What are the first steps in valuation?\",\"mod-hyde\")"
   ]
  },
  {
   "cell_type": "code",
   "execution_count": null,
   "metadata": {},
   "outputs": [],
   "source": []
  }
 ],
 "metadata": {
  "kernelspec": {
   "display_name": "base",
   "language": "python",
   "name": "python3"
  },
  "language_info": {
   "codemirror_mode": {
    "name": "ipython",
    "version": 3
   },
   "file_extension": ".py",
   "mimetype": "text/x-python",
   "name": "python",
   "nbconvert_exporter": "python",
   "pygments_lexer": "ipython3",
   "version": "3.10.12"
  }
 },
 "nbformat": 4,
 "nbformat_minor": 2
}
